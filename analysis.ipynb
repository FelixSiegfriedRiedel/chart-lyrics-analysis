{
 "cells": [
  {
   "cell_type": "markdown",
   "source": [
    "## Initial Setup"
   ],
   "metadata": {
    "collapsed": false,
    "pycharm": {
     "name": "#%% md\n"
    }
   }
  },
  {
   "cell_type": "code",
   "execution_count": 223,
   "outputs": [
    {
     "name": "stdout",
     "output_type": "stream",
     "text": [
      "input\\top100.json\n"
     ]
    }
   ],
   "source": [
    "import numpy as np # linear algebra\n",
    "import pandas as pd # data processing, CSV file I/O (e.g. pd.read_csv)\n",
    "import seaborn as sns\n",
    "import matplotlib.pyplot as plt\n",
    "import datetime\n",
    "import os\n",
    "for dirname, _, filenames in os.walk('input'):\n",
    "    for filename in filenames:\n",
    "        print(os.path.join(dirname, filename))"
   ],
   "metadata": {
    "collapsed": false,
    "pycharm": {
     "name": "#%%\n"
    }
   }
  },
  {
   "cell_type": "code",
   "source": [
    "df = pd.read_json('input/top100.json')\n",
    "df.head()"
   ],
   "metadata": {
    "collapsed": false,
    "pycharm": {
     "name": "#%%\n"
    }
   },
   "execution_count": 224,
   "outputs": [
    {
     "data": {
      "text/plain": "   id  rank        artist                               song rank_last_week  \\\n0   1     1  Mariah Carey    All I Want For Christmas Is You    1 Last Week   \n1   2     2    Brenda Lee  Rockin' Around The Christmas Tree    2 Last Week   \n2   3     3   Bobby Helms                   Jingle Bell Rock    9 Last Week   \n3   4     4     Burl Ives            A Holly Jolly Christmas    6 Last Week   \n4   5     5   Post Malone                            Circles    3 Last Week   \n\n     peak_rank     weeks_on_chart       date  \n0  1 Peak Rank  37 Weeks on Chart 2020-01-04  \n1  2 Peak Rank  32 Weeks on Chart 2020-01-04  \n2  3 Peak Rank  30 Weeks on Chart 2020-01-04  \n3  4 Peak Rank  15 Weeks on Chart 2020-01-04  \n4  1 Peak Rank  17 Weeks on Chart 2020-01-04  ",
      "text/html": "<div>\n<style scoped>\n    .dataframe tbody tr th:only-of-type {\n        vertical-align: middle;\n    }\n\n    .dataframe tbody tr th {\n        vertical-align: top;\n    }\n\n    .dataframe thead th {\n        text-align: right;\n    }\n</style>\n<table border=\"1\" class=\"dataframe\">\n  <thead>\n    <tr style=\"text-align: right;\">\n      <th></th>\n      <th>id</th>\n      <th>rank</th>\n      <th>artist</th>\n      <th>song</th>\n      <th>rank_last_week</th>\n      <th>peak_rank</th>\n      <th>weeks_on_chart</th>\n      <th>date</th>\n    </tr>\n  </thead>\n  <tbody>\n    <tr>\n      <th>0</th>\n      <td>1</td>\n      <td>1</td>\n      <td>Mariah Carey</td>\n      <td>All I Want For Christmas Is You</td>\n      <td>1 Last Week</td>\n      <td>1 Peak Rank</td>\n      <td>37 Weeks on Chart</td>\n      <td>2020-01-04</td>\n    </tr>\n    <tr>\n      <th>1</th>\n      <td>2</td>\n      <td>2</td>\n      <td>Brenda Lee</td>\n      <td>Rockin' Around The Christmas Tree</td>\n      <td>2 Last Week</td>\n      <td>2 Peak Rank</td>\n      <td>32 Weeks on Chart</td>\n      <td>2020-01-04</td>\n    </tr>\n    <tr>\n      <th>2</th>\n      <td>3</td>\n      <td>3</td>\n      <td>Bobby Helms</td>\n      <td>Jingle Bell Rock</td>\n      <td>9 Last Week</td>\n      <td>3 Peak Rank</td>\n      <td>30 Weeks on Chart</td>\n      <td>2020-01-04</td>\n    </tr>\n    <tr>\n      <th>3</th>\n      <td>4</td>\n      <td>4</td>\n      <td>Burl Ives</td>\n      <td>A Holly Jolly Christmas</td>\n      <td>6 Last Week</td>\n      <td>4 Peak Rank</td>\n      <td>15 Weeks on Chart</td>\n      <td>2020-01-04</td>\n    </tr>\n    <tr>\n      <th>4</th>\n      <td>5</td>\n      <td>5</td>\n      <td>Post Malone</td>\n      <td>Circles</td>\n      <td>3 Last Week</td>\n      <td>1 Peak Rank</td>\n      <td>17 Weeks on Chart</td>\n      <td>2020-01-04</td>\n    </tr>\n  </tbody>\n</table>\n</div>"
     },
     "execution_count": 224,
     "metadata": {},
     "output_type": "execute_result"
    }
   ]
  },
  {
   "cell_type": "code",
   "execution_count": 225,
   "outputs": [
    {
     "data": {
      "text/plain": "False"
     },
     "execution_count": 225,
     "metadata": {},
     "output_type": "execute_result"
    }
   ],
   "source": [
    "len(df.loc[df['rank_last_week'] == df['weeks_on_chart']]) == len(df)\n"
   ],
   "metadata": {
    "collapsed": false,
    "pycharm": {
     "name": "#%%\n"
    }
   }
  },
  {
   "cell_type": "code",
   "source": [
    "df['rank_last_week'] = df['rank_last_week'].apply(lambda rank_last_week: rank_last_week[:-10])\n",
    "df['peak_rank'] = df['peak_rank'].apply(lambda peak_rank: peak_rank[:-10])\n",
    "df['weeks_on_chart'] = df['weeks_on_chart'].apply(lambda weeks_on_chart: weeks_on_chart[:-15])"
   ],
   "metadata": {
    "collapsed": false,
    "pycharm": {
     "name": "#%%\n"
    }
   },
   "execution_count": 226,
   "outputs": []
  },
  {
   "cell_type": "code",
   "source": [
    "df['date'].dtype"
   ],
   "metadata": {
    "collapsed": false,
    "pycharm": {
     "name": "#%%\n"
    }
   },
   "execution_count": 227,
   "outputs": [
    {
     "data": {
      "text/plain": "dtype('<M8[ns]')"
     },
     "execution_count": 227,
     "metadata": {},
     "output_type": "execute_result"
    }
   ]
  },
  {
   "cell_type": "code",
   "execution_count": 228,
   "outputs": [
    {
     "data": {
      "text/plain": "451"
     },
     "execution_count": 228,
     "metadata": {},
     "output_type": "execute_result"
    }
   ],
   "source": [
    "unique_artists = df['artist'].unique()\n",
    "len(unique_artists)\n"
   ],
   "metadata": {
    "collapsed": false,
    "pycharm": {
     "name": "#%%\n"
    }
   }
  },
  {
   "cell_type": "code",
   "execution_count": 229,
   "outputs": [
    {
     "data": {
      "text/plain": "742"
     },
     "execution_count": 229,
     "metadata": {},
     "output_type": "execute_result"
    }
   ],
   "source": [
    "unique_song_names = df['song'].unique()\n",
    "len(unique_song_names)\n"
   ],
   "metadata": {
    "collapsed": false,
    "pycharm": {
     "name": "#%%\n"
    }
   }
  },
  {
   "cell_type": "code",
   "execution_count": 230,
   "outputs": [
    {
     "data": {
      "text/plain": "id                         int64\nrank                       int64\nartist                    object\nsong                      object\nrank_last_week            object\npeak_rank                 object\nweeks_on_chart            object\ndate              datetime64[ns]\ndtype: object"
     },
     "execution_count": 230,
     "metadata": {},
     "output_type": "execute_result"
    }
   ],
   "source": [
    "df.dtypes"
   ],
   "metadata": {
    "collapsed": false,
    "pycharm": {
     "name": "#%%\n"
    }
   }
  },
  {
   "cell_type": "code",
   "execution_count": 231,
   "outputs": [
    {
     "data": {
      "text/plain": "Index(['id', 'rank', 'artist', 'song', 'rank_last_week', 'peak_rank',\n       'weeks_on_chart', 'date'],\n      dtype='object')"
     },
     "execution_count": 231,
     "metadata": {},
     "output_type": "execute_result"
    }
   ],
   "source": [
    "df.columns"
   ],
   "metadata": {
    "collapsed": false,
    "pycharm": {
     "name": "#%%\n"
    }
   }
  },
  {
   "cell_type": "code",
   "execution_count": 232,
   "outputs": [
    {
     "data": {
      "text/plain": "                                                          peak_rank  \\\nartist                     song                                       \n21 Savage & Metro Boomin   Brand New Draco                       57   \n                           Glock In My Lap                       19   \n                           Many Men                              33   \n                           My Dawg                               56   \n                           No Opp Left Behind                    71   \n...                                                             ...   \nZac Brown Band             The Man Who Loves You The Most        96   \nZayn                       Better                                89   \nblackbear                  Hot Girl Bummer                       11   \nsurf mesa Featuring Emilee ily                                  100   \ntwenty one pilots          Level Of Concern                      23   \n\n                                                          weeks_on_chart  \nartist                     song                                           \n21 Savage & Metro Boomin   Brand New Draco                             1  \n                           Glock In My Lap                             3  \n                           Many Men                                    2  \n                           My Dawg                                     1  \n                           No Opp Left Behind                          1  \n...                                                                  ...  \nZac Brown Band             The Man Who Loves You The Most              1  \nZayn                       Better                                      1  \nblackbear                  Hot Girl Bummer                            42  \nsurf mesa Featuring Emilee ily                                         9  \ntwenty one pilots          Level Of Concern                            9  \n\n[751 rows x 2 columns]",
      "text/html": "<div>\n<style scoped>\n    .dataframe tbody tr th:only-of-type {\n        vertical-align: middle;\n    }\n\n    .dataframe tbody tr th {\n        vertical-align: top;\n    }\n\n    .dataframe thead th {\n        text-align: right;\n    }\n</style>\n<table border=\"1\" class=\"dataframe\">\n  <thead>\n    <tr style=\"text-align: right;\">\n      <th></th>\n      <th></th>\n      <th>peak_rank</th>\n      <th>weeks_on_chart</th>\n    </tr>\n    <tr>\n      <th>artist</th>\n      <th>song</th>\n      <th></th>\n      <th></th>\n    </tr>\n  </thead>\n  <tbody>\n    <tr>\n      <th rowspan=\"5\" valign=\"top\">21 Savage &amp; Metro Boomin</th>\n      <th>Brand New Draco</th>\n      <td>57</td>\n      <td>1</td>\n    </tr>\n    <tr>\n      <th>Glock In My Lap</th>\n      <td>19</td>\n      <td>3</td>\n    </tr>\n    <tr>\n      <th>Many Men</th>\n      <td>33</td>\n      <td>2</td>\n    </tr>\n    <tr>\n      <th>My Dawg</th>\n      <td>56</td>\n      <td>1</td>\n    </tr>\n    <tr>\n      <th>No Opp Left Behind</th>\n      <td>71</td>\n      <td>1</td>\n    </tr>\n    <tr>\n      <th>...</th>\n      <th>...</th>\n      <td>...</td>\n      <td>...</td>\n    </tr>\n    <tr>\n      <th>Zac Brown Band</th>\n      <th>The Man Who Loves You The Most</th>\n      <td>96</td>\n      <td>1</td>\n    </tr>\n    <tr>\n      <th>Zayn</th>\n      <th>Better</th>\n      <td>89</td>\n      <td>1</td>\n    </tr>\n    <tr>\n      <th>blackbear</th>\n      <th>Hot Girl Bummer</th>\n      <td>11</td>\n      <td>42</td>\n    </tr>\n    <tr>\n      <th>surf mesa Featuring Emilee</th>\n      <th>ily</th>\n      <td>100</td>\n      <td>9</td>\n    </tr>\n    <tr>\n      <th>twenty one pilots</th>\n      <th>Level Of Concern</th>\n      <td>23</td>\n      <td>9</td>\n    </tr>\n  </tbody>\n</table>\n<p>751 rows × 2 columns</p>\n</div>"
     },
     "execution_count": 232,
     "metadata": {},
     "output_type": "execute_result"
    }
   ],
   "source": [
    "artist_song_pt = pd.pivot_table(df, index=['artist', 'song'], values=['peak_rank', 'weeks_on_chart'], aggfunc={'peak_rank' : 'min', 'weeks_on_chart' : 'max'})\n",
    "artist_song_pt"
   ],
   "metadata": {
    "collapsed": false,
    "pycharm": {
     "name": "#%%\n"
    }
   }
  },
  {
   "cell_type": "code",
   "execution_count": 257,
   "outputs": [
    {
     "data": {
      "text/plain": "              artist     song weeks_on_chart peak_rank\ncount            751      751            751       751\nunique           451      742             40       100\ntop     Lil Uzi Vert  Circles              1         1\nfreq              24        3            298        31",
      "text/html": "<div>\n<style scoped>\n    .dataframe tbody tr th:only-of-type {\n        vertical-align: middle;\n    }\n\n    .dataframe tbody tr th {\n        vertical-align: top;\n    }\n\n    .dataframe thead th {\n        text-align: right;\n    }\n</style>\n<table border=\"1\" class=\"dataframe\">\n  <thead>\n    <tr style=\"text-align: right;\">\n      <th></th>\n      <th>artist</th>\n      <th>song</th>\n      <th>weeks_on_chart</th>\n      <th>peak_rank</th>\n    </tr>\n  </thead>\n  <tbody>\n    <tr>\n      <th>count</th>\n      <td>751</td>\n      <td>751</td>\n      <td>751</td>\n      <td>751</td>\n    </tr>\n    <tr>\n      <th>unique</th>\n      <td>451</td>\n      <td>742</td>\n      <td>40</td>\n      <td>100</td>\n    </tr>\n    <tr>\n      <th>top</th>\n      <td>Lil Uzi Vert</td>\n      <td>Circles</td>\n      <td>1</td>\n      <td>1</td>\n    </tr>\n    <tr>\n      <th>freq</th>\n      <td>24</td>\n      <td>3</td>\n      <td>298</td>\n      <td>31</td>\n    </tr>\n  </tbody>\n</table>\n</div>"
     },
     "execution_count": 257,
     "metadata": {},
     "output_type": "execute_result"
    }
   ],
   "source": [
    "artist_song_list = []\n",
    "\n",
    "for row in artist_song_pt.itertuples():\n",
    "    artist_song_list.append(row)\n",
    "\n",
    "artist_song = pd.DataFrame(artist_song_list)\n",
    "\n",
    "artist_song[['artist', 'song']] = pd.DataFrame(artist_song['Index'].tolist())\n",
    "\n",
    "artist_song = artist_song[['artist', 'song', 'weeks_on_chart', 'peak_rank']]\n",
    "artist_song.describe()\n"
   ],
   "metadata": {
    "collapsed": false,
    "pycharm": {
     "name": "#%%\n"
    }
   }
  },
  {
   "cell_type": "code",
   "execution_count": 298,
   "outputs": [
    {
     "name": "stdout",
     "output_type": "stream",
     "text": [
      "['N*ggas', 'N*gga', 'Sh*t', 'SH*T', 'P*$$y', 'N**gas', 'B*tch', 'F*ck']\n",
      "8\n",
      "Bla bla bla Niggas yeh yeh\n"
     ]
    }
   ],
   "source": [
    "censored_songnames = artist_song.loc[artist_song['song'].str.contains('\\*')]['song']\n",
    "censored_songnames = censored_songnames.tolist()\n",
    "\n",
    "censored_words = []\n",
    "for songname in censored_songnames:\n",
    "        words = songname.split(' ')\n",
    "        for word in words:\n",
    "            if '*' in word:\n",
    "                censored_words.append(word)\n",
    "\n",
    "print(censored_words)\n",
    "print(len(censored_words))"
   ],
   "metadata": {
    "collapsed": false,
    "pycharm": {
     "name": "#%%\n"
    }
   }
  },
  {
   "cell_type": "code",
   "execution_count": null,
   "outputs": [],
   "source": [
    "#manual solution due to small size of list, may change later\n",
    "censorship = {\n",
    "                 'N*ggas' : 'Niggas',\n",
    "                 'N*gga' : 'Nigga',\n",
    "                 'Sh*t' : 'Shit',\n",
    "                 'SH*T' : 'SHIT',\n",
    "                 'P*$$y' : 'Pu$$y',\n",
    "                 'N**gas' : 'Niggas',\n",
    "                 'B*tch' : 'Bitch',\n",
    "                 'F*ck' : 'Fuck'\n",
    "}\n",
    "\n",
    "\n",
    "def get_uncensored_string(censored_string):\n",
    "    uncensored_words = []\n",
    "    words = censored_string.split(' ')\n",
    "    for word in words:\n",
    "        if word in censorship:\n",
    "            word = censorship[word]\n",
    "        uncensored_words.append(word)\n",
    "    return ' '.join(uncensored_words)\n"
   ],
   "metadata": {
    "collapsed": false,
    "pycharm": {
     "name": "#%%\n"
    }
   }
  },
  {
   "cell_type": "code",
   "execution_count": 303,
   "outputs": [
    {
     "data": {
      "text/plain": "artist            21 Savage & Metro Boomin\nsong                     Steppin On N*ggas\nweeks_on_chart                           1\npeak_rank                               74\nName: 9, dtype: object"
     },
     "execution_count": 303,
     "metadata": {},
     "output_type": "execute_result"
    }
   ],
   "source": [
    "artist_song.iloc[9]"
   ],
   "metadata": {
    "collapsed": false,
    "pycharm": {
     "name": "#%%\n"
    }
   }
  },
  {
   "cell_type": "code",
   "execution_count": 304,
   "outputs": [
    {
     "data": {
      "text/plain": "artist            21 Savage & Metro Boomin\nsong                     Steppin On Niggas\nweeks_on_chart                           1\npeak_rank                               74\nName: 9, dtype: object"
     },
     "execution_count": 304,
     "metadata": {},
     "output_type": "execute_result"
    }
   ],
   "source": [
    "artist_song['song'] = artist_song['song'].apply(lambda song: get_uncensored_string(song))\n",
    "artist_song.iloc[9]"
   ],
   "metadata": {
    "collapsed": false,
    "pycharm": {
     "name": "#%%\n"
    }
   }
  },
  {
   "cell_type": "code",
   "execution_count": 306,
   "outputs": [
    {
     "data": {
      "text/plain": "                     artist                song weeks_on_chart peak_rank  \\\n0  21 Savage & Metro Boomin     Brand New Draco              1        57   \n1  21 Savage & Metro Boomin     Glock In My Lap              3        19   \n2  21 Savage & Metro Boomin            Many Men              2        33   \n3  21 Savage & Metro Boomin             My Dawg              1        56   \n4  21 Savage & Metro Boomin  No Opp Left Behind              1        71   \n5  21 Savage & Metro Boomin             RIP Luv              1        76   \n6  21 Savage & Metro Boomin              Runnin              7         9   \n7  21 Savage & Metro Boomin         Said N Done              1        91   \n8  21 Savage & Metro Boomin              Slidin              2        32   \n9  21 Savage & Metro Boomin   Steppin On Niggas              1        74   \n\n                                              lyrics  \n0  Yeah ( Metro ) We ain't giving out smoke, we g...  \n1  Y'all niggas stop playin', nigga Y'all niggas ...  \n2  Metro Ayy, ayy, ayy, ayy, ayy, ayy  I kept it ...  \n3  Just because I didn't remind you, don't think ...  \n4  Metro in this bitch goin' brazy  Made it out t...  \n5  Yeah, rest in peace to love October 22nd, 1992...  \n6  Am I really hard to please? Perhaps I have suc...  \n7  [Intro:  Young Thug ] ( Metro Boomin want some...  \n8  Uh-huh, uh-huh, uh-huh, uh-huh Uh-huh, uh-huh,...  \n9  Step on a nigga in my Air Force 1s Step on a n...  ",
      "text/html": "<div>\n<style scoped>\n    .dataframe tbody tr th:only-of-type {\n        vertical-align: middle;\n    }\n\n    .dataframe tbody tr th {\n        vertical-align: top;\n    }\n\n    .dataframe thead th {\n        text-align: right;\n    }\n</style>\n<table border=\"1\" class=\"dataframe\">\n  <thead>\n    <tr style=\"text-align: right;\">\n      <th></th>\n      <th>artist</th>\n      <th>song</th>\n      <th>weeks_on_chart</th>\n      <th>peak_rank</th>\n      <th>lyrics</th>\n    </tr>\n  </thead>\n  <tbody>\n    <tr>\n      <th>0</th>\n      <td>21 Savage &amp; Metro Boomin</td>\n      <td>Brand New Draco</td>\n      <td>1</td>\n      <td>57</td>\n      <td>Yeah ( Metro ) We ain't giving out smoke, we g...</td>\n    </tr>\n    <tr>\n      <th>1</th>\n      <td>21 Savage &amp; Metro Boomin</td>\n      <td>Glock In My Lap</td>\n      <td>3</td>\n      <td>19</td>\n      <td>Y'all niggas stop playin', nigga Y'all niggas ...</td>\n    </tr>\n    <tr>\n      <th>2</th>\n      <td>21 Savage &amp; Metro Boomin</td>\n      <td>Many Men</td>\n      <td>2</td>\n      <td>33</td>\n      <td>Metro Ayy, ayy, ayy, ayy, ayy, ayy  I kept it ...</td>\n    </tr>\n    <tr>\n      <th>3</th>\n      <td>21 Savage &amp; Metro Boomin</td>\n      <td>My Dawg</td>\n      <td>1</td>\n      <td>56</td>\n      <td>Just because I didn't remind you, don't think ...</td>\n    </tr>\n    <tr>\n      <th>4</th>\n      <td>21 Savage &amp; Metro Boomin</td>\n      <td>No Opp Left Behind</td>\n      <td>1</td>\n      <td>71</td>\n      <td>Metro in this bitch goin' brazy  Made it out t...</td>\n    </tr>\n    <tr>\n      <th>5</th>\n      <td>21 Savage &amp; Metro Boomin</td>\n      <td>RIP Luv</td>\n      <td>1</td>\n      <td>76</td>\n      <td>Yeah, rest in peace to love October 22nd, 1992...</td>\n    </tr>\n    <tr>\n      <th>6</th>\n      <td>21 Savage &amp; Metro Boomin</td>\n      <td>Runnin</td>\n      <td>7</td>\n      <td>9</td>\n      <td>Am I really hard to please? Perhaps I have suc...</td>\n    </tr>\n    <tr>\n      <th>7</th>\n      <td>21 Savage &amp; Metro Boomin</td>\n      <td>Said N Done</td>\n      <td>1</td>\n      <td>91</td>\n      <td>[Intro:  Young Thug ] ( Metro Boomin want some...</td>\n    </tr>\n    <tr>\n      <th>8</th>\n      <td>21 Savage &amp; Metro Boomin</td>\n      <td>Slidin</td>\n      <td>2</td>\n      <td>32</td>\n      <td>Uh-huh, uh-huh, uh-huh, uh-huh Uh-huh, uh-huh,...</td>\n    </tr>\n    <tr>\n      <th>9</th>\n      <td>21 Savage &amp; Metro Boomin</td>\n      <td>Steppin On Niggas</td>\n      <td>1</td>\n      <td>74</td>\n      <td>Step on a nigga in my Air Force 1s Step on a n...</td>\n    </tr>\n  </tbody>\n</table>\n</div>"
     },
     "execution_count": 306,
     "metadata": {},
     "output_type": "execute_result"
    }
   ],
   "source": [
    "import lyricsgenius\n",
    "token_file = open(\"genius_token.txt\", \"r\")\n",
    "token = token_file.read()\n",
    "token_file.close()\n",
    "\n",
    "genius = lyricsgenius.Genius(token)\n",
    "genius.verbose = False\n",
    "genius.remove_section_headers = True\n",
    "\n",
    "#this is going to be very time consuming\n",
    "#artist_song['lyrics'] = np.vectorize(genius.search_song)(artist_song['song'],artist_song['artist'])\n",
    "\n",
    "#testing lyricsgenius\n",
    "def get_lyrics(title, artist):\n",
    "    song = genius.search_song(title, artist)\n",
    "    lyrics = song.lyrics.replace('\\n', ' ').replace('\\r', '')\n",
    "    return lyrics\n",
    "\n",
    "test_df = artist_song.copy().iloc[0:10]\n",
    "test_df['lyrics'] = np.vectorize(get_lyrics)(test_df['song'],test_df['artist'])\n",
    "test_df"
   ],
   "metadata": {
    "collapsed": false,
    "pycharm": {
     "name": "#%%\n"
    }
   }
  }
 ],
 "metadata": {
  "kernelspec": {
   "display_name": "Python 3",
   "language": "python",
   "name": "python3"
  },
  "language_info": {
   "codemirror_mode": {
    "name": "ipython",
    "version": 2
   },
   "file_extension": ".py",
   "mimetype": "text/x-python",
   "name": "python",
   "nbconvert_exporter": "python",
   "pygments_lexer": "ipython2",
   "version": "2.7.6"
  }
 },
 "nbformat": 4,
 "nbformat_minor": 0
}