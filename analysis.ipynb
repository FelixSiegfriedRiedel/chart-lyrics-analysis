{
 "cells": [
  {
   "cell_type": "markdown",
   "source": [
    "## Initial Setup"
   ],
   "metadata": {
    "collapsed": false,
    "pycharm": {
     "name": "#%% md\n"
    }
   }
  },
  {
   "cell_type": "code",
   "execution_count": 99,
   "outputs": [
    {
     "name": "stdout",
     "output_type": "stream",
     "text": [
      "input\\top100.json\n"
     ]
    }
   ],
   "source": [
    "import numpy as np # linear algebra\n",
    "import pandas as pd # data processing, CSV file I/O (e.g. pd.read_csv)\n",
    "import seaborn as sns\n",
    "import matplotlib.pyplot as plt\n",
    "import datetime\n",
    "import os\n",
    "for dirname, _, filenames in os.walk('input'):\n",
    "    for filename in filenames:\n",
    "        print(os.path.join(dirname, filename))"
   ],
   "metadata": {
    "collapsed": false,
    "pycharm": {
     "name": "#%%\n"
    }
   }
  },
  {
   "cell_type": "code",
   "source": [
    "df = pd.read_json('input/top100.json')\n",
    "df.head()"
   ],
   "metadata": {
    "collapsed": false,
    "pycharm": {
     "name": "#%%\n"
    }
   },
   "execution_count": 100,
   "outputs": [
    {
     "data": {
      "text/plain": "   id  rank        artist                               song rank_last_week  \\\n0   1     1  Mariah Carey    All I Want For Christmas Is You    1 Last Week   \n1   2     2    Brenda Lee  Rockin' Around The Christmas Tree    2 Last Week   \n2   3     3   Bobby Helms                   Jingle Bell Rock    9 Last Week   \n3   4     4     Burl Ives            A Holly Jolly Christmas    6 Last Week   \n4   5     5   Post Malone                            Circles    3 Last Week   \n\n     peak_rank     weeks_on_chart       date  \n0  1 Peak Rank  37 Weeks on Chart 2020-01-04  \n1  2 Peak Rank  32 Weeks on Chart 2020-01-04  \n2  3 Peak Rank  30 Weeks on Chart 2020-01-04  \n3  4 Peak Rank  15 Weeks on Chart 2020-01-04  \n4  1 Peak Rank  17 Weeks on Chart 2020-01-04  ",
      "text/html": "<div>\n<style scoped>\n    .dataframe tbody tr th:only-of-type {\n        vertical-align: middle;\n    }\n\n    .dataframe tbody tr th {\n        vertical-align: top;\n    }\n\n    .dataframe thead th {\n        text-align: right;\n    }\n</style>\n<table border=\"1\" class=\"dataframe\">\n  <thead>\n    <tr style=\"text-align: right;\">\n      <th></th>\n      <th>id</th>\n      <th>rank</th>\n      <th>artist</th>\n      <th>song</th>\n      <th>rank_last_week</th>\n      <th>peak_rank</th>\n      <th>weeks_on_chart</th>\n      <th>date</th>\n    </tr>\n  </thead>\n  <tbody>\n    <tr>\n      <th>0</th>\n      <td>1</td>\n      <td>1</td>\n      <td>Mariah Carey</td>\n      <td>All I Want For Christmas Is You</td>\n      <td>1 Last Week</td>\n      <td>1 Peak Rank</td>\n      <td>37 Weeks on Chart</td>\n      <td>2020-01-04</td>\n    </tr>\n    <tr>\n      <th>1</th>\n      <td>2</td>\n      <td>2</td>\n      <td>Brenda Lee</td>\n      <td>Rockin' Around The Christmas Tree</td>\n      <td>2 Last Week</td>\n      <td>2 Peak Rank</td>\n      <td>32 Weeks on Chart</td>\n      <td>2020-01-04</td>\n    </tr>\n    <tr>\n      <th>2</th>\n      <td>3</td>\n      <td>3</td>\n      <td>Bobby Helms</td>\n      <td>Jingle Bell Rock</td>\n      <td>9 Last Week</td>\n      <td>3 Peak Rank</td>\n      <td>30 Weeks on Chart</td>\n      <td>2020-01-04</td>\n    </tr>\n    <tr>\n      <th>3</th>\n      <td>4</td>\n      <td>4</td>\n      <td>Burl Ives</td>\n      <td>A Holly Jolly Christmas</td>\n      <td>6 Last Week</td>\n      <td>4 Peak Rank</td>\n      <td>15 Weeks on Chart</td>\n      <td>2020-01-04</td>\n    </tr>\n    <tr>\n      <th>4</th>\n      <td>5</td>\n      <td>5</td>\n      <td>Post Malone</td>\n      <td>Circles</td>\n      <td>3 Last Week</td>\n      <td>1 Peak Rank</td>\n      <td>17 Weeks on Chart</td>\n      <td>2020-01-04</td>\n    </tr>\n  </tbody>\n</table>\n</div>"
     },
     "execution_count": 100,
     "metadata": {},
     "output_type": "execute_result"
    }
   ]
  },
  {
   "cell_type": "code",
   "execution_count": 101,
   "outputs": [
    {
     "data": {
      "text/plain": "False"
     },
     "execution_count": 101,
     "metadata": {},
     "output_type": "execute_result"
    }
   ],
   "source": [
    "len(df.loc[df['rank_last_week'] == df['weeks_on_chart']]) == len(df)\n"
   ],
   "metadata": {
    "collapsed": false,
    "pycharm": {
     "name": "#%%\n"
    }
   }
  },
  {
   "cell_type": "code",
   "source": [
    "df['rank_last_week'] = df['rank_last_week'].apply(lambda rank_last_week: rank_last_week[:-10])\n",
    "df['peak_rank'] = df['peak_rank'].apply(lambda peak_rank: peak_rank[:-10])\n",
    "df['weeks_on_chart'] = df['weeks_on_chart'].apply(lambda weeks_on_chart: weeks_on_chart[:-15])"
   ],
   "metadata": {
    "collapsed": false,
    "pycharm": {
     "name": "#%%\n"
    }
   },
   "execution_count": 102,
   "outputs": []
  },
  {
   "cell_type": "code",
   "source": [
    "df['date'].dtype"
   ],
   "metadata": {
    "collapsed": false,
    "pycharm": {
     "name": "#%%\n"
    }
   },
   "execution_count": 103,
   "outputs": [
    {
     "data": {
      "text/plain": "dtype('<M8[ns]')"
     },
     "execution_count": 103,
     "metadata": {},
     "output_type": "execute_result"
    }
   ]
  },
  {
   "cell_type": "code",
   "execution_count": 104,
   "outputs": [
    {
     "name": "stdout",
     "output_type": "stream",
     "text": [
      "['Mariah Carey' 'Brenda Lee' 'Bobby Helms' 'Burl Ives' 'Post Malone'\n",
      " 'Arizona Zervas' 'Andy Williams' 'Lewis Capaldi' 'Maroon 5' 'Lizzo'\n",
      " 'Wham!' 'Jose Feliciano' 'Roddy Ricch' 'Tones And I' 'Dean Martin'\n",
      " 'Nat King Cole' 'Dan + Shay & Justin Bieber' 'Selena Gomez'\n",
      " 'Mustard & Roddy Ricch' 'DaBaby' 'The Ronettes' 'Gene Autry'\n",
      " 'Billie Eilish' 'Chris Brown Featuring Drake'\n",
      " 'Shawn Mendes & Camila Cabello' 'Juice WRLD & YoungBoy Never Broke Again'\n",
      " 'Perry Como And The Fontane Sisters With Mitchell Ayres And His Orchestra'\n",
      " 'Darlene Love' 'Lil Nas X' 'Kelly Clarkson' 'Young Thug Featuring Gunna'\n",
      " 'Lil Nas X Featuring Billy Ray Cyrus' 'Chuck Berry' 'Perry Como'\n",
      " 'Travis Scott' 'The Weeknd' 'Elvis Presley' 'Bing Crosby' 'Frank Sinatra'\n",
      " 'Jonas Brothers' 'SHAED' 'Lil Baby' 'Lil Uzi Vert' 'Thurl Ravenscroft'\n",
      " 'Lil Tecca' 'Trevor Daniel' 'Dua Lipa' 'Harry Styles' 'Old Dominion'\n",
      " 'blackbear' 'YNW Melly & Juice WRLD' 'Taylor Swift'\n",
      " 'Wale Featuring Jeremih' 'Luke Combs' 'Don Toliver' 'Halsey'\n",
      " 'Camila Cabello Featuring DaBaby' 'Doja Cat & Tyga' 'Maren Morris'\n",
      " 'Summer Walker' 'Chris Brown Featuring Gunna' 'Idina Menzel & AURORA'\n",
      " 'John Legend' 'Rod Wave' 'Lady Antebellum' 'Dustin Lynch' 'NLE Choppa'\n",
      " 'Jon Pardi' 'Roddy Ricch & Gunna'\n",
      " 'Post Malone Featuring Ozzy Osbourne & Travis Scott'\n",
      " 'Layton Greene, Lil Baby, City Girls & PnB Rock'\n",
      " 'Ellie Goulding & Juice WRLD' 'Sam Hunt' 'Juice WRLD' 'Thomas Rhett'\n",
      " 'Trippie Redd Featuring DaBaby' 'YNW Melly & 9lokknine'\n",
      " 'H.E.R. Featuring YG' 'Black Eyed Peas X J Balvin' 'Kane Brown' 'Joji'\n",
      " 'DaniLeigh Featuring Chris Brown' 'Bad Bunny' 'DaBaby Featuring Offset'\n",
      " 'Niall Horan' 'Ant Saunders'\n",
      " 'Roddy Ricch Featuring A Boogie Wit da Hoodie' 'Doja Cat' 'Russ & BIA'\n",
      " 'Karol G & Nicki Minaj' 'Post Malone Featuring DaBaby'\n",
      " 'Ed Sheeran Featuring Camila Cabello & Cardi B'\n",
      " 'Ed Sheeran & Justin Bieber' 'JACKBOYS Featuring Young Thug' 'Khalid'\n",
      " 'Ed Sheeran Featuring Khalid' 'Lil Baby & DaBaby' 'JACKBOYS & Sheck Wes'\n",
      " 'Don Toliver Featuring Quavo & Offset' 'JACKBOYS Featuring Don Toliver'\n",
      " 'JACKBOYS, Pop Smoke & Travis Scott' 'Roddy Ricch Featuring Mustard'\n",
      " 'DaBaby Featuring Lil Baby & Moneybagg Yo'\n",
      " 'Gabby Barrett Featuring Charlie Puth' 'Jason Aldean' 'Jimmie Allen'\n",
      " 'Luke Bryan' 'Kelsea Ballerini' 'Ingrid Andress' 'Riley Green'\n",
      " 'Tory Lanez & T-Pain' 'DJ Snake, J. Balvin & Tyga'\n",
      " 'Diplo Presents Thomas Wesley Featuring Morgan Wallen'\n",
      " 'Anuel AA, Daddy Yankee, Karol G, Ozuna & J Balvin' 'Jordan Davis'\n",
      " 'Noah Cyrus & Leon Bridges' 'Justin Bieber'\n",
      " 'MoneyBagg Yo Featuring Lil Baby' 'BrockHampton'\n",
      " 'Roddy Ricch Featuring Meek Mill' 'Olivia Rodrigo'\n",
      " 'Carly Pearce & Lee Brice' 'Lil Tjay' 'Doja Cat Featuring Nicki Minaj'\n",
      " 'YoungBoy Never Broke Again' 'Baby Keem'\n",
      " 'Moneybagg Yo X Megan Thee Stallion' 'Future Featuring Drake'\n",
      " 'Mac Miller' 'Moneybagg Yo Featuring DaBaby'\n",
      " 'Eminem Featuring Juice WRLD' 'Eminem' 'Eminem Featuring Ed Sheeran'\n",
      " 'Eminem Featuring Young M.A'\n",
      " 'Eminem Featuring Royce da 5\\'9\" & White Gold' 'BTS' 'Jhene Aiko'\n",
      " 'Eminem Featuring Skylar Grey' 'Blake Shelton Duet With Gwen Stefani'\n",
      " 'Eminem Featuring Don Toliver' 'Eminem Featuring Anderson .Paak'\n",
      " 'Megan Thee Stallion' 'Demi Lovato' 'Meek Mill Featuring Roddy Ricch'\n",
      " 'Morgan Wallen' 'Jake Owen' 'Summer Walker & Usher' 'Alicia Keys'\n",
      " 'Camila Cabello' 'Ali Gatie' 'Brett Young' 'Garth Brooks & Blake Shelton'\n",
      " 'Lil Wayne Featuring Big Sean & Lil Baby' 'Lil Wayne'\n",
      " 'A Boogie Wit da Hoodie' 'Meghan Trainor Featuring Nicki Minaj'\n",
      " 'Justin Bieber Featuring Kehlani' 'Justin Bieber Featuring Quavo'\n",
      " 'Nicki Minaj' 'Khalid x Disclosure' 'Lil Mosey'\n",
      " 'Lil Nas X & Cardi B Or Nas' 'PARTYNEXTDOOR Featuring Drake' 'Anuel AA'\n",
      " 'Meek Mill Featuring Justin Timberlake'\n",
      " 'Jack Harlow Featuring DaBaby, Tory Lanez & Lil Wayne'\n",
      " 'A Boogie Wit da Hoodie Featuring Roddy Ricch, Gunna & London On Da Track'\n",
      " 'Justin Bieber Featuring Post Malone & Clever' 'Sam Smith'\n",
      " 'Migos, Young Thug & Travis Scott' 'Pop Smoke'\n",
      " 'Polo G Featuring NLE Choppa & Stunna 4 Vegas'\n",
      " 'A Boogie Wit da Hoodie Featuring Young Thug' 'Bad Bunny & Sech'\n",
      " 'A Boogie Wit da Hoodie Featuring DaBaby' 'Ashe Featuring Niall Horan'\n",
      " 'Pop Smoke Featuring Quavo' 'Lady Gaga' 'Lil Baby & Gunna'\n",
      " 'Lil Baby Featuring Lil Uzi Vert' 'Lil Baby Featuring Future'\n",
      " 'G Herbo Featuring Chance The Rapper, Juice WRLD & Lil Uzi Vert'\n",
      " 'Lil Baby & 42 Dugg' 'Bad Bunny X Daddy Yankee' 'Lil Baby & Moneybagg Yo'\n",
      " 'SZA X Justin Timberlake' 'Lil Baby Featuring Lil Wayne'\n",
      " 'Bad Bunny, Jowell & Randy & Nengo Flow' 'Bad Bunny & Yaviah'\n",
      " 'Lil Baby & Young Thug' 'Bad Bunny X Anuel AA' 'Surfaces'\n",
      " 'Jhene Aiko Featuring H.E.R.' 'Jhene Aiko Featuring Future & Miguel'\n",
      " 'Lil Uzi Vert Featuring Syd' 'Gunna' 'Lil Yachty, Drake & DaBaby'\n",
      " 'Jhene Aiko Featuring Big Sean' 'Lil Uzi Vert Featuring Chief Keef'\n",
      " 'Lil Uzi Vert & 21 Savage' 'Lil Uzi Vert Featuring Future'\n",
      " 'Lil Uzi Vert Featuring Young Thug & Gunna' 'Powfu Featuring beabadoobee'\n",
      " 'Lil Uzi Vert Featuring NAV' 'Lil Uzi Vert Featuring Lil Durk'\n",
      " 'Luke Combs Featuring Eric Church' 'Lil Uzi Vert Featuring Young Thug'\n",
      " 'BENEE Featuring Gus Dapperton' 'Lil Uzi Vert Featuring Young Nudy'\n",
      " 'Thomas Rhett Featuring Jon Pardi' 'SAINt JHN'\n",
      " 'NLE Choppa Featuring Roddy Ricch' 'Kelsea Ballerini x Halsey'\n",
      " 'NAV, Gunna & Travis Scott' 'PARTYNEXTDOOR & Rihanna' 'Travis Denning'\n",
      " 'Florida Georgia Line' 'Kane Brown & John Legend'\n",
      " 'JP Saxe Featuring Julia Michaels' 'Drake'\n",
      " 'Thomas Rhett Featuring Reba McEntire, Hillary Scott, Chris Tomlin & Keith Urban'\n",
      " 'Future' 'Miranda Lambert' 'Kenny Chesney' 'twenty one pilots'\n",
      " 'Tory Lanez' 'Arcangel x Sech' 'Maddie & Tae' 'Polo G' 'Scotty McCreery'\n",
      " 'Regard' 'DaBaby Featuring Roddy Ricch'\n",
      " 'DaBaby Featuring YoungBoy Never Broke Again' 'Playboi Carti'\n",
      " 'Sam Smith & Demi Lovato' 'DaBaby Featuring Quavo'\n",
      " 'DaBaby Featuring Ashanti & Megan Thee Stallion'\n",
      " 'DaBaby Featuring Future & jetsonmade'\n",
      " 'DaBaby Featuring A Boogie Wit da Hoodie & London On Da Track'\n",
      " 'Keith Urban' 'THE SCOTTS, Travis Scott & Kid Cudi' 'StaySolidRocky'\n",
      " 'YoungBoy Never Broke Again Featuring Sherhonda Gaulden'\n",
      " 'Carrie Underwood' 'YoungBoy Never Broke Again Featuring DaBaby'\n",
      " 'Drake Featuring Playboi Carti' 'Drake Featuring Giveon'\n",
      " 'Future, Drake & Young Thug' 'Drake Featuring Chris Brown'\n",
      " 'Drake Featuring Future' 'Marshmello & Halsey'\n",
      " 'Drake Featuring Fivio Foreign & Sosa Geek'\n",
      " 'Young T & Bugsey Featuring Headie One' 'Ariana Grande & Justin Bieber'\n",
      " '6ix9ine' 'Lil Durk Featuring Lil Baby & Polo G'\n",
      " 'Kehlani Featuring Tory Lanez'\n",
      " 'Lil Tjay Featuring Fivio Foreign & Pop Smoke' 'Kehlani'\n",
      " 'Chris Brown & Young Thug' 'Kehlani Featuring Jhene Aiko' 'Moneybagg Yo'\n",
      " 'Lil Durk' 'Polo G Featuring Juice WRLD' 'Future Featuring Travis Scott'\n",
      " 'Jonas Brothers Featuring Karol G'\n",
      " 'Future Featuring YoungBoy Never Broke Again' 'Katy Perry'\n",
      " 'Future Featuring Lil Uzi Vert' 'Polo G Featuring Lil Baby'\n",
      " 'Future Featuring Young Thug' 'Lady Gaga & Ariana Grande'\n",
      " 'Gunna Featuring Young Thug' 'Gunna Featuring Roddy Ricch'\n",
      " 'Gunna Featuring Travis Scott' 'Gunna Featuring Lil Baby'\n",
      " 'Migos Featuring YoungBoy Never Broke Again' 'Agust D'\n",
      " 'surf mesa Featuring Emilee' 'Lady Gaga & BLACKPINK'\n",
      " 'Juice WRLD & Trippie Redd' 'ROSALIA & Travis Scott' 'LOCASH'\n",
      " 'Lil Yachty & Tierra Whack Featuring A$AP Rocky & Tyler, The Creator'\n",
      " 'Anuel AA & Bad Bunny' 'Justin Moore' 'Kygo & OneRepublic' 'Lee Brice'\n",
      " 'Doja Cat Featuring Gucci Mane'\n",
      " 'HARDY Featuring Lauren Alaina & Devin Dawson' 'Meek Mill'\n",
      " 'Sleepy Hallow' 'Black Eyed Peas, Ozuna + J.Rey Soul' 'Ashley McBryde'\n",
      " 'Brantley Gilbert' '6ix9ine & Nicki Minaj'\n",
      " 'Pop Smoke Featuring Rowdy Rebel' 'Kid LAROI & Juice WRLD' 'J. Cole'\n",
      " 'Tyla Yaweh & Post Malone' 'Jawsh 685 x Jason Derulo' 'Chloe X Halle'\n",
      " 'Chris Janson' 'Zac Brown Band' 'J.I The Prince Of N.Y' 'Beyonce'\n",
      " 'Breland' 'YoungBoy Never Broke Again Featuring Lil Baby'\n",
      " 'Parker McCollum' 'AJR' 'BLACKPINK' 'Kanye West Featuring Travis Scott'\n",
      " '6LACK Featuring Lil Baby' 'Trevor Daniel x Selena Gomez' 'Eric Church'\n",
      " 'Rod Wave Featuring ATR Son Son' 'Tim McGraw'\n",
      " 'Pop Smoke Featuring Lil Baby & DaBaby'\n",
      " 'Pop Smoke Featuring 50 Cent & Roddy Ricch'\n",
      " 'Pop Smoke Featuring Lil Tjay' 'Pop Smoke Featuring Quavo & Future'\n",
      " 'Pop Smoke Featuring Karol G' 'Pop Smoke Featuring Swae Lee'\n",
      " 'Pop Smoke Featuring Tyga & Quavo' 'Juice WRLD X Halsey'\n",
      " 'Pop Smoke Featuring King Combs' 'Juice WRLD x Marshmello'\n",
      " 'Juice WRLD & Marshmello Featuring Polo G & The Kid LAROI'\n",
      " 'Kid Cudi & Eminem' 'Kane Brown With Swae Lee & Khalid'\n",
      " 'Summer Walker & PARTYNEXTDOOR' 'Saweetie' 'DJ Khaled Featuring Drake'\n",
      " 'Topic & A7S' 'Taylor Swift Featuring Bon Iver'\n",
      " 'Blake Shelton Featuring Gwen Stefani'\n",
      " 'J Balvin, Dua Lipa, Bad Bunny & Tainy' 'Logic'\n",
      " 'A$AP Ferg Featuring  Nicki Minaj & MadeinTYO' 'Dan + Shay'\n",
      " 'DaBaby x Stunna 4 Vegas' 'Cardi B Featuring Megan Thee Stallion'\n",
      " 'Juice WRLD & The Weeknd' 'Ava Max' 'Machine Gun Kelly X blackbear'\n",
      " '24kGoldn Featuring iann dior' 'Jameson Rodgers'\n",
      " 'Nio Garcia x Anuel AA x Myke Towers x Brray x Juanka' 'Mulatto'\n",
      " 'Drake Featuring Lil Durk' 'Miley Cyrus' 'Conan Gray'\n",
      " 'Internet Money & Gunna Featuring Don Toliver & NAV'\n",
      " 'Money Man Featuring Lil Baby' 'Ozuna x Karol G x Myke Towers'\n",
      " 'Chase Rice' 'Maluma & The Weeknd' 'Tate McRae'\n",
      " 'Nas Featuring Fivio Foreign & A$AP Ferg' 'BLACKPINK X Selena Gomez'\n",
      " 'Calvin Harris X The Weeknd' 'Chris Stapleton'\n",
      " 'Internet Money Featuring Juice WRLD & Trippie Redd'\n",
      " 'Ty Dolla $ign Featuring Nicki Minaj' 'WhoHeem'\n",
      " 'SZA Featuring Ty Dolla $ign'\n",
      " 'Sech, Daddy Yankee & J Balvin Featuring ROSALIA & Farruko'\n",
      " 'Big Sean Featuring Post Malone' 'Big Sean Featuring Travis Scott'\n",
      " 'Big Sean Featuring Nipsey Hussle' 'Russell Dickerson'\n",
      " 'Big Sean Featuring Ty Dolla $ign & Jhene Aiko' 'Matt Stell' 'Big Sean'\n",
      " 'YoungBoy Never Broke Again Featuring Lil Wayne'\n",
      " 'Marshmello & Demi Lovato' 'Andrew Jannakos' 'VEDO'\n",
      " 'Justin Bieber Featuring Chance The Rapper' 'Keith Urban Duet With P!nk'\n",
      " 'Luke Combs Featuring Amanda Shires' 'Lil Tecca & Lil Uzi Vert'\n",
      " 'Lil Tecca & Polo G Featuring Lil Durk'\n",
      " 'Anitta Featuring Cardi B & Myke Towers' 'YFN Lucci'\n",
      " 'Sada Baby Featuring Nicki Minaj' 'DaBaby Featuring Young Thug'\n",
      " 'Travis Scott Featuring Young Thug & M.I.A.' 'Machine Gun Kelly & Halsey'\n",
      " 'Machine Gun Kelly' 'Ne-Yo & Jeremih' 'Zayn' 'Chris Lane' 'Karol G'\n",
      " 'Niko Moon' 'Ritt Momney' '21 Savage & Metro Boomin'\n",
      " '21 Savage & Metro Boomin Featuring Drake' 'Shawn Mendes' 'Fleetwood Mac'\n",
      " '21 Savage & Metro Boomin Featuring Young Thug'\n",
      " 'Megan Thee Stallion Featuring Young Thug' \"Why Don't We\"\n",
      " 'Bryson Tiller Featuring Drake'\n",
      " '21 Savage & Metro Boomin Featuring Young Nudy'\n",
      " 'Dua Lipa Featuring DaBaby' 'Bryson Tiller'\n",
      " 'Bebe Rexha Featuring Doja Cat' 'Clairo' 'Justin Bieber & benny blanco'\n",
      " 'Yung Bleu Featuring Drake' 'G-Eazy Featuring blackbear' 'Larray'\n",
      " 'BRS Kash' 'T.I. Featuring Lil Baby' 'Lady A' 'Ariana Grande'\n",
      " 'Jack Harlow' 'Ty Dolla $ign Featuring Post Malone' 'H.E.R.'\n",
      " 'Saweetie Featuring Jhene Aiko' 'The Kid LAROI' 'Farruko'\n",
      " 'Joel Corry X MNEK' 'Little Big Town' 'Bad Bunny & Jhay Cortez'\n",
      " 'Ariana Grande Featuring Doja Cat' 'Ariana Grande Featuring The Weeknd'\n",
      " 'Michael Jackson' 'Ariana Grande Featuring Ty Dolla $ign' 'Trippie Redd'\n",
      " 'Lil Durk, 6LACK & Young Thug' 'DJ Chose Featuring BeatKing'\n",
      " 'Jason Derulo'\n",
      " 'Mike WiLL Made-It, Nicki Minaj & YoungBoy Never Broke Again' 'King Von'\n",
      " 'NAV Featuring Lil Baby' 'King Von Featuring Polo G'\n",
      " 'The Kid LAROI Featuring YoungBoy Never Brok Again & Internet Money'\n",
      " 'King Von Featuring Lil Durk' 'NAV With Gunna' 'Darius Rucker' 'CJ'\n",
      " 'The Kid LAROI Featuring Machine Gun Kelly' 'Future & Lil Uzi Vert'\n",
      " 'Phoebe & Maggie' 'Shawn Mendes & Justin Bieber'\n",
      " 'Miley Cyrus Featuring Dua Lipa' 'Megan Thee Stallion Featuring DaBaby'\n",
      " 'Meek Mill Featuring Lil Durk'\n",
      " 'Megan Thee Stallion Featuring City Girls & Hot Girl Meg']\n"
     ]
    },
    {
     "data": {
      "text/plain": "451"
     },
     "execution_count": 104,
     "metadata": {},
     "output_type": "execute_result"
    }
   ],
   "source": [
    "unique_artists = df['artist'].unique()\n",
    "print(unique_artists)\n",
    "len(unique_artists)"
   ],
   "metadata": {
    "collapsed": false,
    "pycharm": {
     "name": "#%%\n"
    }
   }
  },
  {
   "cell_type": "code",
   "execution_count": 105,
   "outputs": [
    {
     "data": {
      "text/plain": "        id  rank                                         artist  \\\n1325  1326    26                       Lil Uzi Vert & 21 Savage   \n1492  1493    93                       Lil Uzi Vert & 21 Savage   \n4208  4209     9                       21 Savage & Metro Boomin   \n4209  4210    10       21 Savage & Metro Boomin Featuring Drake   \n4218  4219    19                       21 Savage & Metro Boomin   \n4225  4226    26  21 Savage & Metro Boomin Featuring Young Thug   \n4231  4232    32                       21 Savage & Metro Boomin   \n4232  4233    33                       21 Savage & Metro Boomin   \n4255  4256    56                       21 Savage & Metro Boomin   \n4256  4257    57                       21 Savage & Metro Boomin   \n4260  4261    61  21 Savage & Metro Boomin Featuring Young Nudy   \n4270  4271    71                       21 Savage & Metro Boomin   \n4273  4274    74                       21 Savage & Metro Boomin   \n4275  4276    76                       21 Savage & Metro Boomin   \n4290  4291    91                       21 Savage & Metro Boomin   \n4323  4324    24       21 Savage & Metro Boomin Featuring Drake   \n4335  4336    36                       21 Savage & Metro Boomin   \n4362  4363    63                       21 Savage & Metro Boomin   \n4373  4374    74  21 Savage & Metro Boomin Featuring Young Thug   \n4387  4388    88                       21 Savage & Metro Boomin   \n4393  4394    94                       21 Savage & Metro Boomin   \n4441  4442    42       21 Savage & Metro Boomin Featuring Drake   \n4449  4450    50                       21 Savage & Metro Boomin   \n4481  4482    82                       21 Savage & Metro Boomin   \n4548  4549    49       21 Savage & Metro Boomin Featuring Drake   \n4560  4561    61                       21 Savage & Metro Boomin   \n4654  4655    55       21 Savage & Metro Boomin Featuring Drake   \n4682  4683    83                       21 Savage & Metro Boomin   \n4751  4752    52       21 Savage & Metro Boomin Featuring Drake   \n4784  4785    85                       21 Savage & Metro Boomin   \n4855  4856    56       21 Savage & Metro Boomin Featuring Drake   \n4890  4891    91                       21 Savage & Metro Boomin   \n4964  4965    65       21 Savage & Metro Boomin Featuring Drake   \n\n                    song rank_last_week peak_rank weeks_on_chart       date  \n1325         Yessirskiii              -        26              1 2020-04-04  \n1492         Yessirskiii             26        26              2 2020-04-11  \n4208              Runnin              -         9              1 2020-10-24  \n4209       Mr. Right Now              -        10              1 2020-10-24  \n4218     Glock In My Lap              -        19              1 2020-10-24  \n4225     Rich N*gga Sh*t              -        26              1 2020-10-24  \n4231              Slidin              -        32              1 2020-10-24  \n4232            Many Men              -        33              1 2020-10-24  \n4255             My Dawg              -        56              1 2020-10-24  \n4256     Brand New Draco              -        57              1 2020-10-24  \n4260     Snitches & Rats              -        61              1 2020-10-24  \n4270  No Opp Left Behind              -        71              1 2020-10-24  \n4273   Steppin On N*ggas              -        74              1 2020-10-24  \n4275             RIP Luv              -        76              1 2020-10-24  \n4290         Said N Done              -        91              1 2020-10-24  \n4323       Mr. Right Now             10        10              2 2020-10-31  \n4335              Runnin              9         9              2 2020-10-31  \n4362     Glock In My Lap             19        19              2 2020-10-31  \n4373     Rich N*gga Sh*t             26        26              2 2020-10-31  \n4387              Slidin             32        32              2 2020-10-31  \n4393            Many Men             33        33              2 2020-10-31  \n4441       Mr. Right Now             24        10              3 2020-11-07  \n4449              Runnin             36         9              3 2020-11-07  \n4481     Glock In My Lap             63        19              3 2020-11-07  \n4548       Mr. Right Now             42        10              4 2020-11-14  \n4560              Runnin             50         9              4 2020-11-14  \n4654       Mr. Right Now             49        10              5 2020-11-21  \n4682              Runnin             61         9              5 2020-11-21  \n4751       Mr. Right Now             55        10              6 2020-11-28  \n4784              Runnin             83         9              6 2020-11-28  \n4855       Mr. Right Now             52        10              7 2020-12-05  \n4890              Runnin             85         9              7 2020-12-05  \n4964       Mr. Right Now             56        10              8 2020-12-12  ",
      "text/html": "<div>\n<style scoped>\n    .dataframe tbody tr th:only-of-type {\n        vertical-align: middle;\n    }\n\n    .dataframe tbody tr th {\n        vertical-align: top;\n    }\n\n    .dataframe thead th {\n        text-align: right;\n    }\n</style>\n<table border=\"1\" class=\"dataframe\">\n  <thead>\n    <tr style=\"text-align: right;\">\n      <th></th>\n      <th>id</th>\n      <th>rank</th>\n      <th>artist</th>\n      <th>song</th>\n      <th>rank_last_week</th>\n      <th>peak_rank</th>\n      <th>weeks_on_chart</th>\n      <th>date</th>\n    </tr>\n  </thead>\n  <tbody>\n    <tr>\n      <th>1325</th>\n      <td>1326</td>\n      <td>26</td>\n      <td>Lil Uzi Vert &amp; 21 Savage</td>\n      <td>Yessirskiii</td>\n      <td>-</td>\n      <td>26</td>\n      <td>1</td>\n      <td>2020-04-04</td>\n    </tr>\n    <tr>\n      <th>1492</th>\n      <td>1493</td>\n      <td>93</td>\n      <td>Lil Uzi Vert &amp; 21 Savage</td>\n      <td>Yessirskiii</td>\n      <td>26</td>\n      <td>26</td>\n      <td>2</td>\n      <td>2020-04-11</td>\n    </tr>\n    <tr>\n      <th>4208</th>\n      <td>4209</td>\n      <td>9</td>\n      <td>21 Savage &amp; Metro Boomin</td>\n      <td>Runnin</td>\n      <td>-</td>\n      <td>9</td>\n      <td>1</td>\n      <td>2020-10-24</td>\n    </tr>\n    <tr>\n      <th>4209</th>\n      <td>4210</td>\n      <td>10</td>\n      <td>21 Savage &amp; Metro Boomin Featuring Drake</td>\n      <td>Mr. Right Now</td>\n      <td>-</td>\n      <td>10</td>\n      <td>1</td>\n      <td>2020-10-24</td>\n    </tr>\n    <tr>\n      <th>4218</th>\n      <td>4219</td>\n      <td>19</td>\n      <td>21 Savage &amp; Metro Boomin</td>\n      <td>Glock In My Lap</td>\n      <td>-</td>\n      <td>19</td>\n      <td>1</td>\n      <td>2020-10-24</td>\n    </tr>\n    <tr>\n      <th>4225</th>\n      <td>4226</td>\n      <td>26</td>\n      <td>21 Savage &amp; Metro Boomin Featuring Young Thug</td>\n      <td>Rich N*gga Sh*t</td>\n      <td>-</td>\n      <td>26</td>\n      <td>1</td>\n      <td>2020-10-24</td>\n    </tr>\n    <tr>\n      <th>4231</th>\n      <td>4232</td>\n      <td>32</td>\n      <td>21 Savage &amp; Metro Boomin</td>\n      <td>Slidin</td>\n      <td>-</td>\n      <td>32</td>\n      <td>1</td>\n      <td>2020-10-24</td>\n    </tr>\n    <tr>\n      <th>4232</th>\n      <td>4233</td>\n      <td>33</td>\n      <td>21 Savage &amp; Metro Boomin</td>\n      <td>Many Men</td>\n      <td>-</td>\n      <td>33</td>\n      <td>1</td>\n      <td>2020-10-24</td>\n    </tr>\n    <tr>\n      <th>4255</th>\n      <td>4256</td>\n      <td>56</td>\n      <td>21 Savage &amp; Metro Boomin</td>\n      <td>My Dawg</td>\n      <td>-</td>\n      <td>56</td>\n      <td>1</td>\n      <td>2020-10-24</td>\n    </tr>\n    <tr>\n      <th>4256</th>\n      <td>4257</td>\n      <td>57</td>\n      <td>21 Savage &amp; Metro Boomin</td>\n      <td>Brand New Draco</td>\n      <td>-</td>\n      <td>57</td>\n      <td>1</td>\n      <td>2020-10-24</td>\n    </tr>\n    <tr>\n      <th>4260</th>\n      <td>4261</td>\n      <td>61</td>\n      <td>21 Savage &amp; Metro Boomin Featuring Young Nudy</td>\n      <td>Snitches &amp; Rats</td>\n      <td>-</td>\n      <td>61</td>\n      <td>1</td>\n      <td>2020-10-24</td>\n    </tr>\n    <tr>\n      <th>4270</th>\n      <td>4271</td>\n      <td>71</td>\n      <td>21 Savage &amp; Metro Boomin</td>\n      <td>No Opp Left Behind</td>\n      <td>-</td>\n      <td>71</td>\n      <td>1</td>\n      <td>2020-10-24</td>\n    </tr>\n    <tr>\n      <th>4273</th>\n      <td>4274</td>\n      <td>74</td>\n      <td>21 Savage &amp; Metro Boomin</td>\n      <td>Steppin On N*ggas</td>\n      <td>-</td>\n      <td>74</td>\n      <td>1</td>\n      <td>2020-10-24</td>\n    </tr>\n    <tr>\n      <th>4275</th>\n      <td>4276</td>\n      <td>76</td>\n      <td>21 Savage &amp; Metro Boomin</td>\n      <td>RIP Luv</td>\n      <td>-</td>\n      <td>76</td>\n      <td>1</td>\n      <td>2020-10-24</td>\n    </tr>\n    <tr>\n      <th>4290</th>\n      <td>4291</td>\n      <td>91</td>\n      <td>21 Savage &amp; Metro Boomin</td>\n      <td>Said N Done</td>\n      <td>-</td>\n      <td>91</td>\n      <td>1</td>\n      <td>2020-10-24</td>\n    </tr>\n    <tr>\n      <th>4323</th>\n      <td>4324</td>\n      <td>24</td>\n      <td>21 Savage &amp; Metro Boomin Featuring Drake</td>\n      <td>Mr. Right Now</td>\n      <td>10</td>\n      <td>10</td>\n      <td>2</td>\n      <td>2020-10-31</td>\n    </tr>\n    <tr>\n      <th>4335</th>\n      <td>4336</td>\n      <td>36</td>\n      <td>21 Savage &amp; Metro Boomin</td>\n      <td>Runnin</td>\n      <td>9</td>\n      <td>9</td>\n      <td>2</td>\n      <td>2020-10-31</td>\n    </tr>\n    <tr>\n      <th>4362</th>\n      <td>4363</td>\n      <td>63</td>\n      <td>21 Savage &amp; Metro Boomin</td>\n      <td>Glock In My Lap</td>\n      <td>19</td>\n      <td>19</td>\n      <td>2</td>\n      <td>2020-10-31</td>\n    </tr>\n    <tr>\n      <th>4373</th>\n      <td>4374</td>\n      <td>74</td>\n      <td>21 Savage &amp; Metro Boomin Featuring Young Thug</td>\n      <td>Rich N*gga Sh*t</td>\n      <td>26</td>\n      <td>26</td>\n      <td>2</td>\n      <td>2020-10-31</td>\n    </tr>\n    <tr>\n      <th>4387</th>\n      <td>4388</td>\n      <td>88</td>\n      <td>21 Savage &amp; Metro Boomin</td>\n      <td>Slidin</td>\n      <td>32</td>\n      <td>32</td>\n      <td>2</td>\n      <td>2020-10-31</td>\n    </tr>\n    <tr>\n      <th>4393</th>\n      <td>4394</td>\n      <td>94</td>\n      <td>21 Savage &amp; Metro Boomin</td>\n      <td>Many Men</td>\n      <td>33</td>\n      <td>33</td>\n      <td>2</td>\n      <td>2020-10-31</td>\n    </tr>\n    <tr>\n      <th>4441</th>\n      <td>4442</td>\n      <td>42</td>\n      <td>21 Savage &amp; Metro Boomin Featuring Drake</td>\n      <td>Mr. Right Now</td>\n      <td>24</td>\n      <td>10</td>\n      <td>3</td>\n      <td>2020-11-07</td>\n    </tr>\n    <tr>\n      <th>4449</th>\n      <td>4450</td>\n      <td>50</td>\n      <td>21 Savage &amp; Metro Boomin</td>\n      <td>Runnin</td>\n      <td>36</td>\n      <td>9</td>\n      <td>3</td>\n      <td>2020-11-07</td>\n    </tr>\n    <tr>\n      <th>4481</th>\n      <td>4482</td>\n      <td>82</td>\n      <td>21 Savage &amp; Metro Boomin</td>\n      <td>Glock In My Lap</td>\n      <td>63</td>\n      <td>19</td>\n      <td>3</td>\n      <td>2020-11-07</td>\n    </tr>\n    <tr>\n      <th>4548</th>\n      <td>4549</td>\n      <td>49</td>\n      <td>21 Savage &amp; Metro Boomin Featuring Drake</td>\n      <td>Mr. Right Now</td>\n      <td>42</td>\n      <td>10</td>\n      <td>4</td>\n      <td>2020-11-14</td>\n    </tr>\n    <tr>\n      <th>4560</th>\n      <td>4561</td>\n      <td>61</td>\n      <td>21 Savage &amp; Metro Boomin</td>\n      <td>Runnin</td>\n      <td>50</td>\n      <td>9</td>\n      <td>4</td>\n      <td>2020-11-14</td>\n    </tr>\n    <tr>\n      <th>4654</th>\n      <td>4655</td>\n      <td>55</td>\n      <td>21 Savage &amp; Metro Boomin Featuring Drake</td>\n      <td>Mr. Right Now</td>\n      <td>49</td>\n      <td>10</td>\n      <td>5</td>\n      <td>2020-11-21</td>\n    </tr>\n    <tr>\n      <th>4682</th>\n      <td>4683</td>\n      <td>83</td>\n      <td>21 Savage &amp; Metro Boomin</td>\n      <td>Runnin</td>\n      <td>61</td>\n      <td>9</td>\n      <td>5</td>\n      <td>2020-11-21</td>\n    </tr>\n    <tr>\n      <th>4751</th>\n      <td>4752</td>\n      <td>52</td>\n      <td>21 Savage &amp; Metro Boomin Featuring Drake</td>\n      <td>Mr. Right Now</td>\n      <td>55</td>\n      <td>10</td>\n      <td>6</td>\n      <td>2020-11-28</td>\n    </tr>\n    <tr>\n      <th>4784</th>\n      <td>4785</td>\n      <td>85</td>\n      <td>21 Savage &amp; Metro Boomin</td>\n      <td>Runnin</td>\n      <td>83</td>\n      <td>9</td>\n      <td>6</td>\n      <td>2020-11-28</td>\n    </tr>\n    <tr>\n      <th>4855</th>\n      <td>4856</td>\n      <td>56</td>\n      <td>21 Savage &amp; Metro Boomin Featuring Drake</td>\n      <td>Mr. Right Now</td>\n      <td>52</td>\n      <td>10</td>\n      <td>7</td>\n      <td>2020-12-05</td>\n    </tr>\n    <tr>\n      <th>4890</th>\n      <td>4891</td>\n      <td>91</td>\n      <td>21 Savage &amp; Metro Boomin</td>\n      <td>Runnin</td>\n      <td>85</td>\n      <td>9</td>\n      <td>7</td>\n      <td>2020-12-05</td>\n    </tr>\n    <tr>\n      <th>4964</th>\n      <td>4965</td>\n      <td>65</td>\n      <td>21 Savage &amp; Metro Boomin Featuring Drake</td>\n      <td>Mr. Right Now</td>\n      <td>56</td>\n      <td>10</td>\n      <td>8</td>\n      <td>2020-12-12</td>\n    </tr>\n  </tbody>\n</table>\n</div>"
     },
     "execution_count": 105,
     "metadata": {},
     "output_type": "execute_result"
    }
   ],
   "source": [
    "savage_data = df.loc[df['artist'].str.find('21 Savage') >= 0]\n",
    "savage_data"
   ],
   "metadata": {
    "collapsed": false,
    "pycharm": {
     "name": "#%%\n"
    }
   }
  },
  {
   "cell_type": "code",
   "execution_count": 106,
   "outputs": [
    {
     "data": {
      "text/plain": "                id       rank\ncount    33.000000  33.000000\nmean   4251.030303  57.090909\nstd     765.189784  25.167394\nmin    1326.000000   9.000000\n25%    4256.000000  36.000000\n50%    4336.000000  57.000000\n75%    4549.000000  76.000000\nmax    4965.000000  94.000000",
      "text/html": "<div>\n<style scoped>\n    .dataframe tbody tr th:only-of-type {\n        vertical-align: middle;\n    }\n\n    .dataframe tbody tr th {\n        vertical-align: top;\n    }\n\n    .dataframe thead th {\n        text-align: right;\n    }\n</style>\n<table border=\"1\" class=\"dataframe\">\n  <thead>\n    <tr style=\"text-align: right;\">\n      <th></th>\n      <th>id</th>\n      <th>rank</th>\n    </tr>\n  </thead>\n  <tbody>\n    <tr>\n      <th>count</th>\n      <td>33.000000</td>\n      <td>33.000000</td>\n    </tr>\n    <tr>\n      <th>mean</th>\n      <td>4251.030303</td>\n      <td>57.090909</td>\n    </tr>\n    <tr>\n      <th>std</th>\n      <td>765.189784</td>\n      <td>25.167394</td>\n    </tr>\n    <tr>\n      <th>min</th>\n      <td>1326.000000</td>\n      <td>9.000000</td>\n    </tr>\n    <tr>\n      <th>25%</th>\n      <td>4256.000000</td>\n      <td>36.000000</td>\n    </tr>\n    <tr>\n      <th>50%</th>\n      <td>4336.000000</td>\n      <td>57.000000</td>\n    </tr>\n    <tr>\n      <th>75%</th>\n      <td>4549.000000</td>\n      <td>76.000000</td>\n    </tr>\n    <tr>\n      <th>max</th>\n      <td>4965.000000</td>\n      <td>94.000000</td>\n    </tr>\n  </tbody>\n</table>\n</div>"
     },
     "execution_count": 106,
     "metadata": {},
     "output_type": "execute_result"
    }
   ],
   "source": [
    "savage_data.describe()"
   ],
   "metadata": {
    "collapsed": false,
    "pycharm": {
     "name": "#%%\n"
    }
   }
  }
 ],
 "metadata": {
  "kernelspec": {
   "display_name": "Python 3",
   "language": "python",
   "name": "python3"
  },
  "language_info": {
   "codemirror_mode": {
    "name": "ipython",
    "version": 2
   },
   "file_extension": ".py",
   "mimetype": "text/x-python",
   "name": "python",
   "nbconvert_exporter": "python",
   "pygments_lexer": "ipython2",
   "version": "2.7.6"
  }
 },
 "nbformat": 4,
 "nbformat_minor": 0
}