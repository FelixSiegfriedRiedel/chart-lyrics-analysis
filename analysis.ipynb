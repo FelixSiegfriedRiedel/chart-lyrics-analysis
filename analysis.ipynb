{
 "cells": [
  {
   "cell_type": "markdown",
   "source": [
    "## Initial Setup"
   ],
   "metadata": {
    "collapsed": false,
    "pycharm": {
     "name": "#%% md\n"
    }
   }
  },
  {
   "cell_type": "code",
   "execution_count": 180,
   "outputs": [
    {
     "name": "stdout",
     "output_type": "stream",
     "text": [
      "input\\top100.json\n"
     ]
    }
   ],
   "source": [
    "import numpy as np # linear algebra\n",
    "import pandas as pd # data processing, CSV file I/O (e.g. pd.read_csv)\n",
    "import seaborn as sns\n",
    "import matplotlib.pyplot as plt\n",
    "import datetime\n",
    "import os\n",
    "for dirname, _, filenames in os.walk('input'):\n",
    "    for filename in filenames:\n",
    "        print(os.path.join(dirname, filename))"
   ],
   "metadata": {
    "collapsed": false,
    "pycharm": {
     "name": "#%%\n"
    }
   }
  },
  {
   "cell_type": "markdown",
   "source": [
    "## Overview"
   ],
   "metadata": {
    "collapsed": false,
    "pycharm": {
     "name": "#%% md\n"
    }
   }
  },
  {
   "cell_type": "code",
   "source": [
    "df = pd.read_json('input/top100.json')\n",
    "df.head()\n"
   ],
   "metadata": {
    "collapsed": false,
    "pycharm": {
     "name": "#%%\n"
    }
   },
   "execution_count": 181,
   "outputs": [
    {
     "data": {
      "text/plain": "   id  rank        artist                               song rank_last_week  \\\n0   1     1  Mariah Carey    All I Want For Christmas Is You    1 Last Week   \n1   2     2    Brenda Lee  Rockin' Around The Christmas Tree    2 Last Week   \n2   3     3   Bobby Helms                   Jingle Bell Rock    9 Last Week   \n3   4     4     Burl Ives            A Holly Jolly Christmas    6 Last Week   \n4   5     5   Post Malone                            Circles    3 Last Week   \n\n     peak_rank     weeks_on_chart       date  \n0  1 Peak Rank  37 Weeks on Chart 2020-01-04  \n1  2 Peak Rank  32 Weeks on Chart 2020-01-04  \n2  3 Peak Rank  30 Weeks on Chart 2020-01-04  \n3  4 Peak Rank  15 Weeks on Chart 2020-01-04  \n4  1 Peak Rank  17 Weeks on Chart 2020-01-04  ",
      "text/html": "<div>\n<style scoped>\n    .dataframe tbody tr th:only-of-type {\n        vertical-align: middle;\n    }\n\n    .dataframe tbody tr th {\n        vertical-align: top;\n    }\n\n    .dataframe thead th {\n        text-align: right;\n    }\n</style>\n<table border=\"1\" class=\"dataframe\">\n  <thead>\n    <tr style=\"text-align: right;\">\n      <th></th>\n      <th>id</th>\n      <th>rank</th>\n      <th>artist</th>\n      <th>song</th>\n      <th>rank_last_week</th>\n      <th>peak_rank</th>\n      <th>weeks_on_chart</th>\n      <th>date</th>\n    </tr>\n  </thead>\n  <tbody>\n    <tr>\n      <th>0</th>\n      <td>1</td>\n      <td>1</td>\n      <td>Mariah Carey</td>\n      <td>All I Want For Christmas Is You</td>\n      <td>1 Last Week</td>\n      <td>1 Peak Rank</td>\n      <td>37 Weeks on Chart</td>\n      <td>2020-01-04</td>\n    </tr>\n    <tr>\n      <th>1</th>\n      <td>2</td>\n      <td>2</td>\n      <td>Brenda Lee</td>\n      <td>Rockin' Around The Christmas Tree</td>\n      <td>2 Last Week</td>\n      <td>2 Peak Rank</td>\n      <td>32 Weeks on Chart</td>\n      <td>2020-01-04</td>\n    </tr>\n    <tr>\n      <th>2</th>\n      <td>3</td>\n      <td>3</td>\n      <td>Bobby Helms</td>\n      <td>Jingle Bell Rock</td>\n      <td>9 Last Week</td>\n      <td>3 Peak Rank</td>\n      <td>30 Weeks on Chart</td>\n      <td>2020-01-04</td>\n    </tr>\n    <tr>\n      <th>3</th>\n      <td>4</td>\n      <td>4</td>\n      <td>Burl Ives</td>\n      <td>A Holly Jolly Christmas</td>\n      <td>6 Last Week</td>\n      <td>4 Peak Rank</td>\n      <td>15 Weeks on Chart</td>\n      <td>2020-01-04</td>\n    </tr>\n    <tr>\n      <th>4</th>\n      <td>5</td>\n      <td>5</td>\n      <td>Post Malone</td>\n      <td>Circles</td>\n      <td>3 Last Week</td>\n      <td>1 Peak Rank</td>\n      <td>17 Weeks on Chart</td>\n      <td>2020-01-04</td>\n    </tr>\n  </tbody>\n</table>\n</div>"
     },
     "execution_count": 181,
     "metadata": {},
     "output_type": "execute_result"
    }
   ]
  },
  {
   "cell_type": "markdown",
   "source": [
    "### Checking dtypes and missing values"
   ],
   "metadata": {
    "collapsed": false,
    "pycharm": {
     "name": "#%% md\n"
    }
   }
  },
  {
   "cell_type": "code",
   "execution_count": 182,
   "outputs": [
    {
     "name": "stdout",
     "output_type": "stream",
     "text": [
      "<class 'pandas.core.frame.DataFrame'>\n",
      "RangeIndex: 5200 entries, 0 to 5199\n",
      "Data columns (total 8 columns):\n",
      " #   Column          Non-Null Count  Dtype         \n",
      "---  ------          --------------  -----         \n",
      " 0   id              5200 non-null   int64         \n",
      " 1   rank            5200 non-null   int64         \n",
      " 2   artist          5200 non-null   object        \n",
      " 3   song            5200 non-null   object        \n",
      " 4   rank_last_week  5200 non-null   object        \n",
      " 5   peak_rank       5200 non-null   object        \n",
      " 6   weeks_on_chart  5200 non-null   object        \n",
      " 7   date            5200 non-null   datetime64[ns]\n",
      "dtypes: datetime64[ns](1), int64(2), object(5)\n",
      "memory usage: 325.1+ KB\n"
     ]
    }
   ],
   "source": [
    "df.info()"
   ],
   "metadata": {
    "collapsed": false,
    "pycharm": {
     "name": "#%%\n"
    }
   }
  },
  {
   "cell_type": "markdown",
   "source": [
    "### Checking date distribution\n",
    "\n",
    "every date resembles one week and should have 100 entries"
   ],
   "metadata": {
    "collapsed": false,
    "pycharm": {
     "name": "#%% md\n"
    }
   }
  },
  {
   "cell_type": "code",
   "execution_count": 183,
   "outputs": [
    {
     "data": {
      "text/plain": "<Figure size 432x288 with 1 Axes>",
      "image/png": "[encoded data removed]"
     },
     "metadata": {
      "needs_background": "light"
     },
     "output_type": "display_data"
    }
   ],
   "source": [
    "bins = df['date'].unique()\n",
    "df['date'].hist(bins=52 , ec='black')\n",
    "plt.show()"
   ],
   "metadata": {
    "collapsed": false,
    "pycharm": {
     "name": "#%%\n"
    }
   }
  },
  {
   "cell_type": "code",
   "execution_count": 184,
   "outputs": [
    {
     "data": {
      "text/plain": "date\n2020-01-04    100\n2020-01-11    100\n2020-01-18    100\n2020-01-25    100\n2020-02-01    100\n2020-02-08    100\n2020-02-15    100\n2020-02-22    100\n2020-02-29    100\n2020-03-07    100\n2020-03-14    100\n2020-03-21    100\n2020-03-28    100\n2020-04-04    100\n2020-04-11    100\n2020-04-18    100\n2020-04-25    100\n2020-05-02    100\n2020-05-09    100\n2020-05-16    100\n2020-05-23    100\n2020-05-30    100\n2020-06-06    100\n2020-06-13    100\n2020-06-20    100\n2020-06-27    100\n2020-07-04    100\n2020-07-11    100\n2020-07-18    100\n2020-07-25    100\n2020-08-01    100\n2020-08-08    100\n2020-08-15    100\n2020-08-22    100\n2020-08-29    100\n2020-09-05    100\n2020-09-12    100\n2020-09-19    100\n2020-09-26    100\n2020-10-03    100\n2020-10-10    100\n2020-10-17    100\n2020-10-24    100\n2020-10-31    100\n2020-11-07    100\n2020-11-14    100\n2020-11-21    100\n2020-11-28    100\n2020-12-05    100\n2020-12-12    100\n2020-12-19    100\n2020-12-26    100\nName: id, dtype: int64"
     },
     "execution_count": 184,
     "metadata": {},
     "output_type": "execute_result"
    }
   ],
   "source": [
    "df['id'].groupby(df['date']).count()"
   ],
   "metadata": {
    "collapsed": false,
    "pycharm": {
     "name": "#%%\n"
    }
   }
  },
  {
   "cell_type": "markdown",
   "source": [
    "## Data Preparation"
   ],
   "metadata": {
    "collapsed": false,
    "pycharm": {
     "name": "#%% md\n"
    }
   }
  },
  {
   "cell_type": "markdown",
   "source": [
    "removing unwanted text"
   ],
   "metadata": {
    "collapsed": false,
    "pycharm": {
     "name": "#%% md\n"
    }
   }
  },
  {
   "cell_type": "code",
   "source": [
    "df['rank_last_week'] = df['rank_last_week'].apply(lambda rank_last_week: rank_last_week[:-10]).replace('-', 0)\n",
    "df['peak_rank'] = df['peak_rank'].apply(lambda peak_rank: peak_rank[:-10]).replace('-', 0)\n",
    "df['weeks_on_chart'] = df['weeks_on_chart'].apply(lambda weeks_on_chart: weeks_on_chart[:-15]).replace('-', 0)\n",
    "\n",
    "df.tail()"
   ],
   "metadata": {
    "collapsed": false,
    "pycharm": {
     "name": "#%%\n"
    }
   },
   "execution_count": 185,
   "outputs": [
    {
     "data": {
      "text/plain": "        id  rank                          artist                 song  \\\n5195  5196    96  Carrie Underwood & John Legend           Hallelujah   \n5196  5197    97                          DaBaby             Practice   \n5197  5198    98                     Ritt Momney  Put Your Records On   \n5198  5199    99                       Bad Bunny           Te Mudaste   \n5199  5200   100                Carrie Underwood         Silent Night   \n\n     rank_last_week peak_rank weeks_on_chart       date  \n5195              0        96              1 2020-12-26  \n5196              0        86              5 2020-12-26  \n5197              0        79              9 2020-12-26  \n5198             60        60              2 2020-12-26  \n5199              0       100              1 2020-12-26  ",
      "text/html": "<div>\n<style scoped>\n    .dataframe tbody tr th:only-of-type {\n        vertical-align: middle;\n    }\n\n    .dataframe tbody tr th {\n        vertical-align: top;\n    }\n\n    .dataframe thead th {\n        text-align: right;\n    }\n</style>\n<table border=\"1\" class=\"dataframe\">\n  <thead>\n    <tr style=\"text-align: right;\">\n      <th></th>\n      <th>id</th>\n      <th>rank</th>\n      <th>artist</th>\n      <th>song</th>\n      <th>rank_last_week</th>\n      <th>peak_rank</th>\n      <th>weeks_on_chart</th>\n      <th>date</th>\n    </tr>\n  </thead>\n  <tbody>\n    <tr>\n      <th>5195</th>\n      <td>5196</td>\n      <td>96</td>\n      <td>Carrie Underwood &amp; John Legend</td>\n      <td>Hallelujah</td>\n      <td>0</td>\n      <td>96</td>\n      <td>1</td>\n      <td>2020-12-26</td>\n    </tr>\n    <tr>\n      <th>5196</th>\n      <td>5197</td>\n      <td>97</td>\n      <td>DaBaby</td>\n      <td>Practice</td>\n      <td>0</td>\n      <td>86</td>\n      <td>5</td>\n      <td>2020-12-26</td>\n    </tr>\n    <tr>\n      <th>5197</th>\n      <td>5198</td>\n      <td>98</td>\n      <td>Ritt Momney</td>\n      <td>Put Your Records On</td>\n      <td>0</td>\n      <td>79</td>\n      <td>9</td>\n      <td>2020-12-26</td>\n    </tr>\n    <tr>\n      <th>5198</th>\n      <td>5199</td>\n      <td>99</td>\n      <td>Bad Bunny</td>\n      <td>Te Mudaste</td>\n      <td>60</td>\n      <td>60</td>\n      <td>2</td>\n      <td>2020-12-26</td>\n    </tr>\n    <tr>\n      <th>5199</th>\n      <td>5200</td>\n      <td>100</td>\n      <td>Carrie Underwood</td>\n      <td>Silent Night</td>\n      <td>0</td>\n      <td>100</td>\n      <td>1</td>\n      <td>2020-12-26</td>\n    </tr>\n  </tbody>\n</table>\n</div>"
     },
     "execution_count": 185,
     "metadata": {},
     "output_type": "execute_result"
    }
   ]
  },
  {
   "cell_type": "markdown",
   "source": [
    "changing dtype of rank_last_week, peak_rank, weeks_on_chart to numeric"
   ],
   "metadata": {
    "collapsed": false,
    "pycharm": {
     "name": "#%% md\n"
    }
   }
  },
  {
   "cell_type": "code",
   "execution_count": 186,
   "outputs": [
    {
     "data": {
      "text/plain": "id                         int64\nrank                       int64\nartist                    object\nsong                      object\nrank_last_week             int64\npeak_rank                  int64\nweeks_on_chart             int64\ndate              datetime64[ns]\ndtype: object"
     },
     "execution_count": 186,
     "metadata": {},
     "output_type": "execute_result"
    }
   ],
   "source": [
    "for col in ['rank_last_week', 'peak_rank', 'weeks_on_chart']:\n",
    "    df[col] = pd.to_numeric(df[col], errors='coerce')\n",
    "\n",
    "df.dtypes"
   ],
   "metadata": {
    "collapsed": false,
    "pycharm": {
     "name": "#%%\n"
    }
   }
  },
  {
   "cell_type": "markdown",
   "source": [
    "#### Grouping song and artist\n",
    "\n",
    "To avoid redundent lyrics requests for lyrics I might already I have, I grouped artists and songs."
   ],
   "metadata": {
    "collapsed": false,
    "pycharm": {
     "name": "#%% md\n"
    }
   }
  },
  {
   "cell_type": "code",
   "execution_count": 187,
   "outputs": [
    {
     "data": {
      "text/plain": "                                                           peak_rank  \\\nartist                     song                                        \n21 Savage & Metro Boomin   Brand New Draco                        57   \n                           Glock In My Lap                        19   \n                           Many Men                               33   \n                           My Dawg                                56   \n                           No Opp Left Behind                     71   \n...                                                              ...   \nZac Brown Band             The Man Who Loves You The Most         96   \nZayn                       Better                                 89   \nblackbear                  Hot Girl Bummer                        11   \nsurf mesa Featuring Emilee ily                                    23   \ntwenty one pilots          Level Of Concern                       23   \n\n                                                           weeks_on_chart  \nartist                     song                                            \n21 Savage & Metro Boomin   Brand New Draco                              1  \n                           Glock In My Lap                              3  \n                           Many Men                                     2  \n                           My Dawg                                      1  \n                           No Opp Left Behind                           1  \n...                                                                   ...  \nZac Brown Band             The Man Who Loves You The Most               1  \nZayn                       Better                                       1  \nblackbear                  Hot Girl Bummer                             42  \nsurf mesa Featuring Emilee ily                                         28  \ntwenty one pilots          Level Of Concern                            11  \n\n[768 rows x 2 columns]",
      "text/html": "<div>\n<style scoped>\n    .dataframe tbody tr th:only-of-type {\n        vertical-align: middle;\n    }\n\n    .dataframe tbody tr th {\n        vertical-align: top;\n    }\n\n    .dataframe thead th {\n        text-align: right;\n    }\n</style>\n<table border=\"1\" class=\"dataframe\">\n  <thead>\n    <tr style=\"text-align: right;\">\n      <th></th>\n      <th></th>\n      <th>peak_rank</th>\n      <th>weeks_on_chart</th>\n    </tr>\n    <tr>\n      <th>artist</th>\n      <th>song</th>\n      <th></th>\n      <th></th>\n    </tr>\n  </thead>\n  <tbody>\n    <tr>\n      <th rowspan=\"5\" valign=\"top\">21 Savage &amp; Metro Boomin</th>\n      <th>Brand New Draco</th>\n      <td>57</td>\n      <td>1</td>\n    </tr>\n    <tr>\n      <th>Glock In My Lap</th>\n      <td>19</td>\n      <td>3</td>\n    </tr>\n    <tr>\n      <th>Many Men</th>\n      <td>33</td>\n      <td>2</td>\n    </tr>\n    <tr>\n      <th>My Dawg</th>\n      <td>56</td>\n      <td>1</td>\n    </tr>\n    <tr>\n      <th>No Opp Left Behind</th>\n      <td>71</td>\n      <td>1</td>\n    </tr>\n    <tr>\n      <th>...</th>\n      <th>...</th>\n      <td>...</td>\n      <td>...</td>\n    </tr>\n    <tr>\n      <th>Zac Brown Band</th>\n      <th>The Man Who Loves You The Most</th>\n      <td>96</td>\n      <td>1</td>\n    </tr>\n    <tr>\n      <th>Zayn</th>\n      <th>Better</th>\n      <td>89</td>\n      <td>1</td>\n    </tr>\n    <tr>\n      <th>blackbear</th>\n      <th>Hot Girl Bummer</th>\n      <td>11</td>\n      <td>42</td>\n    </tr>\n    <tr>\n      <th>surf mesa Featuring Emilee</th>\n      <th>ily</th>\n      <td>23</td>\n      <td>28</td>\n    </tr>\n    <tr>\n      <th>twenty one pilots</th>\n      <th>Level Of Concern</th>\n      <td>23</td>\n      <td>11</td>\n    </tr>\n  </tbody>\n</table>\n<p>768 rows × 2 columns</p>\n</div>"
     },
     "execution_count": 187,
     "metadata": {},
     "output_type": "execute_result"
    }
   ],
   "source": [
    "artist_song_pt = pd.pivot_table(df, index=['artist', 'song'], values=['peak_rank', 'weeks_on_chart'], aggfunc={'peak_rank' : 'min', 'weeks_on_chart' : 'max'})\n",
    "artist_song_pt"
   ],
   "metadata": {
    "collapsed": false,
    "pycharm": {
     "name": "#%%\n"
    }
   }
  },
  {
   "cell_type": "code",
   "execution_count": 188,
   "outputs": [
    {
     "name": "stdout",
     "output_type": "stream",
     "text": [
      "Unique song names: 455\n",
      "Unique artist names: 756\n"
     ]
    }
   ],
   "source": [
    "print('Unique song names:', len(df['artist'].unique()))\n",
    "print('Unique artist names:',len(df['song'].unique()))"
   ],
   "metadata": {
    "collapsed": false,
    "pycharm": {
     "name": "#%%\n"
    }
   }
  },
  {
   "cell_type": "markdown",
   "source": [
    "turning the pivot table into a data frame"
   ],
   "metadata": {
    "collapsed": false,
    "pycharm": {
     "name": "#%% md\n"
    }
   }
  },
  {
   "cell_type": "code",
   "source": [
    "artist_song_list = []\n",
    "\n",
    "for row in artist_song_pt.itertuples():\n",
    "    artist_song_list.append(row)\n",
    "\n",
    "artist_song = pd.DataFrame(artist_song_list)\n",
    "\n",
    "artist_song[['artist', 'song']] = pd.DataFrame(artist_song['Index'].tolist())\n",
    "\n",
    "artist_song = artist_song[['artist', 'song', 'weeks_on_chart', 'peak_rank']]\n",
    "artist_song.head()"
   ],
   "metadata": {
    "collapsed": false,
    "pycharm": {
     "name": "#%%\n"
    }
   },
   "execution_count": 189,
   "outputs": [
    {
     "data": {
      "text/plain": "                     artist                song  weeks_on_chart  peak_rank\n0  21 Savage & Metro Boomin     Brand New Draco               1         57\n1  21 Savage & Metro Boomin     Glock In My Lap               3         19\n2  21 Savage & Metro Boomin            Many Men               2         33\n3  21 Savage & Metro Boomin             My Dawg               1         56\n4  21 Savage & Metro Boomin  No Opp Left Behind               1         71",
      "text/html": "<div>\n<style scoped>\n    .dataframe tbody tr th:only-of-type {\n        vertical-align: middle;\n    }\n\n    .dataframe tbody tr th {\n        vertical-align: top;\n    }\n\n    .dataframe thead th {\n        text-align: right;\n    }\n</style>\n<table border=\"1\" class=\"dataframe\">\n  <thead>\n    <tr style=\"text-align: right;\">\n      <th></th>\n      <th>artist</th>\n      <th>song</th>\n      <th>weeks_on_chart</th>\n      <th>peak_rank</th>\n    </tr>\n  </thead>\n  <tbody>\n    <tr>\n      <th>0</th>\n      <td>21 Savage &amp; Metro Boomin</td>\n      <td>Brand New Draco</td>\n      <td>1</td>\n      <td>57</td>\n    </tr>\n    <tr>\n      <th>1</th>\n      <td>21 Savage &amp; Metro Boomin</td>\n      <td>Glock In My Lap</td>\n      <td>3</td>\n      <td>19</td>\n    </tr>\n    <tr>\n      <th>2</th>\n      <td>21 Savage &amp; Metro Boomin</td>\n      <td>Many Men</td>\n      <td>2</td>\n      <td>33</td>\n    </tr>\n    <tr>\n      <th>3</th>\n      <td>21 Savage &amp; Metro Boomin</td>\n      <td>My Dawg</td>\n      <td>1</td>\n      <td>56</td>\n    </tr>\n    <tr>\n      <th>4</th>\n      <td>21 Savage &amp; Metro Boomin</td>\n      <td>No Opp Left Behind</td>\n      <td>1</td>\n      <td>71</td>\n    </tr>\n  </tbody>\n</table>\n</div>"
     },
     "execution_count": 189,
     "metadata": {},
     "output_type": "execute_result"
    }
   ]
  },
  {
   "cell_type": "markdown",
   "source": [
    "rough overview"
   ],
   "metadata": {
    "collapsed": false,
    "pycharm": {
     "name": "#%% md\n"
    }
   }
  },
  {
   "cell_type": "code",
   "execution_count": 190,
   "outputs": [
    {
     "data": {
      "text/plain": "       weeks_on_chart   peak_rank\ncount      768.000000  768.000000\nmean         8.576823   48.932292\nstd         10.975584   29.371080\nmin          1.000000    1.000000\n25%          1.000000   24.000000\n50%          2.000000   49.500000\n75%         14.000000   74.000000\nmax         61.000000  100.000000",
      "text/html": "<div>\n<style scoped>\n    .dataframe tbody tr th:only-of-type {\n        vertical-align: middle;\n    }\n\n    .dataframe tbody tr th {\n        vertical-align: top;\n    }\n\n    .dataframe thead th {\n        text-align: right;\n    }\n</style>\n<table border=\"1\" class=\"dataframe\">\n  <thead>\n    <tr style=\"text-align: right;\">\n      <th></th>\n      <th>weeks_on_chart</th>\n      <th>peak_rank</th>\n    </tr>\n  </thead>\n  <tbody>\n    <tr>\n      <th>count</th>\n      <td>768.000000</td>\n      <td>768.000000</td>\n    </tr>\n    <tr>\n      <th>mean</th>\n      <td>8.576823</td>\n      <td>48.932292</td>\n    </tr>\n    <tr>\n      <th>std</th>\n      <td>10.975584</td>\n      <td>29.371080</td>\n    </tr>\n    <tr>\n      <th>min</th>\n      <td>1.000000</td>\n      <td>1.000000</td>\n    </tr>\n    <tr>\n      <th>25%</th>\n      <td>1.000000</td>\n      <td>24.000000</td>\n    </tr>\n    <tr>\n      <th>50%</th>\n      <td>2.000000</td>\n      <td>49.500000</td>\n    </tr>\n    <tr>\n      <th>75%</th>\n      <td>14.000000</td>\n      <td>74.000000</td>\n    </tr>\n    <tr>\n      <th>max</th>\n      <td>61.000000</td>\n      <td>100.000000</td>\n    </tr>\n  </tbody>\n</table>\n</div>"
     },
     "execution_count": 190,
     "metadata": {},
     "output_type": "execute_result"
    }
   ],
   "source": [
    "artist_song.describe()\n"
   ],
   "metadata": {
    "collapsed": false,
    "pycharm": {
     "name": "#%%\n"
    }
   }
  },
  {
   "cell_type": "markdown",
   "source": [
    "#### Working with censored songs\n",
    "\n",
    "Explicit songnames are censored on billboard but uncensored on genius, which can cause problems when searching for the lyrics."
   ],
   "metadata": {
    "collapsed": false,
    "pycharm": {
     "name": "#%% md\n"
    }
   }
  },
  {
   "cell_type": "markdown",
   "source": [
    "Identifying censored words."
   ],
   "metadata": {
    "collapsed": false,
    "pycharm": {
     "name": "#%% md\n"
    }
   }
  },
  {
   "cell_type": "code",
   "execution_count": 191,
   "outputs": [
    {
     "name": "stdout",
     "output_type": "stream",
     "text": [
      "8 censored words: ['N*ggas', 'N*gga', 'Sh*t', 'SH*T', 'P*$$y', 'N**gas', 'B*tch', 'F*ck']\n"
     ]
    }
   ],
   "source": [
    "censored_songnames = artist_song.loc[artist_song['song'].str.contains('\\*')]['song']\n",
    "censored_songnames = censored_songnames.tolist()\n",
    "\n",
    "censored_words = []\n",
    "for songname in censored_songnames:\n",
    "        words = songname.split(' ')\n",
    "        for word in words:\n",
    "            if '*' in word:\n",
    "                censored_words.append(word)\n",
    "\n",
    "print(len(censored_words), 'censored words:', censored_words)"
   ],
   "metadata": {
    "collapsed": false,
    "pycharm": {
     "name": "#%%\n"
    }
   }
  },
  {
   "cell_type": "markdown",
   "source": [
    "Putting every word in a dictionary makes it easy to replace them later with the created `get_uncensored_string` function"
   ],
   "metadata": {
    "collapsed": false,
    "pycharm": {
     "name": "#%% md\n"
    }
   }
  },
  {
   "cell_type": "code",
   "execution_count": 192,
   "outputs": [],
   "source": [
    "#manual solution due to small size of list, may change later\n",
    "censorship = {\n",
    "                 'N*ggas' : 'Niggas',\n",
    "                 'N*gga' : 'Nigga',\n",
    "                 'Sh*t' : 'Shit',\n",
    "                 'SH*T' : 'SHIT',\n",
    "                 'P*$$y' : 'Pu$$y',\n",
    "                 'N**gas' : 'Niggas',\n",
    "                 'B*tch' : 'Bitch',\n",
    "                 'F*ck' : 'Fuck'\n",
    "}\n",
    "\n",
    "\n",
    "def get_uncensored_string(censored_string):\n",
    "    uncensored_words = []\n",
    "    words = censored_string.split(' ')\n",
    "    for word in words:\n",
    "        if word in censorship:\n",
    "            word = censorship[word]\n",
    "        uncensored_words.append(word)\n",
    "    return ' '.join(uncensored_words)"
   ],
   "metadata": {
    "collapsed": false,
    "pycharm": {
     "name": "#%%\n"
    }
   }
  },
  {
   "cell_type": "markdown",
   "source": [
    "`get_uncesored_string` in action:"
   ],
   "metadata": {
    "collapsed": false,
    "pycharm": {
     "name": "#%% md\n"
    }
   }
  },
  {
   "cell_type": "code",
   "execution_count": 193,
   "outputs": [
    {
     "data": {
      "text/plain": "artist            21 Savage & Metro Boomin\nsong                     Steppin On N*ggas\nweeks_on_chart                           1\npeak_rank                               74\nName: 9, dtype: object"
     },
     "execution_count": 193,
     "metadata": {},
     "output_type": "execute_result"
    }
   ],
   "source": [
    "artist_song.iloc[9]"
   ],
   "metadata": {
    "collapsed": false,
    "pycharm": {
     "name": "#%%\n"
    }
   }
  },
  {
   "cell_type": "code",
   "execution_count": 194,
   "outputs": [
    {
     "data": {
      "text/plain": "artist            21 Savage & Metro Boomin\nsong                     Steppin On Niggas\nweeks_on_chart                           1\npeak_rank                               74\nName: 9, dtype: object"
     },
     "execution_count": 194,
     "metadata": {},
     "output_type": "execute_result"
    }
   ],
   "source": [
    "artist_song['song'] = artist_song['song'].apply(lambda song: get_uncensored_string(song))\n",
    "artist_song.iloc[9]"
   ],
   "metadata": {
    "collapsed": false,
    "pycharm": {
     "name": "#%%\n"
    }
   }
  },
  {
   "cell_type": "code",
   "execution_count": 195,
   "outputs": [
    {
     "data": {
      "text/plain": "                     artist                song  weeks_on_chart  peak_rank\n0  21 Savage & Metro Boomin     Brand New Draco               1         57\n1  21 Savage & Metro Boomin     Glock In My Lap               3         19\n2  21 Savage & Metro Boomin            Many Men               2         33\n3  21 Savage & Metro Boomin             My Dawg               1         56\n4  21 Savage & Metro Boomin  No Opp Left Behind               1         71",
      "text/html": "<div>\n<style scoped>\n    .dataframe tbody tr th:only-of-type {\n        vertical-align: middle;\n    }\n\n    .dataframe tbody tr th {\n        vertical-align: top;\n    }\n\n    .dataframe thead th {\n        text-align: right;\n    }\n</style>\n<table border=\"1\" class=\"dataframe\">\n  <thead>\n    <tr style=\"text-align: right;\">\n      <th></th>\n      <th>artist</th>\n      <th>song</th>\n      <th>weeks_on_chart</th>\n      <th>peak_rank</th>\n    </tr>\n  </thead>\n  <tbody>\n    <tr>\n      <th>0</th>\n      <td>21 Savage &amp; Metro Boomin</td>\n      <td>Brand New Draco</td>\n      <td>1</td>\n      <td>57</td>\n    </tr>\n    <tr>\n      <th>1</th>\n      <td>21 Savage &amp; Metro Boomin</td>\n      <td>Glock In My Lap</td>\n      <td>3</td>\n      <td>19</td>\n    </tr>\n    <tr>\n      <th>2</th>\n      <td>21 Savage &amp; Metro Boomin</td>\n      <td>Many Men</td>\n      <td>2</td>\n      <td>33</td>\n    </tr>\n    <tr>\n      <th>3</th>\n      <td>21 Savage &amp; Metro Boomin</td>\n      <td>My Dawg</td>\n      <td>1</td>\n      <td>56</td>\n    </tr>\n    <tr>\n      <th>4</th>\n      <td>21 Savage &amp; Metro Boomin</td>\n      <td>No Opp Left Behind</td>\n      <td>1</td>\n      <td>71</td>\n    </tr>\n  </tbody>\n</table>\n</div>"
     },
     "execution_count": 195,
     "metadata": {},
     "output_type": "execute_result"
    }
   ],
   "source": [
    "artist_song.head()"
   ],
   "metadata": {
    "collapsed": false,
    "pycharm": {
     "name": "#%%\n"
    }
   }
  },
  {
   "cell_type": "markdown",
   "source": [
    "Exporting DataFrame as a json to get lyrics with the genius framework"
   ],
   "metadata": {
    "collapsed": false,
    "pycharm": {
     "name": "#%% md\n"
    }
   }
  },
  {
   "cell_type": "code",
   "execution_count": 196,
   "outputs": [],
   "source": [
    "artist_song.to_json('output/artist_song.json')"
   ],
   "metadata": {
    "collapsed": false,
    "pycharm": {
     "name": "#%%\n"
    }
   }
  }
 ],
 "metadata": {
  "kernelspec": {
   "display_name": "Python 3",
   "language": "python",
   "name": "python3"
  },
  "language_info": {
   "codemirror_mode": {
    "name": "ipython",
    "version": 2
   },
   "file_extension": ".py",
   "mimetype": "text/x-python",
   "name": "python",
   "nbconvert_exporter": "python",
   "pygments_lexer": "ipython2",
   "version": "2.7.6"
  }
 },
 "nbformat": 4,
 "nbformat_minor": 0
}