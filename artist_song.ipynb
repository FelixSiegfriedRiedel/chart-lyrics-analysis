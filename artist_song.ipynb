{
 "cells": [
  {
   "cell_type": "code",
   "execution_count": 1,
   "outputs": [
    {
     "name": "stdout",
     "output_type": "stream",
     "text": [
      "data\\artist_song\\artist_song.csv\n",
      "data\\artist_song\\artist_song.json\n",
      "data\\billboard\\billboard_top_100.csv\n",
      "data\\input\\songs-2.csv\n",
      "data\\input\\top100.json\n",
      "data\\lyrics\\artist_song_lyrics _bak.csv\n",
      "data\\lyrics\\artist_song_lyrics.csv\n",
      "data\\lyrics\\artist_song_lyrics_bak_old.csv\n",
      "data\\lyrics\\short_lyrics.csv\n"
     ]
    }
   ],
   "source": [
    "import numpy as np # linear algebra\n",
    "import pandas as pd # data processing, CSV file I/O (e.g. pd.read_csv)\n",
    "import seaborn as sns\n",
    "import matplotlib.pyplot as plt\n",
    "import datetime\n",
    "import os\n",
    "for dirname, _, filenames in os.walk('data'):\n",
    "    for filename in filenames:\n",
    "        print(os.path.join(dirname, filename))"
   ],
   "metadata": {
    "collapsed": false,
    "pycharm": {
     "name": "#%%\n"
    }
   }
  },
  {
   "cell_type": "markdown",
   "metadata": {
    "collapsed": true,
    "pycharm": {
     "name": "#%% md\n"
    }
   },
   "source": [
    "#### Grouping song and artist\n",
    "\n",
    "To avoid redundent lyrics requests for lyrics I might already I have, I grouped artists and songs."
   ]
  },
  {
   "cell_type": "code",
   "execution_count": 2,
   "outputs": [],
   "source": [
    "billboard_top_100 = pd.read_csv('data/billboard/billboard_top_100.csv')"
   ],
   "metadata": {
    "collapsed": false,
    "pycharm": {
     "name": "#%%\n"
    }
   }
  },
  {
   "cell_type": "code",
   "execution_count": 3,
   "outputs": [
    {
     "data": {
      "text/plain": "                                                                  peak_rank  \\\nartist                                       song                             \n2 Chainz Featuring Ariana Grande             Rule The World              94   \n2 Chainz Featuring Kendrick Lamar            Momma I Hit A Lick         100   \n2 Chainz Featuring Travis Scott              Whip                        75   \n21 Savage                                    1.5                         86   \n                                             A Lot                       12   \n...                                                                     ...   \nbenny blanco, Tainy, Selena Gomez & J Balvin I Can't Get Enough          66   \nblackbear                                    Hot Girl Bummer             11   \nfor KING & COUNTRY                           God Only Knows              94   \nj-hope Featuring Becky G.                    Chicken Noodle Soup         81   \ntwenty one pilots                            Level Of Concern            23   \n\n                                                                  weeks_on_chart  \nartist                                       song                                 \n2 Chainz Featuring Ariana Grande             Rule The World                    2  \n2 Chainz Featuring Kendrick Lamar            Momma I Hit A Lick                1  \n2 Chainz Featuring Travis Scott              Whip                              1  \n21 Savage                                    1.5                               1  \n                                             A Lot                            23  \n...                                                                          ...  \nbenny blanco, Tainy, Selena Gomez & J Balvin I Can't Get Enough                5  \nblackbear                                    Hot Girl Bummer                  42  \nfor KING & COUNTRY                           God Only Knows                    1  \nj-hope Featuring Becky G.                    Chicken Noodle Soup               1  \ntwenty one pilots                            Level Of Concern                 11  \n\n[1309 rows x 2 columns]",
      "text/html": "<div>\n<style scoped>\n    .dataframe tbody tr th:only-of-type {\n        vertical-align: middle;\n    }\n\n    .dataframe tbody tr th {\n        vertical-align: top;\n    }\n\n    .dataframe thead th {\n        text-align: right;\n    }\n</style>\n<table border=\"1\" class=\"dataframe\">\n  <thead>\n    <tr style=\"text-align: right;\">\n      <th></th>\n      <th></th>\n      <th>peak_rank</th>\n      <th>weeks_on_chart</th>\n    </tr>\n    <tr>\n      <th>artist</th>\n      <th>song</th>\n      <th></th>\n      <th></th>\n    </tr>\n  </thead>\n  <tbody>\n    <tr>\n      <th>2 Chainz Featuring Ariana Grande</th>\n      <th>Rule The World</th>\n      <td>94</td>\n      <td>2</td>\n    </tr>\n    <tr>\n      <th>2 Chainz Featuring Kendrick Lamar</th>\n      <th>Momma I Hit A Lick</th>\n      <td>100</td>\n      <td>1</td>\n    </tr>\n    <tr>\n      <th>2 Chainz Featuring Travis Scott</th>\n      <th>Whip</th>\n      <td>75</td>\n      <td>1</td>\n    </tr>\n    <tr>\n      <th rowspan=\"2\" valign=\"top\">21 Savage</th>\n      <th>1.5</th>\n      <td>86</td>\n      <td>1</td>\n    </tr>\n    <tr>\n      <th>A Lot</th>\n      <td>12</td>\n      <td>23</td>\n    </tr>\n    <tr>\n      <th>...</th>\n      <th>...</th>\n      <td>...</td>\n      <td>...</td>\n    </tr>\n    <tr>\n      <th>benny blanco, Tainy, Selena Gomez &amp; J Balvin</th>\n      <th>I Can't Get Enough</th>\n      <td>66</td>\n      <td>5</td>\n    </tr>\n    <tr>\n      <th>blackbear</th>\n      <th>Hot Girl Bummer</th>\n      <td>11</td>\n      <td>42</td>\n    </tr>\n    <tr>\n      <th>for KING &amp; COUNTRY</th>\n      <th>God Only Knows</th>\n      <td>94</td>\n      <td>1</td>\n    </tr>\n    <tr>\n      <th>j-hope Featuring Becky G.</th>\n      <th>Chicken Noodle Soup</th>\n      <td>81</td>\n      <td>1</td>\n    </tr>\n    <tr>\n      <th>twenty one pilots</th>\n      <th>Level Of Concern</th>\n      <td>23</td>\n      <td>11</td>\n    </tr>\n  </tbody>\n</table>\n<p>1309 rows × 2 columns</p>\n</div>"
     },
     "execution_count": 3,
     "metadata": {},
     "output_type": "execute_result"
    }
   ],
   "source": [
    "artist_song_pt = pd.pivot_table(billboard_top_100, index=['artist', 'song'], values=['peak_rank', 'weeks_on_chart'], aggfunc={'peak_rank' : 'min', 'weeks_on_chart' : 'max'})\n",
    "artist_song_pt"
   ],
   "metadata": {
    "collapsed": false,
    "pycharm": {
     "name": "#%%\n"
    }
   }
  },
  {
   "cell_type": "code",
   "execution_count": 4,
   "outputs": [
    {
     "name": "stdout",
     "output_type": "stream",
     "text": [
      "Unique song names: 722\n",
      "Unique artist names: 1279\n"
     ]
    }
   ],
   "source": [
    "print('Unique song names:', len(billboard_top_100['artist'].unique()))\n",
    "print('Unique artist names:',len(billboard_top_100['song'].unique()))"
   ],
   "metadata": {
    "collapsed": false,
    "pycharm": {
     "name": "#%%\n"
    }
   }
  },
  {
   "cell_type": "markdown",
   "source": [
    "turning the pivot table into a data frame"
   ],
   "metadata": {
    "collapsed": false
   }
  },
  {
   "cell_type": "code",
   "execution_count": 5,
   "outputs": [
    {
     "data": {
      "text/plain": "                              artist                song  weeks_on_chart  \\\n0   2 Chainz Featuring Ariana Grande      Rule The World               2   \n1  2 Chainz Featuring Kendrick Lamar  Momma I Hit A Lick               1   \n2    2 Chainz Featuring Travis Scott                Whip               1   \n3                          21 Savage                 1.5               1   \n4                          21 Savage               A Lot              23   \n\n   peak_rank  \n0         94  \n1        100  \n2         75  \n3         86  \n4         12  ",
      "text/html": "<div>\n<style scoped>\n    .dataframe tbody tr th:only-of-type {\n        vertical-align: middle;\n    }\n\n    .dataframe tbody tr th {\n        vertical-align: top;\n    }\n\n    .dataframe thead th {\n        text-align: right;\n    }\n</style>\n<table border=\"1\" class=\"dataframe\">\n  <thead>\n    <tr style=\"text-align: right;\">\n      <th></th>\n      <th>artist</th>\n      <th>song</th>\n      <th>weeks_on_chart</th>\n      <th>peak_rank</th>\n    </tr>\n  </thead>\n  <tbody>\n    <tr>\n      <th>0</th>\n      <td>2 Chainz Featuring Ariana Grande</td>\n      <td>Rule The World</td>\n      <td>2</td>\n      <td>94</td>\n    </tr>\n    <tr>\n      <th>1</th>\n      <td>2 Chainz Featuring Kendrick Lamar</td>\n      <td>Momma I Hit A Lick</td>\n      <td>1</td>\n      <td>100</td>\n    </tr>\n    <tr>\n      <th>2</th>\n      <td>2 Chainz Featuring Travis Scott</td>\n      <td>Whip</td>\n      <td>1</td>\n      <td>75</td>\n    </tr>\n    <tr>\n      <th>3</th>\n      <td>21 Savage</td>\n      <td>1.5</td>\n      <td>1</td>\n      <td>86</td>\n    </tr>\n    <tr>\n      <th>4</th>\n      <td>21 Savage</td>\n      <td>A Lot</td>\n      <td>23</td>\n      <td>12</td>\n    </tr>\n  </tbody>\n</table>\n</div>"
     },
     "execution_count": 5,
     "metadata": {},
     "output_type": "execute_result"
    }
   ],
   "source": [
    "artist_song_list = []\n",
    "\n",
    "for row in artist_song_pt.itertuples():\n",
    "    artist_song_list.append(row)\n",
    "\n",
    "artist_song = pd.DataFrame(artist_song_list)\n",
    "\n",
    "artist_song[['artist', 'song']] = pd.DataFrame(artist_song['Index'].tolist())\n",
    "\n",
    "artist_song = artist_song[['artist', 'song', 'weeks_on_chart', 'peak_rank']]\n",
    "artist_song.head()"
   ],
   "metadata": {
    "collapsed": false,
    "pycharm": {
     "name": "#%%\n"
    }
   }
  },
  {
   "cell_type": "markdown",
   "source": [
    "rough overview"
   ],
   "metadata": {
    "collapsed": false
   }
  },
  {
   "cell_type": "code",
   "execution_count": 6,
   "outputs": [
    {
     "data": {
      "text/plain": "       weeks_on_chart    peak_rank\ncount     1309.000000  1309.000000\nmean         8.887701    51.262796\nstd         11.162152    28.697031\nmin          1.000000     1.000000\n25%          1.000000    28.000000\n50%          3.000000    53.000000\n75%         15.000000    75.000000\nmax         61.000000   100.000000",
      "text/html": "<div>\n<style scoped>\n    .dataframe tbody tr th:only-of-type {\n        vertical-align: middle;\n    }\n\n    .dataframe tbody tr th {\n        vertical-align: top;\n    }\n\n    .dataframe thead th {\n        text-align: right;\n    }\n</style>\n<table border=\"1\" class=\"dataframe\">\n  <thead>\n    <tr style=\"text-align: right;\">\n      <th></th>\n      <th>weeks_on_chart</th>\n      <th>peak_rank</th>\n    </tr>\n  </thead>\n  <tbody>\n    <tr>\n      <th>count</th>\n      <td>1309.000000</td>\n      <td>1309.000000</td>\n    </tr>\n    <tr>\n      <th>mean</th>\n      <td>8.887701</td>\n      <td>51.262796</td>\n    </tr>\n    <tr>\n      <th>std</th>\n      <td>11.162152</td>\n      <td>28.697031</td>\n    </tr>\n    <tr>\n      <th>min</th>\n      <td>1.000000</td>\n      <td>1.000000</td>\n    </tr>\n    <tr>\n      <th>25%</th>\n      <td>1.000000</td>\n      <td>28.000000</td>\n    </tr>\n    <tr>\n      <th>50%</th>\n      <td>3.000000</td>\n      <td>53.000000</td>\n    </tr>\n    <tr>\n      <th>75%</th>\n      <td>15.000000</td>\n      <td>75.000000</td>\n    </tr>\n    <tr>\n      <th>max</th>\n      <td>61.000000</td>\n      <td>100.000000</td>\n    </tr>\n  </tbody>\n</table>\n</div>"
     },
     "execution_count": 6,
     "metadata": {},
     "output_type": "execute_result"
    }
   ],
   "source": [
    "artist_song.describe()"
   ],
   "metadata": {
    "collapsed": false,
    "pycharm": {
     "name": "#%%\n"
    }
   }
  },
  {
   "cell_type": "markdown",
   "source": [
    "#### Working with censored songs\n",
    "\n",
    "Explicit songnames are censored on billboard but uncensored on genius, which can cause problems when searching for the lyrics."
   ],
   "metadata": {
    "collapsed": false
   }
  },
  {
   "cell_type": "markdown",
   "source": [
    "Identifying censored words."
   ],
   "metadata": {
    "collapsed": false
   }
  },
  {
   "cell_type": "code",
   "execution_count": 7,
   "outputs": [
    {
     "name": "stdout",
     "output_type": "stream",
     "text": [
      "9 censored words: ['N*ggas', 'N*gga', 'Sh*t', 'SH*T', 'N***a', 'P*$$y', 'N**gas', 'B*tch', 'F*ck']\n"
     ]
    }
   ],
   "source": [
    "censored_songnames = artist_song.loc[artist_song['song'].str.contains('\\*')]['song']\n",
    "censored_songnames = censored_songnames.tolist()\n",
    "\n",
    "censored_words = []\n",
    "for songname in censored_songnames:\n",
    "        words = songname.split(' ')\n",
    "        for word in words:\n",
    "            if '*' in word:\n",
    "                censored_words.append(word)\n",
    "\n",
    "print(len(censored_words), 'censored words:', censored_words)"
   ],
   "metadata": {
    "collapsed": false,
    "pycharm": {
     "name": "#%%\n"
    }
   }
  },
  {
   "cell_type": "markdown",
   "source": [
    "Putting every word in a dictionary makes it easy to replace them later with the created `get_uncensored_string` function"
   ],
   "metadata": {
    "collapsed": false
   }
  },
  {
   "cell_type": "code",
   "execution_count": 8,
   "outputs": [],
   "source": [
    "#manual solution due to small size of list, may change later\n",
    "censorship = {\n",
    "                 'N*ggas' : 'Niggas',\n",
    "                 'N*gga' : 'Nigga',\n",
    "                 'Sh*t' : 'Shit',\n",
    "                 'SH*T' : 'SHIT',\n",
    "                'N***a' : 'Nigga',\n",
    "                 'P*$$y' : 'Pu$$y',\n",
    "                 'N**gas' : 'Niggas',\n",
    "                 'B*tch' : 'Bitch',\n",
    "                 'F*ck' : 'Fuck'\n",
    "}\n",
    "\n",
    "\n",
    "def get_uncensored_string(censored_string):\n",
    "    uncensored_words = []\n",
    "    words = censored_string.split(' ')\n",
    "    for word in words:\n",
    "        if word in censorship:\n",
    "            word = censorship[word]\n",
    "        uncensored_words.append(word)\n",
    "    return ' '.join(uncensored_words)"
   ],
   "metadata": {
    "collapsed": false,
    "pycharm": {
     "name": "#%%\n"
    }
   }
  },
  {
   "cell_type": "markdown",
   "source": [
    "`get_uncesored_string` in action:"
   ],
   "metadata": {
    "collapsed": false
   }
  },
  {
   "cell_type": "code",
   "execution_count": 9,
   "outputs": [
    {
     "data": {
      "text/plain": "                                         artist               song  \\\n1165  The Kid LAROI Featuring Machine Gun Kelly  F*ck You, Goodbye   \n\n      weeks_on_chart  peak_rank  \n1165               1         99  ",
      "text/html": "<div>\n<style scoped>\n    .dataframe tbody tr th:only-of-type {\n        vertical-align: middle;\n    }\n\n    .dataframe tbody tr th {\n        vertical-align: top;\n    }\n\n    .dataframe thead th {\n        text-align: right;\n    }\n</style>\n<table border=\"1\" class=\"dataframe\">\n  <thead>\n    <tr style=\"text-align: right;\">\n      <th></th>\n      <th>artist</th>\n      <th>song</th>\n      <th>weeks_on_chart</th>\n      <th>peak_rank</th>\n    </tr>\n  </thead>\n  <tbody>\n    <tr>\n      <th>1165</th>\n      <td>The Kid LAROI Featuring Machine Gun Kelly</td>\n      <td>F*ck You, Goodbye</td>\n      <td>1</td>\n      <td>99</td>\n    </tr>\n  </tbody>\n</table>\n</div>"
     },
     "execution_count": 9,
     "metadata": {},
     "output_type": "execute_result"
    }
   ],
   "source": [
    "artist_song.loc[artist_song['song'].str.contains(\"F\\*ck\") == True]"
   ],
   "metadata": {
    "collapsed": false,
    "pycharm": {
     "name": "#%%\n"
    }
   }
  },
  {
   "cell_type": "code",
   "execution_count": 10,
   "outputs": [
    {
     "data": {
      "text/plain": "artist            The Kid LAROI Featuring Machine Gun Kelly\nsong                                      Fuck You, Goodbye\nweeks_on_chart                                            1\npeak_rank                                                99\nName: 1165, dtype: object"
     },
     "execution_count": 10,
     "metadata": {},
     "output_type": "execute_result"
    }
   ],
   "source": [
    "artist_song['song'] = artist_song['song'].apply(lambda song: get_uncensored_string(song))\n",
    "artist_song.iloc[1165]"
   ],
   "metadata": {
    "collapsed": false,
    "pycharm": {
     "name": "#%%\n"
    }
   }
  },
  {
   "cell_type": "code",
   "execution_count": 11,
   "outputs": [
    {
     "data": {
      "text/plain": "                              artist                song  weeks_on_chart  \\\n0   2 Chainz Featuring Ariana Grande      Rule The World               2   \n1  2 Chainz Featuring Kendrick Lamar  Momma I Hit A Lick               1   \n2    2 Chainz Featuring Travis Scott                Whip               1   \n3                          21 Savage                 1.5               1   \n4                          21 Savage               A Lot              23   \n\n   peak_rank  \n0         94  \n1        100  \n2         75  \n3         86  \n4         12  ",
      "text/html": "<div>\n<style scoped>\n    .dataframe tbody tr th:only-of-type {\n        vertical-align: middle;\n    }\n\n    .dataframe tbody tr th {\n        vertical-align: top;\n    }\n\n    .dataframe thead th {\n        text-align: right;\n    }\n</style>\n<table border=\"1\" class=\"dataframe\">\n  <thead>\n    <tr style=\"text-align: right;\">\n      <th></th>\n      <th>artist</th>\n      <th>song</th>\n      <th>weeks_on_chart</th>\n      <th>peak_rank</th>\n    </tr>\n  </thead>\n  <tbody>\n    <tr>\n      <th>0</th>\n      <td>2 Chainz Featuring Ariana Grande</td>\n      <td>Rule The World</td>\n      <td>2</td>\n      <td>94</td>\n    </tr>\n    <tr>\n      <th>1</th>\n      <td>2 Chainz Featuring Kendrick Lamar</td>\n      <td>Momma I Hit A Lick</td>\n      <td>1</td>\n      <td>100</td>\n    </tr>\n    <tr>\n      <th>2</th>\n      <td>2 Chainz Featuring Travis Scott</td>\n      <td>Whip</td>\n      <td>1</td>\n      <td>75</td>\n    </tr>\n    <tr>\n      <th>3</th>\n      <td>21 Savage</td>\n      <td>1.5</td>\n      <td>1</td>\n      <td>86</td>\n    </tr>\n    <tr>\n      <th>4</th>\n      <td>21 Savage</td>\n      <td>A Lot</td>\n      <td>23</td>\n      <td>12</td>\n    </tr>\n  </tbody>\n</table>\n</div>"
     },
     "execution_count": 11,
     "metadata": {},
     "output_type": "execute_result"
    }
   ],
   "source": [
    "artist_song.head()"
   ],
   "metadata": {
    "collapsed": false,
    "pycharm": {
     "name": "#%%\n"
    }
   }
  },
  {
   "cell_type": "markdown",
   "source": [
    "Exporting DataFrame as a json to get lyrics with the genius framework"
   ],
   "metadata": {
    "collapsed": false
   }
  },
  {
   "cell_type": "code",
   "execution_count": 12,
   "outputs": [],
   "source": [
    "artist_song.to_json('data/artist_song/artist_song.json')\n",
    "\n",
    "\n"
   ],
   "metadata": {
    "collapsed": false,
    "pycharm": {
     "name": "#%%\n"
    }
   }
  }
 ],
 "metadata": {
  "kernelspec": {
   "display_name": "Python 3",
   "language": "python",
   "name": "python3"
  },
  "language_info": {
   "codemirror_mode": {
    "name": "ipython",
    "version": 2
   },
   "file_extension": ".py",
   "mimetype": "text/x-python",
   "name": "python",
   "nbconvert_exporter": "python",
   "pygments_lexer": "ipython2",
   "version": "2.7.6"
  }
 },
 "nbformat": 4,
 "nbformat_minor": 0
}