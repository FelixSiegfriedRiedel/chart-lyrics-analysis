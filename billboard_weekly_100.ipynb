{
 "cells": [
  {
   "cell_type": "code",
   "execution_count": 1,
   "outputs": [
    {
     "name": "stdout",
     "output_type": "stream",
     "text": [
      "data\\artist_song\\artist_song.csv\n",
      "data\\artist_song\\artist_song.json\n",
      "data\\billboard\\billboard_top_100.csv\n",
      "data\\input\\songs-2.csv\n",
      "data\\input\\top100.json\n",
      "data\\lyrics\\artist_song_lyrics _bak.csv\n",
      "data\\lyrics\\artist_song_lyrics.csv\n",
      "data\\lyrics\\artist_song_lyrics_bak_old.csv\n",
      "data\\lyrics\\short_lyrics.csv\n"
     ]
    }
   ],
   "source": [
    "import numpy as np # linear algebra\n",
    "import pandas as pd # data processing, CSV file I/O (e.g. pd.read_csv)\n",
    "import seaborn as sns\n",
    "import matplotlib.pyplot as plt\n",
    "import datetime\n",
    "import os\n",
    "for dirname, _, filenames in os.walk('data'):\n",
    "    for filename in filenames:\n",
    "        print(os.path.join(dirname, filename))"
   ],
   "metadata": {
    "collapsed": false,
    "pycharm": {
     "name": "#%%\n"
    }
   }
  },
  {
   "cell_type": "markdown",
   "source": [
    "# Import"
   ],
   "metadata": {
    "collapsed": false,
    "pycharm": {
     "name": "#%% md\n"
    }
   },
   "execution_count": 86
  },
  {
   "cell_type": "code",
   "execution_count": 2,
   "outputs": [
    {
     "data": {
      "text/plain": "   id  rank        artist                               song rank_last_week  \\\n0   1     1  Mariah Carey    All I Want For Christmas Is You    1 Last Week   \n1   2     2    Brenda Lee  Rockin' Around The Christmas Tree    2 Last Week   \n2   3     3   Bobby Helms                   Jingle Bell Rock    9 Last Week   \n3   4     4     Burl Ives            A Holly Jolly Christmas    6 Last Week   \n4   5     5   Post Malone                            Circles    3 Last Week   \n\n     peak_rank     weeks_on_chart       date  \n0  1 Peak Rank  37 Weeks on Chart 2020-01-04  \n1  2 Peak Rank  32 Weeks on Chart 2020-01-04  \n2  3 Peak Rank  30 Weeks on Chart 2020-01-04  \n3  4 Peak Rank  15 Weeks on Chart 2020-01-04  \n4  1 Peak Rank  17 Weeks on Chart 2020-01-04  ",
      "text/html": "<div>\n<style scoped>\n    .dataframe tbody tr th:only-of-type {\n        vertical-align: middle;\n    }\n\n    .dataframe tbody tr th {\n        vertical-align: top;\n    }\n\n    .dataframe thead th {\n        text-align: right;\n    }\n</style>\n<table border=\"1\" class=\"dataframe\">\n  <thead>\n    <tr style=\"text-align: right;\">\n      <th></th>\n      <th>id</th>\n      <th>rank</th>\n      <th>artist</th>\n      <th>song</th>\n      <th>rank_last_week</th>\n      <th>peak_rank</th>\n      <th>weeks_on_chart</th>\n      <th>date</th>\n    </tr>\n  </thead>\n  <tbody>\n    <tr>\n      <th>0</th>\n      <td>1</td>\n      <td>1</td>\n      <td>Mariah Carey</td>\n      <td>All I Want For Christmas Is You</td>\n      <td>1 Last Week</td>\n      <td>1 Peak Rank</td>\n      <td>37 Weeks on Chart</td>\n      <td>2020-01-04</td>\n    </tr>\n    <tr>\n      <th>1</th>\n      <td>2</td>\n      <td>2</td>\n      <td>Brenda Lee</td>\n      <td>Rockin' Around The Christmas Tree</td>\n      <td>2 Last Week</td>\n      <td>2 Peak Rank</td>\n      <td>32 Weeks on Chart</td>\n      <td>2020-01-04</td>\n    </tr>\n    <tr>\n      <th>2</th>\n      <td>3</td>\n      <td>3</td>\n      <td>Bobby Helms</td>\n      <td>Jingle Bell Rock</td>\n      <td>9 Last Week</td>\n      <td>3 Peak Rank</td>\n      <td>30 Weeks on Chart</td>\n      <td>2020-01-04</td>\n    </tr>\n    <tr>\n      <th>3</th>\n      <td>4</td>\n      <td>4</td>\n      <td>Burl Ives</td>\n      <td>A Holly Jolly Christmas</td>\n      <td>6 Last Week</td>\n      <td>4 Peak Rank</td>\n      <td>15 Weeks on Chart</td>\n      <td>2020-01-04</td>\n    </tr>\n    <tr>\n      <th>4</th>\n      <td>5</td>\n      <td>5</td>\n      <td>Post Malone</td>\n      <td>Circles</td>\n      <td>3 Last Week</td>\n      <td>1 Peak Rank</td>\n      <td>17 Weeks on Chart</td>\n      <td>2020-01-04</td>\n    </tr>\n  </tbody>\n</table>\n</div>"
     },
     "execution_count": 2,
     "metadata": {},
     "output_type": "execute_result"
    }
   ],
   "source": [
    "top2020 = pd.read_json('data/input/top100.json')\n",
    "top2020.head()"
   ],
   "metadata": {
    "collapsed": false,
    "pycharm": {
     "name": "#%%\n"
    }
   }
  },
  {
   "cell_type": "code",
   "execution_count": 3,
   "outputs": [
    {
     "data": {
      "text/plain": "   Unnamed: 0                title                                artist  \\\n0           0                 Mood          24kGoldn Featuring iann dior   \n1           1       Therefore I Am                         Billie Eilish   \n2           2            Positions                         Ariana Grande   \n3           3               I Hope  Gabby Barrett Featuring Charlie Puth   \n4           4  Laugh Now Cry Later              Drake Featuring Lil Durk   \n\n   peakPos  lastPos  weeks  isNew  rank        date  year  \n0        1        1     15  False     1  2020-11-28  2020  \n1        2       94      2  False     2  2020-11-28  2020  \n2        1        2      4  False     3  2020-11-28  2020  \n3        3        3     47  False     4  2020-11-28  2020  \n4        2        4     14  False     5  2020-11-28  2020  ",
      "text/html": "<div>\n<style scoped>\n    .dataframe tbody tr th:only-of-type {\n        vertical-align: middle;\n    }\n\n    .dataframe tbody tr th {\n        vertical-align: top;\n    }\n\n    .dataframe thead th {\n        text-align: right;\n    }\n</style>\n<table border=\"1\" class=\"dataframe\">\n  <thead>\n    <tr style=\"text-align: right;\">\n      <th></th>\n      <th>Unnamed: 0</th>\n      <th>title</th>\n      <th>artist</th>\n      <th>peakPos</th>\n      <th>lastPos</th>\n      <th>weeks</th>\n      <th>isNew</th>\n      <th>rank</th>\n      <th>date</th>\n      <th>year</th>\n    </tr>\n  </thead>\n  <tbody>\n    <tr>\n      <th>0</th>\n      <td>0</td>\n      <td>Mood</td>\n      <td>24kGoldn Featuring iann dior</td>\n      <td>1</td>\n      <td>1</td>\n      <td>15</td>\n      <td>False</td>\n      <td>1</td>\n      <td>2020-11-28</td>\n      <td>2020</td>\n    </tr>\n    <tr>\n      <th>1</th>\n      <td>1</td>\n      <td>Therefore I Am</td>\n      <td>Billie Eilish</td>\n      <td>2</td>\n      <td>94</td>\n      <td>2</td>\n      <td>False</td>\n      <td>2</td>\n      <td>2020-11-28</td>\n      <td>2020</td>\n    </tr>\n    <tr>\n      <th>2</th>\n      <td>2</td>\n      <td>Positions</td>\n      <td>Ariana Grande</td>\n      <td>1</td>\n      <td>2</td>\n      <td>4</td>\n      <td>False</td>\n      <td>3</td>\n      <td>2020-11-28</td>\n      <td>2020</td>\n    </tr>\n    <tr>\n      <th>3</th>\n      <td>3</td>\n      <td>I Hope</td>\n      <td>Gabby Barrett Featuring Charlie Puth</td>\n      <td>3</td>\n      <td>3</td>\n      <td>47</td>\n      <td>False</td>\n      <td>4</td>\n      <td>2020-11-28</td>\n      <td>2020</td>\n    </tr>\n    <tr>\n      <th>4</th>\n      <td>4</td>\n      <td>Laugh Now Cry Later</td>\n      <td>Drake Featuring Lil Durk</td>\n      <td>2</td>\n      <td>4</td>\n      <td>14</td>\n      <td>False</td>\n      <td>5</td>\n      <td>2020-11-28</td>\n      <td>2020</td>\n    </tr>\n  </tbody>\n</table>\n</div>"
     },
     "execution_count": 3,
     "metadata": {},
     "output_type": "execute_result"
    }
   ],
   "source": [
    "top2019 = pd.read_csv('data/input/songs-2.csv')\n",
    "top2019.head()"
   ],
   "metadata": {
    "collapsed": false,
    "pycharm": {
     "name": "#%%\n"
    }
   }
  },
  {
   "cell_type": "markdown",
   "source": [
    "# Preparing 2019 Data\n",
    "### Changing Cols"
   ],
   "metadata": {
    "collapsed": false,
    "pycharm": {
     "name": "#%% md\n"
    }
   }
  },
  {
   "cell_type": "code",
   "execution_count": 4,
   "outputs": [
    {
     "name": "stdout",
     "output_type": "stream",
     "text": [
      "Index(['id', 'rank', 'artist', 'song', 'rank_last_week', 'peak_rank',\n",
      "       'weeks_on_chart', 'date'],\n",
      "      dtype='object')\n",
      "____________________________________________________________________________________________________\n",
      "Index(['Unnamed: 0', 'title', 'artist', 'peakPos', 'lastPos', 'weeks', 'isNew',\n",
      "       'rank', 'date', 'year'],\n",
      "      dtype='object')\n"
     ]
    }
   ],
   "source": [
    "print(top2020.columns)\n",
    "print(100*'_')\n",
    "print(top2019.columns)\n"
   ],
   "metadata": {
    "collapsed": false,
    "pycharm": {
     "name": "#%%\n"
    }
   }
  },
  {
   "cell_type": "code",
   "execution_count": 5,
   "outputs": [
    {
     "data": {
      "text/plain": "                  song                                artist  peak_rank  \\\n0                 Mood          24kGoldn Featuring iann dior          1   \n1       Therefore I Am                         Billie Eilish          2   \n2            Positions                         Ariana Grande          1   \n3               I Hope  Gabby Barrett Featuring Charlie Puth          3   \n4  Laugh Now Cry Later              Drake Featuring Lil Durk          2   \n\n   rank_last_week  weeks_on_chart  rank        date  \n0               1              15     1  2020-11-28  \n1              94               2     2  2020-11-28  \n2               2               4     3  2020-11-28  \n3               3              47     4  2020-11-28  \n4               4              14     5  2020-11-28  ",
      "text/html": "<div>\n<style scoped>\n    .dataframe tbody tr th:only-of-type {\n        vertical-align: middle;\n    }\n\n    .dataframe tbody tr th {\n        vertical-align: top;\n    }\n\n    .dataframe thead th {\n        text-align: right;\n    }\n</style>\n<table border=\"1\" class=\"dataframe\">\n  <thead>\n    <tr style=\"text-align: right;\">\n      <th></th>\n      <th>song</th>\n      <th>artist</th>\n      <th>peak_rank</th>\n      <th>rank_last_week</th>\n      <th>weeks_on_chart</th>\n      <th>rank</th>\n      <th>date</th>\n    </tr>\n  </thead>\n  <tbody>\n    <tr>\n      <th>0</th>\n      <td>Mood</td>\n      <td>24kGoldn Featuring iann dior</td>\n      <td>1</td>\n      <td>1</td>\n      <td>15</td>\n      <td>1</td>\n      <td>2020-11-28</td>\n    </tr>\n    <tr>\n      <th>1</th>\n      <td>Therefore I Am</td>\n      <td>Billie Eilish</td>\n      <td>2</td>\n      <td>94</td>\n      <td>2</td>\n      <td>2</td>\n      <td>2020-11-28</td>\n    </tr>\n    <tr>\n      <th>2</th>\n      <td>Positions</td>\n      <td>Ariana Grande</td>\n      <td>1</td>\n      <td>2</td>\n      <td>4</td>\n      <td>3</td>\n      <td>2020-11-28</td>\n    </tr>\n    <tr>\n      <th>3</th>\n      <td>I Hope</td>\n      <td>Gabby Barrett Featuring Charlie Puth</td>\n      <td>3</td>\n      <td>3</td>\n      <td>47</td>\n      <td>4</td>\n      <td>2020-11-28</td>\n    </tr>\n    <tr>\n      <th>4</th>\n      <td>Laugh Now Cry Later</td>\n      <td>Drake Featuring Lil Durk</td>\n      <td>2</td>\n      <td>4</td>\n      <td>14</td>\n      <td>5</td>\n      <td>2020-11-28</td>\n    </tr>\n  </tbody>\n</table>\n</div>"
     },
     "execution_count": 5,
     "metadata": {},
     "output_type": "execute_result"
    }
   ],
   "source": [
    "top2019.rename(columns = {'title':'song', 'peakPos':'peak_rank', 'lastPos':'rank_last_week', 'weeks': 'weeks_on_chart'}, inplace = True)\n",
    "top2019 = top2019.drop(['Unnamed: 0', 'isNew', 'year'], axis=1)\n",
    "top2019.head()"
   ],
   "metadata": {
    "collapsed": false,
    "pycharm": {
     "name": "#%%\n"
    }
   }
  },
  {
   "cell_type": "markdown",
   "source": [
    "### Checking DTypes"
   ],
   "metadata": {
    "collapsed": false,
    "pycharm": {
     "name": "#%% md\n"
    }
   }
  },
  {
   "cell_type": "code",
   "execution_count": 6,
   "outputs": [
    {
     "name": "stdout",
     "output_type": "stream",
     "text": [
      "<class 'pandas.core.frame.DataFrame'>\n",
      "RangeIndex: 10000 entries, 0 to 9999\n",
      "Data columns (total 7 columns):\n",
      " #   Column          Non-Null Count  Dtype \n",
      "---  ------          --------------  ----- \n",
      " 0   song            10000 non-null  object\n",
      " 1   artist          10000 non-null  object\n",
      " 2   peak_rank       10000 non-null  int64 \n",
      " 3   rank_last_week  10000 non-null  int64 \n",
      " 4   weeks_on_chart  10000 non-null  int64 \n",
      " 5   rank            10000 non-null  int64 \n",
      " 6   date            10000 non-null  object\n",
      "dtypes: int64(4), object(3)\n",
      "memory usage: 547.0+ KB\n"
     ]
    }
   ],
   "source": [
    "top2019.info()"
   ],
   "metadata": {
    "collapsed": false,
    "pycharm": {
     "name": "#%%\n"
    }
   }
  },
  {
   "cell_type": "markdown",
   "source": [
    "### Converting object to datetime"
   ],
   "metadata": {
    "collapsed": false,
    "pycharm": {
     "name": "#%% md\n"
    }
   }
  },
  {
   "cell_type": "code",
   "execution_count": 7,
   "outputs": [
    {
     "name": "stdout",
     "output_type": "stream",
     "text": [
      "<class 'pandas.core.frame.DataFrame'>\n",
      "RangeIndex: 10000 entries, 0 to 9999\n",
      "Data columns (total 7 columns):\n",
      " #   Column          Non-Null Count  Dtype         \n",
      "---  ------          --------------  -----         \n",
      " 0   song            10000 non-null  object        \n",
      " 1   artist          10000 non-null  object        \n",
      " 2   peak_rank       10000 non-null  int64         \n",
      " 3   rank_last_week  10000 non-null  int64         \n",
      " 4   weeks_on_chart  10000 non-null  int64         \n",
      " 5   rank            10000 non-null  int64         \n",
      " 6   date            10000 non-null  datetime64[ns]\n",
      "dtypes: datetime64[ns](1), int64(4), object(2)\n",
      "memory usage: 547.0+ KB\n"
     ]
    }
   ],
   "source": [
    "top2019['date'] = pd.to_datetime(top2019['date'], format='%Y-%m-%d')\n",
    "top2019.info()"
   ],
   "metadata": {
    "collapsed": false,
    "pycharm": {
     "name": "#%%\n"
    }
   }
  },
  {
   "cell_type": "code",
   "execution_count": 8,
   "outputs": [
    {
     "data": {
      "text/plain": "                  song                                artist  peak_rank  \\\n0                 Mood          24kGoldn Featuring iann dior          1   \n1       Therefore I Am                         Billie Eilish          2   \n2            Positions                         Ariana Grande          1   \n3               I Hope  Gabby Barrett Featuring Charlie Puth          3   \n4  Laugh Now Cry Later              Drake Featuring Lil Durk          2   \n\n   rank_last_week  weeks_on_chart  rank       date  \n0               1              15     1 2020-11-28  \n1              94               2     2 2020-11-28  \n2               2               4     3 2020-11-28  \n3               3              47     4 2020-11-28  \n4               4              14     5 2020-11-28  ",
      "text/html": "<div>\n<style scoped>\n    .dataframe tbody tr th:only-of-type {\n        vertical-align: middle;\n    }\n\n    .dataframe tbody tr th {\n        vertical-align: top;\n    }\n\n    .dataframe thead th {\n        text-align: right;\n    }\n</style>\n<table border=\"1\" class=\"dataframe\">\n  <thead>\n    <tr style=\"text-align: right;\">\n      <th></th>\n      <th>song</th>\n      <th>artist</th>\n      <th>peak_rank</th>\n      <th>rank_last_week</th>\n      <th>weeks_on_chart</th>\n      <th>rank</th>\n      <th>date</th>\n    </tr>\n  </thead>\n  <tbody>\n    <tr>\n      <th>0</th>\n      <td>Mood</td>\n      <td>24kGoldn Featuring iann dior</td>\n      <td>1</td>\n      <td>1</td>\n      <td>15</td>\n      <td>1</td>\n      <td>2020-11-28</td>\n    </tr>\n    <tr>\n      <th>1</th>\n      <td>Therefore I Am</td>\n      <td>Billie Eilish</td>\n      <td>2</td>\n      <td>94</td>\n      <td>2</td>\n      <td>2</td>\n      <td>2020-11-28</td>\n    </tr>\n    <tr>\n      <th>2</th>\n      <td>Positions</td>\n      <td>Ariana Grande</td>\n      <td>1</td>\n      <td>2</td>\n      <td>4</td>\n      <td>3</td>\n      <td>2020-11-28</td>\n    </tr>\n    <tr>\n      <th>3</th>\n      <td>I Hope</td>\n      <td>Gabby Barrett Featuring Charlie Puth</td>\n      <td>3</td>\n      <td>3</td>\n      <td>47</td>\n      <td>4</td>\n      <td>2020-11-28</td>\n    </tr>\n    <tr>\n      <th>4</th>\n      <td>Laugh Now Cry Later</td>\n      <td>Drake Featuring Lil Durk</td>\n      <td>2</td>\n      <td>4</td>\n      <td>14</td>\n      <td>5</td>\n      <td>2020-11-28</td>\n    </tr>\n  </tbody>\n</table>\n</div>"
     },
     "execution_count": 8,
     "metadata": {},
     "output_type": "execute_result"
    }
   ],
   "source": [
    "top2019.head()"
   ],
   "metadata": {
    "collapsed": false,
    "pycharm": {
     "name": "#%%\n"
    }
   }
  },
  {
   "cell_type": "markdown",
   "source": [
    "### Getting 2019 Charts"
   ],
   "metadata": {
    "collapsed": false,
    "pycharm": {
     "name": "#%% md\n"
    }
   }
  },
  {
   "cell_type": "code",
   "execution_count": 9,
   "outputs": [
    {
     "name": "stdout",
     "output_type": "stream",
     "text": [
      "(5200, 7)\n",
      "2019-01-05 00:00:00\n",
      "2019-12-28 00:00:00\n"
     ]
    }
   ],
   "source": [
    "top2019 = top2019.loc[(top2019['date'] > '2018-12-31') & (top2019['date'] < '2020-01-04')]\n",
    "print(top2019.shape)\n",
    "print(top2019['date'].min())\n",
    "print(top2019['date'].max())"
   ],
   "metadata": {
    "collapsed": false,
    "pycharm": {
     "name": "#%%\n"
    }
   }
  },
  {
   "cell_type": "markdown",
   "source": [
    "# Preparing 2020 Data\n",
    "\n",
    "### Checking Shape"
   ],
   "metadata": {
    "collapsed": false,
    "pycharm": {
     "name": "#%% md\n"
    }
   }
  },
  {
   "cell_type": "code",
   "execution_count": 10,
   "outputs": [
    {
     "name": "stdout",
     "output_type": "stream",
     "text": [
      "(5300, 7)\n",
      "2020-01-04 00:00:00\n",
      "2021-01-02 00:00:00\n"
     ]
    }
   ],
   "source": [
    "top2020 = top2020.drop(['id'], axis=1)\n",
    "print(top2020.shape)\n",
    "print(top2020['date'].min())\n",
    "print(top2020['date'].max())"
   ],
   "metadata": {
    "collapsed": false,
    "pycharm": {
     "name": "#%%\n"
    }
   }
  },
  {
   "cell_type": "code",
   "execution_count": 11,
   "outputs": [
    {
     "name": "stdout",
     "output_type": "stream",
     "text": [
      "<class 'pandas.core.frame.DataFrame'>\n",
      "RangeIndex: 5300 entries, 0 to 5299\n",
      "Data columns (total 7 columns):\n",
      " #   Column          Non-Null Count  Dtype         \n",
      "---  ------          --------------  -----         \n",
      " 0   rank            5300 non-null   int64         \n",
      " 1   artist          5300 non-null   object        \n",
      " 2   song            5300 non-null   object        \n",
      " 3   rank_last_week  5300 non-null   object        \n",
      " 4   peak_rank       5300 non-null   object        \n",
      " 5   weeks_on_chart  5300 non-null   object        \n",
      " 6   date            5300 non-null   datetime64[ns]\n",
      "dtypes: datetime64[ns](1), int64(1), object(5)\n",
      "memory usage: 290.0+ KB\n"
     ]
    }
   ],
   "source": [
    "top2020.info()"
   ],
   "metadata": {
    "collapsed": false,
    "pycharm": {
     "name": "#%%\n"
    }
   }
  },
  {
   "cell_type": "code",
   "execution_count": 12,
   "outputs": [],
   "source": [
    "top2020['rank_last_week'] = top2020['rank_last_week'].apply(lambda rank_last_week: rank_last_week[:-10]).replace('-', 0)\n",
    "top2020['peak_rank'] = top2020['peak_rank'].apply(lambda peak_rank: peak_rank[:-10]).replace('-', 0)\n",
    "top2020['weeks_on_chart'] = top2020['weeks_on_chart'].apply(lambda weeks_on_chart: weeks_on_chart[:-15]).replace('-', 0)\n",
    "\n",
    "for col in ['rank_last_week', 'peak_rank', 'weeks_on_chart']:\n",
    "    top2020[col] = pd.to_numeric(top2020[col], errors='coerce')"
   ],
   "metadata": {
    "collapsed": false,
    "pycharm": {
     "name": "#%%\n"
    }
   }
  },
  {
   "cell_type": "markdown",
   "source": [
    "# Merge"
   ],
   "metadata": {
    "collapsed": false
   }
  },
  {
   "cell_type": "code",
   "execution_count": 13,
   "outputs": [
    {
     "data": {
      "text/plain": "(10500, 7)"
     },
     "execution_count": 13,
     "metadata": {},
     "output_type": "execute_result"
    }
   ],
   "source": [
    "billboard_top_100 = top2019.merge(top2020, how='outer')\n",
    "billboard_top_100.shape"
   ],
   "metadata": {
    "collapsed": false,
    "pycharm": {
     "name": "#%%\n"
    }
   }
  },
  {
   "cell_type": "code",
   "execution_count": 14,
   "outputs": [
    {
     "data": {
      "text/plain": "                        song            artist  peak_rank  rank_last_week  \\\n10495              Good Time         Niko Moon         71              79   \n10496  Throat Baby (Go Baby)          BRS Kash         69              81   \n10497                Errbody          Lil Baby         41              41   \n10498  Favorite Time Of Year  Carrie Underwood         80              80   \n10499         Beautiful Trip          Kid Cudi        100               0   \n\n       weeks_on_chart  rank       date  \n10495              11    96 2021-01-02  \n10496               9    97 2021-01-02  \n10497               2    98 2021-01-02  \n10498               3    99 2021-01-02  \n10499               1   100 2021-01-02  ",
      "text/html": "<div>\n<style scoped>\n    .dataframe tbody tr th:only-of-type {\n        vertical-align: middle;\n    }\n\n    .dataframe tbody tr th {\n        vertical-align: top;\n    }\n\n    .dataframe thead th {\n        text-align: right;\n    }\n</style>\n<table border=\"1\" class=\"dataframe\">\n  <thead>\n    <tr style=\"text-align: right;\">\n      <th></th>\n      <th>song</th>\n      <th>artist</th>\n      <th>peak_rank</th>\n      <th>rank_last_week</th>\n      <th>weeks_on_chart</th>\n      <th>rank</th>\n      <th>date</th>\n    </tr>\n  </thead>\n  <tbody>\n    <tr>\n      <th>10495</th>\n      <td>Good Time</td>\n      <td>Niko Moon</td>\n      <td>71</td>\n      <td>79</td>\n      <td>11</td>\n      <td>96</td>\n      <td>2021-01-02</td>\n    </tr>\n    <tr>\n      <th>10496</th>\n      <td>Throat Baby (Go Baby)</td>\n      <td>BRS Kash</td>\n      <td>69</td>\n      <td>81</td>\n      <td>9</td>\n      <td>97</td>\n      <td>2021-01-02</td>\n    </tr>\n    <tr>\n      <th>10497</th>\n      <td>Errbody</td>\n      <td>Lil Baby</td>\n      <td>41</td>\n      <td>41</td>\n      <td>2</td>\n      <td>98</td>\n      <td>2021-01-02</td>\n    </tr>\n    <tr>\n      <th>10498</th>\n      <td>Favorite Time Of Year</td>\n      <td>Carrie Underwood</td>\n      <td>80</td>\n      <td>80</td>\n      <td>3</td>\n      <td>99</td>\n      <td>2021-01-02</td>\n    </tr>\n    <tr>\n      <th>10499</th>\n      <td>Beautiful Trip</td>\n      <td>Kid Cudi</td>\n      <td>100</td>\n      <td>0</td>\n      <td>1</td>\n      <td>100</td>\n      <td>2021-01-02</td>\n    </tr>\n  </tbody>\n</table>\n</div>"
     },
     "execution_count": 14,
     "metadata": {},
     "output_type": "execute_result"
    }
   ],
   "source": [
    "billboard_top_100.sort_values(by=['date', 'rank'], inplace=True)\n",
    "billboard_top_100.reset_index()\n",
    "billboard_top_100.tail()"
   ],
   "metadata": {
    "collapsed": false,
    "pycharm": {
     "name": "#%%\n"
    }
   }
  },
  {
   "cell_type": "code",
   "execution_count": 15,
   "outputs": [],
   "source": [
    "billboard_top_100.to_csv('data/billboard/billboard_top_100.csv')"
   ],
   "metadata": {
    "collapsed": false,
    "pycharm": {
     "name": "#%%\n"
    }
   }
  }
 ],
 "metadata": {
  "kernelspec": {
   "display_name": "Python 3",
   "language": "python",
   "name": "python3"
  },
  "language_info": {
   "codemirror_mode": {
    "name": "ipython",
    "version": 2
   },
   "file_extension": ".py",
   "mimetype": "text/x-python",
   "name": "python",
   "nbconvert_exporter": "python",
   "pygments_lexer": "ipython2",
   "version": "2.7.6"
  }
 },
 "nbformat": 4,
 "nbformat_minor": 0
}