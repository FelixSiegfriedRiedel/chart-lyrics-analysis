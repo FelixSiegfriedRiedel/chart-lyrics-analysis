{
 "cells": [
  {
   "cell_type": "code",
   "execution_count": 3,
   "metadata": {
    "collapsed": true
   },
   "outputs": [
    {
     "name": "stdout",
     "output_type": "stream",
     "text": [
      "data\\artist_song\\artist_song.csv\n",
      "data\\artist_song\\artist_song.json\n",
      "data\\billboard\\billboard_top_100.csv\n",
      "data\\billboard\\billboard_top_100_2020.csv\n",
      "data\\input\\songs-2.csv\n",
      "data\\input\\top100.json\n",
      "data\\input\\top100_old.json\n",
      "data\\lyrics\\artist_song_lyrics.csv\n",
      "data\\lyrics\\filtered_lyrics.csv\n",
      "data\\lyrics\\filtered_lyrics.xlsx\n",
      "data\\lyrics\\long_lyrics.csv\n",
      "data\\lyrics\\long_lyrics.xlsx\n",
      "data\\lyrics\\lyrics.xlsx\n",
      "data\\lyrics\\missing_lyrics.csv\n",
      "data\\lyrics\\missing_lyrics.xlsx\n",
      "data\\lyrics\\short_lyrics.csv\n"
     ]
    }
   ],
   "source": [
    "import numpy as np # linear algebra\n",
    "import pandas as pd # data processing, CSV file I/O (e.g. pd.read_csv)\n",
    "import seaborn as sns\n",
    "import matplotlib.pyplot as plt\n",
    "import datetime\n",
    "import os\n",
    "for dirname, _, filenames in os.walk('data'):\n",
    "    for filename in filenames:\n",
    "        print(os.path.join(dirname, filename))\n"
   ]
  },
  {
   "cell_type": "code",
   "execution_count": 4,
   "metadata": {
    "pycharm": {
     "name": "#%%\n"
    }
   },
   "outputs": [
    {
     "data": {
      "text/plain": "   billboard_id  lyrics_id                  artist   first_artist  \\\n0             0         91           Ariana Grande  Ariana Grande   \n1             1        481                  Halsey         Halsey   \n2             2        842            Mariah Carey   Mariah Carey   \n3             3       1216            Travis Scott   Travis Scott   \n4             4       1019  Post Malone & Swae Lee    Post Malone   \n\n                            song  weeks_on_chart  peak_rank  \\\n0                  Thank U, Next            28.0        1.0   \n1                     Without Me            52.0        1.0   \n2  All I Want For Christmas I...            43.0        1.0   \n3                     Sicko Mode            52.0        1.0   \n4  Sunflower (Spider-Man: Int...            53.0        1.0   \n\n                          lyrics  length  word_count language  language_score  \n0  Thought I'd end up with Se...  2427.0       459.0       en        0.999996  \n1  Found you when your heart ...  2097.0       435.0       en        0.999997  \n2  I don't want a lot for Chr...  1947.0       389.0       en        0.999999  \n3  Astro, yeah Sun is down, f...  3973.0       772.0       en        0.999997  \n4  Ayy, ayy, ayy, ayy (Ooh) O...  1564.0       306.0       en        0.999997  ",
      "text/html": "<div>\n<style scoped>\n    .dataframe tbody tr th:only-of-type {\n        vertical-align: middle;\n    }\n\n    .dataframe tbody tr th {\n        vertical-align: top;\n    }\n\n    .dataframe thead th {\n        text-align: right;\n    }\n</style>\n<table border=\"1\" class=\"dataframe\">\n  <thead>\n    <tr style=\"text-align: right;\">\n      <th></th>\n      <th>billboard_id</th>\n      <th>lyrics_id</th>\n      <th>artist</th>\n      <th>first_artist</th>\n      <th>song</th>\n      <th>weeks_on_chart</th>\n      <th>peak_rank</th>\n      <th>lyrics</th>\n      <th>length</th>\n      <th>word_count</th>\n      <th>language</th>\n      <th>language_score</th>\n    </tr>\n  </thead>\n  <tbody>\n    <tr>\n      <th>0</th>\n      <td>0</td>\n      <td>91</td>\n      <td>Ariana Grande</td>\n      <td>Ariana Grande</td>\n      <td>Thank U, Next</td>\n      <td>28.0</td>\n      <td>1.0</td>\n      <td>Thought I'd end up with Se...</td>\n      <td>2427.0</td>\n      <td>459.0</td>\n      <td>en</td>\n      <td>0.999996</td>\n    </tr>\n    <tr>\n      <th>1</th>\n      <td>1</td>\n      <td>481</td>\n      <td>Halsey</td>\n      <td>Halsey</td>\n      <td>Without Me</td>\n      <td>52.0</td>\n      <td>1.0</td>\n      <td>Found you when your heart ...</td>\n      <td>2097.0</td>\n      <td>435.0</td>\n      <td>en</td>\n      <td>0.999997</td>\n    </tr>\n    <tr>\n      <th>2</th>\n      <td>2</td>\n      <td>842</td>\n      <td>Mariah Carey</td>\n      <td>Mariah Carey</td>\n      <td>All I Want For Christmas I...</td>\n      <td>43.0</td>\n      <td>1.0</td>\n      <td>I don't want a lot for Chr...</td>\n      <td>1947.0</td>\n      <td>389.0</td>\n      <td>en</td>\n      <td>0.999999</td>\n    </tr>\n    <tr>\n      <th>3</th>\n      <td>3</td>\n      <td>1216</td>\n      <td>Travis Scott</td>\n      <td>Travis Scott</td>\n      <td>Sicko Mode</td>\n      <td>52.0</td>\n      <td>1.0</td>\n      <td>Astro, yeah Sun is down, f...</td>\n      <td>3973.0</td>\n      <td>772.0</td>\n      <td>en</td>\n      <td>0.999997</td>\n    </tr>\n    <tr>\n      <th>4</th>\n      <td>4</td>\n      <td>1019</td>\n      <td>Post Malone &amp; Swae Lee</td>\n      <td>Post Malone</td>\n      <td>Sunflower (Spider-Man: Int...</td>\n      <td>53.0</td>\n      <td>1.0</td>\n      <td>Ayy, ayy, ayy, ayy (Ooh) O...</td>\n      <td>1564.0</td>\n      <td>306.0</td>\n      <td>en</td>\n      <td>0.999997</td>\n    </tr>\n  </tbody>\n</table>\n</div>"
     },
     "execution_count": 4,
     "metadata": {},
     "output_type": "execute_result"
    }
   ],
   "source": [
    "pd.set_option('display.max_rows', 10)\n",
    "pd.set_option('display.max_colwidth', 30)\n",
    "lyrics = pd.read_csv('data/lyrics/filtered_lyrics.csv', index_col=0)\n",
    "lyrics.sort_values(by='id', ascending=True, inplace=True)\n",
    "lyrics.rename(columns={'id' : 'billboard_id'}, inplace=True)\n",
    "lyrics['lyrics_id'] = lyrics.index\n",
    "lyrics=lyrics[['billboard_id','lyrics_id', 'artist', 'first_artist', 'song', 'weeks_on_chart', 'peak_rank',\n",
    "       'lyrics', 'length', 'word_count', 'language', 'language_score']]\n",
    "lyrics.reset_index(inplace=True,drop=True)\n",
    "lyrics.head()"
   ]
  },
  {
   "cell_type": "code",
   "execution_count": 5,
   "metadata": {
    "pycharm": {
     "name": "#%%\n"
    }
   },
   "outputs": [
    {
     "name": "stdout",
     "output_type": "stream",
     "text": [
      "\\begin{tabular}{rrlllrrl}\n",
      "\\toprule\n",
      " billboard\\_id &  lyrics\\_id &                 artist &  first\\_artist &                           song &  weeks\\_on\\_chart &  peak\\_rank &                         lyrics \\\\\n",
      "\\midrule\n",
      "            0 &         91 &          Ariana Grande & Ariana Grande &                  Thank U, Next &            28.0 &        1.0 & Thought I'd end up with Sea... \\\\\n",
      "            1 &        481 &                 Halsey &        Halsey &                     Without Me &            52.0 &        1.0 & Found you when your heart w... \\\\\n",
      "            2 &        842 &           Mariah Carey &  Mariah Carey & All I Want For Christmas Is... &            43.0 &        1.0 & I don't want a lot for Chri... \\\\\n",
      "            3 &       1216 &           Travis Scott &  Travis Scott &                     Sicko Mode &            52.0 &        1.0 & Astro, yeah Sun is down, fr... \\\\\n",
      "            4 &       1019 & Post Malone \\& Swae Lee &   Post Malone & Sunflower (Spider-Man: Into... &            53.0 &        1.0 & Ayy, ayy, ayy, ayy (Ooh) Oo... \\\\\n",
      "\\bottomrule\n",
      "\\end{tabular}\n",
      "\n"
     ]
    }
   ],
   "source": [
    "lyrics_lat = lyrics[['billboard_id','lyrics_id', 'artist', 'first_artist', 'song', 'weeks_on_chart', 'peak_rank',\n",
    "       'lyrics']].head()\n",
    "\n",
    "print(lyrics_lat.to_latex(index=False))"
   ]
  },
  {
   "cell_type": "code",
   "execution_count": 6,
   "metadata": {
    "pycharm": {
     "name": "#%%\n"
    }
   },
   "outputs": [],
   "source": [
    "def remove_last_number(string):\n",
    "    first, *middle, last = string.split()\n",
    "    last = ''.join([i for i in last if not i.isdigit()])\n",
    "    middle.insert(0, first)\n",
    "    middle.append(last)\n",
    "    string = ' '.join(middle)\n",
    "    return string\n"
   ]
  },
  {
   "cell_type": "code",
   "execution_count": 7,
   "metadata": {
    "pycharm": {
     "name": "#%%\n"
    }
   },
   "outputs": [],
   "source": [
    "lyrics['lyrics'] = lyrics['lyrics'].apply(lambda string: remove_last_number(string))"
   ]
  },
  {
   "cell_type": "code",
   "execution_count": 8,
   "metadata": {
    "pycharm": {
     "name": "#%%\n"
    }
   },
   "outputs": [
    {
     "data": {
      "text/plain": "       billboard_id                      song                       artist  \\\n10495         10495        Hole In The Bottle             Kelsea Ballerini   \n10496         10496         No Body, No Crime  Taylor Swift Featuring HAIM   \n10497         10497  Moonwalking In Calabasas                          DDG   \n10498         10498         Took Her To The O                     King Von   \n10499         10499       Put Your Records On                  Ritt Momney   \n\n       peak_rank  rank_last_week  weeks_on_chart  rank        date  \n10495         72               0              10    96  2021-01-02  \n10496         34              34               2    97  2021-01-02  \n10497         98               0               1    98  2021-01-02  \n10498         47               0               6    99  2021-01-02  \n10499         79               0              10   100  2021-01-02  ",
      "text/html": "<div>\n<style scoped>\n    .dataframe tbody tr th:only-of-type {\n        vertical-align: middle;\n    }\n\n    .dataframe tbody tr th {\n        vertical-align: top;\n    }\n\n    .dataframe thead th {\n        text-align: right;\n    }\n</style>\n<table border=\"1\" class=\"dataframe\">\n  <thead>\n    <tr style=\"text-align: right;\">\n      <th></th>\n      <th>billboard_id</th>\n      <th>song</th>\n      <th>artist</th>\n      <th>peak_rank</th>\n      <th>rank_last_week</th>\n      <th>weeks_on_chart</th>\n      <th>rank</th>\n      <th>date</th>\n    </tr>\n  </thead>\n  <tbody>\n    <tr>\n      <th>10495</th>\n      <td>10495</td>\n      <td>Hole In The Bottle</td>\n      <td>Kelsea Ballerini</td>\n      <td>72</td>\n      <td>0</td>\n      <td>10</td>\n      <td>96</td>\n      <td>2021-01-02</td>\n    </tr>\n    <tr>\n      <th>10496</th>\n      <td>10496</td>\n      <td>No Body, No Crime</td>\n      <td>Taylor Swift Featuring HAIM</td>\n      <td>34</td>\n      <td>34</td>\n      <td>2</td>\n      <td>97</td>\n      <td>2021-01-02</td>\n    </tr>\n    <tr>\n      <th>10497</th>\n      <td>10497</td>\n      <td>Moonwalking In Calabasas</td>\n      <td>DDG</td>\n      <td>98</td>\n      <td>0</td>\n      <td>1</td>\n      <td>98</td>\n      <td>2021-01-02</td>\n    </tr>\n    <tr>\n      <th>10498</th>\n      <td>10498</td>\n      <td>Took Her To The O</td>\n      <td>King Von</td>\n      <td>47</td>\n      <td>0</td>\n      <td>6</td>\n      <td>99</td>\n      <td>2021-01-02</td>\n    </tr>\n    <tr>\n      <th>10499</th>\n      <td>10499</td>\n      <td>Put Your Records On</td>\n      <td>Ritt Momney</td>\n      <td>79</td>\n      <td>0</td>\n      <td>10</td>\n      <td>100</td>\n      <td>2021-01-02</td>\n    </tr>\n  </tbody>\n</table>\n</div>"
     },
     "execution_count": 8,
     "metadata": {},
     "output_type": "execute_result"
    }
   ],
   "source": [
    "top100 = pd.read_csv('data/billboard/billboard_top_100.csv', index_col=0)\n",
    "top100.rename(columns={'id' : 'billboard_id'}, inplace=True)\n",
    "top100.tail()"
   ]
  },
  {
   "cell_type": "code",
   "execution_count": 9,
   "metadata": {
    "pycharm": {
     "name": "#%%\n"
    }
   },
   "outputs": [
    {
     "data": {
      "text/plain": "['first_artist',\n 'language',\n 'language_score',\n 'length',\n 'lyrics',\n 'lyrics_id',\n 'word_count',\n 'billboard_id']"
     },
     "execution_count": 9,
     "metadata": {},
     "output_type": "execute_result"
    }
   ],
   "source": [
    "merge_cols = lyrics.columns.difference(top100.columns)\n",
    "merge_cols = merge_cols.tolist()\n",
    "merge_cols.append('billboard_id')\n",
    "merge_cols"
   ]
  },
  {
   "cell_type": "code",
   "execution_count": 10,
   "metadata": {
    "pycharm": {
     "name": "#%%\n"
    }
   },
   "outputs": [],
   "source": [
    "all = top100.merge(lyrics[merge_cols],how='left', left_on='billboard_id', right_on='billboard_id', copy=False)"
   ]
  },
  {
   "cell_type": "code",
   "execution_count": 11,
   "metadata": {
    "pycharm": {
     "name": "#%%\n"
    }
   },
   "outputs": [
    {
     "data": {
      "text/plain": "Index(['billboard_id', 'song', 'artist', 'peak_rank', 'rank_last_week',\n       'weeks_on_chart', 'rank', 'date', 'first_artist', 'language',\n       'language_score', 'length', 'lyrics', 'lyrics_id', 'word_count'],\n      dtype='object')"
     },
     "execution_count": 11,
     "metadata": {},
     "output_type": "execute_result"
    }
   ],
   "source": [
    "all.columns"
   ]
  },
  {
   "cell_type": "code",
   "execution_count": 12,
   "metadata": {
    "pycharm": {
     "name": "#%%\n"
    }
   },
   "outputs": [],
   "source": [
    "all = all[['billboard_id',\n",
    "           'lyrics_id',\n",
    "           'date',\n",
    "           'song',\n",
    "           'artist',\n",
    "           'first_artist',\n",
    "           'lyrics',\n",
    "           'language',\n",
    "           'language_score',\n",
    "           'length',\n",
    "           'word_count',\n",
    "           'rank',\n",
    "           'peak_rank',\n",
    "           'rank_last_week',\n",
    "           'weeks_on_chart']]"
   ]
  },
  {
   "cell_type": "code",
   "execution_count": 13,
   "metadata": {
    "pycharm": {
     "name": "#%%\n"
    }
   },
   "outputs": [
    {
     "data": {
      "text/plain": "   billboard_id  lyrics_id        date                           song  \\\n0             0       91.0  2019-01-05                  Thank U, Next   \n1             1      481.0  2019-01-05                     Without Me   \n2             2      842.0  2019-01-05  All I Want For Christmas I...   \n3             3     1216.0  2019-01-05                     Sicko Mode   \n4             4     1019.0  2019-01-05  Sunflower (Spider-Man: Int...   \n\n                   artist   first_artist                         lyrics  \\\n0           Ariana Grande  Ariana Grande  Thought I'd end up with Se...   \n1                  Halsey         Halsey  Found you when your heart ...   \n2            Mariah Carey   Mariah Carey  I don't want a lot for Chr...   \n3            Travis Scott   Travis Scott  Astro, yeah Sun is down, f...   \n4  Post Malone & Swae Lee    Post Malone  Ayy, ayy, ayy, ayy (Ooh) O...   \n\n  language  language_score  length  word_count  rank  peak_rank  \\\n0       en        0.999996  2427.0       459.0     1          1   \n1       en        0.999997  2097.0       435.0     2          2   \n2       en        0.999999  1947.0       389.0     3          3   \n3       en        0.999997  3973.0       772.0     4          1   \n4       en        0.999997  1564.0       306.0     5          4   \n\n   rank_last_week  weeks_on_chart  \n0               1               8  \n1               2              12  \n2               7              30  \n3               3              21  \n4               4              10  ",
      "text/html": "<div>\n<style scoped>\n    .dataframe tbody tr th:only-of-type {\n        vertical-align: middle;\n    }\n\n    .dataframe tbody tr th {\n        vertical-align: top;\n    }\n\n    .dataframe thead th {\n        text-align: right;\n    }\n</style>\n<table border=\"1\" class=\"dataframe\">\n  <thead>\n    <tr style=\"text-align: right;\">\n      <th></th>\n      <th>billboard_id</th>\n      <th>lyrics_id</th>\n      <th>date</th>\n      <th>song</th>\n      <th>artist</th>\n      <th>first_artist</th>\n      <th>lyrics</th>\n      <th>language</th>\n      <th>language_score</th>\n      <th>length</th>\n      <th>word_count</th>\n      <th>rank</th>\n      <th>peak_rank</th>\n      <th>rank_last_week</th>\n      <th>weeks_on_chart</th>\n    </tr>\n  </thead>\n  <tbody>\n    <tr>\n      <th>0</th>\n      <td>0</td>\n      <td>91.0</td>\n      <td>2019-01-05</td>\n      <td>Thank U, Next</td>\n      <td>Ariana Grande</td>\n      <td>Ariana Grande</td>\n      <td>Thought I'd end up with Se...</td>\n      <td>en</td>\n      <td>0.999996</td>\n      <td>2427.0</td>\n      <td>459.0</td>\n      <td>1</td>\n      <td>1</td>\n      <td>1</td>\n      <td>8</td>\n    </tr>\n    <tr>\n      <th>1</th>\n      <td>1</td>\n      <td>481.0</td>\n      <td>2019-01-05</td>\n      <td>Without Me</td>\n      <td>Halsey</td>\n      <td>Halsey</td>\n      <td>Found you when your heart ...</td>\n      <td>en</td>\n      <td>0.999997</td>\n      <td>2097.0</td>\n      <td>435.0</td>\n      <td>2</td>\n      <td>2</td>\n      <td>2</td>\n      <td>12</td>\n    </tr>\n    <tr>\n      <th>2</th>\n      <td>2</td>\n      <td>842.0</td>\n      <td>2019-01-05</td>\n      <td>All I Want For Christmas I...</td>\n      <td>Mariah Carey</td>\n      <td>Mariah Carey</td>\n      <td>I don't want a lot for Chr...</td>\n      <td>en</td>\n      <td>0.999999</td>\n      <td>1947.0</td>\n      <td>389.0</td>\n      <td>3</td>\n      <td>3</td>\n      <td>7</td>\n      <td>30</td>\n    </tr>\n    <tr>\n      <th>3</th>\n      <td>3</td>\n      <td>1216.0</td>\n      <td>2019-01-05</td>\n      <td>Sicko Mode</td>\n      <td>Travis Scott</td>\n      <td>Travis Scott</td>\n      <td>Astro, yeah Sun is down, f...</td>\n      <td>en</td>\n      <td>0.999997</td>\n      <td>3973.0</td>\n      <td>772.0</td>\n      <td>4</td>\n      <td>1</td>\n      <td>3</td>\n      <td>21</td>\n    </tr>\n    <tr>\n      <th>4</th>\n      <td>4</td>\n      <td>1019.0</td>\n      <td>2019-01-05</td>\n      <td>Sunflower (Spider-Man: Int...</td>\n      <td>Post Malone &amp; Swae Lee</td>\n      <td>Post Malone</td>\n      <td>Ayy, ayy, ayy, ayy (Ooh) O...</td>\n      <td>en</td>\n      <td>0.999997</td>\n      <td>1564.0</td>\n      <td>306.0</td>\n      <td>5</td>\n      <td>4</td>\n      <td>4</td>\n      <td>10</td>\n    </tr>\n  </tbody>\n</table>\n</div>"
     },
     "execution_count": 13,
     "metadata": {},
     "output_type": "execute_result"
    }
   ],
   "source": [
    "all = all.sort_values(by=['song', 'artist', 'lyrics_id']).interpolate(method='pad')\n",
    "all.sort_values(by='billboard_id', inplace=True)\n",
    "all.head()"
   ]
  },
  {
   "cell_type": "code",
   "execution_count": 14,
   "metadata": {
    "pycharm": {
     "name": "#%%\n"
    }
   },
   "outputs": [
    {
     "name": "stdout",
     "output_type": "stream",
     "text": [
      "<class 'pandas.core.frame.DataFrame'>\n",
      "Int64Index: 10500 entries, 0 to 10499\n",
      "Data columns (total 15 columns):\n",
      " #   Column          Non-Null Count  Dtype  \n",
      "---  ------          --------------  -----  \n",
      " 0   billboard_id    10500 non-null  int64  \n",
      " 1   lyrics_id       10500 non-null  float64\n",
      " 2   date            10500 non-null  object \n",
      " 3   song            10500 non-null  object \n",
      " 4   artist          10500 non-null  object \n",
      " 5   first_artist    10500 non-null  object \n",
      " 6   lyrics          10500 non-null  object \n",
      " 7   language        10500 non-null  object \n",
      " 8   language_score  10500 non-null  float64\n",
      " 9   length          10500 non-null  float64\n",
      " 10  word_count      10500 non-null  float64\n",
      " 11  rank            10500 non-null  int64  \n",
      " 12  peak_rank       10500 non-null  int64  \n",
      " 13  rank_last_week  10500 non-null  int64  \n",
      " 14  weeks_on_chart  10500 non-null  int64  \n",
      "dtypes: float64(4), int64(5), object(6)\n",
      "memory usage: 1.3+ MB\n"
     ]
    }
   ],
   "source": [
    "all.info()"
   ]
  },
  {
   "cell_type": "code",
   "execution_count": 15,
   "metadata": {
    "pycharm": {
     "name": "#%%\n"
    }
   },
   "outputs": [
    {
     "data": {
      "text/plain": "billboard_id               int64\nlyrics_id                  int16\ndate              datetime64[ns]\nsong                      object\nartist                    object\n                       ...      \nword_count                 int16\nrank                       int64\npeak_rank                  int64\nrank_last_week             int64\nweeks_on_chart             int64\nLength: 15, dtype: object"
     },
     "execution_count": 15,
     "metadata": {},
     "output_type": "execute_result"
    }
   ],
   "source": [
    "all['lyrics_id'] = pd.to_numeric(all['lyrics_id'], downcast='integer')\n",
    "all['length'] = pd.to_numeric(all['length'], downcast='integer')\n",
    "all['word_count'] = pd.to_numeric(all['word_count'], downcast='integer')\n",
    "all['date'] = pd.to_datetime(all['date'], format='%Y-%m-%d')\n",
    "all.dtypes"
   ]
  },
  {
   "cell_type": "code",
   "execution_count": 16,
   "metadata": {
    "pycharm": {
     "name": "#%%\n"
    }
   },
   "outputs": [
    {
     "data": {
      "text/plain": "   billboard_id  lyrics_id       date                           song  \\\n0             0         91 2019-01-05                  Thank U, Next   \n1             1        481 2019-01-05                     Without Me   \n2             2        842 2019-01-05  All I Want For Christmas I...   \n3             3       1216 2019-01-05                     Sicko Mode   \n4             4       1019 2019-01-05  Sunflower (Spider-Man: Int...   \n\n                   artist   first_artist                         lyrics  \\\n0           Ariana Grande  Ariana Grande  Thought I'd end up with Se...   \n1                  Halsey         Halsey  Found you when your heart ...   \n2            Mariah Carey   Mariah Carey  I don't want a lot for Chr...   \n3            Travis Scott   Travis Scott  Astro, yeah Sun is down, f...   \n4  Post Malone & Swae Lee    Post Malone  Ayy, ayy, ayy, ayy (Ooh) O...   \n\n  language  language_score  length  word_count  rank  peak_rank  \\\n0       en        0.999996    2427         459     1          1   \n1       en        0.999997    2097         435     2          2   \n2       en        0.999999    1947         389     3          3   \n3       en        0.999997    3973         772     4          1   \n4       en        0.999997    1564         306     5          4   \n\n   rank_last_week  weeks_on_chart  \n0               1               8  \n1               2              12  \n2               7              30  \n3               3              21  \n4               4              10  ",
      "text/html": "<div>\n<style scoped>\n    .dataframe tbody tr th:only-of-type {\n        vertical-align: middle;\n    }\n\n    .dataframe tbody tr th {\n        vertical-align: top;\n    }\n\n    .dataframe thead th {\n        text-align: right;\n    }\n</style>\n<table border=\"1\" class=\"dataframe\">\n  <thead>\n    <tr style=\"text-align: right;\">\n      <th></th>\n      <th>billboard_id</th>\n      <th>lyrics_id</th>\n      <th>date</th>\n      <th>song</th>\n      <th>artist</th>\n      <th>first_artist</th>\n      <th>lyrics</th>\n      <th>language</th>\n      <th>language_score</th>\n      <th>length</th>\n      <th>word_count</th>\n      <th>rank</th>\n      <th>peak_rank</th>\n      <th>rank_last_week</th>\n      <th>weeks_on_chart</th>\n    </tr>\n  </thead>\n  <tbody>\n    <tr>\n      <th>0</th>\n      <td>0</td>\n      <td>91</td>\n      <td>2019-01-05</td>\n      <td>Thank U, Next</td>\n      <td>Ariana Grande</td>\n      <td>Ariana Grande</td>\n      <td>Thought I'd end up with Se...</td>\n      <td>en</td>\n      <td>0.999996</td>\n      <td>2427</td>\n      <td>459</td>\n      <td>1</td>\n      <td>1</td>\n      <td>1</td>\n      <td>8</td>\n    </tr>\n    <tr>\n      <th>1</th>\n      <td>1</td>\n      <td>481</td>\n      <td>2019-01-05</td>\n      <td>Without Me</td>\n      <td>Halsey</td>\n      <td>Halsey</td>\n      <td>Found you when your heart ...</td>\n      <td>en</td>\n      <td>0.999997</td>\n      <td>2097</td>\n      <td>435</td>\n      <td>2</td>\n      <td>2</td>\n      <td>2</td>\n      <td>12</td>\n    </tr>\n    <tr>\n      <th>2</th>\n      <td>2</td>\n      <td>842</td>\n      <td>2019-01-05</td>\n      <td>All I Want For Christmas I...</td>\n      <td>Mariah Carey</td>\n      <td>Mariah Carey</td>\n      <td>I don't want a lot for Chr...</td>\n      <td>en</td>\n      <td>0.999999</td>\n      <td>1947</td>\n      <td>389</td>\n      <td>3</td>\n      <td>3</td>\n      <td>7</td>\n      <td>30</td>\n    </tr>\n    <tr>\n      <th>3</th>\n      <td>3</td>\n      <td>1216</td>\n      <td>2019-01-05</td>\n      <td>Sicko Mode</td>\n      <td>Travis Scott</td>\n      <td>Travis Scott</td>\n      <td>Astro, yeah Sun is down, f...</td>\n      <td>en</td>\n      <td>0.999997</td>\n      <td>3973</td>\n      <td>772</td>\n      <td>4</td>\n      <td>1</td>\n      <td>3</td>\n      <td>21</td>\n    </tr>\n    <tr>\n      <th>4</th>\n      <td>4</td>\n      <td>1019</td>\n      <td>2019-01-05</td>\n      <td>Sunflower (Spider-Man: Int...</td>\n      <td>Post Malone &amp; Swae Lee</td>\n      <td>Post Malone</td>\n      <td>Ayy, ayy, ayy, ayy (Ooh) O...</td>\n      <td>en</td>\n      <td>0.999997</td>\n      <td>1564</td>\n      <td>306</td>\n      <td>5</td>\n      <td>4</td>\n      <td>4</td>\n      <td>10</td>\n    </tr>\n  </tbody>\n</table>\n</div>"
     },
     "execution_count": 16,
     "metadata": {},
     "output_type": "execute_result"
    }
   ],
   "source": [
    "all.head()"
   ]
  },
  {
   "cell_type": "code",
   "execution_count": 17,
   "metadata": {
    "pycharm": {
     "name": "#%%\n"
    }
   },
   "outputs": [
    {
     "name": "stdout",
     "output_type": "stream",
     "text": [
      "2019\n",
      "1\n",
      "5\n"
     ]
    }
   ],
   "source": [
    "print(all['date'].iloc[0].year)\n",
    "print(all['date'].iloc[0].month)\n",
    "print(all['date'].iloc[0].day)"
   ]
  },
  {
   "cell_type": "code",
   "execution_count": 18,
   "metadata": {
    "pycharm": {
     "name": "#%%\n"
    }
   },
   "outputs": [
    {
     "data": {
      "text/plain": "          artist             song  \\\n4910  The Weeknd  Blinding Lights   \n\n                                                                                                                                                                                                                                                                                                                                             lyrics  \n4910  Yeah I've been tryna call I've been on my own for long enough Maybe you can show me how to love, maybe I'm going through withdrawals You don't even have to do too much You can turn me on with just a touch, baby I look around and Sin City's cold and empty (Oh) No one's around to judge me (Oh) I can't see clearly when you're gone ...  ",
      "text/html": "<div>\n<style scoped>\n    .dataframe tbody tr th:only-of-type {\n        vertical-align: middle;\n    }\n\n    .dataframe tbody tr th {\n        vertical-align: top;\n    }\n\n    .dataframe thead th {\n        text-align: right;\n    }\n</style>\n<table border=\"1\" class=\"dataframe\">\n  <thead>\n    <tr style=\"text-align: right;\">\n      <th></th>\n      <th>artist</th>\n      <th>song</th>\n      <th>lyrics</th>\n    </tr>\n  </thead>\n  <tbody>\n    <tr>\n      <th>4910</th>\n      <td>The Weeknd</td>\n      <td>Blinding Lights</td>\n      <td>Yeah I've been tryna call I've been on my own for long enough Maybe you can show me how to love, maybe I'm going through withdrawals You don't even have to do too much You can turn me on with just a touch, baby I look around and Sin City's cold and empty (Oh) No one's around to judge me (Oh) I can't see clearly when you're gone ...</td>\n    </tr>\n  </tbody>\n</table>\n</div>"
     },
     "execution_count": 18,
     "metadata": {},
     "output_type": "execute_result"
    }
   ],
   "source": [
    "pd.set_option('display.max_seq_items', 100)\n",
    "pd.set_option('display.max_colwidth', 334)\n",
    "blind = all[['artist', 'song', 'lyrics']].loc[all['song'] == 'Blinding Lights'].head(1)\n",
    "\n",
    "blind"
   ]
  },
  {
   "cell_type": "code",
   "execution_count": 19,
   "metadata": {
    "pycharm": {
     "name": "#%%\n"
    }
   },
   "outputs": [
    {
     "name": "stdout",
     "output_type": "stream",
     "text": [
      "\\begin{tabular}{llll}\n",
      "\\toprule\n",
      "{} &      artist &             song &                                                                                                                                                                                                                                                                                                                                         lyrics \\\\\n",
      "\\midrule\n",
      "4910 &  The Weeknd &  Blinding Lights &  Yeah I've been tryna call I've been on my own for long enough Maybe you can show me how to love, maybe I'm going through withdrawals You don't even have to do too much You can turn me on with just a touch, baby I look around and Sin City's cold and empty (Oh) No one's around to judge me (Oh) I can't see clearly when you're gone ... \\\\\n",
      "\\bottomrule\n",
      "\\end{tabular}\n",
      "\n"
     ]
    }
   ],
   "source": [
    "print(blind.to_latex(index=True))"
   ]
  },
  {
   "cell_type": "code",
   "execution_count": 20,
   "metadata": {
    "pycharm": {
     "name": "#%%\n"
    }
   },
   "outputs": [
    {
     "data": {
      "text/plain": "                                  0                    1  \\\nbillboard_id                      0                    1   \nlyrics_id                        91                  481   \ndate            2019-01-05 00:00:00  2019-01-05 00:00:00   \nsong                  Thank U, Next           Without Me   \nartist                Ariana Grande               Halsey   \n...                             ...                  ...   \nword_count                      459                  435   \nrank                              1                    2   \npeak_rank                         1                    2   \nrank_last_week                    1                    2   \nweeks_on_chart                    8                   12   \n\n                                              2                    3  \\\nbillboard_id                                  2                    3   \nlyrics_id                                   842                 1216   \ndate                        2019-01-05 00:00:00  2019-01-05 00:00:00   \nsong            All I Want For Christmas Is You           Sicko Mode   \nartist                             Mariah Carey         Travis Scott   \n...                                         ...                  ...   \nword_count                                  389                  772   \nrank                                          3                    4   \npeak_rank                                     3                    1   \nrank_last_week                                7                    3   \nweeks_on_chart                               30                   21   \n\n                                                            4  \nbillboard_id                                                4  \nlyrics_id                                                1019  \ndate                                      2019-01-05 00:00:00  \nsong            Sunflower (Spider-Man: Into The Spider-Verse)  \nartist                                 Post Malone & Swae Lee  \n...                                                       ...  \nword_count                                                306  \nrank                                                        5  \npeak_rank                                                   4  \nrank_last_week                                              4  \nweeks_on_chart                                             10  \n\n[15 rows x 5 columns]",
      "text/html": "<div>\n<style scoped>\n    .dataframe tbody tr th:only-of-type {\n        vertical-align: middle;\n    }\n\n    .dataframe tbody tr th {\n        vertical-align: top;\n    }\n\n    .dataframe thead th {\n        text-align: right;\n    }\n</style>\n<table border=\"1\" class=\"dataframe\">\n  <thead>\n    <tr style=\"text-align: right;\">\n      <th></th>\n      <th>0</th>\n      <th>1</th>\n      <th>2</th>\n      <th>3</th>\n      <th>4</th>\n    </tr>\n  </thead>\n  <tbody>\n    <tr>\n      <th>billboard_id</th>\n      <td>0</td>\n      <td>1</td>\n      <td>2</td>\n      <td>3</td>\n      <td>4</td>\n    </tr>\n    <tr>\n      <th>lyrics_id</th>\n      <td>91</td>\n      <td>481</td>\n      <td>842</td>\n      <td>1216</td>\n      <td>1019</td>\n    </tr>\n    <tr>\n      <th>date</th>\n      <td>2019-01-05 00:00:00</td>\n      <td>2019-01-05 00:00:00</td>\n      <td>2019-01-05 00:00:00</td>\n      <td>2019-01-05 00:00:00</td>\n      <td>2019-01-05 00:00:00</td>\n    </tr>\n    <tr>\n      <th>song</th>\n      <td>Thank U, Next</td>\n      <td>Without Me</td>\n      <td>All I Want For Christmas Is You</td>\n      <td>Sicko Mode</td>\n      <td>Sunflower (Spider-Man: Into The Spider-Verse)</td>\n    </tr>\n    <tr>\n      <th>artist</th>\n      <td>Ariana Grande</td>\n      <td>Halsey</td>\n      <td>Mariah Carey</td>\n      <td>Travis Scott</td>\n      <td>Post Malone &amp; Swae Lee</td>\n    </tr>\n    <tr>\n      <th>...</th>\n      <td>...</td>\n      <td>...</td>\n      <td>...</td>\n      <td>...</td>\n      <td>...</td>\n    </tr>\n    <tr>\n      <th>word_count</th>\n      <td>459</td>\n      <td>435</td>\n      <td>389</td>\n      <td>772</td>\n      <td>306</td>\n    </tr>\n    <tr>\n      <th>rank</th>\n      <td>1</td>\n      <td>2</td>\n      <td>3</td>\n      <td>4</td>\n      <td>5</td>\n    </tr>\n    <tr>\n      <th>peak_rank</th>\n      <td>1</td>\n      <td>2</td>\n      <td>3</td>\n      <td>1</td>\n      <td>4</td>\n    </tr>\n    <tr>\n      <th>rank_last_week</th>\n      <td>1</td>\n      <td>2</td>\n      <td>7</td>\n      <td>3</td>\n      <td>4</td>\n    </tr>\n    <tr>\n      <th>weeks_on_chart</th>\n      <td>8</td>\n      <td>12</td>\n      <td>30</td>\n      <td>21</td>\n      <td>10</td>\n    </tr>\n  </tbody>\n</table>\n<p>15 rows × 5 columns</p>\n</div>"
     },
     "execution_count": 20,
     "metadata": {},
     "output_type": "execute_result"
    }
   ],
   "source": [
    "all.loc[all['date'] == '2020-07-25'].head(5)\n",
    "pd.set_option('display.max_colwidth', 200)\n",
    "all_trans = all.head().transpose()\n",
    "all_trans"
   ]
  },
  {
   "cell_type": "code",
   "execution_count": 21,
   "metadata": {
    "pycharm": {
     "name": "#%%\n"
    }
   },
   "outputs": [
    {
     "name": "stdout",
     "output_type": "stream",
     "text": [
      "\\begin{tabular}{llllll}\n",
      "\\toprule\n",
      "{} &                                                                                                                                                                                                        0 &                                                                                                                                                                                                        1 &                                                                                                                                                                                                        2 &                                                                                                                                                                                                        3 &                                                                                                                                                                                                        4 \\\\\n",
      "\\midrule\n",
      "billboard\\_id   &                                                                                                                                                                                                        0 &                                                                                                                                                                                                        1 &                                                                                                                                                                                                        2 &                                                                                                                                                                                                        3 &                                                                                                                                                                                                        4 \\\\\n",
      "lyrics\\_id      &                                                                                                                                                                                                       91 &                                                                                                                                                                                                      481 &                                                                                                                                                                                                      842 &                                                                                                                                                                                                     1216 &                                                                                                                                                                                                     1019 \\\\\n",
      "date           &                                                                                                                                                                                      2019-01-05 00:00:00 &                                                                                                                                                                                      2019-01-05 00:00:00 &                                                                                                                                                                                      2019-01-05 00:00:00 &                                                                                                                                                                                      2019-01-05 00:00:00 &                                                                                                                                                                                      2019-01-05 00:00:00 \\\\\n",
      "song           &                                                                                                                                                                                            Thank U, Next &                                                                                                                                                                                               Without Me &                                                                                                                                                                          All I Want For Christmas Is You &                                                                                                                                                                                               Sicko Mode &                                                                                                                                                            Sunflower (Spider-Man: Into The Spider-Verse) \\\\\n",
      "artist         &                                                                                                                                                                                            Ariana Grande &                                                                                                                                                                                                   Halsey &                                                                                                                                                                                             Mariah Carey &                                                                                                                                                                                             Travis Scott &                                                                                                                                                                                   Post Malone \\& Swae Lee \\\\\n",
      "first\\_artist   &                                                                                                                                                                                            Ariana Grande &                                                                                                                                                                                                   Halsey &                                                                                                                                                                                             Mariah Carey &                                                                                                                                                                                             Travis Scott &                                                                                                                                                                                              Post Malone \\\\\n",
      "lyrics         &  Thought I'd end up with Sean But he wasn't a match Wrote some songs about Ricky Now I listen and laugh Even almost got married And for Pete, I'm so thankful Wish I could say, \"Thank you\" to Malcol... &  Found you when your heart was broke I filled your cup until it overflowed Took it so far to keep you close (Keep you close) I was afraid to leave you on your own (Ooh) I said I'd catch you if you ... &  I don't want a lot for Christmas There is just one thing I need I don't care about the presents Underneath the Christmas tree I just want you for my own More than you could ever know Make my wish ... &  Astro, yeah Sun is down, freezin' cold That's how we already know, winter's here My dawg would probably do it for a Louis belt That's just all he know, he don't know nothin' else I tried to show '... &  Ayy, ayy, ayy, ayy (Ooh) Ooh, ooh, ooh, ooh (Ooh) Ayy, ayy Ooh, ooh, ooh, ooh Needless to say, I keep in check She was a bad-bad, nevertheless (Yeah) Callin' it quits now, baby, I'm a wreck (Wreck... \\\\\n",
      "language       &                                                                                                                                                                                                       en &                                                                                                                                                                                                       en &                                                                                                                                                                                                       en &                                                                                                                                                                                                       en &                                                                                                                                                                                                       en \\\\\n",
      "language\\_score &                                                                                                                                                                                                 0.999996 &                                                                                                                                                                                                 0.999997 &                                                                                                                                                                                                 0.999999 &                                                                                                                                                                                                 0.999997 &                                                                                                                                                                                                 0.999997 \\\\\n",
      "length         &                                                                                                                                                                                                     2427 &                                                                                                                                                                                                     2097 &                                                                                                                                                                                                     1947 &                                                                                                                                                                                                     3973 &                                                                                                                                                                                                     1564 \\\\\n",
      "word\\_count     &                                                                                                                                                                                                      459 &                                                                                                                                                                                                      435 &                                                                                                                                                                                                      389 &                                                                                                                                                                                                      772 &                                                                                                                                                                                                      306 \\\\\n",
      "rank           &                                                                                                                                                                                                        1 &                                                                                                                                                                                                        2 &                                                                                                                                                                                                        3 &                                                                                                                                                                                                        4 &                                                                                                                                                                                                        5 \\\\\n",
      "peak\\_rank      &                                                                                                                                                                                                        1 &                                                                                                                                                                                                        2 &                                                                                                                                                                                                        3 &                                                                                                                                                                                                        1 &                                                                                                                                                                                                        4 \\\\\n",
      "rank\\_last\\_week &                                                                                                                                                                                                        1 &                                                                                                                                                                                                        2 &                                                                                                                                                                                                        7 &                                                                                                                                                                                                        3 &                                                                                                                                                                                                        4 \\\\\n",
      "weeks\\_on\\_chart &                                                                                                                                                                                                        8 &                                                                                                                                                                                                       12 &                                                                                                                                                                                                       30 &                                                                                                                                                                                                       21 &                                                                                                                                                                                                       10 \\\\\n",
      "\\bottomrule\n",
      "\\end{tabular}\n",
      "\n"
     ]
    }
   ],
   "source": [
    "print(all_trans.to_latex())"
   ]
  },
  {
   "cell_type": "code",
   "execution_count": 22,
   "metadata": {
    "pycharm": {
     "name": "#%%\n"
    }
   },
   "outputs": [
    {
     "data": {
      "text/plain": "       billboard_id          rank     peak_rank  rank_last_week  \\\ncount  10500.000000  10500.000000  10500.000000    10500.000000   \nmean    5249.500000     50.500000     36.162857       39.344667   \nstd     3031.233247     28.867445     28.389212       30.358172   \nmin        0.000000      1.000000      1.000000        0.000000   \n25%     2624.750000     25.750000     10.000000       11.000000   \n50%     5249.500000     50.500000     32.000000       36.000000   \n75%     7874.250000     75.250000     59.000000       65.000000   \nmax    10499.000000    100.000000    100.000000      100.000000   \n\n       weeks_on_chart  \ncount    10500.000000  \nmean        12.168190  \nstd         10.803217  \nmin          1.000000  \n25%          4.000000  \n50%          9.000000  \n75%         17.000000  \nmax         61.000000  ",
      "text/html": "<div>\n<style scoped>\n    .dataframe tbody tr th:only-of-type {\n        vertical-align: middle;\n    }\n\n    .dataframe tbody tr th {\n        vertical-align: top;\n    }\n\n    .dataframe thead th {\n        text-align: right;\n    }\n</style>\n<table border=\"1\" class=\"dataframe\">\n  <thead>\n    <tr style=\"text-align: right;\">\n      <th></th>\n      <th>billboard_id</th>\n      <th>rank</th>\n      <th>peak_rank</th>\n      <th>rank_last_week</th>\n      <th>weeks_on_chart</th>\n    </tr>\n  </thead>\n  <tbody>\n    <tr>\n      <th>count</th>\n      <td>10500.000000</td>\n      <td>10500.000000</td>\n      <td>10500.000000</td>\n      <td>10500.000000</td>\n      <td>10500.000000</td>\n    </tr>\n    <tr>\n      <th>mean</th>\n      <td>5249.500000</td>\n      <td>50.500000</td>\n      <td>36.162857</td>\n      <td>39.344667</td>\n      <td>12.168190</td>\n    </tr>\n    <tr>\n      <th>std</th>\n      <td>3031.233247</td>\n      <td>28.867445</td>\n      <td>28.389212</td>\n      <td>30.358172</td>\n      <td>10.803217</td>\n    </tr>\n    <tr>\n      <th>min</th>\n      <td>0.000000</td>\n      <td>1.000000</td>\n      <td>1.000000</td>\n      <td>0.000000</td>\n      <td>1.000000</td>\n    </tr>\n    <tr>\n      <th>25%</th>\n      <td>2624.750000</td>\n      <td>25.750000</td>\n      <td>10.000000</td>\n      <td>11.000000</td>\n      <td>4.000000</td>\n    </tr>\n    <tr>\n      <th>50%</th>\n      <td>5249.500000</td>\n      <td>50.500000</td>\n      <td>32.000000</td>\n      <td>36.000000</td>\n      <td>9.000000</td>\n    </tr>\n    <tr>\n      <th>75%</th>\n      <td>7874.250000</td>\n      <td>75.250000</td>\n      <td>59.000000</td>\n      <td>65.000000</td>\n      <td>17.000000</td>\n    </tr>\n    <tr>\n      <th>max</th>\n      <td>10499.000000</td>\n      <td>100.000000</td>\n      <td>100.000000</td>\n      <td>100.000000</td>\n      <td>61.000000</td>\n    </tr>\n  </tbody>\n</table>\n</div>"
     },
     "execution_count": 22,
     "metadata": {},
     "output_type": "execute_result"
    }
   ],
   "source": [
    "billboard = all[['billboard_id',\n",
    "           'date',\n",
    "           'song',\n",
    "           'artist',\n",
    "           'rank',\n",
    "           'peak_rank',\n",
    "           'rank_last_week',\n",
    "           'weeks_on_chart']]\n",
    "bill_desc = billboard.describe()\n",
    "bill_desc"
   ]
  },
  {
   "cell_type": "code",
   "execution_count": 23,
   "metadata": {
    "pycharm": {
     "name": "#%%\n"
    }
   },
   "outputs": [
    {
     "name": "stdout",
     "output_type": "stream",
     "text": [
      "\\begin{tabular}{lrrrrr}\n",
      "\\toprule\n",
      "{} &  billboard\\_id &     rank &  peak\\_rank &  rank\\_last\\_week &  weeks\\_on\\_chart \\\\\n",
      "\\midrule\n",
      "\\textbf{count} &      10500.00 & 10500.00 &   10500.00 &        10500.00 &        10500.00 \\\\\n",
      "\\textbf{mean } &       5249.50 &    50.50 &      36.16 &           39.34 &           12.17 \\\\\n",
      "\\textbf{std  } &       3031.23 &    28.87 &      28.39 &           30.36 &           10.80 \\\\\n",
      "\\textbf{min  } &          0.00 &     1.00 &       1.00 &            0.00 &            1.00 \\\\\n",
      "\\textbf{25\\%  } &       2624.75 &    25.75 &      10.00 &           11.00 &            4.00 \\\\\n",
      "\\textbf{50\\%  } &       5249.50 &    50.50 &      32.00 &           36.00 &            9.00 \\\\\n",
      "\\textbf{75\\%  } &       7874.25 &    75.25 &      59.00 &           65.00 &           17.00 \\\\\n",
      "\\textbf{max  } &      10499.00 &   100.00 &     100.00 &          100.00 &           61.00 \\\\\n",
      "\\bottomrule\n",
      "\\end{tabular}\n",
      "\n"
     ]
    }
   ],
   "source": [
    "print(bill_desc.to_latex(float_format=\"%.2f\", bold_rows=True, escape=True))"
   ]
  },
  {
   "cell_type": "code",
   "execution_count": 24,
   "metadata": {
    "pycharm": {
     "name": "#%%\n"
    }
   },
   "outputs": [
    {
     "data": {
      "text/plain": "      billboard_id       date     song       artist  rank  peak_rank  \\\n3606          3606 2019-09-14  Circles  Post Malone     7          7   \n3703          3703 2019-09-21  Circles  Post Malone     4          4   \n3808          3808 2019-09-28  Circles  Post Malone     9          4   \n3907          3907 2019-10-05  Circles  Post Malone     8          4   \n4006          4006 2019-10-12  Circles  Post Malone     7          4   \n...            ...        ...      ...          ...   ...        ...   \n9216          9216 2020-10-10  Circles  Post Malone    17          1   \n9321          9321 2020-10-17  Circles  Post Malone    22          1   \n9418          9418 2020-10-24  Circles  Post Malone    19          1   \n9518          9518 2020-10-31  Circles  Post Malone    19          1   \n9617          9617 2020-11-07  Circles  Post Malone    18          1   \n\n      rank_last_week  weeks_on_chart  \n3606               0               1  \n3703               7               2  \n3808               4               3  \n3907               9               4  \n4006               8               5  \n...              ...             ...  \n9216              17              57  \n9321              17              58  \n9418              22              59  \n9518              19              60  \n9617              19              61  \n\n[61 rows x 8 columns]",
      "text/html": "<div>\n<style scoped>\n    .dataframe tbody tr th:only-of-type {\n        vertical-align: middle;\n    }\n\n    .dataframe tbody tr th {\n        vertical-align: top;\n    }\n\n    .dataframe thead th {\n        text-align: right;\n    }\n</style>\n<table border=\"1\" class=\"dataframe\">\n  <thead>\n    <tr style=\"text-align: right;\">\n      <th></th>\n      <th>billboard_id</th>\n      <th>date</th>\n      <th>song</th>\n      <th>artist</th>\n      <th>rank</th>\n      <th>peak_rank</th>\n      <th>rank_last_week</th>\n      <th>weeks_on_chart</th>\n    </tr>\n  </thead>\n  <tbody>\n    <tr>\n      <th>3606</th>\n      <td>3606</td>\n      <td>2019-09-14</td>\n      <td>Circles</td>\n      <td>Post Malone</td>\n      <td>7</td>\n      <td>7</td>\n      <td>0</td>\n      <td>1</td>\n    </tr>\n    <tr>\n      <th>3703</th>\n      <td>3703</td>\n      <td>2019-09-21</td>\n      <td>Circles</td>\n      <td>Post Malone</td>\n      <td>4</td>\n      <td>4</td>\n      <td>7</td>\n      <td>2</td>\n    </tr>\n    <tr>\n      <th>3808</th>\n      <td>3808</td>\n      <td>2019-09-28</td>\n      <td>Circles</td>\n      <td>Post Malone</td>\n      <td>9</td>\n      <td>4</td>\n      <td>4</td>\n      <td>3</td>\n    </tr>\n    <tr>\n      <th>3907</th>\n      <td>3907</td>\n      <td>2019-10-05</td>\n      <td>Circles</td>\n      <td>Post Malone</td>\n      <td>8</td>\n      <td>4</td>\n      <td>9</td>\n      <td>4</td>\n    </tr>\n    <tr>\n      <th>4006</th>\n      <td>4006</td>\n      <td>2019-10-12</td>\n      <td>Circles</td>\n      <td>Post Malone</td>\n      <td>7</td>\n      <td>4</td>\n      <td>8</td>\n      <td>5</td>\n    </tr>\n    <tr>\n      <th>...</th>\n      <td>...</td>\n      <td>...</td>\n      <td>...</td>\n      <td>...</td>\n      <td>...</td>\n      <td>...</td>\n      <td>...</td>\n      <td>...</td>\n    </tr>\n    <tr>\n      <th>9216</th>\n      <td>9216</td>\n      <td>2020-10-10</td>\n      <td>Circles</td>\n      <td>Post Malone</td>\n      <td>17</td>\n      <td>1</td>\n      <td>17</td>\n      <td>57</td>\n    </tr>\n    <tr>\n      <th>9321</th>\n      <td>9321</td>\n      <td>2020-10-17</td>\n      <td>Circles</td>\n      <td>Post Malone</td>\n      <td>22</td>\n      <td>1</td>\n      <td>17</td>\n      <td>58</td>\n    </tr>\n    <tr>\n      <th>9418</th>\n      <td>9418</td>\n      <td>2020-10-24</td>\n      <td>Circles</td>\n      <td>Post Malone</td>\n      <td>19</td>\n      <td>1</td>\n      <td>22</td>\n      <td>59</td>\n    </tr>\n    <tr>\n      <th>9518</th>\n      <td>9518</td>\n      <td>2020-10-31</td>\n      <td>Circles</td>\n      <td>Post Malone</td>\n      <td>19</td>\n      <td>1</td>\n      <td>19</td>\n      <td>60</td>\n    </tr>\n    <tr>\n      <th>9617</th>\n      <td>9617</td>\n      <td>2020-11-07</td>\n      <td>Circles</td>\n      <td>Post Malone</td>\n      <td>18</td>\n      <td>1</td>\n      <td>19</td>\n      <td>61</td>\n    </tr>\n  </tbody>\n</table>\n<p>61 rows × 8 columns</p>\n</div>"
     },
     "execution_count": 24,
     "metadata": {},
     "output_type": "execute_result"
    }
   ],
   "source": [
    "circles = billboard.loc[(billboard['song'] == 'Circles') & (billboard['artist'] == 'Post Malone')]\n",
    "circles"
   ]
  },
  {
   "cell_type": "code",
   "execution_count": 25,
   "metadata": {
    "pycharm": {
     "name": "#%%\n"
    }
   },
   "outputs": [
    {
     "data": {
      "text/plain": "            rank\ndate            \n2019-01-05  50.5\n2019-01-12  50.5\n2019-01-19  50.5\n2019-01-26  50.5\n2019-02-02  50.5\n...          ...\n2020-12-05  50.5\n2020-12-12  50.5\n2020-12-19  50.5\n2020-12-26  50.5\n2021-01-02  50.5\n\n[105 rows x 1 columns]",
      "text/html": "<div>\n<style scoped>\n    .dataframe tbody tr th:only-of-type {\n        vertical-align: middle;\n    }\n\n    .dataframe tbody tr th {\n        vertical-align: top;\n    }\n\n    .dataframe thead th {\n        text-align: right;\n    }\n</style>\n<table border=\"1\" class=\"dataframe\">\n  <thead>\n    <tr style=\"text-align: right;\">\n      <th></th>\n      <th>rank</th>\n    </tr>\n    <tr>\n      <th>date</th>\n      <th></th>\n    </tr>\n  </thead>\n  <tbody>\n    <tr>\n      <th>2019-01-05</th>\n      <td>50.5</td>\n    </tr>\n    <tr>\n      <th>2019-01-12</th>\n      <td>50.5</td>\n    </tr>\n    <tr>\n      <th>2019-01-19</th>\n      <td>50.5</td>\n    </tr>\n    <tr>\n      <th>2019-01-26</th>\n      <td>50.5</td>\n    </tr>\n    <tr>\n      <th>2019-02-02</th>\n      <td>50.5</td>\n    </tr>\n    <tr>\n      <th>...</th>\n      <td>...</td>\n    </tr>\n    <tr>\n      <th>2020-12-05</th>\n      <td>50.5</td>\n    </tr>\n    <tr>\n      <th>2020-12-12</th>\n      <td>50.5</td>\n    </tr>\n    <tr>\n      <th>2020-12-19</th>\n      <td>50.5</td>\n    </tr>\n    <tr>\n      <th>2020-12-26</th>\n      <td>50.5</td>\n    </tr>\n    <tr>\n      <th>2021-01-02</th>\n      <td>50.5</td>\n    </tr>\n  </tbody>\n</table>\n<p>105 rows × 1 columns</p>\n</div>"
     },
     "execution_count": 25,
     "metadata": {},
     "output_type": "execute_result"
    }
   ],
   "source": [
    "average_rank = pd.pivot_table(billboard, index=['date'],\n",
    "                                values=['rank'],\n",
    "                                aggfunc={'rank' : 'mean'})\n",
    "average_rank"
   ]
  },
  {
   "cell_type": "code",
   "execution_count": 26,
   "metadata": {
    "pycharm": {
     "name": "#%%\n"
    }
   },
   "outputs": [
    {
     "data": {
      "text/plain": "<function matplotlib.pyplot.show(close=None, block=None)>"
     },
     "execution_count": 26,
     "metadata": {},
     "output_type": "execute_result"
    },
    {
     "data": {
      "text/plain": "<Figure size 864x720 with 1 Axes>",
      "image/png": "[encoded data removed]"
     },
     "metadata": {},
     "output_type": "display_data"
    }
   ],
   "source": [
    "#sns.set(rc={'axes.facecolor':'cornflowerblue', 'figure.facecolor':'white'})\n",
    "sns.set_style({'axes.facecolor': 'lightgrey',\n",
    " 'axes.edgecolor': 'black',\n",
    " 'axes.grid': True,\n",
    " 'axes.axisbelow': 'line',\n",
    " 'axes.labelcolor': 'black',\n",
    " 'figure.facecolor': 'white',\n",
    " 'grid.color': 'white',\n",
    " 'grid.linestyle': '-',\n",
    " 'text.color': 'black',\n",
    " 'xtick.color': 'black',\n",
    " 'ytick.color': 'black',\n",
    " 'xtick.direction': 'out',\n",
    " 'ytick.direction': 'out',\n",
    " 'patch.edgecolor': 'black',\n",
    " 'patch.force_edgecolor': False,\n",
    " 'image.cmap': 'viridis',\n",
    " 'font.family': ['sans-serif'],\n",
    " 'font.sans-serif': ['DejaVu Sans',\n",
    "  'Bitstream Vera Sans',\n",
    "  'Computer Modern Sans Serif',\n",
    "  'Lucida Grande',\n",
    "  'Verdana',\n",
    "  'Geneva',\n",
    "  'Lucid',\n",
    "  'Arial',\n",
    "  'Helvetica',\n",
    "  'Avant Garde',\n",
    "  'sans-serif'],\n",
    " 'xtick.bottom': True,\n",
    " 'xtick.top': False,\n",
    " 'ytick.left': True,\n",
    " 'ytick.right': False,\n",
    " 'axes.spines.left': True,\n",
    " 'axes.spines.bottom': True,\n",
    " 'axes.spines.right': True,\n",
    " 'axes.spines.top': True})\n",
    "fig,ax = plt.subplots(figsize=(12,10))\n",
    "ax.set(ylim=(26, 0), yticks=np.arange(1,26,1))\n",
    "sns.lineplot(data=circles, x='date', y='rank', ax=ax)\n",
    "plt.show"
   ]
  },
  {
   "cell_type": "code",
   "execution_count": 27,
   "metadata": {
    "pycharm": {
     "name": "#%%\n"
    }
   },
   "outputs": [
    {
     "data": {
      "text/plain": "Index(['billboard_id', 'artist', 'first_artist', 'song', 'weeks_on_chart',\n       'peak_rank', 'lyrics', 'length', 'word_count', 'language',\n       'language_score', 'link', 'lyrics_id'],\n      dtype='object')"
     },
     "execution_count": 27,
     "metadata": {},
     "output_type": "execute_result"
    }
   ],
   "source": [
    "missing_lyrics = pd.read_excel('data\\lyrics\\missing_lyrics.xlsx', index_col=0)\n",
    "missing_lyrics['lyrics_id'] = missing_lyrics.index\n",
    "missing_lyrics.rename(columns={'id' : 'billboard_id'}, inplace=True)\n",
    "missing_lyrics.columns"
   ]
  },
  {
   "cell_type": "code",
   "execution_count": 28,
   "metadata": {
    "pycharm": {
     "name": "#%%\n"
    }
   },
   "outputs": [
    {
     "data": {
      "text/plain": "   billboard_id  lyrics_id  \\\n0          8601        353   \n1          8299        506   \n2          9707         97   \n\n                                               artist                 song  \\\n0                            Drake Featuring Lil Durk  Laugh Now Cry Later   \n1                                             J. Cole       the.climb.back   \n2  Ariana Grande Feat. Doja Cat & Megan Thee Stallion                34+35   \n\n                                                                                                                                                  lyrics  \n0                                                                                                                                                !Error!  \n1                                                                                                                                               !NoSong!  \n2  34+35 - Ariana Grande Never Change (feat. Future) - Trippie Redd Kids Again - Sam Smith Fever - Dua Lipa off the table (with The Weeknd) - Ariana ...  ",
      "text/html": "<div>\n<style scoped>\n    .dataframe tbody tr th:only-of-type {\n        vertical-align: middle;\n    }\n\n    .dataframe tbody tr th {\n        vertical-align: top;\n    }\n\n    .dataframe thead th {\n        text-align: right;\n    }\n</style>\n<table border=\"1\" class=\"dataframe\">\n  <thead>\n    <tr style=\"text-align: right;\">\n      <th></th>\n      <th>billboard_id</th>\n      <th>lyrics_id</th>\n      <th>artist</th>\n      <th>song</th>\n      <th>lyrics</th>\n    </tr>\n  </thead>\n  <tbody>\n    <tr>\n      <th>0</th>\n      <td>8601</td>\n      <td>353</td>\n      <td>Drake Featuring Lil Durk</td>\n      <td>Laugh Now Cry Later</td>\n      <td>!Error!</td>\n    </tr>\n    <tr>\n      <th>1</th>\n      <td>8299</td>\n      <td>506</td>\n      <td>J. Cole</td>\n      <td>the.climb.back</td>\n      <td>!NoSong!</td>\n    </tr>\n    <tr>\n      <th>2</th>\n      <td>9707</td>\n      <td>97</td>\n      <td>Ariana Grande Feat. Doja Cat &amp; Megan Thee Stallion</td>\n      <td>34+35</td>\n      <td>34+35 - Ariana Grande Never Change (feat. Future) - Trippie Redd Kids Again - Sam Smith Fever - Dua Lipa off the table (with The Weeknd) - Ariana ...</td>\n    </tr>\n  </tbody>\n</table>\n</div>"
     },
     "execution_count": 28,
     "metadata": {},
     "output_type": "execute_result"
    }
   ],
   "source": [
    "pd.set_option('display.max_colwidth', 150)\n",
    "missing_lyrics_example = missing_lyrics[['billboard_id', 'lyrics_id', 'artist', 'song', 'lyrics']].loc[[353, 506, 97]]\n",
    "missing_lyrics_example.reset_index(drop=True, inplace=True)\n",
    "missing_lyrics_example"
   ]
  },
  {
   "cell_type": "code",
   "execution_count": 29,
   "metadata": {
    "pycharm": {
     "name": "#%%\n"
    }
   },
   "outputs": [
    {
     "name": "stdout",
     "output_type": "stream",
     "text": [
      "\\begin{tabular}{rrlll}\n",
      "\\toprule\n",
      " billboard\\_id &  lyrics\\_id &                                             artist &                song &                                                                                                                                                 lyrics \\\\\n",
      "\\midrule\n",
      "         8601 &        353 &                           Drake Featuring Lil Durk & Laugh Now Cry Later &                                                                                                                                                !Error! \\\\\n",
      "         8299 &        506 &                                            J. Cole &      the.climb.back &                                                                                                                                               !NoSong! \\\\\n",
      "         9707 &         97 & Ariana Grande Feat. Doja Cat \\& Megan Thee Stallion &               34+35 & 34+35 - Ariana Grande Never Change (feat. Future) - Trippie Redd Kids Again - Sam Smith Fever - Dua Lipa off the table (with The Weeknd) - Ariana G... \\\\\n",
      "\\bottomrule\n",
      "\\end{tabular}\n",
      "\n"
     ]
    }
   ],
   "source": [
    "print(missing_lyrics_example.to_latex(index=False))"
   ]
  },
  {
   "cell_type": "code",
   "execution_count": 30,
   "outputs": [
    {
     "name": "stdout",
     "output_type": "stream",
     "text": [
      "\\begin{tabular}{rrllllllrrrrrrr}\n",
      "\\toprule\n",
      " billboard\\_id &  lyrics\\_id &       date &                                          song &                 artist &  first\\_artist &                                                                                                                                                 lyrics & language &  language\\_score &  length &  word\\_count &  rank &  peak\\_rank &  rank\\_last\\_week &  weeks\\_on\\_chart \\\\\n",
      "\\midrule\n",
      "            0 &         91 & 2019-01-05 &                                 Thank U, Next &          Ariana Grande & Ariana Grande & Thought I'd end up with Sean But he wasn't a match Wrote some songs about Ricky Now I listen and laugh Even almost got married And for Pete, I'm so... &       en &        0.999996 &    2427 &         459 &     1 &          1 &               1 &               8 \\\\\n",
      "            1 &        481 & 2019-01-05 &                                    Without Me &                 Halsey &        Halsey & Found you when your heart was broke I filled your cup until it overflowed Took it so far to keep you close (Keep you close) I was afraid to leave y... &       en &        0.999997 &    2097 &         435 &     2 &          2 &               2 &              12 \\\\\n",
      "            2 &        842 & 2019-01-05 &               All I Want For Christmas Is You &           Mariah Carey &  Mariah Carey & I don't want a lot for Christmas There is just one thing I need I don't care about the presents Underneath the Christmas tree I just want you for m... &       en &        0.999999 &    1947 &         389 &     3 &          3 &               7 &              30 \\\\\n",
      "            3 &       1216 & 2019-01-05 &                                    Sicko Mode &           Travis Scott &  Travis Scott & Astro, yeah Sun is down, freezin' cold That's how we already know, winter's here My dawg would probably do it for a Louis belt That's just all he k... &       en &        0.999997 &    3973 &         772 &     4 &          1 &               3 &              21 \\\\\n",
      "            4 &       1019 & 2019-01-05 & Sunflower (Spider-Man: Into The Spider-Verse) & Post Malone \\& Swae Lee &   Post Malone & Ayy, ayy, ayy, ayy (Ooh) Ooh, ooh, ooh, ooh (Ooh) Ayy, ayy Ooh, ooh, ooh, ooh Needless to say, I keep in check She was a bad-bad, nevertheless (Yea... &       en &        0.999997 &    1564 &         306 &     5 &          4 &               4 &              10 \\\\\n",
      "\\bottomrule\n",
      "\\end{tabular}\n",
      "\n"
     ]
    }
   ],
   "source": [
    "print(all.head().to_latex(index=False))"
   ],
   "metadata": {
    "collapsed": false,
    "pycharm": {
     "name": "#%%\n"
    }
   }
  },
  {
   "cell_type": "code",
   "execution_count": 31,
   "outputs": [],
   "source": [
    "import spacy\n",
    "import re\n",
    "from spacy.matcher import Matcher\n",
    "\n",
    "nlp = spacy.load(\"en_core_web_lg\")"
   ],
   "metadata": {
    "collapsed": false,
    "pycharm": {
     "name": "#%%\n"
    }
   }
  },
  {
   "cell_type": "code",
   "execution_count": 62,
   "outputs": [],
   "source": [
    "#inspired by: https://betterprogramming.pub/extract-keywords-using-spacy-in-python-4a8415478fbf\n",
    "def get_keywords(text, nlp):\n",
    "    text = re.sub(u'[^\\\\x00-\\\\x7F\\\\x80-\\\\xFF\\\\u0100-\\\\u017F\\\\u0180-\\\\u024F\\\\u1E00-\\\\u1EFF]', u'', text)\n",
    "    doc = nlp(text.lower())\n",
    "    keywords = {}\n",
    "    pos_tag = ['NOUN', 'VERB', 'ADJ', 'PROPN']\n",
    "    for token in doc:\n",
    "        if token.text in nlp.Defaults.stop_words or token.is_oov:\n",
    "            continue\n",
    "\n",
    "        if token.pos_ in pos_tag:\n",
    "            keyword = token.lemma_\n",
    "            if keyword in keywords.keys():\n",
    "                keywords[keyword]+=1\n",
    "            else:\n",
    "                keywords[keyword] = 1\n",
    "\n",
    "    return dict(sorted(keywords.items(), key=lambda item: item[1], reverse=True))\n"
   ],
   "metadata": {
    "collapsed": false,
    "pycharm": {
     "name": "#%%\n"
    }
   }
  },
  {
   "cell_type": "code",
   "execution_count": 33,
   "outputs": [],
   "source": [
    "def printProgressBar (iteration, total, prefix = '', suffix = '', decimals = 1, length = 100, fill = '█', printEnd = \"\\r\"):\n",
    "    \"\"\"\n",
    "    Call in a loop to create terminal progress bar\n",
    "    @params:\n",
    "        iteration   - Required  : current iteration (Int)\n",
    "        total       - Required  : total iterations (Int)\n",
    "        prefix      - Optional  : prefix string (Str)\n",
    "        suffix      - Optional  : suffix string (Str)\n",
    "        decimals    - Optional  : positive number of decimals in percent complete (Int)\n",
    "        length      - Optional  : character length of bar (Int)\n",
    "        fill        - Optional  : bar fill character (Str)\n",
    "        printEnd    - Optional  : end character (e.g. \"\\r\", \"\\r\\n\") (Str)\n",
    "    \"\"\"\n",
    "    percent = (\"{0:.\" + str(decimals) + \"f}\").format(100 * (iteration / float(total)))\n",
    "    filledLength = int(length * iteration // total)\n",
    "    bar = fill * filledLength + '-' * (length - filledLength)\n",
    "    print(f'\\r{prefix} |{bar}| {percent}% {suffix}', end = printEnd)\n",
    "    # Print New Line on Complete\n",
    "    if iteration == total:\n",
    "        print()"
   ],
   "metadata": {
    "collapsed": false,
    "pycharm": {
     "name": "#%%\n"
    }
   }
  },
  {
   "cell_type": "code",
   "execution_count": 63,
   "outputs": [
    {
     "name": "stdout",
     "output_type": "stream",
     "text": [
      "Progress: |██████████████████████████████████████████████████| 100.0% Complete\r\n"
     ]
    }
   ],
   "source": [
    "lyrics_series = lyrics['lyrics']\n",
    "i = 0\n",
    "l = len(lyrics_series)\n",
    "lyrics_arr = []\n",
    "printProgressBar(0, l, prefix = 'Progress:', suffix = 'Complete', length = 50)\n",
    "for text in lyrics_series:\n",
    "    lyrics_arr.append(get_keywords(text, nlp))\n",
    "    i+=1\n",
    "    printProgressBar(i, l, prefix = 'Progress:', suffix = 'Complete', length = 50)\n"
   ],
   "metadata": {
    "collapsed": false,
    "pycharm": {
     "name": "#%%\n"
    }
   }
  },
  {
   "cell_type": "code",
   "execution_count": 47,
   "outputs": [
    {
     "data": {
      "text/plain": "      billboard_id  lyrics_id                         artist  \\\n1243         10399        658                       Kid Cudi   \n931           7586        598                   Justin Moore   \n217           1174        854  Marshmello Featuring CHVRCHES   \n1240         10388       1177     The Kid LAROI & Juice WRLD   \n1079          9087       1300     YoungBoy Never Broke Again   \n\n                    first_artist               song  weeks_on_chart  \\\n1243                    Kid Cudi     Beautiful Trip             1.0   \n931                 Justin Moore       Why We Drink            15.0   \n217                   Marshmello       Here With Me            16.0   \n1240               The Kid LAROI  Reminds Me Of You             1.0   \n1079  YoungBoy Never Broke Again   Right Foot Creep             1.0   \n\n      peak_rank  \\\n1243      100.0   \n931        50.0   \n217        31.0   \n1240       89.0   \n1079       88.0   \n\n                                                                                                                                                     lyrics  \\\n1243                                                                                                                      Oh, oh Oh Three (Three, two, one)   \n931   'Cause it's Friday 'Cause it's Monday 'Cause it's a charcoal-burnin' Sunday 'Cause we ain't gonna get to one day That's why we drink 'Cause the su...   \n217   Can I tell you something just between you and me? When I hear your voice, I know I'm finally free Every single word is perfect as it can be And I ...   \n1240  I can't play that song 'cause it reminds me of you I can't watch that show 'cause it reminds me of you I can't even go there, it reminds me of you...   \n1079  (Who made this shit?) (TayTayMadeTheBeat) I said right foot creep, ooh, I'm walking with that heater Look around, stay low, make sure they don't s...   \n\n      length  word_count language  language_score  \\\n1243    33.0         7.0       en        0.999998   \n931   1644.0       305.0       en        0.999996   \n217   1357.0       297.0       en        0.999998   \n1240  2130.0       446.0       en        0.999998   \n1079  2907.0       575.0       en        0.999997   \n\n                                                                                                                                                   keywords  \\\n1243                                                                                                                                                     {}   \n931   {''cause': 26, 'drink': 6, 'ice': 6, 'cold': 6, 'jon': 6, 'boat': 6, 'old': 6, 'thing': 6, 'alcohol': 6, 'shrink': 5, 'little': 4, 'yeah': 4, 'hot...   \n217           {''cause': 7, 'single': 4, 'away': 4, 'deep': 4, 'word': 2, 'finally': 1, 'time': 1, 'breathe': 1, 'gon': 1, 'na': 1, 'night': 1, 'sleep': 1}   \n1240  {''cause': 11, 'high': 4, 'song': 3, 'friend': 3, 'cry': 2, 'air': 2, 'remind': 2, 'flyin': 2, 'know': 1, 'forever': 1, 'shit': 1, 'wanna': 1, 'th...   \n1079  {''em': 7, 'right': 6, 'foot': 6, 'creep': 6, 'case': 5, 'catch': 4, 'ooh': 3, 'heater': 3, 'look': 3, 'stay': 3, 'low': 3, 'sure': 3, 'bad': 3, '...   \n\n     top_keyword  \n1243              \n931       'cause  \n217       'cause  \n1240      'cause  \n1079         'em  ",
      "text/html": "<div>\n<style scoped>\n    .dataframe tbody tr th:only-of-type {\n        vertical-align: middle;\n    }\n\n    .dataframe tbody tr th {\n        vertical-align: top;\n    }\n\n    .dataframe thead th {\n        text-align: right;\n    }\n</style>\n<table border=\"1\" class=\"dataframe\">\n  <thead>\n    <tr style=\"text-align: right;\">\n      <th></th>\n      <th>billboard_id</th>\n      <th>lyrics_id</th>\n      <th>artist</th>\n      <th>first_artist</th>\n      <th>song</th>\n      <th>weeks_on_chart</th>\n      <th>peak_rank</th>\n      <th>lyrics</th>\n      <th>length</th>\n      <th>word_count</th>\n      <th>language</th>\n      <th>language_score</th>\n      <th>keywords</th>\n      <th>top_keyword</th>\n    </tr>\n  </thead>\n  <tbody>\n    <tr>\n      <th>1243</th>\n      <td>10399</td>\n      <td>658</td>\n      <td>Kid Cudi</td>\n      <td>Kid Cudi</td>\n      <td>Beautiful Trip</td>\n      <td>1.0</td>\n      <td>100.0</td>\n      <td>Oh, oh Oh Three (Three, two, one)</td>\n      <td>33.0</td>\n      <td>7.0</td>\n      <td>en</td>\n      <td>0.999998</td>\n      <td>{}</td>\n      <td></td>\n    </tr>\n    <tr>\n      <th>931</th>\n      <td>7586</td>\n      <td>598</td>\n      <td>Justin Moore</td>\n      <td>Justin Moore</td>\n      <td>Why We Drink</td>\n      <td>15.0</td>\n      <td>50.0</td>\n      <td>'Cause it's Friday 'Cause it's Monday 'Cause it's a charcoal-burnin' Sunday 'Cause we ain't gonna get to one day That's why we drink 'Cause the su...</td>\n      <td>1644.0</td>\n      <td>305.0</td>\n      <td>en</td>\n      <td>0.999996</td>\n      <td>{''cause': 26, 'drink': 6, 'ice': 6, 'cold': 6, 'jon': 6, 'boat': 6, 'old': 6, 'thing': 6, 'alcohol': 6, 'shrink': 5, 'little': 4, 'yeah': 4, 'hot...</td>\n      <td>'cause</td>\n    </tr>\n    <tr>\n      <th>217</th>\n      <td>1174</td>\n      <td>854</td>\n      <td>Marshmello Featuring CHVRCHES</td>\n      <td>Marshmello</td>\n      <td>Here With Me</td>\n      <td>16.0</td>\n      <td>31.0</td>\n      <td>Can I tell you something just between you and me? When I hear your voice, I know I'm finally free Every single word is perfect as it can be And I ...</td>\n      <td>1357.0</td>\n      <td>297.0</td>\n      <td>en</td>\n      <td>0.999998</td>\n      <td>{''cause': 7, 'single': 4, 'away': 4, 'deep': 4, 'word': 2, 'finally': 1, 'time': 1, 'breathe': 1, 'gon': 1, 'na': 1, 'night': 1, 'sleep': 1}</td>\n      <td>'cause</td>\n    </tr>\n    <tr>\n      <th>1240</th>\n      <td>10388</td>\n      <td>1177</td>\n      <td>The Kid LAROI &amp; Juice WRLD</td>\n      <td>The Kid LAROI</td>\n      <td>Reminds Me Of You</td>\n      <td>1.0</td>\n      <td>89.0</td>\n      <td>I can't play that song 'cause it reminds me of you I can't watch that show 'cause it reminds me of you I can't even go there, it reminds me of you...</td>\n      <td>2130.0</td>\n      <td>446.0</td>\n      <td>en</td>\n      <td>0.999998</td>\n      <td>{''cause': 11, 'high': 4, 'song': 3, 'friend': 3, 'cry': 2, 'air': 2, 'remind': 2, 'flyin': 2, 'know': 1, 'forever': 1, 'shit': 1, 'wanna': 1, 'th...</td>\n      <td>'cause</td>\n    </tr>\n    <tr>\n      <th>1079</th>\n      <td>9087</td>\n      <td>1300</td>\n      <td>YoungBoy Never Broke Again</td>\n      <td>YoungBoy Never Broke Again</td>\n      <td>Right Foot Creep</td>\n      <td>1.0</td>\n      <td>88.0</td>\n      <td>(Who made this shit?) (TayTayMadeTheBeat) I said right foot creep, ooh, I'm walking with that heater Look around, stay low, make sure they don't s...</td>\n      <td>2907.0</td>\n      <td>575.0</td>\n      <td>en</td>\n      <td>0.999997</td>\n      <td>{''em': 7, 'right': 6, 'foot': 6, 'creep': 6, 'case': 5, 'catch': 4, 'ooh': 3, 'heater': 3, 'look': 3, 'stay': 3, 'low': 3, 'sure': 3, 'bad': 3, '...</td>\n      <td>'em</td>\n    </tr>\n  </tbody>\n</table>\n</div>"
     },
     "execution_count": 47,
     "metadata": {},
     "output_type": "execute_result"
    }
   ],
   "source": [
    "lyrics['keywords'] = lyrics_arr\n",
    "\n",
    "def get_top_keyword(keywords):\n",
    "    if len(keywords) > 0:\n",
    "        return list(keywords)[0]\n",
    "    else:\n",
    "        return ''\n",
    "lyrics['top_keyword'] = lyrics['keywords'].apply(lambda keywords: get_top_keyword(keywords))\n",
    "\n",
    "lyrics.sort_values(by='top_keyword').head()"
   ],
   "metadata": {
    "collapsed": false,
    "pycharm": {
     "name": "#%%\n"
    }
   }
  },
  {
   "cell_type": "code",
   "execution_count": 48,
   "outputs": [
    {
     "name": "stdout",
     "output_type": "stream",
     "text": [
      "['thank' 'lonely' 'ooh' 'yeah' 'ayy' 'high' 'happy' 'bell' 'christmas'\n",
      " 'ding' 'fire' 'bad' 'wonderful' 'like' 'fraud' 'reindeer' 'bitch' 'fly'\n",
      " 'money' 'let' 'away' 'breathin' 'woulda' 'man' 'special' 'heart' 'claus'\n",
      " 'navidad' 'taki' 'home' 'fuck' 'white' 'lot' 'dawg' 'time' 'trip' 'el'\n",
      " 'blue' 'speechless' 'day' 'run' 'wow' 'lie' 'jingle' 'beautiful' 'feel'\n",
      " 'la' 'little' 'different' 'merry' 'bro' 'fall' 'animal' 'perfect' 'eye'\n",
      " 'sober' 'da' 'countin' 'word' 'law' 'imagine' 'baby' 'nigga' 'love' 'dig'\n",
      " 'arm' 'break' 'old' 'bit' 'come' 'ma' 'problem' 'straight' 'girl'\n",
      " 'stylist' 'smoke' 'head' 'ya' 'plate' 'tonight' 'talk' 'ai' 'good' 'dust'\n",
      " 'mmm' 'tacoma' 'tonk' 'close' 'scared' 'stunt' 'ho' 'cigarette' 'ta'\n",
      " 'check' 'wo' 'night' 'swim' 'undecided' 'face' 'door' 'rich' 'lil' 'oh'\n",
      " 'twerk' 'care' 'jet' 'sock' 'shit' 'bringin' 'mixed' 'ice' 'murder'\n",
      " 'okay' 'tequila' 'wanna' 'song' 'poom' 'shift' 'try' 'snare' 'girlfriend'\n",
      " 'needy' 'space' 'past' 'smile' 'idea' 'stop' 'boot' 'lookin' 'view' 'gon'\n",
      " 'way' 'wrong' 'clout' 'park' 'appeal' 'aimin' 'coupe' 'cleanse' 'need'\n",
      " 'wallet' 'clothe' 'uh' 'dancin' 'god' 'darling' 'ass' \"'em\" 'lick' 'hole'\n",
      " 'insane' \"'cause\" 'un' 'vain' 'thang' 'slow' 'tap' 'scar' 'hurrah' 'guy'\n",
      " 'drive' 'watch' 'addiction' 'change' 'riverside' 'leavin' 'cool' 'pum'\n",
      " 'alive' 'street' 'rack' 'tight' 'look' 'dum' 'right' 'slide' 'float'\n",
      " 'chopstick' 'power' 'walk' 'wednesday' 'room' 'great' 'loco' 'hair' 'die'\n",
      " 'muhfuckin' 'somebody' 'quake' 'cardi' 'que' 'skate' 'lose' 'jealous'\n",
      " 'runnin' 'magic' 'mere' 'goodbye' 'seed' 'know' 'isis' 'woo' 'town'\n",
      " 'thought' 'press' 'video' 'politic' 'tnt' 'raise' 'dream' 'game' 'boogie'\n",
      " 'heaven' 'dance' 'blood' 'crown' 'trust' 'beer' 'daytrip' 'thing'\n",
      " 'bedroom' 'comin' 'rica' 'tattoo' 'long' 'rodeo' 'southbound' 'open'\n",
      " 'skin' 'mood' 'hot' 'na' 'livin' 'quiet' 'fendi' 'forever' 'issue'\n",
      " 'motion' 'mean' 'jacket' 'immunity' 'wide' 'king' 'suicide' 'motivation'\n",
      " 'want' 'surf' 'late' 'heartless' 'light' 'wait' 'young' 'pure' 'summer'\n",
      " 'avenue' 'feelin' 'cornelia' 'boy' 'soon' 'tryna' 'blind' 'daylight'\n",
      " 'friend' 'excessive' 'shawty' 'losin' 'enemy' 'actin' 'allergic' 'whoa'\n",
      " 'shameless' 'calm' 'queen' 'doo' 'trato' 'pop' 'nipsey' 'mothafuckin'\n",
      " 'noodle' 'medication' 'couple' 'savage' 'cum' 'sayin' 'liquor'\n",
      " 'potential' 'wild' 'sense' 'niggas' 'chick' 'hallelujah' 'yo' 'mm'\n",
      " 'jesus' 'work' 'thriller' 'sing' 'hand' 'confess' 'roxanne' 'fake'\n",
      " 'ridin' 'lucky' 'new' 'sunday' 'cry' 'yellow' 'mama' 'anymore' 'sugar'\n",
      " 'place' 'homesick' 'hell' 'rhythm' 'unknown' 'loyal' 'sippin' 'cherry'\n",
      " 'link' 'memory' 'holiday' 'everyday' 'tell' 'control' 'fallin' 'dirty'\n",
      " 'golden' 'pretend' 'cold' 'mr' 'gang' 'bae' 'cheat' 'wish' 'afraid'\n",
      " 'yummy' 'asleep' 'punch' 'regret' 'rare' 'usin' 'mode' 'world' 'drawin'\n",
      " 'bump' 'pussy' 'round' 'sound' 'play' 'think' 'stepdad' 'burn' 'beat'\n",
      " 'homemade' 'single' 'lo' 'catch' 'bar' 'physical' 'mahogany' 'intention'\n",
      " 'big' 'prove' 'fool' 'mike' 'star' 'win' 'sure' 'babe' 'ptsd' 'ugly'\n",
      " 'active' 'rappin' 'deal' 'price' 'benz' 'freak' 'bank' 'migraine' 'ap'\n",
      " 'dumb' 'woah' 'peel' 'stay' 'huh' 'average' 'cardigan' 'leave' 'flash'\n",
      " 'hard' 'sorry' 'irrelevant' 'boom' 'dangerous' 'remember' 'sky' 'life'\n",
      " 'hit' 'slidin' 'ride' 'shine' 'ready' 'morning' 'route' 'naughty' 'party'\n",
      " 'lean' 'brr' 'rollin' 'axl' 'social' 'humble' 'barefoot' 'cha' 'york'\n",
      " 'ra' 'solitary' 'daisie' 'outside' 'stompin' 'striker' 'tech'\n",
      " 'comfortable' 'shinin' 'pippen' 'rain' 'gala' 'gimmick' 'candy' 'country'\n",
      " 'wonderland' 'tha' 'deep' 'prone' 'til' 'motherland' 'amiri' 'blow'\n",
      " 'pretty' 'bang' 'ddu' 'spirit' 'rag' 'flow' 'mercy' 'shooter' 'shorty'\n",
      " 'batter' 'coast' 'air' 'chill' 'shame' 'cheer' 'toss' 'sign' 'august'\n",
      " 'tiptoe' 'mad' 'shade' 'callin' 'wonder' 'complicated' 'fuckin' 'clean'\n",
      " 'real' 'goddamn' 'cream' 'clover' 'running' 'turn' 'eat' 'soulful'\n",
      " 'beach' 'window' 'start' 'holy' 'diamond' 'mic' 'cup' 'hour' 'save'\n",
      " 'ahead' '21' 'bow' 'steppin' 'tick' 'sofia' 'wishin' 'swing' 'throat'\n",
      " 'drinkin' 'infinite' 'damage' 'numb' 'ba' 'motive' 'nasty' 'net'\n",
      " 'bullshit' 'obvious' 'emotion' 'today' 'thi' 'clip' 'ew' 'article' 'dun'\n",
      " 'swish' 'everybody' 'draco' 'ody' 'southern' 'prisoner' 'wah' 'dallas'\n",
      " 'santa' 'champagne' 'lotta' 'happiness' 'breath' 'disappointment'\n",
      " 'dorothea' 'yes' '' 'saint' 'noel']\n"
     ]
    }
   ],
   "source": [
    "print(lyrics['top_keyword'].unique())"
   ],
   "metadata": {
    "collapsed": false,
    "pycharm": {
     "name": "#%%\n"
    }
   }
  },
  {
   "cell_type": "code",
   "execution_count": 39,
   "outputs": [
    {
     "name": "stdout",
     "output_type": "stream",
     "text": [
      "itself\n",
      "sixty\n",
      "still\n",
      "even\n",
      "the\n",
      "then\n",
      "’m\n",
      "on\n",
      "moreover\n",
      "hers\n",
      "everywhere\n",
      "last\n",
      "do\n",
      "something\n",
      "keep\n",
      "after\n",
      "is\n",
      "thereupon\n",
      "already\n",
      "seeming\n",
      "side\n",
      "serious\n",
      "whither\n",
      "can\n",
      "onto\n",
      "must\n",
      "‘s\n",
      "did\n",
      "somewhere\n",
      "n't\n",
      "four\n",
      "are\n",
      "be\n",
      "towards\n",
      "beforehand\n",
      "nothing\n",
      "whoever\n",
      "so\n",
      "three\n",
      "afterwards\n",
      "indeed\n",
      "since\n",
      "anything\n",
      "yourselves\n",
      "without\n",
      "formerly\n",
      "became\n",
      "does\n",
      "into\n",
      "her\n",
      "become\n",
      "once\n",
      "’d\n",
      "within\n",
      "thus\n",
      "when\n",
      "these\n",
      "whose\n",
      "made\n",
      "how\n",
      "’re\n",
      "has\n",
      "my\n",
      "else\n",
      "other\n",
      "please\n",
      "few\n",
      "off\n",
      "to\n",
      "before\n",
      "always\n",
      "per\n",
      "much\n",
      "used\n",
      "above\n",
      "nevertheless\n",
      "eleven\n",
      "here\n",
      "sometimes\n",
      "whatever\n",
      "under\n",
      "however\n",
      "ten\n",
      "someone\n",
      "being\n",
      "between\n",
      "among\n",
      "yet\n",
      "but\n",
      "another\n",
      "while\n",
      "more\n",
      "myself\n",
      "as\n",
      "several\n",
      "forty\n",
      "i\n",
      "seem\n",
      "nowhere\n",
      "down\n",
      "back\n",
      "us\n",
      "although\n",
      "along\n",
      "next\n",
      "now\n",
      "at\n",
      "n‘t\n",
      "though\n",
      "fifty\n",
      "a\n",
      "’ll\n",
      "besides\n",
      "we\n",
      "move\n",
      "those\n",
      "five\n",
      "get\n",
      "during\n",
      "them\n",
      "he\n",
      "in\n",
      "therefore\n",
      "’ve\n",
      "perhaps\n",
      "done\n",
      "nobody\n",
      "anywhere\n",
      "beyond\n",
      "across\n",
      "due\n",
      "give\n",
      "namely\n",
      "because\n",
      "seems\n",
      "they\n",
      "wherever\n",
      "him\n",
      "thereafter\n",
      "than\n",
      "make\n",
      "below\n",
      "ca\n",
      "there\n",
      "also\n",
      "none\n",
      "your\n",
      "’s\n",
      "herein\n",
      "all\n",
      "rather\n",
      "put\n",
      "whenever\n",
      "and\n",
      "by\n",
      "thru\n",
      "n’t\n",
      "me\n",
      "it\n",
      "'re\n",
      "ourselves\n",
      "with\n",
      "toward\n",
      "thence\n",
      "out\n",
      "am\n",
      "go\n",
      "everything\n",
      "third\n",
      "their\n",
      "who\n",
      "most\n",
      "eight\n",
      "whereas\n",
      "unless\n",
      "both\n",
      "empty\n",
      "front\n",
      "somehow\n",
      "this\n",
      "mine\n",
      "hereupon\n",
      "really\n",
      "six\n",
      "becoming\n",
      "yourself\n",
      "over\n",
      "may\n",
      "not\n",
      "therein\n",
      "enough\n",
      "doing\n",
      "why\n",
      "seemed\n",
      "nor\n",
      "ours\n",
      "of\n",
      "where\n",
      "otherwise\n",
      "nine\n",
      "himself\n",
      "others\n",
      "everyone\n",
      "one\n",
      "would\n",
      "very\n",
      "‘ll\n",
      "up\n",
      "was\n",
      "never\n",
      "behind\n",
      "only\n",
      "whether\n",
      "that\n",
      "what\n",
      "thereby\n",
      "less\n",
      "full\n",
      "elsewhere\n",
      "various\n",
      "again\n",
      "should\n",
      "hereafter\n",
      "whole\n",
      "whence\n",
      "top\n",
      "almost\n",
      "against\n",
      "sometime\n",
      "an\n",
      "which\n",
      "‘m\n",
      "twenty\n",
      "fifteen\n",
      "alone\n",
      "'ve\n",
      "same\n",
      "take\n",
      "neither\n",
      "‘d\n",
      "have\n",
      "‘ve\n",
      "amount\n",
      "name\n",
      "'m\n",
      "until\n",
      "for\n",
      "many\n",
      "or\n",
      "could\n",
      "each\n",
      "whereafter\n",
      "such\n",
      "wherein\n",
      "throughout\n",
      "whom\n",
      "amongst\n",
      "its\n",
      "noone\n",
      "our\n",
      "whereby\n",
      "two\n",
      "she\n",
      "hence\n",
      "been\n",
      "no\n",
      "becomes\n",
      "via\n",
      "using\n",
      "part\n",
      "former\n",
      "well\n",
      "some\n",
      "herself\n",
      "just\n",
      "further\n",
      "say\n",
      "were\n",
      "you\n",
      "too\n",
      "'s\n",
      "together\n",
      "twelve\n",
      "see\n",
      "show\n",
      "re\n",
      "except\n",
      "beside\n",
      "anyway\n",
      "anyone\n",
      "'d\n",
      "mostly\n",
      "any\n",
      "regarding\n",
      "hundred\n",
      "either\n",
      "every\n",
      "yours\n",
      "first\n",
      "will\n",
      "through\n",
      "might\n",
      "often\n",
      "around\n",
      "hereby\n",
      "meanwhile\n",
      "own\n",
      "his\n",
      "if\n",
      "from\n",
      "least\n",
      "themselves\n",
      "latter\n",
      "call\n",
      "about\n",
      "cannot\n",
      "quite\n",
      "had\n",
      "anyhow\n",
      "bottom\n",
      "'ll\n",
      "upon\n",
      "latterly\n",
      "ever\n",
      "whereupon\n",
      "‘re\n"
     ]
    }
   ],
   "source": [
    "for word in nlp.Defaults.stop_words:\n",
    "    print(word)\n"
   ],
   "metadata": {
    "collapsed": false,
    "pycharm": {
     "name": "#%%\n"
    }
   }
  }
 ],
 "metadata": {
  "jupytext": {
   "formats": "ipynb,auto:light"
  },
  "kernelspec": {
   "display_name": "Python 3",
   "language": "python",
   "name": "python3"
  },
  "language_info": {
   "codemirror_mode": {
    "name": "ipython",
    "version": 3
   },
   "file_extension": ".py",
   "mimetype": "text/x-python",
   "name": "python",
   "nbconvert_exporter": "python",
   "pygments_lexer": "ipython3",
   "version": "3.8.6"
  }
 },
 "nbformat": 4,
 "nbformat_minor": 1
}