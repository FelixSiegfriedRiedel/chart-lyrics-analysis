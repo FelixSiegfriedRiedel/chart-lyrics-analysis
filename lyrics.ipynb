{
 "cells": [
  {
   "cell_type": "markdown",
   "metadata": {},
   "source": [
    "## Initial Setup"
   ]
  },
  {
   "cell_type": "code",
   "execution_count": 1,
   "metadata": {
    "pycharm": {
     "name": "#%%\n"
    }
   },
   "outputs": [
    {
     "name": "stdout",
     "output_type": "stream",
     "text": [
      "data\\artist_song\\artist_song.csv\n",
      "data\\artist_song\\artist_song.json\n",
      "data\\billboard\\billboard_top_100.csv\n",
      "data\\billboard\\billboard_top_100_2020.csv\n",
      "data\\input\\songs-2.csv\n",
      "data\\input\\top100.json\n",
      "data\\input\\top100_old.json\n",
      "data\\lyrics\\artist_song_lyrics.csv\n",
      "data\\lyrics\\artist_song_lyrics.xlsx\n",
      "data\\lyrics\\artist_song_lyrics_bak.csv\n",
      "data\\lyrics\\artist_song_lyrics_manual.csv\n",
      "data\\lyrics\\filtered_lyrics.csv\n",
      "data\\lyrics\\filtered_lyrics.xlsx\n",
      "data\\lyrics\\filtered_lyrics_bak.csv\n",
      "data\\lyrics\\filtered_lyrics_bak.xlsx\n",
      "data\\lyrics\\long_lyrics.csv\n",
      "data\\lyrics\\long_lyrics.xlsx\n",
      "data\\lyrics\\lyrics.xlsx\n",
      "data\\lyrics\\missing_lyrics.csv\n",
      "data\\lyrics\\missing_lyrics.xlsx\n",
      "data\\lyrics\\missing_lyrics_bak.csv\n",
      "data\\lyrics\\missing_lyrics_bak.xlsx\n",
      "data\\lyrics\\short_lyrics.csv\n",
      "data\\lyrics\\~$filtered_lyrics_bak.xlsx\n"
     ]
    }
   ],
   "source": [
    "import numpy as np # linear algebra\n",
    "import pandas as pd # data processing, CSV file I/O (e.g. pd.read_csv)\n",
    "import seaborn as sns\n",
    "import matplotlib.pyplot as plt\n",
    "import datetime\n",
    "import os\n",
    "for dirname, _, filenames in os.walk('data'):\n",
    "    for filename in filenames:\n",
    "        print(os.path.join(dirname, filename))\n"
   ]
  },
  {
   "cell_type": "code",
   "execution_count": 2,
   "metadata": {
    "pycharm": {
     "name": "#%%\n"
    }
   },
   "outputs": [],
   "source": [
    "lyrics = pd.read_csv('data/lyrics/artist_song_lyrics.csv', index_col=0, encoding='utf-8')"
   ]
  },
  {
   "cell_type": "code",
   "execution_count": 3,
   "metadata": {
    "pycharm": {
     "name": "#%%\n"
    }
   },
   "outputs": [
    {
     "data": {
      "text/plain": "     id                             artist first_artist                song  \\\n0  1093   2 Chainz Featuring Ariana Grande     2 Chainz      Rule The World   \n1  1099  2 Chainz Featuring Kendrick Lamar     2 Chainz  Momma I Hit A Lick   \n2  1074    2 Chainz Featuring Travis Scott     2 Chainz                Whip   \n3    85                          21 Savage    21 Savage                 1.5   \n4    36                          21 Savage    21 Savage               A Lot   \n\n   weeks_on_chart  peak_rank  \\\n0               2         94   \n1               1        100   \n2               1         75   \n3               1         86   \n4              23         12   \n\n                                              lyrics  \n0  Yeah Uh-huh (Hitmaka) 2 Chainz  Top down on th...  \n1  I want it, I want it, I want it-it-it-it  Chil...  \n2  Yeah Do it no hands, yeah, do it, no handstand...  \n3  My earrings cost a half a ticket, I don't hear...  \n4  I love you Turn my headphone down a little bit...  ",
      "text/html": "<div>\n<style scoped>\n    .dataframe tbody tr th:only-of-type {\n        vertical-align: middle;\n    }\n\n    .dataframe tbody tr th {\n        vertical-align: top;\n    }\n\n    .dataframe thead th {\n        text-align: right;\n    }\n</style>\n<table border=\"1\" class=\"dataframe\">\n  <thead>\n    <tr style=\"text-align: right;\">\n      <th></th>\n      <th>id</th>\n      <th>artist</th>\n      <th>first_artist</th>\n      <th>song</th>\n      <th>weeks_on_chart</th>\n      <th>peak_rank</th>\n      <th>lyrics</th>\n    </tr>\n  </thead>\n  <tbody>\n    <tr>\n      <th>0</th>\n      <td>1093</td>\n      <td>2 Chainz Featuring Ariana Grande</td>\n      <td>2 Chainz</td>\n      <td>Rule The World</td>\n      <td>2</td>\n      <td>94</td>\n      <td>Yeah Uh-huh (Hitmaka) 2 Chainz  Top down on th...</td>\n    </tr>\n    <tr>\n      <th>1</th>\n      <td>1099</td>\n      <td>2 Chainz Featuring Kendrick Lamar</td>\n      <td>2 Chainz</td>\n      <td>Momma I Hit A Lick</td>\n      <td>1</td>\n      <td>100</td>\n      <td>I want it, I want it, I want it-it-it-it  Chil...</td>\n    </tr>\n    <tr>\n      <th>2</th>\n      <td>1074</td>\n      <td>2 Chainz Featuring Travis Scott</td>\n      <td>2 Chainz</td>\n      <td>Whip</td>\n      <td>1</td>\n      <td>75</td>\n      <td>Yeah Do it no hands, yeah, do it, no handstand...</td>\n    </tr>\n    <tr>\n      <th>3</th>\n      <td>85</td>\n      <td>21 Savage</td>\n      <td>21 Savage</td>\n      <td>1.5</td>\n      <td>1</td>\n      <td>86</td>\n      <td>My earrings cost a half a ticket, I don't hear...</td>\n    </tr>\n    <tr>\n      <th>4</th>\n      <td>36</td>\n      <td>21 Savage</td>\n      <td>21 Savage</td>\n      <td>A Lot</td>\n      <td>23</td>\n      <td>12</td>\n      <td>I love you Turn my headphone down a little bit...</td>\n    </tr>\n  </tbody>\n</table>\n</div>"
     },
     "execution_count": 3,
     "metadata": {},
     "output_type": "execute_result"
    }
   ],
   "source": [
    "lyrics.head()"
   ]
  },
  {
   "cell_type": "code",
   "execution_count": 4,
   "metadata": {
    "pycharm": {
     "name": "#%%\n"
    }
   },
   "outputs": [
    {
     "name": "stdout",
     "output_type": "stream",
     "text": [
      "<class 'pandas.core.frame.DataFrame'>\n",
      "Int64Index: 1322 entries, 0 to 1321\n",
      "Data columns (total 7 columns):\n",
      " #   Column          Non-Null Count  Dtype \n",
      "---  ------          --------------  ----- \n",
      " 0   id              1322 non-null   int64 \n",
      " 1   artist          1322 non-null   object\n",
      " 2   first_artist    1322 non-null   object\n",
      " 3   song            1322 non-null   object\n",
      " 4   weeks_on_chart  1322 non-null   int64 \n",
      " 5   peak_rank       1322 non-null   int64 \n",
      " 6   lyrics          1321 non-null   object\n",
      "dtypes: int64(3), object(4)\n",
      "memory usage: 82.6+ KB\n"
     ]
    }
   ],
   "source": [
    "lyrics.info()"
   ]
  },
  {
   "cell_type": "code",
   "execution_count": 5,
   "metadata": {
    "pycharm": {
     "name": "#%%\n"
    }
   },
   "outputs": [],
   "source": [
    "import spacy\n",
    "from spacy.language import Language\n",
    "from spacy_langdetect import LanguageDetector\n",
    "\n",
    "@Language.factory(\"language_detector\")\n",
    "def create_language_detector(nlp, name):\n",
    "   return LanguageDetector(language_detection_function=None)\n",
    "#"
   ]
  },
  {
   "cell_type": "code",
   "execution_count": 6,
   "metadata": {
    "pycharm": {
     "name": "#%%\n"
    }
   },
   "outputs": [
    {
     "data": {
      "text/plain": "<spacy_langdetect.spacy_langdetect.LanguageDetector at 0x259ee7ca430>"
     },
     "execution_count": 6,
     "metadata": {},
     "output_type": "execute_result"
    }
   ],
   "source": [
    "nlp = spacy.load(\"en_core_web_sm\")\n",
    "nlp.add_pipe('language_detector')\n"
   ]
  },
  {
   "cell_type": "code",
   "execution_count": 7,
   "metadata": {
    "pycharm": {
     "name": "#%%\n"
    }
   },
   "outputs": [],
   "source": [
    "def detect_language(text, nlp, ret):\n",
    "    if type(text) == str:\n",
    "        doc = nlp(text)\n",
    "        result = doc._.language\n",
    "    else:\n",
    "        result = {'language' : '-', 'score' : -1}\n",
    "    return result[ret]"
   ]
  },
  {
   "cell_type": "code",
   "execution_count": 8,
   "metadata": {
    "pycharm": {
     "name": "#%%\n"
    }
   },
   "outputs": [
    {
     "data": {
      "text/plain": "                 id  weeks_on_chart    peak_rank        length    word_count  \\\ncount   1322.000000     1322.000000  1322.000000   1322.000000   1322.000000   \nmean    5177.734493        8.881997    51.161120   2347.776097    462.195915   \nstd     3242.740525       11.146522    28.710498   2406.488584    425.475731   \nmin        0.000000        1.000000     1.000000      3.000000      1.000000   \n25%     2366.750000        1.000000    28.000000   1585.500000    314.000000   \n50%     5586.500000        3.000000    53.000000   2097.000000    419.000000   \n75%     7851.000000       15.000000    75.000000   2885.000000    569.000000   \nmax    10497.000000       61.000000   100.000000  79241.000000  13651.000000   \n\n       language_score  \ncount     1322.000000  \nmean         0.993945  \nstd          0.064779  \nmin         -1.000000  \n25%          0.999996  \n50%          0.999997  \n75%          0.999998  \nmax          1.000000  ",
      "text/html": "<div>\n<style scoped>\n    .dataframe tbody tr th:only-of-type {\n        vertical-align: middle;\n    }\n\n    .dataframe tbody tr th {\n        vertical-align: top;\n    }\n\n    .dataframe thead th {\n        text-align: right;\n    }\n</style>\n<table border=\"1\" class=\"dataframe\">\n  <thead>\n    <tr style=\"text-align: right;\">\n      <th></th>\n      <th>id</th>\n      <th>weeks_on_chart</th>\n      <th>peak_rank</th>\n      <th>length</th>\n      <th>word_count</th>\n      <th>language_score</th>\n    </tr>\n  </thead>\n  <tbody>\n    <tr>\n      <th>count</th>\n      <td>1322.000000</td>\n      <td>1322.000000</td>\n      <td>1322.000000</td>\n      <td>1322.000000</td>\n      <td>1322.000000</td>\n      <td>1322.000000</td>\n    </tr>\n    <tr>\n      <th>mean</th>\n      <td>5177.734493</td>\n      <td>8.881997</td>\n      <td>51.161120</td>\n      <td>2347.776097</td>\n      <td>462.195915</td>\n      <td>0.993945</td>\n    </tr>\n    <tr>\n      <th>std</th>\n      <td>3242.740525</td>\n      <td>11.146522</td>\n      <td>28.710498</td>\n      <td>2406.488584</td>\n      <td>425.475731</td>\n      <td>0.064779</td>\n    </tr>\n    <tr>\n      <th>min</th>\n      <td>0.000000</td>\n      <td>1.000000</td>\n      <td>1.000000</td>\n      <td>3.000000</td>\n      <td>1.000000</td>\n      <td>-1.000000</td>\n    </tr>\n    <tr>\n      <th>25%</th>\n      <td>2366.750000</td>\n      <td>1.000000</td>\n      <td>28.000000</td>\n      <td>1585.500000</td>\n      <td>314.000000</td>\n      <td>0.999996</td>\n    </tr>\n    <tr>\n      <th>50%</th>\n      <td>5586.500000</td>\n      <td>3.000000</td>\n      <td>53.000000</td>\n      <td>2097.000000</td>\n      <td>419.000000</td>\n      <td>0.999997</td>\n    </tr>\n    <tr>\n      <th>75%</th>\n      <td>7851.000000</td>\n      <td>15.000000</td>\n      <td>75.000000</td>\n      <td>2885.000000</td>\n      <td>569.000000</td>\n      <td>0.999998</td>\n    </tr>\n    <tr>\n      <th>max</th>\n      <td>10497.000000</td>\n      <td>61.000000</td>\n      <td>100.000000</td>\n      <td>79241.000000</td>\n      <td>13651.000000</td>\n      <td>1.000000</td>\n    </tr>\n  </tbody>\n</table>\n</div>"
     },
     "execution_count": 8,
     "metadata": {},
     "output_type": "execute_result"
    }
   ],
   "source": [
    "lyrics['length'] = lyrics['lyrics'].apply(lambda string: len(str(string)))\n",
    "lyrics['word_count'] = lyrics['lyrics'].apply(lambda string: len(str(string).split()))\n",
    "# lyrics['language'] = ''\n",
    "# lyrics['language_scrore'] = ''\n",
    "lyrics['language'] = lyrics['lyrics'].apply(lambda string: detect_language(string, nlp, 'language'))\n",
    "lyrics['language_score'] = lyrics['lyrics'].apply(lambda string: detect_language(string, nlp, 'score'))\n",
    "\n",
    "lyrics.describe()"
   ]
  },
  {
   "cell_type": "markdown",
   "metadata": {
    "pycharm": {
     "name": "#%% md\n"
    }
   },
   "source": [
    "## Validating lyrics\n"
   ]
  },
  {
   "cell_type": "markdown",
   "metadata": {},
   "source": [
    "### Exploring shortest lyrics\n",
    "Based on the description, I will consider lyrics with a word count less than 321 as short."
   ]
  },
  {
   "cell_type": "code",
   "execution_count": 9,
   "metadata": {
    "pycharm": {
     "name": "#%%\n"
    }
   },
   "outputs": [
    {
     "data": {
      "text/plain": "        id                          artist   first_artist  \\\n1320  4080       j-hope Featuring Becky G.         j-hope   \n1247    24                           Wham!          Wham!   \n1001  8033       Pop Smoke Featuring Quavo      Pop Smoke   \n1183  4910                      The Weeknd     The Weeknd   \n1005  8056    Pop Smoke Featuring Swae Lee      Pop Smoke   \n182    198                   Billie Eilish  Billie Eilish   \n353   8601        Drake Featuring Lil Durk          Drake   \n1050  4474             Roddy Ricch & Gunna    Roddy Ricch   \n1046  7995  Rod Wave Featuring ATR Son Son       Rod Wave   \n1042  6777                        Rod Wave       Rod Wave   \n\n                     song  weeks_on_chart  peak_rank   lyrics  length  \\\n1320  Chicken Noodle Soup               1         81      NaN       3   \n1247       Last Christmas              19          9  !Error!       7   \n1001     Aim For The Moon               2         34  !Error!       7   \n1183      Blinding Lights              55          1  !Error!       7   \n1005             Creature               1         57  !Error!       7   \n182            Ocean Eyes              20         84  !Error!       7   \n353   Laugh Now Cry Later              19          2  !Error!       7   \n1050         Start Wit Me              13         56  !Error!       7   \n1046          Rags2Riches              20         12  !Error!       7   \n1042         The Greatest               1         78  !Error!       7   \n\n      word_count language  language_score  \n1320           1        -       -1.000000  \n1247           1       de        0.999996  \n1001           1       de        0.999994  \n1183           1       de        0.857138  \n1005           1       de        0.999994  \n182            1       de        0.999994  \n353            1       de        0.999997  \n1050           1       de        0.999996  \n1046           1       de        0.999995  \n1042           1       de        0.999995  ",
      "text/html": "<div>\n<style scoped>\n    .dataframe tbody tr th:only-of-type {\n        vertical-align: middle;\n    }\n\n    .dataframe tbody tr th {\n        vertical-align: top;\n    }\n\n    .dataframe thead th {\n        text-align: right;\n    }\n</style>\n<table border=\"1\" class=\"dataframe\">\n  <thead>\n    <tr style=\"text-align: right;\">\n      <th></th>\n      <th>id</th>\n      <th>artist</th>\n      <th>first_artist</th>\n      <th>song</th>\n      <th>weeks_on_chart</th>\n      <th>peak_rank</th>\n      <th>lyrics</th>\n      <th>length</th>\n      <th>word_count</th>\n      <th>language</th>\n      <th>language_score</th>\n    </tr>\n  </thead>\n  <tbody>\n    <tr>\n      <th>1320</th>\n      <td>4080</td>\n      <td>j-hope Featuring Becky G.</td>\n      <td>j-hope</td>\n      <td>Chicken Noodle Soup</td>\n      <td>1</td>\n      <td>81</td>\n      <td>NaN</td>\n      <td>3</td>\n      <td>1</td>\n      <td>-</td>\n      <td>-1.000000</td>\n    </tr>\n    <tr>\n      <th>1247</th>\n      <td>24</td>\n      <td>Wham!</td>\n      <td>Wham!</td>\n      <td>Last Christmas</td>\n      <td>19</td>\n      <td>9</td>\n      <td>!Error!</td>\n      <td>7</td>\n      <td>1</td>\n      <td>de</td>\n      <td>0.999996</td>\n    </tr>\n    <tr>\n      <th>1001</th>\n      <td>8033</td>\n      <td>Pop Smoke Featuring Quavo</td>\n      <td>Pop Smoke</td>\n      <td>Aim For The Moon</td>\n      <td>2</td>\n      <td>34</td>\n      <td>!Error!</td>\n      <td>7</td>\n      <td>1</td>\n      <td>de</td>\n      <td>0.999994</td>\n    </tr>\n    <tr>\n      <th>1183</th>\n      <td>4910</td>\n      <td>The Weeknd</td>\n      <td>The Weeknd</td>\n      <td>Blinding Lights</td>\n      <td>55</td>\n      <td>1</td>\n      <td>!Error!</td>\n      <td>7</td>\n      <td>1</td>\n      <td>de</td>\n      <td>0.857138</td>\n    </tr>\n    <tr>\n      <th>1005</th>\n      <td>8056</td>\n      <td>Pop Smoke Featuring Swae Lee</td>\n      <td>Pop Smoke</td>\n      <td>Creature</td>\n      <td>1</td>\n      <td>57</td>\n      <td>!Error!</td>\n      <td>7</td>\n      <td>1</td>\n      <td>de</td>\n      <td>0.999994</td>\n    </tr>\n    <tr>\n      <th>182</th>\n      <td>198</td>\n      <td>Billie Eilish</td>\n      <td>Billie Eilish</td>\n      <td>Ocean Eyes</td>\n      <td>20</td>\n      <td>84</td>\n      <td>!Error!</td>\n      <td>7</td>\n      <td>1</td>\n      <td>de</td>\n      <td>0.999994</td>\n    </tr>\n    <tr>\n      <th>353</th>\n      <td>8601</td>\n      <td>Drake Featuring Lil Durk</td>\n      <td>Drake</td>\n      <td>Laugh Now Cry Later</td>\n      <td>19</td>\n      <td>2</td>\n      <td>!Error!</td>\n      <td>7</td>\n      <td>1</td>\n      <td>de</td>\n      <td>0.999997</td>\n    </tr>\n    <tr>\n      <th>1050</th>\n      <td>4474</td>\n      <td>Roddy Ricch &amp; Gunna</td>\n      <td>Roddy Ricch</td>\n      <td>Start Wit Me</td>\n      <td>13</td>\n      <td>56</td>\n      <td>!Error!</td>\n      <td>7</td>\n      <td>1</td>\n      <td>de</td>\n      <td>0.999996</td>\n    </tr>\n    <tr>\n      <th>1046</th>\n      <td>7995</td>\n      <td>Rod Wave Featuring ATR Son Son</td>\n      <td>Rod Wave</td>\n      <td>Rags2Riches</td>\n      <td>20</td>\n      <td>12</td>\n      <td>!Error!</td>\n      <td>7</td>\n      <td>1</td>\n      <td>de</td>\n      <td>0.999995</td>\n    </tr>\n    <tr>\n      <th>1042</th>\n      <td>6777</td>\n      <td>Rod Wave</td>\n      <td>Rod Wave</td>\n      <td>The Greatest</td>\n      <td>1</td>\n      <td>78</td>\n      <td>!Error!</td>\n      <td>7</td>\n      <td>1</td>\n      <td>de</td>\n      <td>0.999995</td>\n    </tr>\n  </tbody>\n</table>\n</div>"
     },
     "execution_count": 9,
     "metadata": {},
     "output_type": "execute_result"
    }
   ],
   "source": [
    "lyrics_sort_asc = lyrics.sort_values(by='length')\n",
    "lyrics_sort_asc.head(10)"
   ]
  },
  {
   "cell_type": "code",
   "execution_count": 10,
   "metadata": {
    "pycharm": {
     "name": "#%%\n"
    }
   },
   "outputs": [
    {
     "name": "stdout",
     "output_type": "stream",
     "text": [
      "                                                 lyrics  length  word_count\n",
      "1320                                                NaN       3           1\n",
      "1247                                            !Error!       7           1\n",
      "1001                                            !Error!       7           1\n",
      "1183                                            !Error!       7           1\n",
      "1005                                            !Error!       7           1\n",
      "182                                             !Error!       7           1\n",
      "353                                             !Error!       7           1\n",
      "1050                                            !Error!       7           1\n",
      "1046                                            !Error!       7           1\n",
      "1042                                            !Error!       7           1\n",
      "1007                                            !Error!       7           1\n",
      "91                                              !Error!       7           1\n",
      "1214                                            !Error!       7           1\n",
      "1190                                            !Error!       7           1\n",
      "1216                                            !Error!       7           1\n",
      "1017                                            !Error!       7           1\n",
      "999                                             !Error!       7           1\n",
      "1091                                            !Error!       7           1\n",
      "1009                                            !Error!       7           1\n",
      "998                                             !Error!       7           1\n",
      "1131                                            !Error!       7           1\n",
      "1122                                            !Error!       7           1\n",
      "263                                             !Error!       7           1\n",
      "76                                              !Error!       7           1\n",
      "1104                                            !Error!       7           1\n",
      "244                                             !Error!       7           1\n",
      "1010                                            !Error!       7           1\n",
      "731                                             !Error!       7           1\n",
      "736                                             !Error!       7           1\n",
      "153                                             !Error!       7           1\n",
      "993                                             !Error!       7           1\n",
      "1094                                            !Error!       7           1\n",
      "842                                             !Error!       7           1\n",
      "970                                            !NoSong!       8           1\n",
      "887                                            !NoSong!       8           1\n",
      "538                                            !NoSong!       8           1\n",
      "506                                            !NoSong!       8           1\n",
      "192                                            !NoSong!       8           1\n",
      "321                                            !NoSong!       8           1\n",
      "633                                            !NoSong!       8           1\n",
      "658                   Oh, oh Oh Three (Three, two, one)      33           7\n",
      "611   Every knee shall bow Every tongue confess Jesu...     139          26\n",
      "1252  I was like whoa-oh-oh Whoa-oh-oh Whoa-woah-oh ...     427          72\n",
      "233   Silent night, holy night All is calm, all is b...     504          90\n",
      "490   宇多田ヒカル & Skrillexの「Face My Fears」歌詞  ねえ　どれくらい ...     535         107\n",
      "988   Yeah, yeah Yeah, yeah, yeah Yeah, yeah, yeah (...     557         101\n",
      "190   \"I Robot,\" Alan Parson's Project  \"I Walk The ...     561          91\n",
      "191   I'm dreaming of a white Christmas Just like th...     581         108\n",
      "930   Chestnuts roasting on an open fire Jack frost ...     590         110\n",
      "929   Deck the halls with boughs of holly Fa-la-la-l...     622          79\n",
      "848   I'm so alone, nothing feels like home I'm so a...     629         132\n",
      "1111  Bang by AJR ILY By surf mesa Diamond by Sam sm...     644         120\n",
      "380   I'll have a blue Christmas without you (Ooh, o...     650         119\n",
      "450   The First Noel, the Angels did say Was to cert...     666         132\n",
      "881   Have yourself a merry little Christmas Let you...     706         135\n",
      "206   Rockin' around the Christmas tree At the Chris...     711         120\n",
      "539   I guess I just feel like I guess I just feel l...     718         152\n",
      "365   Bells will be ringing this sad, sad news Oh, w...     743         138\n",
      "690   Chestnuts roasting on an open fire Jack Frost ...     758         141\n",
      "1193  I can't move, I'm so paralyzed I'm so paralyze...     758         152\n",
      "1141  Ooh Ooh  School bell rings, walk me home Sidew...     793         156\n",
      "316   Oh, the weather outside is frightful But the f...     799         167\n",
      "824   Well, this is what it look like right before y...     815         161\n",
      "120   너의 따분한 그 표정 지루한 발끝 Please, look at me now 핸드폰은...     823         203\n",
      "126   매번 같은 하루들 중에 (들 중에) 너를 만날 때 가장 난 행복해 (행복해) 매번 ...     830         235\n",
      "590   Rockin' around the Christmas tree At the Chris...     838         142\n",
      "178   Take me to the rooftop I wanna see the world w...     841         168\n",
      "141   Yo sé que soy un cabrón Que no merezco tu perd...     850         179\n",
      "1250  Yeah  Shawty, heard you bad... word? So profan...     851         166\n",
      "484   Coucou  Don't you call him \"baby\" We're not ta...     856         171\n",
      "1101  It's 3:34 and I don't need no more You can cal...     864         183\n",
      "181   I should have known I'd leave alone Just goes ...     872         186\n",
      "251   They say \"Love is more precious than gold\" Can...     874         171\n",
      "176   It's not true Tell me I’ve been lied to Crying...     877         187\n",
      "542   Go ahead and park after dark Fallen star, I'm ...     882         173\n",
      "184   Don't you know I'm no good for you? I've learn...     894         192\n",
      "179   I can't seem to focus And you don't seem to no...     898         176\n",
      "331   Hang all the mistletoe I'm gonna get to know y...     907         161\n",
      "188   Don't be that way Fall apart twice a day I jus...     909         180\n",
      "189   Thought I found a way Thought I found a way ou...     910         186\n",
      "177   Told you not to worry But maybe that's a lie H...     912         189\n",
      "945   I've been holding my breath I've  been countin...     924         187\n",
      "1204  Immunity, long overdue Contagion, I exhale you...     929         161\n",
      "592   Everybody knows my name now But somethin' 'bou...     939         173\n",
      "831   That's on me, that's on me, I know That's on m...     941         195\n",
      "608   Closed on Sunday, you're my Chick-fil-A Closed...     968         182\n",
      "541   I fell for your magic, I tasted your skin And ...     977         212\n",
      "734   D-D-Daytrip took it to ten (Hey)  Ayy, Panini,...     982         213\n",
      "487   What do you mean? I'm sorry by the way Never c...     996         185\n",
      "1132  Keep your helmet, keep your life, son Just a f...     998         183\n",
      "171   Wait a minute, let me finish I know you don't ...     999         190\n",
      "108   Step out into the dawn You pray 'til, you pray...    1004         209\n",
      "971   And I'd give up forever to touch you 'Cause I ...    1007         211\n",
      "1061  I've been havin' dreams Jumpin' on a trampolin...    1008         214\n",
      "687   Tell me somethin', girl Are you happy in this ...    1012         190\n",
      "125   꿈이었을까 널 본 것 같아 눈뜨면 다시 아무도 없는 방  가만히 난 주문을 걸어 그...    1014         242\n",
      "202   Jingle bell, jingle bell, jingle bell rock Jin...    1014         185\n",
      "1189  You don't love him, you don't love him You don...    1018         198\n",
      "882   It's beginning to look a lot like Christmas Ev...    1032         203\n",
      "117   Where is my angel? 하루의 끝을 드리운 Someone come and...    1032         269\n",
      "215   (Ding-dong-ding) (Ding-dong-ding) (Ding-dong-d...    1033         172\n",
      "400   Night falls and I'm alone Skin, yeah, chilled ...    1035         199\n",
      "1105  You got potential, you got, you You got potent...    1038         204\n",
      "814   Don't get me wrong I like a bobber on the wate...    1040         223\n",
      "546   It's been a wreck me week Sixty plus from dawn...    1049         209\n",
      "142   Pasa el tiempo (Pasa el tiempo) Y no te veo (Y...    1050         200\n",
      "1154  Please picture me in the trees I hit my peak a...    1056         218\n",
      "454   You know Dasher, and Dancer, and Prancer, and ...    1060         196\n",
      "260   I still remember, third of December, me in you...    1068         214\n",
      "122   어느 날 세상이 멈췄어 아무런 예고도 하나 없이 봄은 기다림을 몰라서 눈치 없이 와...    1071         263\n",
      "61    It's the most wonderful time of the year With ...    1072         187\n",
      "1015  E-yeah-yeah-yeah (Oh) Whoa E-yeah-yeah-yeah  I...    1075         205\n",
      "430   Blood, blood, blood Xanax dreams, Xanax Covere...    1078         224\n",
      "229   It's all on me, it's my mistake I said \"I don'...    1078         225\n",
      "219   Dirty tissues, trust issues Glasses on the sin...    1093         188\n",
      "89    My presence sweet and my aura bright Diamonds ...    1098         216\n",
      "540   Shut up about politics Ain't nothing but a big...    1100         214\n",
      "254   Out of all the reindeers, you know you're the ...    1102         206\n",
      "808   Her day starts with a coffee and ends with a w...    1115         208\n",
      "82    Said I'ma give you some instructions That you ...    1117         224\n",
      "1113  EarDrummers  Tell 'em again, tell 'em off (Tel...    1123         216\n",
      "825   Outside is cloudy, but I like that better (Bet...    1127         213\n",
      "969   Oh, there's no place like home for the holiday...    1136         212\n",
      "811   It's a junked out joint off a backroad A blink...    1136         221\n",
      "972   Baby shark, doo doo doo doo doo doo Baby shark...    1139         246\n",
      "954   I found a guy, told me I was a star He held th...    1146         253\n",
      "1125  It's been a long time And seeing the shape of ...    1146         230\n",
      "682   That Arizona sky Burnin' in your eyes You look...    1149         234\n",
      "258   All the boats I've missed All the hell I've ca...    1150         234\n",
      "959   Even if you see my scars, even if I break your...    1151         230\n",
      "1178  1. The Kid LAROI- WITHOUT YOU 2. Justin Bieber...    1154         220\n",
      "815   Seventeen, you don't think that much about lif...    1166         245\n",
      "1182  Take off my disguise I'm living someone else's...    1166         236\n",
      "1196  Hey, buddies that I grew up with All straight-...    1173         222\n",
      "619   We began after the storm inside Lay the land (...    1173         206\n",
      "187   Bite my tongue, bide my time Wearing a warning...    1173         255\n",
      "614   Well, right So, so well Well, right So, so Hig...    1178         217\n",
      "313   (Christmas) The snow's coming down (Christmas)...    1184         185\n",
      "691   I keep fighting voices in my mind that say I’m...    1189         267\n",
      "572   Stuck in a maze Oh, oh, oh, oh, oh, oh Stuck i...    1190         235\n",
      "1166  The buttons of my coat were tangled in my hair...    1192         235\n",
      "536   (Happy Christmas, Kyoko Happy Christmas, Julia...    1194         241\n",
      "172   My Lucifer is lonely  Standing there, killing ...    1196         227\n",
      "523   Wiped the footprints off my dash Tore up those...    1199         231\n",
      "491   Ooh Ooh Ooh  I can hear you, but I won't Some ...    1199         246\n",
      "826   Everybody's gotta live And everybody's gonna d...    1202         226\n",
      "1136  My only one My smoking gun My eclipsed sun Thi...    1203         242\n",
      "958   There's somethin' in the way you roll your eye...    1203         245\n",
      "109   Can you hear me? S.O.S. Help me put my mind to...    1204         239\n",
      "543   I don't want a friend (Just one more night) I ...    1205         248\n",
      "1110  Honestly Honestly, I'm tryna stay focused You ...    1206         245\n",
      "485   I'm in my bed And you're not here And there's ...    1207         241\n",
      "488   Nine in the morning, the man drops his kids of...    1208         246\n",
      "486   Hey!  Golden, golden, golden as I open my eyes...    1213         227\n",
      "1159  I've been having a hard time adjusting I had t...    1216         260\n",
      "366   (One, two)  Stop the clocks, it's amazing You ...    1217         235\n",
      "634   There's a wolf that preys on a world that stra...    1218         264\n",
      "401   Now here you go again, you say you want your f...    1220         231\n",
      "544   Her hands wrapped up in mine Tears rollin' out...    1226         226\n",
      "587   Not sure what I was doing before ya I quit try...    1238         245\n",
      "829   I'm so close I can taste it The man on the moo...    1238         255\n",
      "809   I've had a largemouth bass bust my line A coup...    1240         237\n",
      "522   She said, \"Baby, do you ever miss bein' alone?...    1242         260\n",
      "173   White shirt now red, my bloody nose Sleepin', ...    1242         257\n",
      "157   I'm done with the drinking I’m done with the s...    1245         250\n",
      "1090  I wonder if I'm being real Do I speak my truth...    1245         268\n",
      "197   I've always been a rollin' stone With a reckle...    1259         244\n",
      "1175  Okay, I realize now, that everything that I di...    1261         259\n",
      "1201  You're a mean one, Mr. Grinch You really are a...    1270         223\n",
      "1016  (I wish I could've been there myself)  It’s wh...    1271         250\n",
      "602   See the way you're taking care of your Mama Th...    1272         264\n",
      "599   When it rains, it pours But you didn't even no...    1274         241\n",
      "1200  In a time full of war, be peace In a time full...    1275         273\n",
      "186   What is it about them? I must be missing somet...    1275         229\n",
      "1139  Make sure nobody sees you leave Hood over your...    1276         239\n",
      "656   I feel like I'm losing you whenever I'm offlin...    1276         246\n",
      "1145  We could leave the Christmas lights up 'til Ja...    1277         258\n",
      "1103  Am I really that much to handle? Breakin' thes...    1278         271\n",
      "516   Santa Claus is comin' to town Santa Claus is c...    1278         242\n",
      "555   Feliz Navidad Feliz Navidad Feliz Navidad Prós...    1280         234\n",
      "161   Uishi kwa muda mrefu mfalme (Uishi kwa uishi k...    1285         239\n",
      "214   I've been thinkin' maybe Things were never the...    1290         262\n",
      "932   I like the way you talk, I like the things you...    1294         279\n",
      "185   \"Baby, I don't feel so good,\" six words you ne...    1295         265\n",
      "252   Well the road rolls out like a welcome mat To ...    1300         265\n",
      "1036  SpeakerBangerz Look, uh, look  Heart been brok...    1301         263\n",
      "1194  Ooh Na-na, yeah  I saw you dancing in a crowde...    1304         268\n",
      "1243  Runnin' out of time, runnin' out of time, runn...    1304         263\n",
      "966   I didn't think I was a bad guy I knew that you...    1305         271\n",
      "235   Ooh, in the winter's chill Let the candles lig...    1310         224\n",
      "904   A heart on a run keeps a hand on a gun Can't t...    1310         271\n",
      "131   (Uh-uh) Ey, ey  ¿Quién dijo que no? (¿Quién di...    1311         284\n",
      "1080  I'm a little bit a ball cap Little bit a pearl...    1311         268\n",
      "885   Watchin' cigarettes burn out 'Til all the neon...    1320         259\n",
      "373   My lungs are black, my heart is pure My hands ...    1326         271\n",
      "968   Cuatro abrazos y un café, apenas me desperté Y...    1327         247\n",
      "817   She said, I never thought I'd see you here Han...    1330         264\n",
      "207   Oh baby, would you look right there The way th...    1330         280\n",
      "1112  Good, feeling good  Ayy, feeling good, like I ...    1331         238\n",
      "639   Hey, homecoming queen Why do you lie? When som...    1337         252\n",
      "1313  Hope I only leave good vibes on your living ro...    1344         279\n",
      "967   The mood is right The spirits up We're here to...    1344         224\n",
      "1148  I want you to know I'm a mirrorball I'll show ...    1346         258\n",
      "317   Uh, uh  I tried to talk to my piano I tried to...    1349         250\n",
      "137   Yeh-yeh-yeh-yeh-yeh-yeh-yeh-yeh-eh ¡Ju! Okey, ...    1350         289\n",
      "545   Same old dive, same old end of the work week d...    1355         245\n",
      "853   Never been saved, but I've never come closer A...    1356         274\n",
      "1031  Never knew my old man's truck could even run l...    1356         278\n",
      "85    If you take too long to hit me back I can't pr...    1357         299\n",
      "854   Can I tell you something just between you and ...    1357         297\n",
      "816   When the dogwoods start to bloom And the crick...    1363         278\n",
      "489   Tastes like strawberries on a summer evenin' A...    1365         234\n",
      "257   I think we could do it if we tried If only to ...    1365         301\n",
      "1169  Oooo Merry Christmas Saint Nick Christmas come...    1368         247\n",
      "92    I don't wanna think too much I just wanna feel...    1368         286\n",
      "452   Well turn that bottle up and drink it, crank t...    1371         266\n",
      "964   Ah-ah, oh-oh Ah-ah, oh-oh, oh-oh Into the unkn...    1371         259\n",
      "139   Llegó soliá, salió sin la' amiga' Revelá', en ...    1372         264\n",
      "453   Here comes Santa Claus Here comes Santa Claus ...    1373         245\n",
      "803   There are days I wake up and I pinch myself Yo...    1374         275\n",
      "680   It's supposed to hurt, it's a broken heart But...    1378         291\n",
      "209   Hmm, if ever I get lost in your eyes tonight P...    1378         274\n",
      "305   I'm jealous of the blue jeans that you're wear...    1381         289\n",
      "553   Lights go down, wheels go 'round I'm taking yo...    1384         276\n",
      "850   Feeling like a drop in the ocean That don't no...    1386         272\n",
      "643   I love the dimples in the small of your back T...    1389         310\n",
      "610   God is My light in darkness, oh God, God is He...    1393         283\n",
      "649   Can we just talk? Can we just talk? Talk about...    1397         272\n",
      "686   Sou-sour candy (Sou-sour candy)  I'm sour cand...    1397         286\n",
      "1186  No, yeah Oh, yeah Oh, yeah Yeah, uh  You try w...    1397         295\n",
      "663   Mm-mm, yeah Mm-mm  In the dead of the night, I...    1399         282\n",
      "601   Someone to play catch with out in the backyard...    1402         315\n",
      "104   I ain't gonna stay for the weekend I ain't gon...    1407         284\n",
      "627   Damn right, we take turns bein' grown I get re...    1412         283\n",
      "837   Hey mama, how do you get a red wine stain Out ...    1418         293\n",
      "492   Every inch of me is trembling But not from the...    1420         278\n",
      "832   Yeah, yeah, yeah, yeah, yeah, yeah  Yeah, thin...    1422         301\n",
      "794   Woo! (Oh, yeah)  My friend named Jack, he's go...    1424         277\n",
      "306   All of my friends finally convinced me to get ...    1424         300\n",
      "1081  Way up in the mountains, four thousand feet hi...    1428         290\n",
      "603   Dancin' in the kitchen, you singing my favorit...    1437         278\n",
      "1153  Our coming-of-age has come and gone Suddenly t...    1438         287\n",
      "519   Where I grew up, gettin' dressed up means Butt...    1439         278\n",
      "1202  Got a call from a friend about a friend With s...    1441         309\n",
      "893   Ooh Ooh   Yeah,  I'm a turner I turn pages all...    1442         311\n",
      "858   I've never been one to ask for help If I need ...    1445         292\n",
      "521   Love how you close your eyes when I pull you i...    1445         303\n",
      "467   Hold on, hold on, speed it up, hold on (Run th...    1446         297\n",
      "575   I'm apart, I'm exposed I'm the flaw, hell if I...    1447         293\n",
      "612   Yo, Pi'erre, yo, Pi'erre  \"How you get so much...    1447         289\n",
      "1100  We got London on da Track  I been all in my ph...    1455         309\n",
      "973   What? What? What?  Fuck a opp, fuck a opp (Yea...    1456         276\n",
      "1032  Three little birds sat on my window And they t...    1458         271\n",
      "1156  Combat, I'm ready for combat I say I don't wan...    1465         292\n",
      "673   Well, baby love's just one of them words that ...    1466         315\n",
      "395   Beer don't keep Love’s not cheap And trucks do...    1468         311\n",
      "594   Oh, you don't compare, don't fit in with 'em, ...    1470         285\n",
      "1215  I got room in my fumes (Yeah) She fill my mind...    1472         303\n",
      "1059  Girl, I’ve always loved you, oh, but something...    1474         316\n",
      "1054  Cosa' de familia, no la' tienen que escucha' L...    1477         293\n",
      "571   Cheers (Oh-oh, oh-oh) Sippin' codeine like it'...    1480         281\n",
      "660   Hey  Seen nothing like that shorty with the fa...    1483         276\n",
      "138   Yeh, yeh  Todavía yo te quiero Pero sé que e' ...    1485         308\n",
      "77    Step up, the two of us, nobody knows us Get in...    1485         283\n",
      "1108  We got London on da track  Niggas be insecure ...    1488         295\n",
      "648   Can't count up the times you've blown my line ...    1492         310\n",
      "1176  You cut out a piece of me and now I bleed inte...    1493         308\n",
      "1072  Hmm, mhm  I don't wanna be alone tonight (Alon...    1493         277\n",
      "1137  How many days did I spend thinking 'Bout how y...    1494         293\n",
      "1070  It is if everyone dies alone Does that scare y...    1495         287\n",
      "1150  We gather here, we line up, weepin' in a sunli...    1498         310\n",
      "1058  Who! Huh, yeah  My baby, she's Alabama A dixie...    1501         281\n",
      "232   A stray bullet and a mama  cries Her baby won'...    1502         302\n",
      "1180  Just hear those sleigh bells jingling, ring ti...    1503         191\n",
      "311   Yeah, yeah  Let me catch ya vibe, let's just t...    1506         313\n",
      "1012  Ooh, ooh Ooh, ooh  Hollywood's bleeding, vampi...    1512         307\n",
      "800   Bitch, I did it, I made it, I'm loved and I'm ...    1512         279\n",
      "1151  It keeps me awake, the look on your face The m...    1515         297\n",
      "1160  I sit and watch you reading with your head low...    1515         314\n",
      "320   Half your life you struggle Half your life you...    1515         288\n",
      "1043  (Trillo Beats, you did it again) Shh (Drell's ...    1516         308\n",
      "655   He keeps leaving you for dead I don't know wha...    1517         292\n",
      "1240  What? What? What? What? What? What? What? What...    1519         275\n",
      "830   Yeah, yeah Hey, hey, hey Hey, hey, hey Hey, he...    1519         315\n",
      "637   There are many people who drink in moderation ...    1519         302\n",
      "600   I've been thinkin' 'bout ya lately Reminiscin'...    1519         289\n",
      "681   My name isn't Alice But I'll keep looking, I'l...    1520         281\n",
      "1192  No-no, no-no, no-no-no  I let you down, I led ...    1521         304\n",
      "496   I can't wait to show you where I grew up Walk ...    1522         311\n",
      "1198  Did you grow up on a tractor? Did your daddy l...    1522         271\n",
      "360   If you don't wanna see me  Did a full one-eigh...    1526         304\n",
      "1011  Oh, oh, oh Oh,  oh, oh Oh,  oh, oh, oh, oh  We...    1527         313\n",
      "641   Ol' Sunoco Charlie drives an '87 Harley Sells ...    1527         309\n",
      "203   You would've never learned the words to \"Amazi...    1535         306\n",
      "253   Got a little southern drawl in my talk Little ...    1539         291\n",
      "175   I had a dream I got everything I wanted Not wh...    1539         313\n",
      "953   Been flyin' solo for so long Nobody's singin' ...    1541         315\n",
      "494   Oh, hush, my dear, it's been a difficult year ...    1543         301\n",
      "259   I wish this whiskey would make her miss me Lik...    1546         306\n",
      "1317  Crazy I like that, you like that, so let's be ...    1549         301\n",
      "476   If you got it, it ain't no question No, it ain...    1549         305\n",
      "308   Baby, when December comes When it's gettin' co...    1555         294\n",
      "1195  Don't even want the attention But yeah, that's...    1557         309\n",
      "1140  Green was the color of the grass Where I used ...    1559         298\n",
      "891   Woo-ooh, woo-ooh, woo-ooh Woo-ooh, woo-ooh, wo...    1559         314\n",
      "86    I love the taste of you in the morning Keep me...    1566         315\n",
      "132   Ya no confío en tu mirada Y tus beso' no saben...    1567         314\n",
      "1146  What did you think I'd say to that? Does a sco...    1568         314\n",
      "1213  I probably shouldn't have said hello When I sa...    1570         312\n",
      "312   Well, I ain't gonna work today Just wanna sit ...    1574         301\n",
      "307   You say you'll be down in five The smell of yo...    1574         312\n",
      "1071  It's a cold night in my bed in the heat of the...    1575         311\n",
      "1224  Internet Money, bitch Hahahaha, Nick, you're s...    1582         299\n",
      "813   A cold beer's got twelve ounces A good truck's...    1584         304\n",
      "615   Oh, oh, oh, oh, oh, oh Oh, oh, oh, oh-oh, oh, ...    1585         314\n",
      "819   Dad sold every record he ever owned Floyd and ...    1585         320\n",
      "589   Na-na, da-da, da-da, da-da Na-na, da-da, da-da...    1585         270\n",
      "631   I was so cold and lost And nothing seemed to r...    1588         288\n",
      "642   Seen the skyline of New York City Fireflies in...    1591         308\n",
      "650   Take me 'round the world and back again As I'm...    1595         309\n",
      "310   Do you love the rain, does it make you dance W...    1597         315\n",
      "804   This truck needs a half tank These wheels need...    1602         292\n",
      "105   If all of the kings had their queens on the th...    1604         317\n",
      "1155  I'm doing good, I'm on some new shit Been sayi...    1604         307\n",
      "1123  You booked the night train for a reason So you...    1604         286\n",
      "406   No sleeper seats, that's a mattress No sleeper...    1619         313\n",
      "1124  My winter nights are taken up by static Stress...    1632         304\n",
      "1115  Let's go  We see the hype outside (Yeah) Right...    1634         306\n",
      "578   Yeah  Up, up and away, hop in Feel the walls i...    1636         308\n",
      "1197  \"Take a left here, boy, take it slow Don't get...    1638         318\n",
      "688   Summertime, and the livin's easy Bradley's on ...    1641         301\n",
      "1092  You put me on a pedestal and tell me I'm the b...    1644         317\n",
      "598   'Cause it's Friday 'Cause it's Monday 'Cause i...    1644         305\n",
      "156   Hey Beautiful, beautiful, beautiful, beautiful...    1647         296\n",
      "1147  Never be so kind You forget to be clever Never...    1651         320\n",
      "445   Chopper make him do the Harlem Shake (Wheezy B...    1652         304\n",
      "840   Man, this shit's unflatterin', all up in my he...    1655         303\n",
      "1019  1. Post Malone- Circles 2. Post Malone- rockst...    1672         294\n",
      "32    Ransom got that sauce in it Se pinta los labio...    1675         279\n",
      "74    ​​lacigam gnihtemos od oT ​​thgin laiceps ruoy...    1688         318\n",
      "635   You're here where you should be Snow is fallin...    1696         311\n",
      "1057  Blue Tacoma, California Rays of gold are shini...    1702         317\n",
      "605   White churches, black churches Different peopl...    1717         301\n",
      "907   A 'Bama red 4Runner pulled into the party With...    1738         300\n",
      "805   Everybody here ain't from here But we're here ...    1762         311\n",
      "1223  I bet she didn't think twice about Amarillo He...    1782         315\n",
      "1205  La-la-la-la, la-la-la-la  Call me what you wan...    1874         309\n"
     ]
    }
   ],
   "source": [
    "short_lyrics = lyrics_sort_asc[['lyrics','length', 'word_count']].loc[lyrics['word_count'] < 321]\n",
    "# for string in short_lyrics:\n",
    "#     print(string)\n",
    "pd.set_option('display.max_rows', None)\n",
    "pd.set_option('display.max_columns', None)\n",
    "pd.set_option('display.max_seq_items', None)\n",
    "print(short_lyrics)"
   ]
  },
  {
   "cell_type": "markdown",
   "metadata": {
    "pycharm": {
     "name": "#%% md\n"
    }
   },
   "source": [
    "Exporting short/missing lyrics"
   ]
  },
  {
   "cell_type": "code",
   "execution_count": 11,
   "metadata": {
    "pycharm": {
     "name": "#%%\n"
    }
   },
   "outputs": [],
   "source": [
    "short_lyrics = lyrics.loc[lyrics['word_count'] <= 321]\n",
    "short_lyrics.to_csv('data/lyrics/short_lyrics.csv')"
   ]
  },
  {
   "cell_type": "markdown",
   "metadata": {},
   "source": [
    "### Exploring longest lyrics"
   ]
  },
  {
   "cell_type": "code",
   "execution_count": 12,
   "metadata": {
    "pycharm": {
     "name": "#%%\n"
    }
   },
   "outputs": [
    {
     "data": {
      "text/plain": "         id                              artist      first_artist  \\\n231   10194                    Carrie Underwood  Carrie Underwood   \n1003   8053  Pop Smoke Featuring Quavo & Future         Pop Smoke   \n727    8961                            Lil Durk          Lil Durk   \n216    9896                                  CJ                CJ   \n1114   9596             T.I. Featuring Lil Baby              T.I.   \n801    1904              Logic Featuring Eminem             Logic   \n381    5627                              Eminem            Eminem   \n949     964           Offset Featuring  J. Cole            Offset   \n1207   9296                          Tory Lanez        Tory Lanez   \n390     193       Eminem Featuring Joyner Lucas            Eminem   \n\n                       song  weeks_on_chart  peak_rank  \\\n231   Favorite Time Of Year               4         62   \n1003               Snitchin               1         54   \n727               The Voice               1         62   \n216                 Whoopty               7         51   \n1114                 Pardon               1         97   \n801                Homicide               6          5   \n381                Darkness               2         28   \n949      How Did I Get Here               1         65   \n1207    Money Over Fallouts               1         97   \n390               Lucky You              14          6   \n\n                                                 lyrics  length  word_count  \\\n231   Last updated: 10/6/2018, 5:16PM MST OctoberOct...   79241       13651   \n1003  Definitely did take a long time 2020 been a sa...   16671        3123   \n727   IDK when i listened to these The Heist - Mackl...    9941        2069   \n216   Heavy on the SSO shit, man Loyalty over royalt...    9020         444   \n1114  June, you're a genius Hitmaka  Heard somebody ...    6018        1171   \n801   Son, you know why you the greatest alive? Why,...    5955        1089   \n381   I don't wanna be alone, I don't wanna be I don...    5929        1095   \n949   Uh, nobody, you know what I'm sayin', nobody, ...    5885        1088   \n1207  It's one of the crazier stories we’ve heard of...    5883        1148   \n390   Woah, Joyner, Joyner, yeah, yeah, yeah  Yeah, ...    5800        1145   \n\n     language  language_score  \n231        en        0.999996  \n1003       en        0.999996  \n727        en        0.999993  \n216        lv        0.571424  \n1114       en        0.999996  \n801        en        0.999998  \n381        en        0.999996  \n949        en        0.999998  \n1207       en        0.999996  \n390        en        0.999998  ",
      "text/html": "<div>\n<style scoped>\n    .dataframe tbody tr th:only-of-type {\n        vertical-align: middle;\n    }\n\n    .dataframe tbody tr th {\n        vertical-align: top;\n    }\n\n    .dataframe thead th {\n        text-align: right;\n    }\n</style>\n<table border=\"1\" class=\"dataframe\">\n  <thead>\n    <tr style=\"text-align: right;\">\n      <th></th>\n      <th>id</th>\n      <th>artist</th>\n      <th>first_artist</th>\n      <th>song</th>\n      <th>weeks_on_chart</th>\n      <th>peak_rank</th>\n      <th>lyrics</th>\n      <th>length</th>\n      <th>word_count</th>\n      <th>language</th>\n      <th>language_score</th>\n    </tr>\n  </thead>\n  <tbody>\n    <tr>\n      <th>231</th>\n      <td>10194</td>\n      <td>Carrie Underwood</td>\n      <td>Carrie Underwood</td>\n      <td>Favorite Time Of Year</td>\n      <td>4</td>\n      <td>62</td>\n      <td>Last updated: 10/6/2018, 5:16PM MST OctoberOct...</td>\n      <td>79241</td>\n      <td>13651</td>\n      <td>en</td>\n      <td>0.999996</td>\n    </tr>\n    <tr>\n      <th>1003</th>\n      <td>8053</td>\n      <td>Pop Smoke Featuring Quavo &amp; Future</td>\n      <td>Pop Smoke</td>\n      <td>Snitchin</td>\n      <td>1</td>\n      <td>54</td>\n      <td>Definitely did take a long time 2020 been a sa...</td>\n      <td>16671</td>\n      <td>3123</td>\n      <td>en</td>\n      <td>0.999996</td>\n    </tr>\n    <tr>\n      <th>727</th>\n      <td>8961</td>\n      <td>Lil Durk</td>\n      <td>Lil Durk</td>\n      <td>The Voice</td>\n      <td>1</td>\n      <td>62</td>\n      <td>IDK when i listened to these The Heist - Mackl...</td>\n      <td>9941</td>\n      <td>2069</td>\n      <td>en</td>\n      <td>0.999993</td>\n    </tr>\n    <tr>\n      <th>216</th>\n      <td>9896</td>\n      <td>CJ</td>\n      <td>CJ</td>\n      <td>Whoopty</td>\n      <td>7</td>\n      <td>51</td>\n      <td>Heavy on the SSO shit, man Loyalty over royalt...</td>\n      <td>9020</td>\n      <td>444</td>\n      <td>lv</td>\n      <td>0.571424</td>\n    </tr>\n    <tr>\n      <th>1114</th>\n      <td>9596</td>\n      <td>T.I. Featuring Lil Baby</td>\n      <td>T.I.</td>\n      <td>Pardon</td>\n      <td>1</td>\n      <td>97</td>\n      <td>June, you're a genius Hitmaka  Heard somebody ...</td>\n      <td>6018</td>\n      <td>1171</td>\n      <td>en</td>\n      <td>0.999996</td>\n    </tr>\n    <tr>\n      <th>801</th>\n      <td>1904</td>\n      <td>Logic Featuring Eminem</td>\n      <td>Logic</td>\n      <td>Homicide</td>\n      <td>6</td>\n      <td>5</td>\n      <td>Son, you know why you the greatest alive? Why,...</td>\n      <td>5955</td>\n      <td>1089</td>\n      <td>en</td>\n      <td>0.999998</td>\n    </tr>\n    <tr>\n      <th>381</th>\n      <td>5627</td>\n      <td>Eminem</td>\n      <td>Eminem</td>\n      <td>Darkness</td>\n      <td>2</td>\n      <td>28</td>\n      <td>I don't wanna be alone, I don't wanna be I don...</td>\n      <td>5929</td>\n      <td>1095</td>\n      <td>en</td>\n      <td>0.999996</td>\n    </tr>\n    <tr>\n      <th>949</th>\n      <td>964</td>\n      <td>Offset Featuring  J. Cole</td>\n      <td>Offset</td>\n      <td>How Did I Get Here</td>\n      <td>1</td>\n      <td>65</td>\n      <td>Uh, nobody, you know what I'm sayin', nobody, ...</td>\n      <td>5885</td>\n      <td>1088</td>\n      <td>en</td>\n      <td>0.999998</td>\n    </tr>\n    <tr>\n      <th>1207</th>\n      <td>9296</td>\n      <td>Tory Lanez</td>\n      <td>Tory Lanez</td>\n      <td>Money Over Fallouts</td>\n      <td>1</td>\n      <td>97</td>\n      <td>It's one of the crazier stories we’ve heard of...</td>\n      <td>5883</td>\n      <td>1148</td>\n      <td>en</td>\n      <td>0.999996</td>\n    </tr>\n    <tr>\n      <th>390</th>\n      <td>193</td>\n      <td>Eminem Featuring Joyner Lucas</td>\n      <td>Eminem</td>\n      <td>Lucky You</td>\n      <td>14</td>\n      <td>6</td>\n      <td>Woah, Joyner, Joyner, yeah, yeah, yeah  Yeah, ...</td>\n      <td>5800</td>\n      <td>1145</td>\n      <td>en</td>\n      <td>0.999998</td>\n    </tr>\n  </tbody>\n</table>\n</div>"
     },
     "execution_count": 12,
     "metadata": {},
     "output_type": "execute_result"
    }
   ],
   "source": [
    "lyrics_sort_desc = lyrics.sort_values(by='length', ascending=False)\n",
    "lyrics_sort_desc.head(10)\n"
   ]
  },
  {
   "cell_type": "markdown",
   "metadata": {
    "pycharm": {
     "name": "#%% md\n"
    }
   },
   "source": [
    "I assume most of the songs have a length between 1 and 5 minutes. According to speech and publication coach Daphne Gray-Grant,\n",
    "a fast speaker might get to 800 words per minute in 5 minutes. Now assuming that the lyrics will contain words that aren't sung or spoken\n",
    "like \"Intro\" and some songs will contain interjections like \"hey\" which are quick to say, a word count of maximum 1000 words in\n",
    "a chart song seems realistic. Some songs might be in a different language and thus can have a greater word count.\n",
    "\n",
    "To validate long lyrics and detect outliers, I am looking a songs with a word count greater than 1000."
   ]
  },
  {
   "cell_type": "code",
   "execution_count": 13,
   "metadata": {
    "pycharm": {
     "name": "#%%\n"
    }
   },
   "outputs": [
    {
     "name": "stdout",
     "output_type": "stream",
     "text": [
      "                                                 lyrics  length  word_count\n",
      "231   Last updated: 10/6/2018, 5:16PM MST OctoberOct...   79241       13651\n",
      "1003  Definitely did take a long time 2020 been a sa...   16671        3123\n",
      "727   IDK when i listened to these The Heist - Mackl...    9941        2069\n",
      "1114  June, you're a genius Hitmaka  Heard somebody ...    6018        1171\n",
      "801   Son, you know why you the greatest alive? Why,...    5955        1089\n",
      "381   I don't wanna be alone, I don't wanna be I don...    5929        1095\n",
      "949   Uh, nobody, you know what I'm sayin', nobody, ...    5885        1088\n",
      "1207  It's one of the crazier stories we’ve heard of...    5883        1148\n",
      "390   Woah, Joyner, Joyner, yeah, yeah, yeah  Yeah, ...    5800        1145\n",
      "382   Yeah, yeah, sick (d.a. got that dope)  They sa...    5765        1113\n",
      "919   (Yeah) Hey! Leave me alone  Panic-stricken, ha...    5713        1064\n",
      "712   Protests and growing national outcry continues...    5611        1132\n",
      "948   Woo  I'm a maniac, go crazy for the cash (Hey,...    5511        1053\n",
      "302   (Cha-ching) Okay, let's go, nigga (Rocco did i...    5260        1066\n",
      "666   Yep (Aww) Yep (Mmm-aww) Uh-huh Yeah, nigga  Ye...    5244        1012\n",
      "296   They said they want some of that raw shit (Raw...    5099        1010\n",
      "702   Firin' at everybody Firin' at everybody (Secti...    5047        1025\n",
      "4     I love you Turn my headphone down a little bit...    5037        1056\n"
     ]
    }
   ],
   "source": [
    "long_lyrics = lyrics_sort_desc[['lyrics','length', 'word_count']].loc[lyrics['word_count'] > 1000]\n",
    "print(long_lyrics)"
   ]
  },
  {
   "cell_type": "markdown",
   "metadata": {},
   "source": [
    "Exporting long lyrics"
   ]
  },
  {
   "cell_type": "code",
   "execution_count": 14,
   "metadata": {
    "pycharm": {
     "name": "#%%\n"
    }
   },
   "outputs": [],
   "source": [
    "long_lyrics = lyrics_sort_desc.loc[lyrics['word_count'] > 1000]\n",
    "long_lyrics.to_excel('data/lyrics/long_lyrics.xlsx', encoding='utf-8')\n"
   ]
  },
  {
   "cell_type": "markdown",
   "metadata": {
    "pycharm": {
     "name": "#%% md\n"
    }
   },
   "source": [
    "### Exploring songs classified as non english"
   ]
  },
  {
   "cell_type": "code",
   "execution_count": 15,
   "metadata": {
    "pycharm": {
     "name": "#%%\n"
    }
   },
   "outputs": [
    {
     "data": {
      "text/plain": "        id                                             artist  \\\n32    8098                                            6ix9ine   \n52    7475                                            Agust D   \n64    5982                                           Anuel AA   \n65    7585                               Anuel AA & Bad Bunny   \n66     467                                 Anuel AA & Karol G   \n67      91                            Anuel AA & Romeo Santos   \n68    3051  Anuel AA, Daddy Yankee, Karol G, Ozuna & J Balvin   \n69    6877                                    Arcangel x Sech   \n76     724                                      Ariana Grande   \n91       0                                      Ariana Grande   \n107   1594                                           Aventura   \n117  10012                                                BTS   \n122  10000                                                BTS   \n126  10069                                                BTS   \n130  10177                                          Bad Bunny   \n\n                               first_artist                 song  \\\n32                                  6ix9ine                 YaYa   \n52                                  Agust D            Daechwita   \n64                                 Anuel AA                 KEII   \n65                                 Anuel AA  Hasta Que Dios Diga   \n66                                 Anuel AA              Secreto   \n67                                 Anuel AA    Ella Quiere Beber   \n68   Anuel AA, Daddy Yankee, Karol G, Ozuna                China   \n69                                 Arcangel        Sigues Con El   \n76                            Ariana Grande              Ghostin   \n91                            Ariana Grande        Thank U, Next   \n107                                Aventura             Inmortal   \n117                                     BTS          Blue & Grey   \n122                                     BTS         Life Goes On   \n126                                     BTS            Telepathy   \n130                               Bad Bunny             Booker T   \n\n     weeks_on_chart  peak_rank  \\\n32                1         99   \n52                1         76   \n64                1         83   \n65                1         86   \n66               11         68   \n67               20         61   \n68               18         43   \n69                3         78   \n76                2         25   \n91               28          1   \n107               1         95   \n117               1         13   \n122               3          1   \n126               1         70   \n130               1         78   \n\n                                                lyrics  length  word_count  \\\n32   Ransom got that sauce in it Se pinta los labio...    1675         279   \n52   명금일하 대취타 하랍신다 예이!  Yeah, uh 대취타 대취타 자 울려라 대취타 ...    1221         329   \n64   Ella ya no piensa en él (En él) Él la convirti...    2746         554   \n65   Brr Hoy la noche se acaba, tú desnuda en mi ca...    3498         673   \n66   Bebecita Bebe-bebecita, uah Bebecita  Lo de no...    2711         498   \n67   Check, check (Remix) I'mma show you why I'm th...    2612         511   \n68   Honey came in and she caught me red-handed Cre...    4180         819   \n69   Si tú te vuelves loca por mí (Por mí) Y yo me ...    2526         487   \n76                                             !Error!       7           1   \n91                                             !Error!       7           1   \n107  Tu grupo favorito  Nadie entiende cómo este am...    2023         379   \n117  Where is my angel? 하루의 끝을 드리운 Someone come and...    1032         269   \n122  어느 날 세상이 멈췄어 아무런 예고도 하나 없이 봄은 기다림을 몰라서 눈치 없이 와...    1071         263   \n126  매번 같은 하루들 중에 (들 중에) 너를 만날 때 가장 난 행복해 (행복해) 매번 ...     830         235   \n130  Ey, ey  Los pongo a bailar \"La Pelúa\" (Wuh) Y ...    2118         417   \n\n    language  language_score  \n32        es        0.999996  \n52        ko        0.999996  \n64        es        0.999994  \n65        es        0.999996  \n66        es        0.999996  \n67        es        0.999997  \n68        es        0.999995  \n69        es        0.999994  \n76        de        0.999996  \n91        de        0.857140  \n107       es        0.999996  \n117       ko        0.999998  \n122       ko        0.571427  \n126       ko        0.999999  \n130       es        0.999997  ",
      "text/html": "<div>\n<style scoped>\n    .dataframe tbody tr th:only-of-type {\n        vertical-align: middle;\n    }\n\n    .dataframe tbody tr th {\n        vertical-align: top;\n    }\n\n    .dataframe thead th {\n        text-align: right;\n    }\n</style>\n<table border=\"1\" class=\"dataframe\">\n  <thead>\n    <tr style=\"text-align: right;\">\n      <th></th>\n      <th>id</th>\n      <th>artist</th>\n      <th>first_artist</th>\n      <th>song</th>\n      <th>weeks_on_chart</th>\n      <th>peak_rank</th>\n      <th>lyrics</th>\n      <th>length</th>\n      <th>word_count</th>\n      <th>language</th>\n      <th>language_score</th>\n    </tr>\n  </thead>\n  <tbody>\n    <tr>\n      <th>32</th>\n      <td>8098</td>\n      <td>6ix9ine</td>\n      <td>6ix9ine</td>\n      <td>YaYa</td>\n      <td>1</td>\n      <td>99</td>\n      <td>Ransom got that sauce in it Se pinta los labio...</td>\n      <td>1675</td>\n      <td>279</td>\n      <td>es</td>\n      <td>0.999996</td>\n    </tr>\n    <tr>\n      <th>52</th>\n      <td>7475</td>\n      <td>Agust D</td>\n      <td>Agust D</td>\n      <td>Daechwita</td>\n      <td>1</td>\n      <td>76</td>\n      <td>명금일하 대취타 하랍신다 예이!  Yeah, uh 대취타 대취타 자 울려라 대취타 ...</td>\n      <td>1221</td>\n      <td>329</td>\n      <td>ko</td>\n      <td>0.999996</td>\n    </tr>\n    <tr>\n      <th>64</th>\n      <td>5982</td>\n      <td>Anuel AA</td>\n      <td>Anuel AA</td>\n      <td>KEII</td>\n      <td>1</td>\n      <td>83</td>\n      <td>Ella ya no piensa en él (En él) Él la convirti...</td>\n      <td>2746</td>\n      <td>554</td>\n      <td>es</td>\n      <td>0.999994</td>\n    </tr>\n    <tr>\n      <th>65</th>\n      <td>7585</td>\n      <td>Anuel AA &amp; Bad Bunny</td>\n      <td>Anuel AA</td>\n      <td>Hasta Que Dios Diga</td>\n      <td>1</td>\n      <td>86</td>\n      <td>Brr Hoy la noche se acaba, tú desnuda en mi ca...</td>\n      <td>3498</td>\n      <td>673</td>\n      <td>es</td>\n      <td>0.999996</td>\n    </tr>\n    <tr>\n      <th>66</th>\n      <td>467</td>\n      <td>Anuel AA &amp; Karol G</td>\n      <td>Anuel AA</td>\n      <td>Secreto</td>\n      <td>11</td>\n      <td>68</td>\n      <td>Bebecita Bebe-bebecita, uah Bebecita  Lo de no...</td>\n      <td>2711</td>\n      <td>498</td>\n      <td>es</td>\n      <td>0.999996</td>\n    </tr>\n    <tr>\n      <th>67</th>\n      <td>91</td>\n      <td>Anuel AA &amp; Romeo Santos</td>\n      <td>Anuel AA</td>\n      <td>Ella Quiere Beber</td>\n      <td>20</td>\n      <td>61</td>\n      <td>Check, check (Remix) I'mma show you why I'm th...</td>\n      <td>2612</td>\n      <td>511</td>\n      <td>es</td>\n      <td>0.999997</td>\n    </tr>\n    <tr>\n      <th>68</th>\n      <td>3051</td>\n      <td>Anuel AA, Daddy Yankee, Karol G, Ozuna &amp; J Balvin</td>\n      <td>Anuel AA, Daddy Yankee, Karol G, Ozuna</td>\n      <td>China</td>\n      <td>18</td>\n      <td>43</td>\n      <td>Honey came in and she caught me red-handed Cre...</td>\n      <td>4180</td>\n      <td>819</td>\n      <td>es</td>\n      <td>0.999995</td>\n    </tr>\n    <tr>\n      <th>69</th>\n      <td>6877</td>\n      <td>Arcangel x Sech</td>\n      <td>Arcangel</td>\n      <td>Sigues Con El</td>\n      <td>3</td>\n      <td>78</td>\n      <td>Si tú te vuelves loca por mí (Por mí) Y yo me ...</td>\n      <td>2526</td>\n      <td>487</td>\n      <td>es</td>\n      <td>0.999994</td>\n    </tr>\n    <tr>\n      <th>76</th>\n      <td>724</td>\n      <td>Ariana Grande</td>\n      <td>Ariana Grande</td>\n      <td>Ghostin</td>\n      <td>2</td>\n      <td>25</td>\n      <td>!Error!</td>\n      <td>7</td>\n      <td>1</td>\n      <td>de</td>\n      <td>0.999996</td>\n    </tr>\n    <tr>\n      <th>91</th>\n      <td>0</td>\n      <td>Ariana Grande</td>\n      <td>Ariana Grande</td>\n      <td>Thank U, Next</td>\n      <td>28</td>\n      <td>1</td>\n      <td>!Error!</td>\n      <td>7</td>\n      <td>1</td>\n      <td>de</td>\n      <td>0.857140</td>\n    </tr>\n    <tr>\n      <th>107</th>\n      <td>1594</td>\n      <td>Aventura</td>\n      <td>Aventura</td>\n      <td>Inmortal</td>\n      <td>1</td>\n      <td>95</td>\n      <td>Tu grupo favorito  Nadie entiende cómo este am...</td>\n      <td>2023</td>\n      <td>379</td>\n      <td>es</td>\n      <td>0.999996</td>\n    </tr>\n    <tr>\n      <th>117</th>\n      <td>10012</td>\n      <td>BTS</td>\n      <td>BTS</td>\n      <td>Blue &amp; Grey</td>\n      <td>1</td>\n      <td>13</td>\n      <td>Where is my angel? 하루의 끝을 드리운 Someone come and...</td>\n      <td>1032</td>\n      <td>269</td>\n      <td>ko</td>\n      <td>0.999998</td>\n    </tr>\n    <tr>\n      <th>122</th>\n      <td>10000</td>\n      <td>BTS</td>\n      <td>BTS</td>\n      <td>Life Goes On</td>\n      <td>3</td>\n      <td>1</td>\n      <td>어느 날 세상이 멈췄어 아무런 예고도 하나 없이 봄은 기다림을 몰라서 눈치 없이 와...</td>\n      <td>1071</td>\n      <td>263</td>\n      <td>ko</td>\n      <td>0.571427</td>\n    </tr>\n    <tr>\n      <th>126</th>\n      <td>10069</td>\n      <td>BTS</td>\n      <td>BTS</td>\n      <td>Telepathy</td>\n      <td>1</td>\n      <td>70</td>\n      <td>매번 같은 하루들 중에 (들 중에) 너를 만날 때 가장 난 행복해 (행복해) 매번 ...</td>\n      <td>830</td>\n      <td>235</td>\n      <td>ko</td>\n      <td>0.999999</td>\n    </tr>\n    <tr>\n      <th>130</th>\n      <td>10177</td>\n      <td>Bad Bunny</td>\n      <td>Bad Bunny</td>\n      <td>Booker T</td>\n      <td>1</td>\n      <td>78</td>\n      <td>Ey, ey  Los pongo a bailar \"La Pelúa\" (Wuh) Y ...</td>\n      <td>2118</td>\n      <td>417</td>\n      <td>es</td>\n      <td>0.999997</td>\n    </tr>\n  </tbody>\n</table>\n</div>"
     },
     "execution_count": 15,
     "metadata": {},
     "output_type": "execute_result"
    }
   ],
   "source": [
    "non_english = lyrics.loc[lyrics['language'] != 'en']\n",
    "non_english.head(15)"
   ]
  },
  {
   "cell_type": "code",
   "execution_count": 16,
   "metadata": {
    "pycharm": {
     "name": "#%%\n"
    }
   },
   "outputs": [
    {
     "data": {
      "text/plain": "                 id  weeks_on_chart   peak_rank       length  word_count  \\\ncount    102.000000      102.000000  102.000000   102.000000  102.000000   \nmean    5809.480392       10.578431   53.529412  1347.911765  250.313725   \nstd     3559.741863       13.225715   31.902297  1434.886859  235.065273   \nmin        0.000000        1.000000    1.000000     3.000000    1.000000   \n25%     2518.500000        1.000000   26.750000     7.000000    1.000000   \n50%     6274.000000        4.000000   62.500000  1338.500000  281.500000   \n75%     8916.750000       18.000000   80.500000  2169.750000  410.000000   \nmax    10483.000000       55.000000   99.000000  9020.000000  821.000000   \n\n       language_score  \ncount      102.000000  \nmean         0.948175  \nstd          0.211594  \nmin         -1.000000  \n25%          0.999994  \n50%          0.999995  \n75%          0.999996  \nmax          0.999999  ",
      "text/html": "<div>\n<style scoped>\n    .dataframe tbody tr th:only-of-type {\n        vertical-align: middle;\n    }\n\n    .dataframe tbody tr th {\n        vertical-align: top;\n    }\n\n    .dataframe thead th {\n        text-align: right;\n    }\n</style>\n<table border=\"1\" class=\"dataframe\">\n  <thead>\n    <tr style=\"text-align: right;\">\n      <th></th>\n      <th>id</th>\n      <th>weeks_on_chart</th>\n      <th>peak_rank</th>\n      <th>length</th>\n      <th>word_count</th>\n      <th>language_score</th>\n    </tr>\n  </thead>\n  <tbody>\n    <tr>\n      <th>count</th>\n      <td>102.000000</td>\n      <td>102.000000</td>\n      <td>102.000000</td>\n      <td>102.000000</td>\n      <td>102.000000</td>\n      <td>102.000000</td>\n    </tr>\n    <tr>\n      <th>mean</th>\n      <td>5809.480392</td>\n      <td>10.578431</td>\n      <td>53.529412</td>\n      <td>1347.911765</td>\n      <td>250.313725</td>\n      <td>0.948175</td>\n    </tr>\n    <tr>\n      <th>std</th>\n      <td>3559.741863</td>\n      <td>13.225715</td>\n      <td>31.902297</td>\n      <td>1434.886859</td>\n      <td>235.065273</td>\n      <td>0.211594</td>\n    </tr>\n    <tr>\n      <th>min</th>\n      <td>0.000000</td>\n      <td>1.000000</td>\n      <td>1.000000</td>\n      <td>3.000000</td>\n      <td>1.000000</td>\n      <td>-1.000000</td>\n    </tr>\n    <tr>\n      <th>25%</th>\n      <td>2518.500000</td>\n      <td>1.000000</td>\n      <td>26.750000</td>\n      <td>7.000000</td>\n      <td>1.000000</td>\n      <td>0.999994</td>\n    </tr>\n    <tr>\n      <th>50%</th>\n      <td>6274.000000</td>\n      <td>4.000000</td>\n      <td>62.500000</td>\n      <td>1338.500000</td>\n      <td>281.500000</td>\n      <td>0.999995</td>\n    </tr>\n    <tr>\n      <th>75%</th>\n      <td>8916.750000</td>\n      <td>18.000000</td>\n      <td>80.500000</td>\n      <td>2169.750000</td>\n      <td>410.000000</td>\n      <td>0.999996</td>\n    </tr>\n    <tr>\n      <th>max</th>\n      <td>10483.000000</td>\n      <td>55.000000</td>\n      <td>99.000000</td>\n      <td>9020.000000</td>\n      <td>821.000000</td>\n      <td>0.999999</td>\n    </tr>\n  </tbody>\n</table>\n</div>"
     },
     "execution_count": 16,
     "metadata": {},
     "output_type": "execute_result"
    }
   ],
   "source": [
    "non_english.describe()\n"
   ]
  },
  {
   "cell_type": "code",
   "execution_count": 17,
   "metadata": {
    "pycharm": {
     "name": "#%%\n"
    }
   },
   "outputs": [
    {
     "data": {
      "text/plain": "        id                                             artist  \\\n32    8098                                            6ix9ine   \n52    7475                                            Agust D   \n64    5982                                           Anuel AA   \n65    7585                               Anuel AA & Bad Bunny   \n66     467                                 Anuel AA & Karol G   \n67      91                            Anuel AA & Romeo Santos   \n68    3051  Anuel AA, Daddy Yankee, Karol G, Ozuna & J Balvin   \n69    6877                                    Arcangel x Sech   \n76     724                                      Ariana Grande   \n91       0                                      Ariana Grande   \n107   1594                                           Aventura   \n117  10012                                                BTS   \n126  10069                                                BTS   \n130  10177                                          Bad Bunny   \n131  10178                                          Bad Bunny   \n132  10171                                          Bad Bunny   \n133  10180                                          Bad Bunny   \n134   6232                                          Bad Bunny   \n135  10193                                          Bad Bunny   \n136  10186                                          Bad Bunny   \n\n                               first_artist                  song  \\\n32                                  6ix9ine                  YaYa   \n52                                  Agust D             Daechwita   \n64                                 Anuel AA                  KEII   \n65                                 Anuel AA   Hasta Que Dios Diga   \n66                                 Anuel AA               Secreto   \n67                                 Anuel AA     Ella Quiere Beber   \n68   Anuel AA, Daddy Yankee, Karol G, Ozuna                 China   \n69                                 Arcangel         Sigues Con El   \n76                            Ariana Grande               Ghostin   \n91                            Ariana Grande         Thank U, Next   \n107                                Aventura              Inmortal   \n117                                     BTS           Blue & Grey   \n126                                     BTS             Telepathy   \n130                               Bad Bunny              Booker T   \n131                               Bad Bunny       El Mundo Es Mio   \n132                               Bad Bunny  Haciendo Que Me Amas   \n133                               Bad Bunny             Hoy Cobre   \n134                               Bad Bunny            La Dificil   \n135                               Bad Bunny              La Droga   \n136                               Bad Bunny       Maldita Pobreza   \n\n     weeks_on_chart  peak_rank  \\\n32                1         99   \n52                1         76   \n64                1         83   \n65                1         86   \n66               11         68   \n67               20         61   \n68               18         43   \n69                3         78   \n76                2         25   \n91               28          1   \n107               1         95   \n117               1         13   \n126               1         70   \n130               1         78   \n131               1         79   \n132               1         72   \n133               1         81   \n134               5         33   \n135               1         94   \n136               1         87   \n\n                                                lyrics  length  word_count  \\\n32   Ransom got that sauce in it Se pinta los labio...    1675         279   \n52   명금일하 대취타 하랍신다 예이!  Yeah, uh 대취타 대취타 자 울려라 대취타 ...    1221         329   \n64   Ella ya no piensa en él (En él) Él la convirti...    2746         554   \n65   Brr Hoy la noche se acaba, tú desnuda en mi ca...    3498         673   \n66   Bebecita Bebe-bebecita, uah Bebecita  Lo de no...    2711         498   \n67   Check, check (Remix) I'mma show you why I'm th...    2612         511   \n68   Honey came in and she caught me red-handed Cre...    4180         819   \n69   Si tú te vuelves loca por mí (Por mí) Y yo me ...    2526         487   \n76                                             !Error!       7           1   \n91                                             !Error!       7           1   \n107  Tu grupo favorito  Nadie entiende cómo este am...    2023         379   \n117  Where is my angel? 하루의 끝을 드리운 Someone come and...    1032         269   \n126  매번 같은 하루들 중에 (들 중에) 너를 만날 때 가장 난 행복해 (행복해) 매번 ...     830         235   \n130  Ey, ey  Los pongo a bailar \"La Pelúa\" (Wuh) Y ...    2118         417   \n131  (Uh-uh) Ey, ey  ¿Quién dijo que no? (¿Quién di...    1311         284   \n132  Ya no confío en tu mirada Y tus beso' no saben...    1567         314   \n133  Yeh-yeh-yeh, ey Bad Bunny, baby, be-bé Ey, ey ...    1815         360   \n134  Ella desaparece, pero aparece cuando le dan ga...    1690         333   \n135  Uh, uh-uh Uh-uh, uh-uh  Tú ere' la droga de la...    1931         380   \n136  Yo quiero comprarle un Ferrari a mi novia Pero...    1784         334   \n\n    language  language_score  \n32        es        0.999996  \n52        ko        0.999996  \n64        es        0.999994  \n65        es        0.999996  \n66        es        0.999996  \n67        es        0.999997  \n68        es        0.999995  \n69        es        0.999994  \n76        de        0.999996  \n91        de        0.857140  \n107       es        0.999996  \n117       ko        0.999998  \n126       ko        0.999999  \n130       es        0.999997  \n131       es        0.999998  \n132       es        0.999995  \n133       es        0.999997  \n134       es        0.999998  \n135       es        0.999997  \n136       es        0.999996  ",
      "text/html": "<div>\n<style scoped>\n    .dataframe tbody tr th:only-of-type {\n        vertical-align: middle;\n    }\n\n    .dataframe tbody tr th {\n        vertical-align: top;\n    }\n\n    .dataframe thead th {\n        text-align: right;\n    }\n</style>\n<table border=\"1\" class=\"dataframe\">\n  <thead>\n    <tr style=\"text-align: right;\">\n      <th></th>\n      <th>id</th>\n      <th>artist</th>\n      <th>first_artist</th>\n      <th>song</th>\n      <th>weeks_on_chart</th>\n      <th>peak_rank</th>\n      <th>lyrics</th>\n      <th>length</th>\n      <th>word_count</th>\n      <th>language</th>\n      <th>language_score</th>\n    </tr>\n  </thead>\n  <tbody>\n    <tr>\n      <th>32</th>\n      <td>8098</td>\n      <td>6ix9ine</td>\n      <td>6ix9ine</td>\n      <td>YaYa</td>\n      <td>1</td>\n      <td>99</td>\n      <td>Ransom got that sauce in it Se pinta los labio...</td>\n      <td>1675</td>\n      <td>279</td>\n      <td>es</td>\n      <td>0.999996</td>\n    </tr>\n    <tr>\n      <th>52</th>\n      <td>7475</td>\n      <td>Agust D</td>\n      <td>Agust D</td>\n      <td>Daechwita</td>\n      <td>1</td>\n      <td>76</td>\n      <td>명금일하 대취타 하랍신다 예이!  Yeah, uh 대취타 대취타 자 울려라 대취타 ...</td>\n      <td>1221</td>\n      <td>329</td>\n      <td>ko</td>\n      <td>0.999996</td>\n    </tr>\n    <tr>\n      <th>64</th>\n      <td>5982</td>\n      <td>Anuel AA</td>\n      <td>Anuel AA</td>\n      <td>KEII</td>\n      <td>1</td>\n      <td>83</td>\n      <td>Ella ya no piensa en él (En él) Él la convirti...</td>\n      <td>2746</td>\n      <td>554</td>\n      <td>es</td>\n      <td>0.999994</td>\n    </tr>\n    <tr>\n      <th>65</th>\n      <td>7585</td>\n      <td>Anuel AA &amp; Bad Bunny</td>\n      <td>Anuel AA</td>\n      <td>Hasta Que Dios Diga</td>\n      <td>1</td>\n      <td>86</td>\n      <td>Brr Hoy la noche se acaba, tú desnuda en mi ca...</td>\n      <td>3498</td>\n      <td>673</td>\n      <td>es</td>\n      <td>0.999996</td>\n    </tr>\n    <tr>\n      <th>66</th>\n      <td>467</td>\n      <td>Anuel AA &amp; Karol G</td>\n      <td>Anuel AA</td>\n      <td>Secreto</td>\n      <td>11</td>\n      <td>68</td>\n      <td>Bebecita Bebe-bebecita, uah Bebecita  Lo de no...</td>\n      <td>2711</td>\n      <td>498</td>\n      <td>es</td>\n      <td>0.999996</td>\n    </tr>\n    <tr>\n      <th>67</th>\n      <td>91</td>\n      <td>Anuel AA &amp; Romeo Santos</td>\n      <td>Anuel AA</td>\n      <td>Ella Quiere Beber</td>\n      <td>20</td>\n      <td>61</td>\n      <td>Check, check (Remix) I'mma show you why I'm th...</td>\n      <td>2612</td>\n      <td>511</td>\n      <td>es</td>\n      <td>0.999997</td>\n    </tr>\n    <tr>\n      <th>68</th>\n      <td>3051</td>\n      <td>Anuel AA, Daddy Yankee, Karol G, Ozuna &amp; J Balvin</td>\n      <td>Anuel AA, Daddy Yankee, Karol G, Ozuna</td>\n      <td>China</td>\n      <td>18</td>\n      <td>43</td>\n      <td>Honey came in and she caught me red-handed Cre...</td>\n      <td>4180</td>\n      <td>819</td>\n      <td>es</td>\n      <td>0.999995</td>\n    </tr>\n    <tr>\n      <th>69</th>\n      <td>6877</td>\n      <td>Arcangel x Sech</td>\n      <td>Arcangel</td>\n      <td>Sigues Con El</td>\n      <td>3</td>\n      <td>78</td>\n      <td>Si tú te vuelves loca por mí (Por mí) Y yo me ...</td>\n      <td>2526</td>\n      <td>487</td>\n      <td>es</td>\n      <td>0.999994</td>\n    </tr>\n    <tr>\n      <th>76</th>\n      <td>724</td>\n      <td>Ariana Grande</td>\n      <td>Ariana Grande</td>\n      <td>Ghostin</td>\n      <td>2</td>\n      <td>25</td>\n      <td>!Error!</td>\n      <td>7</td>\n      <td>1</td>\n      <td>de</td>\n      <td>0.999996</td>\n    </tr>\n    <tr>\n      <th>91</th>\n      <td>0</td>\n      <td>Ariana Grande</td>\n      <td>Ariana Grande</td>\n      <td>Thank U, Next</td>\n      <td>28</td>\n      <td>1</td>\n      <td>!Error!</td>\n      <td>7</td>\n      <td>1</td>\n      <td>de</td>\n      <td>0.857140</td>\n    </tr>\n    <tr>\n      <th>107</th>\n      <td>1594</td>\n      <td>Aventura</td>\n      <td>Aventura</td>\n      <td>Inmortal</td>\n      <td>1</td>\n      <td>95</td>\n      <td>Tu grupo favorito  Nadie entiende cómo este am...</td>\n      <td>2023</td>\n      <td>379</td>\n      <td>es</td>\n      <td>0.999996</td>\n    </tr>\n    <tr>\n      <th>117</th>\n      <td>10012</td>\n      <td>BTS</td>\n      <td>BTS</td>\n      <td>Blue &amp; Grey</td>\n      <td>1</td>\n      <td>13</td>\n      <td>Where is my angel? 하루의 끝을 드리운 Someone come and...</td>\n      <td>1032</td>\n      <td>269</td>\n      <td>ko</td>\n      <td>0.999998</td>\n    </tr>\n    <tr>\n      <th>126</th>\n      <td>10069</td>\n      <td>BTS</td>\n      <td>BTS</td>\n      <td>Telepathy</td>\n      <td>1</td>\n      <td>70</td>\n      <td>매번 같은 하루들 중에 (들 중에) 너를 만날 때 가장 난 행복해 (행복해) 매번 ...</td>\n      <td>830</td>\n      <td>235</td>\n      <td>ko</td>\n      <td>0.999999</td>\n    </tr>\n    <tr>\n      <th>130</th>\n      <td>10177</td>\n      <td>Bad Bunny</td>\n      <td>Bad Bunny</td>\n      <td>Booker T</td>\n      <td>1</td>\n      <td>78</td>\n      <td>Ey, ey  Los pongo a bailar \"La Pelúa\" (Wuh) Y ...</td>\n      <td>2118</td>\n      <td>417</td>\n      <td>es</td>\n      <td>0.999997</td>\n    </tr>\n    <tr>\n      <th>131</th>\n      <td>10178</td>\n      <td>Bad Bunny</td>\n      <td>Bad Bunny</td>\n      <td>El Mundo Es Mio</td>\n      <td>1</td>\n      <td>79</td>\n      <td>(Uh-uh) Ey, ey  ¿Quién dijo que no? (¿Quién di...</td>\n      <td>1311</td>\n      <td>284</td>\n      <td>es</td>\n      <td>0.999998</td>\n    </tr>\n    <tr>\n      <th>132</th>\n      <td>10171</td>\n      <td>Bad Bunny</td>\n      <td>Bad Bunny</td>\n      <td>Haciendo Que Me Amas</td>\n      <td>1</td>\n      <td>72</td>\n      <td>Ya no confío en tu mirada Y tus beso' no saben...</td>\n      <td>1567</td>\n      <td>314</td>\n      <td>es</td>\n      <td>0.999995</td>\n    </tr>\n    <tr>\n      <th>133</th>\n      <td>10180</td>\n      <td>Bad Bunny</td>\n      <td>Bad Bunny</td>\n      <td>Hoy Cobre</td>\n      <td>1</td>\n      <td>81</td>\n      <td>Yeh-yeh-yeh, ey Bad Bunny, baby, be-bé Ey, ey ...</td>\n      <td>1815</td>\n      <td>360</td>\n      <td>es</td>\n      <td>0.999997</td>\n    </tr>\n    <tr>\n      <th>134</th>\n      <td>6232</td>\n      <td>Bad Bunny</td>\n      <td>Bad Bunny</td>\n      <td>La Dificil</td>\n      <td>5</td>\n      <td>33</td>\n      <td>Ella desaparece, pero aparece cuando le dan ga...</td>\n      <td>1690</td>\n      <td>333</td>\n      <td>es</td>\n      <td>0.999998</td>\n    </tr>\n    <tr>\n      <th>135</th>\n      <td>10193</td>\n      <td>Bad Bunny</td>\n      <td>Bad Bunny</td>\n      <td>La Droga</td>\n      <td>1</td>\n      <td>94</td>\n      <td>Uh, uh-uh Uh-uh, uh-uh  Tú ere' la droga de la...</td>\n      <td>1931</td>\n      <td>380</td>\n      <td>es</td>\n      <td>0.999997</td>\n    </tr>\n    <tr>\n      <th>136</th>\n      <td>10186</td>\n      <td>Bad Bunny</td>\n      <td>Bad Bunny</td>\n      <td>Maldita Pobreza</td>\n      <td>1</td>\n      <td>87</td>\n      <td>Yo quiero comprarle un Ferrari a mi novia Pero...</td>\n      <td>1784</td>\n      <td>334</td>\n      <td>es</td>\n      <td>0.999996</td>\n    </tr>\n  </tbody>\n</table>\n</div>"
     },
     "execution_count": 17,
     "metadata": {},
     "output_type": "execute_result"
    }
   ],
   "source": [
    "non_english.loc[non_english['language_score'] > 0.80].head(20)"
   ]
  },
  {
   "cell_type": "markdown",
   "source": [
    "### Excel Export"
   ],
   "metadata": {
    "collapsed": false,
    "pycharm": {
     "name": "#%% md\n"
    }
   }
  },
  {
   "cell_type": "code",
   "execution_count": 18,
   "metadata": {
    "pycharm": {
     "name": "#%%\n"
    }
   },
   "outputs": [],
   "source": [
    "lyrics.to_excel('data/lyrics/lyrics.xlsx',encoding='utf-8')"
   ]
  },
  {
   "cell_type": "markdown",
   "source": [
    "### Collecting Missing Lyrics"
   ],
   "metadata": {
    "collapsed": false,
    "pycharm": {
     "name": "#%% md\n"
    }
   }
  },
  {
   "cell_type": "code",
   "execution_count": 19,
   "outputs": [
    {
     "name": "stdout",
     "output_type": "stream",
     "text": [
      "Int64Index([  76,   91,  153,  182,  192,  244,  263,  321,  353,  506,  538,\n",
      "             633,  731,  736,  842,  887,  970,  993,  998,  999, 1001, 1005,\n",
      "            1007, 1009, 1010, 1017, 1042, 1046, 1050, 1091, 1094, 1104, 1122,\n",
      "            1131, 1183, 1190, 1214, 1216, 1247, 1320],\n",
      "           dtype='int64')\n",
      "[76, 91, 153, 182, 192, 244, 263, 321, 353, 506, 538, 633, 731, 736, 842, 887, 970, 993, 998, 999, 1001, 1005, 1007, 1009, 1010, 1017, 1042, 1046, 1050, 1091, 1094, 1104, 1122, 1131, 1183, 1190, 1214, 1216, 1247, 1320, 1003, 190, 231, 727, 97, 196, 339, 374, 379, 497, 607, 654, 1019, 1178, 1249, 1254]\n"
     ]
    }
   ],
   "source": [
    "print(lyrics.loc[(lyrics['length'] <=  8 )].index)\n",
    "missing_lyrics_ids = lyrics.loc[(lyrics['length'] <=  8 )].index.tolist()\n",
    "missing_lyrics_ids.extend([1003, 190, 231, 727, 97, 196, 339, 374, 379, 497, 607, 654, 1019, 1178, 1249, 1254])\n",
    "print(missing_lyrics_ids)"
   ],
   "metadata": {
    "collapsed": false,
    "pycharm": {
     "name": "#%%\n"
    }
   }
  },
  {
   "cell_type": "code",
   "execution_count": 20,
   "outputs": [
    {
     "data": {
      "text/plain": "         id                                             artist  \\\n76      724                                      Ariana Grande   \n91        0                                      Ariana Grande   \n153    6252                           Bad Bunny X Daddy Yankee   \n182     198                                      Billie Eilish   \n192   10435                  Bing Crosby & The Andrews Sisters   \n244    2408                        Chris Brown Featuring Drake   \n263    2118            DJ Khaled Featuring Cardi B & 21 Savage   \n321    3477  Diplo Presents Thomas Wesley Featuring Morgan ...   \n353    8601                           Drake Featuring Lil Durk   \n506    8299                                            J. Cole   \n538    5268                                        John Legend   \n633    9161                         Keith Urban Duet With P!nk   \n731    5961                                          Lil Mosey   \n736    1082                Lil Nas X Featuring Billy Ray Cyrus   \n842       2                                       Mariah Carey   \n887    6047                   Migos, Young Thug & Travis Scott   \n970      34  Perry Como And The Fontane Sisters With Mitche...   \n993    8078                                          Pop Smoke   \n998    8075                     Pop Smoke Featuring King Combs   \n999    8005              Pop Smoke Featuring Lil Baby & DaBaby   \n1001   8033                          Pop Smoke Featuring Quavo   \n1005   8056                       Pop Smoke Featuring Swae Lee   \n1007  10483                                         Popp Hunna   \n1009   3736                                        Post Malone   \n1010     22                                        Post Malone   \n1017   3717                                        Post Malone   \n1042   6777                                           Rod Wave   \n1046   7995                     Rod Wave Featuring ATR Son Son   \n1050   4474                                Roddy Ricch & Gunna   \n1091   2601                      Shawn Mendes & Camila Cabello   \n1094     16                                          Sheck Wes   \n1104   3586                                      Summer Walker   \n1122   8300                                       Taylor Swift   \n1131  10366                                       Taylor Swift   \n1183   4910                                         The Weeknd   \n1190   6523                                         The Weeknd   \n1214   7048                                       Travis Scott   \n1216      3                                       Travis Scott   \n1247     24                                              Wham!   \n1320   4080                          j-hope Featuring Becky G.   \n1003   8053                 Pop Smoke Featuring Quavo & Future   \n190   10449                                        Bing Crosby   \n231   10194                                   Carrie Underwood   \n727    8961                                           Lil Durk   \n97     9707  Ariana Grande Feat. Doja Cat & Megan Thee Stal...   \n196    5178               Blake Shelton Duet With Gwen Stefani   \n339    3259                                              Drake   \n374    2859       Ed Sheeran With Chris Stapleton & Bruno Mars   \n379      59          Ellie Goulding X Diplo Featuring Swae Lee   \n497    8665  Internet Money & Gunna Featuring Don Toliver &...   \n607    8172                  Kane Brown With Swae Lee & Khalid   \n654    1557                             Khalid With John Mayer   \n1019      4                             Post Malone & Swae Lee   \n1178   9898          The Kid LAROI Featuring Machine Gun Kelly   \n1249   9336                                       Why Don't We   \n1254     76  XXXTENTACION x Lil Pump Featuring Maluma & Swa...   \n\n                                           first_artist  \\\n76                                        Ariana Grande   \n91                                        Ariana Grande   \n153                                           Bad Bunny   \n182                                       Billie Eilish   \n192                                         Bing Crosby   \n244                                         Chris Brown   \n263                                           DJ Khaled   \n321                        Diplo Presents Thomas Wesley   \n353                                               Drake   \n506                                             J. Cole   \n538                                         John Legend   \n633                          Keith Urban Duet With P!nk   \n731                                           Lil Mosey   \n736                                           Lil Nas X   \n842                                        Mariah Carey   \n887                                   Migos, Young Thug   \n970   Perry Como And The Fontane Sisters With Mitche...   \n993                                           Pop Smoke   \n998                                           Pop Smoke   \n999                                           Pop Smoke   \n1001                                          Pop Smoke   \n1005                                          Pop Smoke   \n1007                                         Popp Hunna   \n1009                                        Post Malone   \n1010                                        Post Malone   \n1017                                        Post Malone   \n1042                                           Rod Wave   \n1046                                           Rod Wave   \n1050                                        Roddy Ricch   \n1091                                       Shawn Mendes   \n1094                                          Sheck Wes   \n1104                                      Summer Walker   \n1122                                       Taylor Swift   \n1131                                       Taylor Swift   \n1183                                         The Weeknd   \n1190                                         The Weeknd   \n1214                                       Travis Scott   \n1216                                       Travis Scott   \n1247                                              Wham!   \n1320                                             j-hope   \n1003                                          Pop Smoke   \n190                                         Bing Crosby   \n231                                    Carrie Underwood   \n727                                            Lil Durk   \n97                         Ariana Grande Feat. Doja Cat   \n196                Blake Shelton Duet With Gwen Stefani   \n339                                               Drake   \n374                     Ed Sheeran With Chris Stapleton   \n379                              Ellie Goulding X Diplo   \n497                              Internet Money & Gunna   \n607                            Kane Brown With Swae Lee   \n654                              Khalid With John Mayer   \n1019                                        Post Malone   \n1178                                      The Kid LAROI   \n1249                                       Why Don't We   \n1254                            XXXTENTACION x Lil Pump   \n\n                                               song  weeks_on_chart  \\\n76                                          Ghostin               2   \n91                                    Thank U, Next              28   \n153                                        La Santa               2   \n182                                      Ocean Eyes              20   \n192               Mele Kalikimaka (Merry Christmas)               1   \n244                                     No Guidance              46   \n263                                       Wish Wish              15   \n321                                       Heartless              21   \n353                             Laugh Now Cry Later              19   \n506                                  the.climb.back               2   \n538                        Happy Xmas (War Is Over)               1   \n633                                    One Too Many               4   \n731                                 Blueberry Faygo              33   \n736                                   Old Town Road              45   \n842                 All I Want For Christmas Is You              43   \n887                             g n f (Give No Fxk)               1   \n970     It's Beginning To Look A Lot Like Christmas               8   \n993                           Tunnel Vision (Outro)               1   \n998                                           Diana               1   \n999                                   For The Night              25   \n1001                               Aim For The Moon               2   \n1005                                       Creature               1   \n1007                   Adderall (Corvette Corvette)               1   \n1009                                       Allergic               2   \n1010                                     Better Now              52   \n1017                                   Saint-Tropez               6   \n1042                                   The Greatest               1   \n1046                                    Rags2Riches              20   \n1050                                   Start Wit Me              13   \n1091                                       Senorita              37   \n1094                                       Mo Bamba              28   \n1104                                  Playing Games              20   \n1122                                       Cardigan              14   \n1131                                       Dorothea               1   \n1183                                Blinding Lights              55   \n1190                                 Scared To Live               1   \n1214                                     Goosebumps              35   \n1216                                     Sicko Mode              52   \n1247                                 Last Christmas              19   \n1320                            Chicken Noodle Soup               1   \n1003                                       Snitchin               1   \n190                      I'll Be Home For Christmas               1   \n231                           Favorite Time Of Year               4   \n727                                       The Voice               1   \n97                                            34+35               8   \n196                                  Nobody But You              25   \n339                                   How About Now               1   \n374                                            BLOW               2   \n379                                     Close To Me              25   \n497                                        Lemonade              19   \n607                                    Be Like That              21   \n654                                   Outta My Head               1   \n1019  Sunflower (Spider-Man: Into The Spider-Verse)              53   \n1178                              Fuck You, Goodbye               1   \n1249                                        Fallin'               1   \n1254                                Arms Around You              17   \n\n      peak_rank                                             lyrics  length  \\\n76           25                                            !Error!       7   \n91            1                                            !Error!       7   \n153          53                                            !Error!       7   \n182          84                                            !Error!       7   \n192          36                                           !NoSong!       8   \n244           5                                            !Error!       7   \n263          19                                            !Error!       7   \n321          39                                           !NoSong!       8   \n353           2                                            !Error!       7   \n506          52                                           !NoSong!       8   \n538          69                                           !NoSong!       8   \n633          62                                           !NoSong!       8   \n731           8                                            !Error!       7   \n736           1                                            !Error!       7   \n842           1                                            !Error!       7   \n887          48                                           !NoSong!       8   \n970          12                                           !NoSong!       8   \n993          79                                            !Error!       7   \n998          76                                            !Error!       7   \n999           6                                            !Error!       7   \n1001         34                                            !Error!       7   \n1005         57                                            !Error!       7   \n1007         84                                            !Error!       7   \n1009         37                                            !Error!       7   \n1010          3                                            !Error!       7   \n1017         18                                            !Error!       7   \n1042         78                                            !Error!       7   \n1046         12                                            !Error!       7   \n1050         56                                            !Error!       7   \n1091          1                                            !Error!       7   \n1094          6                                            !Error!       7   \n1104         16                                            !Error!       7   \n1122          1                                            !Error!       7   \n1131         67                                            !Error!       7   \n1183          1                                            !Error!       7   \n1190         24                                            !Error!       7   \n1214         32                                            !Error!       7   \n1216          1                                            !Error!       7   \n1247          9                                            !Error!       7   \n1320         81                                                NaN       3   \n1003         54  Definitely did take a long time 2020 been a sa...   16671   \n190          50  \"I Robot,\" Alan Parson's Project  \"I Walk The ...     561   \n231          62  Last updated: 10/6/2018, 5:16PM MST OctoberOct...   79241   \n727          62  IDK when i listened to these The Heist - Mackl...    9941   \n97            8  34+35 - Ariana Grande Never Change (feat. Futu...    1821   \n196          18  Harry Styles - Treat People With Kindness Alec...    2677   \n339          60  Ring My Bell - Anita Ward Brianstorm - Arctic ...    2633   \n374          60  Post Malone - Goodbyes (Feat. Young Thug) Mars...    2048   \n379          24  Ellie Goulding & Diplo - Close To Me (feat. Sw...    3082   \n497           6  Updated: August 13th, 2021 There are currently...    2863   \n607          19  1. Tata McRae- You Broke Me First 2. 24kGoldn-...    1903   \n654          58  Bazzi - Paradise Jonas Brothers - Cool Khalid ...    2735   \n1019          1  1. Post Malone- Circles 2. Post Malone- rockst...    1672   \n1178         99  1. The Kid LAROI- WITHOUT YOU 2. Justin Bieber...    1154   \n1249         37  Wonder - Shawn Mendes Bet You Wanna (feat. Car...    2702   \n1254         28  May 29, 2019 Update Cross Me - Ed Sheeran Stay...    2074   \n\n      word_count language  language_score  \n76             1       de        0.999996  \n91             1       de        0.857140  \n153            1       de        0.999995  \n182            1       de        0.999994  \n192            1       tl        0.999995  \n244            1       de        0.857139  \n263            1       de        0.714282  \n321            1       tl        0.999993  \n353            1       de        0.999997  \n506            1       tl        0.999995  \n538            1       tl        0.999995  \n633            1       tl        0.999996  \n731            1       de        0.999994  \n736            1       de        0.999993  \n842            1       de        0.999995  \n887            1       tl        0.999995  \n970            1       tl        0.999995  \n993            1       de        0.857139  \n998            1       de        0.999993  \n999            1       de        0.857137  \n1001           1       de        0.999994  \n1005           1       de        0.999994  \n1007           1       de        0.857139  \n1009           1       de        0.857139  \n1010           1       de        0.999995  \n1017           1       de        0.999995  \n1042           1       de        0.999995  \n1046           1       de        0.999995  \n1050           1       de        0.999996  \n1091           1       de        0.999996  \n1094           1       de        0.999983  \n1104           1       de        0.999995  \n1122           1       de        0.999995  \n1131           1       de        0.999996  \n1183           1       de        0.857138  \n1190           1       de        0.999995  \n1214           1       de        0.857139  \n1216           1       de        0.999995  \n1247           1       de        0.999996  \n1320           1        -       -1.000000  \n1003        3123       en        0.999996  \n190           91       en        0.999996  \n231        13651       en        0.999996  \n727         2069       en        0.999993  \n97           376       en        0.999996  \n196          541       en        0.999996  \n339          495       en        0.999996  \n374          375       en        0.999996  \n379          593       en        0.999996  \n497          415       en        0.999997  \n607          350       en        0.999998  \n654          522       en        0.999994  \n1019         294       en        0.999996  \n1178         220       en        0.999998  \n1249         521       en        0.999996  \n1254         412       en        0.999997  ",
      "text/html": "<div>\n<style scoped>\n    .dataframe tbody tr th:only-of-type {\n        vertical-align: middle;\n    }\n\n    .dataframe tbody tr th {\n        vertical-align: top;\n    }\n\n    .dataframe thead th {\n        text-align: right;\n    }\n</style>\n<table border=\"1\" class=\"dataframe\">\n  <thead>\n    <tr style=\"text-align: right;\">\n      <th></th>\n      <th>id</th>\n      <th>artist</th>\n      <th>first_artist</th>\n      <th>song</th>\n      <th>weeks_on_chart</th>\n      <th>peak_rank</th>\n      <th>lyrics</th>\n      <th>length</th>\n      <th>word_count</th>\n      <th>language</th>\n      <th>language_score</th>\n    </tr>\n  </thead>\n  <tbody>\n    <tr>\n      <th>76</th>\n      <td>724</td>\n      <td>Ariana Grande</td>\n      <td>Ariana Grande</td>\n      <td>Ghostin</td>\n      <td>2</td>\n      <td>25</td>\n      <td>!Error!</td>\n      <td>7</td>\n      <td>1</td>\n      <td>de</td>\n      <td>0.999996</td>\n    </tr>\n    <tr>\n      <th>91</th>\n      <td>0</td>\n      <td>Ariana Grande</td>\n      <td>Ariana Grande</td>\n      <td>Thank U, Next</td>\n      <td>28</td>\n      <td>1</td>\n      <td>!Error!</td>\n      <td>7</td>\n      <td>1</td>\n      <td>de</td>\n      <td>0.857140</td>\n    </tr>\n    <tr>\n      <th>153</th>\n      <td>6252</td>\n      <td>Bad Bunny X Daddy Yankee</td>\n      <td>Bad Bunny</td>\n      <td>La Santa</td>\n      <td>2</td>\n      <td>53</td>\n      <td>!Error!</td>\n      <td>7</td>\n      <td>1</td>\n      <td>de</td>\n      <td>0.999995</td>\n    </tr>\n    <tr>\n      <th>182</th>\n      <td>198</td>\n      <td>Billie Eilish</td>\n      <td>Billie Eilish</td>\n      <td>Ocean Eyes</td>\n      <td>20</td>\n      <td>84</td>\n      <td>!Error!</td>\n      <td>7</td>\n      <td>1</td>\n      <td>de</td>\n      <td>0.999994</td>\n    </tr>\n    <tr>\n      <th>192</th>\n      <td>10435</td>\n      <td>Bing Crosby &amp; The Andrews Sisters</td>\n      <td>Bing Crosby</td>\n      <td>Mele Kalikimaka (Merry Christmas)</td>\n      <td>1</td>\n      <td>36</td>\n      <td>!NoSong!</td>\n      <td>8</td>\n      <td>1</td>\n      <td>tl</td>\n      <td>0.999995</td>\n    </tr>\n    <tr>\n      <th>244</th>\n      <td>2408</td>\n      <td>Chris Brown Featuring Drake</td>\n      <td>Chris Brown</td>\n      <td>No Guidance</td>\n      <td>46</td>\n      <td>5</td>\n      <td>!Error!</td>\n      <td>7</td>\n      <td>1</td>\n      <td>de</td>\n      <td>0.857139</td>\n    </tr>\n    <tr>\n      <th>263</th>\n      <td>2118</td>\n      <td>DJ Khaled Featuring Cardi B &amp; 21 Savage</td>\n      <td>DJ Khaled</td>\n      <td>Wish Wish</td>\n      <td>15</td>\n      <td>19</td>\n      <td>!Error!</td>\n      <td>7</td>\n      <td>1</td>\n      <td>de</td>\n      <td>0.714282</td>\n    </tr>\n    <tr>\n      <th>321</th>\n      <td>3477</td>\n      <td>Diplo Presents Thomas Wesley Featuring Morgan ...</td>\n      <td>Diplo Presents Thomas Wesley</td>\n      <td>Heartless</td>\n      <td>21</td>\n      <td>39</td>\n      <td>!NoSong!</td>\n      <td>8</td>\n      <td>1</td>\n      <td>tl</td>\n      <td>0.999993</td>\n    </tr>\n    <tr>\n      <th>353</th>\n      <td>8601</td>\n      <td>Drake Featuring Lil Durk</td>\n      <td>Drake</td>\n      <td>Laugh Now Cry Later</td>\n      <td>19</td>\n      <td>2</td>\n      <td>!Error!</td>\n      <td>7</td>\n      <td>1</td>\n      <td>de</td>\n      <td>0.999997</td>\n    </tr>\n    <tr>\n      <th>506</th>\n      <td>8299</td>\n      <td>J. Cole</td>\n      <td>J. Cole</td>\n      <td>the.climb.back</td>\n      <td>2</td>\n      <td>52</td>\n      <td>!NoSong!</td>\n      <td>8</td>\n      <td>1</td>\n      <td>tl</td>\n      <td>0.999995</td>\n    </tr>\n    <tr>\n      <th>538</th>\n      <td>5268</td>\n      <td>John Legend</td>\n      <td>John Legend</td>\n      <td>Happy Xmas (War Is Over)</td>\n      <td>1</td>\n      <td>69</td>\n      <td>!NoSong!</td>\n      <td>8</td>\n      <td>1</td>\n      <td>tl</td>\n      <td>0.999995</td>\n    </tr>\n    <tr>\n      <th>633</th>\n      <td>9161</td>\n      <td>Keith Urban Duet With P!nk</td>\n      <td>Keith Urban Duet With P!nk</td>\n      <td>One Too Many</td>\n      <td>4</td>\n      <td>62</td>\n      <td>!NoSong!</td>\n      <td>8</td>\n      <td>1</td>\n      <td>tl</td>\n      <td>0.999996</td>\n    </tr>\n    <tr>\n      <th>731</th>\n      <td>5961</td>\n      <td>Lil Mosey</td>\n      <td>Lil Mosey</td>\n      <td>Blueberry Faygo</td>\n      <td>33</td>\n      <td>8</td>\n      <td>!Error!</td>\n      <td>7</td>\n      <td>1</td>\n      <td>de</td>\n      <td>0.999994</td>\n    </tr>\n    <tr>\n      <th>736</th>\n      <td>1082</td>\n      <td>Lil Nas X Featuring Billy Ray Cyrus</td>\n      <td>Lil Nas X</td>\n      <td>Old Town Road</td>\n      <td>45</td>\n      <td>1</td>\n      <td>!Error!</td>\n      <td>7</td>\n      <td>1</td>\n      <td>de</td>\n      <td>0.999993</td>\n    </tr>\n    <tr>\n      <th>842</th>\n      <td>2</td>\n      <td>Mariah Carey</td>\n      <td>Mariah Carey</td>\n      <td>All I Want For Christmas Is You</td>\n      <td>43</td>\n      <td>1</td>\n      <td>!Error!</td>\n      <td>7</td>\n      <td>1</td>\n      <td>de</td>\n      <td>0.999995</td>\n    </tr>\n    <tr>\n      <th>887</th>\n      <td>6047</td>\n      <td>Migos, Young Thug &amp; Travis Scott</td>\n      <td>Migos, Young Thug</td>\n      <td>g n f (Give No Fxk)</td>\n      <td>1</td>\n      <td>48</td>\n      <td>!NoSong!</td>\n      <td>8</td>\n      <td>1</td>\n      <td>tl</td>\n      <td>0.999995</td>\n    </tr>\n    <tr>\n      <th>970</th>\n      <td>34</td>\n      <td>Perry Como And The Fontane Sisters With Mitche...</td>\n      <td>Perry Como And The Fontane Sisters With Mitche...</td>\n      <td>It's Beginning To Look A Lot Like Christmas</td>\n      <td>8</td>\n      <td>12</td>\n      <td>!NoSong!</td>\n      <td>8</td>\n      <td>1</td>\n      <td>tl</td>\n      <td>0.999995</td>\n    </tr>\n    <tr>\n      <th>993</th>\n      <td>8078</td>\n      <td>Pop Smoke</td>\n      <td>Pop Smoke</td>\n      <td>Tunnel Vision (Outro)</td>\n      <td>1</td>\n      <td>79</td>\n      <td>!Error!</td>\n      <td>7</td>\n      <td>1</td>\n      <td>de</td>\n      <td>0.857139</td>\n    </tr>\n    <tr>\n      <th>998</th>\n      <td>8075</td>\n      <td>Pop Smoke Featuring King Combs</td>\n      <td>Pop Smoke</td>\n      <td>Diana</td>\n      <td>1</td>\n      <td>76</td>\n      <td>!Error!</td>\n      <td>7</td>\n      <td>1</td>\n      <td>de</td>\n      <td>0.999993</td>\n    </tr>\n    <tr>\n      <th>999</th>\n      <td>8005</td>\n      <td>Pop Smoke Featuring Lil Baby &amp; DaBaby</td>\n      <td>Pop Smoke</td>\n      <td>For The Night</td>\n      <td>25</td>\n      <td>6</td>\n      <td>!Error!</td>\n      <td>7</td>\n      <td>1</td>\n      <td>de</td>\n      <td>0.857137</td>\n    </tr>\n    <tr>\n      <th>1001</th>\n      <td>8033</td>\n      <td>Pop Smoke Featuring Quavo</td>\n      <td>Pop Smoke</td>\n      <td>Aim For The Moon</td>\n      <td>2</td>\n      <td>34</td>\n      <td>!Error!</td>\n      <td>7</td>\n      <td>1</td>\n      <td>de</td>\n      <td>0.999994</td>\n    </tr>\n    <tr>\n      <th>1005</th>\n      <td>8056</td>\n      <td>Pop Smoke Featuring Swae Lee</td>\n      <td>Pop Smoke</td>\n      <td>Creature</td>\n      <td>1</td>\n      <td>57</td>\n      <td>!Error!</td>\n      <td>7</td>\n      <td>1</td>\n      <td>de</td>\n      <td>0.999994</td>\n    </tr>\n    <tr>\n      <th>1007</th>\n      <td>10483</td>\n      <td>Popp Hunna</td>\n      <td>Popp Hunna</td>\n      <td>Adderall (Corvette Corvette)</td>\n      <td>1</td>\n      <td>84</td>\n      <td>!Error!</td>\n      <td>7</td>\n      <td>1</td>\n      <td>de</td>\n      <td>0.857139</td>\n    </tr>\n    <tr>\n      <th>1009</th>\n      <td>3736</td>\n      <td>Post Malone</td>\n      <td>Post Malone</td>\n      <td>Allergic</td>\n      <td>2</td>\n      <td>37</td>\n      <td>!Error!</td>\n      <td>7</td>\n      <td>1</td>\n      <td>de</td>\n      <td>0.857139</td>\n    </tr>\n    <tr>\n      <th>1010</th>\n      <td>22</td>\n      <td>Post Malone</td>\n      <td>Post Malone</td>\n      <td>Better Now</td>\n      <td>52</td>\n      <td>3</td>\n      <td>!Error!</td>\n      <td>7</td>\n      <td>1</td>\n      <td>de</td>\n      <td>0.999995</td>\n    </tr>\n    <tr>\n      <th>1017</th>\n      <td>3717</td>\n      <td>Post Malone</td>\n      <td>Post Malone</td>\n      <td>Saint-Tropez</td>\n      <td>6</td>\n      <td>18</td>\n      <td>!Error!</td>\n      <td>7</td>\n      <td>1</td>\n      <td>de</td>\n      <td>0.999995</td>\n    </tr>\n    <tr>\n      <th>1042</th>\n      <td>6777</td>\n      <td>Rod Wave</td>\n      <td>Rod Wave</td>\n      <td>The Greatest</td>\n      <td>1</td>\n      <td>78</td>\n      <td>!Error!</td>\n      <td>7</td>\n      <td>1</td>\n      <td>de</td>\n      <td>0.999995</td>\n    </tr>\n    <tr>\n      <th>1046</th>\n      <td>7995</td>\n      <td>Rod Wave Featuring ATR Son Son</td>\n      <td>Rod Wave</td>\n      <td>Rags2Riches</td>\n      <td>20</td>\n      <td>12</td>\n      <td>!Error!</td>\n      <td>7</td>\n      <td>1</td>\n      <td>de</td>\n      <td>0.999995</td>\n    </tr>\n    <tr>\n      <th>1050</th>\n      <td>4474</td>\n      <td>Roddy Ricch &amp; Gunna</td>\n      <td>Roddy Ricch</td>\n      <td>Start Wit Me</td>\n      <td>13</td>\n      <td>56</td>\n      <td>!Error!</td>\n      <td>7</td>\n      <td>1</td>\n      <td>de</td>\n      <td>0.999996</td>\n    </tr>\n    <tr>\n      <th>1091</th>\n      <td>2601</td>\n      <td>Shawn Mendes &amp; Camila Cabello</td>\n      <td>Shawn Mendes</td>\n      <td>Senorita</td>\n      <td>37</td>\n      <td>1</td>\n      <td>!Error!</td>\n      <td>7</td>\n      <td>1</td>\n      <td>de</td>\n      <td>0.999996</td>\n    </tr>\n    <tr>\n      <th>1094</th>\n      <td>16</td>\n      <td>Sheck Wes</td>\n      <td>Sheck Wes</td>\n      <td>Mo Bamba</td>\n      <td>28</td>\n      <td>6</td>\n      <td>!Error!</td>\n      <td>7</td>\n      <td>1</td>\n      <td>de</td>\n      <td>0.999983</td>\n    </tr>\n    <tr>\n      <th>1104</th>\n      <td>3586</td>\n      <td>Summer Walker</td>\n      <td>Summer Walker</td>\n      <td>Playing Games</td>\n      <td>20</td>\n      <td>16</td>\n      <td>!Error!</td>\n      <td>7</td>\n      <td>1</td>\n      <td>de</td>\n      <td>0.999995</td>\n    </tr>\n    <tr>\n      <th>1122</th>\n      <td>8300</td>\n      <td>Taylor Swift</td>\n      <td>Taylor Swift</td>\n      <td>Cardigan</td>\n      <td>14</td>\n      <td>1</td>\n      <td>!Error!</td>\n      <td>7</td>\n      <td>1</td>\n      <td>de</td>\n      <td>0.999995</td>\n    </tr>\n    <tr>\n      <th>1131</th>\n      <td>10366</td>\n      <td>Taylor Swift</td>\n      <td>Taylor Swift</td>\n      <td>Dorothea</td>\n      <td>1</td>\n      <td>67</td>\n      <td>!Error!</td>\n      <td>7</td>\n      <td>1</td>\n      <td>de</td>\n      <td>0.999996</td>\n    </tr>\n    <tr>\n      <th>1183</th>\n      <td>4910</td>\n      <td>The Weeknd</td>\n      <td>The Weeknd</td>\n      <td>Blinding Lights</td>\n      <td>55</td>\n      <td>1</td>\n      <td>!Error!</td>\n      <td>7</td>\n      <td>1</td>\n      <td>de</td>\n      <td>0.857138</td>\n    </tr>\n    <tr>\n      <th>1190</th>\n      <td>6523</td>\n      <td>The Weeknd</td>\n      <td>The Weeknd</td>\n      <td>Scared To Live</td>\n      <td>1</td>\n      <td>24</td>\n      <td>!Error!</td>\n      <td>7</td>\n      <td>1</td>\n      <td>de</td>\n      <td>0.999995</td>\n    </tr>\n    <tr>\n      <th>1214</th>\n      <td>7048</td>\n      <td>Travis Scott</td>\n      <td>Travis Scott</td>\n      <td>Goosebumps</td>\n      <td>35</td>\n      <td>32</td>\n      <td>!Error!</td>\n      <td>7</td>\n      <td>1</td>\n      <td>de</td>\n      <td>0.857139</td>\n    </tr>\n    <tr>\n      <th>1216</th>\n      <td>3</td>\n      <td>Travis Scott</td>\n      <td>Travis Scott</td>\n      <td>Sicko Mode</td>\n      <td>52</td>\n      <td>1</td>\n      <td>!Error!</td>\n      <td>7</td>\n      <td>1</td>\n      <td>de</td>\n      <td>0.999995</td>\n    </tr>\n    <tr>\n      <th>1247</th>\n      <td>24</td>\n      <td>Wham!</td>\n      <td>Wham!</td>\n      <td>Last Christmas</td>\n      <td>19</td>\n      <td>9</td>\n      <td>!Error!</td>\n      <td>7</td>\n      <td>1</td>\n      <td>de</td>\n      <td>0.999996</td>\n    </tr>\n    <tr>\n      <th>1320</th>\n      <td>4080</td>\n      <td>j-hope Featuring Becky G.</td>\n      <td>j-hope</td>\n      <td>Chicken Noodle Soup</td>\n      <td>1</td>\n      <td>81</td>\n      <td>NaN</td>\n      <td>3</td>\n      <td>1</td>\n      <td>-</td>\n      <td>-1.000000</td>\n    </tr>\n    <tr>\n      <th>1003</th>\n      <td>8053</td>\n      <td>Pop Smoke Featuring Quavo &amp; Future</td>\n      <td>Pop Smoke</td>\n      <td>Snitchin</td>\n      <td>1</td>\n      <td>54</td>\n      <td>Definitely did take a long time 2020 been a sa...</td>\n      <td>16671</td>\n      <td>3123</td>\n      <td>en</td>\n      <td>0.999996</td>\n    </tr>\n    <tr>\n      <th>190</th>\n      <td>10449</td>\n      <td>Bing Crosby</td>\n      <td>Bing Crosby</td>\n      <td>I'll Be Home For Christmas</td>\n      <td>1</td>\n      <td>50</td>\n      <td>\"I Robot,\" Alan Parson's Project  \"I Walk The ...</td>\n      <td>561</td>\n      <td>91</td>\n      <td>en</td>\n      <td>0.999996</td>\n    </tr>\n    <tr>\n      <th>231</th>\n      <td>10194</td>\n      <td>Carrie Underwood</td>\n      <td>Carrie Underwood</td>\n      <td>Favorite Time Of Year</td>\n      <td>4</td>\n      <td>62</td>\n      <td>Last updated: 10/6/2018, 5:16PM MST OctoberOct...</td>\n      <td>79241</td>\n      <td>13651</td>\n      <td>en</td>\n      <td>0.999996</td>\n    </tr>\n    <tr>\n      <th>727</th>\n      <td>8961</td>\n      <td>Lil Durk</td>\n      <td>Lil Durk</td>\n      <td>The Voice</td>\n      <td>1</td>\n      <td>62</td>\n      <td>IDK when i listened to these The Heist - Mackl...</td>\n      <td>9941</td>\n      <td>2069</td>\n      <td>en</td>\n      <td>0.999993</td>\n    </tr>\n    <tr>\n      <th>97</th>\n      <td>9707</td>\n      <td>Ariana Grande Feat. Doja Cat &amp; Megan Thee Stal...</td>\n      <td>Ariana Grande Feat. Doja Cat</td>\n      <td>34+35</td>\n      <td>8</td>\n      <td>8</td>\n      <td>34+35 - Ariana Grande Never Change (feat. Futu...</td>\n      <td>1821</td>\n      <td>376</td>\n      <td>en</td>\n      <td>0.999996</td>\n    </tr>\n    <tr>\n      <th>196</th>\n      <td>5178</td>\n      <td>Blake Shelton Duet With Gwen Stefani</td>\n      <td>Blake Shelton Duet With Gwen Stefani</td>\n      <td>Nobody But You</td>\n      <td>25</td>\n      <td>18</td>\n      <td>Harry Styles - Treat People With Kindness Alec...</td>\n      <td>2677</td>\n      <td>541</td>\n      <td>en</td>\n      <td>0.999996</td>\n    </tr>\n    <tr>\n      <th>339</th>\n      <td>3259</td>\n      <td>Drake</td>\n      <td>Drake</td>\n      <td>How About Now</td>\n      <td>1</td>\n      <td>60</td>\n      <td>Ring My Bell - Anita Ward Brianstorm - Arctic ...</td>\n      <td>2633</td>\n      <td>495</td>\n      <td>en</td>\n      <td>0.999996</td>\n    </tr>\n    <tr>\n      <th>374</th>\n      <td>2859</td>\n      <td>Ed Sheeran With Chris Stapleton &amp; Bruno Mars</td>\n      <td>Ed Sheeran With Chris Stapleton</td>\n      <td>BLOW</td>\n      <td>2</td>\n      <td>60</td>\n      <td>Post Malone - Goodbyes (Feat. Young Thug) Mars...</td>\n      <td>2048</td>\n      <td>375</td>\n      <td>en</td>\n      <td>0.999996</td>\n    </tr>\n    <tr>\n      <th>379</th>\n      <td>59</td>\n      <td>Ellie Goulding X Diplo Featuring Swae Lee</td>\n      <td>Ellie Goulding X Diplo</td>\n      <td>Close To Me</td>\n      <td>25</td>\n      <td>24</td>\n      <td>Ellie Goulding &amp; Diplo - Close To Me (feat. Sw...</td>\n      <td>3082</td>\n      <td>593</td>\n      <td>en</td>\n      <td>0.999996</td>\n    </tr>\n    <tr>\n      <th>497</th>\n      <td>8665</td>\n      <td>Internet Money &amp; Gunna Featuring Don Toliver &amp;...</td>\n      <td>Internet Money &amp; Gunna</td>\n      <td>Lemonade</td>\n      <td>19</td>\n      <td>6</td>\n      <td>Updated: August 13th, 2021 There are currently...</td>\n      <td>2863</td>\n      <td>415</td>\n      <td>en</td>\n      <td>0.999997</td>\n    </tr>\n    <tr>\n      <th>607</th>\n      <td>8172</td>\n      <td>Kane Brown With Swae Lee &amp; Khalid</td>\n      <td>Kane Brown With Swae Lee</td>\n      <td>Be Like That</td>\n      <td>21</td>\n      <td>19</td>\n      <td>1. Tata McRae- You Broke Me First 2. 24kGoldn-...</td>\n      <td>1903</td>\n      <td>350</td>\n      <td>en</td>\n      <td>0.999998</td>\n    </tr>\n    <tr>\n      <th>654</th>\n      <td>1557</td>\n      <td>Khalid With John Mayer</td>\n      <td>Khalid With John Mayer</td>\n      <td>Outta My Head</td>\n      <td>1</td>\n      <td>58</td>\n      <td>Bazzi - Paradise Jonas Brothers - Cool Khalid ...</td>\n      <td>2735</td>\n      <td>522</td>\n      <td>en</td>\n      <td>0.999994</td>\n    </tr>\n    <tr>\n      <th>1019</th>\n      <td>4</td>\n      <td>Post Malone &amp; Swae Lee</td>\n      <td>Post Malone</td>\n      <td>Sunflower (Spider-Man: Into The Spider-Verse)</td>\n      <td>53</td>\n      <td>1</td>\n      <td>1. Post Malone- Circles 2. Post Malone- rockst...</td>\n      <td>1672</td>\n      <td>294</td>\n      <td>en</td>\n      <td>0.999996</td>\n    </tr>\n    <tr>\n      <th>1178</th>\n      <td>9898</td>\n      <td>The Kid LAROI Featuring Machine Gun Kelly</td>\n      <td>The Kid LAROI</td>\n      <td>Fuck You, Goodbye</td>\n      <td>1</td>\n      <td>99</td>\n      <td>1. The Kid LAROI- WITHOUT YOU 2. Justin Bieber...</td>\n      <td>1154</td>\n      <td>220</td>\n      <td>en</td>\n      <td>0.999998</td>\n    </tr>\n    <tr>\n      <th>1249</th>\n      <td>9336</td>\n      <td>Why Don't We</td>\n      <td>Why Don't We</td>\n      <td>Fallin'</td>\n      <td>1</td>\n      <td>37</td>\n      <td>Wonder - Shawn Mendes Bet You Wanna (feat. Car...</td>\n      <td>2702</td>\n      <td>521</td>\n      <td>en</td>\n      <td>0.999996</td>\n    </tr>\n    <tr>\n      <th>1254</th>\n      <td>76</td>\n      <td>XXXTENTACION x Lil Pump Featuring Maluma &amp; Swa...</td>\n      <td>XXXTENTACION x Lil Pump</td>\n      <td>Arms Around You</td>\n      <td>17</td>\n      <td>28</td>\n      <td>May 29, 2019 Update Cross Me - Ed Sheeran Stay...</td>\n      <td>2074</td>\n      <td>412</td>\n      <td>en</td>\n      <td>0.999997</td>\n    </tr>\n  </tbody>\n</table>\n</div>"
     },
     "execution_count": 20,
     "metadata": {},
     "output_type": "execute_result"
    }
   ],
   "source": [
    "missing_lyrics = lyrics.loc[missing_lyrics_ids]\n",
    "missing_lyrics"
   ],
   "metadata": {
    "collapsed": false,
    "pycharm": {
     "name": "#%%\n"
    }
   }
  },
  {
   "cell_type": "markdown",
   "source": [
    "#### Adding available genius links to missing lyrics"
   ],
   "metadata": {
    "collapsed": false,
    "pycharm": {
     "name": "#%% md\n"
    }
   }
  },
  {
   "cell_type": "code",
   "execution_count": 21,
   "outputs": [
    {
     "data": {
      "text/plain": "         id                                             artist  \\\n76      724                                      Ariana Grande   \n91        0                                      Ariana Grande   \n153    6252                           Bad Bunny X Daddy Yankee   \n182     198                                      Billie Eilish   \n192   10435                  Bing Crosby & The Andrews Sisters   \n244    2408                        Chris Brown Featuring Drake   \n263    2118            DJ Khaled Featuring Cardi B & 21 Savage   \n321    3477  Diplo Presents Thomas Wesley Featuring Morgan ...   \n353    8601                           Drake Featuring Lil Durk   \n506    8299                                            J. Cole   \n538    5268                                        John Legend   \n633    9161                         Keith Urban Duet With P!nk   \n731    5961                                          Lil Mosey   \n736    1082                Lil Nas X Featuring Billy Ray Cyrus   \n842       2                                       Mariah Carey   \n887    6047                   Migos, Young Thug & Travis Scott   \n970      34  Perry Como And The Fontane Sisters With Mitche...   \n993    8078                                          Pop Smoke   \n998    8075                     Pop Smoke Featuring King Combs   \n999    8005              Pop Smoke Featuring Lil Baby & DaBaby   \n1001   8033                          Pop Smoke Featuring Quavo   \n1005   8056                       Pop Smoke Featuring Swae Lee   \n1007  10483                                         Popp Hunna   \n1009   3736                                        Post Malone   \n1010     22                                        Post Malone   \n1017   3717                                        Post Malone   \n1042   6777                                           Rod Wave   \n1046   7995                     Rod Wave Featuring ATR Son Son   \n1050   4474                                Roddy Ricch & Gunna   \n1091   2601                      Shawn Mendes & Camila Cabello   \n1094     16                                          Sheck Wes   \n1104   3586                                      Summer Walker   \n1122   8300                                       Taylor Swift   \n1131  10366                                       Taylor Swift   \n1183   4910                                         The Weeknd   \n1190   6523                                         The Weeknd   \n1214   7048                                       Travis Scott   \n1216      3                                       Travis Scott   \n1247     24                                              Wham!   \n1320   4080                          j-hope Featuring Becky G.   \n1003   8053                 Pop Smoke Featuring Quavo & Future   \n190   10449                                        Bing Crosby   \n231   10194                                   Carrie Underwood   \n727    8961                                           Lil Durk   \n97     9707  Ariana Grande Feat. Doja Cat & Megan Thee Stal...   \n196    5178               Blake Shelton Duet With Gwen Stefani   \n339    3259                                              Drake   \n374    2859       Ed Sheeran With Chris Stapleton & Bruno Mars   \n379      59          Ellie Goulding X Diplo Featuring Swae Lee   \n497    8665  Internet Money & Gunna Featuring Don Toliver &...   \n607    8172                  Kane Brown With Swae Lee & Khalid   \n654    1557                             Khalid With John Mayer   \n1019      4                             Post Malone & Swae Lee   \n1178   9898          The Kid LAROI Featuring Machine Gun Kelly   \n1249   9336                                       Why Don't We   \n1254     76  XXXTENTACION x Lil Pump Featuring Maluma & Swa...   \n\n                                           first_artist  \\\n76                                        Ariana Grande   \n91                                        Ariana Grande   \n153                                           Bad Bunny   \n182                                       Billie Eilish   \n192                                         Bing Crosby   \n244                                         Chris Brown   \n263                                           DJ Khaled   \n321                        Diplo Presents Thomas Wesley   \n353                                               Drake   \n506                                             J. Cole   \n538                                         John Legend   \n633                          Keith Urban Duet With P!nk   \n731                                           Lil Mosey   \n736                                           Lil Nas X   \n842                                        Mariah Carey   \n887                                   Migos, Young Thug   \n970   Perry Como And The Fontane Sisters With Mitche...   \n993                                           Pop Smoke   \n998                                           Pop Smoke   \n999                                           Pop Smoke   \n1001                                          Pop Smoke   \n1005                                          Pop Smoke   \n1007                                         Popp Hunna   \n1009                                        Post Malone   \n1010                                        Post Malone   \n1017                                        Post Malone   \n1042                                           Rod Wave   \n1046                                           Rod Wave   \n1050                                        Roddy Ricch   \n1091                                       Shawn Mendes   \n1094                                          Sheck Wes   \n1104                                      Summer Walker   \n1122                                       Taylor Swift   \n1131                                       Taylor Swift   \n1183                                         The Weeknd   \n1190                                         The Weeknd   \n1214                                       Travis Scott   \n1216                                       Travis Scott   \n1247                                              Wham!   \n1320                                             j-hope   \n1003                                          Pop Smoke   \n190                                         Bing Crosby   \n231                                    Carrie Underwood   \n727                                            Lil Durk   \n97                         Ariana Grande Feat. Doja Cat   \n196                Blake Shelton Duet With Gwen Stefani   \n339                                               Drake   \n374                     Ed Sheeran With Chris Stapleton   \n379                              Ellie Goulding X Diplo   \n497                              Internet Money & Gunna   \n607                            Kane Brown With Swae Lee   \n654                              Khalid With John Mayer   \n1019                                        Post Malone   \n1178                                      The Kid LAROI   \n1249                                       Why Don't We   \n1254                            XXXTENTACION x Lil Pump   \n\n                                               song  weeks_on_chart  \\\n76                                          Ghostin               2   \n91                                    Thank U, Next              28   \n153                                        La Santa               2   \n182                                      Ocean Eyes              20   \n192               Mele Kalikimaka (Merry Christmas)               1   \n244                                     No Guidance              46   \n263                                       Wish Wish              15   \n321                                       Heartless              21   \n353                             Laugh Now Cry Later              19   \n506                                  the.climb.back               2   \n538                        Happy Xmas (War Is Over)               1   \n633                                    One Too Many               4   \n731                                 Blueberry Faygo              33   \n736                                   Old Town Road              45   \n842                 All I Want For Christmas Is You              43   \n887                             g n f (Give No Fxk)               1   \n970     It's Beginning To Look A Lot Like Christmas               8   \n993                           Tunnel Vision (Outro)               1   \n998                                           Diana               1   \n999                                   For The Night              25   \n1001                               Aim For The Moon               2   \n1005                                       Creature               1   \n1007                   Adderall (Corvette Corvette)               1   \n1009                                       Allergic               2   \n1010                                     Better Now              52   \n1017                                   Saint-Tropez               6   \n1042                                   The Greatest               1   \n1046                                    Rags2Riches              20   \n1050                                   Start Wit Me              13   \n1091                                       Senorita              37   \n1094                                       Mo Bamba              28   \n1104                                  Playing Games              20   \n1122                                       Cardigan              14   \n1131                                       Dorothea               1   \n1183                                Blinding Lights              55   \n1190                                 Scared To Live               1   \n1214                                     Goosebumps              35   \n1216                                     Sicko Mode              52   \n1247                                 Last Christmas              19   \n1320                            Chicken Noodle Soup               1   \n1003                                       Snitchin               1   \n190                      I'll Be Home For Christmas               1   \n231                           Favorite Time Of Year               4   \n727                                       The Voice               1   \n97                                            34+35               8   \n196                                  Nobody But You              25   \n339                                   How About Now               1   \n374                                            BLOW               2   \n379                                     Close To Me              25   \n497                                        Lemonade              19   \n607                                    Be Like That              21   \n654                                   Outta My Head               1   \n1019  Sunflower (Spider-Man: Into The Spider-Verse)              53   \n1178                              Fuck You, Goodbye               1   \n1249                                        Fallin'               1   \n1254                                Arms Around You              17   \n\n      peak_rank                                             lyrics  length  \\\n76           25                                            !Error!       7   \n91            1                                            !Error!       7   \n153          53                                            !Error!       7   \n182          84                                            !Error!       7   \n192          36                                           !NoSong!       8   \n244           5                                            !Error!       7   \n263          19                                            !Error!       7   \n321          39                                           !NoSong!       8   \n353           2                                            !Error!       7   \n506          52                                           !NoSong!       8   \n538          69                                           !NoSong!       8   \n633          62                                           !NoSong!       8   \n731           8                                            !Error!       7   \n736           1                                            !Error!       7   \n842           1                                            !Error!       7   \n887          48                                           !NoSong!       8   \n970          12                                           !NoSong!       8   \n993          79                                            !Error!       7   \n998          76                                            !Error!       7   \n999           6                                            !Error!       7   \n1001         34                                            !Error!       7   \n1005         57                                            !Error!       7   \n1007         84                                            !Error!       7   \n1009         37                                            !Error!       7   \n1010          3                                            !Error!       7   \n1017         18                                            !Error!       7   \n1042         78                                            !Error!       7   \n1046         12                                            !Error!       7   \n1050         56                                            !Error!       7   \n1091          1                                            !Error!       7   \n1094          6                                            !Error!       7   \n1104         16                                            !Error!       7   \n1122          1                                            !Error!       7   \n1131         67                                            !Error!       7   \n1183          1                                            !Error!       7   \n1190         24                                            !Error!       7   \n1214         32                                            !Error!       7   \n1216          1                                            !Error!       7   \n1247          9                                            !Error!       7   \n1320         81                                                NaN       3   \n1003         54  Definitely did take a long time 2020 been a sa...   16671   \n190          50  \"I Robot,\" Alan Parson's Project  \"I Walk The ...     561   \n231          62  Last updated: 10/6/2018, 5:16PM MST OctoberOct...   79241   \n727          62  IDK when i listened to these The Heist - Mackl...    9941   \n97            8  34+35 - Ariana Grande Never Change (feat. Futu...    1821   \n196          18  Harry Styles - Treat People With Kindness Alec...    2677   \n339          60  Ring My Bell - Anita Ward Brianstorm - Arctic ...    2633   \n374          60  Post Malone - Goodbyes (Feat. Young Thug) Mars...    2048   \n379          24  Ellie Goulding & Diplo - Close To Me (feat. Sw...    3082   \n497           6  Updated: August 13th, 2021 There are currently...    2863   \n607          19  1. Tata McRae- You Broke Me First 2. 24kGoldn-...    1903   \n654          58  Bazzi - Paradise Jonas Brothers - Cool Khalid ...    2735   \n1019          1  1. Post Malone- Circles 2. Post Malone- rockst...    1672   \n1178         99  1. The Kid LAROI- WITHOUT YOU 2. Justin Bieber...    1154   \n1249         37  Wonder - Shawn Mendes Bet You Wanna (feat. Car...    2702   \n1254         28  May 29, 2019 Update Cross Me - Ed Sheeran Stay...    2074   \n\n      word_count language  language_score  \\\n76             1       de        0.999996   \n91             1       de        0.857140   \n153            1       de        0.999995   \n182            1       de        0.999994   \n192            1       tl        0.999995   \n244            1       de        0.857139   \n263            1       de        0.714282   \n321            1       tl        0.999993   \n353            1       de        0.999997   \n506            1       tl        0.999995   \n538            1       tl        0.999995   \n633            1       tl        0.999996   \n731            1       de        0.999994   \n736            1       de        0.999993   \n842            1       de        0.999995   \n887            1       tl        0.999995   \n970            1       tl        0.999995   \n993            1       de        0.857139   \n998            1       de        0.999993   \n999            1       de        0.857137   \n1001           1       de        0.999994   \n1005           1       de        0.999994   \n1007           1       de        0.857139   \n1009           1       de        0.857139   \n1010           1       de        0.999995   \n1017           1       de        0.999995   \n1042           1       de        0.999995   \n1046           1       de        0.999995   \n1050           1       de        0.999996   \n1091           1       de        0.999996   \n1094           1       de        0.999983   \n1104           1       de        0.999995   \n1122           1       de        0.999995   \n1131           1       de        0.999996   \n1183           1       de        0.857138   \n1190           1       de        0.999995   \n1214           1       de        0.857139   \n1216           1       de        0.999995   \n1247           1       de        0.999996   \n1320           1        -       -1.000000   \n1003        3123       en        0.999996   \n190           91       en        0.999996   \n231        13651       en        0.999996   \n727         2069       en        0.999993   \n97           376       en        0.999996   \n196          541       en        0.999996   \n339          495       en        0.999996   \n374          375       en        0.999996   \n379          593       en        0.999996   \n497          415       en        0.999997   \n607          350       en        0.999998   \n654          522       en        0.999994   \n1019         294       en        0.999996   \n1178         220       en        0.999998   \n1249         521       en        0.999996   \n1254         412       en        0.999997   \n\n                                                   link  \n76      https://genius.com/Ariana-grande-ghostin-lyrics  \n91    https://genius.com/Ariana-grande-thank-u-next-...  \n153                                                      \n182   https://genius.com/Billie-eilish-ocean-eyes-ly...  \n192   https://genius.com/Bing-crosby-and-the-andrews...  \n244   https://genius.com/Chris-brown-no-guidance-lyrics  \n263       https://genius.com/Dj-khaled-wish-wish-lyrics  \n321           https://genius.com/Diplo-heartless-lyrics  \n353   https://genius.com/Drake-laugh-now-cry-later-l...  \n506   https://genius.com/J-cole-t-h-e-c-l-i-m-b-b-a-...  \n538   https://genius.com/John-lennon-and-yoko-ono-ha...  \n633   https://genius.com/Keith-urban-and-p-nk-one-to...  \n731   https://genius.com/Lil-mosey-blueberry-faygo-l...  \n736   https://genius.com/Lil-nas-x-old-town-road-lyrics  \n842   https://genius.com/Mariah-carey-all-i-want-for...  \n887         https://genius.com/Migos-give-no-fxk-lyrics  \n970   https://genius.com/Perry-como-its-beginning-to...  \n993   https://genius.com/Pop-smoke-tunnel-vision-out...  \n998           https://genius.com/Pop-smoke-diana-lyrics  \n999   https://genius.com/Pop-smoke-for-the-night-lyrics  \n1001  https://genius.com/Pop-smoke-aim-for-the-moon-...  \n1005       https://genius.com/Pop-smoke-creature-lyrics  \n1007  https://genius.com/Popp-hunna-adderall-corvett...  \n1009     https://genius.com/Post-malone-allergic-lyrics  \n1010   https://genius.com/Post-malone-better-now-lyrics  \n1017  https://genius.com/Post-malone-saint-tropez-ly...  \n1042    https://genius.com/Rod-wave-the-greatest-lyrics  \n1046     https://genius.com/Rod-wave-rags2riches-lyrics  \n1050  https://genius.com/Roddy-ricch-start-wit-me-ly...  \n1091  https://genius.com/Shawn-mendes-and-camila-cab...  \n1094       https://genius.com/Sheck-wes-mo-bamba-lyrics  \n1104  https://genius.com/Summer-walker-playing-games...  \n1122    https://genius.com/Taylor-swift-cardigan-lyrics  \n1131    https://genius.com/Taylor-swift-dorothea-lyrics  \n1183  https://genius.com/The-weeknd-blinding-lights-...  \n1190  https://genius.com/The-weeknd-scared-to-live-l...  \n1214  https://genius.com/Travis-scott-goosebumps-lyrics  \n1216  https://genius.com/Travis-scott-sicko-mode-lyrics  \n1247      https://genius.com/Wham-last-christmas-lyrics  \n1320  https://genius.com/J-hope-chicken-noodle-soup-...  \n1003      https://genius.com/Pop-smoke-snitching-lyrics  \n190   https://genius.com/Bing-crosby-ill-be-home-for...  \n231                                                      \n727        https://genius.com/Lil-durk-the-voice-lyrics  \n97        https://genius.com/Ariana-grande-34-35-lyrics  \n196   https://genius.com/Blake-shelton-nobody-but-yo...  \n339        https://genius.com/Drake-how-bout-now-lyrics  \n374   https://genius.com/Ed-sheeran-chris-stapleton-...  \n379   https://genius.com/Ellie-goulding-and-diplo-cl...  \n497   https://genius.com/Internet-money-lemonade-lyrics  \n607   https://genius.com/Kane-brown-swae-lee-and-kha...  \n654   https://genius.com/Khalid-and-john-mayer-outta...  \n1019  https://genius.com/Post-malone-and-swae-lee-su...  \n1178  https://genius.com/The-kid-laroi-fck-you-goodb...  \n1249  https://genius.com/Why-dont-we-fallin-adrenali...  \n1254  https://genius.com/Xxxtentacion-and-lil-pump-a...  ",
      "text/html": "<div>\n<style scoped>\n    .dataframe tbody tr th:only-of-type {\n        vertical-align: middle;\n    }\n\n    .dataframe tbody tr th {\n        vertical-align: top;\n    }\n\n    .dataframe thead th {\n        text-align: right;\n    }\n</style>\n<table border=\"1\" class=\"dataframe\">\n  <thead>\n    <tr style=\"text-align: right;\">\n      <th></th>\n      <th>id</th>\n      <th>artist</th>\n      <th>first_artist</th>\n      <th>song</th>\n      <th>weeks_on_chart</th>\n      <th>peak_rank</th>\n      <th>lyrics</th>\n      <th>length</th>\n      <th>word_count</th>\n      <th>language</th>\n      <th>language_score</th>\n      <th>link</th>\n    </tr>\n  </thead>\n  <tbody>\n    <tr>\n      <th>76</th>\n      <td>724</td>\n      <td>Ariana Grande</td>\n      <td>Ariana Grande</td>\n      <td>Ghostin</td>\n      <td>2</td>\n      <td>25</td>\n      <td>!Error!</td>\n      <td>7</td>\n      <td>1</td>\n      <td>de</td>\n      <td>0.999996</td>\n      <td>https://genius.com/Ariana-grande-ghostin-lyrics</td>\n    </tr>\n    <tr>\n      <th>91</th>\n      <td>0</td>\n      <td>Ariana Grande</td>\n      <td>Ariana Grande</td>\n      <td>Thank U, Next</td>\n      <td>28</td>\n      <td>1</td>\n      <td>!Error!</td>\n      <td>7</td>\n      <td>1</td>\n      <td>de</td>\n      <td>0.857140</td>\n      <td>https://genius.com/Ariana-grande-thank-u-next-...</td>\n    </tr>\n    <tr>\n      <th>153</th>\n      <td>6252</td>\n      <td>Bad Bunny X Daddy Yankee</td>\n      <td>Bad Bunny</td>\n      <td>La Santa</td>\n      <td>2</td>\n      <td>53</td>\n      <td>!Error!</td>\n      <td>7</td>\n      <td>1</td>\n      <td>de</td>\n      <td>0.999995</td>\n      <td></td>\n    </tr>\n    <tr>\n      <th>182</th>\n      <td>198</td>\n      <td>Billie Eilish</td>\n      <td>Billie Eilish</td>\n      <td>Ocean Eyes</td>\n      <td>20</td>\n      <td>84</td>\n      <td>!Error!</td>\n      <td>7</td>\n      <td>1</td>\n      <td>de</td>\n      <td>0.999994</td>\n      <td>https://genius.com/Billie-eilish-ocean-eyes-ly...</td>\n    </tr>\n    <tr>\n      <th>192</th>\n      <td>10435</td>\n      <td>Bing Crosby &amp; The Andrews Sisters</td>\n      <td>Bing Crosby</td>\n      <td>Mele Kalikimaka (Merry Christmas)</td>\n      <td>1</td>\n      <td>36</td>\n      <td>!NoSong!</td>\n      <td>8</td>\n      <td>1</td>\n      <td>tl</td>\n      <td>0.999995</td>\n      <td>https://genius.com/Bing-crosby-and-the-andrews...</td>\n    </tr>\n    <tr>\n      <th>244</th>\n      <td>2408</td>\n      <td>Chris Brown Featuring Drake</td>\n      <td>Chris Brown</td>\n      <td>No Guidance</td>\n      <td>46</td>\n      <td>5</td>\n      <td>!Error!</td>\n      <td>7</td>\n      <td>1</td>\n      <td>de</td>\n      <td>0.857139</td>\n      <td>https://genius.com/Chris-brown-no-guidance-lyrics</td>\n    </tr>\n    <tr>\n      <th>263</th>\n      <td>2118</td>\n      <td>DJ Khaled Featuring Cardi B &amp; 21 Savage</td>\n      <td>DJ Khaled</td>\n      <td>Wish Wish</td>\n      <td>15</td>\n      <td>19</td>\n      <td>!Error!</td>\n      <td>7</td>\n      <td>1</td>\n      <td>de</td>\n      <td>0.714282</td>\n      <td>https://genius.com/Dj-khaled-wish-wish-lyrics</td>\n    </tr>\n    <tr>\n      <th>321</th>\n      <td>3477</td>\n      <td>Diplo Presents Thomas Wesley Featuring Morgan ...</td>\n      <td>Diplo Presents Thomas Wesley</td>\n      <td>Heartless</td>\n      <td>21</td>\n      <td>39</td>\n      <td>!NoSong!</td>\n      <td>8</td>\n      <td>1</td>\n      <td>tl</td>\n      <td>0.999993</td>\n      <td>https://genius.com/Diplo-heartless-lyrics</td>\n    </tr>\n    <tr>\n      <th>353</th>\n      <td>8601</td>\n      <td>Drake Featuring Lil Durk</td>\n      <td>Drake</td>\n      <td>Laugh Now Cry Later</td>\n      <td>19</td>\n      <td>2</td>\n      <td>!Error!</td>\n      <td>7</td>\n      <td>1</td>\n      <td>de</td>\n      <td>0.999997</td>\n      <td>https://genius.com/Drake-laugh-now-cry-later-l...</td>\n    </tr>\n    <tr>\n      <th>506</th>\n      <td>8299</td>\n      <td>J. Cole</td>\n      <td>J. Cole</td>\n      <td>the.climb.back</td>\n      <td>2</td>\n      <td>52</td>\n      <td>!NoSong!</td>\n      <td>8</td>\n      <td>1</td>\n      <td>tl</td>\n      <td>0.999995</td>\n      <td>https://genius.com/J-cole-t-h-e-c-l-i-m-b-b-a-...</td>\n    </tr>\n    <tr>\n      <th>538</th>\n      <td>5268</td>\n      <td>John Legend</td>\n      <td>John Legend</td>\n      <td>Happy Xmas (War Is Over)</td>\n      <td>1</td>\n      <td>69</td>\n      <td>!NoSong!</td>\n      <td>8</td>\n      <td>1</td>\n      <td>tl</td>\n      <td>0.999995</td>\n      <td>https://genius.com/John-lennon-and-yoko-ono-ha...</td>\n    </tr>\n    <tr>\n      <th>633</th>\n      <td>9161</td>\n      <td>Keith Urban Duet With P!nk</td>\n      <td>Keith Urban Duet With P!nk</td>\n      <td>One Too Many</td>\n      <td>4</td>\n      <td>62</td>\n      <td>!NoSong!</td>\n      <td>8</td>\n      <td>1</td>\n      <td>tl</td>\n      <td>0.999996</td>\n      <td>https://genius.com/Keith-urban-and-p-nk-one-to...</td>\n    </tr>\n    <tr>\n      <th>731</th>\n      <td>5961</td>\n      <td>Lil Mosey</td>\n      <td>Lil Mosey</td>\n      <td>Blueberry Faygo</td>\n      <td>33</td>\n      <td>8</td>\n      <td>!Error!</td>\n      <td>7</td>\n      <td>1</td>\n      <td>de</td>\n      <td>0.999994</td>\n      <td>https://genius.com/Lil-mosey-blueberry-faygo-l...</td>\n    </tr>\n    <tr>\n      <th>736</th>\n      <td>1082</td>\n      <td>Lil Nas X Featuring Billy Ray Cyrus</td>\n      <td>Lil Nas X</td>\n      <td>Old Town Road</td>\n      <td>45</td>\n      <td>1</td>\n      <td>!Error!</td>\n      <td>7</td>\n      <td>1</td>\n      <td>de</td>\n      <td>0.999993</td>\n      <td>https://genius.com/Lil-nas-x-old-town-road-lyrics</td>\n    </tr>\n    <tr>\n      <th>842</th>\n      <td>2</td>\n      <td>Mariah Carey</td>\n      <td>Mariah Carey</td>\n      <td>All I Want For Christmas Is You</td>\n      <td>43</td>\n      <td>1</td>\n      <td>!Error!</td>\n      <td>7</td>\n      <td>1</td>\n      <td>de</td>\n      <td>0.999995</td>\n      <td>https://genius.com/Mariah-carey-all-i-want-for...</td>\n    </tr>\n    <tr>\n      <th>887</th>\n      <td>6047</td>\n      <td>Migos, Young Thug &amp; Travis Scott</td>\n      <td>Migos, Young Thug</td>\n      <td>g n f (Give No Fxk)</td>\n      <td>1</td>\n      <td>48</td>\n      <td>!NoSong!</td>\n      <td>8</td>\n      <td>1</td>\n      <td>tl</td>\n      <td>0.999995</td>\n      <td>https://genius.com/Migos-give-no-fxk-lyrics</td>\n    </tr>\n    <tr>\n      <th>970</th>\n      <td>34</td>\n      <td>Perry Como And The Fontane Sisters With Mitche...</td>\n      <td>Perry Como And The Fontane Sisters With Mitche...</td>\n      <td>It's Beginning To Look A Lot Like Christmas</td>\n      <td>8</td>\n      <td>12</td>\n      <td>!NoSong!</td>\n      <td>8</td>\n      <td>1</td>\n      <td>tl</td>\n      <td>0.999995</td>\n      <td>https://genius.com/Perry-como-its-beginning-to...</td>\n    </tr>\n    <tr>\n      <th>993</th>\n      <td>8078</td>\n      <td>Pop Smoke</td>\n      <td>Pop Smoke</td>\n      <td>Tunnel Vision (Outro)</td>\n      <td>1</td>\n      <td>79</td>\n      <td>!Error!</td>\n      <td>7</td>\n      <td>1</td>\n      <td>de</td>\n      <td>0.857139</td>\n      <td>https://genius.com/Pop-smoke-tunnel-vision-out...</td>\n    </tr>\n    <tr>\n      <th>998</th>\n      <td>8075</td>\n      <td>Pop Smoke Featuring King Combs</td>\n      <td>Pop Smoke</td>\n      <td>Diana</td>\n      <td>1</td>\n      <td>76</td>\n      <td>!Error!</td>\n      <td>7</td>\n      <td>1</td>\n      <td>de</td>\n      <td>0.999993</td>\n      <td>https://genius.com/Pop-smoke-diana-lyrics</td>\n    </tr>\n    <tr>\n      <th>999</th>\n      <td>8005</td>\n      <td>Pop Smoke Featuring Lil Baby &amp; DaBaby</td>\n      <td>Pop Smoke</td>\n      <td>For The Night</td>\n      <td>25</td>\n      <td>6</td>\n      <td>!Error!</td>\n      <td>7</td>\n      <td>1</td>\n      <td>de</td>\n      <td>0.857137</td>\n      <td>https://genius.com/Pop-smoke-for-the-night-lyrics</td>\n    </tr>\n    <tr>\n      <th>1001</th>\n      <td>8033</td>\n      <td>Pop Smoke Featuring Quavo</td>\n      <td>Pop Smoke</td>\n      <td>Aim For The Moon</td>\n      <td>2</td>\n      <td>34</td>\n      <td>!Error!</td>\n      <td>7</td>\n      <td>1</td>\n      <td>de</td>\n      <td>0.999994</td>\n      <td>https://genius.com/Pop-smoke-aim-for-the-moon-...</td>\n    </tr>\n    <tr>\n      <th>1005</th>\n      <td>8056</td>\n      <td>Pop Smoke Featuring Swae Lee</td>\n      <td>Pop Smoke</td>\n      <td>Creature</td>\n      <td>1</td>\n      <td>57</td>\n      <td>!Error!</td>\n      <td>7</td>\n      <td>1</td>\n      <td>de</td>\n      <td>0.999994</td>\n      <td>https://genius.com/Pop-smoke-creature-lyrics</td>\n    </tr>\n    <tr>\n      <th>1007</th>\n      <td>10483</td>\n      <td>Popp Hunna</td>\n      <td>Popp Hunna</td>\n      <td>Adderall (Corvette Corvette)</td>\n      <td>1</td>\n      <td>84</td>\n      <td>!Error!</td>\n      <td>7</td>\n      <td>1</td>\n      <td>de</td>\n      <td>0.857139</td>\n      <td>https://genius.com/Popp-hunna-adderall-corvett...</td>\n    </tr>\n    <tr>\n      <th>1009</th>\n      <td>3736</td>\n      <td>Post Malone</td>\n      <td>Post Malone</td>\n      <td>Allergic</td>\n      <td>2</td>\n      <td>37</td>\n      <td>!Error!</td>\n      <td>7</td>\n      <td>1</td>\n      <td>de</td>\n      <td>0.857139</td>\n      <td>https://genius.com/Post-malone-allergic-lyrics</td>\n    </tr>\n    <tr>\n      <th>1010</th>\n      <td>22</td>\n      <td>Post Malone</td>\n      <td>Post Malone</td>\n      <td>Better Now</td>\n      <td>52</td>\n      <td>3</td>\n      <td>!Error!</td>\n      <td>7</td>\n      <td>1</td>\n      <td>de</td>\n      <td>0.999995</td>\n      <td>https://genius.com/Post-malone-better-now-lyrics</td>\n    </tr>\n    <tr>\n      <th>1017</th>\n      <td>3717</td>\n      <td>Post Malone</td>\n      <td>Post Malone</td>\n      <td>Saint-Tropez</td>\n      <td>6</td>\n      <td>18</td>\n      <td>!Error!</td>\n      <td>7</td>\n      <td>1</td>\n      <td>de</td>\n      <td>0.999995</td>\n      <td>https://genius.com/Post-malone-saint-tropez-ly...</td>\n    </tr>\n    <tr>\n      <th>1042</th>\n      <td>6777</td>\n      <td>Rod Wave</td>\n      <td>Rod Wave</td>\n      <td>The Greatest</td>\n      <td>1</td>\n      <td>78</td>\n      <td>!Error!</td>\n      <td>7</td>\n      <td>1</td>\n      <td>de</td>\n      <td>0.999995</td>\n      <td>https://genius.com/Rod-wave-the-greatest-lyrics</td>\n    </tr>\n    <tr>\n      <th>1046</th>\n      <td>7995</td>\n      <td>Rod Wave Featuring ATR Son Son</td>\n      <td>Rod Wave</td>\n      <td>Rags2Riches</td>\n      <td>20</td>\n      <td>12</td>\n      <td>!Error!</td>\n      <td>7</td>\n      <td>1</td>\n      <td>de</td>\n      <td>0.999995</td>\n      <td>https://genius.com/Rod-wave-rags2riches-lyrics</td>\n    </tr>\n    <tr>\n      <th>1050</th>\n      <td>4474</td>\n      <td>Roddy Ricch &amp; Gunna</td>\n      <td>Roddy Ricch</td>\n      <td>Start Wit Me</td>\n      <td>13</td>\n      <td>56</td>\n      <td>!Error!</td>\n      <td>7</td>\n      <td>1</td>\n      <td>de</td>\n      <td>0.999996</td>\n      <td>https://genius.com/Roddy-ricch-start-wit-me-ly...</td>\n    </tr>\n    <tr>\n      <th>1091</th>\n      <td>2601</td>\n      <td>Shawn Mendes &amp; Camila Cabello</td>\n      <td>Shawn Mendes</td>\n      <td>Senorita</td>\n      <td>37</td>\n      <td>1</td>\n      <td>!Error!</td>\n      <td>7</td>\n      <td>1</td>\n      <td>de</td>\n      <td>0.999996</td>\n      <td>https://genius.com/Shawn-mendes-and-camila-cab...</td>\n    </tr>\n    <tr>\n      <th>1094</th>\n      <td>16</td>\n      <td>Sheck Wes</td>\n      <td>Sheck Wes</td>\n      <td>Mo Bamba</td>\n      <td>28</td>\n      <td>6</td>\n      <td>!Error!</td>\n      <td>7</td>\n      <td>1</td>\n      <td>de</td>\n      <td>0.999983</td>\n      <td>https://genius.com/Sheck-wes-mo-bamba-lyrics</td>\n    </tr>\n    <tr>\n      <th>1104</th>\n      <td>3586</td>\n      <td>Summer Walker</td>\n      <td>Summer Walker</td>\n      <td>Playing Games</td>\n      <td>20</td>\n      <td>16</td>\n      <td>!Error!</td>\n      <td>7</td>\n      <td>1</td>\n      <td>de</td>\n      <td>0.999995</td>\n      <td>https://genius.com/Summer-walker-playing-games...</td>\n    </tr>\n    <tr>\n      <th>1122</th>\n      <td>8300</td>\n      <td>Taylor Swift</td>\n      <td>Taylor Swift</td>\n      <td>Cardigan</td>\n      <td>14</td>\n      <td>1</td>\n      <td>!Error!</td>\n      <td>7</td>\n      <td>1</td>\n      <td>de</td>\n      <td>0.999995</td>\n      <td>https://genius.com/Taylor-swift-cardigan-lyrics</td>\n    </tr>\n    <tr>\n      <th>1131</th>\n      <td>10366</td>\n      <td>Taylor Swift</td>\n      <td>Taylor Swift</td>\n      <td>Dorothea</td>\n      <td>1</td>\n      <td>67</td>\n      <td>!Error!</td>\n      <td>7</td>\n      <td>1</td>\n      <td>de</td>\n      <td>0.999996</td>\n      <td>https://genius.com/Taylor-swift-dorothea-lyrics</td>\n    </tr>\n    <tr>\n      <th>1183</th>\n      <td>4910</td>\n      <td>The Weeknd</td>\n      <td>The Weeknd</td>\n      <td>Blinding Lights</td>\n      <td>55</td>\n      <td>1</td>\n      <td>!Error!</td>\n      <td>7</td>\n      <td>1</td>\n      <td>de</td>\n      <td>0.857138</td>\n      <td>https://genius.com/The-weeknd-blinding-lights-...</td>\n    </tr>\n    <tr>\n      <th>1190</th>\n      <td>6523</td>\n      <td>The Weeknd</td>\n      <td>The Weeknd</td>\n      <td>Scared To Live</td>\n      <td>1</td>\n      <td>24</td>\n      <td>!Error!</td>\n      <td>7</td>\n      <td>1</td>\n      <td>de</td>\n      <td>0.999995</td>\n      <td>https://genius.com/The-weeknd-scared-to-live-l...</td>\n    </tr>\n    <tr>\n      <th>1214</th>\n      <td>7048</td>\n      <td>Travis Scott</td>\n      <td>Travis Scott</td>\n      <td>Goosebumps</td>\n      <td>35</td>\n      <td>32</td>\n      <td>!Error!</td>\n      <td>7</td>\n      <td>1</td>\n      <td>de</td>\n      <td>0.857139</td>\n      <td>https://genius.com/Travis-scott-goosebumps-lyrics</td>\n    </tr>\n    <tr>\n      <th>1216</th>\n      <td>3</td>\n      <td>Travis Scott</td>\n      <td>Travis Scott</td>\n      <td>Sicko Mode</td>\n      <td>52</td>\n      <td>1</td>\n      <td>!Error!</td>\n      <td>7</td>\n      <td>1</td>\n      <td>de</td>\n      <td>0.999995</td>\n      <td>https://genius.com/Travis-scott-sicko-mode-lyrics</td>\n    </tr>\n    <tr>\n      <th>1247</th>\n      <td>24</td>\n      <td>Wham!</td>\n      <td>Wham!</td>\n      <td>Last Christmas</td>\n      <td>19</td>\n      <td>9</td>\n      <td>!Error!</td>\n      <td>7</td>\n      <td>1</td>\n      <td>de</td>\n      <td>0.999996</td>\n      <td>https://genius.com/Wham-last-christmas-lyrics</td>\n    </tr>\n    <tr>\n      <th>1320</th>\n      <td>4080</td>\n      <td>j-hope Featuring Becky G.</td>\n      <td>j-hope</td>\n      <td>Chicken Noodle Soup</td>\n      <td>1</td>\n      <td>81</td>\n      <td>NaN</td>\n      <td>3</td>\n      <td>1</td>\n      <td>-</td>\n      <td>-1.000000</td>\n      <td>https://genius.com/J-hope-chicken-noodle-soup-...</td>\n    </tr>\n    <tr>\n      <th>1003</th>\n      <td>8053</td>\n      <td>Pop Smoke Featuring Quavo &amp; Future</td>\n      <td>Pop Smoke</td>\n      <td>Snitchin</td>\n      <td>1</td>\n      <td>54</td>\n      <td>Definitely did take a long time 2020 been a sa...</td>\n      <td>16671</td>\n      <td>3123</td>\n      <td>en</td>\n      <td>0.999996</td>\n      <td>https://genius.com/Pop-smoke-snitching-lyrics</td>\n    </tr>\n    <tr>\n      <th>190</th>\n      <td>10449</td>\n      <td>Bing Crosby</td>\n      <td>Bing Crosby</td>\n      <td>I'll Be Home For Christmas</td>\n      <td>1</td>\n      <td>50</td>\n      <td>\"I Robot,\" Alan Parson's Project  \"I Walk The ...</td>\n      <td>561</td>\n      <td>91</td>\n      <td>en</td>\n      <td>0.999996</td>\n      <td>https://genius.com/Bing-crosby-ill-be-home-for...</td>\n    </tr>\n    <tr>\n      <th>231</th>\n      <td>10194</td>\n      <td>Carrie Underwood</td>\n      <td>Carrie Underwood</td>\n      <td>Favorite Time Of Year</td>\n      <td>4</td>\n      <td>62</td>\n      <td>Last updated: 10/6/2018, 5:16PM MST OctoberOct...</td>\n      <td>79241</td>\n      <td>13651</td>\n      <td>en</td>\n      <td>0.999996</td>\n      <td></td>\n    </tr>\n    <tr>\n      <th>727</th>\n      <td>8961</td>\n      <td>Lil Durk</td>\n      <td>Lil Durk</td>\n      <td>The Voice</td>\n      <td>1</td>\n      <td>62</td>\n      <td>IDK when i listened to these The Heist - Mackl...</td>\n      <td>9941</td>\n      <td>2069</td>\n      <td>en</td>\n      <td>0.999993</td>\n      <td>https://genius.com/Lil-durk-the-voice-lyrics</td>\n    </tr>\n    <tr>\n      <th>97</th>\n      <td>9707</td>\n      <td>Ariana Grande Feat. Doja Cat &amp; Megan Thee Stal...</td>\n      <td>Ariana Grande Feat. Doja Cat</td>\n      <td>34+35</td>\n      <td>8</td>\n      <td>8</td>\n      <td>34+35 - Ariana Grande Never Change (feat. Futu...</td>\n      <td>1821</td>\n      <td>376</td>\n      <td>en</td>\n      <td>0.999996</td>\n      <td>https://genius.com/Ariana-grande-34-35-lyrics</td>\n    </tr>\n    <tr>\n      <th>196</th>\n      <td>5178</td>\n      <td>Blake Shelton Duet With Gwen Stefani</td>\n      <td>Blake Shelton Duet With Gwen Stefani</td>\n      <td>Nobody But You</td>\n      <td>25</td>\n      <td>18</td>\n      <td>Harry Styles - Treat People With Kindness Alec...</td>\n      <td>2677</td>\n      <td>541</td>\n      <td>en</td>\n      <td>0.999996</td>\n      <td>https://genius.com/Blake-shelton-nobody-but-yo...</td>\n    </tr>\n    <tr>\n      <th>339</th>\n      <td>3259</td>\n      <td>Drake</td>\n      <td>Drake</td>\n      <td>How About Now</td>\n      <td>1</td>\n      <td>60</td>\n      <td>Ring My Bell - Anita Ward Brianstorm - Arctic ...</td>\n      <td>2633</td>\n      <td>495</td>\n      <td>en</td>\n      <td>0.999996</td>\n      <td>https://genius.com/Drake-how-bout-now-lyrics</td>\n    </tr>\n    <tr>\n      <th>374</th>\n      <td>2859</td>\n      <td>Ed Sheeran With Chris Stapleton &amp; Bruno Mars</td>\n      <td>Ed Sheeran With Chris Stapleton</td>\n      <td>BLOW</td>\n      <td>2</td>\n      <td>60</td>\n      <td>Post Malone - Goodbyes (Feat. Young Thug) Mars...</td>\n      <td>2048</td>\n      <td>375</td>\n      <td>en</td>\n      <td>0.999996</td>\n      <td>https://genius.com/Ed-sheeran-chris-stapleton-...</td>\n    </tr>\n    <tr>\n      <th>379</th>\n      <td>59</td>\n      <td>Ellie Goulding X Diplo Featuring Swae Lee</td>\n      <td>Ellie Goulding X Diplo</td>\n      <td>Close To Me</td>\n      <td>25</td>\n      <td>24</td>\n      <td>Ellie Goulding &amp; Diplo - Close To Me (feat. Sw...</td>\n      <td>3082</td>\n      <td>593</td>\n      <td>en</td>\n      <td>0.999996</td>\n      <td>https://genius.com/Ellie-goulding-and-diplo-cl...</td>\n    </tr>\n    <tr>\n      <th>497</th>\n      <td>8665</td>\n      <td>Internet Money &amp; Gunna Featuring Don Toliver &amp;...</td>\n      <td>Internet Money &amp; Gunna</td>\n      <td>Lemonade</td>\n      <td>19</td>\n      <td>6</td>\n      <td>Updated: August 13th, 2021 There are currently...</td>\n      <td>2863</td>\n      <td>415</td>\n      <td>en</td>\n      <td>0.999997</td>\n      <td>https://genius.com/Internet-money-lemonade-lyrics</td>\n    </tr>\n    <tr>\n      <th>607</th>\n      <td>8172</td>\n      <td>Kane Brown With Swae Lee &amp; Khalid</td>\n      <td>Kane Brown With Swae Lee</td>\n      <td>Be Like That</td>\n      <td>21</td>\n      <td>19</td>\n      <td>1. Tata McRae- You Broke Me First 2. 24kGoldn-...</td>\n      <td>1903</td>\n      <td>350</td>\n      <td>en</td>\n      <td>0.999998</td>\n      <td>https://genius.com/Kane-brown-swae-lee-and-kha...</td>\n    </tr>\n    <tr>\n      <th>654</th>\n      <td>1557</td>\n      <td>Khalid With John Mayer</td>\n      <td>Khalid With John Mayer</td>\n      <td>Outta My Head</td>\n      <td>1</td>\n      <td>58</td>\n      <td>Bazzi - Paradise Jonas Brothers - Cool Khalid ...</td>\n      <td>2735</td>\n      <td>522</td>\n      <td>en</td>\n      <td>0.999994</td>\n      <td>https://genius.com/Khalid-and-john-mayer-outta...</td>\n    </tr>\n    <tr>\n      <th>1019</th>\n      <td>4</td>\n      <td>Post Malone &amp; Swae Lee</td>\n      <td>Post Malone</td>\n      <td>Sunflower (Spider-Man: Into The Spider-Verse)</td>\n      <td>53</td>\n      <td>1</td>\n      <td>1. Post Malone- Circles 2. Post Malone- rockst...</td>\n      <td>1672</td>\n      <td>294</td>\n      <td>en</td>\n      <td>0.999996</td>\n      <td>https://genius.com/Post-malone-and-swae-lee-su...</td>\n    </tr>\n    <tr>\n      <th>1178</th>\n      <td>9898</td>\n      <td>The Kid LAROI Featuring Machine Gun Kelly</td>\n      <td>The Kid LAROI</td>\n      <td>Fuck You, Goodbye</td>\n      <td>1</td>\n      <td>99</td>\n      <td>1. The Kid LAROI- WITHOUT YOU 2. Justin Bieber...</td>\n      <td>1154</td>\n      <td>220</td>\n      <td>en</td>\n      <td>0.999998</td>\n      <td>https://genius.com/The-kid-laroi-fck-you-goodb...</td>\n    </tr>\n    <tr>\n      <th>1249</th>\n      <td>9336</td>\n      <td>Why Don't We</td>\n      <td>Why Don't We</td>\n      <td>Fallin'</td>\n      <td>1</td>\n      <td>37</td>\n      <td>Wonder - Shawn Mendes Bet You Wanna (feat. Car...</td>\n      <td>2702</td>\n      <td>521</td>\n      <td>en</td>\n      <td>0.999996</td>\n      <td>https://genius.com/Why-dont-we-fallin-adrenali...</td>\n    </tr>\n    <tr>\n      <th>1254</th>\n      <td>76</td>\n      <td>XXXTENTACION x Lil Pump Featuring Maluma &amp; Swa...</td>\n      <td>XXXTENTACION x Lil Pump</td>\n      <td>Arms Around You</td>\n      <td>17</td>\n      <td>28</td>\n      <td>May 29, 2019 Update Cross Me - Ed Sheeran Stay...</td>\n      <td>2074</td>\n      <td>412</td>\n      <td>en</td>\n      <td>0.999997</td>\n      <td>https://genius.com/Xxxtentacion-and-lil-pump-a...</td>\n    </tr>\n  </tbody>\n</table>\n</div>"
     },
     "execution_count": 21,
     "metadata": {},
     "output_type": "execute_result"
    }
   ],
   "source": [
    "lyrics_links = [\n",
    "    'https://genius.com/Ariana-grande-ghostin-lyrics',\n",
    "    'https://genius.com/Ariana-grande-thank-u-next-lyrics',\n",
    "    '',\n",
    "    'https://genius.com/Billie-eilish-ocean-eyes-lyrics',\n",
    "    'https://genius.com/Bing-crosby-and-the-andrews-sisters-mele-kalikimaka-lyrics',\n",
    "    'https://genius.com/Chris-brown-no-guidance-lyrics',\n",
    "    'https://genius.com/Dj-khaled-wish-wish-lyrics',\n",
    "    'https://genius.com/Diplo-heartless-lyrics',\n",
    "    'https://genius.com/Drake-laugh-now-cry-later-lyrics',\n",
    "    'https://genius.com/J-cole-t-h-e-c-l-i-m-b-b-a-c-k-lyrics',\n",
    "    'https://genius.com/John-lennon-and-yoko-ono-happy-xmas-war-is-over-lyrics',\n",
    "    'https://genius.com/Keith-urban-and-p-nk-one-too-many-lyrics',\n",
    "    'https://genius.com/Lil-mosey-blueberry-faygo-lyrics',\n",
    "    'https://genius.com/Lil-nas-x-old-town-road-lyrics',\n",
    "    'https://genius.com/Mariah-carey-all-i-want-for-christmas-is-you-lyrics',\n",
    "    'https://genius.com/Migos-give-no-fxk-lyrics',\n",
    "    'https://genius.com/Perry-como-its-beginning-to-look-a-lot-like-christmas-lyrics',\n",
    "    'https://genius.com/Pop-smoke-tunnel-vision-outro-lyrics',\n",
    "    'https://genius.com/Pop-smoke-diana-lyrics',\n",
    "    'https://genius.com/Pop-smoke-for-the-night-lyrics',\n",
    "    'https://genius.com/Pop-smoke-aim-for-the-moon-lyrics',\n",
    "    'https://genius.com/Pop-smoke-creature-lyrics',\n",
    "    'https://genius.com/Popp-hunna-adderall-corvette-corvette-lyrics',\n",
    "    'https://genius.com/Post-malone-allergic-lyrics',\n",
    "    'https://genius.com/Post-malone-better-now-lyrics',\n",
    "    'https://genius.com/Post-malone-saint-tropez-lyrics',\n",
    "    'https://genius.com/Rod-wave-the-greatest-lyrics',\n",
    "    'https://genius.com/Rod-wave-rags2riches-lyrics',\n",
    "    'https://genius.com/Roddy-ricch-start-wit-me-lyrics',\n",
    "    'https://genius.com/Shawn-mendes-and-camila-cabello-senorita-lyrics',\n",
    "    'https://genius.com/Sheck-wes-mo-bamba-lyrics',\n",
    "    'https://genius.com/Summer-walker-playing-games-lyrics',\n",
    "    'https://genius.com/Taylor-swift-cardigan-lyrics',\n",
    "    'https://genius.com/Taylor-swift-dorothea-lyrics',\n",
    "    'https://genius.com/The-weeknd-blinding-lights-lyrics',\n",
    "    'https://genius.com/The-weeknd-scared-to-live-lyrics',\n",
    "    'https://genius.com/Travis-scott-goosebumps-lyrics',\n",
    "    'https://genius.com/Travis-scott-sicko-mode-lyrics',\n",
    "    'https://genius.com/Wham-last-christmas-lyrics',\n",
    "    'https://genius.com/J-hope-chicken-noodle-soup-lyrics',\n",
    "    'https://genius.com/Pop-smoke-snitching-lyrics',\n",
    "    'https://genius.com/Bing-crosby-ill-be-home-for-christmas-if-only-in-my-dreams-lyrics',\n",
    "    '',\n",
    "    'https://genius.com/Lil-durk-the-voice-lyrics',\n",
    "     'https://genius.com/Ariana-grande-34-35-lyrics',\n",
    "    'https://genius.com/Blake-shelton-nobody-but-you-lyrics',\n",
    "'https://genius.com/Drake-how-bout-now-lyrics',\n",
    "    'https://genius.com/Ed-sheeran-chris-stapleton-and-bruno-mars-blow-lyrics',\n",
    "    'https://genius.com/Ellie-goulding-and-diplo-close-to-me-lyrics',\n",
    "    'https://genius.com/Internet-money-lemonade-lyrics',\n",
    "    'https://genius.com/Kane-brown-swae-lee-and-khalid-be-like-that-lyrics',\n",
    "    'https://genius.com/Khalid-and-john-mayer-outta-my-head-lyrics',\n",
    "'https://genius.com/Post-malone-and-swae-lee-sunflower-lyrics',\n",
    "    'https://genius.com/The-kid-laroi-fck-you-goodbye-lyrics',\n",
    "    'https://genius.com/Why-dont-we-fallin-adrenaline-lyrics',\n",
    "    'https://genius.com/Xxxtentacion-and-lil-pump-arms-around-you-lyrics'\n",
    "\n",
    "]\n",
    "missing_lyrics['link'] = lyrics_links\n",
    "missing_lyrics\n"
   ],
   "metadata": {
    "collapsed": false,
    "pycharm": {
     "name": "#%%\n"
    }
   }
  },
  {
   "cell_type": "markdown",
   "source": [
    "#### Export to run LyricsGenius on remaining lyrics\n",
    "\n"
   ],
   "metadata": {
    "collapsed": false,
    "pycharm": {
     "name": "#%% md\n"
    }
   }
  },
  {
   "cell_type": "code",
   "execution_count": 22,
   "outputs": [],
   "source": [
    "missing_lyrics.to_excel('data/lyrics/missing_lyrics.xlsx', encoding='utf-8')"
   ],
   "metadata": {
    "collapsed": false,
    "pycharm": {
     "name": "#%%\n"
    }
   }
  },
  {
   "cell_type": "markdown",
   "source": [
    "#### Now the lyrics are nearly complete"
   ],
   "metadata": {
    "collapsed": false,
    "pycharm": {
     "name": "#%% md\n"
    }
   }
  },
  {
   "cell_type": "code",
   "execution_count": 28,
   "outputs": [
    {
     "data": {
      "text/plain": "        id                             artist   first_artist  \\\n76     724                      Ariana Grande  Ariana Grande   \n91       0                      Ariana Grande  Ariana Grande   \n153   6252           Bad Bunny X Daddy Yankee      Bad Bunny   \n182    198                      Billie Eilish  Billie Eilish   \n192  10435  Bing Crosby & The Andrews Sisters    Bing Crosby   \n\n                                  song  weeks_on_chart  peak_rank  \\\n76                             Ghostin               2         25   \n91                       Thank U, Next              28          1   \n153                           La Santa               2         53   \n182                         Ocean Eyes              20         84   \n192  Mele Kalikimaka (Merry Christmas)               1         36   \n\n                                                lyrics  length  word_count  \\\n76   I know you hear me when I cry I try to hold it...       7           1   \n91   Thought I'd end up with Sean But he wasn't a m...       7           1   \n153                                            !Error!       7           1   \n182  I've been watchin' you for some time Can't sto...       7           1   \n192  Mele Kalikimaka is the thing to say On a brigh...       8           1   \n\n    language  language_score  \n76        de        0.999996  \n91        de        0.857140  \n153       de        0.999995  \n182       de        0.999994  \n192       tl        0.999995  ",
      "text/html": "<div>\n<style scoped>\n    .dataframe tbody tr th:only-of-type {\n        vertical-align: middle;\n    }\n\n    .dataframe tbody tr th {\n        vertical-align: top;\n    }\n\n    .dataframe thead th {\n        text-align: right;\n    }\n</style>\n<table border=\"1\" class=\"dataframe\">\n  <thead>\n    <tr style=\"text-align: right;\">\n      <th></th>\n      <th>id</th>\n      <th>artist</th>\n      <th>first_artist</th>\n      <th>song</th>\n      <th>weeks_on_chart</th>\n      <th>peak_rank</th>\n      <th>lyrics</th>\n      <th>length</th>\n      <th>word_count</th>\n      <th>language</th>\n      <th>language_score</th>\n    </tr>\n  </thead>\n  <tbody>\n    <tr>\n      <th>76</th>\n      <td>724</td>\n      <td>Ariana Grande</td>\n      <td>Ariana Grande</td>\n      <td>Ghostin</td>\n      <td>2</td>\n      <td>25</td>\n      <td>I know you hear me when I cry I try to hold it...</td>\n      <td>7</td>\n      <td>1</td>\n      <td>de</td>\n      <td>0.999996</td>\n    </tr>\n    <tr>\n      <th>91</th>\n      <td>0</td>\n      <td>Ariana Grande</td>\n      <td>Ariana Grande</td>\n      <td>Thank U, Next</td>\n      <td>28</td>\n      <td>1</td>\n      <td>Thought I'd end up with Sean But he wasn't a m...</td>\n      <td>7</td>\n      <td>1</td>\n      <td>de</td>\n      <td>0.857140</td>\n    </tr>\n    <tr>\n      <th>153</th>\n      <td>6252</td>\n      <td>Bad Bunny X Daddy Yankee</td>\n      <td>Bad Bunny</td>\n      <td>La Santa</td>\n      <td>2</td>\n      <td>53</td>\n      <td>!Error!</td>\n      <td>7</td>\n      <td>1</td>\n      <td>de</td>\n      <td>0.999995</td>\n    </tr>\n    <tr>\n      <th>182</th>\n      <td>198</td>\n      <td>Billie Eilish</td>\n      <td>Billie Eilish</td>\n      <td>Ocean Eyes</td>\n      <td>20</td>\n      <td>84</td>\n      <td>I've been watchin' you for some time Can't sto...</td>\n      <td>7</td>\n      <td>1</td>\n      <td>de</td>\n      <td>0.999994</td>\n    </tr>\n    <tr>\n      <th>192</th>\n      <td>10435</td>\n      <td>Bing Crosby &amp; The Andrews Sisters</td>\n      <td>Bing Crosby</td>\n      <td>Mele Kalikimaka (Merry Christmas)</td>\n      <td>1</td>\n      <td>36</td>\n      <td>Mele Kalikimaka is the thing to say On a brigh...</td>\n      <td>8</td>\n      <td>1</td>\n      <td>tl</td>\n      <td>0.999995</td>\n    </tr>\n  </tbody>\n</table>\n</div>"
     },
     "execution_count": 28,
     "metadata": {},
     "output_type": "execute_result"
    }
   ],
   "source": [
    "missing_lyrics_complete = pd.read_csv('data/lyrics/missing_lyrics.csv')\n",
    "missing_lyrics_complete.set_index('Unnamed: 0.1', inplace=True)\n",
    "missing_lyrics_complete.index.name = None\n",
    "missing_lyrics_complete = missing_lyrics_complete.drop(['Unnamed: 0', 'link'], axis=1)\n",
    "missing_lyrics_complete.head()"
   ],
   "metadata": {
    "collapsed": false,
    "pycharm": {
     "name": "#%%\n"
    }
   }
  },
  {
   "cell_type": "code",
   "execution_count": 29,
   "outputs": [
    {
     "data": {
      "text/plain": "        id                             artist   first_artist  \\\n76     724                      Ariana Grande  Ariana Grande   \n91       0                      Ariana Grande  Ariana Grande   \n153   6252           Bad Bunny X Daddy Yankee      Bad Bunny   \n182    198                      Billie Eilish  Billie Eilish   \n192  10435  Bing Crosby & The Andrews Sisters    Bing Crosby   \n\n                                  song  weeks_on_chart  peak_rank  \\\n76                             Ghostin               2         25   \n91                       Thank U, Next              28          1   \n153                           La Santa               2         53   \n182                         Ocean Eyes              20         84   \n192  Mele Kalikimaka (Merry Christmas)               1         36   \n\n                                                lyrics  length  word_count  \\\n76   I know you hear me when I cry I try to hold it...    1709         342   \n91   Thought I'd end up with Sean But he wasn't a m...    2427         459   \n153                                            !Error!       7           1   \n182  I've been watchin' you for some time Can't sto...    1196         211   \n192  Mele Kalikimaka is the thing to say On a brigh...    1216         230   \n\n    language  language_score  \n76        en        0.999997  \n91        en        0.999996  \n153       de        0.999994  \n182       en        0.999997  \n192       en        0.999995  ",
      "text/html": "<div>\n<style scoped>\n    .dataframe tbody tr th:only-of-type {\n        vertical-align: middle;\n    }\n\n    .dataframe tbody tr th {\n        vertical-align: top;\n    }\n\n    .dataframe thead th {\n        text-align: right;\n    }\n</style>\n<table border=\"1\" class=\"dataframe\">\n  <thead>\n    <tr style=\"text-align: right;\">\n      <th></th>\n      <th>id</th>\n      <th>artist</th>\n      <th>first_artist</th>\n      <th>song</th>\n      <th>weeks_on_chart</th>\n      <th>peak_rank</th>\n      <th>lyrics</th>\n      <th>length</th>\n      <th>word_count</th>\n      <th>language</th>\n      <th>language_score</th>\n    </tr>\n  </thead>\n  <tbody>\n    <tr>\n      <th>76</th>\n      <td>724</td>\n      <td>Ariana Grande</td>\n      <td>Ariana Grande</td>\n      <td>Ghostin</td>\n      <td>2</td>\n      <td>25</td>\n      <td>I know you hear me when I cry I try to hold it...</td>\n      <td>1709</td>\n      <td>342</td>\n      <td>en</td>\n      <td>0.999997</td>\n    </tr>\n    <tr>\n      <th>91</th>\n      <td>0</td>\n      <td>Ariana Grande</td>\n      <td>Ariana Grande</td>\n      <td>Thank U, Next</td>\n      <td>28</td>\n      <td>1</td>\n      <td>Thought I'd end up with Sean But he wasn't a m...</td>\n      <td>2427</td>\n      <td>459</td>\n      <td>en</td>\n      <td>0.999996</td>\n    </tr>\n    <tr>\n      <th>153</th>\n      <td>6252</td>\n      <td>Bad Bunny X Daddy Yankee</td>\n      <td>Bad Bunny</td>\n      <td>La Santa</td>\n      <td>2</td>\n      <td>53</td>\n      <td>!Error!</td>\n      <td>7</td>\n      <td>1</td>\n      <td>de</td>\n      <td>0.999994</td>\n    </tr>\n    <tr>\n      <th>182</th>\n      <td>198</td>\n      <td>Billie Eilish</td>\n      <td>Billie Eilish</td>\n      <td>Ocean Eyes</td>\n      <td>20</td>\n      <td>84</td>\n      <td>I've been watchin' you for some time Can't sto...</td>\n      <td>1196</td>\n      <td>211</td>\n      <td>en</td>\n      <td>0.999997</td>\n    </tr>\n    <tr>\n      <th>192</th>\n      <td>10435</td>\n      <td>Bing Crosby &amp; The Andrews Sisters</td>\n      <td>Bing Crosby</td>\n      <td>Mele Kalikimaka (Merry Christmas)</td>\n      <td>1</td>\n      <td>36</td>\n      <td>Mele Kalikimaka is the thing to say On a brigh...</td>\n      <td>1216</td>\n      <td>230</td>\n      <td>en</td>\n      <td>0.999995</td>\n    </tr>\n  </tbody>\n</table>\n</div>"
     },
     "execution_count": 29,
     "metadata": {},
     "output_type": "execute_result"
    }
   ],
   "source": [
    "missing_lyrics_complete['length'] = missing_lyrics_complete['lyrics'].apply(lambda string: len(str(string)))\n",
    "missing_lyrics_complete['word_count'] = missing_lyrics_complete['lyrics'].apply(lambda string: len(str(string).split()))\n",
    "missing_lyrics_complete['language'] = missing_lyrics_complete['lyrics'].apply(lambda string: detect_language(string, nlp, 'language'))\n",
    "missing_lyrics_complete['language_score'] = missing_lyrics_complete['lyrics'].apply(lambda string: detect_language(string, nlp, 'score'))\n",
    "missing_lyrics_complete.head()\n"
   ],
   "metadata": {
    "collapsed": false,
    "pycharm": {
     "name": "#%%\n"
    }
   }
  },
  {
   "cell_type": "code",
   "execution_count": 30,
   "outputs": [
    {
     "data": {
      "text/plain": "     id                             artist first_artist                song  \\\n0  1093   2 Chainz Featuring Ariana Grande     2 Chainz      Rule The World   \n1  1099  2 Chainz Featuring Kendrick Lamar     2 Chainz  Momma I Hit A Lick   \n2  1074    2 Chainz Featuring Travis Scott     2 Chainz                Whip   \n3    85                          21 Savage    21 Savage                 1.5   \n4    36                          21 Savage    21 Savage               A Lot   \n\n   weeks_on_chart  peak_rank  \\\n0             2.0       94.0   \n1             1.0      100.0   \n2             1.0       75.0   \n3             1.0       86.0   \n4            23.0       12.0   \n\n                                              lyrics  length  word_count  \\\n0  Yeah Uh-huh (Hitmaka) 2 Chainz  Top down on th...  2905.0       604.0   \n1  I want it, I want it, I want it-it-it-it  Chil...  2703.0       530.0   \n2  Yeah Do it no hands, yeah, do it, no handstand...  3192.0       629.0   \n3  My earrings cost a half a ticket, I don't hear...  2482.0       471.0   \n4  I love you Turn my headphone down a little bit...  5037.0      1056.0   \n\n  language  language_score  \n0       en        0.999994  \n1       en        0.999997  \n2       en        0.999994  \n3       en        0.999995  \n4       en        0.999997  ",
      "text/html": "<div>\n<style scoped>\n    .dataframe tbody tr th:only-of-type {\n        vertical-align: middle;\n    }\n\n    .dataframe tbody tr th {\n        vertical-align: top;\n    }\n\n    .dataframe thead th {\n        text-align: right;\n    }\n</style>\n<table border=\"1\" class=\"dataframe\">\n  <thead>\n    <tr style=\"text-align: right;\">\n      <th></th>\n      <th>id</th>\n      <th>artist</th>\n      <th>first_artist</th>\n      <th>song</th>\n      <th>weeks_on_chart</th>\n      <th>peak_rank</th>\n      <th>lyrics</th>\n      <th>length</th>\n      <th>word_count</th>\n      <th>language</th>\n      <th>language_score</th>\n    </tr>\n  </thead>\n  <tbody>\n    <tr>\n      <th>0</th>\n      <td>1093</td>\n      <td>2 Chainz Featuring Ariana Grande</td>\n      <td>2 Chainz</td>\n      <td>Rule The World</td>\n      <td>2.0</td>\n      <td>94.0</td>\n      <td>Yeah Uh-huh (Hitmaka) 2 Chainz  Top down on th...</td>\n      <td>2905.0</td>\n      <td>604.0</td>\n      <td>en</td>\n      <td>0.999994</td>\n    </tr>\n    <tr>\n      <th>1</th>\n      <td>1099</td>\n      <td>2 Chainz Featuring Kendrick Lamar</td>\n      <td>2 Chainz</td>\n      <td>Momma I Hit A Lick</td>\n      <td>1.0</td>\n      <td>100.0</td>\n      <td>I want it, I want it, I want it-it-it-it  Chil...</td>\n      <td>2703.0</td>\n      <td>530.0</td>\n      <td>en</td>\n      <td>0.999997</td>\n    </tr>\n    <tr>\n      <th>2</th>\n      <td>1074</td>\n      <td>2 Chainz Featuring Travis Scott</td>\n      <td>2 Chainz</td>\n      <td>Whip</td>\n      <td>1.0</td>\n      <td>75.0</td>\n      <td>Yeah Do it no hands, yeah, do it, no handstand...</td>\n      <td>3192.0</td>\n      <td>629.0</td>\n      <td>en</td>\n      <td>0.999994</td>\n    </tr>\n    <tr>\n      <th>3</th>\n      <td>85</td>\n      <td>21 Savage</td>\n      <td>21 Savage</td>\n      <td>1.5</td>\n      <td>1.0</td>\n      <td>86.0</td>\n      <td>My earrings cost a half a ticket, I don't hear...</td>\n      <td>2482.0</td>\n      <td>471.0</td>\n      <td>en</td>\n      <td>0.999995</td>\n    </tr>\n    <tr>\n      <th>4</th>\n      <td>36</td>\n      <td>21 Savage</td>\n      <td>21 Savage</td>\n      <td>A Lot</td>\n      <td>23.0</td>\n      <td>12.0</td>\n      <td>I love you Turn my headphone down a little bit...</td>\n      <td>5037.0</td>\n      <td>1056.0</td>\n      <td>en</td>\n      <td>0.999997</td>\n    </tr>\n  </tbody>\n</table>\n</div>"
     },
     "execution_count": 30,
     "metadata": {},
     "output_type": "execute_result"
    }
   ],
   "source": [
    "new_lyrics = lyrics\n",
    "new_lyrics.update(missing_lyrics_complete)\n",
    "new_lyrics['id'] = new_lyrics['id'].astype(int)\n",
    "new_lyrics.head()"
   ],
   "metadata": {
    "collapsed": false,
    "pycharm": {
     "name": "#%%\n"
    }
   }
  },
  {
   "cell_type": "code",
   "execution_count": 32,
   "outputs": [
    {
     "data": {
      "text/plain": "     id                             artist first_artist                song  \\\n0  1093   2 Chainz Featuring Ariana Grande     2 Chainz      Rule The World   \n1  1099  2 Chainz Featuring Kendrick Lamar     2 Chainz  Momma I Hit A Lick   \n2  1074    2 Chainz Featuring Travis Scott     2 Chainz                Whip   \n3    85                          21 Savage    21 Savage                 1.5   \n4    36                          21 Savage    21 Savage               A Lot   \n\n   weeks_on_chart  peak_rank  \\\n0             2.0       94.0   \n1             1.0      100.0   \n2             1.0       75.0   \n3             1.0       86.0   \n4            23.0       12.0   \n\n                                              lyrics  length  word_count  \\\n0  Yeah Uh-huh (Hitmaka) 2 Chainz  Top down on th...  2905.0       604.0   \n1  I want it, I want it, I want it-it-it-it  Chil...  2703.0       530.0   \n2  Yeah Do it no hands, yeah, do it, no handstand...  3192.0       629.0   \n3  My earrings cost a half a ticket, I don't hear...  2482.0       471.0   \n4  I love you Turn my headphone down a little bit...  5037.0      1056.0   \n\n  language  language_score  \n0       en        0.999994  \n1       en        0.999997  \n2       en        0.999994  \n3       en        0.999995  \n4       en        0.999997  ",
      "text/html": "<div>\n<style scoped>\n    .dataframe tbody tr th:only-of-type {\n        vertical-align: middle;\n    }\n\n    .dataframe tbody tr th {\n        vertical-align: top;\n    }\n\n    .dataframe thead th {\n        text-align: right;\n    }\n</style>\n<table border=\"1\" class=\"dataframe\">\n  <thead>\n    <tr style=\"text-align: right;\">\n      <th></th>\n      <th>id</th>\n      <th>artist</th>\n      <th>first_artist</th>\n      <th>song</th>\n      <th>weeks_on_chart</th>\n      <th>peak_rank</th>\n      <th>lyrics</th>\n      <th>length</th>\n      <th>word_count</th>\n      <th>language</th>\n      <th>language_score</th>\n    </tr>\n  </thead>\n  <tbody>\n    <tr>\n      <th>0</th>\n      <td>1093</td>\n      <td>2 Chainz Featuring Ariana Grande</td>\n      <td>2 Chainz</td>\n      <td>Rule The World</td>\n      <td>2.0</td>\n      <td>94.0</td>\n      <td>Yeah Uh-huh (Hitmaka) 2 Chainz  Top down on th...</td>\n      <td>2905.0</td>\n      <td>604.0</td>\n      <td>en</td>\n      <td>0.999994</td>\n    </tr>\n    <tr>\n      <th>1</th>\n      <td>1099</td>\n      <td>2 Chainz Featuring Kendrick Lamar</td>\n      <td>2 Chainz</td>\n      <td>Momma I Hit A Lick</td>\n      <td>1.0</td>\n      <td>100.0</td>\n      <td>I want it, I want it, I want it-it-it-it  Chil...</td>\n      <td>2703.0</td>\n      <td>530.0</td>\n      <td>en</td>\n      <td>0.999997</td>\n    </tr>\n    <tr>\n      <th>2</th>\n      <td>1074</td>\n      <td>2 Chainz Featuring Travis Scott</td>\n      <td>2 Chainz</td>\n      <td>Whip</td>\n      <td>1.0</td>\n      <td>75.0</td>\n      <td>Yeah Do it no hands, yeah, do it, no handstand...</td>\n      <td>3192.0</td>\n      <td>629.0</td>\n      <td>en</td>\n      <td>0.999994</td>\n    </tr>\n    <tr>\n      <th>3</th>\n      <td>85</td>\n      <td>21 Savage</td>\n      <td>21 Savage</td>\n      <td>1.5</td>\n      <td>1.0</td>\n      <td>86.0</td>\n      <td>My earrings cost a half a ticket, I don't hear...</td>\n      <td>2482.0</td>\n      <td>471.0</td>\n      <td>en</td>\n      <td>0.999995</td>\n    </tr>\n    <tr>\n      <th>4</th>\n      <td>36</td>\n      <td>21 Savage</td>\n      <td>21 Savage</td>\n      <td>A Lot</td>\n      <td>23.0</td>\n      <td>12.0</td>\n      <td>I love you Turn my headphone down a little bit...</td>\n      <td>5037.0</td>\n      <td>1056.0</td>\n      <td>en</td>\n      <td>0.999997</td>\n    </tr>\n  </tbody>\n</table>\n</div>"
     },
     "execution_count": 32,
     "metadata": {},
     "output_type": "execute_result"
    }
   ],
   "source": [
    "filtered_lyrics = new_lyrics.loc[new_lyrics['language'] == 'en']\n",
    "filtered_lyrics = filtered_lyrics.loc[(new_lyrics['length'] >  8 )]\n",
    "filtered_lyrics.head()"
   ],
   "metadata": {
    "collapsed": false,
    "pycharm": {
     "name": "#%%\n"
    }
   }
  },
  {
   "cell_type": "code",
   "execution_count": 33,
   "outputs": [],
   "source": [
    "filtered_lyrics.to_csv('data/lyrics/filtered_lyrics.csv')\n",
    "filtered_lyrics.to_excel('data/lyrics/filtered_lyrics.xlsx', encoding='utf-8')"
   ],
   "metadata": {
    "collapsed": false,
    "pycharm": {
     "name": "#%%\n"
    }
   }
  }
 ],
 "metadata": {
  "kernelspec": {
   "display_name": "Python 3",
   "language": "python",
   "name": "python3"
  },
  "language_info": {
   "codemirror_mode": {
    "name": "ipython",
    "version": 3
   },
   "file_extension": ".py",
   "mimetype": "text/x-python",
   "name": "python",
   "nbconvert_exporter": "python",
   "pygments_lexer": "ipython3",
   "version": "3.7.9"
  }
 },
 "nbformat": 4,
 "nbformat_minor": 1
}