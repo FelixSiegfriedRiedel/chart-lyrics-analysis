{
 "cells": [
  {
   "cell_type": "markdown",
   "source": [
    "## Initial Setup"
   ],
   "metadata": {
    "collapsed": false
   }
  },
  {
   "cell_type": "code",
   "execution_count": 1,
   "outputs": [
    {
     "name": "stdout",
     "output_type": "stream",
     "text": [
      "data\\artist_song\\artist_song.csv\n",
      "data\\artist_song\\artist_song.json\n",
      "data\\billboard\\billboard_top_100.csv\n",
      "data\\input\\songs-2.csv\n",
      "data\\input\\top100.json\n",
      "data\\lyrics\\artist_song_lyrics _bak.csv\n",
      "data\\lyrics\\artist_song_lyrics.csv\n",
      "data\\lyrics\\artist_song_lyrics_bak_old.csv\n",
      "data\\lyrics\\short_lyrics.csv\n"
     ]
    }
   ],
   "source": [
    "import numpy as np # linear algebra\n",
    "import pandas as pd # data processing, CSV file I/O (e.g. pd.read_csv)\n",
    "import seaborn as sns\n",
    "import matplotlib.pyplot as plt\n",
    "import datetime\n",
    "import os\n",
    "for dirname, _, filenames in os.walk('data'):\n",
    "    for filename in filenames:\n",
    "        print(os.path.join(dirname, filename))\n"
   ],
   "metadata": {
    "collapsed": false,
    "pycharm": {
     "name": "#%%\n"
    }
   }
  },
  {
   "cell_type": "code",
   "source": [
    "lyrics = pd.read_csv('data/lyrics/artist_song_lyrics.csv', index_col=0, encoding='utf-16')"
   ],
   "metadata": {
    "collapsed": false,
    "pycharm": {
     "name": "#%%\n"
    }
   },
   "execution_count": 2,
   "outputs": []
  },
  {
   "cell_type": "code",
   "execution_count": 3,
   "outputs": [
    {
     "data": {
      "text/plain": "                              artist                song  weeks_on_chart  \\\n0   2 Chainz Featuring Ariana Grande      Rule The World               2   \n1  2 Chainz Featuring Kendrick Lamar  Momma I Hit A Lick               1   \n2    2 Chainz Featuring Travis Scott                Whip               1   \n3                          21 Savage                 1.5               1   \n4                          21 Savage               A Lot              23   \n\n   peak_rank                                             lyrics  \n0         94  [Intro: Ariana Grande &  2 Chainz ] Yeah Uh-hu...  \n1        100  I want it, I want it, I want it-it-it-it [Chor...  \n2         75  Yeah Do it no hands, yeah, do it, no handstand...  \n3         86  My earrings cost a half a ticket, I don't hear...  \n4         12  I love you Turn my headphone down a little bit...  ",
      "text/html": "<div>\n<style scoped>\n    .dataframe tbody tr th:only-of-type {\n        vertical-align: middle;\n    }\n\n    .dataframe tbody tr th {\n        vertical-align: top;\n    }\n\n    .dataframe thead th {\n        text-align: right;\n    }\n</style>\n<table border=\"1\" class=\"dataframe\">\n  <thead>\n    <tr style=\"text-align: right;\">\n      <th></th>\n      <th>artist</th>\n      <th>song</th>\n      <th>weeks_on_chart</th>\n      <th>peak_rank</th>\n      <th>lyrics</th>\n    </tr>\n  </thead>\n  <tbody>\n    <tr>\n      <th>0</th>\n      <td>2 Chainz Featuring Ariana Grande</td>\n      <td>Rule The World</td>\n      <td>2</td>\n      <td>94</td>\n      <td>[Intro: Ariana Grande &amp;  2 Chainz ] Yeah Uh-hu...</td>\n    </tr>\n    <tr>\n      <th>1</th>\n      <td>2 Chainz Featuring Kendrick Lamar</td>\n      <td>Momma I Hit A Lick</td>\n      <td>1</td>\n      <td>100</td>\n      <td>I want it, I want it, I want it-it-it-it [Chor...</td>\n    </tr>\n    <tr>\n      <th>2</th>\n      <td>2 Chainz Featuring Travis Scott</td>\n      <td>Whip</td>\n      <td>1</td>\n      <td>75</td>\n      <td>Yeah Do it no hands, yeah, do it, no handstand...</td>\n    </tr>\n    <tr>\n      <th>3</th>\n      <td>21 Savage</td>\n      <td>1.5</td>\n      <td>1</td>\n      <td>86</td>\n      <td>My earrings cost a half a ticket, I don't hear...</td>\n    </tr>\n    <tr>\n      <th>4</th>\n      <td>21 Savage</td>\n      <td>A Lot</td>\n      <td>23</td>\n      <td>12</td>\n      <td>I love you Turn my headphone down a little bit...</td>\n    </tr>\n  </tbody>\n</table>\n</div>"
     },
     "execution_count": 3,
     "metadata": {},
     "output_type": "execute_result"
    }
   ],
   "source": [
    "lyrics.head()"
   ],
   "metadata": {
    "collapsed": false,
    "pycharm": {
     "name": "#%%\n"
    }
   }
  },
  {
   "cell_type": "code",
   "execution_count": 4,
   "outputs": [
    {
     "name": "stdout",
     "output_type": "stream",
     "text": [
      "<class 'pandas.core.frame.DataFrame'>\n",
      "Int64Index: 1309 entries, 0 to 1308\n",
      "Data columns (total 5 columns):\n",
      " #   Column          Non-Null Count  Dtype \n",
      "---  ------          --------------  ----- \n",
      " 0   artist          1309 non-null   object\n",
      " 1   song            1309 non-null   object\n",
      " 2   weeks_on_chart  1309 non-null   int64 \n",
      " 3   peak_rank       1309 non-null   int64 \n",
      " 4   lyrics          1308 non-null   object\n",
      "dtypes: int64(2), object(3)\n",
      "memory usage: 61.4+ KB\n"
     ]
    }
   ],
   "source": [
    "lyrics.info()"
   ],
   "metadata": {
    "collapsed": false,
    "pycharm": {
     "name": "#%%\n"
    }
   }
  },
  {
   "cell_type": "code",
   "execution_count": 5,
   "outputs": [],
   "source": [
    "import spacy\n",
    "from spacy.language import Language\n",
    "from spacy_langdetect import LanguageDetector\n",
    "\n",
    "@Language.factory(\"language_detector\")\n",
    "def create_language_detector(nlp, name):\n",
    "    return LanguageDetector(language_detection_function=None)"
   ],
   "metadata": {
    "collapsed": false,
    "pycharm": {
     "name": "#%%\n"
    }
   }
  },
  {
   "cell_type": "code",
   "execution_count": 6,
   "outputs": [
    {
     "data": {
      "text/plain": "<spacy_langdetect.spacy_langdetect.LanguageDetector at 0x1f637ad3c88>"
     },
     "execution_count": 6,
     "metadata": {},
     "output_type": "execute_result"
    }
   ],
   "source": [
    "nlp = spacy.load(\"en_core_web_sm\")\n",
    "nlp.add_pipe('language_detector')"
   ],
   "metadata": {
    "collapsed": false,
    "pycharm": {
     "name": "#%%\n"
    }
   }
  },
  {
   "cell_type": "code",
   "execution_count": 15,
   "outputs": [],
   "source": [
    "def detect_language(text, nlp, ret):\n",
    "    if type(text) == str:\n",
    "        doc = nlp(text)\n",
    "        result = doc._.language\n",
    "    else:\n",
    "        result = {'language' : '-', 'score' : -1}\n",
    "    return result[ret]"
   ],
   "metadata": {
    "collapsed": false,
    "pycharm": {
     "name": "#%%\n"
    }
   }
  },
  {
   "cell_type": "code",
   "source": [
    "lyrics['length'] = lyrics['lyrics'].apply(lambda string: len(str(string)))\n",
    "lyrics['word_count'] = lyrics['lyrics'].apply(lambda string: len(str(string).split()))\n",
    "lyrics['language'] = lyrics['lyrics'].apply(lambda string: detect_language(string, nlp, 'language'))\n",
    "lyrics['language_score'] = lyrics['lyrics'].apply(lambda string: detect_language(string, nlp, 'score'))\n",
    "\n",
    "lyrics.describe()"
   ],
   "metadata": {
    "collapsed": false,
    "pycharm": {
     "name": "#%%\n"
    }
   },
   "execution_count": 16,
   "outputs": [
    {
     "data": {
      "text/plain": "       weeks_on_chart    peak_rank         length    word_count  \\\ncount     1309.000000  1309.000000    1309.000000   1309.000000   \nmean         8.887701    51.262796    2656.345302    518.160428   \nstd         11.162152    28.697031    4788.666829    857.647005   \nmin          1.000000     1.000000       3.000000      1.000000   \n25%          1.000000    28.000000    1633.000000    321.000000   \n50%          3.000000    53.000000    2139.000000    427.000000   \n75%         15.000000    75.000000    3005.000000    591.000000   \nmax         61.000000   100.000000  135356.000000  24046.000000   \n\n       language_score  \ncount     1309.000000  \nmean         0.992357  \nstd          0.069351  \nmin         -1.000000  \n25%          0.999996  \n50%          0.999997  \n75%          0.999998  \nmax          1.000000  ",
      "text/html": "<div>\n<style scoped>\n    .dataframe tbody tr th:only-of-type {\n        vertical-align: middle;\n    }\n\n    .dataframe tbody tr th {\n        vertical-align: top;\n    }\n\n    .dataframe thead th {\n        text-align: right;\n    }\n</style>\n<table border=\"1\" class=\"dataframe\">\n  <thead>\n    <tr style=\"text-align: right;\">\n      <th></th>\n      <th>weeks_on_chart</th>\n      <th>peak_rank</th>\n      <th>length</th>\n      <th>word_count</th>\n      <th>language_score</th>\n    </tr>\n  </thead>\n  <tbody>\n    <tr>\n      <th>count</th>\n      <td>1309.000000</td>\n      <td>1309.000000</td>\n      <td>1309.000000</td>\n      <td>1309.000000</td>\n      <td>1309.000000</td>\n    </tr>\n    <tr>\n      <th>mean</th>\n      <td>8.887701</td>\n      <td>51.262796</td>\n      <td>2656.345302</td>\n      <td>518.160428</td>\n      <td>0.992357</td>\n    </tr>\n    <tr>\n      <th>std</th>\n      <td>11.162152</td>\n      <td>28.697031</td>\n      <td>4788.666829</td>\n      <td>857.647005</td>\n      <td>0.069351</td>\n    </tr>\n    <tr>\n      <th>min</th>\n      <td>1.000000</td>\n      <td>1.000000</td>\n      <td>3.000000</td>\n      <td>1.000000</td>\n      <td>-1.000000</td>\n    </tr>\n    <tr>\n      <th>25%</th>\n      <td>1.000000</td>\n      <td>28.000000</td>\n      <td>1633.000000</td>\n      <td>321.000000</td>\n      <td>0.999996</td>\n    </tr>\n    <tr>\n      <th>50%</th>\n      <td>3.000000</td>\n      <td>53.000000</td>\n      <td>2139.000000</td>\n      <td>427.000000</td>\n      <td>0.999997</td>\n    </tr>\n    <tr>\n      <th>75%</th>\n      <td>15.000000</td>\n      <td>75.000000</td>\n      <td>3005.000000</td>\n      <td>591.000000</td>\n      <td>0.999998</td>\n    </tr>\n    <tr>\n      <th>max</th>\n      <td>61.000000</td>\n      <td>100.000000</td>\n      <td>135356.000000</td>\n      <td>24046.000000</td>\n      <td>1.000000</td>\n    </tr>\n  </tbody>\n</table>\n</div>"
     },
     "execution_count": 16,
     "metadata": {},
     "output_type": "execute_result"
    }
   ]
  },
  {
   "cell_type": "markdown",
   "source": [
    "## Validating lyrics\n"
   ],
   "metadata": {
    "collapsed": false,
    "pycharm": {
     "name": "#%% md\n"
    }
   }
  },
  {
   "cell_type": "markdown",
   "source": [
    "### Exploring shortest lyrics\n",
    "Based on the description, I will consider lyrics with a word count less than 321 as short."
   ],
   "metadata": {
    "collapsed": false
   }
  },
  {
   "cell_type": "code",
   "execution_count": 17,
   "outputs": [
    {
     "data": {
      "text/plain": "                                           artist  \\\n1300                                         Zayn   \n657                             Kid Cudi & Eminem   \n48    A Boogie Wit da Hoodie Featuring Young Thug   \n555                                    Juice WRLD   \n832                                  Mariah Carey   \n953                           Panic! At The Disco   \n1004                                  Post Malone   \n1058                                    Sam Smith   \n294                       DaBaby Featuring Offset   \n683                            Lauv & Troye Sivan   \n\n                                         song  weeks_on_chart  peak_rank  \\\n1300                                   Better               1         89   \n657   The Adventures Of Moon Man & Slim Shady               1         22   \n48                          Might Not Give Up               1         66   \n555                           Fighting Demons               2         35   \n832           All I Want For Christmas Is You              42          1   \n953                          Into The Unknown               2         98   \n1004                                   Myself               1         52   \n1058                               To Die For               6         46   \n294                               Baby Sitter              20         59   \n683                           I'm So Tired...               6         81   \n\n       lyrics  length  word_count language  language_score  \n1300      NaN       3           1        -       -1.000000  \n657   !Error!       7           1       de        0.857140  \n48    !Error!       7           1       de        0.999996  \n555   !Error!       7           1       de        0.999994  \n832   !Error!       7           1       de        0.999995  \n953   !Error!       7           1       de        0.999995  \n1004  !Error!       7           1       de        0.999996  \n1058  !Error!       7           1       de        0.999997  \n294   !Error!       7           1       de        0.999998  \n683   !Error!       7           1       de        0.999995  ",
      "text/html": "<div>\n<style scoped>\n    .dataframe tbody tr th:only-of-type {\n        vertical-align: middle;\n    }\n\n    .dataframe tbody tr th {\n        vertical-align: top;\n    }\n\n    .dataframe thead th {\n        text-align: right;\n    }\n</style>\n<table border=\"1\" class=\"dataframe\">\n  <thead>\n    <tr style=\"text-align: right;\">\n      <th></th>\n      <th>artist</th>\n      <th>song</th>\n      <th>weeks_on_chart</th>\n      <th>peak_rank</th>\n      <th>lyrics</th>\n      <th>length</th>\n      <th>word_count</th>\n      <th>language</th>\n      <th>language_score</th>\n    </tr>\n  </thead>\n  <tbody>\n    <tr>\n      <th>1300</th>\n      <td>Zayn</td>\n      <td>Better</td>\n      <td>1</td>\n      <td>89</td>\n      <td>NaN</td>\n      <td>3</td>\n      <td>1</td>\n      <td>-</td>\n      <td>-1.000000</td>\n    </tr>\n    <tr>\n      <th>657</th>\n      <td>Kid Cudi &amp; Eminem</td>\n      <td>The Adventures Of Moon Man &amp; Slim Shady</td>\n      <td>1</td>\n      <td>22</td>\n      <td>!Error!</td>\n      <td>7</td>\n      <td>1</td>\n      <td>de</td>\n      <td>0.857140</td>\n    </tr>\n    <tr>\n      <th>48</th>\n      <td>A Boogie Wit da Hoodie Featuring Young Thug</td>\n      <td>Might Not Give Up</td>\n      <td>1</td>\n      <td>66</td>\n      <td>!Error!</td>\n      <td>7</td>\n      <td>1</td>\n      <td>de</td>\n      <td>0.999996</td>\n    </tr>\n    <tr>\n      <th>555</th>\n      <td>Juice WRLD</td>\n      <td>Fighting Demons</td>\n      <td>2</td>\n      <td>35</td>\n      <td>!Error!</td>\n      <td>7</td>\n      <td>1</td>\n      <td>de</td>\n      <td>0.999994</td>\n    </tr>\n    <tr>\n      <th>832</th>\n      <td>Mariah Carey</td>\n      <td>All I Want For Christmas Is You</td>\n      <td>42</td>\n      <td>1</td>\n      <td>!Error!</td>\n      <td>7</td>\n      <td>1</td>\n      <td>de</td>\n      <td>0.999995</td>\n    </tr>\n    <tr>\n      <th>953</th>\n      <td>Panic! At The Disco</td>\n      <td>Into The Unknown</td>\n      <td>2</td>\n      <td>98</td>\n      <td>!Error!</td>\n      <td>7</td>\n      <td>1</td>\n      <td>de</td>\n      <td>0.999995</td>\n    </tr>\n    <tr>\n      <th>1004</th>\n      <td>Post Malone</td>\n      <td>Myself</td>\n      <td>1</td>\n      <td>52</td>\n      <td>!Error!</td>\n      <td>7</td>\n      <td>1</td>\n      <td>de</td>\n      <td>0.999996</td>\n    </tr>\n    <tr>\n      <th>1058</th>\n      <td>Sam Smith</td>\n      <td>To Die For</td>\n      <td>6</td>\n      <td>46</td>\n      <td>!Error!</td>\n      <td>7</td>\n      <td>1</td>\n      <td>de</td>\n      <td>0.999997</td>\n    </tr>\n    <tr>\n      <th>294</th>\n      <td>DaBaby Featuring Offset</td>\n      <td>Baby Sitter</td>\n      <td>20</td>\n      <td>59</td>\n      <td>!Error!</td>\n      <td>7</td>\n      <td>1</td>\n      <td>de</td>\n      <td>0.999998</td>\n    </tr>\n    <tr>\n      <th>683</th>\n      <td>Lauv &amp; Troye Sivan</td>\n      <td>I'm So Tired...</td>\n      <td>6</td>\n      <td>81</td>\n      <td>!Error!</td>\n      <td>7</td>\n      <td>1</td>\n      <td>de</td>\n      <td>0.999995</td>\n    </tr>\n  </tbody>\n</table>\n</div>"
     },
     "execution_count": 17,
     "metadata": {},
     "output_type": "execute_result"
    }
   ],
   "source": [
    "lyrics_sort_asc = lyrics.sort_values(by='length')\n",
    "lyrics_sort_asc.head(10)"
   ],
   "metadata": {
    "collapsed": false,
    "pycharm": {
     "name": "#%%\n"
    }
   }
  },
  {
   "cell_type": "code",
   "execution_count": 18,
   "outputs": [
    {
     "name": "stdout",
     "output_type": "stream",
     "text": [
      "                                                 lyrics  length  word_count\n",
      "1300                                                NaN       3           1\n",
      "657                                             !Error!       7           1\n",
      "48                                              !Error!       7           1\n",
      "555                                             !Error!       7           1\n",
      "832                                             !Error!       7           1\n",
      "953                                             !Error!       7           1\n",
      "1004                                            !Error!       7           1\n",
      "1058                                            !Error!       7           1\n",
      "294                                             !Error!       7           1\n",
      "683                                             !Error!       7           1\n",
      "1203                                            !Error!       7           1\n",
      "190                                             !Error!       7           1\n",
      "529                                            !NoSong!       8           1\n",
      "527                                            !NoSong!       8           1\n",
      "666                                            !NoSong!       8           1\n",
      "876                                            !NoSong!       8           1\n",
      "373                                            !NoSong!       8           1\n",
      "624                                            !NoSong!       8           1\n",
      "269                                            !NoSong!       8           1\n",
      "1083                                           !NoSong!       8           1\n",
      "318                                            !NoSong!       8           1\n",
      "1241                                           !NoSong!       8           1\n",
      "959                                            !NoSong!       8           1\n",
      "649                   Oh, oh Oh Three (Three, two, one)      33           7\n",
      "1153   I promise that you'll never find another like me      48           9\n",
      "717   This the voice of the hero Voice of the hero V...     118          26\n",
      "602   Every knee shall bow Every tongue confess Jesu...     139          26\n",
      "1007  Needless say i keep one check she was all bad ...     307          64\n",
      "1239  I was like whoa-oh-oh Whoa-oh-oh Whoa-woah-oh ...     427          72\n",
      "231   Silent night, holy night All is calm, all is b...     504          90\n",
      "482   宇多田ヒカル & Skrillexの「Face My Fears」歌詞  ねえ　どれくらい ...     535         107\n",
      "977   Yeah, yeah Yeah, yeah, yeah Yeah, yeah, yeah (...     557         101\n",
      "918   Deck the halls with boughs of holly Fa-la-la-l...     622          79\n",
      "838   I'm so alone, nothing feels like home I'm so a...     629         132\n",
      "374   I'll have a blue Christmas without you (Ooh, o...     650         119\n",
      "204   Rockin' around the Christmas tree At the Chris...     711         120\n",
      "530   I guess I just feel like I guess I just feel l...     718         152\n",
      "919   Chestnuts roasting on an open fire Jack Frost ...     728         135\n",
      "1181  I can't move, I'm so paralyzed I'm so paralyze...     758         152\n",
      "681   Chestnuts roasting on an open fire Jack Frost ...     758         141\n",
      "1129  Ooh Ooh  School bell rings, walk me home Sidew...     794         157\n",
      "313   Oh, the weather outside is frightful But the f...     799         167\n",
      "814   Well, this is what it look like right before y...     815         161\n",
      "120   너의 따분한 그 표정 지루한 발끝 Please, look at me now 핸드폰은...     823         203\n",
      "581   Rockin' around the Christmas tree At the Chris...     838         142\n",
      "178   Take me to the rooftop I wanna see the world w...     841         168\n",
      "141   Yo sé que soy un cabrón Que no merezco tu perd...     850         179\n",
      "1237  Yeah  Shawty, heard you bad... word? So profan...     851         166\n",
      "476   Coucou  Don't you call him \"baby\" We're not ta...     856         171\n",
      "1089  It's 3:34 and I don't need no more You can cal...     864         183\n",
      "249   They say \"Love is more precious than gold\" Can...     869         170\n",
      "181   I should have known I'd leave alone Just goes ...     872         186\n",
      "176   It's not true Tell me I’ve been lied to Crying...     877         187\n",
      "533   Go ahead and park after dark Fallen star, I'm ...     882         173\n",
      "184   Don't you know I'm no good for you? I've learn...     894         192\n",
      "179   I can't seem to focus And you don't seem to no...     898         176\n",
      "420   Everytime I climb i feel brand new One step at...     901         187\n",
      "188   Don't be that way Fall apart twice a day I jus...     909         180\n",
      "177   Told you not to worry But maybe that's a lie H...     912         189\n",
      "1191  Immunity, long overdue Contagion, I exhale you...     929         161\n",
      "242   My name is Devvon Terrell This is a raw sessio...     933         197\n",
      "583   Everybody knows my name now But somethin' 'bou...     939         173\n",
      "821   That's on me, that's on me, I know That's on m...     941         195\n",
      "126   매번 같은 하루들 중에 (들 중에) 너를 만날 때 가장 난 행복해 (행복해) 매번 ...     942         257\n",
      "599   Closed on Sunday, you're my Chick-fil-A Closed...     968         182\n",
      "532   I fell for your magic, I tasted your skin And ...     977         212\n",
      "724   D-D-Daytrip took it to ten ( Hey )  Ayy, Panin...     986         217\n",
      "479   What do you mean? I'm sorry by the way Never c...     996         185\n",
      "934   I've been holding my breath I've been counting...     997         206\n",
      "1120  Keep your helmet, keep your life, son Just a f...     998         183\n",
      "171   Wait a minute, let me finish I know you don't ...     999         190\n",
      "108   Step out into the dawn You pray 'til, you pray...    1004         209\n",
      "960   And I'd give up forever to touch you 'Cause I ...    1007         211\n",
      "1049  I've been havin' dreams Jumpin' on a trampolin...    1008         214\n",
      "125   꿈이었을까 널 본 것 같아 눈뜨면 다시 아무도 없는 방 가만히 난 주문을 걸어 그 ...    1011         242\n",
      "678   Tell me somethin', girl Are you happy in this ...    1012         190\n",
      "200   Jingle bell, jingle bell, jingle bell rock Jin...    1014         185\n",
      "1176  You don't love him, you don't love him You don...    1018         198\n",
      "1099  I love you, baby, and if it's quite all right ...    1027         224\n",
      "117   Where is my angel? 하루의 끝을 드리운 Someone come and...    1032         269\n",
      "871   It's beginning to look a lot like Christmas Ev...    1032         203\n",
      "997   Wasted on Sunday Erase you on Monday Allergic,...    1033         198\n",
      "213   (Ding-dong-ding) (Ding-dong-ding) (Ding-dong-d...    1033         172\n",
      "1093  You got potential, you got, you You got potent...    1038         204\n",
      "804   Don't get me wrong I like a bobber on the wate...    1040         223\n",
      "537   It's been a wreck me week Sixty plus from dawn...    1049         209\n",
      "142   Pasa el tiempo (Pasa el tiempo) Y no te veo (Y...    1050         200\n",
      "1142  Please picture me in the trees I hit my peak a...    1056         218\n",
      "446   You know Dasher, and Dancer, and Prancer, and ...    1060         196\n",
      "258   I still remember, third of December, me in you...    1068         214\n",
      "122   어느 날 세상이 멈췄어 아무런 예고도 하나 없이 봄은 기다림을 몰라서 눈치 없이 와...    1071         263\n",
      "61    It's the most wonderful time of the year With ...    1072         187\n",
      "1003  E-yeah-yeah-yeah (Oh) Whoa E-yeah-yeah-yeah  I...    1075         205\n",
      "227   It's all on me, it's my mistake I said \"I don'...    1078         225\n",
      "423   Blood, blood, blood Xanax dreams, Xanax Covere...    1078         224\n",
      "217   Dirty tissues, trust issues Glasses on the sin...    1093         188\n",
      "90    My presence sweet and my aura bright Diamonds ...    1098         216\n",
      "252   Out of all the reindeers, you know you're the ...    1102         206\n",
      "798   Her day starts with a coffee and ends with a w...    1115         208\n",
      "83    Said I'ma give you some instructions That you ...    1117         224\n",
      "189   [Verse 1: Billie Eilish &  Khalid ] Thought I ...    1120         226\n",
      "1101  EarDrummers  Tell 'em again, tell 'em off (Tel...    1123         216\n",
      "815   Outside is cloudy, but I like that better (Bet...    1127         213\n",
      "109   Você pode me ouvir? SOS Me ajude a descansar m...    1129         213\n",
      "961   Baby shark, doo doo doo doo doo doo Baby shark...    1131         246\n",
      "801   It's a junked out joint off a backroad A blink...    1136         221\n",
      "958   Oh, there's no place like home for the holiday...    1136         212\n",
      "393   A Night... falls, and I'm alone  Skin... yeah,...    1141         225\n",
      "943   I found a guy, told me I was a star He held th...    1146         253\n",
      "1113  It's been a long time And seeing the shape of ...    1149         230\n",
      "673   That Arizona sky Burnin' in your eyes You look...    1149         234\n",
      "256   All the boats I've missed All the hell I've ca...    1150         234\n",
      "805   Seventeen, you don't think that much about lif...    1166         245\n",
      "1169  Take off my disguise I'm living someone else's...    1166         236\n",
      "182   I've been watchin' you for some time Can't sto...    1167         210\n",
      "1183  Hey, buddies that I grew up with All straight-...    1173         222\n",
      "187   Bite my tongue, bide my time Wearing a warning...    1173         255\n",
      "310   (Christmas) The snow's coming down (Christmas)...    1184         185\n",
      "682   I keep fighting voices in my mind that say I’m...    1189         267\n",
      "563   Stuck in a maze Oh, oh, oh, oh, oh, oh Stuck i...    1190         235\n",
      "1154  The buttons of my coat were tangled in my hair...    1192         235\n",
      "172   My Lucifer is lonely  Standing there, killing ...    1196         227\n",
      "514   Wiped the footprints off my dash Tore up those...    1199         231\n",
      "296   А-а-а Ай-я-я В-а-а-у  Десять на неделе будто р...    1201         229\n",
      "816   Everybody's gotta live And everybody's gonna d...    1202         226\n",
      "947   There's somethin' in the way you roll your eye...    1203         245\n",
      "1124  My only one My smoking gun My eclipsed sun Thi...    1203         242\n",
      "477   I'm in my bed And you're not here And there's ...    1207         241\n",
      "480   Nine in the morning, the man drops his kids of...    1209         247\n",
      "534   I don't want a friend (Just one more night) I ...    1210         248\n",
      "478   Hey!  Golden, golden, golden as I open my eyes...    1213         227\n",
      "1147  I've been having a hard time adjusting I had t...    1218         260\n",
      "625   There's a wolf that preys on a world that stra...    1218         264\n",
      "394   Now here you go again, you say you want your f...    1219         231\n",
      "535   Her hands wrapped up in mine Tears rollin' out...    1226         226\n",
      "578   Not sure what I was doing before ya I quit try...    1238         245\n",
      "819   I'm so close I can taste it The man on the moo...    1238         255\n",
      "1170  Yeah  I've been tryna call I've been on my own...    1239         259\n",
      "799   I've had a largemouth bass bust my line A coup...    1240         237\n",
      "513   She said, \"Baby, do you ever miss bein' alone?...    1242         260\n",
      "173   White shirt now red, my bloody nose Sleepin', ...    1242         257\n",
      "157   I'm done with the drinking I’m done with the s...    1245         250\n",
      "1078  I wonder if I'm being real Do I speak my truth...    1245         268\n",
      "1162  Okay, I realize now, that everything that I di...    1261         259\n",
      "1133  We could leave the Christmas lights up 'til Ja...    1269         258\n",
      "1188  You're a mean one, Mr. Grinch You really are a...    1270         223\n",
      "593   See the way you're taking care of your Mama Th...    1272         264\n",
      "590   When it rains, it pours But you didn't even no...    1274         241\n",
      "1187  In a time full of war, be peace In a time full...    1275         273\n",
      "1127  Make sure nobody sees you leave Hood over your...    1276         239\n",
      "186   What is it about them? I must be missing somet...    1277         231\n",
      "1091  Am I really that much to handle? Breakin' thes...    1277         271\n",
      "546   Feliz Navidad Feliz Navidad Feliz Navidad Prós...    1280         234\n",
      "948   Even if you see my scars, even if I break your...    1281         272\n",
      "1092  Whip, bought it Crib, got it Job, on it Did I ...    1284         269\n",
      "250   Well the road rolls out like a welcome mat To ...    1285         262\n",
      "161   Uishi kwa muda mrefu mfalme ( Uishi kwa uishi ...    1289         243\n",
      "212   I've been thinkin' maybe Things were never the...    1290         262\n",
      "921   I like the way you talk, I like the things you...    1294         279\n",
      "185   \"Baby, I don't feel so good,\" six words you ne...    1295         265\n",
      "1024  S peakerBangerz Look, uh, look  Heart been bro...    1302         264\n",
      "1177  Ooh Na na, yeah  I saw you dancing in a crowde...    1303         268\n",
      "893   A heart on the run keeps a hand on a gun Can't...    1304         270\n",
      "955   I didn't think I was a bad guy I knew that you...    1305         271\n",
      "1119  Hey, Dorothea, do you ever stop and think abou...    1305         244\n",
      "1230  Runnin' out of time, runnin' out of time, runn...    1307         263\n",
      "233   Ooh, in the winter's chill Let the candles lig...    1310         224\n",
      "1068  I'm a little bit a ball cap Little bit a pearl...    1311         268\n",
      "131   (Uh-uh) Ey, ey  ¿Quién dijo que no? (¿Quién di...    1311         284\n",
      "483   Ooh Ooh Ooh  I can hear you, but I won't Some ...    1314         273\n",
      "874   Watchin' cigarettes burn out 'Til all the neon...    1320         259\n",
      "605   Gut, richtig So, so gut Gut, richtig So, so Ho...    1320         221\n",
      "367   My lungs are black, my heart is pure My hands ...    1326         271\n",
      "1178  When I saw the signs, I shoulda let you go (Ye...    1328         277\n",
      "205   Oh baby, would you look right there The way th...    1330         280\n",
      "807   She said, I never thought I'd see you here Han...    1330         264\n",
      "1100  Good, feeling good  Ayy, feeling good, like I ...    1331         238\n",
      "630   Hey, homecoming queen Why do you lie? When som...    1337         252\n",
      "956   The mood is right The spirits up We're here to...    1344         224\n",
      "1136  I want you to know I'm a mirrorball I'll show ...    1346         258\n",
      "314   Uh, uh  I tried to talk to my piano I tried to...    1349         250\n",
      "668   Post Malone - Circles Billie Eilish - bury a f...    1349         271\n",
      "137   Yeh-yeh-yeh-yeh-yeh-yeh-yeh-yeh-eh ¡Ju! Okey, ...    1350         289\n",
      "536   Same old dive, same old end of the work week d...    1355         245\n",
      "195   I've always been a rollin' stone With a reckle...    1355         259\n",
      "843   Never been saved, but I've never come closer A...    1356         274\n",
      "1019  Never knew my old man's truck could even run l...    1356         278\n",
      "844   Can I tell you something just between you and ...    1357         297\n",
      "86    If you take too long to hit me back I can't pr...    1357         299\n",
      "806   When the dogwoods start to bloom And the crick...    1363         278\n",
      "1034  (Ayy, Zypitano got that gas) (Six, chill, fool...    1363         265\n",
      "481   Tastes like strawberries on a summer evenin' A...    1365         234\n",
      "93    I don't wanna think too much I just wanna feel...    1368         286\n",
      "255   I think we could do it if we tried If only to ...    1368         301\n",
      "444   Well turn that bottle up and drink it, crank t...    1371         266\n",
      "139   Llegó soliá, salió sin la' amiga' Revelá', en ...    1372         264\n",
      "445   Here comes Santa Claus Here comes Santa Claus ...    1373         245\n",
      "793   There are days I wake up and I pinch myself Yo...    1374         275\n",
      "207   Hmm, if ever I get lost in your eyes tonight P...    1378         274\n",
      "302   I'm jealous of the blue jeans that you're wear...    1381         289\n",
      "544   Lights go down, wheels go 'round I'm taking yo...    1384         276\n",
      "610   [Intro: Ty Dolla $ign &  Ant Clemons ] We bega...    1385         257\n",
      "840   Feeling like a drop in the ocean That don't no...    1386         272\n",
      "634   I love the dimples in the small of your back T...    1389         310\n",
      "601   God is My light in darkness, oh God, God is He...    1393         283\n",
      "640   Can we just talk? Can we just talk? Talk about...    1397         272\n",
      "677   Sou-sour candy (Sou-sour candy)  I'm sour cand...    1397         286\n",
      "1173  No, yeah Oh, yeah Oh, yeah Yeah, uh  You try w...    1398         296\n",
      "592   Someone to play catch with out in the backyard...    1402         315\n",
      "654   Mm-mm, yeah Mm-mm  In the dead of the night, I...    1403         284\n",
      "104   I ain't gonna stay for the weekend I ain't gon...    1407         284\n",
      "618   Damn right, we take turns bein' grown I get re...    1412         283\n",
      "484   Every inch of me is trembling But not from the...    1420         278\n",
      "822   Yeah, yeah, yeah, yeah, yeah, yeah  Yeah, thin...    1422         301\n",
      "784   Woo! (Oh, yeah)  My friend named Jack, he's go...    1424         277\n",
      "303   All of my friends finally convinced me to get ...    1424         300\n",
      "1069  Way up in the mountains, four thousand feet hi...    1428         290\n",
      "594   Dancin' in the kitchen, you singing my favorit...    1437         278\n",
      "1141  Our coming-of-age has come and gone Suddenly t...    1438         287\n",
      "510   Where I grew up, gettin' dressed up means Butt...    1439         278\n",
      "1189  Got a call from a friend about a friend With s...    1441         309\n",
      "1088  We got London on da Track  I been all in my ph...    1442         306\n",
      "882   Ooh Ooh   Yeah,  I'm a turner I turn pages all...    1442         311\n",
      "512   Love how you close your eyes when I pull you i...    1445         303\n",
      "848   I've never been one to ask for help If I need ...    1445         292\n",
      "603   Yo, Pi'erre, yo, Pi'erre  \"How you get so much...    1447         289\n",
      "566   I'm apart, I'm exposed I'm the flaw, hell if I...    1447         293\n",
      "459   Hold on, hold on, speed it up, hold on ( Run t...    1448         299\n",
      "1020  Three little birds sat on my window And they t...    1458         271\n",
      "1144  Combat, I'm ready for combat I say I don't wan...    1465         292\n",
      "664   Well, baby love's just one of them words that ...    1466         315\n",
      "388   Beer don't keep Love’s not cheap And trucks do...    1468         311\n",
      "1202  I got room in my fumes (Yeah) She fill my mind...    1472         303\n",
      "1047  Girl, I’ve always loved you, oh, but something...    1474         316\n",
      "1042  Cosa' de familia, no la' tienen que escucha' L...    1477         293\n",
      "562   Cheers (Oh-oh, oh-oh) Sippin' codeine like it'...    1480         281\n",
      "726   Yeah, I’m gonna take my horse to the old town ...    1480         307\n",
      "651   Hey  Seen nothing like that shorty with the fa...    1483         276\n",
      "138   Yeh, yeh  Todavía yo te quiero Pero sé que e' ...    1485         308\n",
      "78    Step up, the two of us, nobody knows us Get in...    1485         283\n",
      "1000  Hollywood's bleeding, vampires feedin' Darknes...    1488         303\n",
      "449   # 100,000+ Transcriptions: (In Order of Achiev...    1488         256\n",
      "639   Can't count up the times you've blown my line ...    1492         310\n",
      "1060  Hmm, mhm  I don't wanna be alone tonight (Alon...    1493         277\n",
      "1125  How many days did I spend thinking 'Bout how y...    1494         293\n",
      "1138  We gather here, we line up, weepin' in a sunli...    1498         310\n",
      "1046  Who! Huh, yeah  My baby, she's Alabama A dixie...    1501         281\n",
      "230   A stray bullet and a mama  cries Her baby won'...    1502         302\n",
      "1167  Just hear those sleigh bells jingling, ring ti...    1503         191\n",
      "1139  It keeps me awake, the look on your face The m...    1515         297\n",
      "1148  I sit and watch you reading with your head low...    1515         314\n",
      "317   Half your life you struggle Half your life you...    1515         288\n",
      "820   Yeah, yeah Hey, hey, hey Hey, hey, hey Hey, he...    1519         315\n",
      "591   I've been thinkin' 'bout ya lately Reminiscin'...    1519         289\n",
      "672   My name isn't Alice But I'll keep looking, I'l...    1520         281\n",
      "628   There are many people who drink in moderation ...    1520         302\n",
      "1185  Did you grow up on a tractor? Did your daddy l...    1521         271\n",
      "488   I can't wait to show you where I grew up Walk ...    1522         311\n",
      "1031  ( Trillo Beats, you did it again ) Shh ( Drell...    1522         314\n",
      "356   If you don't wanna see me  Did a full one-eigh...    1526         304\n",
      "999   Oh, oh, oh Oh,  oh, oh Oh,  oh, oh, oh, oh  We...    1527         313\n",
      "632   Ol' Sunoco Charlie drives an '87 Harley Sells ...    1527         309\n",
      "827   [Verse 1: Maddie,  Both ] Hey mama , how do yo...    1529         318\n",
      "201   You would've never learned the words to \"Amazi...    1535         306\n",
      "1240  Оуу-оуу-оуу В конце концов, поработай сегодня ...    1536         257\n",
      "1163  You cut out a piece of me, and now I bleed int...    1536         313\n",
      "251   Got a little southern drawl in my talk Little ...    1539         291\n",
      "175   I had a dream I got everything I wanted Not wh...    1539         313\n",
      "942   Been flyin' solo for so long Nobody's singin' ...    1541         315\n",
      "1180  No-no, no-no, no-no-no  I let you down, I led ...    1542         308\n",
      "486   Oh, hush, my dear, it's been a difficult year ...    1543         301\n",
      "257   I wish this whiskey would make her miss me Lik...    1546         306\n",
      "790   [Verse: Logic &  Juicy J ] Bitch, I did it, I ...    1547         288\n",
      "1304  Crazy I like that, you like that, so let's be ...    1549         301\n",
      "468   If you got it, it ain't no question No, it ain...    1552         305\n",
      "305   Baby, when December comes When it's gettin' co...    1555         294\n",
      "1182  Don't even want the attention But yeah, that's...    1557         309\n",
      "880   Woo-ooh, woo-ooh, woo-ooh Woo-ooh, woo-ooh, wo...    1559         314\n",
      "1128  Green was the color of the grass Where I used ...    1559         298\n",
      "87    I love the taste of you in the morning Keep me...    1566         315\n",
      "132   Ya no confío en tu mirada Y tus beso' no saben...    1567         314\n",
      "1134  What did you think I'd say to that? Does a sco...    1568         314\n",
      "1200  I probably shouldn't have said hello When I sa...    1570         312\n",
      "309   Well, I ain't gonna work today Just wanna sit ...    1574         301\n",
      "304   You say you'll be down in five The smell of yo...    1574         312\n",
      "1096  We got London on da track  Niggas be insecure ...    1581         314\n",
      "1211  Internet Money, bitch Hahahaha, Nick, you're s...    1582         299\n",
      "803   A cold beer's got twelve ounces A good truck's...    1584         304\n",
      "809   Dad sold every record he ever owned Floyd and ...    1585         320\n",
      "580   Na-na, da-da, da-da, da-da Na-na, da-da, da-da...    1585         270\n",
      "633   Seen the skyline of New York City Fireflies in...    1591         308\n",
      "641   Take me 'round the world and back again As I'm...    1595         309\n",
      "307   Do you love the rain, does it make you dance W...    1597         315\n",
      "794   This truck needs a half tank These wheels need...    1602         292\n",
      "399   No sleeper seats, that's a mattress No sleeper...    1602         310\n",
      "1111  You booked the night train for a reason So you...    1604         286\n",
      "105   If all of the kings had their queens on the th...    1604         317\n",
      "1143  I'm doing good, I'm on some new shit Been sayi...    1604         307\n",
      "622   I was so cold and lost And nothing seemed to r...    1606         306\n",
      "1112  My winter nights are taken up by static Stress...    1633         304\n",
      "1103  Let's go  We see the hype outside (Yeah) Right...    1634         306\n",
      "569   Yeah  Up, up and away, hop in Feel the walls i...    1636         308\n",
      "1184  \"Take a left here, boy, take it slow Don't get...    1638         318\n",
      "589   'Cause it's Friday 'Cause it's Monday 'Cause i...    1644         305\n",
      "679   Summertime , and the livin's easy Bradley's on...    1646         306\n",
      "1135  Never be so kind You forget to be clever Never...    1651         320\n",
      "438   Chopper make him do the Harlem Shake (Wheezy B...    1652         304\n",
      "830   Man, this shit's unflatterin', all up in my he...    1655         303\n",
      "526   1. Bad Bunny & Jhay Cortez- Dakiti 2. Ariana G...    1656         293\n",
      "32    Ransom got that sauce in it Se pinta los labio...    1675         279\n",
      "75    ​​lacigam gnihtemos od oT ​​thgin laiceps ruoy...    1688         318\n",
      "626   You're here where you should be Snow is fallin...    1696         311\n",
      "1045  Blue Tacoma, California Rays of gold are shini...    1702         317\n",
      "585   Oh, tú no te comparas, no encajas con ellos, ¿...    1706         296\n",
      "596   White churches, black churches Different peopl...    1717         301\n",
      "156   Hey Beautiful, beautiful, beautiful, beautiful...    1726         312\n",
      "896   A 'Bama red 4Runner pulled into the party With...    1738         300\n",
      "114   1. Billie Eilish- Therefore I Am 2. Ariana Gra...    1760         316\n",
      "576   1. Billie Eilish- Therefore I Am 2. Ariana Gra...    1760         316\n",
      "795   Everybody here ain't from here But we're here ...    1762         311\n",
      "1013  Kurt ve ben aynı hissediyoruz Çok fazla haz ac...    1775         249\n",
      "577   1. Ariana Grande- positions 2. The Kid LAROI- ...    1782         318\n",
      "1210  I bet she didn't think twice about Amarillo He...    1793         315\n",
      "1151  Kasım gri Temmuzdan beri bu durumudayım Hareke...    1819         256\n",
      "1192  La-la-la-la, la-la-la-la  Call me what you wan...    1890         309\n",
      "110   Biliyorum işleri berbat ettim, sadece ezik bir...    1964         250\n",
      "1156  Seni ararken ruhum ikiye ayrılıyor Ama tam bur...    2034         293\n"
     ]
    }
   ],
   "source": [
    "short_lyrics = lyrics_sort_asc[['lyrics','length', 'word_count']].loc[lyrics['word_count'] < 321]\n",
    "# for string in short_lyrics:\n",
    "#     print(string)\n",
    "pd.set_option('display.max_rows', None)\n",
    "pd.set_option('display.max_columns', None)\n",
    "pd.set_option('display.max_seq_items', None)\n",
    "print(short_lyrics)"
   ],
   "metadata": {
    "collapsed": false,
    "pycharm": {
     "name": "#%%\n"
    }
   }
  },
  {
   "cell_type": "markdown",
   "source": [
    "Exporting short/missing lyrics"
   ],
   "metadata": {
    "collapsed": false,
    "pycharm": {
     "name": "#%% md\n"
    }
   }
  },
  {
   "cell_type": "code",
   "execution_count": 19,
   "outputs": [],
   "source": [
    "short_lyrics = lyrics.loc[lyrics['word_count'] <= 321]\n",
    "short_lyrics.to_csv('data/lyrics/short_lyrics.csv')"
   ],
   "metadata": {
    "collapsed": false,
    "pycharm": {
     "name": "#%%\n"
    }
   }
  },
  {
   "cell_type": "markdown",
   "source": [
    "### Exploring longest lyrics"
   ],
   "metadata": {
    "collapsed": false
   }
  },
  {
   "cell_type": "code",
   "execution_count": 20,
   "outputs": [
    {
     "data": {
      "text/plain": "                                         artist                       song  \\\n531                John Rich Featuring The Five     Shut Up About Politics   \n229                            Carrie Underwood      Favorite Time Of Year   \n1165  The Kid LAROI Featuring Machine Gun Kelly          Fuck You, Goodbye   \n1051                    SZA X Justin Timberlake             The Other Side   \n631                   Kelsea Ballerini x Halsey             The Other Girl   \n646                         Khalid x Disclosure            Know Your Worth   \n1209               Trevor Daniel x Selena Gomez                  Past Life   \n890          Moneybagg Yo X Megan Thee Stallion                    All Dat   \n191                  Black Eyed Peas X J Balvin  RITMO (Bad Boys For Life)   \n152                        Bad Bunny X Anuel AA         Esta Cabron Ser Yo   \n\n      weeks_on_chart  peak_rank  \\\n531                1         91   \n229                3         80   \n1165               1         99   \n1051               7         61   \n631                1         95   \n646                8         57   \n1209               5         77   \n890                4         70   \n191               27         26   \n152                1         97   \n\n                                                 lyrics  length  word_count  \\\n531   JAY AND SILENT BOB STRIKE BACK Screenplay by K...  135356       24046   \n229   Last updated: 10/6/2018, 5:16PM MST OctoberOct...   79241       13651   \n1165  # 03' Adolescence - J. Cole 1, 2 - mxmtoon 1.5...   58416       11291   \n1051  2/1 FELIX SANDMAN -  \"BOYS WITH EMOTIONS\" GARZ...   20267        3594   \n631   2/1 FELIX SANDMAN -  \"BOYS WITH EMOTIONS\" GARZ...   20267        3594   \n646   2/1 FELIX SANDMAN -  \"BOYS WITH EMOTIONS\" GARZ...   20267        3594   \n1209  8/1 Rob Markman - \"Easy Money Sniper\" vowl. & ...   19182        3406   \n890   10/1 Ant Clemons -  \"4 Letter Word\"  ft. Timba...   13926        2528   \n191   10/1 Ant Clemons - \"4 Letter Word\" ft. Timbala...   13441        2528   \n152   favoritos 2020 por Rogelio 📝 Canciones 📝 • 3ra...   12635        2607   \n\n     language  language_score  \n531        en        0.999997  \n229        en        0.999994  \n1165       en        0.999995  \n1051       en        0.999997  \n631        en        0.999995  \n646        en        0.999996  \n1209       en        0.999996  \n890        en        0.999995  \n191        en        0.999995  \n152        es        0.571428  ",
      "text/html": "<div>\n<style scoped>\n    .dataframe tbody tr th:only-of-type {\n        vertical-align: middle;\n    }\n\n    .dataframe tbody tr th {\n        vertical-align: top;\n    }\n\n    .dataframe thead th {\n        text-align: right;\n    }\n</style>\n<table border=\"1\" class=\"dataframe\">\n  <thead>\n    <tr style=\"text-align: right;\">\n      <th></th>\n      <th>artist</th>\n      <th>song</th>\n      <th>weeks_on_chart</th>\n      <th>peak_rank</th>\n      <th>lyrics</th>\n      <th>length</th>\n      <th>word_count</th>\n      <th>language</th>\n      <th>language_score</th>\n    </tr>\n  </thead>\n  <tbody>\n    <tr>\n      <th>531</th>\n      <td>John Rich Featuring The Five</td>\n      <td>Shut Up About Politics</td>\n      <td>1</td>\n      <td>91</td>\n      <td>JAY AND SILENT BOB STRIKE BACK Screenplay by K...</td>\n      <td>135356</td>\n      <td>24046</td>\n      <td>en</td>\n      <td>0.999997</td>\n    </tr>\n    <tr>\n      <th>229</th>\n      <td>Carrie Underwood</td>\n      <td>Favorite Time Of Year</td>\n      <td>3</td>\n      <td>80</td>\n      <td>Last updated: 10/6/2018, 5:16PM MST OctoberOct...</td>\n      <td>79241</td>\n      <td>13651</td>\n      <td>en</td>\n      <td>0.999994</td>\n    </tr>\n    <tr>\n      <th>1165</th>\n      <td>The Kid LAROI Featuring Machine Gun Kelly</td>\n      <td>Fuck You, Goodbye</td>\n      <td>1</td>\n      <td>99</td>\n      <td># 03' Adolescence - J. Cole 1, 2 - mxmtoon 1.5...</td>\n      <td>58416</td>\n      <td>11291</td>\n      <td>en</td>\n      <td>0.999995</td>\n    </tr>\n    <tr>\n      <th>1051</th>\n      <td>SZA X Justin Timberlake</td>\n      <td>The Other Side</td>\n      <td>7</td>\n      <td>61</td>\n      <td>2/1 FELIX SANDMAN -  \"BOYS WITH EMOTIONS\" GARZ...</td>\n      <td>20267</td>\n      <td>3594</td>\n      <td>en</td>\n      <td>0.999997</td>\n    </tr>\n    <tr>\n      <th>631</th>\n      <td>Kelsea Ballerini x Halsey</td>\n      <td>The Other Girl</td>\n      <td>1</td>\n      <td>95</td>\n      <td>2/1 FELIX SANDMAN -  \"BOYS WITH EMOTIONS\" GARZ...</td>\n      <td>20267</td>\n      <td>3594</td>\n      <td>en</td>\n      <td>0.999995</td>\n    </tr>\n    <tr>\n      <th>646</th>\n      <td>Khalid x Disclosure</td>\n      <td>Know Your Worth</td>\n      <td>8</td>\n      <td>57</td>\n      <td>2/1 FELIX SANDMAN -  \"BOYS WITH EMOTIONS\" GARZ...</td>\n      <td>20267</td>\n      <td>3594</td>\n      <td>en</td>\n      <td>0.999996</td>\n    </tr>\n    <tr>\n      <th>1209</th>\n      <td>Trevor Daniel x Selena Gomez</td>\n      <td>Past Life</td>\n      <td>5</td>\n      <td>77</td>\n      <td>8/1 Rob Markman - \"Easy Money Sniper\" vowl. &amp; ...</td>\n      <td>19182</td>\n      <td>3406</td>\n      <td>en</td>\n      <td>0.999996</td>\n    </tr>\n    <tr>\n      <th>890</th>\n      <td>Moneybagg Yo X Megan Thee Stallion</td>\n      <td>All Dat</td>\n      <td>4</td>\n      <td>70</td>\n      <td>10/1 Ant Clemons -  \"4 Letter Word\"  ft. Timba...</td>\n      <td>13926</td>\n      <td>2528</td>\n      <td>en</td>\n      <td>0.999995</td>\n    </tr>\n    <tr>\n      <th>191</th>\n      <td>Black Eyed Peas X J Balvin</td>\n      <td>RITMO (Bad Boys For Life)</td>\n      <td>27</td>\n      <td>26</td>\n      <td>10/1 Ant Clemons - \"4 Letter Word\" ft. Timbala...</td>\n      <td>13441</td>\n      <td>2528</td>\n      <td>en</td>\n      <td>0.999995</td>\n    </tr>\n    <tr>\n      <th>152</th>\n      <td>Bad Bunny X Anuel AA</td>\n      <td>Esta Cabron Ser Yo</td>\n      <td>1</td>\n      <td>97</td>\n      <td>favoritos 2020 por Rogelio 📝 Canciones 📝 • 3ra...</td>\n      <td>12635</td>\n      <td>2607</td>\n      <td>es</td>\n      <td>0.571428</td>\n    </tr>\n  </tbody>\n</table>\n</div>"
     },
     "execution_count": 20,
     "metadata": {},
     "output_type": "execute_result"
    }
   ],
   "source": [
    "lyrics_sort_desc = lyrics.sort_values(by='length', ascending=False)\n",
    "lyrics_sort_desc.head(10)\n"
   ],
   "metadata": {
    "collapsed": false,
    "pycharm": {
     "name": "#%%\n"
    }
   }
  },
  {
   "cell_type": "markdown",
   "source": [
    "I assume most of the songs have a length between 1 and 5 minutes. According to speech and publication coach Daphne Gray-Grant,\n",
    "a fast speaker might get to 800 words per minute in 5 minutes. Now assuming that the lyrics will contain words that aren't sung or spoken\n",
    "like \"Intro\" and some songs will contain interjections like \"hey\" which are quick to say, a word count of maximum 1000 words in\n",
    "a chart song seems realistic. Some songs might be in a different language and thus can have a greater word count.\n",
    "\n",
    "To validate long lyrics and detect outliers, I am looking a songs with a word count greater than 1000."
   ],
   "metadata": {
    "collapsed": false,
    "pycharm": {
     "name": "#%% md\n"
    }
   }
  },
  {
   "cell_type": "code",
   "source": [
    "long_lyrics = lyrics_sort_desc[['lyrics','length', 'word_count']].loc[lyrics['word_count'] > 1000]\n",
    "print(long_lyrics)"
   ],
   "metadata": {
    "collapsed": false,
    "pycharm": {
     "name": "#%%\n"
    }
   },
   "execution_count": 21,
   "outputs": [
    {
     "name": "stdout",
     "output_type": "stream",
     "text": [
      "                                                 lyrics  length  word_count\n",
      "531   JAY AND SILENT BOB STRIKE BACK Screenplay by K...  135356       24046\n",
      "229   Last updated: 10/6/2018, 5:16PM MST OctoberOct...   79241       13651\n",
      "1165  # 03' Adolescence - J. Cole 1, 2 - mxmtoon 1.5...   58416       11291\n",
      "1051  2/1 FELIX SANDMAN -  \"BOYS WITH EMOTIONS\" GARZ...   20267        3594\n",
      "631   2/1 FELIX SANDMAN -  \"BOYS WITH EMOTIONS\" GARZ...   20267        3594\n",
      "646   2/1 FELIX SANDMAN -  \"BOYS WITH EMOTIONS\" GARZ...   20267        3594\n",
      "1209  8/1 Rob Markman - \"Easy Money Sniper\" vowl. & ...   19182        3406\n",
      "890   10/1 Ant Clemons -  \"4 Letter Word\"  ft. Timba...   13926        2528\n",
      "191   10/1 Ant Clemons - \"4 Letter Word\" ft. Timbala...   13441        2528\n",
      "152   favoritos 2020 por Rogelio 📝 Canciones 📝 • 3ra...   12635        2607\n",
      "647   4/1 Ariana Grande & Victoria Monet - \"MONOPOLY...   10503        1979\n",
      "575   7/1 Hammerhedd - Grand Currents -8/8 ZICO (지코)...    9802        1988\n",
      "216   Most Popular Scribes 1,000,000+ views (12) • \"...    9489        2053\n",
      "153   500,000+ views 🔸 Bad Bunny, Jowell & Randy & Ñ...    8198        1683\n",
      "946   500,000+ views 🔸 Bad Bunny, Jowell & Randy & Ñ...    8198        1683\n",
      "945   500,000+ views 🔸 Bad Bunny, Jowell & Randy & Ñ...    8198        1683\n",
      "928   500,000+ views 🔸 Bad Bunny, Jowell & Randy & Ñ...    8198        1683\n",
      "365   Yeah I was born a misfit, grew up ten miles fr...    7619        1565\n",
      "69    * = letra incompleta.  = Canción filtrada 02/1...    7029        1338\n",
      "1102  June, you're a genius Hitmaka  Heard somebody ...    6018        1171\n",
      "375   I don't wanna be alone, I don't wanna be I don...    5970        1127\n",
      "1194  [Intro:  Media Montage ] It's one of the crazi...    5907        1153\n",
      "938   Uh, nobody, you know what I'm sayin', nobody, ...    5885        1088\n",
      "908   (Yeah) Hey! Leave me alone  Panic-stricken, ha...    5770        1104\n",
      "507   Back with the remix These boys all my sons lik...    5747        1111\n",
      "703   Protests and growing national outcry continues...    5615        1134\n",
      "937   Woo  I'm a maniac, go crazy for the cash (Hey,...    5513        1054\n",
      "293   They said they want some of that raw shit (Raw...    5150        1037\n",
      "693   Firin' at everybody Firin' at everybody ( Sect...    5049        1027\n",
      "940   808 Mafia! What they gon' do? What they gon' d...    5048        1002\n",
      "4     I love you Turn my headphone down a little bit...    5037        1056\n",
      "466   Aimin' at a date, aimin' at a Wraith, aimin' a...    4930        1023\n",
      "1081  Skip to: April | May | June APRIL 4/1 Allie X ...    4809        1008\n"
     ]
    }
   ]
  },
  {
   "cell_type": "markdown",
   "source": [
    "Exporting long lyrics"
   ],
   "metadata": {
    "collapsed": false
   }
  },
  {
   "cell_type": "code",
   "execution_count": null,
   "outputs": [],
   "source": [
    "long_lyrics = lyrics_sort_desc.loc[lyrics['word_count'] > 1000]\n",
    "long_lyrics.to_csv('data/lyrics/long_lyrics.csv')\n"
   ],
   "metadata": {
    "collapsed": false,
    "pycharm": {
     "name": "#%%\n"
    }
   }
  },
  {
   "cell_type": "markdown",
   "source": [
    "### Exploring songs classified as non english"
   ],
   "metadata": {
    "collapsed": false,
    "pycharm": {
     "name": "#%% md\n"
    }
   }
  },
  {
   "cell_type": "code",
   "execution_count": 25,
   "outputs": [
    {
     "data": {
      "text/plain": "                                                artist                 song  \\\n32                                             6ix9ine                 YaYa   \n48         A Boogie Wit da Hoodie Featuring Young Thug    Might Not Give Up   \n52                                             Agust D            Daechwita   \n64                                            Anuel AA                 KEII   \n65                                Anuel AA & Bad Bunny  Hasta Que Dios Diga   \n66                                  Anuel AA & Karol G              Secreto   \n67                             Anuel AA & Romeo Santos    Ella Quiere Beber   \n68   Anuel AA, Daddy Yankee, Karol G, Ozuna & J Balvin                China   \n69                                     Arcangel x Sech        Sigues Con El   \n98                    Ariana Grande Featuring Doja Cat               Motive   \n100              Ariana Grande Featuring Ty Dolla $ign           Safety Net   \n107                                           Aventura             Inmortal   \n109                        Avicii Featuring Aloe Blacc                  SOS   \n110                      BENEE Featuring Gus Dapperton           Supalonely   \n117                                                BTS          Blue & Grey   \n\n     weeks_on_chart  peak_rank  \\\n32                1         99   \n48                1         66   \n52                1         76   \n64                1         83   \n65                1         86   \n66               11         68   \n67               20         61   \n68               18         43   \n69                3         78   \n98                2         32   \n100               1         52   \n107               1         95   \n109               4         68   \n110              22         39   \n117               1         13   \n\n                                                lyrics  length  word_count  \\\n32   Ransom got that sauce in it Se pinta los labio...    1675         279   \n48                                             !Error!       7           1   \n52   명금일하 대취타 하랍신다 예이!  Yeah, uh 대취타 대취타 자 울려라 대취타 ...    1222         329   \n64   Ella ya no piensa en él (En él) Él la convirti...    2746         554   \n65   Brr Hoy la noche se acaba, tú desnuda en mi ca...    3498         673   \n66   Bebecita Bebe-bebecita, uah Bebecita  Lo de no...    2711         498   \n67   [Intro: Romeo Santos &  Anuel AA ] Check, chec...    2762         544   \n68   [Intro: Rikrok,  Anuel AA ,  Daddy Yankee  &  ...    4703         954   \n69   * = letra incompleta.  = Canción filtrada 02/1...    7029        1338   \n98   Mu-Mu-Mu-Murda  Dime por qué tengo este presen...    2099         383   \n100  Si  Sabes que realmente eres algo, si ¿Cómo ll...    1803         327   \n107  Tu grupo favorito  Nadie entiende cómo este am...    2027         383   \n109  Você pode me ouvir? SOS Me ajude a descansar m...    1129         213   \n110  Biliyorum işleri berbat ettim, sadece ezik bir...    1964         250   \n117  Where is my angel? 하루의 끝을 드리운 Someone come and...    1032         269   \n\n    language  language_score  \n32        es        0.857139  \n48        de        0.999996  \n52        ko        1.000000  \n64        es        0.999995  \n65        es        0.999995  \n66        es        0.999997  \n67        es        0.999996  \n68        es        0.999996  \n69        es        0.571425  \n98        es        0.999996  \n100       es        0.999996  \n107       es        0.999996  \n109       pt        0.999995  \n110       tr        0.999999  \n117       ko        0.999999  ",
      "text/html": "<div>\n<style scoped>\n    .dataframe tbody tr th:only-of-type {\n        vertical-align: middle;\n    }\n\n    .dataframe tbody tr th {\n        vertical-align: top;\n    }\n\n    .dataframe thead th {\n        text-align: right;\n    }\n</style>\n<table border=\"1\" class=\"dataframe\">\n  <thead>\n    <tr style=\"text-align: right;\">\n      <th></th>\n      <th>artist</th>\n      <th>song</th>\n      <th>weeks_on_chart</th>\n      <th>peak_rank</th>\n      <th>lyrics</th>\n      <th>length</th>\n      <th>word_count</th>\n      <th>language</th>\n      <th>language_score</th>\n    </tr>\n  </thead>\n  <tbody>\n    <tr>\n      <th>32</th>\n      <td>6ix9ine</td>\n      <td>YaYa</td>\n      <td>1</td>\n      <td>99</td>\n      <td>Ransom got that sauce in it Se pinta los labio...</td>\n      <td>1675</td>\n      <td>279</td>\n      <td>es</td>\n      <td>0.857139</td>\n    </tr>\n    <tr>\n      <th>48</th>\n      <td>A Boogie Wit da Hoodie Featuring Young Thug</td>\n      <td>Might Not Give Up</td>\n      <td>1</td>\n      <td>66</td>\n      <td>!Error!</td>\n      <td>7</td>\n      <td>1</td>\n      <td>de</td>\n      <td>0.999996</td>\n    </tr>\n    <tr>\n      <th>52</th>\n      <td>Agust D</td>\n      <td>Daechwita</td>\n      <td>1</td>\n      <td>76</td>\n      <td>명금일하 대취타 하랍신다 예이!  Yeah, uh 대취타 대취타 자 울려라 대취타 ...</td>\n      <td>1222</td>\n      <td>329</td>\n      <td>ko</td>\n      <td>1.000000</td>\n    </tr>\n    <tr>\n      <th>64</th>\n      <td>Anuel AA</td>\n      <td>KEII</td>\n      <td>1</td>\n      <td>83</td>\n      <td>Ella ya no piensa en él (En él) Él la convirti...</td>\n      <td>2746</td>\n      <td>554</td>\n      <td>es</td>\n      <td>0.999995</td>\n    </tr>\n    <tr>\n      <th>65</th>\n      <td>Anuel AA &amp; Bad Bunny</td>\n      <td>Hasta Que Dios Diga</td>\n      <td>1</td>\n      <td>86</td>\n      <td>Brr Hoy la noche se acaba, tú desnuda en mi ca...</td>\n      <td>3498</td>\n      <td>673</td>\n      <td>es</td>\n      <td>0.999995</td>\n    </tr>\n    <tr>\n      <th>66</th>\n      <td>Anuel AA &amp; Karol G</td>\n      <td>Secreto</td>\n      <td>11</td>\n      <td>68</td>\n      <td>Bebecita Bebe-bebecita, uah Bebecita  Lo de no...</td>\n      <td>2711</td>\n      <td>498</td>\n      <td>es</td>\n      <td>0.999997</td>\n    </tr>\n    <tr>\n      <th>67</th>\n      <td>Anuel AA &amp; Romeo Santos</td>\n      <td>Ella Quiere Beber</td>\n      <td>20</td>\n      <td>61</td>\n      <td>[Intro: Romeo Santos &amp;  Anuel AA ] Check, chec...</td>\n      <td>2762</td>\n      <td>544</td>\n      <td>es</td>\n      <td>0.999996</td>\n    </tr>\n    <tr>\n      <th>68</th>\n      <td>Anuel AA, Daddy Yankee, Karol G, Ozuna &amp; J Balvin</td>\n      <td>China</td>\n      <td>18</td>\n      <td>43</td>\n      <td>[Intro: Rikrok,  Anuel AA ,  Daddy Yankee  &amp;  ...</td>\n      <td>4703</td>\n      <td>954</td>\n      <td>es</td>\n      <td>0.999996</td>\n    </tr>\n    <tr>\n      <th>69</th>\n      <td>Arcangel x Sech</td>\n      <td>Sigues Con El</td>\n      <td>3</td>\n      <td>78</td>\n      <td>* = letra incompleta.  = Canción filtrada 02/1...</td>\n      <td>7029</td>\n      <td>1338</td>\n      <td>es</td>\n      <td>0.571425</td>\n    </tr>\n    <tr>\n      <th>98</th>\n      <td>Ariana Grande Featuring Doja Cat</td>\n      <td>Motive</td>\n      <td>2</td>\n      <td>32</td>\n      <td>Mu-Mu-Mu-Murda  Dime por qué tengo este presen...</td>\n      <td>2099</td>\n      <td>383</td>\n      <td>es</td>\n      <td>0.999996</td>\n    </tr>\n    <tr>\n      <th>100</th>\n      <td>Ariana Grande Featuring Ty Dolla $ign</td>\n      <td>Safety Net</td>\n      <td>1</td>\n      <td>52</td>\n      <td>Si  Sabes que realmente eres algo, si ¿Cómo ll...</td>\n      <td>1803</td>\n      <td>327</td>\n      <td>es</td>\n      <td>0.999996</td>\n    </tr>\n    <tr>\n      <th>107</th>\n      <td>Aventura</td>\n      <td>Inmortal</td>\n      <td>1</td>\n      <td>95</td>\n      <td>Tu grupo favorito  Nadie entiende cómo este am...</td>\n      <td>2027</td>\n      <td>383</td>\n      <td>es</td>\n      <td>0.999996</td>\n    </tr>\n    <tr>\n      <th>109</th>\n      <td>Avicii Featuring Aloe Blacc</td>\n      <td>SOS</td>\n      <td>4</td>\n      <td>68</td>\n      <td>Você pode me ouvir? SOS Me ajude a descansar m...</td>\n      <td>1129</td>\n      <td>213</td>\n      <td>pt</td>\n      <td>0.999995</td>\n    </tr>\n    <tr>\n      <th>110</th>\n      <td>BENEE Featuring Gus Dapperton</td>\n      <td>Supalonely</td>\n      <td>22</td>\n      <td>39</td>\n      <td>Biliyorum işleri berbat ettim, sadece ezik bir...</td>\n      <td>1964</td>\n      <td>250</td>\n      <td>tr</td>\n      <td>0.999999</td>\n    </tr>\n    <tr>\n      <th>117</th>\n      <td>BTS</td>\n      <td>Blue &amp; Grey</td>\n      <td>1</td>\n      <td>13</td>\n      <td>Where is my angel? 하루의 끝을 드리운 Someone come and...</td>\n      <td>1032</td>\n      <td>269</td>\n      <td>ko</td>\n      <td>0.999999</td>\n    </tr>\n  </tbody>\n</table>\n</div>"
     },
     "execution_count": 25,
     "metadata": {},
     "output_type": "execute_result"
    }
   ],
   "source": [
    "non_english = lyrics.loc[lyrics['language'] != 'en']\n",
    "non_english.head(15)"
   ],
   "metadata": {
    "collapsed": false,
    "pycharm": {
     "name": "#%%\n"
    }
   }
  },
  {
   "cell_type": "code",
   "execution_count": 24,
   "outputs": [
    {
     "data": {
      "text/plain": "       weeks_on_chart   peak_rank        length   word_count  language_score\ncount      141.000000  141.000000    141.000000   141.000000      141.000000\nmean         8.177305   50.574468   2329.624113   422.907801        0.951364\nstd          9.836727   30.550248   1822.521654   333.012460        0.194553\nmin          1.000000    1.000000      3.000000     1.000000       -1.000000\n25%          1.000000   22.000000   1311.000000   257.000000        0.999995\n50%          3.000000   54.000000   2099.000000   400.000000        0.999996\n75%         15.000000   76.000000   3145.000000   548.000000        0.999997\nmax         52.000000   99.000000  12635.000000  2607.000000        1.000000",
      "text/html": "<div>\n<style scoped>\n    .dataframe tbody tr th:only-of-type {\n        vertical-align: middle;\n    }\n\n    .dataframe tbody tr th {\n        vertical-align: top;\n    }\n\n    .dataframe thead th {\n        text-align: right;\n    }\n</style>\n<table border=\"1\" class=\"dataframe\">\n  <thead>\n    <tr style=\"text-align: right;\">\n      <th></th>\n      <th>weeks_on_chart</th>\n      <th>peak_rank</th>\n      <th>length</th>\n      <th>word_count</th>\n      <th>language_score</th>\n    </tr>\n  </thead>\n  <tbody>\n    <tr>\n      <th>count</th>\n      <td>141.000000</td>\n      <td>141.000000</td>\n      <td>141.000000</td>\n      <td>141.000000</td>\n      <td>141.000000</td>\n    </tr>\n    <tr>\n      <th>mean</th>\n      <td>8.177305</td>\n      <td>50.574468</td>\n      <td>2329.624113</td>\n      <td>422.907801</td>\n      <td>0.951364</td>\n    </tr>\n    <tr>\n      <th>std</th>\n      <td>9.836727</td>\n      <td>30.550248</td>\n      <td>1822.521654</td>\n      <td>333.012460</td>\n      <td>0.194553</td>\n    </tr>\n    <tr>\n      <th>min</th>\n      <td>1.000000</td>\n      <td>1.000000</td>\n      <td>3.000000</td>\n      <td>1.000000</td>\n      <td>-1.000000</td>\n    </tr>\n    <tr>\n      <th>25%</th>\n      <td>1.000000</td>\n      <td>22.000000</td>\n      <td>1311.000000</td>\n      <td>257.000000</td>\n      <td>0.999995</td>\n    </tr>\n    <tr>\n      <th>50%</th>\n      <td>3.000000</td>\n      <td>54.000000</td>\n      <td>2099.000000</td>\n      <td>400.000000</td>\n      <td>0.999996</td>\n    </tr>\n    <tr>\n      <th>75%</th>\n      <td>15.000000</td>\n      <td>76.000000</td>\n      <td>3145.000000</td>\n      <td>548.000000</td>\n      <td>0.999997</td>\n    </tr>\n    <tr>\n      <th>max</th>\n      <td>52.000000</td>\n      <td>99.000000</td>\n      <td>12635.000000</td>\n      <td>2607.000000</td>\n      <td>1.000000</td>\n    </tr>\n  </tbody>\n</table>\n</div>"
     },
     "execution_count": 24,
     "metadata": {},
     "output_type": "execute_result"
    }
   ],
   "source": [
    "non_english.describe()"
   ],
   "metadata": {
    "collapsed": false,
    "pycharm": {
     "name": "#%%\n"
    }
   }
  },
  {
   "cell_type": "code",
   "execution_count": 29,
   "outputs": [
    {
     "data": {
      "text/plain": "                             artist                song  weeks_on_chart  \\\n69                  Arcangel x Sech       Sigues Con El               3   \n120                             BTS              Filter               1   \n122                             BTS        Life Goes On               3   \n151       Bad Bunny Featuring Drake                 MIA              27   \n152            Bad Bunny X Anuel AA  Esta Cabron Ser Yo               1   \n214                              CJ             Whoopty               6   \n270      DJ Snake, J. Balvin & Tyga        Loco Contigo               2   \n383   Eminem Featuring Joyner Lucas           Lucky You              14   \n482         Hikaru Utada & Skrillex       Face My Fears               1   \n516                    Jason Derulo    Take You Dancing               3   \n1042         Rosalia & Travis Scott                 TKN               1   \n1300                           Zayn              Better               1   \n\n      peak_rank                                             lyrics  length  \\\n69           78  * = letra incompleta.  = Canción filtrada 02/1...    7029   \n120          87  너의 따분한 그 표정 지루한 발끝 Please, look at me now 핸드폰은...     823   \n122           1  어느 날 세상이 멈췄어 아무런 예고도 하나 없이 봄은 기다림을 몰라서 눈치 없이 와...    1071   \n151           5  [Intro: Sean Paul,  Bad Bunny  &   Drake ] Ble...    3497   \n152          97  favoritos 2020 por Rogelio 📝 Canciones 📝 • 3ra...   12635   \n214          51  Heavy on the SSO shit, man Loyalty over royalt...    9020   \n270          95  Tú me tienes loco, loco contigo Yo trato y tra...    1992   \n383           6  Wow.. shetty shetty Haan.. haa haa Haa tu rahe...    4607   \n482          98  宇多田ヒカル & Skrillexの「Face My Fears」歌詞  ねえ　どれくらい ...     535   \n516          94  Da-da-da-da-da-da Da-da-da-da-da-da Da-da-da-d...    2250   \n1042         66  Cosa' de familia, no la' tienen que escucha' L...    1477   \n1300         89                                                NaN       3   \n\n      word_count language  language_score  \n69          1338       es        0.571425  \n120          203       ko        0.714282  \n122          263       ko        0.571427  \n151          743       es        0.571427  \n152         2607       es        0.571428  \n214          444       lv        0.571428  \n270          385       es        0.714284  \n383          911       id        0.714285  \n482          107       fr        0.714283  \n516          385       id        0.571425  \n1042         293       es        0.714283  \n1300           1        -       -1.000000  ",
      "text/html": "<div>\n<style scoped>\n    .dataframe tbody tr th:only-of-type {\n        vertical-align: middle;\n    }\n\n    .dataframe tbody tr th {\n        vertical-align: top;\n    }\n\n    .dataframe thead th {\n        text-align: right;\n    }\n</style>\n<table border=\"1\" class=\"dataframe\">\n  <thead>\n    <tr style=\"text-align: right;\">\n      <th></th>\n      <th>artist</th>\n      <th>song</th>\n      <th>weeks_on_chart</th>\n      <th>peak_rank</th>\n      <th>lyrics</th>\n      <th>length</th>\n      <th>word_count</th>\n      <th>language</th>\n      <th>language_score</th>\n    </tr>\n  </thead>\n  <tbody>\n    <tr>\n      <th>69</th>\n      <td>Arcangel x Sech</td>\n      <td>Sigues Con El</td>\n      <td>3</td>\n      <td>78</td>\n      <td>* = letra incompleta.  = Canción filtrada 02/1...</td>\n      <td>7029</td>\n      <td>1338</td>\n      <td>es</td>\n      <td>0.571425</td>\n    </tr>\n    <tr>\n      <th>120</th>\n      <td>BTS</td>\n      <td>Filter</td>\n      <td>1</td>\n      <td>87</td>\n      <td>너의 따분한 그 표정 지루한 발끝 Please, look at me now 핸드폰은...</td>\n      <td>823</td>\n      <td>203</td>\n      <td>ko</td>\n      <td>0.714282</td>\n    </tr>\n    <tr>\n      <th>122</th>\n      <td>BTS</td>\n      <td>Life Goes On</td>\n      <td>3</td>\n      <td>1</td>\n      <td>어느 날 세상이 멈췄어 아무런 예고도 하나 없이 봄은 기다림을 몰라서 눈치 없이 와...</td>\n      <td>1071</td>\n      <td>263</td>\n      <td>ko</td>\n      <td>0.571427</td>\n    </tr>\n    <tr>\n      <th>151</th>\n      <td>Bad Bunny Featuring Drake</td>\n      <td>MIA</td>\n      <td>27</td>\n      <td>5</td>\n      <td>[Intro: Sean Paul,  Bad Bunny  &amp;   Drake ] Ble...</td>\n      <td>3497</td>\n      <td>743</td>\n      <td>es</td>\n      <td>0.571427</td>\n    </tr>\n    <tr>\n      <th>152</th>\n      <td>Bad Bunny X Anuel AA</td>\n      <td>Esta Cabron Ser Yo</td>\n      <td>1</td>\n      <td>97</td>\n      <td>favoritos 2020 por Rogelio 📝 Canciones 📝 • 3ra...</td>\n      <td>12635</td>\n      <td>2607</td>\n      <td>es</td>\n      <td>0.571428</td>\n    </tr>\n    <tr>\n      <th>214</th>\n      <td>CJ</td>\n      <td>Whoopty</td>\n      <td>6</td>\n      <td>51</td>\n      <td>Heavy on the SSO shit, man Loyalty over royalt...</td>\n      <td>9020</td>\n      <td>444</td>\n      <td>lv</td>\n      <td>0.571428</td>\n    </tr>\n    <tr>\n      <th>270</th>\n      <td>DJ Snake, J. Balvin &amp; Tyga</td>\n      <td>Loco Contigo</td>\n      <td>2</td>\n      <td>95</td>\n      <td>Tú me tienes loco, loco contigo Yo trato y tra...</td>\n      <td>1992</td>\n      <td>385</td>\n      <td>es</td>\n      <td>0.714284</td>\n    </tr>\n    <tr>\n      <th>383</th>\n      <td>Eminem Featuring Joyner Lucas</td>\n      <td>Lucky You</td>\n      <td>14</td>\n      <td>6</td>\n      <td>Wow.. shetty shetty Haan.. haa haa Haa tu rahe...</td>\n      <td>4607</td>\n      <td>911</td>\n      <td>id</td>\n      <td>0.714285</td>\n    </tr>\n    <tr>\n      <th>482</th>\n      <td>Hikaru Utada &amp; Skrillex</td>\n      <td>Face My Fears</td>\n      <td>1</td>\n      <td>98</td>\n      <td>宇多田ヒカル &amp; Skrillexの「Face My Fears」歌詞  ねえ　どれくらい ...</td>\n      <td>535</td>\n      <td>107</td>\n      <td>fr</td>\n      <td>0.714283</td>\n    </tr>\n    <tr>\n      <th>516</th>\n      <td>Jason Derulo</td>\n      <td>Take You Dancing</td>\n      <td>3</td>\n      <td>94</td>\n      <td>Da-da-da-da-da-da Da-da-da-da-da-da Da-da-da-d...</td>\n      <td>2250</td>\n      <td>385</td>\n      <td>id</td>\n      <td>0.571425</td>\n    </tr>\n    <tr>\n      <th>1042</th>\n      <td>Rosalia &amp; Travis Scott</td>\n      <td>TKN</td>\n      <td>1</td>\n      <td>66</td>\n      <td>Cosa' de familia, no la' tienen que escucha' L...</td>\n      <td>1477</td>\n      <td>293</td>\n      <td>es</td>\n      <td>0.714283</td>\n    </tr>\n    <tr>\n      <th>1300</th>\n      <td>Zayn</td>\n      <td>Better</td>\n      <td>1</td>\n      <td>89</td>\n      <td>NaN</td>\n      <td>3</td>\n      <td>1</td>\n      <td>-</td>\n      <td>-1.000000</td>\n    </tr>\n  </tbody>\n</table>\n</div>"
     },
     "execution_count": 29,
     "metadata": {},
     "output_type": "execute_result"
    }
   ],
   "source": [
    "non_english.loc[non_english['language_score'] < 0.80].head(20)"
   ],
   "metadata": {
    "collapsed": false,
    "pycharm": {
     "name": "#%%\n"
    }
   }
  },
  {
   "cell_type": "code",
   "execution_count": null,
   "outputs": [],
   "source": [],
   "metadata": {
    "collapsed": false,
    "pycharm": {
     "name": "#%%\n"
    }
   }
  }
 ],
 "metadata": {
  "kernelspec": {
   "display_name": "Python 3",
   "language": "python",
   "name": "python3"
  },
  "language_info": {
   "codemirror_mode": {
    "name": "ipython",
    "version": 2
   },
   "file_extension": ".py",
   "mimetype": "text/x-python",
   "name": "python",
   "nbconvert_exporter": "python",
   "pygments_lexer": "ipython2",
   "version": "2.7.6"
  }
 },
 "nbformat": 4,
 "nbformat_minor": 0
}