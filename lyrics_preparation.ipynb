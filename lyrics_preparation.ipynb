{
 "cells": [
  {
   "cell_type": "code",
   "execution_count": 1,
   "outputs": [
    {
     "name": "stdout",
     "output_type": "stream",
     "text": [
      "data/lyrics\\artist_song_lyrics.csv\n",
      "data/lyrics\\artist_song_lyrics_bak.csv\n",
      "data/lyrics\\filtered_lyrics.csv\n",
      "data/lyrics\\long_lyrics.csv\n",
      "data/lyrics\\lyrics_invalid.xlsx\n",
      "data/lyrics\\lyrics_invalid_updated.csv\n",
      "data/lyrics\\lyrics_valid.xlsx\n",
      "data/lyrics\\missing_lyrics.csv\n",
      "data/lyrics\\short_lyrics.csv\n"
     ]
    }
   ],
   "source": [
    "import numpy as np # linear algebra\n",
    "import pandas as pd # data processing, CSV file I/O (e.g. pd.read_csv)\n",
    "import seaborn as sns\n",
    "import matplotlib.pyplot as plt\n",
    "import datetime\n",
    "import os\n",
    "for dirname, _, filenames in os.walk('data/lyrics'):\n",
    "    for filename in filenames:\n",
    "        print(os.path.join(dirname, filename))\n",
    "\n",
    "\n",
    "def printProgressBar (iteration, total, prefix = '', suffix = '', decimals = 1, length = 100, fill = '█', printEnd = \"\\r\"):\n",
    "    \"\"\"\n",
    "    Call in a loop to create terminal progress bar\n",
    "    @params:\n",
    "        iteration   - Required  : current iteration (Int)\n",
    "        total       - Required  : total iterations (Int)\n",
    "        prefix      - Optional  : prefix string (Str)\n",
    "        suffix      - Optional  : suffix string (Str)\n",
    "        decimals    - Optional  : positive number of decimals in percent complete (Int)\n",
    "        length      - Optional  : character length of bar (Int)\n",
    "        fill        - Optional  : bar fill character (Str)\n",
    "        printEnd    - Optional  : end character (e.g. \"\\r\", \"\\r\\n\") (Str)\n",
    "    \"\"\"\n",
    "    percent = (\"{0:.\" + str(decimals) + \"f}\").format(100 * (iteration / float(total)))\n",
    "    filledLength = int(length * iteration // total)\n",
    "    bar = fill * filledLength + '-' * (length - filledLength)\n",
    "    print(f'\\r{prefix} |{bar}| {percent}% {suffix}', end = printEnd)\n",
    "    # Print New Line on Complete\n",
    "    if iteration == total:\n",
    "        print()"
   ],
   "metadata": {
    "collapsed": false,
    "pycharm": {
     "name": "#%%\n"
    }
   }
  },
  {
   "cell_type": "code",
   "execution_count": 2,
   "outputs": [
    {
     "data": {
      "text/plain": "     id                             artist first_artist                song  \\\n0  1093   2 Chainz Featuring Ariana Grande     2 Chainz      Rule The World   \n1  1099  2 Chainz Featuring Kendrick Lamar     2 Chainz  Momma I Hit A Lick   \n2  1074    2 Chainz Featuring Travis Scott     2 Chainz                Whip   \n3    85                          21 Savage    21 Savage                 1.5   \n4    36                          21 Savage    21 Savage               A Lot   \n\n   weeks_on_chart  peak_rank  \\\n0               2         94   \n1               1        100   \n2               1         75   \n3               1         86   \n4              23         12   \n\n                                              lyrics  \\\n0  Yeah\\nUh-huh\\n(Hitmaka)\\n2 Chainz\\n\\nTop down ...   \n1  I want it, I want it, I want it-it-it-it\\n\\nCh...   \n2  Yeah\\nDo it no hands, yeah, do it, no handstan...   \n3  My earrings cost a half a ticket, I don't hear...   \n4  I love you\\nTurn my headphone down a little bi...   \n\n                                                 url  \n0  https://genius.com/2-chainz-rule-the-world-lyrics  \n1  https://genius.com/2-chainz-momma-i-hit-a-lick...  \n2            https://genius.com/2-chainz-whip-lyrics  \n3             https://genius.com/21-savage-15-lyrics  \n4          https://genius.com/21-savage-a-lot-lyrics  ",
      "text/html": "<div>\n<style scoped>\n    .dataframe tbody tr th:only-of-type {\n        vertical-align: middle;\n    }\n\n    .dataframe tbody tr th {\n        vertical-align: top;\n    }\n\n    .dataframe thead th {\n        text-align: right;\n    }\n</style>\n<table border=\"1\" class=\"dataframe\">\n  <thead>\n    <tr style=\"text-align: right;\">\n      <th></th>\n      <th>id</th>\n      <th>artist</th>\n      <th>first_artist</th>\n      <th>song</th>\n      <th>weeks_on_chart</th>\n      <th>peak_rank</th>\n      <th>lyrics</th>\n      <th>url</th>\n    </tr>\n  </thead>\n  <tbody>\n    <tr>\n      <th>0</th>\n      <td>1093</td>\n      <td>2 Chainz Featuring Ariana Grande</td>\n      <td>2 Chainz</td>\n      <td>Rule The World</td>\n      <td>2</td>\n      <td>94</td>\n      <td>Yeah\\nUh-huh\\n(Hitmaka)\\n2 Chainz\\n\\nTop down ...</td>\n      <td>https://genius.com/2-chainz-rule-the-world-lyrics</td>\n    </tr>\n    <tr>\n      <th>1</th>\n      <td>1099</td>\n      <td>2 Chainz Featuring Kendrick Lamar</td>\n      <td>2 Chainz</td>\n      <td>Momma I Hit A Lick</td>\n      <td>1</td>\n      <td>100</td>\n      <td>I want it, I want it, I want it-it-it-it\\n\\nCh...</td>\n      <td>https://genius.com/2-chainz-momma-i-hit-a-lick...</td>\n    </tr>\n    <tr>\n      <th>2</th>\n      <td>1074</td>\n      <td>2 Chainz Featuring Travis Scott</td>\n      <td>2 Chainz</td>\n      <td>Whip</td>\n      <td>1</td>\n      <td>75</td>\n      <td>Yeah\\nDo it no hands, yeah, do it, no handstan...</td>\n      <td>https://genius.com/2-chainz-whip-lyrics</td>\n    </tr>\n    <tr>\n      <th>3</th>\n      <td>85</td>\n      <td>21 Savage</td>\n      <td>21 Savage</td>\n      <td>1.5</td>\n      <td>1</td>\n      <td>86</td>\n      <td>My earrings cost a half a ticket, I don't hear...</td>\n      <td>https://genius.com/21-savage-15-lyrics</td>\n    </tr>\n    <tr>\n      <th>4</th>\n      <td>36</td>\n      <td>21 Savage</td>\n      <td>21 Savage</td>\n      <td>A Lot</td>\n      <td>23</td>\n      <td>12</td>\n      <td>I love you\\nTurn my headphone down a little bi...</td>\n      <td>https://genius.com/21-savage-a-lot-lyrics</td>\n    </tr>\n  </tbody>\n</table>\n</div>"
     },
     "execution_count": 2,
     "metadata": {},
     "output_type": "execute_result"
    }
   ],
   "source": [
    "lyrics = pd.read_csv('data/lyrics/artist_song_lyrics.csv', encoding='utf-8', index_col=0)\n",
    "lyrics.head()\n"
   ],
   "metadata": {
    "collapsed": false,
    "pycharm": {
     "name": "#%%\n"
    }
   }
  },
  {
   "cell_type": "code",
   "execution_count": 3,
   "outputs": [
    {
     "data": {
      "text/plain": "        id                                        artist  \\\n1316    20                 benny blanco, Halsey & Khalid   \n1317  1092  benny blanco, Tainy, Selena Gomez & J Balvin   \n1318  3890                                     blackbear   \n1319  3693                            for KING & COUNTRY   \n1321  6822                             twenty one pilots   \n\n                           first_artist                song  weeks_on_chart  \\\n1316               benny blanco, Halsey            Eastside              52   \n1317  benny blanco, Tainy, Selena Gomez  I Can't Get Enough               5   \n1318                          blackbear     Hot Girl Bummer              42   \n1319                           for KING      God Only Knows               1   \n1321                  twenty one pilots    Level Of Concern              11   \n\n      peak_rank                                             lyrics  \\\n1316          9  Uh\\nYeah, yeah\\n\\nWhen I was young, I fell in ...   \n1317         66  Crazy\\nI like that, you like that, so let's be...   \n1318         11  Fuck you, and you, and you\\nI hate your friend...   \n1319         94  Wide awake while the world is sound asleepin'\\...   \n1321         23  Need you, tell me\\nNeed you, tell me\\n\\nPanic ...   \n\n                                                    url url_first_word  \\\n1316  https://genius.com/Benny-blanco-halsey-and-kha...            NaN   \n1317  https://genius.com/Benny-blanco-tainy-selena-g...            NaN   \n1318  https://genius.com/Blackbear-hot-girl-bummer-l...            NaN   \n1319  https://genius.com/For-king-and-country-god-on...            NaN   \n1321  https://genius.com/Twenty-one-pilots-level-of-...            NaN   \n\n     artist_first_word  \n1316             benny  \n1317             benny  \n1318         blackbear  \n1319               for  \n1321            twenty  ",
      "text/html": "<div>\n<style scoped>\n    .dataframe tbody tr th:only-of-type {\n        vertical-align: middle;\n    }\n\n    .dataframe tbody tr th {\n        vertical-align: top;\n    }\n\n    .dataframe thead th {\n        text-align: right;\n    }\n</style>\n<table border=\"1\" class=\"dataframe\">\n  <thead>\n    <tr style=\"text-align: right;\">\n      <th></th>\n      <th>id</th>\n      <th>artist</th>\n      <th>first_artist</th>\n      <th>song</th>\n      <th>weeks_on_chart</th>\n      <th>peak_rank</th>\n      <th>lyrics</th>\n      <th>url</th>\n      <th>url_first_word</th>\n      <th>artist_first_word</th>\n    </tr>\n  </thead>\n  <tbody>\n    <tr>\n      <th>1316</th>\n      <td>20</td>\n      <td>benny blanco, Halsey &amp; Khalid</td>\n      <td>benny blanco, Halsey</td>\n      <td>Eastside</td>\n      <td>52</td>\n      <td>9</td>\n      <td>Uh\\nYeah, yeah\\n\\nWhen I was young, I fell in ...</td>\n      <td>https://genius.com/Benny-blanco-halsey-and-kha...</td>\n      <td>NaN</td>\n      <td>benny</td>\n    </tr>\n    <tr>\n      <th>1317</th>\n      <td>1092</td>\n      <td>benny blanco, Tainy, Selena Gomez &amp; J Balvin</td>\n      <td>benny blanco, Tainy, Selena Gomez</td>\n      <td>I Can't Get Enough</td>\n      <td>5</td>\n      <td>66</td>\n      <td>Crazy\\nI like that, you like that, so let's be...</td>\n      <td>https://genius.com/Benny-blanco-tainy-selena-g...</td>\n      <td>NaN</td>\n      <td>benny</td>\n    </tr>\n    <tr>\n      <th>1318</th>\n      <td>3890</td>\n      <td>blackbear</td>\n      <td>blackbear</td>\n      <td>Hot Girl Bummer</td>\n      <td>42</td>\n      <td>11</td>\n      <td>Fuck you, and you, and you\\nI hate your friend...</td>\n      <td>https://genius.com/Blackbear-hot-girl-bummer-l...</td>\n      <td>NaN</td>\n      <td>blackbear</td>\n    </tr>\n    <tr>\n      <th>1319</th>\n      <td>3693</td>\n      <td>for KING &amp; COUNTRY</td>\n      <td>for KING</td>\n      <td>God Only Knows</td>\n      <td>1</td>\n      <td>94</td>\n      <td>Wide awake while the world is sound asleepin'\\...</td>\n      <td>https://genius.com/For-king-and-country-god-on...</td>\n      <td>NaN</td>\n      <td>for</td>\n    </tr>\n    <tr>\n      <th>1321</th>\n      <td>6822</td>\n      <td>twenty one pilots</td>\n      <td>twenty one pilots</td>\n      <td>Level Of Concern</td>\n      <td>11</td>\n      <td>23</td>\n      <td>Need you, tell me\\nNeed you, tell me\\n\\nPanic ...</td>\n      <td>https://genius.com/Twenty-one-pilots-level-of-...</td>\n      <td>NaN</td>\n      <td>twenty</td>\n    </tr>\n  </tbody>\n</table>\n</div>"
     },
     "execution_count": 3,
     "metadata": {},
     "output_type": "execute_result"
    }
   ],
   "source": [
    "lyrics_updated = pd.read_csv('data/lyrics/lyrics_invalid_updated.csv', encoding='utf-8', index_col=0)\n",
    "lyrics_updated.to_excel('data/output/lyrics_updated.xlsx')\n",
    "lyrics_updated.tail()"
   ],
   "metadata": {
    "collapsed": false,
    "pycharm": {
     "name": "#%%\n"
    }
   }
  },
  {
   "cell_type": "markdown",
   "source": [
    "### Consolidation and Validation"
   ],
   "metadata": {
    "collapsed": false,
    "pycharm": {
     "name": "#%% md\n"
    }
   }
  },
  {
   "cell_type": "code",
   "execution_count": 4,
   "outputs": [
    {
     "data": {
      "text/plain": "id                                                             6252\nartist                                     Bad Bunny X Daddy Yankee\nfirst_artist                                              Bad Bunny\nsong                                                       La Santa\nweeks_on_chart                                                    2\npeak_rank                                                        53\nlyrics            1,000,000+ views\\n🔸 Bad Bunny - Yonaguni // 1M...\nurl               https://genius.com/Polka-delamusic-polkas-popu...\nName: 153, dtype: object"
     },
     "execution_count": 4,
     "metadata": {},
     "output_type": "execute_result"
    }
   ],
   "source": [
    "lyrics.iloc[153]"
   ],
   "metadata": {
    "collapsed": false,
    "pycharm": {
     "name": "#%%\n"
    }
   }
  },
  {
   "cell_type": "code",
   "execution_count": 5,
   "outputs": [
    {
     "data": {
      "text/plain": "id                                                           6252.0\nartist                                     Bad Bunny X Daddy Yankee\nfirst_artist                                              Bad Bunny\nsong                                                       La Santa\nweeks_on_chart                                                  2.0\npeak_rank                                                      53.0\nlyrics            Tú no ere' una santa, ni yo soy un santo\\nNos ...\nurl               https://genius.com/Bad-bunny-and-daddy-yankee-...\nName: 153, dtype: object"
     },
     "execution_count": 5,
     "metadata": {},
     "output_type": "execute_result"
    }
   ],
   "source": [
    "lyrics.update(lyrics_updated)\n",
    "lyrics.iloc[153]"
   ],
   "metadata": {
    "collapsed": false,
    "pycharm": {
     "name": "#%%\n"
    }
   }
  },
  {
   "cell_type": "code",
   "execution_count": 6,
   "outputs": [],
   "source": [
    "def clean_string(string):\n",
    "    i = string.find('EmbedShare URLCopyEmbedCopy')\n",
    "    if i == 0:\n",
    "        return string\n",
    "    i -=1\n",
    "    while i > 0 and string[i].isdigit():\n",
    "        i -=1\n",
    "    return string[:i+1]\n",
    "\n",
    "lyrics['lyrics'] = lyrics['lyrics'].apply(lambda string: clean_string(string))\n"
   ],
   "metadata": {
    "collapsed": false,
    "pycharm": {
     "name": "#%%\n"
    }
   }
  },
  {
   "cell_type": "code",
   "execution_count": 7,
   "outputs": [
    {
     "name": "stdout",
     "output_type": "stream",
     "text": [
      "(1322, 8)\n",
      "Index(['id', 'artist', 'first_artist', 'song', 'weeks_on_chart', 'peak_rank',\n",
      "       'lyrics', 'url'],\n",
      "      dtype='object')\n"
     ]
    }
   ],
   "source": [
    "print(lyrics.shape)\n",
    "print(lyrics.columns)"
   ],
   "metadata": {
    "collapsed": false,
    "pycharm": {
     "name": "#%%\n"
    }
   }
  },
  {
   "cell_type": "code",
   "execution_count": 8,
   "metadata": {
    "collapsed": true
   },
   "outputs": [],
   "source": [
    "import spacy\n",
    "from spacy.language import Language\n",
    "from langdetect import DetectorFactory\n",
    "from spacy_langdetect import LanguageDetector\n",
    "\n",
    "@Language.factory(\"language_detector\")\n",
    "def create_language_detector(nlp, name):\n",
    "   return LanguageDetector(language_detection_function=None)\n",
    "#"
   ]
  },
  {
   "cell_type": "code",
   "source": [
    "nlp = spacy.load(\"en_core_web_lg\", exclude=['sentencizer'])\n",
    "nlp.add_pipe(\"sentencizer\", config={\"punct_chars\": ['\\n']})\n",
    "nlp.add_pipe('language_detector')\n"
   ],
   "metadata": {
    "collapsed": false,
    "pycharm": {
     "name": "#%%\n"
    }
   },
   "execution_count": 9,
   "outputs": [
    {
     "data": {
      "text/plain": "<spacy_langdetect.spacy_langdetect.LanguageDetector at 0x247ed799130>"
     },
     "execution_count": 9,
     "metadata": {},
     "output_type": "execute_result"
    }
   ]
  },
  {
   "cell_type": "code",
   "execution_count": 20,
   "outputs": [],
   "source": [
    "import ast\n",
    "#sentence level, each line is treated as one sentence\n",
    "def detect_languages(text, nlp):\n",
    "    DetectorFactory.seed = 0\n",
    "    result = {}\n",
    "    if type(text) == str:\n",
    "        doc = nlp(text)\n",
    "        for sent in doc.sents:\n",
    "            language = sent._.language['language']\n",
    "            score = sent._.language['score']\n",
    "            if score < 0.75:\n",
    "                break\n",
    "            if language in result.keys():\n",
    "                result[language] += 1\n",
    "            else:\n",
    "                result[language] = 1\n",
    "    else:\n",
    "        result = {'': 0}\n",
    "    return dict(sorted(result.items(), key=lambda item: item[1], reverse=True))\n",
    "\n",
    "# Retrieve data from cache to save time\n",
    "try:\n",
    "    languages = pd.read_csv('data/cache/lyrics_preparation_languages_sent.csv', index_col=0)\n",
    "    languages['languages_sent'] = languages['languages_sent'].apply(lambda dict: ast.literal_eval(dict))\n",
    "except:\n",
    "    languages = []\n",
    "    l = len(lyrics)\n",
    "\n",
    "    printProgressBar(0, l+1, prefix = 'Progress:', suffix = 'Complete', length = 50)\n",
    "    for i in range(0,l):\n",
    "        languages.append(detect_languages(lyrics.loc[i, 'lyrics'], nlp))\n",
    "        printProgressBar(i+1, l, prefix = 'Progress:', suffix = 'Complete', length = 50)\n",
    "\n",
    "lyrics['languages_sent'] = languages\n",
    "lyrics['languages_sent'].to_csv('data/cache/lyrics_preparation_languages_sent.csv')"
   ],
   "metadata": {
    "collapsed": false,
    "pycharm": {
     "name": "#%%\n"
    }
   }
  },
  {
   "cell_type": "code",
   "execution_count": 19,
   "outputs": [],
   "source": [
    "#document level\n",
    "def detect_language(text, nlp):\n",
    "    DetectorFactory.seed = 0\n",
    "    if type(text) == str:\n",
    "        doc = nlp(text)\n",
    "        result = doc._.language['language'], doc._.language['score']\n",
    "    else:\n",
    "        result = {'-': -1}\n",
    "    return result\n",
    "\n",
    "\n",
    "# Retrieve data from cache to save time\n",
    "try:\n",
    "    languages = pd.read_csv('data/cache/lyrics_preparation_language.csv', index_col=0)\n",
    "    scores = pd.read_csv('data/cache/lyrics_preparation_language_score.csv', index_col=0)\n",
    "except:\n",
    "    languages = []\n",
    "    scores = []\n",
    "    l = len(lyrics)\n",
    "\n",
    "    printProgressBar(0, l+1, prefix = 'Progress:', suffix = 'Complete', length = 50)\n",
    "    for i in range(0,l):\n",
    "        language, score = detect_language(lyrics.loc[i, 'lyrics'], nlp)\n",
    "        languages.append(language)\n",
    "        scores.append(score)\n",
    "        printProgressBar(i+1, l, prefix = 'Progress:', suffix = 'Complete', length = 50)\n",
    "\n",
    "lyrics['language'] = languages\n",
    "lyrics['language_score'] = scores\n",
    "lyrics['language'].to_csv('data/cache/lyrics_preparation_language.csv')\n",
    "lyrics['language_score'].to_csv('data/cache/lyrics_preparation_language_score.csv')"
   ],
   "metadata": {
    "collapsed": false,
    "pycharm": {
     "name": "#%%\n"
    }
   }
  },
  {
   "cell_type": "code",
   "execution_count": 12,
   "outputs": [],
   "source": [
    "lyrics['length'] = lyrics['lyrics'].apply(lambda string: len(str(string)))\n",
    "lyrics['word_count'] = lyrics['lyrics'].apply(lambda string: len(str(string).split()))"
   ],
   "metadata": {
    "collapsed": false,
    "pycharm": {
     "name": "#%%\n"
    }
   }
  },
  {
   "cell_type": "code",
   "execution_count": 13,
   "outputs": [
    {
     "name": "stdout",
     "output_type": "stream",
     "text": [
      "<class 'pandas.core.frame.DataFrame'>\n",
      "Int64Index: 1322 entries, 0 to 1321\n",
      "Data columns (total 13 columns):\n",
      " #   Column          Non-Null Count  Dtype  \n",
      "---  ------          --------------  -----  \n",
      " 0   id              1322 non-null   float64\n",
      " 1   artist          1322 non-null   object \n",
      " 2   first_artist    1322 non-null   object \n",
      " 3   song            1322 non-null   object \n",
      " 4   weeks_on_chart  1322 non-null   float64\n",
      " 5   peak_rank       1322 non-null   float64\n",
      " 6   lyrics          1322 non-null   object \n",
      " 7   url             1322 non-null   object \n",
      " 8   languages_sent  1322 non-null   object \n",
      " 9   language        1322 non-null   object \n",
      " 10  language_score  1322 non-null   float64\n",
      " 11  length          1322 non-null   int64  \n",
      " 12  word_count      1322 non-null   int64  \n",
      "dtypes: float64(4), int64(2), object(7)\n",
      "memory usage: 144.6+ KB\n"
     ]
    }
   ],
   "source": [
    "lyrics.info()"
   ],
   "metadata": {
    "collapsed": false,
    "pycharm": {
     "name": "#%%\n"
    }
   }
  },
  {
   "cell_type": "code",
   "execution_count": 14,
   "outputs": [
    {
     "data": {
      "text/plain": "                 id  weeks_on_chart    peak_rank  language_score       length  \\\ncount   1322.000000     1322.000000  1322.000000     1322.000000  1322.000000   \nmean    5177.734493        8.881997    51.161120        0.995350  2344.669440   \nstd     3242.740525       11.146522    28.710498        0.036788   992.718851   \nmin        0.000000        1.000000     1.000000        0.428569     6.000000   \n25%     2366.750000        1.000000    28.000000        0.999996  1633.250000   \n50%     5586.500000        3.000000    53.000000        0.999997  2131.000000   \n75%     7851.000000       15.000000    75.000000        0.999998  2909.500000   \nmax    10497.000000       61.000000   100.000000        1.000000  9019.000000   \n\n        word_count  language_sent_weight  \ncount  1322.000000           1322.000000  \nmean    463.667927              0.794394  \nstd     192.151670              0.316905  \nmin       1.000000              0.000000  \n25%     324.000000              0.666667  \n50%     425.000000              1.000000  \n75%     578.750000              1.000000  \nmax    1171.000000              1.000000  ",
      "text/html": "<div>\n<style scoped>\n    .dataframe tbody tr th:only-of-type {\n        vertical-align: middle;\n    }\n\n    .dataframe tbody tr th {\n        vertical-align: top;\n    }\n\n    .dataframe thead th {\n        text-align: right;\n    }\n</style>\n<table border=\"1\" class=\"dataframe\">\n  <thead>\n    <tr style=\"text-align: right;\">\n      <th></th>\n      <th>id</th>\n      <th>weeks_on_chart</th>\n      <th>peak_rank</th>\n      <th>language_score</th>\n      <th>length</th>\n      <th>word_count</th>\n      <th>language_sent_weight</th>\n    </tr>\n  </thead>\n  <tbody>\n    <tr>\n      <th>count</th>\n      <td>1322.000000</td>\n      <td>1322.000000</td>\n      <td>1322.000000</td>\n      <td>1322.000000</td>\n      <td>1322.000000</td>\n      <td>1322.000000</td>\n      <td>1322.000000</td>\n    </tr>\n    <tr>\n      <th>mean</th>\n      <td>5177.734493</td>\n      <td>8.881997</td>\n      <td>51.161120</td>\n      <td>0.995350</td>\n      <td>2344.669440</td>\n      <td>463.667927</td>\n      <td>0.794394</td>\n    </tr>\n    <tr>\n      <th>std</th>\n      <td>3242.740525</td>\n      <td>11.146522</td>\n      <td>28.710498</td>\n      <td>0.036788</td>\n      <td>992.718851</td>\n      <td>192.151670</td>\n      <td>0.316905</td>\n    </tr>\n    <tr>\n      <th>min</th>\n      <td>0.000000</td>\n      <td>1.000000</td>\n      <td>1.000000</td>\n      <td>0.428569</td>\n      <td>6.000000</td>\n      <td>1.000000</td>\n      <td>0.000000</td>\n    </tr>\n    <tr>\n      <th>25%</th>\n      <td>2366.750000</td>\n      <td>1.000000</td>\n      <td>28.000000</td>\n      <td>0.999996</td>\n      <td>1633.250000</td>\n      <td>324.000000</td>\n      <td>0.666667</td>\n    </tr>\n    <tr>\n      <th>50%</th>\n      <td>5586.500000</td>\n      <td>3.000000</td>\n      <td>53.000000</td>\n      <td>0.999997</td>\n      <td>2131.000000</td>\n      <td>425.000000</td>\n      <td>1.000000</td>\n    </tr>\n    <tr>\n      <th>75%</th>\n      <td>7851.000000</td>\n      <td>15.000000</td>\n      <td>75.000000</td>\n      <td>0.999998</td>\n      <td>2909.500000</td>\n      <td>578.750000</td>\n      <td>1.000000</td>\n    </tr>\n    <tr>\n      <th>max</th>\n      <td>10497.000000</td>\n      <td>61.000000</td>\n      <td>100.000000</td>\n      <td>1.000000</td>\n      <td>9019.000000</td>\n      <td>1171.000000</td>\n      <td>1.000000</td>\n    </tr>\n  </tbody>\n</table>\n</div>"
     },
     "execution_count": 14,
     "metadata": {},
     "output_type": "execute_result"
    }
   ],
   "source": [
    "def get_main_lang(languages):\n",
    "    if len(languages) > 0:\n",
    "        language = list(languages)[0]\n",
    "        weight = languages[language] / sum(languages.values())\n",
    "        return language, weight\n",
    "\n",
    "    else:\n",
    "        return '', 0\n",
    "\n",
    "lyrics['language_sent'] = lyrics['languages_sent'].apply(lambda languages: get_main_lang(languages)[0])\n",
    "lyrics['language_sent_weight'] = lyrics['languages_sent'].apply(lambda languages: get_main_lang(languages)[1])\n",
    "\n",
    "lyrics.describe()"
   ],
   "metadata": {
    "collapsed": false,
    "pycharm": {
     "name": "#%%\n"
    }
   }
  },
  {
   "cell_type": "code",
   "execution_count": 15,
   "outputs": [
    {
     "data": {
      "text/plain": "          id                                                     artist  \\\n32    8098.0                                                    6ix9ine   \n52    7475.0                                                    Agust D   \n62    9190.0                     Anitta Featuring Cardi B & Myke Towers   \n64    5982.0                                                   Anuel AA   \n65    7585.0                                       Anuel AA & Bad Bunny   \n...      ...                                                        ...   \n972    131.0                                                   Pinkfong   \n1054  7565.0                                     Rosalia & Travis Scott   \n1082  8963.0  Sech, Daddy Yankee & J Balvin Featuring Rosalia & Farruko   \n1083  2499.0                  Sech, Darell, Nicky Jam, Ozuna & Anuel AA   \n1116  3985.0                                    Tainy, Anuel AA & Ozuna   \n\n                        first_artist                 song  weeks_on_chart  \\\n32                           6ix9ine                 YaYa             1.0   \n52                           Agust D            Daechwita             1.0   \n62                            Anitta             Me Gusta             1.0   \n64                          Anuel AA                 KEII             1.0   \n65                          Anuel AA  Hasta Que Dios Diga             1.0   \n...                              ...                  ...             ...   \n972                         Pinkfong           Baby Shark            20.0   \n1054                         Rosalia                  TKN             1.0   \n1082   Sech, Daddy Yankee & J Balvin             Relacion            11.0   \n1083  Sech, Darell, Nicky Jam, Ozuna           Otro Trago            20.0   \n1116                 Tainy, Anuel AA               Adicto             2.0   \n\n      peak_rank  \\\n32         99.0   \n52         76.0   \n62         91.0   \n64         83.0   \n65         86.0   \n...         ...   \n972        32.0   \n1054       66.0   \n1082       64.0   \n1083       34.0   \n1116       86.0   \n\n                                                                                                                                                     lyrics  \\\n32    Ransom got that sauce in it\\nSe pinta los labio', hoy no tiene horario\\nQuiere que la busque en la Lambo\\nEsta noche coronamo'\\nDale, para termina...   \n52    명금일하 대취타 하랍신다\\n예이!\\n\\nYeah, uh\\n대취타 대취타 자 울려라 대취타\\n대취타 대취타 자 울려라 대취타\\n대취타 대취타 자 울려라 대취타\\n대취타 대취타 자 울려라 대취타\\n\\n대취타 대취타 자 울려라 대취타 (Yeah-yeah)\\n빛이나 빛...   \n62    Uh-uh-uh-uh-uh-uh-uh\\nGo!\\nYah, yah, yah\\nTra\\nYah, yah, yah\\n\\nA mí me gusta\\nEvery time you look at me that way\\nA mí me gusta\\nAll the dirty th...   \n64    Ella ya no piensa en él (En él)\\nÉl la convirtió en alguien que ella no e'\\nNo le basta dar amor y ser fiel (Ser fiel)\\nHoy se va modo Romeo, ella...   \n65    Brr\\nHoy la noche se acaba, tú desnuda en mi cama (Cama)\\nAnoche te soñé (Soñé), y me quedé con las gana' (Gana'; uah)\\nBaby, apaga el celular que...   \n...                                                                                                                                                     ...   \n972   Baby shark, doo doo doo doo doo doo\\nBaby shark, doo doo doo doo doo doo\\nBaby shark, doo doo doo doo doo doo\\nBaby shark!\\n\\nMommy shark, doo doo...   \n1054  Cosa' de familia, no la' tienen que escucha'\\nLo' capo' con lo' capo' y yo soy la mamá\\nLos secreto' solo con quien pueda' confia'\\nMás-Más te val...   \n1082  Ahora todo cambió, le toca a ella\\nLatino gang\\nAyer la vi perreando solita (Welcome to the remix)\\nSe ve má' bonita\\nAhora que no está con ese ma...   \n1083  Sigue aquí tomándose otro tra–\\n(¡This is the remix!)\\nLa vida para ti no ha sido fácil\\nHa sido, en el amor, muy demasia'o difícil\\nHay algo en é...   \n1116  (Uah)\\nHan pasado varios día' y 'toy enfermo de ti\\nDime qué me hiciste, ma'\\nDe mi memoria yo no te puedo borrar\\nDios me va a castigar, le prome...   \n\n                                                                          url  \\\n32                                     https://genius.com/6ix9ine-yaya-lyrics   \n52                                https://genius.com/Agust-d-daechwita-lyrics   \n62                                  https://genius.com/Anitta-me-gusta-lyrics   \n64                                    https://genius.com/Anuel-aa-keii-lyrics   \n65       https://genius.com/Anuel-aa-and-bad-bunny-hasta-que-dios-diga-lyrics   \n...                                                                       ...   \n972                             https://genius.com/Pinkfong-baby-shark-lyrics   \n1054                   https://genius.com/Rosalia-and-travis-scott-tkn-lyrics   \n1082  https://genius.com/Sech-daddy-yankee-and-j-balvin-relacion-remix-lyrics   \n1083       https://genius.com/Sech-ozuna-and-anuel-aa-otro-trago-remix-lyrics   \n1116                https://genius.com/Tainy-anuel-aa-and-ozuna-adicto-lyrics   \n\n          languages_sent language  language_score  length  word_count  \\\n32    {'id': 2, 'es': 1}       es        0.857140    1673         279   \n52             {'ko': 2}       ko        0.999997    1219         329   \n62             {'id': 1}       id        0.714283    2111         439   \n64             {'es': 5}       es        0.999997    2744         554   \n65             {'es': 1}       es        0.999998    3496         673   \n...                  ...      ...             ...     ...         ...   \n972            {'so': 1}       so        0.857141    1138         246   \n1054  {'es': 3, 'en': 1}       es        0.714283    1475         293   \n1082  {'it': 1, 'es': 1}       es        0.999998    3695         725   \n1083                  {}       es        0.999996    4631         895   \n1116           {'es': 2}       es        0.999995    3269         630   \n\n     language_sent  language_sent_weight  \n32              id              0.666667  \n52              ko              1.000000  \n62              id              1.000000  \n64              es              1.000000  \n65              es              1.000000  \n...            ...                   ...  \n972             so              1.000000  \n1054            es              0.750000  \n1082            it              0.500000  \n1083                            0.000000  \n1116            es              1.000000  \n\n[67 rows x 15 columns]",
      "text/html": "<div>\n<style scoped>\n    .dataframe tbody tr th:only-of-type {\n        vertical-align: middle;\n    }\n\n    .dataframe tbody tr th {\n        vertical-align: top;\n    }\n\n    .dataframe thead th {\n        text-align: right;\n    }\n</style>\n<table border=\"1\" class=\"dataframe\">\n  <thead>\n    <tr style=\"text-align: right;\">\n      <th></th>\n      <th>id</th>\n      <th>artist</th>\n      <th>first_artist</th>\n      <th>song</th>\n      <th>weeks_on_chart</th>\n      <th>peak_rank</th>\n      <th>lyrics</th>\n      <th>url</th>\n      <th>languages_sent</th>\n      <th>language</th>\n      <th>language_score</th>\n      <th>length</th>\n      <th>word_count</th>\n      <th>language_sent</th>\n      <th>language_sent_weight</th>\n    </tr>\n  </thead>\n  <tbody>\n    <tr>\n      <th>32</th>\n      <td>8098.0</td>\n      <td>6ix9ine</td>\n      <td>6ix9ine</td>\n      <td>YaYa</td>\n      <td>1.0</td>\n      <td>99.0</td>\n      <td>Ransom got that sauce in it\\nSe pinta los labio', hoy no tiene horario\\nQuiere que la busque en la Lambo\\nEsta noche coronamo'\\nDale, para termina...</td>\n      <td>https://genius.com/6ix9ine-yaya-lyrics</td>\n      <td>{'id': 2, 'es': 1}</td>\n      <td>es</td>\n      <td>0.857140</td>\n      <td>1673</td>\n      <td>279</td>\n      <td>id</td>\n      <td>0.666667</td>\n    </tr>\n    <tr>\n      <th>52</th>\n      <td>7475.0</td>\n      <td>Agust D</td>\n      <td>Agust D</td>\n      <td>Daechwita</td>\n      <td>1.0</td>\n      <td>76.0</td>\n      <td>명금일하 대취타 하랍신다\\n예이!\\n\\nYeah, uh\\n대취타 대취타 자 울려라 대취타\\n대취타 대취타 자 울려라 대취타\\n대취타 대취타 자 울려라 대취타\\n대취타 대취타 자 울려라 대취타\\n\\n대취타 대취타 자 울려라 대취타 (Yeah-yeah)\\n빛이나 빛...</td>\n      <td>https://genius.com/Agust-d-daechwita-lyrics</td>\n      <td>{'ko': 2}</td>\n      <td>ko</td>\n      <td>0.999997</td>\n      <td>1219</td>\n      <td>329</td>\n      <td>ko</td>\n      <td>1.000000</td>\n    </tr>\n    <tr>\n      <th>62</th>\n      <td>9190.0</td>\n      <td>Anitta Featuring Cardi B &amp; Myke Towers</td>\n      <td>Anitta</td>\n      <td>Me Gusta</td>\n      <td>1.0</td>\n      <td>91.0</td>\n      <td>Uh-uh-uh-uh-uh-uh-uh\\nGo!\\nYah, yah, yah\\nTra\\nYah, yah, yah\\n\\nA mí me gusta\\nEvery time you look at me that way\\nA mí me gusta\\nAll the dirty th...</td>\n      <td>https://genius.com/Anitta-me-gusta-lyrics</td>\n      <td>{'id': 1}</td>\n      <td>id</td>\n      <td>0.714283</td>\n      <td>2111</td>\n      <td>439</td>\n      <td>id</td>\n      <td>1.000000</td>\n    </tr>\n    <tr>\n      <th>64</th>\n      <td>5982.0</td>\n      <td>Anuel AA</td>\n      <td>Anuel AA</td>\n      <td>KEII</td>\n      <td>1.0</td>\n      <td>83.0</td>\n      <td>Ella ya no piensa en él (En él)\\nÉl la convirtió en alguien que ella no e'\\nNo le basta dar amor y ser fiel (Ser fiel)\\nHoy se va modo Romeo, ella...</td>\n      <td>https://genius.com/Anuel-aa-keii-lyrics</td>\n      <td>{'es': 5}</td>\n      <td>es</td>\n      <td>0.999997</td>\n      <td>2744</td>\n      <td>554</td>\n      <td>es</td>\n      <td>1.000000</td>\n    </tr>\n    <tr>\n      <th>65</th>\n      <td>7585.0</td>\n      <td>Anuel AA &amp; Bad Bunny</td>\n      <td>Anuel AA</td>\n      <td>Hasta Que Dios Diga</td>\n      <td>1.0</td>\n      <td>86.0</td>\n      <td>Brr\\nHoy la noche se acaba, tú desnuda en mi cama (Cama)\\nAnoche te soñé (Soñé), y me quedé con las gana' (Gana'; uah)\\nBaby, apaga el celular que...</td>\n      <td>https://genius.com/Anuel-aa-and-bad-bunny-hasta-que-dios-diga-lyrics</td>\n      <td>{'es': 1}</td>\n      <td>es</td>\n      <td>0.999998</td>\n      <td>3496</td>\n      <td>673</td>\n      <td>es</td>\n      <td>1.000000</td>\n    </tr>\n    <tr>\n      <th>...</th>\n      <td>...</td>\n      <td>...</td>\n      <td>...</td>\n      <td>...</td>\n      <td>...</td>\n      <td>...</td>\n      <td>...</td>\n      <td>...</td>\n      <td>...</td>\n      <td>...</td>\n      <td>...</td>\n      <td>...</td>\n      <td>...</td>\n      <td>...</td>\n      <td>...</td>\n    </tr>\n    <tr>\n      <th>972</th>\n      <td>131.0</td>\n      <td>Pinkfong</td>\n      <td>Pinkfong</td>\n      <td>Baby Shark</td>\n      <td>20.0</td>\n      <td>32.0</td>\n      <td>Baby shark, doo doo doo doo doo doo\\nBaby shark, doo doo doo doo doo doo\\nBaby shark, doo doo doo doo doo doo\\nBaby shark!\\n\\nMommy shark, doo doo...</td>\n      <td>https://genius.com/Pinkfong-baby-shark-lyrics</td>\n      <td>{'so': 1}</td>\n      <td>so</td>\n      <td>0.857141</td>\n      <td>1138</td>\n      <td>246</td>\n      <td>so</td>\n      <td>1.000000</td>\n    </tr>\n    <tr>\n      <th>1054</th>\n      <td>7565.0</td>\n      <td>Rosalia &amp; Travis Scott</td>\n      <td>Rosalia</td>\n      <td>TKN</td>\n      <td>1.0</td>\n      <td>66.0</td>\n      <td>Cosa' de familia, no la' tienen que escucha'\\nLo' capo' con lo' capo' y yo soy la mamá\\nLos secreto' solo con quien pueda' confia'\\nMás-Más te val...</td>\n      <td>https://genius.com/Rosalia-and-travis-scott-tkn-lyrics</td>\n      <td>{'es': 3, 'en': 1}</td>\n      <td>es</td>\n      <td>0.714283</td>\n      <td>1475</td>\n      <td>293</td>\n      <td>es</td>\n      <td>0.750000</td>\n    </tr>\n    <tr>\n      <th>1082</th>\n      <td>8963.0</td>\n      <td>Sech, Daddy Yankee &amp; J Balvin Featuring Rosalia &amp; Farruko</td>\n      <td>Sech, Daddy Yankee &amp; J Balvin</td>\n      <td>Relacion</td>\n      <td>11.0</td>\n      <td>64.0</td>\n      <td>Ahora todo cambió, le toca a ella\\nLatino gang\\nAyer la vi perreando solita (Welcome to the remix)\\nSe ve má' bonita\\nAhora que no está con ese ma...</td>\n      <td>https://genius.com/Sech-daddy-yankee-and-j-balvin-relacion-remix-lyrics</td>\n      <td>{'it': 1, 'es': 1}</td>\n      <td>es</td>\n      <td>0.999998</td>\n      <td>3695</td>\n      <td>725</td>\n      <td>it</td>\n      <td>0.500000</td>\n    </tr>\n    <tr>\n      <th>1083</th>\n      <td>2499.0</td>\n      <td>Sech, Darell, Nicky Jam, Ozuna &amp; Anuel AA</td>\n      <td>Sech, Darell, Nicky Jam, Ozuna</td>\n      <td>Otro Trago</td>\n      <td>20.0</td>\n      <td>34.0</td>\n      <td>Sigue aquí tomándose otro tra–\\n(¡This is the remix!)\\nLa vida para ti no ha sido fácil\\nHa sido, en el amor, muy demasia'o difícil\\nHay algo en é...</td>\n      <td>https://genius.com/Sech-ozuna-and-anuel-aa-otro-trago-remix-lyrics</td>\n      <td>{}</td>\n      <td>es</td>\n      <td>0.999996</td>\n      <td>4631</td>\n      <td>895</td>\n      <td></td>\n      <td>0.000000</td>\n    </tr>\n    <tr>\n      <th>1116</th>\n      <td>3985.0</td>\n      <td>Tainy, Anuel AA &amp; Ozuna</td>\n      <td>Tainy, Anuel AA</td>\n      <td>Adicto</td>\n      <td>2.0</td>\n      <td>86.0</td>\n      <td>(Uah)\\nHan pasado varios día' y 'toy enfermo de ti\\nDime qué me hiciste, ma'\\nDe mi memoria yo no te puedo borrar\\nDios me va a castigar, le prome...</td>\n      <td>https://genius.com/Tainy-anuel-aa-and-ozuna-adicto-lyrics</td>\n      <td>{'es': 2}</td>\n      <td>es</td>\n      <td>0.999995</td>\n      <td>3269</td>\n      <td>630</td>\n      <td>es</td>\n      <td>1.000000</td>\n    </tr>\n  </tbody>\n</table>\n<p>67 rows × 15 columns</p>\n</div>"
     },
     "execution_count": 15,
     "metadata": {},
     "output_type": "execute_result"
    }
   ],
   "source": [
    "pd.set_option('display.max_colwidth', 150)\n",
    "lyrics_non_english = lyrics.loc[lyrics['language'] != 'en']\n",
    "lyrics_non_english"
   ],
   "metadata": {
    "collapsed": false,
    "pycharm": {
     "name": "#%%\n"
    }
   }
  },
  {
   "cell_type": "code",
   "execution_count": 32,
   "outputs": [
    {
     "data": {
      "text/plain": "      billboard_id  lyrics_id                  artist   first_artist  \\\n0                0          0           Ariana Grande  Ariana Grande   \n1                1          1                  Halsey         Halsey   \n2                2          2            Mariah Carey   Mariah Carey   \n3                3          3            Travis Scott   Travis Scott   \n4                4          4  Post Malone & Swae Lee    Post Malone   \n...            ...        ...                     ...            ...   \n1250         10459       1250                  Eminem         Eminem   \n1251         10477       1251           Gabby Barrett  Gabby Barrett   \n1252         10483       1252              Popp Hunna     Popp Hunna   \n1253         10492       1253                Lil Durk       Lil Durk   \n1254         10497       1254                     DDG            DDG   \n\n                                               song  weeks_on_chart  \\\n0                                     Thank U, Next            28.0   \n1                                        Without Me            52.0   \n2                   All I Want For Christmas Is You            43.0   \n3                                        Sicko Mode            52.0   \n4     Sunflower (Spider-Man: Into The Spider-Verse)            53.0   \n...                                             ...             ...   \n1250                                           Gnat             1.0   \n1251                                 The First Noel             1.0   \n1252                   Adderall (Corvette Corvette)             1.0   \n1253                                       Backdoor             1.0   \n1254                       Moonwalking In Calabasas             1.0   \n\n      peak_rank  \\\n0           1.0   \n1           1.0   \n2           1.0   \n3           1.0   \n4           1.0   \n...         ...   \n1250       60.0   \n1251       78.0   \n1252       84.0   \n1253       93.0   \n1254       98.0   \n\n                                                                                                                                                     lyrics  \\\n0     Thought I'd end up with Sean\\nBut he wasn't a match\\nWrote some songs about Ricky\\nNow I listen and laugh\\nEven almost got married\\nAnd for Pete, ...   \n1     Found you when your heart was broke\\nI filled your cup until it overflowed\\nTook it so far to keep you close (Keep you close)\\nI was afraid to lea...   \n2     I don't want a lot for Christmas\\nThere is just one thing I need\\nI don't care about the presents\\nUnderneath the Christmas tree\\nI just want you ...   \n3     Astro, yeah\\nSun is down, freezin' cold\\nThat's how we already know, winter's here\\nMy dawg would probably do it for a Louis belt\\nThat's just all...   \n4     Ayy, ayy, ayy, ayy (Ooh)\\nOoh, ooh, ooh, ooh (Ooh)\\nAyy, ayy\\nOoh, ooh, ooh, ooh\\n\\nNeedless to say, I keep in check\\nShe was a bad-bad, neverthel...   \n...                                                                                                                                                     ...   \n1250  Yeah, yeah, sick\\n(d.a. got that dope)\\n\\nThey say these bars are like COVID (Bars are like COVID; what?)\\nYou get 'em right off the bat (You get ...   \n1251  The First Noel, the Angels did say\\nWas to certain poor shepherds in fields as they lay\\nIn fields where they lay keeping their sheep\\nOn a cold w...   \n1252  (Bitch)\\nCorvette, Corvette\\nHop in a motherfuckin' jet like jet\\nDidn't even think it could get like that\\nThey be like, \"Popp, why you walk like...   \n1253  (Malik on the beat)\\n(Ayo Bleu)\\nNo, no, no, no\\nYeah, yeah, yeah\\n(Aura)\\nNo, no, no, no\\n(Turn Me Up Josh)\\nWhoa, oh, oh\\n\\nThem niggas act like...   \n1254  Ballin' since I was a jit\\nWay before Oakland and filmin' the skits, I had a goal to get rich\\nMomma was strugglin' paying the rent\\nI couldn't he...   \n\n      length  word_count language  language_score  \\\n0       2409         460       en        0.999997   \n1       2095         435       en        0.999995   \n2       1918         388       en        0.999996   \n3       3943         771       en        0.999998   \n4       1534         305       en        0.999997   \n...      ...         ...      ...             ...   \n1250    5762        1113       en        0.999999   \n1251     666         132       en        0.999996   \n1252    2366         515       en        0.999998   \n1253    2778         547       en        0.999996   \n1254    2786         549       en        0.999996   \n\n                    languages_sent language_sent  language_sent_weight  \n0                        {'en': 8}            en              1.000000  \n1     {'en': 10, 'cy': 1, 'fi': 1}            en              0.833333  \n2              {'en': 16, 'et': 1}            en              0.941176  \n3                               {}                            0.000000  \n4      {'en': 3, 'tl': 1, 'so': 1}            en              0.600000  \n...                            ...           ...                   ...  \n1250                     {'en': 6}            en              1.000000  \n1251                     {'en': 6}            en              1.000000  \n1252                     {'en': 1}            en              1.000000  \n1253                            {}                            0.000000  \n1254                     {'en': 4}            en              1.000000  \n\n[1255 rows x 15 columns]",
      "text/html": "<div>\n<style scoped>\n    .dataframe tbody tr th:only-of-type {\n        vertical-align: middle;\n    }\n\n    .dataframe tbody tr th {\n        vertical-align: top;\n    }\n\n    .dataframe thead th {\n        text-align: right;\n    }\n</style>\n<table border=\"1\" class=\"dataframe\">\n  <thead>\n    <tr style=\"text-align: right;\">\n      <th></th>\n      <th>billboard_id</th>\n      <th>lyrics_id</th>\n      <th>artist</th>\n      <th>first_artist</th>\n      <th>song</th>\n      <th>weeks_on_chart</th>\n      <th>peak_rank</th>\n      <th>lyrics</th>\n      <th>length</th>\n      <th>word_count</th>\n      <th>language</th>\n      <th>language_score</th>\n      <th>languages_sent</th>\n      <th>language_sent</th>\n      <th>language_sent_weight</th>\n    </tr>\n  </thead>\n  <tbody>\n    <tr>\n      <th>0</th>\n      <td>0</td>\n      <td>0</td>\n      <td>Ariana Grande</td>\n      <td>Ariana Grande</td>\n      <td>Thank U, Next</td>\n      <td>28.0</td>\n      <td>1.0</td>\n      <td>Thought I'd end up with Sean\\nBut he wasn't a match\\nWrote some songs about Ricky\\nNow I listen and laugh\\nEven almost got married\\nAnd for Pete, ...</td>\n      <td>2409</td>\n      <td>460</td>\n      <td>en</td>\n      <td>0.999997</td>\n      <td>{'en': 8}</td>\n      <td>en</td>\n      <td>1.000000</td>\n    </tr>\n    <tr>\n      <th>1</th>\n      <td>1</td>\n      <td>1</td>\n      <td>Halsey</td>\n      <td>Halsey</td>\n      <td>Without Me</td>\n      <td>52.0</td>\n      <td>1.0</td>\n      <td>Found you when your heart was broke\\nI filled your cup until it overflowed\\nTook it so far to keep you close (Keep you close)\\nI was afraid to lea...</td>\n      <td>2095</td>\n      <td>435</td>\n      <td>en</td>\n      <td>0.999995</td>\n      <td>{'en': 10, 'cy': 1, 'fi': 1}</td>\n      <td>en</td>\n      <td>0.833333</td>\n    </tr>\n    <tr>\n      <th>2</th>\n      <td>2</td>\n      <td>2</td>\n      <td>Mariah Carey</td>\n      <td>Mariah Carey</td>\n      <td>All I Want For Christmas Is You</td>\n      <td>43.0</td>\n      <td>1.0</td>\n      <td>I don't want a lot for Christmas\\nThere is just one thing I need\\nI don't care about the presents\\nUnderneath the Christmas tree\\nI just want you ...</td>\n      <td>1918</td>\n      <td>388</td>\n      <td>en</td>\n      <td>0.999996</td>\n      <td>{'en': 16, 'et': 1}</td>\n      <td>en</td>\n      <td>0.941176</td>\n    </tr>\n    <tr>\n      <th>3</th>\n      <td>3</td>\n      <td>3</td>\n      <td>Travis Scott</td>\n      <td>Travis Scott</td>\n      <td>Sicko Mode</td>\n      <td>52.0</td>\n      <td>1.0</td>\n      <td>Astro, yeah\\nSun is down, freezin' cold\\nThat's how we already know, winter's here\\nMy dawg would probably do it for a Louis belt\\nThat's just all...</td>\n      <td>3943</td>\n      <td>771</td>\n      <td>en</td>\n      <td>0.999998</td>\n      <td>{}</td>\n      <td></td>\n      <td>0.000000</td>\n    </tr>\n    <tr>\n      <th>4</th>\n      <td>4</td>\n      <td>4</td>\n      <td>Post Malone &amp; Swae Lee</td>\n      <td>Post Malone</td>\n      <td>Sunflower (Spider-Man: Into The Spider-Verse)</td>\n      <td>53.0</td>\n      <td>1.0</td>\n      <td>Ayy, ayy, ayy, ayy (Ooh)\\nOoh, ooh, ooh, ooh (Ooh)\\nAyy, ayy\\nOoh, ooh, ooh, ooh\\n\\nNeedless to say, I keep in check\\nShe was a bad-bad, neverthel...</td>\n      <td>1534</td>\n      <td>305</td>\n      <td>en</td>\n      <td>0.999997</td>\n      <td>{'en': 3, 'tl': 1, 'so': 1}</td>\n      <td>en</td>\n      <td>0.600000</td>\n    </tr>\n    <tr>\n      <th>...</th>\n      <td>...</td>\n      <td>...</td>\n      <td>...</td>\n      <td>...</td>\n      <td>...</td>\n      <td>...</td>\n      <td>...</td>\n      <td>...</td>\n      <td>...</td>\n      <td>...</td>\n      <td>...</td>\n      <td>...</td>\n      <td>...</td>\n      <td>...</td>\n      <td>...</td>\n    </tr>\n    <tr>\n      <th>1250</th>\n      <td>10459</td>\n      <td>1250</td>\n      <td>Eminem</td>\n      <td>Eminem</td>\n      <td>Gnat</td>\n      <td>1.0</td>\n      <td>60.0</td>\n      <td>Yeah, yeah, sick\\n(d.a. got that dope)\\n\\nThey say these bars are like COVID (Bars are like COVID; what?)\\nYou get 'em right off the bat (You get ...</td>\n      <td>5762</td>\n      <td>1113</td>\n      <td>en</td>\n      <td>0.999999</td>\n      <td>{'en': 6}</td>\n      <td>en</td>\n      <td>1.000000</td>\n    </tr>\n    <tr>\n      <th>1251</th>\n      <td>10477</td>\n      <td>1251</td>\n      <td>Gabby Barrett</td>\n      <td>Gabby Barrett</td>\n      <td>The First Noel</td>\n      <td>1.0</td>\n      <td>78.0</td>\n      <td>The First Noel, the Angels did say\\nWas to certain poor shepherds in fields as they lay\\nIn fields where they lay keeping their sheep\\nOn a cold w...</td>\n      <td>666</td>\n      <td>132</td>\n      <td>en</td>\n      <td>0.999996</td>\n      <td>{'en': 6}</td>\n      <td>en</td>\n      <td>1.000000</td>\n    </tr>\n    <tr>\n      <th>1252</th>\n      <td>10483</td>\n      <td>1252</td>\n      <td>Popp Hunna</td>\n      <td>Popp Hunna</td>\n      <td>Adderall (Corvette Corvette)</td>\n      <td>1.0</td>\n      <td>84.0</td>\n      <td>(Bitch)\\nCorvette, Corvette\\nHop in a motherfuckin' jet like jet\\nDidn't even think it could get like that\\nThey be like, \"Popp, why you walk like...</td>\n      <td>2366</td>\n      <td>515</td>\n      <td>en</td>\n      <td>0.999998</td>\n      <td>{'en': 1}</td>\n      <td>en</td>\n      <td>1.000000</td>\n    </tr>\n    <tr>\n      <th>1253</th>\n      <td>10492</td>\n      <td>1253</td>\n      <td>Lil Durk</td>\n      <td>Lil Durk</td>\n      <td>Backdoor</td>\n      <td>1.0</td>\n      <td>93.0</td>\n      <td>(Malik on the beat)\\n(Ayo Bleu)\\nNo, no, no, no\\nYeah, yeah, yeah\\n(Aura)\\nNo, no, no, no\\n(Turn Me Up Josh)\\nWhoa, oh, oh\\n\\nThem niggas act like...</td>\n      <td>2778</td>\n      <td>547</td>\n      <td>en</td>\n      <td>0.999996</td>\n      <td>{}</td>\n      <td></td>\n      <td>0.000000</td>\n    </tr>\n    <tr>\n      <th>1254</th>\n      <td>10497</td>\n      <td>1254</td>\n      <td>DDG</td>\n      <td>DDG</td>\n      <td>Moonwalking In Calabasas</td>\n      <td>1.0</td>\n      <td>98.0</td>\n      <td>Ballin' since I was a jit\\nWay before Oakland and filmin' the skits, I had a goal to get rich\\nMomma was strugglin' paying the rent\\nI couldn't he...</td>\n      <td>2786</td>\n      <td>549</td>\n      <td>en</td>\n      <td>0.999996</td>\n      <td>{'en': 4}</td>\n      <td>en</td>\n      <td>1.000000</td>\n    </tr>\n  </tbody>\n</table>\n<p>1255 rows × 15 columns</p>\n</div>"
     },
     "execution_count": 32,
     "metadata": {},
     "output_type": "execute_result"
    }
   ],
   "source": [
    "# lyrics_english = lyrics.loc[(lyrics['language'] == 'en') & (lyrics['language_sent'] == 'en')]\n",
    "lyrics_english = lyrics.loc[(lyrics['language'] == 'en')]\n",
    "lyrics_english = lyrics_english.rename(columns={'id' : 'billboard_id'})\n",
    "lyrics_english['billboard_id'] = lyrics_english['billboard_id'].astype(int)\n",
    "lyrics_english.sort_values(by='billboard_id', inplace=True)\n",
    "lyrics_english.reset_index(inplace=True,drop=True)\n",
    "lyrics_english['lyrics_id'] = lyrics_english.index\n",
    "lyrics_english = lyrics_english[['billboard_id','lyrics_id', 'artist', 'first_artist', 'song', 'weeks_on_chart', 'peak_rank',\n",
    "       'lyrics', 'length', 'word_count', 'language', 'language_score', 'languages_sent', 'language_sent', 'language_sent_weight']]\n",
    "\n",
    "lyrics_english"
   ],
   "metadata": {
    "collapsed": false,
    "pycharm": {
     "name": "#%%\n"
    }
   }
  },
  {
   "cell_type": "code",
   "execution_count": 33,
   "outputs": [],
   "source": [
    "lyrics_english.to_excel('data/output/bb-t100-lyrics.xlsx')\n",
    "lyrics_english.to_csv('data/lyrics/bb-t100-lyrics.csv')\n",
    "\n",
    "\n"
   ],
   "metadata": {
    "collapsed": false,
    "pycharm": {
     "name": "#%%\n"
    }
   }
  }
 ],
 "metadata": {
  "kernelspec": {
   "display_name": "Python 3",
   "language": "python",
   "name": "python3"
  },
  "language_info": {
   "codemirror_mode": {
    "name": "ipython",
    "version": 2
   },
   "file_extension": ".py",
   "mimetype": "text/x-python",
   "name": "python",
   "nbconvert_exporter": "python",
   "pygments_lexer": "ipython2",
   "version": "2.7.6"
  }
 },
 "nbformat": 4,
 "nbformat_minor": 0
}