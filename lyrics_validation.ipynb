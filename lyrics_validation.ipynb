{
 "cells": [
  {
   "cell_type": "markdown",
   "metadata": {},
   "source": [
    "## Initial Setup"
   ]
  },
  {
   "cell_type": "code",
   "execution_count": 24,
   "metadata": {
    "pycharm": {
     "name": "#%%\n"
    }
   },
   "outputs": [
    {
     "name": "stdout",
     "output_type": "stream",
     "text": [
      "data\\artist_song\\artist_song.csv\n",
      "data\\artist_song\\artist_song.json\n",
      "data\\artist_song\\lyrics_invalid.json\n",
      "data\\billboard\\billboard_top_100.csv\n",
      "data\\billboard\\billboard_top_100_2020.csv\n",
      "data\\input\\songs-2.csv\n",
      "data\\input\\top100.json\n",
      "data\\input\\top100_old.json\n",
      "data\\lyrics\\artist_song_lyrics.csv\n",
      "data\\lyrics\\artist_song_lyrics_bak.csv\n",
      "data\\lyrics\\filtered_lyrics.csv\n",
      "data\\lyrics\\long_lyrics.csv\n",
      "data\\lyrics\\lyrics_invalid_updated.csv\n",
      "data\\lyrics\\missing_lyrics.csv\n",
      "data\\lyrics\\short_lyrics.csv\n",
      "data\\output\\bb-t100-lyrics.xlsx\n",
      "data\\output\\filtered_lyrics.xlsx\n",
      "data\\output\\long_lyrics.xlsx\n",
      "data\\output\\lyrics.xlsx\n",
      "data\\output\\lyrics_invalid.xlsx\n",
      "data\\output\\lyrics_updated.xlsx\n",
      "data\\output\\lyrics_valid.xlsx\n",
      "data\\output\\missing_lyrics.xlsx\n",
      "data\\output\\new_lyrics_invalid.xlsx\n",
      "data\\output\\new_lyrics_invalid_x.xlsx\n",
      "data\\output\\new_lyrics_valid.xlsx\n",
      "data\\output\\~$bb-t100-lyrics.xlsx\n",
      "data\\output\\~$lyrics_updated.xlsx\n"
     ]
    },
    {
     "data": {
      "text/plain": "     id                             artist first_artist                song  \\\n0  1093   2 Chainz Featuring Ariana Grande     2 Chainz      Rule The World   \n1  1099  2 Chainz Featuring Kendrick Lamar     2 Chainz  Momma I Hit A Lick   \n2  1074    2 Chainz Featuring Travis Scott     2 Chainz                Whip   \n3    85                          21 Savage    21 Savage                 1.5   \n4    36                          21 Savage    21 Savage               A Lot   \n\n   weeks_on_chart  peak_rank  \\\n0               2         94   \n1               1        100   \n2               1         75   \n3               1         86   \n4              23         12   \n\n                                              lyrics  \\\n0  Yeah\\nUh-huh\\n(Hitmaka)\\n2 Chainz\\n\\nTop down ...   \n1  I want it, I want it, I want it-it-it-it\\n\\nCh...   \n2  Yeah\\nDo it no hands, yeah, do it, no handstan...   \n3  My earrings cost a half a ticket, I don't hear...   \n4  I love you\\nTurn my headphone down a little bi...   \n\n                                                 url  \n0  https://genius.com/2-chainz-rule-the-world-lyrics  \n1  https://genius.com/2-chainz-momma-i-hit-a-lick...  \n2            https://genius.com/2-chainz-whip-lyrics  \n3             https://genius.com/21-savage-15-lyrics  \n4          https://genius.com/21-savage-a-lot-lyrics  ",
      "text/html": "<div>\n<style scoped>\n    .dataframe tbody tr th:only-of-type {\n        vertical-align: middle;\n    }\n\n    .dataframe tbody tr th {\n        vertical-align: top;\n    }\n\n    .dataframe thead th {\n        text-align: right;\n    }\n</style>\n<table border=\"1\" class=\"dataframe\">\n  <thead>\n    <tr style=\"text-align: right;\">\n      <th></th>\n      <th>id</th>\n      <th>artist</th>\n      <th>first_artist</th>\n      <th>song</th>\n      <th>weeks_on_chart</th>\n      <th>peak_rank</th>\n      <th>lyrics</th>\n      <th>url</th>\n    </tr>\n  </thead>\n  <tbody>\n    <tr>\n      <th>0</th>\n      <td>1093</td>\n      <td>2 Chainz Featuring Ariana Grande</td>\n      <td>2 Chainz</td>\n      <td>Rule The World</td>\n      <td>2</td>\n      <td>94</td>\n      <td>Yeah\\nUh-huh\\n(Hitmaka)\\n2 Chainz\\n\\nTop down ...</td>\n      <td>https://genius.com/2-chainz-rule-the-world-lyrics</td>\n    </tr>\n    <tr>\n      <th>1</th>\n      <td>1099</td>\n      <td>2 Chainz Featuring Kendrick Lamar</td>\n      <td>2 Chainz</td>\n      <td>Momma I Hit A Lick</td>\n      <td>1</td>\n      <td>100</td>\n      <td>I want it, I want it, I want it-it-it-it\\n\\nCh...</td>\n      <td>https://genius.com/2-chainz-momma-i-hit-a-lick...</td>\n    </tr>\n    <tr>\n      <th>2</th>\n      <td>1074</td>\n      <td>2 Chainz Featuring Travis Scott</td>\n      <td>2 Chainz</td>\n      <td>Whip</td>\n      <td>1</td>\n      <td>75</td>\n      <td>Yeah\\nDo it no hands, yeah, do it, no handstan...</td>\n      <td>https://genius.com/2-chainz-whip-lyrics</td>\n    </tr>\n    <tr>\n      <th>3</th>\n      <td>85</td>\n      <td>21 Savage</td>\n      <td>21 Savage</td>\n      <td>1.5</td>\n      <td>1</td>\n      <td>86</td>\n      <td>My earrings cost a half a ticket, I don't hear...</td>\n      <td>https://genius.com/21-savage-15-lyrics</td>\n    </tr>\n    <tr>\n      <th>4</th>\n      <td>36</td>\n      <td>21 Savage</td>\n      <td>21 Savage</td>\n      <td>A Lot</td>\n      <td>23</td>\n      <td>12</td>\n      <td>I love you\\nTurn my headphone down a little bi...</td>\n      <td>https://genius.com/21-savage-a-lot-lyrics</td>\n    </tr>\n  </tbody>\n</table>\n</div>"
     },
     "execution_count": 24,
     "metadata": {},
     "output_type": "execute_result"
    }
   ],
   "source": [
    "import numpy as np # linear algebra\n",
    "import pandas as pd # data processing, CSV file I/O (e.g. pd.read_csv)\n",
    "import seaborn as sns\n",
    "import matplotlib.pyplot as plt\n",
    "import datetime\n",
    "import os\n",
    "for dirname, _, filenames in os.walk('data'):\n",
    "    for filename in filenames:\n",
    "        print(os.path.join(dirname, filename))\n",
    "\n",
    "\n",
    "lyrics = pd.read_csv('data/lyrics/artist_song_lyrics.csv', encoding='utf-8', index_col=0)\n",
    "lyrics.head()"
   ]
  },
  {
   "cell_type": "code",
   "execution_count": 25,
   "outputs": [
    {
     "name": "stdout",
     "output_type": "stream",
     "text": [
      "<class 'pandas.core.frame.DataFrame'>\n",
      "Int64Index: 1322 entries, 0 to 1321\n",
      "Data columns (total 8 columns):\n",
      " #   Column          Non-Null Count  Dtype \n",
      "---  ------          --------------  ----- \n",
      " 0   id              1322 non-null   int64 \n",
      " 1   artist          1322 non-null   object\n",
      " 2   first_artist    1322 non-null   object\n",
      " 3   song            1322 non-null   object\n",
      " 4   weeks_on_chart  1322 non-null   int64 \n",
      " 5   peak_rank       1322 non-null   int64 \n",
      " 6   lyrics          1322 non-null   object\n",
      " 7   url             1302 non-null   object\n",
      "dtypes: int64(3), object(5)\n",
      "memory usage: 93.0+ KB\n"
     ]
    }
   ],
   "source": [
    "lyrics.info()"
   ],
   "metadata": {
    "collapsed": false,
    "pycharm": {
     "name": "#%%\n"
    }
   }
  },
  {
   "cell_type": "markdown",
   "source": [
    "### Quick Validation using the shape of the URL\n",
    "\n",
    "Links to valid lyrics often start with the artist name."
   ],
   "metadata": {
    "collapsed": false,
    "pycharm": {
     "name": "#%% md\n"
    }
   }
  },
  {
   "cell_type": "code",
   "execution_count": 26,
   "metadata": {
    "pycharm": {
     "name": "#%%\n"
    }
   },
   "outputs": [],
   "source": [
    "def get_first_url_artist(url):\n",
    "    url = str(url)\n",
    "    if len(url) > 0:\n",
    "        return url.replace('https://genius.com/', '').split('-')[0].lower()\n",
    "\n",
    "lyrics['url_first_word'] = lyrics['url'].apply(lambda url: get_first_url_artist(url))\n",
    "lyrics['artist_first_word'] = lyrics['artist'].apply(lambda artist: str(artist).split()[0].lower())"
   ]
  },
  {
   "cell_type": "code",
   "execution_count": 27,
   "outputs": [
    {
     "data": {
      "text/plain": "       id                                             artist  \\\n27   8583                       24kGoldn Featuring iann dior   \n49   8418       A$AP Ferg Featuring  Nicki Minaj & MadeinTYO   \n50   3668                                         A$AP Rocky   \n66    467                                 Anuel AA & Karol G   \n68   3051  Anuel AA, Daddy Yankee, Karol G, Ozuna & J Balvin   \n69   6877                                    Arcangel x Sech   \n97   9707  Ariana Grande Feat. Doja Cat & Megan Thee Stal...   \n100  9751              Ariana Grande Featuring Ty Dolla $ign   \n109  1667                        Avicii Featuring Aloe Blacc   \n110  6487                      BENEE Featuring Gus Dapperton   \n\n                               first_artist           song  weeks_on_chart  \\\n27                                 24kGoldn           Mood              20   \n49                                A$AP Ferg   Move Ya Hips               2   \n50                               A$AP Rocky   Babushka Boi               1   \n66                                 Anuel AA        Secreto              11   \n68   Anuel AA, Daddy Yankee, Karol G, Ozuna          China              18   \n69                                 Arcangel  Sigues Con El               3   \n97             Ariana Grande Feat. Doja Cat          34+35               8   \n100                           Ariana Grande     Safety Net               1   \n109                                  Avicii            SOS               4   \n110                                   BENEE     Supalonely              22   \n\n     peak_rank                                             lyrics  \\\n27           1  Why you always in a mood?\\nFuckin' 'round, act...   \n49          19  It's that time again\\nFrankie motherfuckin' P\\...   \n50          69  Uh\\nThey call me F-L-A-C-K-O and don't play, n...   \n66          68  Bebecita\\nBebe-bebecita, uah\\nBebecita\\n\\nLo d...   \n68          43  Honey came in and she caught me red-handed\\nCr...   \n69          78  * = letra incompleta.\\n = Canción filtrada02/1...   \n97           8  Mmm\\n\\nPensarás que estoy loca\\nPor la forma e...   \n100         52  Si\\n\\nSabes que realmente eres algo, si\\n¿Cómo...   \n109         68  InternationalRanking (100)100. Andrew Huang, \"...   \n110         39  Biliyorum işleri berbat ettim, sadece ezik bir...   \n\n                                                   url         url_first_word  \\\n27   https://genius.com/Kostenloseklingeltone-mood-...  kostenloseklingeltone   \n49    https://genius.com/A-ap-ferg-move-ya-hips-lyrics                      a   \n50   https://genius.com/A-ap-rocky-babushka-boi-lyrics                      a   \n66   https://genius.com/Karol-g-and-anuel-aa-secret...                  karol   \n68   https://genius.com/Genius-english-translations...                 genius   \n69   https://genius.com/Genius-en-espanol-sencillos...                 genius   \n97   https://genius.com/Genius-traducciones-al-espa...                 genius   \n100  https://genius.com/Genius-traducciones-al-espa...                 genius   \n109  https://genius.com/Pierfrancescocosta-i-miei-p...     pierfrancescocosta   \n110  https://genius.com/Genius-turkce-ceviri-benee-...                 genius   \n\n    artist_first_word  \n27           24kgoldn  \n49               a$ap  \n50               a$ap  \n66              anuel  \n68              anuel  \n69           arcangel  \n97             ariana  \n100            ariana  \n109            avicii  \n110             benee  ",
      "text/html": "<div>\n<style scoped>\n    .dataframe tbody tr th:only-of-type {\n        vertical-align: middle;\n    }\n\n    .dataframe tbody tr th {\n        vertical-align: top;\n    }\n\n    .dataframe thead th {\n        text-align: right;\n    }\n</style>\n<table border=\"1\" class=\"dataframe\">\n  <thead>\n    <tr style=\"text-align: right;\">\n      <th></th>\n      <th>id</th>\n      <th>artist</th>\n      <th>first_artist</th>\n      <th>song</th>\n      <th>weeks_on_chart</th>\n      <th>peak_rank</th>\n      <th>lyrics</th>\n      <th>url</th>\n      <th>url_first_word</th>\n      <th>artist_first_word</th>\n    </tr>\n  </thead>\n  <tbody>\n    <tr>\n      <th>27</th>\n      <td>8583</td>\n      <td>24kGoldn Featuring iann dior</td>\n      <td>24kGoldn</td>\n      <td>Mood</td>\n      <td>20</td>\n      <td>1</td>\n      <td>Why you always in a mood?\\nFuckin' 'round, act...</td>\n      <td>https://genius.com/Kostenloseklingeltone-mood-...</td>\n      <td>kostenloseklingeltone</td>\n      <td>24kgoldn</td>\n    </tr>\n    <tr>\n      <th>49</th>\n      <td>8418</td>\n      <td>A$AP Ferg Featuring  Nicki Minaj &amp; MadeinTYO</td>\n      <td>A$AP Ferg</td>\n      <td>Move Ya Hips</td>\n      <td>2</td>\n      <td>19</td>\n      <td>It's that time again\\nFrankie motherfuckin' P\\...</td>\n      <td>https://genius.com/A-ap-ferg-move-ya-hips-lyrics</td>\n      <td>a</td>\n      <td>a$ap</td>\n    </tr>\n    <tr>\n      <th>50</th>\n      <td>3668</td>\n      <td>A$AP Rocky</td>\n      <td>A$AP Rocky</td>\n      <td>Babushka Boi</td>\n      <td>1</td>\n      <td>69</td>\n      <td>Uh\\nThey call me F-L-A-C-K-O and don't play, n...</td>\n      <td>https://genius.com/A-ap-rocky-babushka-boi-lyrics</td>\n      <td>a</td>\n      <td>a$ap</td>\n    </tr>\n    <tr>\n      <th>66</th>\n      <td>467</td>\n      <td>Anuel AA &amp; Karol G</td>\n      <td>Anuel AA</td>\n      <td>Secreto</td>\n      <td>11</td>\n      <td>68</td>\n      <td>Bebecita\\nBebe-bebecita, uah\\nBebecita\\n\\nLo d...</td>\n      <td>https://genius.com/Karol-g-and-anuel-aa-secret...</td>\n      <td>karol</td>\n      <td>anuel</td>\n    </tr>\n    <tr>\n      <th>68</th>\n      <td>3051</td>\n      <td>Anuel AA, Daddy Yankee, Karol G, Ozuna &amp; J Balvin</td>\n      <td>Anuel AA, Daddy Yankee, Karol G, Ozuna</td>\n      <td>China</td>\n      <td>18</td>\n      <td>43</td>\n      <td>Honey came in and she caught me red-handed\\nCr...</td>\n      <td>https://genius.com/Genius-english-translations...</td>\n      <td>genius</td>\n      <td>anuel</td>\n    </tr>\n    <tr>\n      <th>69</th>\n      <td>6877</td>\n      <td>Arcangel x Sech</td>\n      <td>Arcangel</td>\n      <td>Sigues Con El</td>\n      <td>3</td>\n      <td>78</td>\n      <td>* = letra incompleta.\\n = Canción filtrada02/1...</td>\n      <td>https://genius.com/Genius-en-espanol-sencillos...</td>\n      <td>genius</td>\n      <td>arcangel</td>\n    </tr>\n    <tr>\n      <th>97</th>\n      <td>9707</td>\n      <td>Ariana Grande Feat. Doja Cat &amp; Megan Thee Stal...</td>\n      <td>Ariana Grande Feat. Doja Cat</td>\n      <td>34+35</td>\n      <td>8</td>\n      <td>8</td>\n      <td>Mmm\\n\\nPensarás que estoy loca\\nPor la forma e...</td>\n      <td>https://genius.com/Genius-traducciones-al-espa...</td>\n      <td>genius</td>\n      <td>ariana</td>\n    </tr>\n    <tr>\n      <th>100</th>\n      <td>9751</td>\n      <td>Ariana Grande Featuring Ty Dolla $ign</td>\n      <td>Ariana Grande</td>\n      <td>Safety Net</td>\n      <td>1</td>\n      <td>52</td>\n      <td>Si\\n\\nSabes que realmente eres algo, si\\n¿Cómo...</td>\n      <td>https://genius.com/Genius-traducciones-al-espa...</td>\n      <td>genius</td>\n      <td>ariana</td>\n    </tr>\n    <tr>\n      <th>109</th>\n      <td>1667</td>\n      <td>Avicii Featuring Aloe Blacc</td>\n      <td>Avicii</td>\n      <td>SOS</td>\n      <td>4</td>\n      <td>68</td>\n      <td>InternationalRanking (100)100. Andrew Huang, \"...</td>\n      <td>https://genius.com/Pierfrancescocosta-i-miei-p...</td>\n      <td>pierfrancescocosta</td>\n      <td>avicii</td>\n    </tr>\n    <tr>\n      <th>110</th>\n      <td>6487</td>\n      <td>BENEE Featuring Gus Dapperton</td>\n      <td>BENEE</td>\n      <td>Supalonely</td>\n      <td>22</td>\n      <td>39</td>\n      <td>Biliyorum işleri berbat ettim, sadece ezik bir...</td>\n      <td>https://genius.com/Genius-turkce-ceviri-benee-...</td>\n      <td>genius</td>\n      <td>benee</td>\n    </tr>\n  </tbody>\n</table>\n</div>"
     },
     "execution_count": 27,
     "metadata": {},
     "output_type": "execute_result"
    }
   ],
   "source": [
    "lyrics_invalid = lyrics.loc[lyrics['url_first_word'] != lyrics['artist_first_word']]\n",
    "lyrics_valid = lyrics.loc[lyrics['url_first_word'] == lyrics['artist_first_word']]\n",
    "\n",
    "lyrics_invalid.head(10)"
   ],
   "metadata": {
    "collapsed": false,
    "pycharm": {
     "name": "#%%\n"
    }
   }
  },
  {
   "cell_type": "code",
   "execution_count": 28,
   "outputs": [],
   "source": [
    "lyrics_invalid.to_excel('output/lyrics/lyrics_invalid.xlsx')\n",
    "lyrics_valid.to_excel('output/lyrics/lyrics_valid.xlsx')"
   ],
   "metadata": {
    "collapsed": false,
    "pycharm": {
     "name": "#%%\n"
    }
   }
  },
  {
   "cell_type": "markdown",
   "source": [
    "### Manually add IDs and links of missing lyrics"
   ],
   "metadata": {
    "collapsed": false,
    "pycharm": {
     "name": "#%% md\n"
    }
   }
  },
  {
   "cell_type": "code",
   "execution_count": 29,
   "outputs": [],
   "source": [
    "missing_lyrics_ids = [\n",
    "    97, 153, 190, 192, 196, 231, 244, 321, 339, 374, 379, 497, 506, 538, 607, 633, 654, 727, 887, 970, 999, 1003, 1019,\n",
    "    1178, 1247, 1249, 1254, 1320, 49, 50, 66, 332, 447, 449, 476, 477, 503, 504, 505, 507, 668, 693, 793, 958, 959,\n",
    "    1026, 1082, 1114, 1116, 1194, 1237, 1238, 1239, 1240, 1241, 1242, 1243, 1244, 1258, 1261, 27, 68, 69, 100, 109, 110,\n",
    "    114, 127, 128, 152, 162, 163, 193, 218, 227, 265, 266, 272, 303, 304, 311, 326, 330, 351, 352, 354, 369, 372, 388,\n",
    "    390, 392, 393, 394, 455, 457, 510, 511, 515, 516, 535, 536, 540, 552, 556, 584, 585, 586, 593, 594, 595, 596, 614,\n",
    "    615, 616, 617, 640, 651, 655, 656, 675, 677, 716, 732, 744, 782, 801, 821, 836, 847, 855, 892, 901, 910, 918, 931,\n",
    "    936, 937, 939, 956, 957, 961, 962, 963, 964, 968, 996, 1000, 1020, 1021, 1023, 1025, 1053, 1063, 1064, 1083, 1093,\n",
    "    1095, 1110, 1144, 1163, 1164, 1165, 1168, 1169, 1220, 1222, 1253, 1262, 1314, 1315, 1316, 1317, 1318, 1319, 1321\n",
    "]\n",
    "missing_lyrics_links = [\n",
    "    'https://genius.com/Ariana-grande-34-35-lyrics',\n",
    "    'https://genius.com/Bad-bunny-and-daddy-yankee-la-santa-lyrics',\n",
    "    'https://genius.com/Bing-crosby-ill-be-home-for-christmas-if-only-in-my-dreams-lyrics',\n",
    "    'https://genius.com/Bing-crosby-and-the-andrews-sisters-mele-kalikimaka-lyrics',\n",
    "    'https://genius.com/Blake-shelton-nobody-but-you-lyrics',\n",
    "    '',\n",
    "    'https://genius.com/Chris-brown-no-guidance-lyrics',\n",
    "    'https://genius.com/Diplo-heartless-lyrics',\n",
    "    'https://genius.com/Drake-how-bout-now-lyrics',\n",
    "    'https://genius.com/Ed-sheeran-chris-stapleton-and-bruno-mars-blow-lyrics',\n",
    "    'https://genius.com/Ellie-goulding-and-diplo-close-to-me-lyrics',\n",
    "    'https://genius.com/Internet-money-lemonade-lyrics',\n",
    "    'https://genius.com/J-cole-t-h-e-c-l-i-m-b-b-a-c-k-lyrics',\n",
    "    'https://genius.com/John-lennon-and-yoko-ono-happy-xmas-war-is-over-lyrics',\n",
    "    'https://genius.com/Kane-brown-swae-lee-and-khalid-be-like-that-lyrics',\n",
    "    'https://genius.com/Keith-urban-and-p-nk-one-too-many-lyrics',\n",
    "    'https://genius.com/Khalid-and-john-mayer-outta-my-head-lyrics',\n",
    "    'https://genius.com/Lil-durk-the-voice-lyrics',\n",
    "    'https://genius.com/Migos-give-no-fxk-lyrics',\n",
    "    'https://genius.com/Perry-como-its-beginning-to-look-a-lot-like-christmas-lyrics',\n",
    "    'https://genius.com/Pop-smoke-for-the-night-lyrics',\n",
    "    'https://genius.com/Pop-smoke-snitching-lyrics',\n",
    "    'https://genius.com/Post-malone-and-swae-lee-sunflower-lyrics',\n",
    "    'https://genius.com/The-kid-laroi-fck-you-goodbye-lyrics',\n",
    "    'https://genius.com/Wham-last-christmas-lyrics',\n",
    "    'https://genius.com/Why-dont-we-fallin-adrenaline-lyrics',\n",
    "    'https://genius.com/Xxxtentacion-and-lil-pump-arms-around-you-lyrics',\n",
    "    'https://genius.com/J-hope-chicken-noodle-soup-lyrics',\n",
    "    'https://genius.com/A-ap-ferg-move-ya-hips-lyrics',\n",
    "    'https://genius.com/A-ap-rocky-babushka-boi-lyrics',\n",
    "    'https://genius.com/Karol-g-and-anuel-aa-secreto-lyrics',\n",
    "    'https://genius.com/Descendants-3-cast-night-falls-lyrics',\n",
    "    'https://genius.com/Future-drake-and-young-thug-d4l-lyrics',\n",
    "    'https://genius.com/G-eazy-hate-the-way-lyrics',\n",
    "    'https://genius.com/Her-damage-lyrics',\n",
    "    'https://genius.com/Her-slide-lyrics',\n",
    "    'https://genius.com/J-cole-lion-king-on-ice-lyrics',\n",
    "    'https://genius.com/J-cole-middle-child-lyrics',\n",
    "    'https://genius.com/J-cole-snow-on-tha-bluff-lyrics',\n",
    "    'https://genius.com/Ji-the-prince-of-ny-need-me-lyrics',\n",
    "    'https://genius.com/The-kid-laroi-and-juice-wrld-go-lyrics',\n",
    "    'https://genius.com/Quality-control-layton-greene-and-lil-baby-leave-em-alone-lyrics',\n",
    "    'https://genius.com/Lil-duval-smile-living-my-best-life-lyrics',\n",
    "    'https://genius.com/P-nk-walk-me-home-lyrics',\n",
    "    'https://genius.com/P-nk-love-me-anyway-lyrics',\n",
    "    'https://genius.com/Deathbed-by-powfu-ft-beabadoobee-death-bed-lyrics',\n",
    "    'https://genius.com/Sech-daddy-yankee-and-j-balvin-relacion-remix-lyrics',\n",
    "    'https://genius.com/Ti-pardon-lyrics',\n",
    "    'https://genius.com/Tainy-anuel-aa-and-ozuna-adicto-lyrics',\n",
    "    'https://genius.com/Ariana-grande-and-the-weeknd-save-your-tears-remix-lyrics',\n",
    "    'https://genius.com/Tyler-the-creator-a-boy-is-a-gun-lyrics',\n",
    "    'https://genius.com/Tyler-the-creator-earfquake-lyrics',\n",
    "    'https://genius.com/Tyler-the-creator-i-think-lyrics',\n",
    "    'https://genius.com/Tyler-the-creator-igors-theme-lyrics',\n",
    "    'https://genius.com/Tyler-the-creator-new-magic-wand-lyrics',\n",
    "    'https://genius.com/Tyler-the-creator-puppet-lyrics',\n",
    "    'https://genius.com/Tyler-the-creator-running-out-of-time-lyrics',\n",
    "    'https://genius.com/Tyler-the-creator-whats-good-lyrics',\n",
    "    'https://genius.com/Yg-go-loko-lyrics',\n",
    "    'https://genius.com/9lokknine-223s-lyrics',\n",
    "    'https://genius.com/24kgoldn-mood-lyrics',\n",
    "    'https://genius.com/Anuel-aa-daddy-yankee-and-karol-g-china-lyrics',\n",
    "    'https://genius.com/Arcangel-dimelo-flow-and-sech-sigues-con-el-lyrics',\n",
    "    'https://genius.com/Ariana-grande-safety-net-lyrics',\n",
    "    'https://genius.com/Avicii-sos-lyrics',\n",
    "    'https://genius.com/Benee-supalonely-lyrics',\n",
    "    'https://genius.com/Blackpink-and-selena-gomez-ice-cream-lyrics',\n",
    "    'https://genius.com/Bts-boy-with-luv-lyrics',\n",
    "    'https://genius.com/Bts-make-it-right-lyrics',\n",
    "    'https://genius.com/Bad-bunny-and-anuel-aa-esta-cabron-ser-yo-lyrics',\n",
    "    'https://genius.com/Beyonce-jay-z-and-childish-gambino-mood-4-eva-lyrics',\n",
    "    'https://genius.com/Blue-ivy-saint-jhn-beyonce-and-wizkid-brown-skin-girl-lyrics',\n",
    "    'https://genius.com/The-black-eyed-peas-and-j-balvin-ritmo-bad-boys-for-life-lyrics',\n",
    "    'https://genius.com/Calvin-harris-and-the-weeknd-over-now-lyrics',\n",
    "    'https://genius.com/Cardi-b-wap-lyrics',\n",
    "    'https://genius.com/Dj-khaled-greece-lyrics',\n",
    "    'https://genius.com/Dj-khaled-popstar-lyrics',\n",
    "    'https://genius.com/Dj-snake-taki-taki-lyrics',\n",
    "    'https://genius.com/Dababy-no-dribble-lyrics',\n",
    "    'https://genius.com/Daddy-yankee-con-calma-lyrics',\n",
    "    'https://genius.com/Danileigh-easy-lyrics',\n",
    "    'https://genius.com/Doja-cat-say-so-lyrics',\n",
    "    'https://genius.com/Don-toliver-had-enough-lyrics',\n",
    "    'https://genius.com/Drake-desires-lyrics',\n",
    "    'https://genius.com/Drake-chicago-freestyle-lyrics',\n",
    "    'https://genius.com/Drake-pain-1993-lyrics',\n",
    "    'https://genius.com/Ed-sheeran-south-of-the-border-lyrics',\n",
    "    'https://genius.com/Ed-sheeran-beautiful-people-lyrics',\n",
    "    'https://genius.com/Eminem-no-regrets-lyrics',\n",
    "    'https://genius.com/Eminem-lucky-you-lyrics',\n",
    "    'https://genius.com/Eminem-you-gon-learn-lyrics',\n",
    "    'https://genius.com/Eminem-leaving-heaven-lyrics',\n",
    "    'https://genius.com/Eminem-unaccommodating-lyrics',\n",
    "    'https://genius.com/The-weeknd-and-gesaffelstein-lost-in-the-fire-lyrics',\n",
    "    'https://genius.com/Gucci-mane-bruno-mars-and-kodak-black-wake-up-in-the-sky-lyrics',\n",
    "    'https://genius.com/Jackboys-and-travis-scott-out-west-lyrics',\n",
    "    'https://genius.com/Jackboys-pop-smoke-and-travis-scott-gatti-lyrics',\n",
    "    'https://genius.com/Jack-harlow-whats-poppin-lyrics',\n",
    "    'https://genius.com/The-jackson-5-santa-claus-is-coming-to-town-lyrics',\n",
    "    'https://genius.com/Joel-corry-head-and-heart-lyrics',\n",
    "    'https://genius.com/John-lennon-and-yoko-ono-happy-xmas-war-is-over-lyrics',\n",
    "    'https://genius.com/John-rich-shut-up-about-politics-lyrics',\n",
    "    'https://genius.com/Jonas-brothers-x-lyrics',\n",
    "    'https://genius.com/Joyner-lucas-isis-lyrics',\n",
    "    'https://genius.com/Juice-wrld-and-halsey-lifes-a-mess-lyrics',\n",
    "    'https://genius.com/Juice-wrld-and-marshmello-come-and-go-lyrics',\n",
    "    'https://genius.com/Benny-blanco-and-juice-wrld-real-shit-lyrics',\n",
    "    'https://genius.com/Justin-bieber-holy-lyrics',\n",
    "    'https://genius.com/Justin-bieber-get-me-lyrics',\n",
    "    'https://genius.com/Justin-bieber-forever-lyrics',\n",
    "    'https://genius.com/Justin-bieber-intentions-lyrics',\n",
    "    'https://genius.com/Kanye-west-water-lyrics',\n",
    "    'https://genius.com/Kanye-west-use-this-gospel-lyrics',\n",
    "    'https://genius.com/Kanye-west-hands-on-lyrics',\n",
    "    'https://genius.com/Kanye-west-every-hour-lyrics',\n",
    "    'https://genius.com/Kelsea-ballerini-the-other-girl-lyrics',\n",
    "    'https://genius.com/Khalid-saturday-nights-lyrics',\n",
    "    'https://genius.com/Khalid-and-disclosure-know-your-worth-lyrics',\n",
    "    'https://genius.com/Khalid-dont-pretend-lyrics',\n",
    "    'https://genius.com/Kodak-black-zeze-lyrics',\n",
    "    'https://genius.com/Kygo-and-whitney-houston-higher-love-lyrics',\n",
    "    'https://genius.com/Quality-control-lil-baby-and-dababy-baby-lyrics',\n",
    "    'https://genius.com/Lil-mosey-stuck-in-a-dream-lyrics',\n",
    "    'https://genius.com/Lil-tecca-ransom-lyrics',\n",
    "    'https://genius.com/Lil-uzi-vert-urgency-lyrics',\n",
    "    'https://genius.com/Logic-homicide-lyrics',\n",
    "    'https://genius.com/Lunay-soltera-lyrics',\n",
    "    'https://genius.com/Machine-gun-kelly-and-blackbear-my-exs-best-friend-lyrics',\n",
    "    'https://genius.com/Maroon-5-girls-like-you-remix-lyrics',\n",
    "    'https://genius.com/Marshmello-tyga-and-chris-brown-light-it-up-lyrics',\n",
    "    'https://genius.com/Miley-cyrus-prisoner-lyrics',\n",
    "    'https://genius.com/Moneybagg-yo-and-megan-thee-stallion-all-dat-lyrics',\n",
    "    'https://genius.com/Latto-bitch-from-da-souf-lyrics',\n",
    "    'https://genius.com/Nav-and-gunna-turks-lyrics',\n",
    "    'https://genius.com/Ne-yo-and-jeremih-u-2-luv-lyrics',\n",
    "    'https://genius.com/Nicki-minaj-good-form-lyrics',\n",
    "    'https://genius.com/Nicky-jam-and-ozuna-te-robare-lyrics',\n",
    "    'https://genius.com/Nio-garcia-anuel-aa-and-myke-towers-la-jeepeta-remix-lyrics',\n",
    "    'https://genius.com/Ozuna-daddy-yankee-and-j-balvin-baila-baila-baila-remix-lyrics',\n",
    "    'https://genius.com/Ozuna-karol-g-and-myke-towers-caramelo-remix-lyrics',\n",
    "    'https://genius.com/Partynextdoor-loyal-lyrics',\n",
    "    'https://genius.com/Panic-at-the-disco-hey-look-ma-i-made-it-lyrics',\n",
    "    'https://genius.com/Panic-at-the-disco-high-hopes-lyrics',\n",
    "    'https://genius.com/Panic-at-the-disco-into-the-unknown-panic-at-the-disco-version-lyrics',\n",
    "    'https://genius.com/Pedro-capo-and-farruko-calma-remix-lyrics',\n",
    "    'https://genius.com/Pop-smoke-the-woo-lyrics',\n",
    "    'https://genius.com/Pop-smoke-mood-swings-lyrics',\n",
    "    'https://genius.com/Post-malone-enemies-lyrics',\n",
    "    'https://genius.com/Post-malone-die-for-me-lyrics',\n",
    "    'https://genius.com/Post-malone-take-what-you-want-lyrics',\n",
    "    'https://genius.com/Post-malone-goodbyes-lyrics',\n",
    "    'https://genius.com/Roddy-ricch-high-fashion-lyrics',\n",
    "    'https://genius.com/Sza-and-justin-timberlake-the-other-side-lyrics',\n",
    "    'https://genius.com/Sza-the-weeknd-and-travis-scott-power-is-power-lyrics',\n",
    "    'https://genius.com/Sech-ozuna-and-anuel-aa-otro-trago-remix-lyrics',\n",
    "    'https://genius.com/Shawn-mendes-lost-in-japan-lyrics',\n",
    "    'https://genius.com/Silk-city-and-dua-lipa-electricity-lyrics',\n",
    "    'https://genius.com/Summer-walker-and-drake-girls-need-love-remix-lyrics',\n",
    "    'https://genius.com/Taylor-swift-long-story-short-lyrics',\n",
    "    'https://genius.com/Taylor-swift-evermore-lyrics',\n",
    "    'https://genius.com/Taylor-swift-exile-lyrics',\n",
    "    'https://genius.com/Taylor-swift-me-lyrics',\n",
    "    'https://genius.com/Taylor-swift-coney-island-lyrics',\n",
    "    'https://genius.com/The-beach-boys-little-saint-nick-1991-remix-lyrics',\n",
    "    'https://genius.com/Travis-scott-franchise-lyrics',\n",
    "    'https://genius.com/Trevor-daniel-and-selena-gomez-past-life-lyrics',\n",
    "    'https://genius.com/Xxxtentacion-bad-vibes-forever-lyrics',\n",
    "    'https://genius.com/Ynw-melly-suicidal-lyrics',\n",
    "    'https://genius.com/Zedd-and-katy-perry-365-lyrics',\n",
    "    'https://genius.com/Benny-blanco-and-juice-wrld-roses-lyrics',\n",
    "    'https://genius.com/Benny-blanco-halsey-and-khalid-eastside-lyrics',\n",
    "    'https://genius.com/Benny-blanco-tainy-selena-gomez-and-j-balvin-i-cant-get-enough-lyrics',\n",
    "    'https://genius.com/Blackbear-hot-girl-bummer-lyrics',\n",
    "    'https://genius.com/For-king-and-country-god-only-knows-lyrics',\n",
    "    'https://genius.com/Twenty-one-pilots-level-of-concern-lyrics',\n",
    "]\n"
   ],
   "metadata": {
    "collapsed": false,
    "pycharm": {
     "name": "#%%\n"
    }
   }
  },
  {
   "cell_type": "code",
   "execution_count": 30,
   "outputs": [
    {
     "data": {
      "text/plain": "        id                                             artist  \\\n97    9707  Ariana Grande Feat. Doja Cat & Megan Thee Stal...   \n153   6252                           Bad Bunny X Daddy Yankee   \n190  10449                                        Bing Crosby   \n192  10435                  Bing Crosby & The Andrews Sisters   \n196   5178               Blake Shelton Duet With Gwen Stefani   \n\n                             first_artist                               song  \\\n97           Ariana Grande Feat. Doja Cat                              34+35   \n153                             Bad Bunny                           La Santa   \n190                           Bing Crosby         I'll Be Home For Christmas   \n192                           Bing Crosby  Mele Kalikimaka (Merry Christmas)   \n196  Blake Shelton Duet With Gwen Stefani                     Nobody But You   \n\n     weeks_on_chart  peak_rank  \\\n97                8          8   \n153               2         53   \n190               1         50   \n192               1         36   \n196              25         18   \n\n                                                lyrics  \\\n97   Mmm\\n\\nPensarás que estoy loca\\nPor la forma e...   \n153  1,000,000+ views\\n🔸 Bad Bunny - Yonaguni // 1M...   \n190  \"I Robot,\" Alan Parson's Project\\n\\n\"I Walk Th...   \n192                                           !NoSong!   \n196  Harry Styles - Treat People With Kindness\\nAle...   \n\n                                                   url url_first_word  \\\n97       https://genius.com/Ariana-grande-34-35-lyrics         genius   \n153  https://genius.com/Bad-bunny-and-daddy-yankee-...          polka   \n190  https://genius.com/Bing-crosby-ill-be-home-for...         screen   \n192  https://genius.com/Bing-crosby-and-the-andrews...            nan   \n196  https://genius.com/Blake-shelton-nobody-but-yo...        spotify   \n\n    artist_first_word  \n97             ariana  \n153               bad  \n190              bing  \n192              bing  \n196             blake  ",
      "text/html": "<div>\n<style scoped>\n    .dataframe tbody tr th:only-of-type {\n        vertical-align: middle;\n    }\n\n    .dataframe tbody tr th {\n        vertical-align: top;\n    }\n\n    .dataframe thead th {\n        text-align: right;\n    }\n</style>\n<table border=\"1\" class=\"dataframe\">\n  <thead>\n    <tr style=\"text-align: right;\">\n      <th></th>\n      <th>id</th>\n      <th>artist</th>\n      <th>first_artist</th>\n      <th>song</th>\n      <th>weeks_on_chart</th>\n      <th>peak_rank</th>\n      <th>lyrics</th>\n      <th>url</th>\n      <th>url_first_word</th>\n      <th>artist_first_word</th>\n    </tr>\n  </thead>\n  <tbody>\n    <tr>\n      <th>97</th>\n      <td>9707</td>\n      <td>Ariana Grande Feat. Doja Cat &amp; Megan Thee Stal...</td>\n      <td>Ariana Grande Feat. Doja Cat</td>\n      <td>34+35</td>\n      <td>8</td>\n      <td>8</td>\n      <td>Mmm\\n\\nPensarás que estoy loca\\nPor la forma e...</td>\n      <td>https://genius.com/Ariana-grande-34-35-lyrics</td>\n      <td>genius</td>\n      <td>ariana</td>\n    </tr>\n    <tr>\n      <th>153</th>\n      <td>6252</td>\n      <td>Bad Bunny X Daddy Yankee</td>\n      <td>Bad Bunny</td>\n      <td>La Santa</td>\n      <td>2</td>\n      <td>53</td>\n      <td>1,000,000+ views\\n🔸 Bad Bunny - Yonaguni // 1M...</td>\n      <td>https://genius.com/Bad-bunny-and-daddy-yankee-...</td>\n      <td>polka</td>\n      <td>bad</td>\n    </tr>\n    <tr>\n      <th>190</th>\n      <td>10449</td>\n      <td>Bing Crosby</td>\n      <td>Bing Crosby</td>\n      <td>I'll Be Home For Christmas</td>\n      <td>1</td>\n      <td>50</td>\n      <td>\"I Robot,\" Alan Parson's Project\\n\\n\"I Walk Th...</td>\n      <td>https://genius.com/Bing-crosby-ill-be-home-for...</td>\n      <td>screen</td>\n      <td>bing</td>\n    </tr>\n    <tr>\n      <th>192</th>\n      <td>10435</td>\n      <td>Bing Crosby &amp; The Andrews Sisters</td>\n      <td>Bing Crosby</td>\n      <td>Mele Kalikimaka (Merry Christmas)</td>\n      <td>1</td>\n      <td>36</td>\n      <td>!NoSong!</td>\n      <td>https://genius.com/Bing-crosby-and-the-andrews...</td>\n      <td>nan</td>\n      <td>bing</td>\n    </tr>\n    <tr>\n      <th>196</th>\n      <td>5178</td>\n      <td>Blake Shelton Duet With Gwen Stefani</td>\n      <td>Blake Shelton Duet With Gwen Stefani</td>\n      <td>Nobody But You</td>\n      <td>25</td>\n      <td>18</td>\n      <td>Harry Styles - Treat People With Kindness\\nAle...</td>\n      <td>https://genius.com/Blake-shelton-nobody-but-yo...</td>\n      <td>spotify</td>\n      <td>blake</td>\n    </tr>\n  </tbody>\n</table>\n</div>"
     },
     "execution_count": 30,
     "metadata": {},
     "output_type": "execute_result"
    }
   ],
   "source": [
    "len(missing_lyrics_ids)\n",
    "\n",
    "lyrics_invalid = lyrics_invalid.loc[missing_lyrics_ids]\n",
    "lyrics_invalid['url'] = missing_lyrics_links\n",
    "\n",
    "lyrics_invalid.head()\n"
   ],
   "metadata": {
    "collapsed": false,
    "pycharm": {
     "name": "#%%\n"
    }
   }
  },
  {
   "cell_type": "code",
   "execution_count": 31,
   "outputs": [
    {
     "data": {
      "text/plain": "         id                                            artist  \\\n1093     98                               Shawn Mendes X Zedd   \n1095    161                              Silk City x Dua Lipa   \n1110    986                             Summer Walker X Drake   \n1144  10367                                      Taylor Swift   \n1163  10356                   Taylor Swift Featuring Bon Iver   \n1164   8305                   Taylor Swift Featuring Bon Iver   \n1165   1799               Taylor Swift Featuring Brendon Urie   \n1168  10362               Taylor Swift Featuring The National   \n1169  10446                                    The Beach Boys   \n1220   9200        Travis Scott Featuring Young Thug & M.I.A.   \n1222   7976                      Trevor Daniel x Selena Gomez   \n1253   5084    XXXTENTACION Featuring PnB Rock & Trippie Redd   \n1262   4863                            YNW Melly & Juice WRLD   \n1314    885                                 Zedd & Katy Perry   \n1315    194  benny blanco & Juice WRLD Featuring Brendon Urie   \n1316     20                     benny blanco, Halsey & Khalid   \n1317   1092      benny blanco, Tainy, Selena Gomez & J Balvin   \n1318   3890                                         blackbear   \n1319   3693                                for KING & COUNTRY   \n1321   6822                                 twenty one pilots   \n\n                           first_artist                song  weeks_on_chart  \\\n1093                       Shawn Mendes       Lost In Japan              16   \n1095                          Silk City         Electricity              10   \n1110                      Summer Walker     Girls Need Love              20   \n1144                       Taylor Swift    Long Story Short               1   \n1163                       Taylor Swift            Evermore               1   \n1164                       Taylor Swift               Exile               5   \n1165                       Taylor Swift                 ME!              20   \n1168                       Taylor Swift        Coney Island               1   \n1169                     The Beach Boys   Little Saint Nick               1   \n1220                       Travis Scott           Franchise               9   \n1222                      Trevor Daniel           Past Life               5   \n1253                       XXXTENTACION   Bad Vibes Forever               1   \n1262                          YNW Melly            Suicidal              20   \n1314                               Zedd                 365               1   \n1315          benny blanco & Juice WRLD               Roses               6   \n1316               benny blanco, Halsey            Eastside              52   \n1317  benny blanco, Tainy, Selena Gomez  I Can't Get Enough               5   \n1318                          blackbear     Hot Girl Bummer              42   \n1319                           for KING      God Only Knows               1   \n1321                  twenty one pilots    Level Of Concern              11   \n\n      peak_rank                                             lyrics  \\\n1093         48  Skip to: April | May | June\\nAPRIL\\n4/1\\nAllie...   \n1095         62  Last updated: 10/6/2018, 5:16PM MSTOctoberOcto...   \n1110         37  May 29, 2019 Update\\nCross Me - Ed Sheeran\\nSt...   \n1144         68  Fatalmente\\nTraté de elegir mis batallas hasta...   \n1163         57  Noviembre gris\\nHe estado triste desde julio\\n...   \n1164          6  GENERAL FIELDRecord Of The YearBLACK PARADE\\nB...   \n1165          2  JANUARY\"Giant\" by Calvin Harris featuring Rag ...   \n1168         63  Seni ararken ruhum ikiye ayrılıyor\\nAma tam bu...   \n1169         47                                            !Error!   \n1220          1  Ага\\nДа-да, да\\nМхм-мхм, Мхм-мхм\\nМхм-мхм, Мхм...   \n1222         77  8/1\\nRob Markman - \"Easy Money Sniper\"\\nvowl. ...   \n1253         85  Оуу-оуу-оуу\\nВ конце концов, поработай сегодня...   \n1262         20  By the way, these songs are not in order and I...   \n1314         86                                            !Error!   \n1315         85                                            !Error!   \n1316          9                                            !Error!   \n1317         66                                            !Error!   \n1318         11                                            !Error!   \n1319         94                                            !Error!   \n1321         23                                            !Error!   \n\n                                                    url url_first_word  \\\n1093  https://genius.com/Shawn-mendes-lost-in-japan-...         genius   \n1095  https://genius.com/Silk-city-and-dua-lipa-elec...         gerald   \n1110  https://genius.com/Summer-walker-and-drake-gir...           liam   \n1144  https://genius.com/Taylor-swift-long-story-sho...         genius   \n1163    https://genius.com/Taylor-swift-evermore-lyrics         genius   \n1164       https://genius.com/Taylor-swift-exile-lyrics        grammys   \n1165          https://genius.com/Taylor-swift-me-lyrics         genius   \n1168  https://genius.com/Taylor-swift-coney-island-l...         genius   \n1169  https://genius.com/The-beach-boys-little-saint...            nan   \n1220   https://genius.com/Travis-scott-franchise-lyrics         genius   \n1222  https://genius.com/Trevor-daniel-and-selena-go...         genius   \n1253  https://genius.com/Xxxtentacion-bad-vibes-fore...         genius   \n1262       https://genius.com/Ynw-melly-suicidal-lyrics          queen   \n1314  https://genius.com/Zedd-and-katy-perry-365-lyrics            nan   \n1315  https://genius.com/Benny-blanco-and-juice-wrld...            nan   \n1316  https://genius.com/Benny-blanco-halsey-and-kha...            nan   \n1317  https://genius.com/Benny-blanco-tainy-selena-g...            nan   \n1318  https://genius.com/Blackbear-hot-girl-bummer-l...            nan   \n1319  https://genius.com/For-king-and-country-god-on...            nan   \n1321  https://genius.com/Twenty-one-pilots-level-of-...            nan   \n\n     artist_first_word  \n1093             shawn  \n1095              silk  \n1110            summer  \n1144            taylor  \n1163            taylor  \n1164            taylor  \n1165            taylor  \n1168            taylor  \n1169               the  \n1220            travis  \n1222            trevor  \n1253      xxxtentacion  \n1262               ynw  \n1314              zedd  \n1315             benny  \n1316             benny  \n1317             benny  \n1318         blackbear  \n1319               for  \n1321            twenty  ",
      "text/html": "<div>\n<style scoped>\n    .dataframe tbody tr th:only-of-type {\n        vertical-align: middle;\n    }\n\n    .dataframe tbody tr th {\n        vertical-align: top;\n    }\n\n    .dataframe thead th {\n        text-align: right;\n    }\n</style>\n<table border=\"1\" class=\"dataframe\">\n  <thead>\n    <tr style=\"text-align: right;\">\n      <th></th>\n      <th>id</th>\n      <th>artist</th>\n      <th>first_artist</th>\n      <th>song</th>\n      <th>weeks_on_chart</th>\n      <th>peak_rank</th>\n      <th>lyrics</th>\n      <th>url</th>\n      <th>url_first_word</th>\n      <th>artist_first_word</th>\n    </tr>\n  </thead>\n  <tbody>\n    <tr>\n      <th>1093</th>\n      <td>98</td>\n      <td>Shawn Mendes X Zedd</td>\n      <td>Shawn Mendes</td>\n      <td>Lost In Japan</td>\n      <td>16</td>\n      <td>48</td>\n      <td>Skip to: April | May | June\\nAPRIL\\n4/1\\nAllie...</td>\n      <td>https://genius.com/Shawn-mendes-lost-in-japan-...</td>\n      <td>genius</td>\n      <td>shawn</td>\n    </tr>\n    <tr>\n      <th>1095</th>\n      <td>161</td>\n      <td>Silk City x Dua Lipa</td>\n      <td>Silk City</td>\n      <td>Electricity</td>\n      <td>10</td>\n      <td>62</td>\n      <td>Last updated: 10/6/2018, 5:16PM MSTOctoberOcto...</td>\n      <td>https://genius.com/Silk-city-and-dua-lipa-elec...</td>\n      <td>gerald</td>\n      <td>silk</td>\n    </tr>\n    <tr>\n      <th>1110</th>\n      <td>986</td>\n      <td>Summer Walker X Drake</td>\n      <td>Summer Walker</td>\n      <td>Girls Need Love</td>\n      <td>20</td>\n      <td>37</td>\n      <td>May 29, 2019 Update\\nCross Me - Ed Sheeran\\nSt...</td>\n      <td>https://genius.com/Summer-walker-and-drake-gir...</td>\n      <td>liam</td>\n      <td>summer</td>\n    </tr>\n    <tr>\n      <th>1144</th>\n      <td>10367</td>\n      <td>Taylor Swift</td>\n      <td>Taylor Swift</td>\n      <td>Long Story Short</td>\n      <td>1</td>\n      <td>68</td>\n      <td>Fatalmente\\nTraté de elegir mis batallas hasta...</td>\n      <td>https://genius.com/Taylor-swift-long-story-sho...</td>\n      <td>genius</td>\n      <td>taylor</td>\n    </tr>\n    <tr>\n      <th>1163</th>\n      <td>10356</td>\n      <td>Taylor Swift Featuring Bon Iver</td>\n      <td>Taylor Swift</td>\n      <td>Evermore</td>\n      <td>1</td>\n      <td>57</td>\n      <td>Noviembre gris\\nHe estado triste desde julio\\n...</td>\n      <td>https://genius.com/Taylor-swift-evermore-lyrics</td>\n      <td>genius</td>\n      <td>taylor</td>\n    </tr>\n    <tr>\n      <th>1164</th>\n      <td>8305</td>\n      <td>Taylor Swift Featuring Bon Iver</td>\n      <td>Taylor Swift</td>\n      <td>Exile</td>\n      <td>5</td>\n      <td>6</td>\n      <td>GENERAL FIELDRecord Of The YearBLACK PARADE\\nB...</td>\n      <td>https://genius.com/Taylor-swift-exile-lyrics</td>\n      <td>grammys</td>\n      <td>taylor</td>\n    </tr>\n    <tr>\n      <th>1165</th>\n      <td>1799</td>\n      <td>Taylor Swift Featuring Brendon Urie</td>\n      <td>Taylor Swift</td>\n      <td>ME!</td>\n      <td>20</td>\n      <td>2</td>\n      <td>JANUARY\"Giant\" by Calvin Harris featuring Rag ...</td>\n      <td>https://genius.com/Taylor-swift-me-lyrics</td>\n      <td>genius</td>\n      <td>taylor</td>\n    </tr>\n    <tr>\n      <th>1168</th>\n      <td>10362</td>\n      <td>Taylor Swift Featuring The National</td>\n      <td>Taylor Swift</td>\n      <td>Coney Island</td>\n      <td>1</td>\n      <td>63</td>\n      <td>Seni ararken ruhum ikiye ayrılıyor\\nAma tam bu...</td>\n      <td>https://genius.com/Taylor-swift-coney-island-l...</td>\n      <td>genius</td>\n      <td>taylor</td>\n    </tr>\n    <tr>\n      <th>1169</th>\n      <td>10446</td>\n      <td>The Beach Boys</td>\n      <td>The Beach Boys</td>\n      <td>Little Saint Nick</td>\n      <td>1</td>\n      <td>47</td>\n      <td>!Error!</td>\n      <td>https://genius.com/The-beach-boys-little-saint...</td>\n      <td>nan</td>\n      <td>the</td>\n    </tr>\n    <tr>\n      <th>1220</th>\n      <td>9200</td>\n      <td>Travis Scott Featuring Young Thug &amp; M.I.A.</td>\n      <td>Travis Scott</td>\n      <td>Franchise</td>\n      <td>9</td>\n      <td>1</td>\n      <td>Ага\\nДа-да, да\\nМхм-мхм, Мхм-мхм\\nМхм-мхм, Мхм...</td>\n      <td>https://genius.com/Travis-scott-franchise-lyrics</td>\n      <td>genius</td>\n      <td>travis</td>\n    </tr>\n    <tr>\n      <th>1222</th>\n      <td>7976</td>\n      <td>Trevor Daniel x Selena Gomez</td>\n      <td>Trevor Daniel</td>\n      <td>Past Life</td>\n      <td>5</td>\n      <td>77</td>\n      <td>8/1\\nRob Markman - \"Easy Money Sniper\"\\nvowl. ...</td>\n      <td>https://genius.com/Trevor-daniel-and-selena-go...</td>\n      <td>genius</td>\n      <td>trevor</td>\n    </tr>\n    <tr>\n      <th>1253</th>\n      <td>5084</td>\n      <td>XXXTENTACION Featuring PnB Rock &amp; Trippie Redd</td>\n      <td>XXXTENTACION</td>\n      <td>Bad Vibes Forever</td>\n      <td>1</td>\n      <td>85</td>\n      <td>Оуу-оуу-оуу\\nВ конце концов, поработай сегодня...</td>\n      <td>https://genius.com/Xxxtentacion-bad-vibes-fore...</td>\n      <td>genius</td>\n      <td>xxxtentacion</td>\n    </tr>\n    <tr>\n      <th>1262</th>\n      <td>4863</td>\n      <td>YNW Melly &amp; Juice WRLD</td>\n      <td>YNW Melly</td>\n      <td>Suicidal</td>\n      <td>20</td>\n      <td>20</td>\n      <td>By the way, these songs are not in order and I...</td>\n      <td>https://genius.com/Ynw-melly-suicidal-lyrics</td>\n      <td>queen</td>\n      <td>ynw</td>\n    </tr>\n    <tr>\n      <th>1314</th>\n      <td>885</td>\n      <td>Zedd &amp; Katy Perry</td>\n      <td>Zedd</td>\n      <td>365</td>\n      <td>1</td>\n      <td>86</td>\n      <td>!Error!</td>\n      <td>https://genius.com/Zedd-and-katy-perry-365-lyrics</td>\n      <td>nan</td>\n      <td>zedd</td>\n    </tr>\n    <tr>\n      <th>1315</th>\n      <td>194</td>\n      <td>benny blanco &amp; Juice WRLD Featuring Brendon Urie</td>\n      <td>benny blanco &amp; Juice WRLD</td>\n      <td>Roses</td>\n      <td>6</td>\n      <td>85</td>\n      <td>!Error!</td>\n      <td>https://genius.com/Benny-blanco-and-juice-wrld...</td>\n      <td>nan</td>\n      <td>benny</td>\n    </tr>\n    <tr>\n      <th>1316</th>\n      <td>20</td>\n      <td>benny blanco, Halsey &amp; Khalid</td>\n      <td>benny blanco, Halsey</td>\n      <td>Eastside</td>\n      <td>52</td>\n      <td>9</td>\n      <td>!Error!</td>\n      <td>https://genius.com/Benny-blanco-halsey-and-kha...</td>\n      <td>nan</td>\n      <td>benny</td>\n    </tr>\n    <tr>\n      <th>1317</th>\n      <td>1092</td>\n      <td>benny blanco, Tainy, Selena Gomez &amp; J Balvin</td>\n      <td>benny blanco, Tainy, Selena Gomez</td>\n      <td>I Can't Get Enough</td>\n      <td>5</td>\n      <td>66</td>\n      <td>!Error!</td>\n      <td>https://genius.com/Benny-blanco-tainy-selena-g...</td>\n      <td>nan</td>\n      <td>benny</td>\n    </tr>\n    <tr>\n      <th>1318</th>\n      <td>3890</td>\n      <td>blackbear</td>\n      <td>blackbear</td>\n      <td>Hot Girl Bummer</td>\n      <td>42</td>\n      <td>11</td>\n      <td>!Error!</td>\n      <td>https://genius.com/Blackbear-hot-girl-bummer-l...</td>\n      <td>nan</td>\n      <td>blackbear</td>\n    </tr>\n    <tr>\n      <th>1319</th>\n      <td>3693</td>\n      <td>for KING &amp; COUNTRY</td>\n      <td>for KING</td>\n      <td>God Only Knows</td>\n      <td>1</td>\n      <td>94</td>\n      <td>!Error!</td>\n      <td>https://genius.com/For-king-and-country-god-on...</td>\n      <td>nan</td>\n      <td>for</td>\n    </tr>\n    <tr>\n      <th>1321</th>\n      <td>6822</td>\n      <td>twenty one pilots</td>\n      <td>twenty one pilots</td>\n      <td>Level Of Concern</td>\n      <td>11</td>\n      <td>23</td>\n      <td>!Error!</td>\n      <td>https://genius.com/Twenty-one-pilots-level-of-...</td>\n      <td>nan</td>\n      <td>twenty</td>\n    </tr>\n  </tbody>\n</table>\n</div>"
     },
     "execution_count": 31,
     "metadata": {},
     "output_type": "execute_result"
    }
   ],
   "source": [
    "lyrics_invalid.tail(20)"
   ],
   "metadata": {
    "collapsed": false,
    "pycharm": {
     "name": "#%%\n"
    }
   }
  },
  {
   "cell_type": "markdown",
   "source": [
    "### Export invalid lyrics with links for LyricsGenius"
   ],
   "metadata": {
    "collapsed": false,
    "pycharm": {
     "name": "#%% md\n"
    }
   }
  },
  {
   "cell_type": "code",
   "execution_count": 32,
   "outputs": [],
   "source": [
    "lyrics_invalid.to_json('data/artist_song/lyrics_invalid.json')\n",
    "\n",
    "\n"
   ],
   "metadata": {
    "collapsed": false,
    "pycharm": {
     "name": "#%%\n"
    }
   }
  }
 ],
 "metadata": {
  "kernelspec": {
   "display_name": "Python 3",
   "language": "python",
   "name": "python3"
  },
  "language_info": {
   "codemirror_mode": {
    "name": "ipython",
    "version": 3
   },
   "file_extension": ".py",
   "mimetype": "text/x-python",
   "name": "python",
   "nbconvert_exporter": "python",
   "pygments_lexer": "ipython3",
   "version": "3.7.9"
  }
 },
 "nbformat": 4,
 "nbformat_minor": 1
}