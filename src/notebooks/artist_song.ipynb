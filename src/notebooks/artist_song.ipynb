{
 "cells": [
  {
   "cell_type": "code",
   "execution_count": 42,
   "outputs": [
    {
     "name": "stdout",
     "output_type": "stream",
     "text": [
      "../../data/billboard/bb_t100_en.csv\n",
      "../../data/billboard/billboard.csv\n",
      "../../data/billboard/billboard_top_100_2020.csv\n",
      "../../data/billboard/backups/bb-t100_backup.csv\n"
     ]
    }
   ],
   "source": [
    "import numpy as np # linear algebra\n",
    "import pandas as pd # data processing, CSV file I/O (e.g. pd.read_csv)\n",
    "import seaborn as sns\n",
    "import matplotlib.pyplot as plt\n",
    "import datetime\n",
    "import os\n",
    "for dirname, _, filenames in os.walk('../../data/billboard'):\n",
    "    for filename in filenames:\n",
    "        print(os.path.join(dirname, filename).replace(\"\\\\\",\"/\"))"
   ],
   "metadata": {
    "collapsed": false,
    "pycharm": {
     "name": "#%%\n"
    }
   }
  },
  {
   "cell_type": "markdown",
   "metadata": {
    "collapsed": true,
    "pycharm": {
     "name": "#%% md\n"
    }
   },
   "source": [
    "#### Grouping song and artist\n",
    "\n",
    "To avoid redundent lyrics requests for lyrics I might already I have, I grouped artists and songs."
   ]
  },
  {
   "cell_type": "code",
   "execution_count": 79,
   "outputs": [
    {
     "data": {
      "text/plain": "'2019-01-05'"
     },
     "execution_count": 79,
     "metadata": {},
     "output_type": "execute_result"
    }
   ],
   "source": [
    "bb_t100 = pd.read_csv('../../data/billboard/billboard.csv', index_col=0)"
   ],
   "metadata": {
    "collapsed": false,
    "pycharm": {
     "name": "#%%\n"
    }
   }
  },
  {
   "cell_type": "code",
   "execution_count": 83,
   "outputs": [
    {
     "data": {
      "text/plain": "                                                                        date  \\\nartist                                       song                              \n2 Chainz Featuring Ariana Grande             Rule The World       2019-03-16   \n2 Chainz Featuring Kendrick Lamar            Momma I Hit A Lick   2019-03-16   \n2 Chainz Featuring Travis Scott              Whip                 2019-03-16   \n21 Savage                                    1.5                  2019-01-05   \n                                             A Lot                2019-01-05   \n...                                                                      ...   \nbenny blanco, Tainy, Selena Gomez & J Balvin I Can't Get Enough   2019-03-16   \nblackbear                                    Hot Girl Bummer      2019-09-28   \nfor KING & COUNTRY                           God Only Knows       2019-09-14   \nj-hope Featuring Becky G.                    Chicken Noodle Soup  2019-10-12   \ntwenty one pilots                            Level Of Concern     2020-04-25   \n\n                                                                    id  \\\nartist                                       song                        \n2 Chainz Featuring Ariana Grande             Rule The World       1093   \n2 Chainz Featuring Kendrick Lamar            Momma I Hit A Lick   1099   \n2 Chainz Featuring Travis Scott              Whip                 1074   \n21 Savage                                    1.5                    85   \n                                             A Lot                  36   \n...                                                                ...   \nbenny blanco, Tainy, Selena Gomez & J Balvin I Can't Get Enough   1092   \nblackbear                                    Hot Girl Bummer      3890   \nfor KING & COUNTRY                           God Only Knows       3693   \nj-hope Featuring Becky G.                    Chicken Noodle Soup  4080   \ntwenty one pilots                            Level Of Concern     6822   \n\n                                                                  peak_rank  \\\nartist                                       song                             \n2 Chainz Featuring Ariana Grande             Rule The World              94   \n2 Chainz Featuring Kendrick Lamar            Momma I Hit A Lick         100   \n2 Chainz Featuring Travis Scott              Whip                        75   \n21 Savage                                    1.5                         86   \n                                             A Lot                       12   \n...                                                                     ...   \nbenny blanco, Tainy, Selena Gomez & J Balvin I Can't Get Enough          66   \nblackbear                                    Hot Girl Bummer             11   \nfor KING & COUNTRY                           God Only Knows              94   \nj-hope Featuring Becky G.                    Chicken Noodle Soup         81   \ntwenty one pilots                            Level Of Concern            23   \n\n                                                                  weeks_on_chart  \nartist                                       song                                 \n2 Chainz Featuring Ariana Grande             Rule The World                    2  \n2 Chainz Featuring Kendrick Lamar            Momma I Hit A Lick                1  \n2 Chainz Featuring Travis Scott              Whip                              1  \n21 Savage                                    1.5                               1  \n                                             A Lot                            23  \n...                                                                          ...  \nbenny blanco, Tainy, Selena Gomez & J Balvin I Can't Get Enough                5  \nblackbear                                    Hot Girl Bummer                  42  \nfor KING & COUNTRY                           God Only Knows                    1  \nj-hope Featuring Becky G.                    Chicken Noodle Soup               1  \ntwenty one pilots                            Level Of Concern                 11  \n\n[1322 rows x 4 columns]",
      "text/html": "<div>\n<style scoped>\n    .dataframe tbody tr th:only-of-type {\n        vertical-align: middle;\n    }\n\n    .dataframe tbody tr th {\n        vertical-align: top;\n    }\n\n    .dataframe thead th {\n        text-align: right;\n    }\n</style>\n<table border=\"1\" class=\"dataframe\">\n  <thead>\n    <tr style=\"text-align: right;\">\n      <th></th>\n      <th></th>\n      <th>date</th>\n      <th>id</th>\n      <th>peak_rank</th>\n      <th>weeks_on_chart</th>\n    </tr>\n    <tr>\n      <th>artist</th>\n      <th>song</th>\n      <th></th>\n      <th></th>\n      <th></th>\n      <th></th>\n    </tr>\n  </thead>\n  <tbody>\n    <tr>\n      <th>2 Chainz Featuring Ariana Grande</th>\n      <th>Rule The World</th>\n      <td>2019-03-16</td>\n      <td>1093</td>\n      <td>94</td>\n      <td>2</td>\n    </tr>\n    <tr>\n      <th>2 Chainz Featuring Kendrick Lamar</th>\n      <th>Momma I Hit A Lick</th>\n      <td>2019-03-16</td>\n      <td>1099</td>\n      <td>100</td>\n      <td>1</td>\n    </tr>\n    <tr>\n      <th>2 Chainz Featuring Travis Scott</th>\n      <th>Whip</th>\n      <td>2019-03-16</td>\n      <td>1074</td>\n      <td>75</td>\n      <td>1</td>\n    </tr>\n    <tr>\n      <th rowspan=\"2\" valign=\"top\">21 Savage</th>\n      <th>1.5</th>\n      <td>2019-01-05</td>\n      <td>85</td>\n      <td>86</td>\n      <td>1</td>\n    </tr>\n    <tr>\n      <th>A Lot</th>\n      <td>2019-01-05</td>\n      <td>36</td>\n      <td>12</td>\n      <td>23</td>\n    </tr>\n    <tr>\n      <th>...</th>\n      <th>...</th>\n      <td>...</td>\n      <td>...</td>\n      <td>...</td>\n      <td>...</td>\n    </tr>\n    <tr>\n      <th>benny blanco, Tainy, Selena Gomez &amp; J Balvin</th>\n      <th>I Can't Get Enough</th>\n      <td>2019-03-16</td>\n      <td>1092</td>\n      <td>66</td>\n      <td>5</td>\n    </tr>\n    <tr>\n      <th>blackbear</th>\n      <th>Hot Girl Bummer</th>\n      <td>2019-09-28</td>\n      <td>3890</td>\n      <td>11</td>\n      <td>42</td>\n    </tr>\n    <tr>\n      <th>for KING &amp; COUNTRY</th>\n      <th>God Only Knows</th>\n      <td>2019-09-14</td>\n      <td>3693</td>\n      <td>94</td>\n      <td>1</td>\n    </tr>\n    <tr>\n      <th>j-hope Featuring Becky G.</th>\n      <th>Chicken Noodle Soup</th>\n      <td>2019-10-12</td>\n      <td>4080</td>\n      <td>81</td>\n      <td>1</td>\n    </tr>\n    <tr>\n      <th>twenty one pilots</th>\n      <th>Level Of Concern</th>\n      <td>2020-04-25</td>\n      <td>6822</td>\n      <td>23</td>\n      <td>11</td>\n    </tr>\n  </tbody>\n</table>\n<p>1322 rows × 4 columns</p>\n</div>"
     },
     "execution_count": 83,
     "metadata": {},
     "output_type": "execute_result"
    }
   ],
   "source": [
    "artist_song_pt = pd.pivot_table(bb_t100, index=['artist', 'song'],\n",
    "                                values=['peak_rank', 'weeks_on_chart', 'id', 'date'],\n",
    "                                aggfunc={'peak_rank' : 'min', 'weeks_on_chart' : 'max', 'id' : 'min', 'date' : 'min'})\n",
    "artist_song_pt"
   ],
   "metadata": {
    "collapsed": false,
    "pycharm": {
     "name": "#%%\n"
    }
   }
  },
  {
   "cell_type": "code",
   "execution_count": 90,
   "outputs": [
    {
     "data": {
      "text/plain": "                                   date  id  peak_rank  weeks_on_chart\nartist        song                                                    \nAriana Grande Thank U, Next  2019-01-05   0          1              28",
      "text/html": "<div>\n<style scoped>\n    .dataframe tbody tr th:only-of-type {\n        vertical-align: middle;\n    }\n\n    .dataframe tbody tr th {\n        vertical-align: top;\n    }\n\n    .dataframe thead th {\n        text-align: right;\n    }\n</style>\n<table border=\"1\" class=\"dataframe\">\n  <thead>\n    <tr style=\"text-align: right;\">\n      <th></th>\n      <th></th>\n      <th>date</th>\n      <th>id</th>\n      <th>peak_rank</th>\n      <th>weeks_on_chart</th>\n    </tr>\n    <tr>\n      <th>artist</th>\n      <th>song</th>\n      <th></th>\n      <th></th>\n      <th></th>\n      <th></th>\n    </tr>\n  </thead>\n  <tbody>\n    <tr>\n      <th>Ariana Grande</th>\n      <th>Thank U, Next</th>\n      <td>2019-01-05</td>\n      <td>0</td>\n      <td>1</td>\n      <td>28</td>\n    </tr>\n  </tbody>\n</table>\n</div>"
     },
     "execution_count": 90,
     "metadata": {},
     "output_type": "execute_result"
    }
   ],
   "source": [
    "artist_song_pt[(artist_song_pt.index.get_level_values('song') == 'Thank U, Next')]"
   ],
   "metadata": {
    "collapsed": false,
    "pycharm": {
     "name": "#%%\n"
    }
   }
  },
  {
   "cell_type": "code",
   "execution_count": 45,
   "outputs": [
    {
     "name": "stdout",
     "output_type": "stream",
     "text": [
      "Unique artist names: 733\n",
      "Unique song names: 1291\n"
     ]
    }
   ],
   "source": [
    "print('Unique artist names:', len(bb_t100['artist'].unique()))\n",
    "print('Unique song names:',len(bb_t100['song'].unique()))"
   ],
   "metadata": {
    "collapsed": false,
    "pycharm": {
     "name": "#%%\n"
    }
   }
  },
  {
   "cell_type": "markdown",
   "source": [
    "turning the pivot table into a data frame"
   ],
   "metadata": {
    "collapsed": false
   }
  },
  {
   "cell_type": "code",
   "execution_count": 98,
   "outputs": [
    {
     "data": {
      "text/plain": "    id         artist           song  weeks_on_chart  peak_rank        date\n91   0  Ariana Grande  Thank U, Next              28          1  2019-01-05",
      "text/html": "<div>\n<style scoped>\n    .dataframe tbody tr th:only-of-type {\n        vertical-align: middle;\n    }\n\n    .dataframe tbody tr th {\n        vertical-align: top;\n    }\n\n    .dataframe thead th {\n        text-align: right;\n    }\n</style>\n<table border=\"1\" class=\"dataframe\">\n  <thead>\n    <tr style=\"text-align: right;\">\n      <th></th>\n      <th>id</th>\n      <th>artist</th>\n      <th>song</th>\n      <th>weeks_on_chart</th>\n      <th>peak_rank</th>\n      <th>date</th>\n    </tr>\n  </thead>\n  <tbody>\n    <tr>\n      <th>91</th>\n      <td>0</td>\n      <td>Ariana Grande</td>\n      <td>Thank U, Next</td>\n      <td>28</td>\n      <td>1</td>\n      <td>2019-01-05</td>\n    </tr>\n  </tbody>\n</table>\n</div>"
     },
     "execution_count": 98,
     "metadata": {},
     "output_type": "execute_result"
    }
   ],
   "source": [
    "artist_song_list = []\n",
    "\n",
    "for row in artist_song_pt.itertuples():\n",
    "    artist_song_list.append(row)\n",
    "\n",
    "artist_song = pd.DataFrame(artist_song_list)\n",
    "\n",
    "artist_song[['artist', 'song']] = pd.DataFrame(artist_song['Index'].tolist())\n",
    "\n",
    "artist_song = artist_song[['id','artist', 'song', 'weeks_on_chart', 'peak_rank', 'date']]\n",
    "artist_song.head()\n",
    "\n",
    "artist_song.loc[artist_song['song'] == 'Thank U, Next']"
   ],
   "metadata": {
    "collapsed": false,
    "pycharm": {
     "name": "#%%\n"
    }
   }
  },
  {
   "cell_type": "code",
   "execution_count": 47,
   "outputs": [
    {
     "name": "stdout",
     "output_type": "stream",
     "text": [
      "\\begin{tabular}{lllrrl}\n",
      "\\toprule\n",
      "{} &                             artist &                song &  weeks\\_on\\_chart &  peak\\_rank &        date \\\\\n",
      "\\midrule\n",
      "0 &   2 Chainz Featuring Ariana Grande &      Rule The World &               2 &         94 &  2019-03-16 \\\\\n",
      "1 &  2 Chainz Featuring Kendrick Lamar &  Momma I Hit A Lick &               1 &        100 &  2019-03-16 \\\\\n",
      "2 &    2 Chainz Featuring Travis Scott &                Whip &               1 &         75 &  2019-03-16 \\\\\n",
      "3 &                          21 Savage &                 1.5 &               1 &         86 &  2019-01-05 \\\\\n",
      "4 &                          21 Savage &               A Lot &              23 &         12 &  2019-01-05 \\\\\n",
      "\\bottomrule\n",
      "\\end{tabular}\n",
      "\n"
     ]
    }
   ],
   "source": [
    "artist_song_lat = artist_song[['artist', 'song', 'weeks_on_chart', 'peak_rank', 'date']].head()\n",
    "print(artist_song_lat.to_latex())"
   ],
   "metadata": {
    "collapsed": false,
    "pycharm": {
     "name": "#%%\n"
    }
   }
  },
  {
   "cell_type": "markdown",
   "source": [
    "rough overview"
   ],
   "metadata": {
    "collapsed": false
   }
  },
  {
   "cell_type": "code",
   "execution_count": 48,
   "outputs": [
    {
     "data": {
      "text/plain": "                 id  weeks_on_chart    peak_rank\ncount   1322.000000     1322.000000  1322.000000\nmean    5177.734493        8.881997    51.161120\nstd     3242.740525       11.146522    28.710498\nmin        0.000000        1.000000     1.000000\n25%     2366.750000        1.000000    28.000000\n50%     5586.500000        3.000000    53.000000\n75%     7851.000000       15.000000    75.000000\nmax    10497.000000       61.000000   100.000000",
      "text/html": "<div>\n<style scoped>\n    .dataframe tbody tr th:only-of-type {\n        vertical-align: middle;\n    }\n\n    .dataframe tbody tr th {\n        vertical-align: top;\n    }\n\n    .dataframe thead th {\n        text-align: right;\n    }\n</style>\n<table border=\"1\" class=\"dataframe\">\n  <thead>\n    <tr style=\"text-align: right;\">\n      <th></th>\n      <th>id</th>\n      <th>weeks_on_chart</th>\n      <th>peak_rank</th>\n    </tr>\n  </thead>\n  <tbody>\n    <tr>\n      <th>count</th>\n      <td>1322.000000</td>\n      <td>1322.000000</td>\n      <td>1322.000000</td>\n    </tr>\n    <tr>\n      <th>mean</th>\n      <td>5177.734493</td>\n      <td>8.881997</td>\n      <td>51.161120</td>\n    </tr>\n    <tr>\n      <th>std</th>\n      <td>3242.740525</td>\n      <td>11.146522</td>\n      <td>28.710498</td>\n    </tr>\n    <tr>\n      <th>min</th>\n      <td>0.000000</td>\n      <td>1.000000</td>\n      <td>1.000000</td>\n    </tr>\n    <tr>\n      <th>25%</th>\n      <td>2366.750000</td>\n      <td>1.000000</td>\n      <td>28.000000</td>\n    </tr>\n    <tr>\n      <th>50%</th>\n      <td>5586.500000</td>\n      <td>3.000000</td>\n      <td>53.000000</td>\n    </tr>\n    <tr>\n      <th>75%</th>\n      <td>7851.000000</td>\n      <td>15.000000</td>\n      <td>75.000000</td>\n    </tr>\n    <tr>\n      <th>max</th>\n      <td>10497.000000</td>\n      <td>61.000000</td>\n      <td>100.000000</td>\n    </tr>\n  </tbody>\n</table>\n</div>"
     },
     "execution_count": 48,
     "metadata": {},
     "output_type": "execute_result"
    }
   ],
   "source": [
    "artist_song.describe()"
   ],
   "metadata": {
    "collapsed": false,
    "pycharm": {
     "name": "#%%\n"
    }
   }
  },
  {
   "cell_type": "markdown",
   "source": [
    "#### Working with censored songs\n",
    "\n",
    "Explicit songnames are censored on billboard but uncensored on genius, which can cause problems when searching for the lyrics."
   ],
   "metadata": {
    "collapsed": false
   }
  },
  {
   "cell_type": "markdown",
   "source": [
    "Identifying censored words."
   ],
   "metadata": {
    "collapsed": false
   }
  },
  {
   "cell_type": "code",
   "execution_count": 49,
   "outputs": [
    {
     "name": "stdout",
     "output_type": "stream",
     "text": [
      "9 censored words: ['N*ggas', 'N*gga', 'Sh*t', 'SH*T', 'N***a', 'P*$$y', 'N**gas', 'B*tch', 'F*ck']\n"
     ]
    }
   ],
   "source": [
    "censored_songnames = artist_song.loc[artist_song['song'].str.contains('\\*')]['song']\n",
    "censored_songnames = censored_songnames.tolist()\n",
    "\n",
    "censored_words = []\n",
    "for songname in censored_songnames:\n",
    "        words = songname.split(' ')\n",
    "        for word in words:\n",
    "            if '*' in word:\n",
    "                censored_words.append(word)\n",
    "\n",
    "print(len(censored_words), 'censored words:', censored_words)"
   ],
   "metadata": {
    "collapsed": false,
    "pycharm": {
     "name": "#%%\n"
    }
   }
  },
  {
   "cell_type": "markdown",
   "source": [
    "Putting every word in a dictionary makes it easy to replace them later with the created `get_uncensored_string` function"
   ],
   "metadata": {
    "collapsed": false
   }
  },
  {
   "cell_type": "code",
   "execution_count": 50,
   "outputs": [],
   "source": [
    "#manual solution due to small size of list, may change later\n",
    "censorship = {\n",
    "                 'N*ggas' : 'Niggas',\n",
    "                 'N*gga' : 'Nigga',\n",
    "                 'Sh*t' : 'Shit',\n",
    "                 'SH*T' : 'SHIT',\n",
    "                'N***a' : 'Nigga',\n",
    "                 'P*$$y' : 'Pu$$y',\n",
    "                 'N**gas' : 'Niggas',\n",
    "                 'B*tch' : 'Bitch',\n",
    "                 'F*ck' : 'Fuck'\n",
    "}\n",
    "\n",
    "\n",
    "def get_uncensored_string(censored_string):\n",
    "    uncensored_words = []\n",
    "    words = censored_string.split(' ')\n",
    "    for word in words:\n",
    "        if word in censorship:\n",
    "            word = censorship[word]\n",
    "        uncensored_words.append(word)\n",
    "    return ' '.join(uncensored_words)"
   ],
   "metadata": {
    "collapsed": false,
    "pycharm": {
     "name": "#%%\n"
    }
   }
  },
  {
   "cell_type": "markdown",
   "source": [
    "`get_uncesored_string` in action:"
   ],
   "metadata": {
    "collapsed": false
   }
  },
  {
   "cell_type": "code",
   "execution_count": 51,
   "outputs": [
    {
     "data": {
      "text/plain": "       id                                artist            song  \\\n293  6952  DaBaby Featuring Future & jetsonmade  LIGHTSKIN SH*T   \n\n     weeks_on_chart  peak_rank        date  \n293               1         53  2020-05-02  ",
      "text/html": "<div>\n<style scoped>\n    .dataframe tbody tr th:only-of-type {\n        vertical-align: middle;\n    }\n\n    .dataframe tbody tr th {\n        vertical-align: top;\n    }\n\n    .dataframe thead th {\n        text-align: right;\n    }\n</style>\n<table border=\"1\" class=\"dataframe\">\n  <thead>\n    <tr style=\"text-align: right;\">\n      <th></th>\n      <th>id</th>\n      <th>artist</th>\n      <th>song</th>\n      <th>weeks_on_chart</th>\n      <th>peak_rank</th>\n      <th>date</th>\n    </tr>\n  </thead>\n  <tbody>\n    <tr>\n      <th>293</th>\n      <td>6952</td>\n      <td>DaBaby Featuring Future &amp; jetsonmade</td>\n      <td>LIGHTSKIN SH*T</td>\n      <td>1</td>\n      <td>53</td>\n      <td>2020-05-02</td>\n    </tr>\n  </tbody>\n</table>\n</div>"
     },
     "execution_count": 51,
     "metadata": {},
     "output_type": "execute_result"
    }
   ],
   "source": [
    "artist_song.loc[artist_song['song'].str.contains(\"SH\\*T\") == True]"
   ],
   "metadata": {
    "collapsed": false,
    "pycharm": {
     "name": "#%%\n"
    }
   }
  },
  {
   "cell_type": "code",
   "execution_count": 52,
   "outputs": [
    {
     "data": {
      "text/plain": "id                                                6952\nartist            DaBaby Featuring Future & jetsonmade\nsong                                    LIGHTSKIN SHIT\nweeks_on_chart                                       1\npeak_rank                                           53\ndate                                        2020-05-02\nName: 293, dtype: object"
     },
     "execution_count": 52,
     "metadata": {},
     "output_type": "execute_result"
    }
   ],
   "source": [
    "artist_song['song'] = artist_song['song'].apply(lambda song: get_uncensored_string(song))\n",
    "artist_song.iloc[293]\n"
   ],
   "metadata": {
    "collapsed": false,
    "pycharm": {
     "name": "#%%\n"
    }
   }
  },
  {
   "cell_type": "code",
   "execution_count": 53,
   "outputs": [],
   "source": [
    "def get_first_artist(artist):\n",
    "    first_artist = artist\n",
    "    separators = [' Featuring ', ' & ', ' x ', ' X ', ', ', ' featuring ', ' Ft. ', ' ft. ']\n",
    "    for sep in separators:\n",
    "        if sep in artist:\n",
    "            first_artist = artist.split(sep=sep, maxsplit=1)[0]\n",
    "            return  first_artist\n",
    "    return first_artist"
   ],
   "metadata": {
    "collapsed": false,
    "pycharm": {
     "name": "#%%\n"
    }
   }
  },
  {
   "cell_type": "code",
   "execution_count": 100,
   "outputs": [],
   "source": [
    "artist_song['first_artist'] = artist_song['artist'].apply(lambda artist: get_first_artist(artist))\n",
    "\n"
   ],
   "metadata": {
    "collapsed": false,
    "pycharm": {
     "name": "#%%\n"
    }
   }
  },
  {
   "cell_type": "code",
   "execution_count": 101,
   "outputs": [
    {
     "name": "stdout",
     "output_type": "stream",
     "text": [
      "Index(['id', 'artist', 'song', 'weeks_on_chart', 'peak_rank', 'date',\n",
      "       'first_artist'],\n",
      "      dtype='object')\n"
     ]
    },
    {
     "data": {
      "text/plain": "    id         artist   first_artist           song  weeks_on_chart  \\\n91   0  Ariana Grande  Ariana Grande  Thank U, Next              28   \n\n    peak_rank        date  \n91          1  2019-01-05  ",
      "text/html": "<div>\n<style scoped>\n    .dataframe tbody tr th:only-of-type {\n        vertical-align: middle;\n    }\n\n    .dataframe tbody tr th {\n        vertical-align: top;\n    }\n\n    .dataframe thead th {\n        text-align: right;\n    }\n</style>\n<table border=\"1\" class=\"dataframe\">\n  <thead>\n    <tr style=\"text-align: right;\">\n      <th></th>\n      <th>id</th>\n      <th>artist</th>\n      <th>first_artist</th>\n      <th>song</th>\n      <th>weeks_on_chart</th>\n      <th>peak_rank</th>\n      <th>date</th>\n    </tr>\n  </thead>\n  <tbody>\n    <tr>\n      <th>91</th>\n      <td>0</td>\n      <td>Ariana Grande</td>\n      <td>Ariana Grande</td>\n      <td>Thank U, Next</td>\n      <td>28</td>\n      <td>1</td>\n      <td>2019-01-05</td>\n    </tr>\n  </tbody>\n</table>\n</div>"
     },
     "execution_count": 101,
     "metadata": {},
     "output_type": "execute_result"
    }
   ],
   "source": [
    "print(artist_song.columns)\n",
    "\n",
    "artist_song = artist_song[['id', 'artist', 'first_artist', 'song', 'weeks_on_chart', 'peak_rank', 'date']]\n",
    "\n",
    "artist_song.head()\n",
    "artist_song.loc[artist_song['song'] == 'Thank U, Next']"
   ],
   "metadata": {
    "collapsed": false,
    "pycharm": {
     "name": "#%%\n"
    }
   }
  },
  {
   "cell_type": "markdown",
   "source": [
    "Exporting DataFrame as a json to get lyrics with the genius framework"
   ],
   "metadata": {
    "collapsed": false
   }
  },
  {
   "cell_type": "code",
   "execution_count": 102,
   "outputs": [
    {
     "name": "stdout",
     "output_type": "stream",
     "text": [
      "0       2019-03-16\n",
      "1       2019-03-16\n",
      "2       2019-03-16\n",
      "3       2019-01-05\n",
      "4       2019-01-05\n",
      "           ...    \n",
      "1317    2019-03-16\n",
      "1318    2019-09-28\n",
      "1319    2019-09-14\n",
      "1320    2019-10-12\n",
      "1321    2020-04-25\n",
      "Name: date, Length: 1322, dtype: object\n"
     ]
    },
    {
     "data": {
      "text/plain": "    id         artist   first_artist           song  weeks_on_chart  \\\n91   0  Ariana Grande  Ariana Grande  Thank U, Next              28   \n\n    peak_rank        date  \n91          1  2019-01-05  ",
      "text/html": "<div>\n<style scoped>\n    .dataframe tbody tr th:only-of-type {\n        vertical-align: middle;\n    }\n\n    .dataframe tbody tr th {\n        vertical-align: top;\n    }\n\n    .dataframe thead th {\n        text-align: right;\n    }\n</style>\n<table border=\"1\" class=\"dataframe\">\n  <thead>\n    <tr style=\"text-align: right;\">\n      <th></th>\n      <th>id</th>\n      <th>artist</th>\n      <th>first_artist</th>\n      <th>song</th>\n      <th>weeks_on_chart</th>\n      <th>peak_rank</th>\n      <th>date</th>\n    </tr>\n  </thead>\n  <tbody>\n    <tr>\n      <th>91</th>\n      <td>0</td>\n      <td>Ariana Grande</td>\n      <td>Ariana Grande</td>\n      <td>Thank U, Next</td>\n      <td>28</td>\n      <td>1</td>\n      <td>2019-01-05</td>\n    </tr>\n  </tbody>\n</table>\n</div>"
     },
     "execution_count": 102,
     "metadata": {},
     "output_type": "execute_result"
    }
   ],
   "source": [
    "artist_song.to_json('../../data/artist_song/artist_song.json')\n",
    "print(artist_song['date'])\n",
    "\n",
    "artist_song.loc[artist_song['song'] == 'Thank U, Next']"
   ],
   "metadata": {
    "collapsed": false,
    "pycharm": {
     "name": "#%%\n"
    }
   }
  },
  {
   "cell_type": "code",
   "execution_count": 116,
   "outputs": [
    {
     "data": {
      "text/plain": "   id         artist   first_artist           song  weeks_on_chart  peak_rank  \\\n0   0  Ariana Grande  Ariana Grande  Thank U, Next              28          1   \n\n         date  \n0  2019-01-05  ",
      "text/html": "<div>\n<style scoped>\n    .dataframe tbody tr th:only-of-type {\n        vertical-align: middle;\n    }\n\n    .dataframe tbody tr th {\n        vertical-align: top;\n    }\n\n    .dataframe thead th {\n        text-align: right;\n    }\n</style>\n<table border=\"1\" class=\"dataframe\">\n  <thead>\n    <tr style=\"text-align: right;\">\n      <th></th>\n      <th>id</th>\n      <th>artist</th>\n      <th>first_artist</th>\n      <th>song</th>\n      <th>weeks_on_chart</th>\n      <th>peak_rank</th>\n      <th>date</th>\n    </tr>\n  </thead>\n  <tbody>\n    <tr>\n      <th>0</th>\n      <td>0</td>\n      <td>Ariana Grande</td>\n      <td>Ariana Grande</td>\n      <td>Thank U, Next</td>\n      <td>28</td>\n      <td>1</td>\n      <td>2019-01-05</td>\n    </tr>\n  </tbody>\n</table>\n</div>"
     },
     "execution_count": 116,
     "metadata": {},
     "output_type": "execute_result"
    }
   ],
   "source": [
    "lyrics_updated = pd.read_csv('../../data/lyrics/lyrics_invalid_updated.csv', encoding='utf-8', index_col=0)\n",
    "lyrics = pd.read_csv('../../data/lyrics/bb-t100-lyrics.csv', encoding='utf-8', index_col=0)\n",
    "\n",
    "artist_song = artist_song.sort_values(by='id', ascending=True, ignore_index=True)\n",
    "artist_song.tail()\n",
    "artist_song.loc[artist_song['song'] == 'Thank U, Next']"
   ],
   "metadata": {
    "collapsed": false,
    "pycharm": {
     "name": "#%%\n"
    }
   }
  },
  {
   "cell_type": "code",
   "execution_count": 117,
   "outputs": [],
   "source": [
    "lyrics['first_appearance'] = artist_song['date']"
   ],
   "metadata": {
    "collapsed": false,
    "pycharm": {
     "name": "#%%\n"
    }
   }
  },
  {
   "cell_type": "code",
   "execution_count": 118,
   "outputs": [
    {
     "data": {
      "text/plain": "   billboard_id  lyrics_id         artist   first_artist           song  \\\n0             0          0  Ariana Grande  Ariana Grande  Thank U, Next   \n\n   weeks_on_chart  peak_rank  \\\n0            28.0        1.0   \n\n                                              lyrics  \\\n0  Thought I'd end up with Sean\\nBut he wasn't a ...   \n\n                                                 url  length  word_count  \\\n0  https://genius.com/Ariana-grande-thank-u-next-...    2409         460   \n\n  language  language_score first_appearance  \n0       en        0.999997       2019-01-05  ",
      "text/html": "<div>\n<style scoped>\n    .dataframe tbody tr th:only-of-type {\n        vertical-align: middle;\n    }\n\n    .dataframe tbody tr th {\n        vertical-align: top;\n    }\n\n    .dataframe thead th {\n        text-align: right;\n    }\n</style>\n<table border=\"1\" class=\"dataframe\">\n  <thead>\n    <tr style=\"text-align: right;\">\n      <th></th>\n      <th>billboard_id</th>\n      <th>lyrics_id</th>\n      <th>artist</th>\n      <th>first_artist</th>\n      <th>song</th>\n      <th>weeks_on_chart</th>\n      <th>peak_rank</th>\n      <th>lyrics</th>\n      <th>url</th>\n      <th>length</th>\n      <th>word_count</th>\n      <th>language</th>\n      <th>language_score</th>\n      <th>first_appearance</th>\n    </tr>\n  </thead>\n  <tbody>\n    <tr>\n      <th>0</th>\n      <td>0</td>\n      <td>0</td>\n      <td>Ariana Grande</td>\n      <td>Ariana Grande</td>\n      <td>Thank U, Next</td>\n      <td>28.0</td>\n      <td>1.0</td>\n      <td>Thought I'd end up with Sean\\nBut he wasn't a ...</td>\n      <td>https://genius.com/Ariana-grande-thank-u-next-...</td>\n      <td>2409</td>\n      <td>460</td>\n      <td>en</td>\n      <td>0.999997</td>\n      <td>2019-01-05</td>\n    </tr>\n  </tbody>\n</table>\n</div>"
     },
     "execution_count": 118,
     "metadata": {},
     "output_type": "execute_result"
    }
   ],
   "source": [
    "lyrics.loc[lyrics['song'] == 'Thank U, Next']"
   ],
   "metadata": {
    "collapsed": false,
    "pycharm": {
     "name": "#%%\n"
    }
   }
  },
  {
   "cell_type": "code",
   "execution_count": 119,
   "outputs": [
    {
     "data": {
      "text/plain": "   id         artist   first_artist           song  weeks_on_chart  peak_rank  \\\n0   0  Ariana Grande  Ariana Grande  Thank U, Next              28          1   \n\n         date  \n0  2019-01-05  ",
      "text/html": "<div>\n<style scoped>\n    .dataframe tbody tr th:only-of-type {\n        vertical-align: middle;\n    }\n\n    .dataframe tbody tr th {\n        vertical-align: top;\n    }\n\n    .dataframe thead th {\n        text-align: right;\n    }\n</style>\n<table border=\"1\" class=\"dataframe\">\n  <thead>\n    <tr style=\"text-align: right;\">\n      <th></th>\n      <th>id</th>\n      <th>artist</th>\n      <th>first_artist</th>\n      <th>song</th>\n      <th>weeks_on_chart</th>\n      <th>peak_rank</th>\n      <th>date</th>\n    </tr>\n  </thead>\n  <tbody>\n    <tr>\n      <th>0</th>\n      <td>0</td>\n      <td>Ariana Grande</td>\n      <td>Ariana Grande</td>\n      <td>Thank U, Next</td>\n      <td>28</td>\n      <td>1</td>\n      <td>2019-01-05</td>\n    </tr>\n  </tbody>\n</table>\n</div>"
     },
     "execution_count": 119,
     "metadata": {},
     "output_type": "execute_result"
    }
   ],
   "source": [
    "artist_song.loc[artist_song['song'] == 'Thank U, Next']"
   ],
   "metadata": {
    "collapsed": false,
    "pycharm": {
     "name": "#%%\n"
    }
   }
  },
  {
   "cell_type": "code",
   "execution_count": 120,
   "outputs": [],
   "source": [
    "lyrics.to_csv('../../data/lyrics/bb-t100-lyrics.csv')\n"
   ],
   "metadata": {
    "collapsed": false,
    "pycharm": {
     "name": "#%%\n"
    }
   }
  }
 ],
 "metadata": {
  "kernelspec": {
   "display_name": "Python 3",
   "language": "python",
   "name": "python3"
  },
  "language_info": {
   "codemirror_mode": {
    "name": "ipython",
    "version": 2
   },
   "file_extension": ".py",
   "mimetype": "text/x-python",
   "name": "python",
   "nbconvert_exporter": "python",
   "pygments_lexer": "ipython2",
   "version": "2.7.6"
  }
 },
 "nbformat": 4,
 "nbformat_minor": 0
}