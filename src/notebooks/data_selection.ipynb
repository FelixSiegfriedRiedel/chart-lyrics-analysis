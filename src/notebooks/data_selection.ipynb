{
 "cells": [
  {
   "cell_type": "code",
   "execution_count": 1,
   "metadata": {
    "collapsed": true
   },
   "outputs": [
    {
     "name": "stdout",
     "output_type": "stream",
     "text": [
      "../../data/lyrics/BB-L-EN.csv\n",
      "../../data/lyrics/BB-L.csv\n",
      "../../data/lyrics/BB-L_invalid.json\n",
      "../../data/lyrics/BB-L_invalid_updated.csv\n",
      "../../data/lyrics/BB-L_raw.csv\n",
      "../../data/lyrics/covid_lyrics_bb.csv\n",
      "../../data/lyrics/N-BB-L-EN.csv\n",
      "../../data/lyrics/N-BB-L.csv\n",
      "../../data/lyrics/N-BB-L_invalid.json\n",
      "../../data/lyrics/N-BB-L_invalid_updated.csv\n",
      "../../data/lyrics/N-BB-L_raw.csv\n",
      "../../data/lyrics/backups/artist_song_lyrics_bak.csv\n",
      "../../data/lyrics/backups/bb-t100-lyrics.csv\n",
      "../../data/lyrics/backups/bb-t100-lyrics_new.csv\n",
      "../../data/lyrics/backups/bb-t100-lyrics_old.csv\n",
      "../../data/lyrics/backups/bb_t100_lyrics_en.csv\n",
      "../../data/lyrics/backups/bb_t100_lyrics_en_v1.csv\n",
      "../../data/lyrics/backups/bb_t100_lyrics_en_v2.csv\n",
      "../../data/lyrics/backups/bb_t100_lyrics_en_v3.csv\n",
      "../../data/lyrics/backups/corona-lyrics.csv\n",
      "../../data/lyrics/backups/lyrics_invalid_updated.csv\n",
      "--------------------------------------------------\n",
      "../../data/billboard/BB-T100-EN.csv\n",
      "../../data/billboard/BB-T100.csv\n",
      "../../data/billboard/billboard_top_100_2020.csv\n",
      "../../data/billboard/N-BB-T100-EN.csv\n",
      "../../data/billboard/backups/bb-t100_backup.csv\n"
     ]
    }
   ],
   "source": [
    "import pandas as pd  # data processing, CSV file I/O (e.g. pd.read_csv)\n",
    "import os\n",
    "\n",
    "for dirname, _, filenames in os.walk('../../data/lyrics'):\n",
    "    for filename in filenames:\n",
    "        print(os.path.join(dirname, filename).replace(\"\\\\\", \"/\"))\n",
    "\n",
    "print(50 * '-')\n",
    "\n",
    "for dirname, _, filenames in os.walk('../../data/billboard'):\n",
    "    for filename in filenames:\n",
    "        print(os.path.join(dirname, filename).replace(\"\\\\\", \"/\"))\n"
   ]
  },
  {
   "cell_type": "markdown",
   "source": [
    "### Import Lyrics"
   ],
   "metadata": {
    "collapsed": false
   }
  },
  {
   "cell_type": "code",
   "execution_count": 2,
   "metadata": {
    "pycharm": {
     "name": "#%%\n"
    }
   },
   "outputs": [
    {
     "data": {
      "text/plain": "   billboard_id  lyrics_id                  artist   first_artist  \\\n0             0          0           Ariana Grande  Ariana Grande   \n1             1          1                  Halsey         Halsey   \n2             2          2            Mariah Carey   Mariah Carey   \n3             3          3            Travis Scott   Travis Scott   \n4             4          4  Post Malone & Swae Lee    Post Malone   \n\n                            song  weeks_on_chart  peak_rank  genius_id  \\\n0                  Thank U, Next            28.0        1.0  4063065.0   \n1                     Without Me            52.0        1.0  3977187.0   \n2  All I Want For Christmas I...            43.0        1.0   204233.0   \n3                     Sicko Mode            52.0        1.0  3876994.0   \n4  Sunflower (Spider-Man: Int...            53.0        1.0  3993850.0   \n\n                          lyrics                            url  length  \\\n0  Thought I'd end up with Se...  https://genius.com/Ariana-...    2411   \n1  Found you when your heart ...  https://genius.com/Halsey-...    2096   \n2  I don't want a lot for Chr...  https://genius.com/Mariah-...    1919   \n3  Astro, yeah\\nSun is down, ...  https://genius.com/Travis-...    3946   \n4  1. Lil Nas X - INDUSTRY BA...  https://genius.com/Spotify...    2623   \n\n   word_count language  language_score first_appearance  \\\n0         460       en        0.999997       2019-01-05   \n1         435       en        0.999995       2019-01-05   \n2         388       en        0.999997       2019-01-05   \n3         771       en        0.999998       2019-01-05   \n4         545       en        0.999998       2019-01-05   \n\n    genius_primary_artist             genius_description  \\\n0  Ariana Grande, 0 songs  On the lead single and tit...   \n1         Halsey, 0 songs  “Without Me” is the first ...   \n2   Mariah Carey, 0 songs  “All I Want For Christmas ...   \n3   Travis Scott, 0 songs  “SICKO MODE” refers to Tra...   \n4  Post Malone & Swae Lee  “Sunflower” marks the seco...   \n\n              genius_annotations                genius_comments release_date  \n0  [('One taught me love\\n On...  ['The Mac shoutout has me ...   2018-11-03  \n1  [('Gave love ’bout a hundr...  ['The queen is ready to sn...   2018-10-04  \n2  [('I don’t need to hang my...  ['i really like this song'...   1994-11-01  \n3  [('She’s in love with who ...  ['HAD ME OUT LIKE A LIGHT ...   2018-08-03  \n4  [('Then you’re left in the...  ['Me enjoying “Sunflower” ...   2018-10-18  ",
      "text/html": "<div>\n<style scoped>\n    .dataframe tbody tr th:only-of-type {\n        vertical-align: middle;\n    }\n\n    .dataframe tbody tr th {\n        vertical-align: top;\n    }\n\n    .dataframe thead th {\n        text-align: right;\n    }\n</style>\n<table border=\"1\" class=\"dataframe\">\n  <thead>\n    <tr style=\"text-align: right;\">\n      <th></th>\n      <th>billboard_id</th>\n      <th>lyrics_id</th>\n      <th>artist</th>\n      <th>first_artist</th>\n      <th>song</th>\n      <th>weeks_on_chart</th>\n      <th>peak_rank</th>\n      <th>genius_id</th>\n      <th>lyrics</th>\n      <th>url</th>\n      <th>length</th>\n      <th>word_count</th>\n      <th>language</th>\n      <th>language_score</th>\n      <th>first_appearance</th>\n      <th>genius_primary_artist</th>\n      <th>genius_description</th>\n      <th>genius_annotations</th>\n      <th>genius_comments</th>\n      <th>release_date</th>\n    </tr>\n  </thead>\n  <tbody>\n    <tr>\n      <th>0</th>\n      <td>0</td>\n      <td>0</td>\n      <td>Ariana Grande</td>\n      <td>Ariana Grande</td>\n      <td>Thank U, Next</td>\n      <td>28.0</td>\n      <td>1.0</td>\n      <td>4063065.0</td>\n      <td>Thought I'd end up with Se...</td>\n      <td>https://genius.com/Ariana-...</td>\n      <td>2411</td>\n      <td>460</td>\n      <td>en</td>\n      <td>0.999997</td>\n      <td>2019-01-05</td>\n      <td>Ariana Grande, 0 songs</td>\n      <td>On the lead single and tit...</td>\n      <td>[('One taught me love\\n On...</td>\n      <td>['The Mac shoutout has me ...</td>\n      <td>2018-11-03</td>\n    </tr>\n    <tr>\n      <th>1</th>\n      <td>1</td>\n      <td>1</td>\n      <td>Halsey</td>\n      <td>Halsey</td>\n      <td>Without Me</td>\n      <td>52.0</td>\n      <td>1.0</td>\n      <td>3977187.0</td>\n      <td>Found you when your heart ...</td>\n      <td>https://genius.com/Halsey-...</td>\n      <td>2096</td>\n      <td>435</td>\n      <td>en</td>\n      <td>0.999995</td>\n      <td>2019-01-05</td>\n      <td>Halsey, 0 songs</td>\n      <td>“Without Me” is the first ...</td>\n      <td>[('Gave love ’bout a hundr...</td>\n      <td>['The queen is ready to sn...</td>\n      <td>2018-10-04</td>\n    </tr>\n    <tr>\n      <th>2</th>\n      <td>2</td>\n      <td>2</td>\n      <td>Mariah Carey</td>\n      <td>Mariah Carey</td>\n      <td>All I Want For Christmas I...</td>\n      <td>43.0</td>\n      <td>1.0</td>\n      <td>204233.0</td>\n      <td>I don't want a lot for Chr...</td>\n      <td>https://genius.com/Mariah-...</td>\n      <td>1919</td>\n      <td>388</td>\n      <td>en</td>\n      <td>0.999997</td>\n      <td>2019-01-05</td>\n      <td>Mariah Carey, 0 songs</td>\n      <td>“All I Want For Christmas ...</td>\n      <td>[('I don’t need to hang my...</td>\n      <td>['i really like this song'...</td>\n      <td>1994-11-01</td>\n    </tr>\n    <tr>\n      <th>3</th>\n      <td>3</td>\n      <td>3</td>\n      <td>Travis Scott</td>\n      <td>Travis Scott</td>\n      <td>Sicko Mode</td>\n      <td>52.0</td>\n      <td>1.0</td>\n      <td>3876994.0</td>\n      <td>Astro, yeah\\nSun is down, ...</td>\n      <td>https://genius.com/Travis-...</td>\n      <td>3946</td>\n      <td>771</td>\n      <td>en</td>\n      <td>0.999998</td>\n      <td>2019-01-05</td>\n      <td>Travis Scott, 0 songs</td>\n      <td>“SICKO MODE” refers to Tra...</td>\n      <td>[('She’s in love with who ...</td>\n      <td>['HAD ME OUT LIKE A LIGHT ...</td>\n      <td>2018-08-03</td>\n    </tr>\n    <tr>\n      <th>4</th>\n      <td>4</td>\n      <td>4</td>\n      <td>Post Malone &amp; Swae Lee</td>\n      <td>Post Malone</td>\n      <td>Sunflower (Spider-Man: Int...</td>\n      <td>53.0</td>\n      <td>1.0</td>\n      <td>3993850.0</td>\n      <td>1. Lil Nas X - INDUSTRY BA...</td>\n      <td>https://genius.com/Spotify...</td>\n      <td>2623</td>\n      <td>545</td>\n      <td>en</td>\n      <td>0.999998</td>\n      <td>2019-01-05</td>\n      <td>Post Malone &amp; Swae Lee</td>\n      <td>“Sunflower” marks the seco...</td>\n      <td>[('Then you’re left in the...</td>\n      <td>['Me enjoying “Sunflower” ...</td>\n      <td>2018-10-18</td>\n    </tr>\n  </tbody>\n</table>\n</div>"
     },
     "execution_count": 2,
     "metadata": {},
     "output_type": "execute_result"
    }
   ],
   "source": [
    "pd.set_option('display.max_rows', 10)\n",
    "pd.set_option('display.max_colwidth', 30)\n",
    "bb_l = pd.read_csv('../../data/lyrics/N-BB-L.csv', index_col=0)\n",
    "bb_l.head()"
   ]
  },
  {
   "cell_type": "markdown",
   "source": [
    "### Import Billboard Chart Data"
   ],
   "metadata": {
    "collapsed": false
   }
  },
  {
   "cell_type": "code",
   "execution_count": 3,
   "outputs": [
    {
     "data": {
      "text/plain": "   billboard_id                           song                  artist  \\\n0             0                  Thank U, Next           Ariana Grande   \n1             1                     Without Me                  Halsey   \n2             2  All I Want For Christmas I...            Mariah Carey   \n3             3                     Sicko Mode            Travis Scott   \n4             4  Sunflower (Spider-Man: Int...  Post Malone & Swae Lee   \n\n   peak_rank  rank_last_week  weeks_on_chart  rank        date  \n0          1               1               8     1  2019-01-05  \n1          2               2              12     2  2019-01-05  \n2          3               7              30     3  2019-01-05  \n3          1               3              21     4  2019-01-05  \n4          4               4              10     5  2019-01-05  ",
      "text/html": "<div>\n<style scoped>\n    .dataframe tbody tr th:only-of-type {\n        vertical-align: middle;\n    }\n\n    .dataframe tbody tr th {\n        vertical-align: top;\n    }\n\n    .dataframe thead th {\n        text-align: right;\n    }\n</style>\n<table border=\"1\" class=\"dataframe\">\n  <thead>\n    <tr style=\"text-align: right;\">\n      <th></th>\n      <th>billboard_id</th>\n      <th>song</th>\n      <th>artist</th>\n      <th>peak_rank</th>\n      <th>rank_last_week</th>\n      <th>weeks_on_chart</th>\n      <th>rank</th>\n      <th>date</th>\n    </tr>\n  </thead>\n  <tbody>\n    <tr>\n      <th>0</th>\n      <td>0</td>\n      <td>Thank U, Next</td>\n      <td>Ariana Grande</td>\n      <td>1</td>\n      <td>1</td>\n      <td>8</td>\n      <td>1</td>\n      <td>2019-01-05</td>\n    </tr>\n    <tr>\n      <th>1</th>\n      <td>1</td>\n      <td>Without Me</td>\n      <td>Halsey</td>\n      <td>2</td>\n      <td>2</td>\n      <td>12</td>\n      <td>2</td>\n      <td>2019-01-05</td>\n    </tr>\n    <tr>\n      <th>2</th>\n      <td>2</td>\n      <td>All I Want For Christmas I...</td>\n      <td>Mariah Carey</td>\n      <td>3</td>\n      <td>7</td>\n      <td>30</td>\n      <td>3</td>\n      <td>2019-01-05</td>\n    </tr>\n    <tr>\n      <th>3</th>\n      <td>3</td>\n      <td>Sicko Mode</td>\n      <td>Travis Scott</td>\n      <td>1</td>\n      <td>3</td>\n      <td>21</td>\n      <td>4</td>\n      <td>2019-01-05</td>\n    </tr>\n    <tr>\n      <th>4</th>\n      <td>4</td>\n      <td>Sunflower (Spider-Man: Int...</td>\n      <td>Post Malone &amp; Swae Lee</td>\n      <td>4</td>\n      <td>4</td>\n      <td>10</td>\n      <td>5</td>\n      <td>2019-01-05</td>\n    </tr>\n  </tbody>\n</table>\n</div>"
     },
     "execution_count": 3,
     "metadata": {},
     "output_type": "execute_result"
    }
   ],
   "source": [
    "bb_t100 = pd.read_csv('../../data/billboard/BB-T100.csv', index_col=0)\n",
    "bb_t100.rename(columns={'id': 'billboard_id'}, inplace=True)\n",
    "bb_t100.head()"
   ],
   "metadata": {
    "collapsed": false,
    "pycharm": {
     "name": "#%%\n"
    }
   }
  },
  {
   "cell_type": "markdown",
   "source": [
    "### Add Language and LyricsID to Billboard Data"
   ],
   "metadata": {
    "collapsed": false
   }
  },
  {
   "cell_type": "code",
   "execution_count": 4,
   "outputs": [
    {
     "data": {
      "text/plain": "['first_appearance',\n 'first_artist',\n 'genius_annotations',\n 'genius_comments',\n 'genius_description',\n 'genius_id',\n 'genius_primary_artist',\n 'language',\n 'language_score',\n 'length',\n 'lyrics',\n 'lyrics_id',\n 'release_date',\n 'url',\n 'word_count',\n 'billboard_id']"
     },
     "execution_count": 4,
     "metadata": {},
     "output_type": "execute_result"
    }
   ],
   "source": [
    "merge_cols = bb_l.columns.difference(bb_t100.columns)\n",
    "merge_cols = merge_cols.tolist()\n",
    "merge_cols.append('billboard_id')\n",
    "merge_cols"
   ],
   "metadata": {
    "collapsed": false,
    "pycharm": {
     "name": "#%%\n"
    }
   }
  },
  {
   "cell_type": "code",
   "execution_count": 5,
   "metadata": {
    "pycharm": {
     "name": "#%%\n"
    }
   },
   "outputs": [
    {
     "data": {
      "text/plain": "   billboard_id  lyrics_id                           song  \\\n0             0          0                  Thank U, Next   \n1             1          1                     Without Me   \n2             2          2  All I Want For Christmas I...   \n3             3          3                     Sicko Mode   \n4             4          4  Sunflower (Spider-Man: Int...   \n\n                   artist  peak_rank  rank_last_week  weeks_on_chart  rank  \\\n0           Ariana Grande          1               1               8     1   \n1                  Halsey          2               2              12     2   \n2            Mariah Carey          3               7              30     3   \n3            Travis Scott          1               3              21     4   \n4  Post Malone & Swae Lee          4               4              10     5   \n\n        date first_appearance language  language_score  \n0 2019-01-05       2019-01-05       en        0.999997  \n1 2019-01-05       2019-01-05       en        0.999995  \n2 2019-01-05       2019-01-05       en        0.999997  \n3 2019-01-05       2019-01-05       en        0.999998  \n4 2019-01-05       2019-01-05       en        0.999998  ",
      "text/html": "<div>\n<style scoped>\n    .dataframe tbody tr th:only-of-type {\n        vertical-align: middle;\n    }\n\n    .dataframe tbody tr th {\n        vertical-align: top;\n    }\n\n    .dataframe thead th {\n        text-align: right;\n    }\n</style>\n<table border=\"1\" class=\"dataframe\">\n  <thead>\n    <tr style=\"text-align: right;\">\n      <th></th>\n      <th>billboard_id</th>\n      <th>lyrics_id</th>\n      <th>song</th>\n      <th>artist</th>\n      <th>peak_rank</th>\n      <th>rank_last_week</th>\n      <th>weeks_on_chart</th>\n      <th>rank</th>\n      <th>date</th>\n      <th>first_appearance</th>\n      <th>language</th>\n      <th>language_score</th>\n    </tr>\n  </thead>\n  <tbody>\n    <tr>\n      <th>0</th>\n      <td>0</td>\n      <td>0</td>\n      <td>Thank U, Next</td>\n      <td>Ariana Grande</td>\n      <td>1</td>\n      <td>1</td>\n      <td>8</td>\n      <td>1</td>\n      <td>2019-01-05</td>\n      <td>2019-01-05</td>\n      <td>en</td>\n      <td>0.999997</td>\n    </tr>\n    <tr>\n      <th>1</th>\n      <td>1</td>\n      <td>1</td>\n      <td>Without Me</td>\n      <td>Halsey</td>\n      <td>2</td>\n      <td>2</td>\n      <td>12</td>\n      <td>2</td>\n      <td>2019-01-05</td>\n      <td>2019-01-05</td>\n      <td>en</td>\n      <td>0.999995</td>\n    </tr>\n    <tr>\n      <th>2</th>\n      <td>2</td>\n      <td>2</td>\n      <td>All I Want For Christmas I...</td>\n      <td>Mariah Carey</td>\n      <td>3</td>\n      <td>7</td>\n      <td>30</td>\n      <td>3</td>\n      <td>2019-01-05</td>\n      <td>2019-01-05</td>\n      <td>en</td>\n      <td>0.999997</td>\n    </tr>\n    <tr>\n      <th>3</th>\n      <td>3</td>\n      <td>3</td>\n      <td>Sicko Mode</td>\n      <td>Travis Scott</td>\n      <td>1</td>\n      <td>3</td>\n      <td>21</td>\n      <td>4</td>\n      <td>2019-01-05</td>\n      <td>2019-01-05</td>\n      <td>en</td>\n      <td>0.999998</td>\n    </tr>\n    <tr>\n      <th>4</th>\n      <td>4</td>\n      <td>4</td>\n      <td>Sunflower (Spider-Man: Int...</td>\n      <td>Post Malone &amp; Swae Lee</td>\n      <td>4</td>\n      <td>4</td>\n      <td>10</td>\n      <td>5</td>\n      <td>2019-01-05</td>\n      <td>2019-01-05</td>\n      <td>en</td>\n      <td>0.999998</td>\n    </tr>\n  </tbody>\n</table>\n</div>"
     },
     "execution_count": 5,
     "metadata": {},
     "output_type": "execute_result"
    }
   ],
   "source": [
    "merge_cols = ['language', 'language_score', 'lyrics_id', 'billboard_id', 'first_appearance', ]\n",
    "bb_t100 = bb_t100.merge(bb_l[merge_cols], how='left', left_on='billboard_id', right_on='billboard_id', copy=False)\n",
    "bb_t100 = bb_t100.sort_values(by=['artist', 'song', 'lyrics_id']).interpolate(method='pad')\n",
    "bb_t100['lyrics_id'] = pd.to_numeric(bb_t100['lyrics_id'], downcast='integer')\n",
    "bb_t100['date'] = pd.to_datetime(bb_t100['date'], format='%Y-%m-%d')\n",
    "bb_t100.sort_values(by='billboard_id', inplace=True)\n",
    "bb_t100 = bb_t100[['billboard_id',\n",
    "                   'lyrics_id',\n",
    "                   'song',\n",
    "                   'artist',\n",
    "                   'peak_rank',\n",
    "                   'rank_last_week',\n",
    "                   'weeks_on_chart',\n",
    "                   'rank',\n",
    "                   'date',\n",
    "                   'first_appearance',\n",
    "                   'language',\n",
    "                   'language_score']]\n",
    "bb_t100.head()"
   ]
  },
  {
   "cell_type": "markdown",
   "source": [
    "### Filter by Language and Language Score"
   ],
   "metadata": {
    "collapsed": false
   }
  },
  {
   "cell_type": "code",
   "execution_count": 7,
   "outputs": [],
   "source": [
    "bb_t100_en = bb_t100.loc[(bb_t100['language'] == 'en') & (bb_t100['language_score'] >= 0.85)]\n",
    "bb_t100_en.to_csv('../../data/billboard/N-BB-T100-EN.csv', encoding='utf-8')\n",
    "\n",
    "bb_l_en = bb_l.loc[(bb_l['language'] == 'en') & (bb_l['language_score'] >= 0.85)]\n",
    "bb_l_en.to_csv('../../data/lyrics/N-BB-L-EN.csv', encoding='utf-8')"
   ],
   "metadata": {
    "collapsed": false,
    "pycharm": {
     "name": "#%%\n"
    }
   }
  }
 ],
 "metadata": {
  "jupytext": {
   "formats": "ipynb,auto:light"
  },
  "kernelspec": {
   "name": "python3",
   "language": "python",
   "display_name": "Python 3 (ipykernel)"
  },
  "language_info": {
   "codemirror_mode": {
    "name": "ipython",
    "version": 3
   },
   "file_extension": ".py",
   "mimetype": "text/x-python",
   "name": "python",
   "nbconvert_exporter": "python",
   "pygments_lexer": "ipython3",
   "version": "3.8.6"
  }
 },
 "nbformat": 4,
 "nbformat_minor": 1
}