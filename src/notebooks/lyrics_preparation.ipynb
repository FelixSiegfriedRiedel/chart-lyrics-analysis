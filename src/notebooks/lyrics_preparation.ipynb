{
 "cells": [
  {
   "cell_type": "code",
   "execution_count": 35,
   "outputs": [
    {
     "name": "stdout",
     "output_type": "stream",
     "text": [
      "../../data/lyrics/BB-L-EN.csv\n",
      "../../data/lyrics/BB-L.csv\n",
      "../../data/lyrics/BB-L_invalid.json\n",
      "../../data/lyrics/BB-L_invalid_updated.csv\n",
      "../../data/lyrics/BB-L_raw.csv\n",
      "../../data/lyrics/covid_lyrics_bb.csv\n",
      "../../data/lyrics/N-BB-L-EN.csv\n",
      "../../data/lyrics/N-BB-L.csv\n",
      "../../data/lyrics/N-BB-L_invalid.json\n",
      "../../data/lyrics/N-BB-L_invalid_updated.csv\n",
      "../../data/lyrics/N-BB-L_raw.csv\n"
     ]
    }
   ],
   "source": [
    "import pandas as pd # data processing, CSV file I/O (e.g. pd.read_csv)\n",
    "import os\n",
    "for dirname, _, filenames in os.walk('../../data/lyrics'):\n",
    "    for filename in filenames:\n",
    "        print(os.path.join(dirname, filename).replace(\"\\\\\",\"/\"))\n",
    "\n",
    "\n",
    "from src.progress_bar import printProgressBar"
   ],
   "metadata": {
    "collapsed": false,
    "pycharm": {
     "name": "#%%\n"
    }
   }
  },
  {
   "cell_type": "markdown",
   "source": [
    "### Import Raw Lyrics"
   ],
   "metadata": {
    "collapsed": false,
    "pycharm": {
     "name": "#%% md\n"
    }
   }
  },
  {
   "cell_type": "code",
   "execution_count": 36,
   "outputs": [
    {
     "data": {
      "text/plain": "     id                             artist first_artist                song  \\\n0  1093   2 Chainz Featuring Ariana Grande     2 Chainz      Rule The World   \n1  1099  2 Chainz Featuring Kendrick Lamar     2 Chainz  Momma I Hit A Lick   \n2  1074    2 Chainz Featuring Travis Scott     2 Chainz                Whip   \n3    85                          21 Savage    21 Savage                 1.5   \n4    36                          21 Savage    21 Savage               A Lot   \n\n   weeks_on_chart  peak_rank first_appearance  \\\n0               2         94       2019-03-16   \n1               1        100       2019-03-16   \n2               1         75       2019-03-16   \n3               1         86       2019-01-05   \n4              23         12       2019-01-05   \n\n                                                                                                                                                  lyrics  \\\n0  Yeah\\nUh-huh\\n(Hitmaka)\\n2 Chainz\\n\\nTop down on the Dawn like I'm used to it (Yeah)\\nPrayin' he make it home like I'm used to it\\nPrayin' he make...   \n1  I want it, I want it, I want it-it-it-it\\n\\nChilly, chilly, chilly, chilly (Yeah, what?)\\nWake up, Count Chilly (What?)\\nI'm up, Count Chilly (Up)...   \n2  Yeah\\nDo it no hands, yeah, do it, no handstand\\nThey really wanna keep us outside\\n'Cause you know we go way too live\\n\\nWhippin' again, whippin'...   \n3  My earrings cost a half a ticket, I don't hear the same shit y'all niggas hear\\nOn God\\n\\nPockets on Cheez-Its, heavy on the cheddar (Cheddar)\\nRu...   \n4  I love you\\nTurn my headphone down a little bit, yeah\\nFor so many reasons\\nYeah, yeah, yeah, yeah, yeah, yeah (I do), yeah, yeah yeah yeah\\nYeah,...   \n\n                                                     url  genius_id  \\\n0      https://genius.com/2-chainz-rule-the-world-lyrics  4327593.0   \n1  https://genius.com/2-chainz-momma-i-hit-a-lick-lyrics  4346683.0   \n2                https://genius.com/2-chainz-whip-lyrics  4327641.0   \n3                 https://genius.com/21-savage-15-lyrics  4155501.0   \n4              https://genius.com/21-savage-a-lot-lyrics  4155494.0   \n\n  genius_primary_artist  \\\n0     2 Chainz, 0 songs   \n1     2 Chainz, 0 songs   \n2     2 Chainz, 0 songs   \n3    21 Savage, 0 songs   \n4    21 Savage, 0 songs   \n\n                                                                                                                                      genius_description  \\\n0  “Rule the World” sees 2 Chainz rapping about his respective partner. The Ariana Grande-assisted track arrives exactly a month after their “7 rings...   \n1  “Momma I Hit a Lick” is the first direct collaboration between 2 Chainz and Kendrick Lamar. The Pharell-produced track sees the two boasting their...   \n2  In the sixth track off of 2 Chainz’s highly anticipated album Rap or Go to the League, Chainz and longtime collaborator Travis Scott deliver verse...   \n3  “1.5” is a collaboration between Migos member, Offset, and 21 Savage. The two previously worked together on their collab tape, Without Warning, wi...   \n4  On the introspective introduction to his sophomore studio album, 21 Savage raps about having “a lot” of blessings and curses in his life. Savage a...   \n\n                                                                                                                                      genius_annotations  \\\n0  [('That mean don’t call 12 on me, baby (Don’t call 12)', [['2 Chainz is originally from College Park, Georgia. Many Georgia, particularly Atlanta,...   \n1  [('I don’t take pics on a jet, lil nigga\\n This shit regular, G5s all in my backyard', [['It’s common across all professions for celebrities to ta...   \n2  [('Rap or Go to the League blimp, uh', [['To announce the impending arrival of this album, 2 Chainz purchased a one million dollar blimp emblazone...   \n3  [('Too much drip, I’m rainin’, bought a Gucci umbrella (Umbrella)', [['In this line, 21 Savage says he has lots of “drip.” In a literal sense, dri...   \n4  [('[Verse 3: J. Cole]', [['Genius broke down the rhyme schemes within J. Cole’s verse on this track in an episode of the series “Check The Rhyme”:...   \n\n                                                                                                                                         genius_comments  \\\n0  ['Who would have thought that these two artists would be so good together?', 'Ariana & 2 Chainz murdered this song', 'It’s LIT (in my inner Travis...   \n1  ['Damn. He changed his voice 3 or 4 times man.', 'Finally, some new Kenny!', 'this gon be some heat!', 'Kenny came in with that asmr 21 savage ish...   \n2  ['LA FLAME X 2CHAINZ BEEN A DEADLY COMBO SINCE UPPER ECHELON', 'Travis is already the feature king of 2019', 'Wondagurl is something special 🔥', '...   \n3  ['THE WORLD NEEDS “WITHOUT WARNING 2” 🙏🏽', 'if song include 21 and Offset then don’t worry it’s legendary song', 'Goddamn this goes hard!!!', 'Thi...   \n4  ['J COLE CAME IN LIKE', 'J. COLE SNAPPED ON THIS TRACK WOAH 🔥', 'The collab I never thought I needed in my life :D', '21 Savage and J. Cole, i tho...   \n\n  release_date url_first_word artist_first_word  \n0   2019-03-01              2                 2  \n1   2019-03-01              2                 2  \n2   2019-03-01              2                 2  \n3   2018-12-21             21                21  \n4   2018-12-21             21                21  ",
      "text/html": "<div>\n<style scoped>\n    .dataframe tbody tr th:only-of-type {\n        vertical-align: middle;\n    }\n\n    .dataframe tbody tr th {\n        vertical-align: top;\n    }\n\n    .dataframe thead th {\n        text-align: right;\n    }\n</style>\n<table border=\"1\" class=\"dataframe\">\n  <thead>\n    <tr style=\"text-align: right;\">\n      <th></th>\n      <th>id</th>\n      <th>artist</th>\n      <th>first_artist</th>\n      <th>song</th>\n      <th>weeks_on_chart</th>\n      <th>peak_rank</th>\n      <th>first_appearance</th>\n      <th>lyrics</th>\n      <th>url</th>\n      <th>genius_id</th>\n      <th>genius_primary_artist</th>\n      <th>genius_description</th>\n      <th>genius_annotations</th>\n      <th>genius_comments</th>\n      <th>release_date</th>\n      <th>url_first_word</th>\n      <th>artist_first_word</th>\n    </tr>\n  </thead>\n  <tbody>\n    <tr>\n      <th>0</th>\n      <td>1093</td>\n      <td>2 Chainz Featuring Ariana Grande</td>\n      <td>2 Chainz</td>\n      <td>Rule The World</td>\n      <td>2</td>\n      <td>94</td>\n      <td>2019-03-16</td>\n      <td>Yeah\\nUh-huh\\n(Hitmaka)\\n2 Chainz\\n\\nTop down on the Dawn like I'm used to it (Yeah)\\nPrayin' he make it home like I'm used to it\\nPrayin' he make...</td>\n      <td>https://genius.com/2-chainz-rule-the-world-lyrics</td>\n      <td>4327593.0</td>\n      <td>2 Chainz, 0 songs</td>\n      <td>“Rule the World” sees 2 Chainz rapping about his respective partner. The Ariana Grande-assisted track arrives exactly a month after their “7 rings...</td>\n      <td>[('That mean don’t call 12 on me, baby (Don’t call 12)', [['2 Chainz is originally from College Park, Georgia. Many Georgia, particularly Atlanta,...</td>\n      <td>['Who would have thought that these two artists would be so good together?', 'Ariana &amp; 2 Chainz murdered this song', 'It’s LIT (in my inner Travis...</td>\n      <td>2019-03-01</td>\n      <td>2</td>\n      <td>2</td>\n    </tr>\n    <tr>\n      <th>1</th>\n      <td>1099</td>\n      <td>2 Chainz Featuring Kendrick Lamar</td>\n      <td>2 Chainz</td>\n      <td>Momma I Hit A Lick</td>\n      <td>1</td>\n      <td>100</td>\n      <td>2019-03-16</td>\n      <td>I want it, I want it, I want it-it-it-it\\n\\nChilly, chilly, chilly, chilly (Yeah, what?)\\nWake up, Count Chilly (What?)\\nI'm up, Count Chilly (Up)...</td>\n      <td>https://genius.com/2-chainz-momma-i-hit-a-lick-lyrics</td>\n      <td>4346683.0</td>\n      <td>2 Chainz, 0 songs</td>\n      <td>“Momma I Hit a Lick” is the first direct collaboration between 2 Chainz and Kendrick Lamar. The Pharell-produced track sees the two boasting their...</td>\n      <td>[('I don’t take pics on a jet, lil nigga\\n This shit regular, G5s all in my backyard', [['It’s common across all professions for celebrities to ta...</td>\n      <td>['Damn. He changed his voice 3 or 4 times man.', 'Finally, some new Kenny!', 'this gon be some heat!', 'Kenny came in with that asmr 21 savage ish...</td>\n      <td>2019-03-01</td>\n      <td>2</td>\n      <td>2</td>\n    </tr>\n    <tr>\n      <th>2</th>\n      <td>1074</td>\n      <td>2 Chainz Featuring Travis Scott</td>\n      <td>2 Chainz</td>\n      <td>Whip</td>\n      <td>1</td>\n      <td>75</td>\n      <td>2019-03-16</td>\n      <td>Yeah\\nDo it no hands, yeah, do it, no handstand\\nThey really wanna keep us outside\\n'Cause you know we go way too live\\n\\nWhippin' again, whippin'...</td>\n      <td>https://genius.com/2-chainz-whip-lyrics</td>\n      <td>4327641.0</td>\n      <td>2 Chainz, 0 songs</td>\n      <td>In the sixth track off of 2 Chainz’s highly anticipated album Rap or Go to the League, Chainz and longtime collaborator Travis Scott deliver verse...</td>\n      <td>[('Rap or Go to the League blimp, uh', [['To announce the impending arrival of this album, 2 Chainz purchased a one million dollar blimp emblazone...</td>\n      <td>['LA FLAME X 2CHAINZ BEEN A DEADLY COMBO SINCE UPPER ECHELON', 'Travis is already the feature king of 2019', 'Wondagurl is something special 🔥', '...</td>\n      <td>2019-03-01</td>\n      <td>2</td>\n      <td>2</td>\n    </tr>\n    <tr>\n      <th>3</th>\n      <td>85</td>\n      <td>21 Savage</td>\n      <td>21 Savage</td>\n      <td>1.5</td>\n      <td>1</td>\n      <td>86</td>\n      <td>2019-01-05</td>\n      <td>My earrings cost a half a ticket, I don't hear the same shit y'all niggas hear\\nOn God\\n\\nPockets on Cheez-Its, heavy on the cheddar (Cheddar)\\nRu...</td>\n      <td>https://genius.com/21-savage-15-lyrics</td>\n      <td>4155501.0</td>\n      <td>21 Savage, 0 songs</td>\n      <td>“1.5” is a collaboration between Migos member, Offset, and 21 Savage. The two previously worked together on their collab tape, Without Warning, wi...</td>\n      <td>[('Too much drip, I’m rainin’, bought a Gucci umbrella (Umbrella)', [['In this line, 21 Savage says he has lots of “drip.” In a literal sense, dri...</td>\n      <td>['THE WORLD NEEDS “WITHOUT WARNING 2” 🙏🏽', 'if song include 21 and Offset then don’t worry it’s legendary song', 'Goddamn this goes hard!!!', 'Thi...</td>\n      <td>2018-12-21</td>\n      <td>21</td>\n      <td>21</td>\n    </tr>\n    <tr>\n      <th>4</th>\n      <td>36</td>\n      <td>21 Savage</td>\n      <td>21 Savage</td>\n      <td>A Lot</td>\n      <td>23</td>\n      <td>12</td>\n      <td>2019-01-05</td>\n      <td>I love you\\nTurn my headphone down a little bit, yeah\\nFor so many reasons\\nYeah, yeah, yeah, yeah, yeah, yeah (I do), yeah, yeah yeah yeah\\nYeah,...</td>\n      <td>https://genius.com/21-savage-a-lot-lyrics</td>\n      <td>4155494.0</td>\n      <td>21 Savage, 0 songs</td>\n      <td>On the introspective introduction to his sophomore studio album, 21 Savage raps about having “a lot” of blessings and curses in his life. Savage a...</td>\n      <td>[('[Verse 3: J. Cole]', [['Genius broke down the rhyme schemes within J. Cole’s verse on this track in an episode of the series “Check The Rhyme”:...</td>\n      <td>['J COLE CAME IN LIKE', 'J. COLE SNAPPED ON THIS TRACK WOAH 🔥', 'The collab I never thought I needed in my life :D', '21 Savage and J. Cole, i tho...</td>\n      <td>2018-12-21</td>\n      <td>21</td>\n      <td>21</td>\n    </tr>\n  </tbody>\n</table>\n</div>"
     },
     "execution_count": 36,
     "metadata": {},
     "output_type": "execute_result"
    }
   ],
   "source": [
    "bb_l = pd.read_csv('../../data/lyrics/N-BB-L_raw.csv', encoding='utf-8', index_col=0)\n",
    "bb_l.head()\n"
   ],
   "metadata": {
    "collapsed": false,
    "pycharm": {
     "name": "#%%\n"
    }
   }
  },
  {
   "cell_type": "markdown",
   "source": [
    "### Import Updated Lyrics"
   ],
   "metadata": {
    "collapsed": false
   }
  },
  {
   "cell_type": "code",
   "execution_count": 37,
   "outputs": [
    {
     "data": {
      "text/plain": "        id                                        artist  \\\n1316    20                 benny blanco, Halsey & Khalid   \n1317  1092  benny blanco, Tainy, Selena Gomez & J Balvin   \n1318  3890                                     blackbear   \n1319  3693                            for KING & COUNTRY   \n1321  6822                             twenty one pilots   \n\n                           first_artist                song  weeks_on_chart  \\\n1316               benny blanco, Halsey            Eastside              52   \n1317  benny blanco, Tainy, Selena Gomez  I Can't Get Enough               5   \n1318                          blackbear     Hot Girl Bummer              42   \n1319                           for KING      God Only Knows               1   \n1321                  twenty one pilots    Level Of Concern              11   \n\n      peak_rank first_appearance  \\\n1316          9       2019-01-05   \n1317         66       2019-03-16   \n1318         11       2019-09-28   \n1319         94       2019-09-14   \n1321         23       2020-04-25   \n\n                                                                                                                                                     lyrics  \\\n1316  Uh\\nYeah, yeah\\n\\nWhen I was young, I fell in love\\nWe used to hold hands, man, that was enough (Yeah)\\nThen we grew up, started to touch\\nUsed to...   \n1317  Crazy\\nI like that, you like that, so let's be crazy\\nThe contact, impact, I want that daily\\nOur breath getting deeper, deeper, lately\\nI like th...   \n1318  Fuck you, and you, and you\\nI hate your friends and they hate me too\\nI'm through, I'm through, I'm through\\nThis that hot girl bummer anthem\\nTur...   \n1319  Wide awake while the world is sound asleepin'\\nToo afraid of what might show up while you're dreamin'\\nNobody, nobody, nobody sees you\\nNobody, no...   \n1321  Need you, tell me\\nNeed you, tell me\\n\\nPanic on the brain, world has gone insane\\nThings are starting to get heavy, mm\\nI can't help but think I ...   \n\n                                                                                           url  \\\n1316                         https://genius.com/Benny-blanco-halsey-and-khalid-eastside-lyrics   \n1317  https://genius.com/Benny-blanco-tainy-selena-gomez-and-j-balvin-i-cant-get-enough-lyrics   \n1318                                       https://genius.com/Blackbear-hot-girl-bummer-lyrics   \n1319                             https://genius.com/For-king-and-country-god-only-knows-lyrics   \n1321                              https://genius.com/Twenty-one-pilots-level-of-concern-lyrics   \n\n      genius_id                          genius_primary_artist  \\\n1316    3828011                 ​benny blanco, Halsey & Khalid   \n1317    4325305  ‌benny blanco, Tainy, Selena Gomez & J Balvin   \n1318    4708753                                     ​blackbear   \n1319    3789374                            ​for KING & COUNTRY   \n1321    5428841                             ​twenty one pilots   \n\n                                                                                                                                         genius_description  \\\n1316  “Eastside” focuses on the relationship of two people who fall in love. It follows them as they go through their relationship and as they reminisce...   \n1317  “I Can’t Get Enough” is a bilingual electronic song by producers Benny Blanco and Tainy with vocals by American singer Selena Gomez and Colombian ...   \n1318  “hot girl bummer,” blackbear’s first single since his fifth studio album, ANONYMOUS, was released alongside a low-budget music video directed by G...   \n1319                                                                                                                                                      ?   \n1321  “Level of Concern” is a “simple but hopeful” song about Tyler’s thoughts concerning the effects the coronavirus made on society and the music indu...   \n\n                                                                                                                                         genius_annotations  \\\n1316  [('In the city where the sun don’t set', [['Wordplay is used here. The east is where the sun rises from, but you can, of course, see the sunset on...   \n1317  [('Dice que no le es suficiente (Wuh)\\n ’Tá mal de la mente (Yah)', [['Jhay Cortez, who is an amazing artist and songwriter, sat down with me and ...   \n1318  [('They can’t fit me in a Trojan', [['Here the speaker trots out one of the most common excuses for not wearing a condom: the old, self-flattering...   \n1319  [('God only knows what you’ve been through\\n God only knows what they say about you\\n God only knows how it’s killing you', [['This is referencing...   \n1321  [('Things are starting to get heavy, mm\\n I can’t help but think I haven’t felt this way\\n Since I asked you to go steady', [['KISS 107.1 Cincinna...   \n\n                                                                                                                                            genius_comments  \\\n1316  ['Halsey breaking hearts with a BOP!!! 🔥🔥🔥', 'What a collaboration.', 'This will be 2018’s top summer song, save my words', 'The collab we didn’t ...   \n1317  ['ISSA BOP who else missed her voice 😍👏', 'another banger 🔥🔥🔥🔥\\nhttps://goo.gl/images/bgHQhQ', 'ohh Selena…😍', 'I cant get enough of this song😍😍💎💎...   \n1318  ['that cover art is giving me ‘digital druglord’ vibes', 'shit already slaps', 'New song for me to listen on repeat till I’m sick of it loll. This...   \n1319  ['I love this song!', 'Donna, I think what you are wanting to know is actually the post-chorus lyrics. I wondered the same thing and couldn’t quit...   \n1321  ['', 'WHO IS MICHAEL AND JULIE', 'https://giphy.com/gifs/excited-seinfeld-12UlfHpF05ielO', 'THIS JUST MADE MY QUARANTINE X1000 BETTER', 'YEEEEE I ...   \n\n     release_date url_first_word artist_first_word  \n1316   2018-07-12          benny             benny  \n1317   2019-02-28          benny             benny  \n1318   2019-08-23      blackbear         blackbear  \n1319   2018-07-27            for               for  \n1321   2020-04-09         twenty            twenty  ",
      "text/html": "<div>\n<style scoped>\n    .dataframe tbody tr th:only-of-type {\n        vertical-align: middle;\n    }\n\n    .dataframe tbody tr th {\n        vertical-align: top;\n    }\n\n    .dataframe thead th {\n        text-align: right;\n    }\n</style>\n<table border=\"1\" class=\"dataframe\">\n  <thead>\n    <tr style=\"text-align: right;\">\n      <th></th>\n      <th>id</th>\n      <th>artist</th>\n      <th>first_artist</th>\n      <th>song</th>\n      <th>weeks_on_chart</th>\n      <th>peak_rank</th>\n      <th>first_appearance</th>\n      <th>lyrics</th>\n      <th>url</th>\n      <th>genius_id</th>\n      <th>genius_primary_artist</th>\n      <th>genius_description</th>\n      <th>genius_annotations</th>\n      <th>genius_comments</th>\n      <th>release_date</th>\n      <th>url_first_word</th>\n      <th>artist_first_word</th>\n    </tr>\n  </thead>\n  <tbody>\n    <tr>\n      <th>1316</th>\n      <td>20</td>\n      <td>benny blanco, Halsey &amp; Khalid</td>\n      <td>benny blanco, Halsey</td>\n      <td>Eastside</td>\n      <td>52</td>\n      <td>9</td>\n      <td>2019-01-05</td>\n      <td>Uh\\nYeah, yeah\\n\\nWhen I was young, I fell in love\\nWe used to hold hands, man, that was enough (Yeah)\\nThen we grew up, started to touch\\nUsed to...</td>\n      <td>https://genius.com/Benny-blanco-halsey-and-khalid-eastside-lyrics</td>\n      <td>3828011</td>\n      <td>​benny blanco, Halsey &amp; Khalid</td>\n      <td>“Eastside” focuses on the relationship of two people who fall in love. It follows them as they go through their relationship and as they reminisce...</td>\n      <td>[('In the city where the sun don’t set', [['Wordplay is used here. The east is where the sun rises from, but you can, of course, see the sunset on...</td>\n      <td>['Halsey breaking hearts with a BOP!!! 🔥🔥🔥', 'What a collaboration.', 'This will be 2018’s top summer song, save my words', 'The collab we didn’t ...</td>\n      <td>2018-07-12</td>\n      <td>benny</td>\n      <td>benny</td>\n    </tr>\n    <tr>\n      <th>1317</th>\n      <td>1092</td>\n      <td>benny blanco, Tainy, Selena Gomez &amp; J Balvin</td>\n      <td>benny blanco, Tainy, Selena Gomez</td>\n      <td>I Can't Get Enough</td>\n      <td>5</td>\n      <td>66</td>\n      <td>2019-03-16</td>\n      <td>Crazy\\nI like that, you like that, so let's be crazy\\nThe contact, impact, I want that daily\\nOur breath getting deeper, deeper, lately\\nI like th...</td>\n      <td>https://genius.com/Benny-blanco-tainy-selena-gomez-and-j-balvin-i-cant-get-enough-lyrics</td>\n      <td>4325305</td>\n      <td>‌benny blanco, Tainy, Selena Gomez &amp; J Balvin</td>\n      <td>“I Can’t Get Enough” is a bilingual electronic song by producers Benny Blanco and Tainy with vocals by American singer Selena Gomez and Colombian ...</td>\n      <td>[('Dice que no le es suficiente (Wuh)\\n ’Tá mal de la mente (Yah)', [['Jhay Cortez, who is an amazing artist and songwriter, sat down with me and ...</td>\n      <td>['ISSA BOP who else missed her voice 😍👏', 'another banger 🔥🔥🔥🔥\\nhttps://goo.gl/images/bgHQhQ', 'ohh Selena…😍', 'I cant get enough of this song😍😍💎💎...</td>\n      <td>2019-02-28</td>\n      <td>benny</td>\n      <td>benny</td>\n    </tr>\n    <tr>\n      <th>1318</th>\n      <td>3890</td>\n      <td>blackbear</td>\n      <td>blackbear</td>\n      <td>Hot Girl Bummer</td>\n      <td>42</td>\n      <td>11</td>\n      <td>2019-09-28</td>\n      <td>Fuck you, and you, and you\\nI hate your friends and they hate me too\\nI'm through, I'm through, I'm through\\nThis that hot girl bummer anthem\\nTur...</td>\n      <td>https://genius.com/Blackbear-hot-girl-bummer-lyrics</td>\n      <td>4708753</td>\n      <td>​blackbear</td>\n      <td>“hot girl bummer,” blackbear’s first single since his fifth studio album, ANONYMOUS, was released alongside a low-budget music video directed by G...</td>\n      <td>[('They can’t fit me in a Trojan', [['Here the speaker trots out one of the most common excuses for not wearing a condom: the old, self-flattering...</td>\n      <td>['that cover art is giving me ‘digital druglord’ vibes', 'shit already slaps', 'New song for me to listen on repeat till I’m sick of it loll. This...</td>\n      <td>2019-08-23</td>\n      <td>blackbear</td>\n      <td>blackbear</td>\n    </tr>\n    <tr>\n      <th>1319</th>\n      <td>3693</td>\n      <td>for KING &amp; COUNTRY</td>\n      <td>for KING</td>\n      <td>God Only Knows</td>\n      <td>1</td>\n      <td>94</td>\n      <td>2019-09-14</td>\n      <td>Wide awake while the world is sound asleepin'\\nToo afraid of what might show up while you're dreamin'\\nNobody, nobody, nobody sees you\\nNobody, no...</td>\n      <td>https://genius.com/For-king-and-country-god-only-knows-lyrics</td>\n      <td>3789374</td>\n      <td>​for KING &amp; COUNTRY</td>\n      <td>?</td>\n      <td>[('God only knows what you’ve been through\\n God only knows what they say about you\\n God only knows how it’s killing you', [['This is referencing...</td>\n      <td>['I love this song!', 'Donna, I think what you are wanting to know is actually the post-chorus lyrics. I wondered the same thing and couldn’t quit...</td>\n      <td>2018-07-27</td>\n      <td>for</td>\n      <td>for</td>\n    </tr>\n    <tr>\n      <th>1321</th>\n      <td>6822</td>\n      <td>twenty one pilots</td>\n      <td>twenty one pilots</td>\n      <td>Level Of Concern</td>\n      <td>11</td>\n      <td>23</td>\n      <td>2020-04-25</td>\n      <td>Need you, tell me\\nNeed you, tell me\\n\\nPanic on the brain, world has gone insane\\nThings are starting to get heavy, mm\\nI can't help but think I ...</td>\n      <td>https://genius.com/Twenty-one-pilots-level-of-concern-lyrics</td>\n      <td>5428841</td>\n      <td>​twenty one pilots</td>\n      <td>“Level of Concern” is a “simple but hopeful” song about Tyler’s thoughts concerning the effects the coronavirus made on society and the music indu...</td>\n      <td>[('Things are starting to get heavy, mm\\n I can’t help but think I haven’t felt this way\\n Since I asked you to go steady', [['KISS 107.1 Cincinna...</td>\n      <td>['', 'WHO IS MICHAEL AND JULIE', 'https://giphy.com/gifs/excited-seinfeld-12UlfHpF05ielO', 'THIS JUST MADE MY QUARANTINE X1000 BETTER', 'YEEEEE I ...</td>\n      <td>2020-04-09</td>\n      <td>twenty</td>\n      <td>twenty</td>\n    </tr>\n  </tbody>\n</table>\n</div>"
     },
     "execution_count": 37,
     "metadata": {},
     "output_type": "execute_result"
    }
   ],
   "source": [
    "bb_l_updated = pd.read_csv('../../data/lyrics/N-BB-L_invalid_updated.csv', encoding='utf-8', index_col=0)\n",
    "bb_l_updated.to_excel('../../data/output/N-BB-L-invalid_updated.xlsx')\n",
    "bb_l_updated = bb_l_updated.fillna(\" \")\n",
    "bb_l_updated.tail()\n"
   ],
   "metadata": {
    "collapsed": false,
    "pycharm": {
     "name": "#%%\n"
    }
   }
  },
  {
   "cell_type": "markdown",
   "source": [
    "### Update Invalid Lyrics"
   ],
   "metadata": {
    "collapsed": false
   }
  },
  {
   "cell_type": "code",
   "execution_count": 38,
   "outputs": [
    {
     "data": {
      "text/plain": "id                                                                                                                                                                        9707\nartist                                                                                                                      Ariana Grande Feat. Doja Cat & Megan Thee Stallion\nfirst_artist                                                                                                                                      Ariana Grande Feat. Doja Cat\nsong                                                                                                                                                                     34+35\nweeks_on_chart                                                                                                                                                               8\npeak_rank                                                                                                                                                                    8\nfirst_appearance                                                                                                                                                    2020-11-14\nlyrics                   Mmm\\n\\nPensarás que estoy loca\\nPor la forma en que he lo estado deseando\\nSi lo pongo bien claro\\nSolo dame bebés\\nEntonces, ¿qué harás esta noch...\nurl                               https://genius.com/Genius-traducciones-al-espanol-ariana-grande-34-35-remix-ft-doja-cat-and-megan-thee-stallion-traduccion-al-espanol-lyrics\ngenius_id                                                                                                                                                            6306581.0\ngenius_primary_artist                                                                                                                  Genius Traducciones al Español, 0 songs\ngenius_description       Ariana se une a Doja Cat y Megan Thee Stallion para un remix de “34 + 35”, el segundo sencillo de su sexto álbum de estudio\"positions“.\\n\\nEl remi...\ngenius_annotations                                                                                                                                                          []\ngenius_comments                                                                                                         ['best all it is the best song i ever hear espanionl']\nrelease_date                                                                                                                                                        2021-01-15\nurl_first_word                                                                                                                                                          genius\nartist_first_word                                                                                                                                                       ariana\nName: 97, dtype: object"
     },
     "execution_count": 38,
     "metadata": {},
     "output_type": "execute_result"
    }
   ],
   "source": [
    "bb_l.iloc[97]"
   ],
   "metadata": {
    "collapsed": false,
    "pycharm": {
     "name": "#%%\n"
    }
   }
  },
  {
   "cell_type": "code",
   "execution_count": 39,
   "outputs": [
    {
     "data": {
      "text/plain": "id                                                                                                                                                                      9707.0\nartist                                                                                                                      Ariana Grande Feat. Doja Cat & Megan Thee Stallion\nfirst_artist                                                                                                                                      Ariana Grande Feat. Doja Cat\nsong                                                                                                                                                                     34+35\nweeks_on_chart                                                                                                                                                             8.0\npeak_rank                                                                                                                                                                  8.0\nfirst_appearance                                                                                                                                                    2020-11-14\nlyrics                   Hmm\\n\\nYou might think I'm crazy\\nThe way I've been cravin'\\nIf I put it quite plainly\\nJust gimme them babies\\nSo what you doin' tonight?\\nBetter...\nurl                               https://genius.com/Genius-traducciones-al-espanol-ariana-grande-34-35-remix-ft-doja-cat-and-megan-thee-stallion-traduccion-al-espanol-lyrics\ngenius_id                                                                                                                                                            6071429.0\ngenius_primary_artist                                                                                                                                            Ariana Grande\ngenius_description       “34+35” is the second track and second single from Ariana Grande’s sixth studio album positions.\\n\\nThe title is a mathematical expression that is...\ngenius_annotations       [('Math class\\n Never was good', [['Ariana jokingly ends the song with the fact that she sucks at math, undermining the sexual bravado in the majo...\ngenius_comments          ['sis was horny during quarantine 😳', 'if you combine the titles of track 1 & 2 you get “shut up 69”, her mind amazes me', 'Only Ariana could get ...\nrelease_date                                                                                                                                                        2020-10-30\nurl_first_word                                                                                                                                                          genius\nartist_first_word                                                                                                                                                       ariana\nName: 97, dtype: object"
     },
     "execution_count": 39,
     "metadata": {},
     "output_type": "execute_result"
    }
   ],
   "source": [
    "bb_l.update(bb_l_updated)\n",
    "bb_l.iloc[97]"
   ],
   "metadata": {
    "collapsed": false,
    "pycharm": {
     "name": "#%%\n"
    }
   }
  },
  {
   "cell_type": "markdown",
   "source": [
    "Remove Unwated Strings"
   ],
   "metadata": {
    "collapsed": false
   }
  },
  {
   "cell_type": "code",
   "execution_count": 40,
   "outputs": [],
   "source": [
    "def clean_string(string):\n",
    "    i = string.find('EmbedShare URLCopyEmbedCopy')\n",
    "    if i == 0:\n",
    "        return string\n",
    "    i -=1\n",
    "    while i > 0 and string[i].isdigit():\n",
    "        i -=1\n",
    "    return string[:i+1]\n",
    "\n",
    "bb_l['lyrics'] = bb_l['lyrics'].apply(lambda string: clean_string(string))\n"
   ],
   "metadata": {
    "collapsed": false,
    "pycharm": {
     "name": "#%%\n"
    }
   }
  },
  {
   "cell_type": "markdown",
   "source": [
    "Show Shape and Collumns"
   ],
   "metadata": {
    "collapsed": false
   }
  },
  {
   "cell_type": "code",
   "execution_count": 41,
   "outputs": [
    {
     "name": "stdout",
     "output_type": "stream",
     "text": [
      "(1322, 17)\n",
      "Index(['id', 'artist', 'first_artist', 'song', 'weeks_on_chart', 'peak_rank',\n",
      "       'first_appearance', 'lyrics', 'url', 'genius_id',\n",
      "       'genius_primary_artist', 'genius_description', 'genius_annotations',\n",
      "       'genius_comments', 'release_date', 'url_first_word',\n",
      "       'artist_first_word'],\n",
      "      dtype='object')\n"
     ]
    }
   ],
   "source": [
    "print(bb_l.shape)\n",
    "print(bb_l.columns)"
   ],
   "metadata": {
    "collapsed": false,
    "pycharm": {
     "name": "#%%\n"
    }
   }
  },
  {
   "cell_type": "markdown",
   "source": [
    "### Language Detector"
   ],
   "metadata": {
    "collapsed": false
   }
  },
  {
   "cell_type": "code",
   "execution_count": 42,
   "metadata": {
    "collapsed": true
   },
   "outputs": [],
   "source": [
    "import spacy\n",
    "from spacy.language import Language\n",
    "from langdetect import DetectorFactory\n",
    "from spacy_langdetect import LanguageDetector\n",
    "\n",
    "@Language.factory(\"language_detector\")\n",
    "def create_language_detector(nlp, name):\n",
    "   return LanguageDetector(language_detection_function=None)\n",
    "#"
   ]
  },
  {
   "cell_type": "code",
   "source": [
    "nlp = spacy.load(\"en_core_web_lg\")\n",
    "nlp.add_pipe('language_detector')"
   ],
   "metadata": {
    "collapsed": false,
    "pycharm": {
     "name": "#%%\n"
    }
   },
   "execution_count": 43,
   "outputs": [
    {
     "data": {
      "text/plain": "<spacy_langdetect.spacy_langdetect.LanguageDetector at 0x1687d580400>"
     },
     "execution_count": 43,
     "metadata": {},
     "output_type": "execute_result"
    }
   ]
  },
  {
   "cell_type": "code",
   "execution_count": 45,
   "outputs": [
    {
     "name": "stdout",
     "output_type": "stream",
     "text": [
      "Progress: |██████████████████████████████████████████████████| 100.0% Complete\r\n"
     ]
    }
   ],
   "source": [
    "#document level\n",
    "def detect_language(text, nlp):\n",
    "    DetectorFactory.seed = 0\n",
    "    if type(text) == str:\n",
    "        doc = nlp(text)\n",
    "        result = doc._.language['language'], doc._.language['score']\n",
    "    else:\n",
    "        result = {'-': -1}\n",
    "    return result\n",
    "\n",
    "\n",
    "# Retrieve data from cache to save time\n",
    "try:\n",
    "    languages = pd.read_csv('../../data/cache/lyrics_preparation_language_new.csv', index_col=0)\n",
    "    scores = pd.read_csv('../../data/cache/lyrics_preparation_language_score_new.csv', index_col=0)\n",
    "except FileNotFoundError:\n",
    "    languages = []\n",
    "    scores = []\n",
    "    l = len(bb_l)\n",
    "\n",
    "    printProgressBar(0, l+1, prefix = 'Progress:', suffix = 'Complete', length = 50)\n",
    "    for i in range(0,l):\n",
    "        language, score = detect_language(bb_l.loc[i, 'lyrics'], nlp)\n",
    "        languages.append(language)\n",
    "        scores.append(score)\n",
    "        printProgressBar(i+1, l, prefix = 'Progress:', suffix = 'Complete', length = 50)\n",
    "\n",
    "bb_l['language'] = languages\n",
    "bb_l['language_score'] = scores\n",
    "bb_l['language'].to_csv('../../data/cache/lyrics_preparation_language_new.csv')\n",
    "bb_l['language_score'].to_csv('../../data/cache/lyrics_preparation_language_score_new.csv')"
   ],
   "metadata": {
    "collapsed": false,
    "pycharm": {
     "name": "#%%\n"
    }
   }
  },
  {
   "cell_type": "markdown",
   "source": [
    "Lyrics Length and Word Count"
   ],
   "metadata": {
    "collapsed": false
   }
  },
  {
   "cell_type": "code",
   "execution_count": 47,
   "outputs": [],
   "source": [
    "bb_l['length'] = bb_l['lyrics'].apply(lambda string: len(str(string)))\n",
    "bb_l['word_count'] = bb_l['lyrics'].apply(lambda string: len(str(string).split()))"
   ],
   "metadata": {
    "collapsed": false,
    "pycharm": {
     "name": "#%%\n"
    }
   }
  },
  {
   "cell_type": "code",
   "execution_count": 46,
   "outputs": [
    {
     "name": "stdout",
     "output_type": "stream",
     "text": [
      "<class 'pandas.core.frame.DataFrame'>\n",
      "Int64Index: 1322 entries, 0 to 1321\n",
      "Data columns (total 19 columns):\n",
      " #   Column                 Non-Null Count  Dtype  \n",
      "---  ------                 --------------  -----  \n",
      " 0   id                     1322 non-null   float64\n",
      " 1   artist                 1322 non-null   object \n",
      " 2   first_artist           1322 non-null   object \n",
      " 3   song                   1322 non-null   object \n",
      " 4   weeks_on_chart         1322 non-null   float64\n",
      " 5   peak_rank              1322 non-null   float64\n",
      " 6   first_appearance       1322 non-null   object \n",
      " 7   lyrics                 1322 non-null   object \n",
      " 8   url                    1322 non-null   object \n",
      " 9   genius_id              1322 non-null   float64\n",
      " 10  genius_primary_artist  1322 non-null   object \n",
      " 11  genius_description     1321 non-null   object \n",
      " 12  genius_annotations     1322 non-null   object \n",
      " 13  genius_comments        1322 non-null   object \n",
      " 14  release_date           1305 non-null   object \n",
      " 15  url_first_word         1316 non-null   object \n",
      " 16  artist_first_word      1322 non-null   object \n",
      " 17  language               1322 non-null   object \n",
      " 18  language_score         1322 non-null   float64\n",
      "dtypes: float64(5), object(14)\n",
      "memory usage: 238.9+ KB\n"
     ]
    }
   ],
   "source": [
    "bb_l.info()\n"
   ],
   "metadata": {
    "collapsed": false,
    "pycharm": {
     "name": "#%%\n"
    }
   }
  },
  {
   "cell_type": "markdown",
   "source": [
    "### Export"
   ],
   "metadata": {
    "collapsed": false
   }
  },
  {
   "cell_type": "code",
   "execution_count": null,
   "outputs": [],
   "source": [
    "bb_l = bb_l.rename(columns={'id': 'billboard_id'})\n",
    "bb_l['billboard_id'] = bb_l['billboard_id'].astype(int)\n",
    "bb_l.sort_values(by='billboard_id', inplace=True)\n",
    "bb_l.reset_index(inplace=True, drop=True)\n",
    "bb_l['lyrics_id'] = bb_l.index\n",
    "bb_l = bb_l[['billboard_id', 'lyrics_id', 'artist', 'first_artist', 'song',\n",
    "                 'weeks_on_chart', 'peak_rank', 'genius_id', 'lyrics', 'url', 'length',\n",
    "                 'word_count', 'language', 'language_score', 'first_appearance',\n",
    "                 'genius_primary_artist', 'genius_description', 'genius_annotations',\n",
    "                 'genius_comments', 'release_date']]\n",
    "\n",
    "bb_l"
   ],
   "metadata": {
    "collapsed": false,
    "pycharm": {
     "name": "#%%\n"
    }
   }
  },
  {
   "cell_type": "code",
   "execution_count": null,
   "outputs": [],
   "source": [
    "bb_l.to_excel('../../data/output/N-BB-L.xlsx')\n",
    "bb_l.to_csv('../../data/lyrics/N-BB-L.csv')"
   ],
   "metadata": {
    "collapsed": false,
    "pycharm": {
     "name": "#%%\n"
    }
   }
  }
 ],
 "metadata": {
  "kernelspec": {
   "display_name": "Python 3",
   "language": "python",
   "name": "python3"
  },
  "language_info": {
   "codemirror_mode": {
    "name": "ipython",
    "version": 2
   },
   "file_extension": ".py",
   "mimetype": "text/x-python",
   "name": "python",
   "nbconvert_exporter": "python",
   "pygments_lexer": "ipython2",
   "version": "2.7.6"
  }
 },
 "nbformat": 4,
 "nbformat_minor": 0
}