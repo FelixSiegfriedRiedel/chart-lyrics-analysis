{
 "cells": [
  {
   "cell_type": "code",
   "execution_count": 1,
   "outputs": [
    {
     "name": "stdout",
     "output_type": "stream",
     "text": [
      "../../data/lyrics/artist_song_lyrics.csv\n",
      "../../data/lyrics/artist_song_lyrics_new.csv\n",
      "../../data/lyrics/bb-t100-lyrics.csv\n",
      "../../data/lyrics/bb-t100-lyrics_new.csv\n",
      "../../data/lyrics/bb_t100_lyrics_en.csv\n",
      "../../data/lyrics/bb_t100_lyrics_en_v2.csv\n",
      "../../data/lyrics/corona-lyrics.csv\n",
      "../../data/lyrics/covid_lyrics_bb.csv\n",
      "../../data/lyrics/lyrics_invalid.json\n",
      "../../data/lyrics/lyrics_invalid_new.json\n",
      "../../data/lyrics/lyrics_invalid_updated.csv\n",
      "../../data/lyrics/lyrics_invalid_updated_new.csv\n",
      "../../data/lyrics/backups/artist_song_lyrics_bak.csv\n",
      "../../data/lyrics/backups/bb-t100-lyrics.csv\n",
      "../../data/lyrics/backups/bb-t100-lyrics_new.csv\n",
      "../../data/lyrics/backups/bb-t100-lyrics_old.csv\n",
      "../../data/lyrics/backups/bb_t100_lyrics_en.csv\n",
      "../../data/lyrics/backups/bb_t100_lyrics_en_v1.csv\n",
      "../../data/lyrics/backups/bb_t100_lyrics_en_v2.csv\n",
      "../../data/lyrics/backups/bb_t100_lyrics_en_v3.csv\n",
      "../../data/lyrics/backups/corona-lyrics.csv\n",
      "../../data/lyrics/backups/lyrics_invalid_updated.csv\n"
     ]
    }
   ],
   "source": [
    "import numpy as np # linear algebra\n",
    "import pandas as pd # data processing, CSV file I/O (e.g. pd.read_csv)\n",
    "import seaborn as sns\n",
    "import matplotlib.pyplot as plt\n",
    "import datetime\n",
    "import os\n",
    "for dirname, _, filenames in os.walk('../../data/lyrics'):\n",
    "    for filename in filenames:\n",
    "        print(os.path.join(dirname, filename).replace(\"\\\\\",\"/\"))\n",
    "\n",
    "\n",
    "from src.progress_bar import printProgressBar"
   ],
   "metadata": {
    "collapsed": false,
    "pycharm": {
     "name": "#%%\n"
    }
   }
  },
  {
   "cell_type": "markdown",
   "source": [
    "## Preparing Billboard Lyrics"
   ],
   "metadata": {
    "collapsed": false,
    "pycharm": {
     "name": "#%% md\n"
    }
   }
  },
  {
   "cell_type": "code",
   "execution_count": 2,
   "outputs": [
    {
     "data": {
      "text/plain": "     id                             artist first_artist                song  \\\n0  1093   2 Chainz Featuring Ariana Grande     2 Chainz      Rule The World   \n1  1099  2 Chainz Featuring Kendrick Lamar     2 Chainz  Momma I Hit A Lick   \n2  1074    2 Chainz Featuring Travis Scott     2 Chainz                Whip   \n3    85                          21 Savage    21 Savage                 1.5   \n4    36                          21 Savage    21 Savage               A Lot   \n\n   weeks_on_chart  peak_rank first_appearance  \\\n0               2         94       2019-03-16   \n1               1        100       2019-03-16   \n2               1         75       2019-03-16   \n3               1         86       2019-01-05   \n4              23         12       2019-01-05   \n\n                                              lyrics  \\\n0  Yeah\\nUh-huh\\n(Hitmaka)\\n2 Chainz\\n\\nTop down ...   \n1  I want it, I want it, I want it-it-it-it\\n\\nCh...   \n2  Yeah\\nDo it no hands, yeah, do it, no handstan...   \n3  My earrings cost a half a ticket, I don't hear...   \n4  I love you\\nTurn my headphone down a little bi...   \n\n                                                 url  genius_id  \\\n0  https://genius.com/2-chainz-rule-the-world-lyrics  4327593.0   \n1  https://genius.com/2-chainz-momma-i-hit-a-lick...  4346683.0   \n2            https://genius.com/2-chainz-whip-lyrics  4327641.0   \n3             https://genius.com/21-savage-15-lyrics  4155501.0   \n4          https://genius.com/21-savage-a-lot-lyrics  4155494.0   \n\n  genius_primary_artist                                 genius_description  \\\n0     2 Chainz, 0 songs  “Rule the World” sees 2 Chainz rapping about h...   \n1     2 Chainz, 0 songs  “Momma I Hit a Lick” is the first direct colla...   \n2     2 Chainz, 0 songs  In the sixth track off of 2 Chainz’s highly an...   \n3    21 Savage, 0 songs  “1.5” is a collaboration between Migos member,...   \n4    21 Savage, 0 songs  On the introspective introduction to his sopho...   \n\n                                  genius_annotations  \\\n0  [('That mean don’t call 12 on me, baby (Don’t ...   \n1  [('I don’t take pics on a jet, lil nigga\\n Thi...   \n2  [('Rap or Go to the League blimp, uh', [['To a...   \n3  [('Too much drip, I’m rainin’, bought a Gucci ...   \n4  [('[Verse 3: J. Cole]', [['Genius broke down t...   \n\n                                     genius_comments release_date  \\\n0  ['Who would have thought that these two artist...   2019-03-01   \n1  ['Damn. He changed his voice 3 or 4 times man....   2019-03-01   \n2  ['LA FLAME X 2CHAINZ BEEN A DEADLY COMBO SINCE...   2019-03-01   \n3  ['THE WORLD NEEDS “WITHOUT WARNING 2” 🙏🏽', 'if...   2018-12-21   \n4  ['J COLE CAME IN LIKE', 'J. COLE SNAPPED ON TH...   2018-12-21   \n\n  url_first_word artist_first_word  \n0              2                 2  \n1              2                 2  \n2              2                 2  \n3             21                21  \n4             21                21  ",
      "text/html": "<div>\n<style scoped>\n    .dataframe tbody tr th:only-of-type {\n        vertical-align: middle;\n    }\n\n    .dataframe tbody tr th {\n        vertical-align: top;\n    }\n\n    .dataframe thead th {\n        text-align: right;\n    }\n</style>\n<table border=\"1\" class=\"dataframe\">\n  <thead>\n    <tr style=\"text-align: right;\">\n      <th></th>\n      <th>id</th>\n      <th>artist</th>\n      <th>first_artist</th>\n      <th>song</th>\n      <th>weeks_on_chart</th>\n      <th>peak_rank</th>\n      <th>first_appearance</th>\n      <th>lyrics</th>\n      <th>url</th>\n      <th>genius_id</th>\n      <th>genius_primary_artist</th>\n      <th>genius_description</th>\n      <th>genius_annotations</th>\n      <th>genius_comments</th>\n      <th>release_date</th>\n      <th>url_first_word</th>\n      <th>artist_first_word</th>\n    </tr>\n  </thead>\n  <tbody>\n    <tr>\n      <th>0</th>\n      <td>1093</td>\n      <td>2 Chainz Featuring Ariana Grande</td>\n      <td>2 Chainz</td>\n      <td>Rule The World</td>\n      <td>2</td>\n      <td>94</td>\n      <td>2019-03-16</td>\n      <td>Yeah\\nUh-huh\\n(Hitmaka)\\n2 Chainz\\n\\nTop down ...</td>\n      <td>https://genius.com/2-chainz-rule-the-world-lyrics</td>\n      <td>4327593.0</td>\n      <td>2 Chainz, 0 songs</td>\n      <td>“Rule the World” sees 2 Chainz rapping about h...</td>\n      <td>[('That mean don’t call 12 on me, baby (Don’t ...</td>\n      <td>['Who would have thought that these two artist...</td>\n      <td>2019-03-01</td>\n      <td>2</td>\n      <td>2</td>\n    </tr>\n    <tr>\n      <th>1</th>\n      <td>1099</td>\n      <td>2 Chainz Featuring Kendrick Lamar</td>\n      <td>2 Chainz</td>\n      <td>Momma I Hit A Lick</td>\n      <td>1</td>\n      <td>100</td>\n      <td>2019-03-16</td>\n      <td>I want it, I want it, I want it-it-it-it\\n\\nCh...</td>\n      <td>https://genius.com/2-chainz-momma-i-hit-a-lick...</td>\n      <td>4346683.0</td>\n      <td>2 Chainz, 0 songs</td>\n      <td>“Momma I Hit a Lick” is the first direct colla...</td>\n      <td>[('I don’t take pics on a jet, lil nigga\\n Thi...</td>\n      <td>['Damn. He changed his voice 3 or 4 times man....</td>\n      <td>2019-03-01</td>\n      <td>2</td>\n      <td>2</td>\n    </tr>\n    <tr>\n      <th>2</th>\n      <td>1074</td>\n      <td>2 Chainz Featuring Travis Scott</td>\n      <td>2 Chainz</td>\n      <td>Whip</td>\n      <td>1</td>\n      <td>75</td>\n      <td>2019-03-16</td>\n      <td>Yeah\\nDo it no hands, yeah, do it, no handstan...</td>\n      <td>https://genius.com/2-chainz-whip-lyrics</td>\n      <td>4327641.0</td>\n      <td>2 Chainz, 0 songs</td>\n      <td>In the sixth track off of 2 Chainz’s highly an...</td>\n      <td>[('Rap or Go to the League blimp, uh', [['To a...</td>\n      <td>['LA FLAME X 2CHAINZ BEEN A DEADLY COMBO SINCE...</td>\n      <td>2019-03-01</td>\n      <td>2</td>\n      <td>2</td>\n    </tr>\n    <tr>\n      <th>3</th>\n      <td>85</td>\n      <td>21 Savage</td>\n      <td>21 Savage</td>\n      <td>1.5</td>\n      <td>1</td>\n      <td>86</td>\n      <td>2019-01-05</td>\n      <td>My earrings cost a half a ticket, I don't hear...</td>\n      <td>https://genius.com/21-savage-15-lyrics</td>\n      <td>4155501.0</td>\n      <td>21 Savage, 0 songs</td>\n      <td>“1.5” is a collaboration between Migos member,...</td>\n      <td>[('Too much drip, I’m rainin’, bought a Gucci ...</td>\n      <td>['THE WORLD NEEDS “WITHOUT WARNING 2” 🙏🏽', 'if...</td>\n      <td>2018-12-21</td>\n      <td>21</td>\n      <td>21</td>\n    </tr>\n    <tr>\n      <th>4</th>\n      <td>36</td>\n      <td>21 Savage</td>\n      <td>21 Savage</td>\n      <td>A Lot</td>\n      <td>23</td>\n      <td>12</td>\n      <td>2019-01-05</td>\n      <td>I love you\\nTurn my headphone down a little bi...</td>\n      <td>https://genius.com/21-savage-a-lot-lyrics</td>\n      <td>4155494.0</td>\n      <td>21 Savage, 0 songs</td>\n      <td>On the introspective introduction to his sopho...</td>\n      <td>[('[Verse 3: J. Cole]', [['Genius broke down t...</td>\n      <td>['J COLE CAME IN LIKE', 'J. COLE SNAPPED ON TH...</td>\n      <td>2018-12-21</td>\n      <td>21</td>\n      <td>21</td>\n    </tr>\n  </tbody>\n</table>\n</div>"
     },
     "execution_count": 2,
     "metadata": {},
     "output_type": "execute_result"
    }
   ],
   "source": [
    "lyrics = pd.read_csv('../../data/lyrics/artist_song_lyrics_new.csv', encoding='utf-8', index_col=0)\n",
    "lyrics.head()\n"
   ],
   "metadata": {
    "collapsed": false,
    "pycharm": {
     "name": "#%%\n"
    }
   }
  },
  {
   "cell_type": "code",
   "execution_count": 3,
   "outputs": [
    {
     "data": {
      "text/plain": "        id                                        artist  \\\n1316    20                 benny blanco, Halsey & Khalid   \n1317  1092  benny blanco, Tainy, Selena Gomez & J Balvin   \n1318  3890                                     blackbear   \n1319  3693                            for KING & COUNTRY   \n1321  6822                             twenty one pilots   \n\n                           first_artist                song  weeks_on_chart  \\\n1316               benny blanco, Halsey            Eastside              52   \n1317  benny blanco, Tainy, Selena Gomez  I Can't Get Enough               5   \n1318                          blackbear     Hot Girl Bummer              42   \n1319                           for KING      God Only Knows               1   \n1321                  twenty one pilots    Level Of Concern              11   \n\n      peak_rank first_appearance  \\\n1316          9       2019-01-05   \n1317         66       2019-03-16   \n1318         11       2019-09-28   \n1319         94       2019-09-14   \n1321         23       2020-04-25   \n\n                                                 lyrics  \\\n1316  Uh\\nYeah, yeah\\n\\nWhen I was young, I fell in ...   \n1317  Crazy\\nI like that, you like that, so let's be...   \n1318  Fuck you, and you, and you\\nI hate your friend...   \n1319  Wide awake while the world is sound asleepin'\\...   \n1321  Need you, tell me\\nNeed you, tell me\\n\\nPanic ...   \n\n                                                    url  genius_id  \\\n1316  https://genius.com/Benny-blanco-halsey-and-kha...    3828011   \n1317  https://genius.com/Benny-blanco-tainy-selena-g...    4325305   \n1318  https://genius.com/Blackbear-hot-girl-bummer-l...    4708753   \n1319  https://genius.com/For-king-and-country-god-on...    3789374   \n1321  https://genius.com/Twenty-one-pilots-level-of-...    5428841   \n\n                              genius_primary_artist  \\\n1316                 ​benny blanco, Halsey & Khalid   \n1317  ‌benny blanco, Tainy, Selena Gomez & J Balvin   \n1318                                     ​blackbear   \n1319                            ​for KING & COUNTRY   \n1321                             ​twenty one pilots   \n\n                                     genius_description  \\\n1316  “Eastside” focuses on the relationship of two ...   \n1317  “I Can’t Get Enough” is a bilingual electronic...   \n1318  “hot girl bummer,” blackbear’s first single si...   \n1319                                                  ?   \n1321  “Level of Concern” is a “simple but hopeful” s...   \n\n                                     genius_annotations  \\\n1316  [('In the city where the sun don’t set', [['Wo...   \n1317  [('Dice que no le es suficiente (Wuh)\\n ’Tá ma...   \n1318  [('They can’t fit me in a Trojan', [['Here the...   \n1319  [('God only knows what you’ve been through\\n G...   \n1321  [('Things are starting to get heavy, mm\\n I ca...   \n\n                                        genius_comments release_date  \\\n1316  ['Halsey breaking hearts with a BOP!!! 🔥🔥🔥', '...   2018-07-12   \n1317  ['ISSA BOP who else missed her voice 😍👏', 'ano...   2019-02-28   \n1318  ['that cover art is giving me ‘digital druglor...   2019-08-23   \n1319  ['I love this song!', 'Donna, I think what you...   2018-07-27   \n1321  ['', 'WHO IS MICHAEL AND JULIE', 'https://giph...   2020-04-09   \n\n     url_first_word artist_first_word  \n1316          benny             benny  \n1317          benny             benny  \n1318      blackbear         blackbear  \n1319            for               for  \n1321         twenty            twenty  ",
      "text/html": "<div>\n<style scoped>\n    .dataframe tbody tr th:only-of-type {\n        vertical-align: middle;\n    }\n\n    .dataframe tbody tr th {\n        vertical-align: top;\n    }\n\n    .dataframe thead th {\n        text-align: right;\n    }\n</style>\n<table border=\"1\" class=\"dataframe\">\n  <thead>\n    <tr style=\"text-align: right;\">\n      <th></th>\n      <th>id</th>\n      <th>artist</th>\n      <th>first_artist</th>\n      <th>song</th>\n      <th>weeks_on_chart</th>\n      <th>peak_rank</th>\n      <th>first_appearance</th>\n      <th>lyrics</th>\n      <th>url</th>\n      <th>genius_id</th>\n      <th>genius_primary_artist</th>\n      <th>genius_description</th>\n      <th>genius_annotations</th>\n      <th>genius_comments</th>\n      <th>release_date</th>\n      <th>url_first_word</th>\n      <th>artist_first_word</th>\n    </tr>\n  </thead>\n  <tbody>\n    <tr>\n      <th>1316</th>\n      <td>20</td>\n      <td>benny blanco, Halsey &amp; Khalid</td>\n      <td>benny blanco, Halsey</td>\n      <td>Eastside</td>\n      <td>52</td>\n      <td>9</td>\n      <td>2019-01-05</td>\n      <td>Uh\\nYeah, yeah\\n\\nWhen I was young, I fell in ...</td>\n      <td>https://genius.com/Benny-blanco-halsey-and-kha...</td>\n      <td>3828011</td>\n      <td>​benny blanco, Halsey &amp; Khalid</td>\n      <td>“Eastside” focuses on the relationship of two ...</td>\n      <td>[('In the city where the sun don’t set', [['Wo...</td>\n      <td>['Halsey breaking hearts with a BOP!!! 🔥🔥🔥', '...</td>\n      <td>2018-07-12</td>\n      <td>benny</td>\n      <td>benny</td>\n    </tr>\n    <tr>\n      <th>1317</th>\n      <td>1092</td>\n      <td>benny blanco, Tainy, Selena Gomez &amp; J Balvin</td>\n      <td>benny blanco, Tainy, Selena Gomez</td>\n      <td>I Can't Get Enough</td>\n      <td>5</td>\n      <td>66</td>\n      <td>2019-03-16</td>\n      <td>Crazy\\nI like that, you like that, so let's be...</td>\n      <td>https://genius.com/Benny-blanco-tainy-selena-g...</td>\n      <td>4325305</td>\n      <td>‌benny blanco, Tainy, Selena Gomez &amp; J Balvin</td>\n      <td>“I Can’t Get Enough” is a bilingual electronic...</td>\n      <td>[('Dice que no le es suficiente (Wuh)\\n ’Tá ma...</td>\n      <td>['ISSA BOP who else missed her voice 😍👏', 'ano...</td>\n      <td>2019-02-28</td>\n      <td>benny</td>\n      <td>benny</td>\n    </tr>\n    <tr>\n      <th>1318</th>\n      <td>3890</td>\n      <td>blackbear</td>\n      <td>blackbear</td>\n      <td>Hot Girl Bummer</td>\n      <td>42</td>\n      <td>11</td>\n      <td>2019-09-28</td>\n      <td>Fuck you, and you, and you\\nI hate your friend...</td>\n      <td>https://genius.com/Blackbear-hot-girl-bummer-l...</td>\n      <td>4708753</td>\n      <td>​blackbear</td>\n      <td>“hot girl bummer,” blackbear’s first single si...</td>\n      <td>[('They can’t fit me in a Trojan', [['Here the...</td>\n      <td>['that cover art is giving me ‘digital druglor...</td>\n      <td>2019-08-23</td>\n      <td>blackbear</td>\n      <td>blackbear</td>\n    </tr>\n    <tr>\n      <th>1319</th>\n      <td>3693</td>\n      <td>for KING &amp; COUNTRY</td>\n      <td>for KING</td>\n      <td>God Only Knows</td>\n      <td>1</td>\n      <td>94</td>\n      <td>2019-09-14</td>\n      <td>Wide awake while the world is sound asleepin'\\...</td>\n      <td>https://genius.com/For-king-and-country-god-on...</td>\n      <td>3789374</td>\n      <td>​for KING &amp; COUNTRY</td>\n      <td>?</td>\n      <td>[('God only knows what you’ve been through\\n G...</td>\n      <td>['I love this song!', 'Donna, I think what you...</td>\n      <td>2018-07-27</td>\n      <td>for</td>\n      <td>for</td>\n    </tr>\n    <tr>\n      <th>1321</th>\n      <td>6822</td>\n      <td>twenty one pilots</td>\n      <td>twenty one pilots</td>\n      <td>Level Of Concern</td>\n      <td>11</td>\n      <td>23</td>\n      <td>2020-04-25</td>\n      <td>Need you, tell me\\nNeed you, tell me\\n\\nPanic ...</td>\n      <td>https://genius.com/Twenty-one-pilots-level-of-...</td>\n      <td>5428841</td>\n      <td>​twenty one pilots</td>\n      <td>“Level of Concern” is a “simple but hopeful” s...</td>\n      <td>[('Things are starting to get heavy, mm\\n I ca...</td>\n      <td>['', 'WHO IS MICHAEL AND JULIE', 'https://giph...</td>\n      <td>2020-04-09</td>\n      <td>twenty</td>\n      <td>twenty</td>\n    </tr>\n  </tbody>\n</table>\n</div>"
     },
     "execution_count": 3,
     "metadata": {},
     "output_type": "execute_result"
    }
   ],
   "source": [
    "lyrics_updated = pd.read_csv('../../data/lyrics/lyrics_invalid_updated_new.csv', encoding='utf-8', index_col=0)\n",
    "lyrics_updated.to_excel('../../data/output/lyrics_updated_new.xlsx')\n",
    "lyrics_updated = lyrics_updated.fillna(\" \")\n",
    "lyrics_updated.tail()\n"
   ],
   "metadata": {
    "collapsed": false,
    "pycharm": {
     "name": "#%%\n"
    }
   }
  },
  {
   "cell_type": "code",
   "execution_count": 4,
   "outputs": [
    {
     "data": {
      "text/plain": "id                                                                   10194\nartist                                                    Carrie Underwood\nfirst_artist                                              Carrie Underwood\nsong                                                 Favorite Time Of Year\nweeks_on_chart                                                           4\npeak_rank                                                               62\nfirst_appearance                                                2020-12-12\nlyrics                   Yeah\\n\\nBreak out the tinsel, unpack the light...\nurl                      https://genius.com/Carrie-underwood-favorite-t...\ngenius_id                                                        7048864.0\ngenius_primary_artist                            Carrie Underwood, 0 songs\ngenius_description                                                       ?\ngenius_annotations                                                      []\ngenius_comments                                                         []\nrelease_date                                                    2021-09-24\nurl_first_word                                                      carrie\nartist_first_word                                                   carrie\nName: 231, dtype: object"
     },
     "execution_count": 4,
     "metadata": {},
     "output_type": "execute_result"
    }
   ],
   "source": [
    "lyrics.iloc[231]"
   ],
   "metadata": {
    "collapsed": false,
    "pycharm": {
     "name": "#%%\n"
    }
   }
  },
  {
   "cell_type": "code",
   "execution_count": 5,
   "outputs": [
    {
     "data": {
      "text/plain": "id                                                                 10194.0\nartist                                                    Carrie Underwood\nfirst_artist                                              Carrie Underwood\nsong                                                 Favorite Time Of Year\nweeks_on_chart                                                         4.0\npeak_rank                                                             62.0\nfirst_appearance                                                2020-12-12\nlyrics                   Yeah\\n\\nBreak out the tinsel, unpack the light...\nurl                      https://genius.com/Carrie-underwood-favorite-t...\ngenius_id                                                        7048864.0\ngenius_primary_artist                            Carrie Underwood, 0 songs\ngenius_description                                                       ?\ngenius_annotations                                                      []\ngenius_comments                                                         []\nrelease_date                                                    2021-09-24\nurl_first_word                                                      carrie\nartist_first_word                                                   carrie\nName: 231, dtype: object"
     },
     "execution_count": 5,
     "metadata": {},
     "output_type": "execute_result"
    }
   ],
   "source": [
    "lyrics.update(lyrics_updated)\n",
    "lyrics.iloc[231]"
   ],
   "metadata": {
    "collapsed": false,
    "pycharm": {
     "name": "#%%\n"
    }
   }
  },
  {
   "cell_type": "code",
   "execution_count": 6,
   "outputs": [],
   "source": [
    "def clean_string(string):\n",
    "    i = string.find('EmbedShare URLCopyEmbedCopy')\n",
    "    if i == 0:\n",
    "        return string\n",
    "    i -=1\n",
    "    while i > 0 and string[i].isdigit():\n",
    "        i -=1\n",
    "    return string[:i+1]\n",
    "\n",
    "lyrics['lyrics'] = lyrics['lyrics'].apply(lambda string: clean_string(string))\n"
   ],
   "metadata": {
    "collapsed": false,
    "pycharm": {
     "name": "#%%\n"
    }
   }
  },
  {
   "cell_type": "code",
   "execution_count": 7,
   "outputs": [
    {
     "name": "stdout",
     "output_type": "stream",
     "text": [
      "(1322, 17)\n",
      "Index(['id', 'artist', 'first_artist', 'song', 'weeks_on_chart', 'peak_rank',\n",
      "       'first_appearance', 'lyrics', 'url', 'genius_id',\n",
      "       'genius_primary_artist', 'genius_description', 'genius_annotations',\n",
      "       'genius_comments', 'release_date', 'url_first_word',\n",
      "       'artist_first_word'],\n",
      "      dtype='object')\n"
     ]
    }
   ],
   "source": [
    "print(lyrics.shape)\n",
    "print(lyrics.columns)"
   ],
   "metadata": {
    "collapsed": false,
    "pycharm": {
     "name": "#%%\n"
    }
   }
  },
  {
   "cell_type": "code",
   "execution_count": 8,
   "metadata": {
    "collapsed": true
   },
   "outputs": [],
   "source": [
    "import spacy\n",
    "from spacy.language import Language\n",
    "from langdetect import DetectorFactory\n",
    "from spacy_langdetect import LanguageDetector\n",
    "\n",
    "@Language.factory(\"language_detector\")\n",
    "def create_language_detector(nlp, name):\n",
    "   return LanguageDetector(language_detection_function=None)\n",
    "#"
   ]
  },
  {
   "cell_type": "code",
   "source": [
    "nlp = spacy.load(\"en_core_web_lg\")\n",
    "nlp.add_pipe('language_detector')"
   ],
   "metadata": {
    "collapsed": false,
    "pycharm": {
     "name": "#%%\n"
    }
   },
   "execution_count": 9,
   "outputs": [
    {
     "data": {
      "text/plain": "<spacy_langdetect.spacy_langdetect.LanguageDetector at 0x232c13cf910>"
     },
     "execution_count": 9,
     "metadata": {},
     "output_type": "execute_result"
    }
   ]
  },
  {
   "cell_type": "code",
   "execution_count": 10,
   "outputs": [],
   "source": [
    "#document level\n",
    "def detect_language(text, nlp):\n",
    "    DetectorFactory.seed = 0\n",
    "    if type(text) == str:\n",
    "        doc = nlp(text)\n",
    "        result = doc._.language['language'], doc._.language['score']\n",
    "    else:\n",
    "        result = {'-': -1}\n",
    "    return result\n",
    "\n",
    "\n",
    "# Retrieve data from cache to save time\n",
    "try:\n",
    "    languages = pd.read_csv('../../data/cache/lyrics_preparation_language_new.csv', index_col=0)\n",
    "    scores = pd.read_csv('../../data/cache/lyrics_preparation_language_score_new.csv', index_col=0)\n",
    "except FileNotFoundError:\n",
    "    languages = []\n",
    "    scores = []\n",
    "    l = len(lyrics)\n",
    "\n",
    "    printProgressBar(0, l+1, prefix = 'Progress:', suffix = 'Complete', length = 50)\n",
    "    for i in range(0,l):\n",
    "        language, score = detect_language(lyrics.loc[i, 'lyrics'], nlp)\n",
    "        languages.append(language)\n",
    "        scores.append(score)\n",
    "        printProgressBar(i+1, l, prefix = 'Progress:', suffix = 'Complete', length = 50)\n",
    "\n",
    "lyrics['language'] = languages\n",
    "lyrics['language_score'] = scores\n",
    "lyrics['language'].to_csv('../../data/cache/lyrics_preparation_language_new.csv')\n",
    "lyrics['language_score'].to_csv('../../data/cache/lyrics_preparation_language_score_new.csv')"
   ],
   "metadata": {
    "collapsed": false,
    "pycharm": {
     "name": "#%%\n"
    }
   }
  },
  {
   "cell_type": "code",
   "execution_count": 11,
   "outputs": [],
   "source": [
    "lyrics['length'] = lyrics['lyrics'].apply(lambda string: len(str(string)))\n",
    "lyrics['word_count'] = lyrics['lyrics'].apply(lambda string: len(str(string).split()))"
   ],
   "metadata": {
    "collapsed": false,
    "pycharm": {
     "name": "#%%\n"
    }
   }
  },
  {
   "cell_type": "code",
   "execution_count": 12,
   "outputs": [
    {
     "name": "stdout",
     "output_type": "stream",
     "text": [
      "<class 'pandas.core.frame.DataFrame'>\n",
      "Int64Index: 1322 entries, 0 to 1321\n",
      "Data columns (total 21 columns):\n",
      " #   Column                 Non-Null Count  Dtype  \n",
      "---  ------                 --------------  -----  \n",
      " 0   id                     1322 non-null   float64\n",
      " 1   artist                 1322 non-null   object \n",
      " 2   first_artist           1322 non-null   object \n",
      " 3   song                   1322 non-null   object \n",
      " 4   weeks_on_chart         1322 non-null   float64\n",
      " 5   peak_rank              1322 non-null   float64\n",
      " 6   first_appearance       1322 non-null   object \n",
      " 7   lyrics                 1322 non-null   object \n",
      " 8   url                    1322 non-null   object \n",
      " 9   genius_id              1322 non-null   float64\n",
      " 10  genius_primary_artist  1322 non-null   object \n",
      " 11  genius_description     1321 non-null   object \n",
      " 12  genius_annotations     1322 non-null   object \n",
      " 13  genius_comments        1322 non-null   object \n",
      " 14  release_date           1305 non-null   object \n",
      " 15  url_first_word         1316 non-null   object \n",
      " 16  artist_first_word      1322 non-null   object \n",
      " 17  language               1322 non-null   object \n",
      " 18  language_score         1322 non-null   float64\n",
      " 19  length                 1322 non-null   int64  \n",
      " 20  word_count             1322 non-null   int64  \n",
      "dtypes: float64(5), int64(2), object(14)\n",
      "memory usage: 227.2+ KB\n"
     ]
    }
   ],
   "source": [
    "lyrics.info()\n"
   ],
   "metadata": {
    "collapsed": false,
    "pycharm": {
     "name": "#%%\n"
    }
   }
  },
  {
   "cell_type": "code",
   "execution_count": 13,
   "outputs": [
    {
     "data": {
      "text/plain": "Index(['id', 'artist', 'first_artist', 'song', 'weeks_on_chart', 'peak_rank',\n       'first_appearance', 'lyrics', 'url', 'genius_id',\n       'genius_primary_artist', 'genius_description', 'genius_annotations',\n       'genius_comments', 'release_date', 'url_first_word',\n       'artist_first_word', 'language', 'language_score', 'length',\n       'word_count'],\n      dtype='object')"
     },
     "execution_count": 13,
     "metadata": {},
     "output_type": "execute_result"
    }
   ],
   "source": [
    "lyrics.columns"
   ],
   "metadata": {
    "collapsed": false,
    "pycharm": {
     "name": "#%%\n"
    }
   }
  },
  {
   "cell_type": "code",
   "execution_count": 14,
   "outputs": [
    {
     "data": {
      "text/plain": "      billboard_id  lyrics_id                  artist   first_artist  \\\n0                0          0           Ariana Grande  Ariana Grande   \n1                1          1                  Halsey         Halsey   \n2                2          2            Mariah Carey   Mariah Carey   \n3                3          3            Travis Scott   Travis Scott   \n4                4          4  Post Malone & Swae Lee    Post Malone   \n...            ...        ...                     ...            ...   \n1317         10459       1317                  Eminem         Eminem   \n1318         10477       1318           Gabby Barrett  Gabby Barrett   \n1319         10483       1319              Popp Hunna     Popp Hunna   \n1320         10492       1320                Lil Durk       Lil Durk   \n1321         10497       1321                     DDG            DDG   \n\n                                               song  weeks_on_chart  \\\n0                                     Thank U, Next            28.0   \n1                                        Without Me            52.0   \n2                   All I Want For Christmas Is You            43.0   \n3                                        Sicko Mode            52.0   \n4     Sunflower (Spider-Man: Into The Spider-Verse)            53.0   \n...                                             ...             ...   \n1317                                           Gnat             1.0   \n1318                                 The First Noel             1.0   \n1319                   Adderall (Corvette Corvette)             1.0   \n1320                                       Backdoor             1.0   \n1321                       Moonwalking In Calabasas             1.0   \n\n      peak_rank first_appearance  \\\n0           1.0       2019-01-05   \n1           1.0       2019-01-05   \n2           1.0       2019-01-05   \n3           1.0       2019-01-05   \n4           1.0       2019-01-05   \n...         ...              ...   \n1317       60.0       2021-01-02   \n1318       78.0       2021-01-02   \n1319       84.0       2021-01-02   \n1320       93.0       2021-01-02   \n1321       98.0       2021-01-02   \n\n                                                 lyrics  \\\n0     Thought I'd end up with Sean\\nBut he wasn't a ...   \n1     Found you when your heart was broke\\nI filled ...   \n2     I don't want a lot for Christmas\\nThere is jus...   \n3     Astro, yeah\\nSun is down, freezin' cold\\nThat'...   \n4     1. Lil Nas X - INDUSTRY BABY (feat. Jack Harlo...   \n...                                                 ...   \n1317  Yeah, yeah, sick\\n(d.a. got that dope)\\n\\nThey...   \n1318  The First Noel, the Angels did say\\nWas to cer...   \n1319  (Bitch)\\nCorvette, Corvette\\nHop in a motherfu...   \n1320  (Malik on the beat)\\n(Ayo Bleu)\\nNo, no, no, n...   \n1321  Ballin' since I was a jit\\nWay before Oakland ...   \n\n                                                    url  genius_id  \\\n0     https://genius.com/Ariana-grande-thank-u-next-...  4063065.0   \n1           https://genius.com/Halsey-without-me-lyrics  3977187.0   \n2     https://genius.com/Mariah-carey-all-i-want-for...   204233.0   \n3     https://genius.com/Travis-scott-sicko-mode-lyrics  3876994.0   \n4     https://genius.com/Spotify-dope-7-29-21-feat-l...  3993850.0   \n...                                                 ...        ...   \n1317              https://genius.com/Eminem-gnat-lyrics  6285862.0   \n1318  https://genius.com/Gabby-barrett-the-first-noe...  6086107.0   \n1319  https://genius.com/Popp-hunna-adderall-corvett...  6110220.0   \n1320        https://genius.com/Lil-durk-backdoor-lyrics  6270159.0   \n1321  https://genius.com/Ddg-moonwalking-in-calabasa...  5800223.0   \n\n       genius_primary_artist  \\\n0     Ariana Grande, 0 songs   \n1            Halsey, 0 songs   \n2      Mariah Carey, 0 songs   \n3      Travis Scott, 0 songs   \n4     Post Malone & Swae Lee   \n...                      ...   \n1317         Eminem, 0 songs   \n1318  Gabby Barrett, 0 songs   \n1319     Popp Hunna, 0 songs   \n1320       Lil Durk, 0 songs   \n1321            DDG, 0 songs   \n\n                                     genius_description  \\\n0     On the lead single and titular track to her fi...   \n1     “Without Me” is the first new song released by...   \n2     “All I Want For Christmas Is You” is an uptemp...   \n3     “SICKO MODE” refers to Travis and Drake’s work...   \n4     “Sunflower” marks the second collaboration by ...   \n...                                                 ...   \n1317  On “Gnat,” the third promotional single from E...   \n1318                                                  ?   \n1319  Adderall (Corvette Corvette) is a song by Popp...   \n1320  Lil Durk returns to the music scene with “Back...   \n1321  “Moonwalking in Calabasas” is a braggadocious ...   \n\n                                     genius_annotations  \\\n0     [('One taught me love\\n One taught me patience...   \n1     [('Gave love ’bout a hundred tries (Hundred tr...   \n2     [('I don’t need to hang my stocking\\n There up...   \n3     [('She’s in love with who I am', [['Since Drak...   \n4     [('Then you’re left in the dust, unless I stuc...   \n...                                                 ...   \n1317  [('With the dope, I’m an OG, I’m like the G.O....   \n1318                                                 []   \n1319  [('Niggas keep talking ’bout looking for me\\n ...   \n1320  [('(Oh)\\n Close that backdoor, can’t get snake...   \n1321  [('She off X, she sleepy, sleepy, yeah', [['X ...   \n\n                                        genius_comments  length  word_count  \\\n0     ['The Mac shoutout has me fully in tears, this...    2411         460   \n1     ['The queen is ready to snatch our wigs once a...    2096         435   \n2     ['i really like this song', 'it’s about that t...    1919         388   \n3     ['HAD ME OUT LIKE A LIGHT (ayy) LIKE A LIGHT (...    3946         771   \n4     ['Me enjoying “Sunflower” and someone then int...    2623         545   \n...                                                 ...     ...         ...   \n1317  ['THIS IS THE COVID DISS', 'This song is just ...    5764        1113   \n1318                                                 []     665         132   \n1319  ['It’s the [?] for me', 'this that uzi x carti...    2367         515   \n1320  ['#LLVON🕊🕊', 'R.I.P von ❤🕊', 'LLKV', 'Rest in ...    2778         547   \n1321  ['DDG should have 10times his fan base right n...    2787         549   \n\n     language  language_score  \n0          en        0.999997  \n1          en        0.999995  \n2          en        0.999997  \n3          en        0.999998  \n4          en        0.999998  \n...       ...             ...  \n1317       en        0.999999  \n1318       en        0.999996  \n1319       en        0.999998  \n1320       en        0.999996  \n1321       en        0.999996  \n\n[1322 rows x 19 columns]",
      "text/html": "<div>\n<style scoped>\n    .dataframe tbody tr th:only-of-type {\n        vertical-align: middle;\n    }\n\n    .dataframe tbody tr th {\n        vertical-align: top;\n    }\n\n    .dataframe thead th {\n        text-align: right;\n    }\n</style>\n<table border=\"1\" class=\"dataframe\">\n  <thead>\n    <tr style=\"text-align: right;\">\n      <th></th>\n      <th>billboard_id</th>\n      <th>lyrics_id</th>\n      <th>artist</th>\n      <th>first_artist</th>\n      <th>song</th>\n      <th>weeks_on_chart</th>\n      <th>peak_rank</th>\n      <th>first_appearance</th>\n      <th>lyrics</th>\n      <th>url</th>\n      <th>genius_id</th>\n      <th>genius_primary_artist</th>\n      <th>genius_description</th>\n      <th>genius_annotations</th>\n      <th>genius_comments</th>\n      <th>length</th>\n      <th>word_count</th>\n      <th>language</th>\n      <th>language_score</th>\n    </tr>\n  </thead>\n  <tbody>\n    <tr>\n      <th>0</th>\n      <td>0</td>\n      <td>0</td>\n      <td>Ariana Grande</td>\n      <td>Ariana Grande</td>\n      <td>Thank U, Next</td>\n      <td>28.0</td>\n      <td>1.0</td>\n      <td>2019-01-05</td>\n      <td>Thought I'd end up with Sean\\nBut he wasn't a ...</td>\n      <td>https://genius.com/Ariana-grande-thank-u-next-...</td>\n      <td>4063065.0</td>\n      <td>Ariana Grande, 0 songs</td>\n      <td>On the lead single and titular track to her fi...</td>\n      <td>[('One taught me love\\n One taught me patience...</td>\n      <td>['The Mac shoutout has me fully in tears, this...</td>\n      <td>2411</td>\n      <td>460</td>\n      <td>en</td>\n      <td>0.999997</td>\n    </tr>\n    <tr>\n      <th>1</th>\n      <td>1</td>\n      <td>1</td>\n      <td>Halsey</td>\n      <td>Halsey</td>\n      <td>Without Me</td>\n      <td>52.0</td>\n      <td>1.0</td>\n      <td>2019-01-05</td>\n      <td>Found you when your heart was broke\\nI filled ...</td>\n      <td>https://genius.com/Halsey-without-me-lyrics</td>\n      <td>3977187.0</td>\n      <td>Halsey, 0 songs</td>\n      <td>“Without Me” is the first new song released by...</td>\n      <td>[('Gave love ’bout a hundred tries (Hundred tr...</td>\n      <td>['The queen is ready to snatch our wigs once a...</td>\n      <td>2096</td>\n      <td>435</td>\n      <td>en</td>\n      <td>0.999995</td>\n    </tr>\n    <tr>\n      <th>2</th>\n      <td>2</td>\n      <td>2</td>\n      <td>Mariah Carey</td>\n      <td>Mariah Carey</td>\n      <td>All I Want For Christmas Is You</td>\n      <td>43.0</td>\n      <td>1.0</td>\n      <td>2019-01-05</td>\n      <td>I don't want a lot for Christmas\\nThere is jus...</td>\n      <td>https://genius.com/Mariah-carey-all-i-want-for...</td>\n      <td>204233.0</td>\n      <td>Mariah Carey, 0 songs</td>\n      <td>“All I Want For Christmas Is You” is an uptemp...</td>\n      <td>[('I don’t need to hang my stocking\\n There up...</td>\n      <td>['i really like this song', 'it’s about that t...</td>\n      <td>1919</td>\n      <td>388</td>\n      <td>en</td>\n      <td>0.999997</td>\n    </tr>\n    <tr>\n      <th>3</th>\n      <td>3</td>\n      <td>3</td>\n      <td>Travis Scott</td>\n      <td>Travis Scott</td>\n      <td>Sicko Mode</td>\n      <td>52.0</td>\n      <td>1.0</td>\n      <td>2019-01-05</td>\n      <td>Astro, yeah\\nSun is down, freezin' cold\\nThat'...</td>\n      <td>https://genius.com/Travis-scott-sicko-mode-lyrics</td>\n      <td>3876994.0</td>\n      <td>Travis Scott, 0 songs</td>\n      <td>“SICKO MODE” refers to Travis and Drake’s work...</td>\n      <td>[('She’s in love with who I am', [['Since Drak...</td>\n      <td>['HAD ME OUT LIKE A LIGHT (ayy) LIKE A LIGHT (...</td>\n      <td>3946</td>\n      <td>771</td>\n      <td>en</td>\n      <td>0.999998</td>\n    </tr>\n    <tr>\n      <th>4</th>\n      <td>4</td>\n      <td>4</td>\n      <td>Post Malone &amp; Swae Lee</td>\n      <td>Post Malone</td>\n      <td>Sunflower (Spider-Man: Into The Spider-Verse)</td>\n      <td>53.0</td>\n      <td>1.0</td>\n      <td>2019-01-05</td>\n      <td>1. Lil Nas X - INDUSTRY BABY (feat. Jack Harlo...</td>\n      <td>https://genius.com/Spotify-dope-7-29-21-feat-l...</td>\n      <td>3993850.0</td>\n      <td>Post Malone &amp; Swae Lee</td>\n      <td>“Sunflower” marks the second collaboration by ...</td>\n      <td>[('Then you’re left in the dust, unless I stuc...</td>\n      <td>['Me enjoying “Sunflower” and someone then int...</td>\n      <td>2623</td>\n      <td>545</td>\n      <td>en</td>\n      <td>0.999998</td>\n    </tr>\n    <tr>\n      <th>...</th>\n      <td>...</td>\n      <td>...</td>\n      <td>...</td>\n      <td>...</td>\n      <td>...</td>\n      <td>...</td>\n      <td>...</td>\n      <td>...</td>\n      <td>...</td>\n      <td>...</td>\n      <td>...</td>\n      <td>...</td>\n      <td>...</td>\n      <td>...</td>\n      <td>...</td>\n      <td>...</td>\n      <td>...</td>\n      <td>...</td>\n      <td>...</td>\n    </tr>\n    <tr>\n      <th>1317</th>\n      <td>10459</td>\n      <td>1317</td>\n      <td>Eminem</td>\n      <td>Eminem</td>\n      <td>Gnat</td>\n      <td>1.0</td>\n      <td>60.0</td>\n      <td>2021-01-02</td>\n      <td>Yeah, yeah, sick\\n(d.a. got that dope)\\n\\nThey...</td>\n      <td>https://genius.com/Eminem-gnat-lyrics</td>\n      <td>6285862.0</td>\n      <td>Eminem, 0 songs</td>\n      <td>On “Gnat,” the third promotional single from E...</td>\n      <td>[('With the dope, I’m an OG, I’m like the G.O....</td>\n      <td>['THIS IS THE COVID DISS', 'This song is just ...</td>\n      <td>5764</td>\n      <td>1113</td>\n      <td>en</td>\n      <td>0.999999</td>\n    </tr>\n    <tr>\n      <th>1318</th>\n      <td>10477</td>\n      <td>1318</td>\n      <td>Gabby Barrett</td>\n      <td>Gabby Barrett</td>\n      <td>The First Noel</td>\n      <td>1.0</td>\n      <td>78.0</td>\n      <td>2021-01-02</td>\n      <td>The First Noel, the Angels did say\\nWas to cer...</td>\n      <td>https://genius.com/Gabby-barrett-the-first-noe...</td>\n      <td>6086107.0</td>\n      <td>Gabby Barrett, 0 songs</td>\n      <td>?</td>\n      <td>[]</td>\n      <td>[]</td>\n      <td>665</td>\n      <td>132</td>\n      <td>en</td>\n      <td>0.999996</td>\n    </tr>\n    <tr>\n      <th>1319</th>\n      <td>10483</td>\n      <td>1319</td>\n      <td>Popp Hunna</td>\n      <td>Popp Hunna</td>\n      <td>Adderall (Corvette Corvette)</td>\n      <td>1.0</td>\n      <td>84.0</td>\n      <td>2021-01-02</td>\n      <td>(Bitch)\\nCorvette, Corvette\\nHop in a motherfu...</td>\n      <td>https://genius.com/Popp-hunna-adderall-corvett...</td>\n      <td>6110220.0</td>\n      <td>Popp Hunna, 0 songs</td>\n      <td>Adderall (Corvette Corvette) is a song by Popp...</td>\n      <td>[('Niggas keep talking ’bout looking for me\\n ...</td>\n      <td>['It’s the [?] for me', 'this that uzi x carti...</td>\n      <td>2367</td>\n      <td>515</td>\n      <td>en</td>\n      <td>0.999998</td>\n    </tr>\n    <tr>\n      <th>1320</th>\n      <td>10492</td>\n      <td>1320</td>\n      <td>Lil Durk</td>\n      <td>Lil Durk</td>\n      <td>Backdoor</td>\n      <td>1.0</td>\n      <td>93.0</td>\n      <td>2021-01-02</td>\n      <td>(Malik on the beat)\\n(Ayo Bleu)\\nNo, no, no, n...</td>\n      <td>https://genius.com/Lil-durk-backdoor-lyrics</td>\n      <td>6270159.0</td>\n      <td>Lil Durk, 0 songs</td>\n      <td>Lil Durk returns to the music scene with “Back...</td>\n      <td>[('(Oh)\\n Close that backdoor, can’t get snake...</td>\n      <td>['#LLVON🕊🕊', 'R.I.P von ❤🕊', 'LLKV', 'Rest in ...</td>\n      <td>2778</td>\n      <td>547</td>\n      <td>en</td>\n      <td>0.999996</td>\n    </tr>\n    <tr>\n      <th>1321</th>\n      <td>10497</td>\n      <td>1321</td>\n      <td>DDG</td>\n      <td>DDG</td>\n      <td>Moonwalking In Calabasas</td>\n      <td>1.0</td>\n      <td>98.0</td>\n      <td>2021-01-02</td>\n      <td>Ballin' since I was a jit\\nWay before Oakland ...</td>\n      <td>https://genius.com/Ddg-moonwalking-in-calabasa...</td>\n      <td>5800223.0</td>\n      <td>DDG, 0 songs</td>\n      <td>“Moonwalking in Calabasas” is a braggadocious ...</td>\n      <td>[('She off X, she sleepy, sleepy, yeah', [['X ...</td>\n      <td>['DDG should have 10times his fan base right n...</td>\n      <td>2787</td>\n      <td>549</td>\n      <td>en</td>\n      <td>0.999996</td>\n    </tr>\n  </tbody>\n</table>\n<p>1322 rows × 19 columns</p>\n</div>"
     },
     "execution_count": 14,
     "metadata": {},
     "output_type": "execute_result"
    }
   ],
   "source": [
    "lyrics = lyrics.rename(columns={'id': 'billboard_id'})\n",
    "lyrics['billboard_id'] = lyrics['billboard_id'].astype(int)\n",
    "lyrics.sort_values(by='billboard_id', inplace=True)\n",
    "lyrics.reset_index(inplace=True, drop=True)\n",
    "lyrics['lyrics_id'] = lyrics.index\n",
    "lyrics = lyrics[['billboard_id', 'lyrics_id', 'artist', 'first_artist', 'song', 'weeks_on_chart', 'peak_rank', 'first_appearance',\n",
    "                 'lyrics', 'url', 'genius_id',\n",
    "                 'genius_primary_artist', 'genius_description', 'genius_annotations',\n",
    "                 'genius_comments', 'length', 'word_count', 'language', 'language_score']]\n",
    "\n",
    "lyrics"
   ],
   "metadata": {
    "collapsed": false,
    "pycharm": {
     "name": "#%%\n"
    }
   }
  },
  {
   "cell_type": "code",
   "execution_count": 15,
   "outputs": [
    {
     "data": {
      "text/plain": "      billboard_id  lyrics_id  \\\n14              14         14   \n30              30         30   \n34              34         34   \n41              41         41   \n59              59         59   \n...            ...        ...   \n1288         10346       1288   \n1292         10356       1292   \n1294         10362       1294   \n1297         10367       1297   \n1309         10435       1309   \n\n                                                                        artist  \\\n14                                 Kodak Black Featuring Travis Scott & Offset   \n30                                                   Bad Bunny Featuring Drake   \n34    Perry Como And The Fontane Sisters With Mitchell Ayres And His Orchestra   \n41            John & Yoko/The Plastic Ono Band With The Harlem Community Choir   \n59                                   Ellie Goulding X Diplo Featuring Swae Lee   \n...                                                                        ...   \n1288                                                             Nat King Cole   \n1292                                           Taylor Swift Featuring Bon Iver   \n1294                                       Taylor Swift Featuring The National   \n1297                                                              Taylor Swift   \n1309                                         Bing Crosby & The Andrews Sisters   \n\n                                                                  first_artist  \\\n14                                                                 Kodak Black   \n30                                                                   Bad Bunny   \n34    Perry Como And The Fontane Sisters With Mitchell Ayres And His Orchestra   \n41                                                                        John   \n59                                                      Ellie Goulding X Diplo   \n...                                                                        ...   \n1288                                                             Nat King Cole   \n1292                                                              Taylor Swift   \n1294                                                              Taylor Swift   \n1297                                                              Taylor Swift   \n1309                                                               Bing Crosby   \n\n                                             song  weeks_on_chart  peak_rank  \\\n14                                           ZEZE            25.0        2.0   \n30                                            MIA            27.0        5.0   \n34    It's Beginning To Look A Lot Like Christmas             8.0       12.0   \n41                       Happy Xmas (War Is Over)             2.0       42.0   \n59                                    Close To Me            25.0       24.0   \n...                                           ...             ...        ...   \n1288                               Deck The Halls             2.0       43.0   \n1292                                     Evermore             1.0       57.0   \n1294                                 Coney Island             1.0       63.0   \n1297                             Long Story Short             1.0       68.0   \n1309            Mele Kalikimaka (Merry Christmas)             1.0       36.0   \n\n     first_appearance  \\\n14         2019-01-05   \n30         2019-01-05   \n34         2019-01-05   \n41         2019-01-05   \n59         2019-01-05   \n...               ...   \n1288       2020-12-26   \n1292       2020-12-26   \n1294       2020-12-26   \n1297       2020-12-26   \n1309       2021-01-02   \n\n                                                                                                                                                     lyrics  \\\n14    D.A. tem aquela droga!\\n\\nÁgua gelada, virou Atlântica (Congelou)\\nDe noite em um Phantom (Skrrt, Skrrt)\\nFalei pra essas putas não entrarem em pâ...   \n30    Bless them\\nAy, there ain't no second guess, then you done know so right now we carry di guess fi di gyal dem\\nBad Bunny, Drake, SP\\nBad Bunny, ba...   \n34                                                                                                                                                  !NoSong   \n41                                                                                                                                                  !NoSong   \n59                                                                                                                                                  !NoSong   \n...                                                                                                                                                     ...   \n1288  Deck the halls with boughs of holly\\nFa-la-la-la-la, la-la-la-la\\n'Tis the season to be jolly\\nFa-la-la-la-la, la-la-la-la\\nDon we now our gay app...   \n1292  Noviembre gris\\nHe estado triste desde julio\\nLa captura de movimiento\\nMe hizo ver mal\\nRepaso todos mis pasos en cada escalón\\nIntentando encont...   \n1294  Seni ararken ruhum ikiye ayrılıyor\\nAma tam buradasın\\nArtık seninle ilişki kuramazsam\\nO zaman ben kiminle ilişkiliyim?\\nVe eğer bu uzun mesafe i...   \n1297  Fatalmente\\nTraté de elegir mis batallas hasta que las batallas me eligieron a mi\\nMiseria\\nComo la guerra de palabras que gritaba en mis sueños\\n...   \n1309                                                                                                                                                !NoSong   \n\n                                                                                                                      url  \\\n14    https://genius.com/Genius-brasil-traducoes-kodak-black-zeze-ft-travis-scott-and-offset-traducao-em-portugues-lyrics   \n30                                                    https://genius.com/Bad-bunny-and-drake-mia-dom-da-bomb-remix-lyrics   \n34                                                                                                                          \n41                                                                                                                          \n59                                                                                                                          \n...                                                                                                                   ...   \n1288                                                               https://genius.com/Nat-king-cole-deck-the-halls-lyrics   \n1292     https://genius.com/Genius-traducciones-al-espanol-taylor-swift-evermore-ft-bon-iver-traduccion-al-espanol-lyrics   \n1294               https://genius.com/Genius-turkce-ceviri-taylor-swift-coney-island-ft-the-national-turkce-ceviri-lyrics   \n1297         https://genius.com/Genius-traducciones-al-espanol-taylor-swift-long-story-short-traduccion-al-espanol-lyrics   \n1309                                                                                                                        \n\n      genius_id              genius_primary_artist  \\\n14    3995573.0                        Kodak Black   \n30    4092199.0         Bad Bunny & Drake, 0 songs   \n34    2121786.0                         Perry Como   \n41     104680.0             John Lennon & Yoko Ono   \n59    4037296.0             Ellie Goulding & Diplo   \n...         ...                                ...   \n1288  1108541.0           Nat “King” Cole, 0 songs   \n1292  6260141.0                       Taylor Swift   \n1294  6260168.0                       Taylor Swift   \n1297  6260174.0                       Taylor Swift   \n1309   303219.0  Bing Crosby & The Andrews Sisters   \n\n                                                                                                                                         genius_description  \\\n14    Kodak Black enlists Offset and Travis Scott for “ZEZE,” a song on which the trio discusses their decadent lifestyles on the song. Produced by Chic...   \n30                                                                                                                                                        ?   \n34                                                                                                                                                        ?   \n41    Written as a protest song against the Vietnam War, “Happy Xmas (War Is Over)” was the end result of two years of activism by John Lennon & Yoko On...   \n59    On her first proper single  since “First Time” with producer Kygo, Ellie Goulding teams up with producer Diplo and rapper Swae Lee of Rae Sremmurd...   \n...                                                                                                                                                     ...   \n1288                                                                                                                                                      ?   \n1292  The titular closing track on the standard edition of evermore is a meditative piano ballad tracking the narrator’s journey from a seemingly unendi...   \n1294  “coney island” marks Swift’s first collaboration with The National after working heavily with band member Aaron Dessner on both the writing and pr...   \n1297  “long story short” is a brisk-paced overview of the public demonizations that Taylor has experienced since her feud with Kanye West in 2016. The d...   \n1309  One of the earliest versions of this Hawaii-themed Xmas classic\\n\\nAs for the title:\\n\\nThe song takes its title from the Hawaiian phrase, “Mele K...   \n\n                                                                                                                                         genius_annotations  \\\n14    [('Self-made, I don’t owe a nigga nann favor', [['Kodak uses Trick Daddy’s track “Nann N*gga” to express that he made it to the top of the rap gam...   \n30                                                                                                                                                       []   \n34                                                                                                                                                       []   \n41    [('For weak and for strong (If you want it)', [['yes']]), ('For yellow and red ones (War is over)\\n Let’s stop all the fight (Now)', [['Yellow ref...   \n59    [('I had to cut my bitch off, she bein’ stubborn (Stubborn)', [['This song is all about soulmates finding each other, so maybe he had to end thing...   \n...                                                                                                                                                     ...   \n1288                                                                                                                                                     []   \n1292  [('And I couldn’t be sure\\n I had a feeling so peculiar\\n This pain wouldn’t be for\\n Evermore', [['This is a callback and reversal of the lines t...   \n1294  [('Sorry for not making you my centerfold', [['A centerfold is the page that a magazine most readily and naturally opens up to. It is where the bi...   \n1297  [('At the golden gates they once held the keys to', [['“They” seems to be the media and public, who contributed to Swift’s loss of control over he...   \n1309                                                                                                                                                     []   \n\n                                                                                                                                            genius_comments  \\\n14    ['The whole world for the next three month\\nhttps://giphy.com/gifs/kFNSaLpt1r3zLQIeNS', 'when Kodak the worst part of his own song', 'I just got o...   \n30                                                                                                                                ['This is lowkey a mess']   \n34                                                                                                                                                       []   \n41    ['The lyrics on this page for John Lennon’s “Happy Christmas” contain an error.\\n\\nYour line: “The world is so wrong” is incorrect.\\n\\nJohn sings:...   \n59    ['Ellie and Swae just like 2 angels singing this song! IS LIT!', 'yass that flows', 'It actually a new 2015 sounds!!! Ellie’s voice is so simple b...   \n...                                                                                                                                                     ...   \n1288                                                                                                                                                     []   \n1292  ['the beat change at Justin’s part ? amazing ! and how it becomes slow again after ? genius', 'Exile or Evermore…', 'Evermore = Exile 2.0', 'Taylo...   \n1294  ['Thank you Aaron Dessner for creating magic with Taylor, wow', 'EXILE BROTHER 🥺', 'feels like exile pt.2 but this time they’re married', 'i have ...   \n1297  ['i dont know why but i have a feeling this song is gonna give us last great american dynasty vibes', 'LONG STORY SHORT, IT WAS A BAD TIME\\nLONG S...   \n1309                                                                                                                                                     []   \n\n      length  word_count language  language_score  \n14      4421         802       pt        0.999998  \n30      3117         637       es        0.714282  \n34         7           1       tl        0.999996  \n41         7           1       tl        0.999996  \n59         7           1       tl        0.999996  \n...      ...         ...      ...             ...  \n1288     622          79       es        0.999995  \n1292    1832         319       es        0.999995  \n1294    2033         293       tr        0.999998  \n1297    2199         414       es        0.999996  \n1309       7           1       tl        0.999996  \n\n[114 rows x 19 columns]",
      "text/html": "<div>\n<style scoped>\n    .dataframe tbody tr th:only-of-type {\n        vertical-align: middle;\n    }\n\n    .dataframe tbody tr th {\n        vertical-align: top;\n    }\n\n    .dataframe thead th {\n        text-align: right;\n    }\n</style>\n<table border=\"1\" class=\"dataframe\">\n  <thead>\n    <tr style=\"text-align: right;\">\n      <th></th>\n      <th>billboard_id</th>\n      <th>lyrics_id</th>\n      <th>artist</th>\n      <th>first_artist</th>\n      <th>song</th>\n      <th>weeks_on_chart</th>\n      <th>peak_rank</th>\n      <th>first_appearance</th>\n      <th>lyrics</th>\n      <th>url</th>\n      <th>genius_id</th>\n      <th>genius_primary_artist</th>\n      <th>genius_description</th>\n      <th>genius_annotations</th>\n      <th>genius_comments</th>\n      <th>length</th>\n      <th>word_count</th>\n      <th>language</th>\n      <th>language_score</th>\n    </tr>\n  </thead>\n  <tbody>\n    <tr>\n      <th>14</th>\n      <td>14</td>\n      <td>14</td>\n      <td>Kodak Black Featuring Travis Scott &amp; Offset</td>\n      <td>Kodak Black</td>\n      <td>ZEZE</td>\n      <td>25.0</td>\n      <td>2.0</td>\n      <td>2019-01-05</td>\n      <td>D.A. tem aquela droga!\\n\\nÁgua gelada, virou Atlântica (Congelou)\\nDe noite em um Phantom (Skrrt, Skrrt)\\nFalei pra essas putas não entrarem em pâ...</td>\n      <td>https://genius.com/Genius-brasil-traducoes-kodak-black-zeze-ft-travis-scott-and-offset-traducao-em-portugues-lyrics</td>\n      <td>3995573.0</td>\n      <td>Kodak Black</td>\n      <td>Kodak Black enlists Offset and Travis Scott for “ZEZE,” a song on which the trio discusses their decadent lifestyles on the song. Produced by Chic...</td>\n      <td>[('Self-made, I don’t owe a nigga nann favor', [['Kodak uses Trick Daddy’s track “Nann N*gga” to express that he made it to the top of the rap gam...</td>\n      <td>['The whole world for the next three month\\nhttps://giphy.com/gifs/kFNSaLpt1r3zLQIeNS', 'when Kodak the worst part of his own song', 'I just got o...</td>\n      <td>4421</td>\n      <td>802</td>\n      <td>pt</td>\n      <td>0.999998</td>\n    </tr>\n    <tr>\n      <th>30</th>\n      <td>30</td>\n      <td>30</td>\n      <td>Bad Bunny Featuring Drake</td>\n      <td>Bad Bunny</td>\n      <td>MIA</td>\n      <td>27.0</td>\n      <td>5.0</td>\n      <td>2019-01-05</td>\n      <td>Bless them\\nAy, there ain't no second guess, then you done know so right now we carry di guess fi di gyal dem\\nBad Bunny, Drake, SP\\nBad Bunny, ba...</td>\n      <td>https://genius.com/Bad-bunny-and-drake-mia-dom-da-bomb-remix-lyrics</td>\n      <td>4092199.0</td>\n      <td>Bad Bunny &amp; Drake, 0 songs</td>\n      <td>?</td>\n      <td>[]</td>\n      <td>['This is lowkey a mess']</td>\n      <td>3117</td>\n      <td>637</td>\n      <td>es</td>\n      <td>0.714282</td>\n    </tr>\n    <tr>\n      <th>34</th>\n      <td>34</td>\n      <td>34</td>\n      <td>Perry Como And The Fontane Sisters With Mitchell Ayres And His Orchestra</td>\n      <td>Perry Como And The Fontane Sisters With Mitchell Ayres And His Orchestra</td>\n      <td>It's Beginning To Look A Lot Like Christmas</td>\n      <td>8.0</td>\n      <td>12.0</td>\n      <td>2019-01-05</td>\n      <td>!NoSong</td>\n      <td></td>\n      <td>2121786.0</td>\n      <td>Perry Como</td>\n      <td>?</td>\n      <td>[]</td>\n      <td>[]</td>\n      <td>7</td>\n      <td>1</td>\n      <td>tl</td>\n      <td>0.999996</td>\n    </tr>\n    <tr>\n      <th>41</th>\n      <td>41</td>\n      <td>41</td>\n      <td>John &amp; Yoko/The Plastic Ono Band With The Harlem Community Choir</td>\n      <td>John</td>\n      <td>Happy Xmas (War Is Over)</td>\n      <td>2.0</td>\n      <td>42.0</td>\n      <td>2019-01-05</td>\n      <td>!NoSong</td>\n      <td></td>\n      <td>104680.0</td>\n      <td>John Lennon &amp; Yoko Ono</td>\n      <td>Written as a protest song against the Vietnam War, “Happy Xmas (War Is Over)” was the end result of two years of activism by John Lennon &amp; Yoko On...</td>\n      <td>[('For weak and for strong (If you want it)', [['yes']]), ('For yellow and red ones (War is over)\\n Let’s stop all the fight (Now)', [['Yellow ref...</td>\n      <td>['The lyrics on this page for John Lennon’s “Happy Christmas” contain an error.\\n\\nYour line: “The world is so wrong” is incorrect.\\n\\nJohn sings:...</td>\n      <td>7</td>\n      <td>1</td>\n      <td>tl</td>\n      <td>0.999996</td>\n    </tr>\n    <tr>\n      <th>59</th>\n      <td>59</td>\n      <td>59</td>\n      <td>Ellie Goulding X Diplo Featuring Swae Lee</td>\n      <td>Ellie Goulding X Diplo</td>\n      <td>Close To Me</td>\n      <td>25.0</td>\n      <td>24.0</td>\n      <td>2019-01-05</td>\n      <td>!NoSong</td>\n      <td></td>\n      <td>4037296.0</td>\n      <td>Ellie Goulding &amp; Diplo</td>\n      <td>On her first proper single  since “First Time” with producer Kygo, Ellie Goulding teams up with producer Diplo and rapper Swae Lee of Rae Sremmurd...</td>\n      <td>[('I had to cut my bitch off, she bein’ stubborn (Stubborn)', [['This song is all about soulmates finding each other, so maybe he had to end thing...</td>\n      <td>['Ellie and Swae just like 2 angels singing this song! IS LIT!', 'yass that flows', 'It actually a new 2015 sounds!!! Ellie’s voice is so simple b...</td>\n      <td>7</td>\n      <td>1</td>\n      <td>tl</td>\n      <td>0.999996</td>\n    </tr>\n    <tr>\n      <th>...</th>\n      <td>...</td>\n      <td>...</td>\n      <td>...</td>\n      <td>...</td>\n      <td>...</td>\n      <td>...</td>\n      <td>...</td>\n      <td>...</td>\n      <td>...</td>\n      <td>...</td>\n      <td>...</td>\n      <td>...</td>\n      <td>...</td>\n      <td>...</td>\n      <td>...</td>\n      <td>...</td>\n      <td>...</td>\n      <td>...</td>\n      <td>...</td>\n    </tr>\n    <tr>\n      <th>1288</th>\n      <td>10346</td>\n      <td>1288</td>\n      <td>Nat King Cole</td>\n      <td>Nat King Cole</td>\n      <td>Deck The Halls</td>\n      <td>2.0</td>\n      <td>43.0</td>\n      <td>2020-12-26</td>\n      <td>Deck the halls with boughs of holly\\nFa-la-la-la-la, la-la-la-la\\n'Tis the season to be jolly\\nFa-la-la-la-la, la-la-la-la\\nDon we now our gay app...</td>\n      <td>https://genius.com/Nat-king-cole-deck-the-halls-lyrics</td>\n      <td>1108541.0</td>\n      <td>Nat “King” Cole, 0 songs</td>\n      <td>?</td>\n      <td>[]</td>\n      <td>[]</td>\n      <td>622</td>\n      <td>79</td>\n      <td>es</td>\n      <td>0.999995</td>\n    </tr>\n    <tr>\n      <th>1292</th>\n      <td>10356</td>\n      <td>1292</td>\n      <td>Taylor Swift Featuring Bon Iver</td>\n      <td>Taylor Swift</td>\n      <td>Evermore</td>\n      <td>1.0</td>\n      <td>57.0</td>\n      <td>2020-12-26</td>\n      <td>Noviembre gris\\nHe estado triste desde julio\\nLa captura de movimiento\\nMe hizo ver mal\\nRepaso todos mis pasos en cada escalón\\nIntentando encont...</td>\n      <td>https://genius.com/Genius-traducciones-al-espanol-taylor-swift-evermore-ft-bon-iver-traduccion-al-espanol-lyrics</td>\n      <td>6260141.0</td>\n      <td>Taylor Swift</td>\n      <td>The titular closing track on the standard edition of evermore is a meditative piano ballad tracking the narrator’s journey from a seemingly unendi...</td>\n      <td>[('And I couldn’t be sure\\n I had a feeling so peculiar\\n This pain wouldn’t be for\\n Evermore', [['This is a callback and reversal of the lines t...</td>\n      <td>['the beat change at Justin’s part ? amazing ! and how it becomes slow again after ? genius', 'Exile or Evermore…', 'Evermore = Exile 2.0', 'Taylo...</td>\n      <td>1832</td>\n      <td>319</td>\n      <td>es</td>\n      <td>0.999995</td>\n    </tr>\n    <tr>\n      <th>1294</th>\n      <td>10362</td>\n      <td>1294</td>\n      <td>Taylor Swift Featuring The National</td>\n      <td>Taylor Swift</td>\n      <td>Coney Island</td>\n      <td>1.0</td>\n      <td>63.0</td>\n      <td>2020-12-26</td>\n      <td>Seni ararken ruhum ikiye ayrılıyor\\nAma tam buradasın\\nArtık seninle ilişki kuramazsam\\nO zaman ben kiminle ilişkiliyim?\\nVe eğer bu uzun mesafe i...</td>\n      <td>https://genius.com/Genius-turkce-ceviri-taylor-swift-coney-island-ft-the-national-turkce-ceviri-lyrics</td>\n      <td>6260168.0</td>\n      <td>Taylor Swift</td>\n      <td>“coney island” marks Swift’s first collaboration with The National after working heavily with band member Aaron Dessner on both the writing and pr...</td>\n      <td>[('Sorry for not making you my centerfold', [['A centerfold is the page that a magazine most readily and naturally opens up to. It is where the bi...</td>\n      <td>['Thank you Aaron Dessner for creating magic with Taylor, wow', 'EXILE BROTHER 🥺', 'feels like exile pt.2 but this time they’re married', 'i have ...</td>\n      <td>2033</td>\n      <td>293</td>\n      <td>tr</td>\n      <td>0.999998</td>\n    </tr>\n    <tr>\n      <th>1297</th>\n      <td>10367</td>\n      <td>1297</td>\n      <td>Taylor Swift</td>\n      <td>Taylor Swift</td>\n      <td>Long Story Short</td>\n      <td>1.0</td>\n      <td>68.0</td>\n      <td>2020-12-26</td>\n      <td>Fatalmente\\nTraté de elegir mis batallas hasta que las batallas me eligieron a mi\\nMiseria\\nComo la guerra de palabras que gritaba en mis sueños\\n...</td>\n      <td>https://genius.com/Genius-traducciones-al-espanol-taylor-swift-long-story-short-traduccion-al-espanol-lyrics</td>\n      <td>6260174.0</td>\n      <td>Taylor Swift</td>\n      <td>“long story short” is a brisk-paced overview of the public demonizations that Taylor has experienced since her feud with Kanye West in 2016. The d...</td>\n      <td>[('At the golden gates they once held the keys to', [['“They” seems to be the media and public, who contributed to Swift’s loss of control over he...</td>\n      <td>['i dont know why but i have a feeling this song is gonna give us last great american dynasty vibes', 'LONG STORY SHORT, IT WAS A BAD TIME\\nLONG S...</td>\n      <td>2199</td>\n      <td>414</td>\n      <td>es</td>\n      <td>0.999996</td>\n    </tr>\n    <tr>\n      <th>1309</th>\n      <td>10435</td>\n      <td>1309</td>\n      <td>Bing Crosby &amp; The Andrews Sisters</td>\n      <td>Bing Crosby</td>\n      <td>Mele Kalikimaka (Merry Christmas)</td>\n      <td>1.0</td>\n      <td>36.0</td>\n      <td>2021-01-02</td>\n      <td>!NoSong</td>\n      <td></td>\n      <td>303219.0</td>\n      <td>Bing Crosby &amp; The Andrews Sisters</td>\n      <td>One of the earliest versions of this Hawaii-themed Xmas classic\\n\\nAs for the title:\\n\\nThe song takes its title from the Hawaiian phrase, “Mele K...</td>\n      <td>[]</td>\n      <td>[]</td>\n      <td>7</td>\n      <td>1</td>\n      <td>tl</td>\n      <td>0.999996</td>\n    </tr>\n  </tbody>\n</table>\n<p>114 rows × 19 columns</p>\n</div>"
     },
     "execution_count": 15,
     "metadata": {},
     "output_type": "execute_result"
    }
   ],
   "source": [
    "pd.set_option('display.max_colwidth', 150)\n",
    "lyrics_non_english = lyrics.loc[lyrics['language'] != 'en']\n",
    "lyrics_non_english"
   ],
   "metadata": {
    "collapsed": false,
    "pycharm": {
     "name": "#%%\n"
    }
   }
  },
  {
   "cell_type": "code",
   "execution_count": 16,
   "outputs": [],
   "source": [
    "# lyrics_english = lyrics.loc[(lyrics['language'] == 'en') & (lyrics['language_sent'] == 'en')]\n",
    "lyrics_english = lyrics.loc[(lyrics['language'] == 'en')]\n"
   ],
   "metadata": {
    "collapsed": false,
    "pycharm": {
     "name": "#%%\n"
    }
   }
  },
  {
   "cell_type": "code",
   "execution_count": 17,
   "outputs": [],
   "source": [
    "lyrics.to_excel('../../data/output/bb-t100-lyrics_new.xlsx')\n",
    "lyrics.to_csv('../../data/lyrics/bb-t100-lyrics_new.csv')"
   ],
   "metadata": {
    "collapsed": false,
    "pycharm": {
     "name": "#%%\n"
    }
   }
  },
  {
   "cell_type": "code",
   "execution_count": 18,
   "outputs": [
    {
     "data": {
      "text/plain": "Index(['billboard_id', 'artist', 'first_artist', 'song', 'weeks_on_chart',\n       'peak_rank', 'lyrics', 'url', 'url_first_word', 'artist_first_word',\n       'lyrics_id'],\n      dtype='object')"
     },
     "execution_count": 18,
     "metadata": {},
     "output_type": "execute_result"
    }
   ],
   "source": [
    "invalid_lyrics = pd.read_excel('..\\..\\data\\output\\lyrics_invalid.xlsx', index_col=0)\n",
    "invalid_lyrics['lyrics_id'] = invalid_lyrics.index\n",
    "invalid_lyrics.rename(columns={'id' : 'billboard_id'}, inplace=True)\n",
    "invalid_lyrics.columns"
   ],
   "metadata": {
    "collapsed": false,
    "pycharm": {
     "name": "#%%\n"
    }
   }
  },
  {
   "cell_type": "code",
   "execution_count": 19,
   "outputs": [
    {
     "name": "stdout",
     "output_type": "stream",
     "text": [
      "\\begin{tabular}{rrlll}\n",
      "\\toprule\n",
      " billboard\\_id &  lyrics\\_id &                                             artist &             song &                                                                                                                                                 lyrics \\\\\n",
      "\\midrule\n",
      "         6822 &       1321 &                                  twenty one pilots & Level Of Concern &                                                                                                                                                !Error! \\\\\n",
      "         8299 &        506 &                                            J. Cole &   the.climb.back &                                                                                                                                               !NoSong! \\\\\n",
      "         9707 &         97 & Ariana Grande Feat. Doja Cat \\& Megan Thee Stallion &            34+35 & Mmm\\textbackslash n\\textbackslash nPensarás que estoy loca\\textbackslash nPor la forma en que he lo estado deseando\\textbackslash nSi lo pongo bien claro\\textbackslash nSolo dame bebés\\textbackslash nEntonces, ¿qué harás esta noche... \\\\\n",
      "\\bottomrule\n",
      "\\end{tabular}\n",
      "\n"
     ]
    }
   ],
   "source": [
    "pd.set_option('display.max_colwidth', 150)\n",
    "invalid_lyrics_example = invalid_lyrics[['billboard_id', 'lyrics_id', 'artist', 'song', 'lyrics']].loc[[1321, 506, 97]]\n",
    "invalid_lyrics_example.reset_index(drop=True, inplace=True)\n",
    "print(invalid_lyrics_example.to_latex(index=False))"
   ],
   "metadata": {
    "collapsed": false,
    "pycharm": {
     "name": "#%%\n"
    }
   }
  },
  {
   "cell_type": "code",
   "execution_count": 20,
   "outputs": [
    {
     "name": "stdout",
     "output_type": "stream",
     "text": [
      "\\begin{tabular}{rrlllrrl}\n",
      "\\toprule\n",
      " billboard\\_id &  lyrics\\_id &                 artist &  first\\_artist &                                          song &  weeks\\_on\\_chart &  peak\\_rank &                                                                                                                                                 lyrics \\\\\n",
      "\\midrule\n",
      "            0 &          0 &          Ariana Grande & Ariana Grande &                                 Thank U, Next &            28.0 &        1.0 & Thought I'd end up with Sean\\textbackslash nBut he wasn't a match\\textbackslash nWrote some songs about Ricky\\textbackslash nNow I listen and laugh\\textbackslash nEven almost got married\\textbackslash nAnd for Pete, I... \\\\\n",
      "            1 &          1 &                 Halsey &        Halsey &                                    Without Me &            52.0 &        1.0 & Found you when your heart was broke\\textbackslash nI filled your cup until it overflowed\\textbackslash nTook it so far to keep you close (Keep you close)\\textbackslash nI was afraid to leav... \\\\\n",
      "            2 &          2 &           Mariah Carey &  Mariah Carey &               All I Want For Christmas Is You &            43.0 &        1.0 & I don't want a lot for Christmas\\textbackslash nThere is just one thing I need\\textbackslash nI don't care about the presents\\textbackslash nUnderneath the Christmas tree\\textbackslash nI just want you f... \\\\\n",
      "            3 &          3 &           Travis Scott &  Travis Scott &                                    Sicko Mode &            52.0 &        1.0 & Astro, yeah\\textbackslash nSun is down, freezin' cold\\textbackslash nThat's how we already know, winter's here\\textbackslash nMy dawg would probably do it for a Louis belt\\textbackslash nThat's just all ... \\\\\n",
      "            4 &          4 & Post Malone \\& Swae Lee &   Post Malone & Sunflower (Spider-Man: Into The Spider-Verse) &            53.0 &        1.0 & 1. Lil Nas X - INDUSTRY BABY (feat. Jack Harlow)\\textbackslash n2. Post Malone - Motley Crew\\textbackslash n3. Lil Tjay \\& 6LACK - Calling My Phone\\textbackslash n4. DaBaby - Red Light Green... \\\\\n",
      "\\bottomrule\n",
      "\\end{tabular}\n",
      "\n"
     ]
    }
   ],
   "source": [
    "lyrics_lat = lyrics[['billboard_id','lyrics_id', 'artist', 'first_artist', 'song', 'weeks_on_chart', 'peak_rank',\n",
    "       'lyrics']].head()\n",
    "\n",
    "print(lyrics_lat.to_latex(index=False))"
   ],
   "metadata": {
    "collapsed": false,
    "pycharm": {
     "name": "#%%\n"
    }
   }
  },
  {
   "cell_type": "markdown",
   "source": [
    "## Preparing Corona Lyrics"
   ],
   "metadata": {
    "collapsed": false
   }
  },
  {
   "cell_type": "code",
   "execution_count": null,
   "outputs": [],
   "source": [
    "corona_lyrics = pd.read_excel('../../data/input/corona-lyrics.xlsx')\n",
    "corona_lyrics.head()"
   ],
   "metadata": {
    "collapsed": false,
    "pycharm": {
     "name": "#%%\n"
    }
   }
  },
  {
   "cell_type": "code",
   "execution_count": 22,
   "outputs": [],
   "source": [
    "def get_lines(lyrics):\n",
    "    lines = []\n",
    "    list = lyrics.split('\\n')\n",
    "    for line in list:\n",
    "        if len(line) > 0:\n",
    "            line = line.replace('\\u2005', ' ').replace('\\u205f', ' ')\n",
    "            lines.append(line.lower())\n",
    "    return lines\n",
    "\n"
   ],
   "metadata": {
    "collapsed": false,
    "pycharm": {
     "name": "#%%\n"
    }
   }
  },
  {
   "cell_type": "code",
   "execution_count": 23,
   "outputs": [],
   "source": [
    "corona_lines = pd.DataFrame(columns=['line', 'artist', 'song'])\n",
    "\n",
    "for row in corona_lyrics.itertuples():\n",
    "    df = pd.DataFrame(columns=['line', 'artist', 'song'])\n",
    "    artist = row[1]\n",
    "    song = row[2]\n",
    "    lyrics = row[3]\n",
    "    lines = get_lines(lyrics)\n",
    "    df['line'] = lines\n",
    "    df['artist'] = artist\n",
    "    df['song'] = song\n",
    "    corona_lines = corona_lines.append(df, ignore_index=True)"
   ],
   "metadata": {
    "collapsed": false,
    "pycharm": {
     "name": "#%%\n"
    }
   }
  },
  {
   "cell_type": "code",
   "execution_count": 24,
   "outputs": [
    {
     "data": {
      "text/plain": "                                                                                                 line  \\\n0                                                                            thank you's don't cut it   \n1                                                                              i mean what do you get   \n2                                                             for the one who sees a crowd running up   \n3                                                                          and then decides to run in   \n4                                                                                its grace under fire   \n...                                                                                               ...   \n1814                       just like you wanna stick a dick up in me, i want some motherfuckin' money   \n1815  and don't get in your motherfuckin' feelings when you see me in the motherfuckin' club randomly   \n1816                                                      and one of your niggas wanna get down on me   \n1817                                  and i wanna give them some pussy 'cause they gave me some money   \n1818                                                                      know what i mean? it's easy   \n\n                                        artist  \\\n0                                Adam Hambrick   \n1                                Adam Hambrick   \n2                                Adam Hambrick   \n3                                Adam Hambrick   \n4                                Adam Hambrick   \n...                                        ...   \n1814  21 Savage & Metro Boomin Featuring Drake   \n1815  21 Savage & Metro Boomin Featuring Drake   \n1816  21 Savage & Metro Boomin Featuring Drake   \n1817  21 Savage & Metro Boomin Featuring Drake   \n1818  21 Savage & Metro Boomin Featuring Drake   \n\n                                     song  \n0     Between Me and the End of the World  \n1     Between Me and the End of the World  \n2     Between Me and the End of the World  \n3     Between Me and the End of the World  \n4     Between Me and the End of the World  \n...                                   ...  \n1814                        Mr. Right Now  \n1815                        Mr. Right Now  \n1816                        Mr. Right Now  \n1817                        Mr. Right Now  \n1818                        Mr. Right Now  \n\n[1819 rows x 3 columns]",
      "text/html": "<div>\n<style scoped>\n    .dataframe tbody tr th:only-of-type {\n        vertical-align: middle;\n    }\n\n    .dataframe tbody tr th {\n        vertical-align: top;\n    }\n\n    .dataframe thead th {\n        text-align: right;\n    }\n</style>\n<table border=\"1\" class=\"dataframe\">\n  <thead>\n    <tr style=\"text-align: right;\">\n      <th></th>\n      <th>line</th>\n      <th>artist</th>\n      <th>song</th>\n    </tr>\n  </thead>\n  <tbody>\n    <tr>\n      <th>0</th>\n      <td>thank you's don't cut it</td>\n      <td>Adam Hambrick</td>\n      <td>Between Me and the End of the World</td>\n    </tr>\n    <tr>\n      <th>1</th>\n      <td>i mean what do you get</td>\n      <td>Adam Hambrick</td>\n      <td>Between Me and the End of the World</td>\n    </tr>\n    <tr>\n      <th>2</th>\n      <td>for the one who sees a crowd running up</td>\n      <td>Adam Hambrick</td>\n      <td>Between Me and the End of the World</td>\n    </tr>\n    <tr>\n      <th>3</th>\n      <td>and then decides to run in</td>\n      <td>Adam Hambrick</td>\n      <td>Between Me and the End of the World</td>\n    </tr>\n    <tr>\n      <th>4</th>\n      <td>its grace under fire</td>\n      <td>Adam Hambrick</td>\n      <td>Between Me and the End of the World</td>\n    </tr>\n    <tr>\n      <th>...</th>\n      <td>...</td>\n      <td>...</td>\n      <td>...</td>\n    </tr>\n    <tr>\n      <th>1814</th>\n      <td>just like you wanna stick a dick up in me, i want some motherfuckin' money</td>\n      <td>21 Savage &amp; Metro Boomin Featuring Drake</td>\n      <td>Mr. Right Now</td>\n    </tr>\n    <tr>\n      <th>1815</th>\n      <td>and don't get in your motherfuckin' feelings when you see me in the motherfuckin' club randomly</td>\n      <td>21 Savage &amp; Metro Boomin Featuring Drake</td>\n      <td>Mr. Right Now</td>\n    </tr>\n    <tr>\n      <th>1816</th>\n      <td>and one of your niggas wanna get down on me</td>\n      <td>21 Savage &amp; Metro Boomin Featuring Drake</td>\n      <td>Mr. Right Now</td>\n    </tr>\n    <tr>\n      <th>1817</th>\n      <td>and i wanna give them some pussy 'cause they gave me some money</td>\n      <td>21 Savage &amp; Metro Boomin Featuring Drake</td>\n      <td>Mr. Right Now</td>\n    </tr>\n    <tr>\n      <th>1818</th>\n      <td>know what i mean? it's easy</td>\n      <td>21 Savage &amp; Metro Boomin Featuring Drake</td>\n      <td>Mr. Right Now</td>\n    </tr>\n  </tbody>\n</table>\n<p>1819 rows × 3 columns</p>\n</div>"
     },
     "execution_count": 24,
     "metadata": {},
     "output_type": "execute_result"
    }
   ],
   "source": [
    "corona_lines.drop_duplicates(inplace=True, ignore_index=True)\n",
    "corona_lines"
   ],
   "metadata": {
    "collapsed": false,
    "pycharm": {
     "name": "#%%\n"
    }
   }
  },
  {
   "cell_type": "code",
   "execution_count": 25,
   "outputs": [],
   "source": [
    "corona_keywords = ['corona', 'coronavirus', 'pandemic', 'quarantine', 'sars', 'disease', 'social', 'distance', 'distancing', 'flatten',\n",
    "                   'curve', 'home', 'sanitizing', 'covid', 'germs', 'vaccination', 'isolation', 'virus', 'inside']\n",
    "def is_corona_line(keywords):\n",
    "    for word in corona_keywords:\n",
    "        if word in keywords:\n",
    "            return True\n",
    "    return  False"
   ],
   "metadata": {
    "collapsed": false,
    "pycharm": {
     "name": "#%%\n"
    }
   }
  },
  {
   "cell_type": "code",
   "execution_count": 26,
   "outputs": [],
   "source": [
    "corona_lines['corona'] = corona_lines['line'].apply(lambda line: is_corona_line(line))"
   ],
   "metadata": {
    "collapsed": false,
    "pycharm": {
     "name": "#%%\n"
    }
   }
  },
  {
   "cell_type": "code",
   "execution_count": 27,
   "outputs": [
    {
     "data": {
      "text/plain": "                                                                     line  \\\n1390  solitary diamonds for my dawg inside, he waited, yeah (straight up)   \n1132                   why would a disease come around when you get rich?   \n319                                        and call this isolation a date   \n1430         it's like pneumonia symptoms and contracting covid instantly   \n89                                                     gotta defeat covid   \n...                                                                   ...   \n629                                           probably over-wash my hands   \n628                                     watch a ball game from the stands   \n627                                            catch a movie, catch a cab   \n626                                             pay some extra on the tab   \n1818                                          know what i mean? it's easy   \n\n                                        artist                 song  corona  \n1390             Future Featuring Travis Scott           Solitaires    True  \n1132               Turbo, Gunna and Young Thug     Quarantine Clean    True  \n319                          Drive-by Truckers  Quarantine Together    True  \n1430                                    Eminem                 Gnat    True  \n89                                 Alicia Keys             My House    True  \n...                                        ...                  ...     ...  \n629                                 Luke Combs       Six Feet Apart   False  \n628                                 Luke Combs       Six Feet Apart   False  \n627                                 Luke Combs       Six Feet Apart   False  \n626                                 Luke Combs       Six Feet Apart   False  \n1818  21 Savage & Metro Boomin Featuring Drake        Mr. Right Now   False  \n\n[1819 rows x 4 columns]",
      "text/html": "<div>\n<style scoped>\n    .dataframe tbody tr th:only-of-type {\n        vertical-align: middle;\n    }\n\n    .dataframe tbody tr th {\n        vertical-align: top;\n    }\n\n    .dataframe thead th {\n        text-align: right;\n    }\n</style>\n<table border=\"1\" class=\"dataframe\">\n  <thead>\n    <tr style=\"text-align: right;\">\n      <th></th>\n      <th>line</th>\n      <th>artist</th>\n      <th>song</th>\n      <th>corona</th>\n    </tr>\n  </thead>\n  <tbody>\n    <tr>\n      <th>1390</th>\n      <td>solitary diamonds for my dawg inside, he waited, yeah (straight up)</td>\n      <td>Future Featuring Travis Scott</td>\n      <td>Solitaires</td>\n      <td>True</td>\n    </tr>\n    <tr>\n      <th>1132</th>\n      <td>why would a disease come around when you get rich?</td>\n      <td>Turbo, Gunna and Young Thug</td>\n      <td>Quarantine Clean</td>\n      <td>True</td>\n    </tr>\n    <tr>\n      <th>319</th>\n      <td>and call this isolation a date</td>\n      <td>Drive-by Truckers</td>\n      <td>Quarantine Together</td>\n      <td>True</td>\n    </tr>\n    <tr>\n      <th>1430</th>\n      <td>it's like pneumonia symptoms and contracting covid instantly</td>\n      <td>Eminem</td>\n      <td>Gnat</td>\n      <td>True</td>\n    </tr>\n    <tr>\n      <th>89</th>\n      <td>gotta defeat covid</td>\n      <td>Alicia Keys</td>\n      <td>My House</td>\n      <td>True</td>\n    </tr>\n    <tr>\n      <th>...</th>\n      <td>...</td>\n      <td>...</td>\n      <td>...</td>\n      <td>...</td>\n    </tr>\n    <tr>\n      <th>629</th>\n      <td>probably over-wash my hands</td>\n      <td>Luke Combs</td>\n      <td>Six Feet Apart</td>\n      <td>False</td>\n    </tr>\n    <tr>\n      <th>628</th>\n      <td>watch a ball game from the stands</td>\n      <td>Luke Combs</td>\n      <td>Six Feet Apart</td>\n      <td>False</td>\n    </tr>\n    <tr>\n      <th>627</th>\n      <td>catch a movie, catch a cab</td>\n      <td>Luke Combs</td>\n      <td>Six Feet Apart</td>\n      <td>False</td>\n    </tr>\n    <tr>\n      <th>626</th>\n      <td>pay some extra on the tab</td>\n      <td>Luke Combs</td>\n      <td>Six Feet Apart</td>\n      <td>False</td>\n    </tr>\n    <tr>\n      <th>1818</th>\n      <td>know what i mean? it's easy</td>\n      <td>21 Savage &amp; Metro Boomin Featuring Drake</td>\n      <td>Mr. Right Now</td>\n      <td>False</td>\n    </tr>\n  </tbody>\n</table>\n<p>1819 rows × 4 columns</p>\n</div>"
     },
     "execution_count": 27,
     "metadata": {},
     "output_type": "execute_result"
    }
   ],
   "source": [
    "corona_lines.sort_values(by='corona', inplace=True, ascending=False)\n",
    "corona_lines"
   ],
   "metadata": {
    "collapsed": false,
    "pycharm": {
     "name": "#%%\n"
    }
   }
  },
  {
   "cell_type": "code",
   "execution_count": 28,
   "outputs": [],
   "source": [
    "corona_lines.to_excel('../../data/input/corona_lines_3.xlsx')"
   ],
   "metadata": {
    "collapsed": false,
    "pycharm": {
     "name": "#%%\n"
    }
   }
  }
 ],
 "metadata": {
  "kernelspec": {
   "display_name": "Python 3",
   "language": "python",
   "name": "python3"
  },
  "language_info": {
   "codemirror_mode": {
    "name": "ipython",
    "version": 2
   },
   "file_extension": ".py",
   "mimetype": "text/x-python",
   "name": "python",
   "nbconvert_exporter": "python",
   "pygments_lexer": "ipython2",
   "version": "2.7.6"
  }
 },
 "nbformat": 4,
 "nbformat_minor": 0
}