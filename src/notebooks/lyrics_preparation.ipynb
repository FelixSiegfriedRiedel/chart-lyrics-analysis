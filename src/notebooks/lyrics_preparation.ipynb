{
 "cells": [
  {
   "cell_type": "code",
   "execution_count": 2,
   "outputs": [
    {
     "name": "stdout",
     "output_type": "stream",
     "text": [
      "../../data/lyrics/artist_song_lyrics.csv\n",
      "../../data/lyrics/bb-t100-lyrics.csv\n",
      "../../data/lyrics/corona-lyrics.csv\n",
      "../../data/lyrics/lyrics_invalid.json\n",
      "../../data/lyrics/lyrics_invalid_updated.csv\n",
      "../../data/lyrics/backups/artist_song_lyrics_bak.csv\n"
     ]
    }
   ],
   "source": [
    "import numpy as np # linear algebra\n",
    "import pandas as pd # data processing, CSV file I/O (e.g. pd.read_csv)\n",
    "import seaborn as sns\n",
    "import matplotlib.pyplot as plt\n",
    "import datetime\n",
    "import os\n",
    "for dirname, _, filenames in os.walk('../../data/lyrics'):\n",
    "    for filename in filenames:\n",
    "        print(os.path.join(dirname, filename).replace(\"\\\\\",\"/\"))\n",
    "\n",
    "\n",
    "from src.progress_bar import printProgressBar"
   ],
   "metadata": {
    "collapsed": false,
    "pycharm": {
     "name": "#%%\n"
    }
   }
  },
  {
   "cell_type": "markdown",
   "source": [
    "## Preparing Billboard Lyrics"
   ],
   "metadata": {
    "collapsed": false,
    "pycharm": {
     "name": "#%% md\n"
    }
   }
  },
  {
   "cell_type": "code",
   "execution_count": null,
   "outputs": [],
   "source": [
    "lyrics = pd.read_csv('../../data/lyrics/artist_song_lyrics.csv', encoding='utf-8', index_col=0)\n",
    "lyrics.head()\n"
   ],
   "metadata": {
    "collapsed": false,
    "pycharm": {
     "name": "#%%\n"
    }
   }
  },
  {
   "cell_type": "code",
   "execution_count": 4,
   "outputs": [
    {
     "data": {
      "text/plain": "        id                                        artist  \\\n1316    20                 benny blanco, Halsey & Khalid   \n1317  1092  benny blanco, Tainy, Selena Gomez & J Balvin   \n1318  3890                                     blackbear   \n1319  3693                            for KING & COUNTRY   \n1321  6822                             twenty one pilots   \n\n                           first_artist                song  weeks_on_chart  \\\n1316               benny blanco, Halsey            Eastside              52   \n1317  benny blanco, Tainy, Selena Gomez  I Can't Get Enough               5   \n1318                          blackbear     Hot Girl Bummer              42   \n1319                           for KING      God Only Knows               1   \n1321                  twenty one pilots    Level Of Concern              11   \n\n      peak_rank                                             lyrics  \\\n1316          9  Uh\\nYeah, yeah\\n\\nWhen I was young, I fell in ...   \n1317         66  Crazy\\nI like that, you like that, so let's be...   \n1318         11  Fuck you, and you, and you\\nI hate your friend...   \n1319         94  Wide awake while the world is sound asleepin'\\...   \n1321         23  Need you, tell me\\nNeed you, tell me\\n\\nPanic ...   \n\n                                                    url url_first_word  \\\n1316  https://genius.com/Benny-blanco-halsey-and-kha...                  \n1317  https://genius.com/Benny-blanco-tainy-selena-g...                  \n1318  https://genius.com/Blackbear-hot-girl-bummer-l...                  \n1319  https://genius.com/For-king-and-country-god-on...                  \n1321  https://genius.com/Twenty-one-pilots-level-of-...                  \n\n     artist_first_word  \n1316             benny  \n1317             benny  \n1318         blackbear  \n1319               for  \n1321            twenty  ",
      "text/html": "<div>\n<style scoped>\n    .dataframe tbody tr th:only-of-type {\n        vertical-align: middle;\n    }\n\n    .dataframe tbody tr th {\n        vertical-align: top;\n    }\n\n    .dataframe thead th {\n        text-align: right;\n    }\n</style>\n<table border=\"1\" class=\"dataframe\">\n  <thead>\n    <tr style=\"text-align: right;\">\n      <th></th>\n      <th>id</th>\n      <th>artist</th>\n      <th>first_artist</th>\n      <th>song</th>\n      <th>weeks_on_chart</th>\n      <th>peak_rank</th>\n      <th>lyrics</th>\n      <th>url</th>\n      <th>url_first_word</th>\n      <th>artist_first_word</th>\n    </tr>\n  </thead>\n  <tbody>\n    <tr>\n      <th>1316</th>\n      <td>20</td>\n      <td>benny blanco, Halsey &amp; Khalid</td>\n      <td>benny blanco, Halsey</td>\n      <td>Eastside</td>\n      <td>52</td>\n      <td>9</td>\n      <td>Uh\\nYeah, yeah\\n\\nWhen I was young, I fell in ...</td>\n      <td>https://genius.com/Benny-blanco-halsey-and-kha...</td>\n      <td></td>\n      <td>benny</td>\n    </tr>\n    <tr>\n      <th>1317</th>\n      <td>1092</td>\n      <td>benny blanco, Tainy, Selena Gomez &amp; J Balvin</td>\n      <td>benny blanco, Tainy, Selena Gomez</td>\n      <td>I Can't Get Enough</td>\n      <td>5</td>\n      <td>66</td>\n      <td>Crazy\\nI like that, you like that, so let's be...</td>\n      <td>https://genius.com/Benny-blanco-tainy-selena-g...</td>\n      <td></td>\n      <td>benny</td>\n    </tr>\n    <tr>\n      <th>1318</th>\n      <td>3890</td>\n      <td>blackbear</td>\n      <td>blackbear</td>\n      <td>Hot Girl Bummer</td>\n      <td>42</td>\n      <td>11</td>\n      <td>Fuck you, and you, and you\\nI hate your friend...</td>\n      <td>https://genius.com/Blackbear-hot-girl-bummer-l...</td>\n      <td></td>\n      <td>blackbear</td>\n    </tr>\n    <tr>\n      <th>1319</th>\n      <td>3693</td>\n      <td>for KING &amp; COUNTRY</td>\n      <td>for KING</td>\n      <td>God Only Knows</td>\n      <td>1</td>\n      <td>94</td>\n      <td>Wide awake while the world is sound asleepin'\\...</td>\n      <td>https://genius.com/For-king-and-country-god-on...</td>\n      <td></td>\n      <td>for</td>\n    </tr>\n    <tr>\n      <th>1321</th>\n      <td>6822</td>\n      <td>twenty one pilots</td>\n      <td>twenty one pilots</td>\n      <td>Level Of Concern</td>\n      <td>11</td>\n      <td>23</td>\n      <td>Need you, tell me\\nNeed you, tell me\\n\\nPanic ...</td>\n      <td>https://genius.com/Twenty-one-pilots-level-of-...</td>\n      <td></td>\n      <td>twenty</td>\n    </tr>\n  </tbody>\n</table>\n</div>"
     },
     "execution_count": 4,
     "metadata": {},
     "output_type": "execute_result"
    }
   ],
   "source": [
    "lyrics_updated = pd.read_csv('../../data/lyrics/lyrics_invalid_updated.csv', encoding='utf-8', index_col=0)\n",
    "lyrics_updated.to_excel('../../data/output/lyrics_updated.xlsx')\n",
    "lyrics_updated = lyrics_updated.fillna(\" \")\n",
    "lyrics_updated.tail()\n"
   ],
   "metadata": {
    "collapsed": false,
    "pycharm": {
     "name": "#%%\n"
    }
   }
  },
  {
   "cell_type": "code",
   "execution_count": 5,
   "outputs": [
    {
     "data": {
      "text/plain": "id                                                            10194\nartist                                             Carrie Underwood\nfirst_artist                                       Carrie Underwood\nsong                                          Favorite Time Of Year\nweeks_on_chart                                                    4\npeak_rank                                                        62\nlyrics            Last updated: 10/6/2018, 5:16PM MSTOctoberOcto...\nurl               https://genius.com/Gerald-haywood-2018-haywood...\nName: 231, dtype: object"
     },
     "execution_count": 5,
     "metadata": {},
     "output_type": "execute_result"
    }
   ],
   "source": [
    "lyrics.iloc[231]"
   ],
   "metadata": {
    "collapsed": false,
    "pycharm": {
     "name": "#%%\n"
    }
   }
  },
  {
   "cell_type": "code",
   "execution_count": 6,
   "outputs": [
    {
     "data": {
      "text/plain": "id                              10194.0\nartist                 Carrie Underwood\nfirst_artist           Carrie Underwood\nsong              Favorite Time Of Year\nweeks_on_chart                      4.0\npeak_rank                          62.0\nlyrics                          !Error!\nurl                                    \nName: 231, dtype: object"
     },
     "execution_count": 6,
     "metadata": {},
     "output_type": "execute_result"
    }
   ],
   "source": [
    "lyrics.update(lyrics_updated)\n",
    "lyrics.iloc[231]"
   ],
   "metadata": {
    "collapsed": false,
    "pycharm": {
     "name": "#%%\n"
    }
   }
  },
  {
   "cell_type": "code",
   "execution_count": 7,
   "outputs": [],
   "source": [
    "def clean_string(string):\n",
    "    i = string.find('EmbedShare URLCopyEmbedCopy')\n",
    "    if i == 0:\n",
    "        return string\n",
    "    i -=1\n",
    "    while i > 0 and string[i].isdigit():\n",
    "        i -=1\n",
    "    return string[:i+1]\n",
    "\n",
    "lyrics['lyrics'] = lyrics['lyrics'].apply(lambda string: clean_string(string))\n"
   ],
   "metadata": {
    "collapsed": false,
    "pycharm": {
     "name": "#%%\n"
    }
   }
  },
  {
   "cell_type": "code",
   "execution_count": 8,
   "outputs": [
    {
     "name": "stdout",
     "output_type": "stream",
     "text": [
      "(1322, 8)\n",
      "Index(['id', 'artist', 'first_artist', 'song', 'weeks_on_chart', 'peak_rank',\n",
      "       'lyrics', 'url'],\n",
      "      dtype='object')\n"
     ]
    }
   ],
   "source": [
    "print(lyrics.shape)\n",
    "print(lyrics.columns)"
   ],
   "metadata": {
    "collapsed": false,
    "pycharm": {
     "name": "#%%\n"
    }
   }
  },
  {
   "cell_type": "code",
   "execution_count": 9,
   "metadata": {
    "collapsed": true
   },
   "outputs": [],
   "source": [
    "import spacy\n",
    "from spacy.language import Language\n",
    "from langdetect import DetectorFactory\n",
    "from spacy_langdetect import LanguageDetector\n",
    "\n",
    "@Language.factory(\"language_detector\")\n",
    "def create_language_detector(nlp, name):\n",
    "   return LanguageDetector(language_detection_function=None)\n",
    "#"
   ]
  },
  {
   "cell_type": "code",
   "source": [
    "nlp = spacy.load(\"en_core_web_lg\")\n",
    "nlp.add_pipe('language_detector')"
   ],
   "metadata": {
    "collapsed": false,
    "pycharm": {
     "name": "#%%\n"
    }
   },
   "execution_count": 10,
   "outputs": [
    {
     "data": {
      "text/plain": "<spacy_langdetect.spacy_langdetect.LanguageDetector at 0x258d1fd6250>"
     },
     "execution_count": 10,
     "metadata": {},
     "output_type": "execute_result"
    }
   ]
  },
  {
   "cell_type": "code",
   "execution_count": 12,
   "outputs": [],
   "source": [
    "#document level\n",
    "def detect_language(text, nlp):\n",
    "    DetectorFactory.seed = 0\n",
    "    if type(text) == str:\n",
    "        doc = nlp(text)\n",
    "        result = doc._.language['language'], doc._.language['score']\n",
    "    else:\n",
    "        result = {'-': -1}\n",
    "    return result\n",
    "\n",
    "\n",
    "# Retrieve data from cache to save time\n",
    "try:\n",
    "    languages = pd.read_csv('../../data/cache/lyrics_preparation_language.csv', index_col=0)\n",
    "    scores = pd.read_csv('../../data/cache/lyrics_preparation_language_score.csv', index_col=0)\n",
    "except:\n",
    "    languages = []\n",
    "    scores = []\n",
    "    l = len(lyrics)\n",
    "\n",
    "    printProgressBar(0, l+1, prefix = 'Progress:', suffix = 'Complete', length = 50)\n",
    "    for i in range(0,l):\n",
    "        language, score = detect_language(lyrics.loc[i, 'lyrics'], nlp)\n",
    "        languages.append(language)\n",
    "        scores.append(score)\n",
    "        printProgressBar(i+1, l, prefix = 'Progress:', suffix = 'Complete', length = 50)\n",
    "\n",
    "lyrics['language'] = languages\n",
    "lyrics['language_score'] = scores\n",
    "lyrics['language'].to_csv('../../data/cache/lyrics_preparation_language.csv')\n",
    "lyrics['language_score'].to_csv('../../data/cache/lyrics_preparation_language_score.csv')"
   ],
   "metadata": {
    "collapsed": false,
    "pycharm": {
     "name": "#%%\n"
    }
   }
  },
  {
   "cell_type": "code",
   "execution_count": 13,
   "outputs": [],
   "source": [
    "lyrics['length'] = lyrics['lyrics'].apply(lambda string: len(str(string)))\n",
    "lyrics['word_count'] = lyrics['lyrics'].apply(lambda string: len(str(string).split()))"
   ],
   "metadata": {
    "collapsed": false,
    "pycharm": {
     "name": "#%%\n"
    }
   }
  },
  {
   "cell_type": "code",
   "execution_count": 14,
   "outputs": [
    {
     "name": "stdout",
     "output_type": "stream",
     "text": [
      "<class 'pandas.core.frame.DataFrame'>\n",
      "Int64Index: 1322 entries, 0 to 1321\n",
      "Data columns (total 13 columns):\n",
      " #   Column          Non-Null Count  Dtype  \n",
      "---  ------          --------------  -----  \n",
      " 0   id              1322 non-null   float64\n",
      " 1   artist          1322 non-null   object \n",
      " 2   first_artist    1322 non-null   object \n",
      " 3   song            1322 non-null   object \n",
      " 4   weeks_on_chart  1322 non-null   float64\n",
      " 5   peak_rank       1322 non-null   float64\n",
      " 6   lyrics          1322 non-null   object \n",
      " 7   url             1322 non-null   object \n",
      " 8   languages_sent  1322 non-null   object \n",
      " 9   language        1322 non-null   object \n",
      " 10  language_score  1322 non-null   float64\n",
      " 11  length          1322 non-null   int64  \n",
      " 12  word_count      1322 non-null   int64  \n",
      "dtypes: float64(4), int64(2), object(7)\n",
      "memory usage: 144.6+ KB\n"
     ]
    }
   ],
   "source": [
    "lyrics.info()\n"
   ],
   "metadata": {
    "collapsed": false,
    "pycharm": {
     "name": "#%%\n"
    }
   }
  },
  {
   "cell_type": "code",
   "execution_count": 16,
   "outputs": [
    {
     "data": {
      "text/plain": "      billboard_id  lyrics_id                  artist   first_artist  \\\n0                0          0           Ariana Grande  Ariana Grande   \n1                1          1                  Halsey         Halsey   \n2                2          2            Mariah Carey   Mariah Carey   \n3                3          3            Travis Scott   Travis Scott   \n4                4          4  Post Malone & Swae Lee    Post Malone   \n...            ...        ...                     ...            ...   \n1317         10459       1317                  Eminem         Eminem   \n1318         10477       1318           Gabby Barrett  Gabby Barrett   \n1319         10483       1319              Popp Hunna     Popp Hunna   \n1320         10492       1320                Lil Durk       Lil Durk   \n1321         10497       1321                     DDG            DDG   \n\n                                               song  weeks_on_chart  \\\n0                                     Thank U, Next            28.0   \n1                                        Without Me            52.0   \n2                   All I Want For Christmas Is You            43.0   \n3                                        Sicko Mode            52.0   \n4     Sunflower (Spider-Man: Into The Spider-Verse)            53.0   \n...                                             ...             ...   \n1317                                           Gnat             1.0   \n1318                                 The First Noel             1.0   \n1319                   Adderall (Corvette Corvette)             1.0   \n1320                                       Backdoor             1.0   \n1321                       Moonwalking In Calabasas             1.0   \n\n      peak_rank                                             lyrics  \\\n0           1.0  Thought I'd end up with Sean\\nBut he wasn't a ...   \n1           1.0  Found you when your heart was broke\\nI filled ...   \n2           1.0  I don't want a lot for Christmas\\nThere is jus...   \n3           1.0  Astro, yeah\\nSun is down, freezin' cold\\nThat'...   \n4           1.0  Ayy, ayy, ayy, ayy (Ooh)\\nOoh, ooh, ooh, ooh (...   \n...         ...                                                ...   \n1317       60.0  Yeah, yeah, sick\\n(d.a. got that dope)\\n\\nThey...   \n1318       78.0  The First Noel, the Angels did say\\nWas to cer...   \n1319       84.0  (Bitch)\\nCorvette, Corvette\\nHop in a motherfu...   \n1320       93.0  (Malik on the beat)\\n(Ayo Bleu)\\nNo, no, no, n...   \n1321       98.0  Ballin' since I was a jit\\nWay before Oakland ...   \n\n                                                    url  length  word_count  \\\n0     https://genius.com/Ariana-grande-thank-u-next-...    2409         460   \n1           https://genius.com/Halsey-without-me-lyrics    2095         435   \n2     https://genius.com/Mariah-carey-all-i-want-for...    1918         388   \n3     https://genius.com/Travis-scott-sicko-mode-lyrics    3943         771   \n4     https://genius.com/Post-malone-and-swae-lee-su...    1534         305   \n...                                                 ...     ...         ...   \n1317              https://genius.com/Eminem-gnat-lyrics    5762        1113   \n1318  https://genius.com/Gabby-barrett-the-first-noe...     666         132   \n1319  https://genius.com/Popp-hunna-adderall-corvett...    2366         515   \n1320        https://genius.com/Lil-durk-backdoor-lyrics    2778         547   \n1321  https://genius.com/Ddg-moonwalking-in-calabasa...    2786         549   \n\n     language  language_score                languages_sent language_sent  \\\n0          en        0.999997                     {'en': 8}            en   \n1          en        0.999995  {'en': 10, 'cy': 1, 'fi': 1}            en   \n2          en        0.999996           {'en': 16, 'et': 1}            en   \n3          en        0.999998                            {}                 \n4          en        0.999997   {'en': 3, 'tl': 1, 'so': 1}            en   \n...       ...             ...                           ...           ...   \n1317       en        0.999999                     {'en': 6}            en   \n1318       en        0.999996                     {'en': 6}            en   \n1319       en        0.999998                     {'en': 1}            en   \n1320       en        0.999996                            {}                 \n1321       en        0.999996                     {'en': 4}            en   \n\n      language_sent_weight  \n0                 1.000000  \n1                 0.833333  \n2                 0.941176  \n3                 0.000000  \n4                 0.600000  \n...                    ...  \n1317              1.000000  \n1318              1.000000  \n1319              1.000000  \n1320              0.000000  \n1321              1.000000  \n\n[1322 rows x 16 columns]",
      "text/html": "<div>\n<style scoped>\n    .dataframe tbody tr th:only-of-type {\n        vertical-align: middle;\n    }\n\n    .dataframe tbody tr th {\n        vertical-align: top;\n    }\n\n    .dataframe thead th {\n        text-align: right;\n    }\n</style>\n<table border=\"1\" class=\"dataframe\">\n  <thead>\n    <tr style=\"text-align: right;\">\n      <th></th>\n      <th>billboard_id</th>\n      <th>lyrics_id</th>\n      <th>artist</th>\n      <th>first_artist</th>\n      <th>song</th>\n      <th>weeks_on_chart</th>\n      <th>peak_rank</th>\n      <th>lyrics</th>\n      <th>url</th>\n      <th>length</th>\n      <th>word_count</th>\n      <th>language</th>\n      <th>language_score</th>\n      <th>languages_sent</th>\n      <th>language_sent</th>\n      <th>language_sent_weight</th>\n    </tr>\n  </thead>\n  <tbody>\n    <tr>\n      <th>0</th>\n      <td>0</td>\n      <td>0</td>\n      <td>Ariana Grande</td>\n      <td>Ariana Grande</td>\n      <td>Thank U, Next</td>\n      <td>28.0</td>\n      <td>1.0</td>\n      <td>Thought I'd end up with Sean\\nBut he wasn't a ...</td>\n      <td>https://genius.com/Ariana-grande-thank-u-next-...</td>\n      <td>2409</td>\n      <td>460</td>\n      <td>en</td>\n      <td>0.999997</td>\n      <td>{'en': 8}</td>\n      <td>en</td>\n      <td>1.000000</td>\n    </tr>\n    <tr>\n      <th>1</th>\n      <td>1</td>\n      <td>1</td>\n      <td>Halsey</td>\n      <td>Halsey</td>\n      <td>Without Me</td>\n      <td>52.0</td>\n      <td>1.0</td>\n      <td>Found you when your heart was broke\\nI filled ...</td>\n      <td>https://genius.com/Halsey-without-me-lyrics</td>\n      <td>2095</td>\n      <td>435</td>\n      <td>en</td>\n      <td>0.999995</td>\n      <td>{'en': 10, 'cy': 1, 'fi': 1}</td>\n      <td>en</td>\n      <td>0.833333</td>\n    </tr>\n    <tr>\n      <th>2</th>\n      <td>2</td>\n      <td>2</td>\n      <td>Mariah Carey</td>\n      <td>Mariah Carey</td>\n      <td>All I Want For Christmas Is You</td>\n      <td>43.0</td>\n      <td>1.0</td>\n      <td>I don't want a lot for Christmas\\nThere is jus...</td>\n      <td>https://genius.com/Mariah-carey-all-i-want-for...</td>\n      <td>1918</td>\n      <td>388</td>\n      <td>en</td>\n      <td>0.999996</td>\n      <td>{'en': 16, 'et': 1}</td>\n      <td>en</td>\n      <td>0.941176</td>\n    </tr>\n    <tr>\n      <th>3</th>\n      <td>3</td>\n      <td>3</td>\n      <td>Travis Scott</td>\n      <td>Travis Scott</td>\n      <td>Sicko Mode</td>\n      <td>52.0</td>\n      <td>1.0</td>\n      <td>Astro, yeah\\nSun is down, freezin' cold\\nThat'...</td>\n      <td>https://genius.com/Travis-scott-sicko-mode-lyrics</td>\n      <td>3943</td>\n      <td>771</td>\n      <td>en</td>\n      <td>0.999998</td>\n      <td>{}</td>\n      <td></td>\n      <td>0.000000</td>\n    </tr>\n    <tr>\n      <th>4</th>\n      <td>4</td>\n      <td>4</td>\n      <td>Post Malone &amp; Swae Lee</td>\n      <td>Post Malone</td>\n      <td>Sunflower (Spider-Man: Into The Spider-Verse)</td>\n      <td>53.0</td>\n      <td>1.0</td>\n      <td>Ayy, ayy, ayy, ayy (Ooh)\\nOoh, ooh, ooh, ooh (...</td>\n      <td>https://genius.com/Post-malone-and-swae-lee-su...</td>\n      <td>1534</td>\n      <td>305</td>\n      <td>en</td>\n      <td>0.999997</td>\n      <td>{'en': 3, 'tl': 1, 'so': 1}</td>\n      <td>en</td>\n      <td>0.600000</td>\n    </tr>\n    <tr>\n      <th>...</th>\n      <td>...</td>\n      <td>...</td>\n      <td>...</td>\n      <td>...</td>\n      <td>...</td>\n      <td>...</td>\n      <td>...</td>\n      <td>...</td>\n      <td>...</td>\n      <td>...</td>\n      <td>...</td>\n      <td>...</td>\n      <td>...</td>\n      <td>...</td>\n      <td>...</td>\n      <td>...</td>\n    </tr>\n    <tr>\n      <th>1317</th>\n      <td>10459</td>\n      <td>1317</td>\n      <td>Eminem</td>\n      <td>Eminem</td>\n      <td>Gnat</td>\n      <td>1.0</td>\n      <td>60.0</td>\n      <td>Yeah, yeah, sick\\n(d.a. got that dope)\\n\\nThey...</td>\n      <td>https://genius.com/Eminem-gnat-lyrics</td>\n      <td>5762</td>\n      <td>1113</td>\n      <td>en</td>\n      <td>0.999999</td>\n      <td>{'en': 6}</td>\n      <td>en</td>\n      <td>1.000000</td>\n    </tr>\n    <tr>\n      <th>1318</th>\n      <td>10477</td>\n      <td>1318</td>\n      <td>Gabby Barrett</td>\n      <td>Gabby Barrett</td>\n      <td>The First Noel</td>\n      <td>1.0</td>\n      <td>78.0</td>\n      <td>The First Noel, the Angels did say\\nWas to cer...</td>\n      <td>https://genius.com/Gabby-barrett-the-first-noe...</td>\n      <td>666</td>\n      <td>132</td>\n      <td>en</td>\n      <td>0.999996</td>\n      <td>{'en': 6}</td>\n      <td>en</td>\n      <td>1.000000</td>\n    </tr>\n    <tr>\n      <th>1319</th>\n      <td>10483</td>\n      <td>1319</td>\n      <td>Popp Hunna</td>\n      <td>Popp Hunna</td>\n      <td>Adderall (Corvette Corvette)</td>\n      <td>1.0</td>\n      <td>84.0</td>\n      <td>(Bitch)\\nCorvette, Corvette\\nHop in a motherfu...</td>\n      <td>https://genius.com/Popp-hunna-adderall-corvett...</td>\n      <td>2366</td>\n      <td>515</td>\n      <td>en</td>\n      <td>0.999998</td>\n      <td>{'en': 1}</td>\n      <td>en</td>\n      <td>1.000000</td>\n    </tr>\n    <tr>\n      <th>1320</th>\n      <td>10492</td>\n      <td>1320</td>\n      <td>Lil Durk</td>\n      <td>Lil Durk</td>\n      <td>Backdoor</td>\n      <td>1.0</td>\n      <td>93.0</td>\n      <td>(Malik on the beat)\\n(Ayo Bleu)\\nNo, no, no, n...</td>\n      <td>https://genius.com/Lil-durk-backdoor-lyrics</td>\n      <td>2778</td>\n      <td>547</td>\n      <td>en</td>\n      <td>0.999996</td>\n      <td>{}</td>\n      <td></td>\n      <td>0.000000</td>\n    </tr>\n    <tr>\n      <th>1321</th>\n      <td>10497</td>\n      <td>1321</td>\n      <td>DDG</td>\n      <td>DDG</td>\n      <td>Moonwalking In Calabasas</td>\n      <td>1.0</td>\n      <td>98.0</td>\n      <td>Ballin' since I was a jit\\nWay before Oakland ...</td>\n      <td>https://genius.com/Ddg-moonwalking-in-calabasa...</td>\n      <td>2786</td>\n      <td>549</td>\n      <td>en</td>\n      <td>0.999996</td>\n      <td>{'en': 4}</td>\n      <td>en</td>\n      <td>1.000000</td>\n    </tr>\n  </tbody>\n</table>\n<p>1322 rows × 16 columns</p>\n</div>"
     },
     "execution_count": 16,
     "metadata": {},
     "output_type": "execute_result"
    }
   ],
   "source": [
    "lyrics = lyrics.rename(columns={'id' : 'billboard_id'})\n",
    "lyrics['billboard_id'] = lyrics['billboard_id'].astype(int)\n",
    "lyrics.sort_values(by='billboard_id', inplace=True)\n",
    "lyrics.reset_index(inplace=True,drop=True)\n",
    "lyrics['lyrics_id'] = lyrics.index\n",
    "lyrics = lyrics[['billboard_id','lyrics_id', 'artist', 'first_artist', 'song', 'weeks_on_chart', 'peak_rank',\n",
    "       'lyrics', 'url', 'length', 'word_count', 'language', 'language_score']]\n",
    "\n",
    "lyrics"
   ],
   "metadata": {
    "collapsed": false,
    "pycharm": {
     "name": "#%%\n"
    }
   }
  },
  {
   "cell_type": "code",
   "execution_count": 17,
   "outputs": [
    {
     "data": {
      "text/plain": "      billboard_id  lyrics_id                     artist      first_artist  \\\n30              30         30  Bad Bunny Featuring Drake         Bad Bunny   \n91              91         91    Anuel AA & Romeo Santos          Anuel AA   \n100            131        100                   Pinkfong          Pinkfong   \n121            192        121                  Bad Bunny         Bad Bunny   \n147            467        147         Anuel AA & Karol G          Anuel AA   \n...            ...        ...                        ...               ...   \n1266         10180       1266                  Bad Bunny         Bad Bunny   \n1268         10186       1268                  Bad Bunny         Bad Bunny   \n1269         10193       1269                  Bad Bunny         Bad Bunny   \n1270         10194       1270           Carrie Underwood  Carrie Underwood   \n1288         10346       1288              Nat King Cole     Nat King Cole   \n\n                       song  weeks_on_chart  peak_rank  \\\n30                      MIA            27.0        5.0   \n91        Ella Quiere Beber            20.0       61.0   \n100              Baby Shark            20.0       32.0   \n121              Solo de Mi             1.0       93.0   \n147                 Secreto            11.0       68.0   \n...                     ...             ...        ...   \n1266              Hoy Cobre             1.0       81.0   \n1268        Maldita Pobreza             1.0       87.0   \n1269               La Droga             1.0       94.0   \n1270  Favorite Time Of Year             4.0       62.0   \n1288         Deck The Halls             2.0       43.0   \n\n                                                                                                                                                     lyrics  \\\n30    Bless them\\nAy, there ain't no second guess, then you done know so right now we carry di guess fi di gyal dem\\nBad Bunny, Drake, SP\\nBad Bunny, ba...   \n91    Check, check (Remix)\\nI'mma show you why I'm the king of this shit\\nUah\\n(KOB, Real Hasta La Muerte, baby)\\n\\nCuando una mujer decide ser mala y n...   \n100   Baby shark, doo doo doo doo doo doo\\nBaby shark, doo doo doo doo doo doo\\nBaby shark, doo doo doo doo doo doo\\nBaby shark!\\n\\nMommy shark, doo doo...   \n121   No me vuelvas a decir \"Bebé\" (¡No!)\\nYo no soy tuyo ni de nadie, yo soy sólo de mí\\nNo me vuelvas a decir \"Bebé\" (Yeh, eh)\\nYa tú lo sabe' que yo ...   \n147   Bebecita\\nBebe-bebecita, uah\\nBebecita\\n\\nLo de nosotro' e' un secreto, que nadie se entere (Uah)\\nBaby, yo siempre me vengo contigo cuando tú te ...   \n...                                                                                                                                                     ...   \n1266  Yeh-yeh-yeh, ey\\nBad Bunny, baby, be-bé\\nEy, ey\\n\\nHoy cobré y hoy mismo lo' vo'a explotar, ey\\nEl precio ni vo'a preguntar, ey\\nFumando en la Guc...   \n1268  Yo quiero comprarle un Ferrari a mi novia\\nPero no puedo, pero no puedo\\nYo quiero comprarle un Ferrari a mi novia\\nPero no puedo, no tengo dinero...   \n1269  Uh, uh-uh\\nUh-uh, uh-uh\\n\\nTú ere' la droga de la que mami me hablaba (¡Ey!)\\nLa que moría si probaba (¡Oh!)\\nY yo de idiota pensando que me amaba...   \n1270                                                                                                                                                 !Error   \n1288  Deck the halls with boughs of holly\\nFa-la-la-la-la, la-la-la-la\\n'Tis the season to be jolly\\nFa-la-la-la-la, la-la-la-la\\nDon we now our gay app...   \n\n                                                                              url  \\\n30            https://genius.com/Bad-bunny-and-drake-mia-dom-da-bomb-remix-lyrics   \n91    https://genius.com/Anuel-aa-and-romeo-santos-ella-quiere-beber-remix-lyrics   \n100                                 https://genius.com/Pinkfong-baby-shark-lyrics   \n121                                https://genius.com/Bad-bunny-solo-de-mi-lyrics   \n147                        https://genius.com/Karol-g-and-anuel-aa-secreto-lyrics   \n...                                                                           ...   \n1266                                https://genius.com/Bad-bunny-hoy-cobre-lyrics   \n1268                          https://genius.com/Bad-bunny-maldita-pobreza-lyrics   \n1269                                 https://genius.com/Bad-bunny-la-droga-lyrics   \n1270                                                                                \n1288                       https://genius.com/Nat-king-cole-deck-the-halls-lyrics   \n\n      length  word_count language  language_score      languages_sent  \\\n30      3115         637       es        0.714282           {'en': 2}   \n91      2609         511       es        0.999996                  {}   \n100     1138         246       so        0.857141           {'so': 1}   \n121     1852         399       es        0.999994  {'pt': 1, 'es': 1}   \n147     2709         498       es        0.999996           {'es': 1}   \n...      ...         ...      ...             ...                 ...   \n1266    1814         360       es        0.999996  {'es': 7, 'so': 1}   \n1268    1783         334       es        0.999996           {'it': 1}   \n1269    1929         380       es        0.999996                  {}   \n1270       6           1       de        0.999994                  {}   \n1288     622          79       es        0.999993  {'es': 3, 'en': 1}   \n\n     language_sent  language_sent_weight  \n30              en                 1.000  \n91                                 0.000  \n100             so                 1.000  \n121             pt                 0.500  \n147             es                 1.000  \n...            ...                   ...  \n1266            es                 0.875  \n1268            it                 1.000  \n1269                               0.000  \n1270                               0.000  \n1288            es                 0.750  \n\n[67 rows x 16 columns]",
      "text/html": "<div>\n<style scoped>\n    .dataframe tbody tr th:only-of-type {\n        vertical-align: middle;\n    }\n\n    .dataframe tbody tr th {\n        vertical-align: top;\n    }\n\n    .dataframe thead th {\n        text-align: right;\n    }\n</style>\n<table border=\"1\" class=\"dataframe\">\n  <thead>\n    <tr style=\"text-align: right;\">\n      <th></th>\n      <th>billboard_id</th>\n      <th>lyrics_id</th>\n      <th>artist</th>\n      <th>first_artist</th>\n      <th>song</th>\n      <th>weeks_on_chart</th>\n      <th>peak_rank</th>\n      <th>lyrics</th>\n      <th>url</th>\n      <th>length</th>\n      <th>word_count</th>\n      <th>language</th>\n      <th>language_score</th>\n      <th>languages_sent</th>\n      <th>language_sent</th>\n      <th>language_sent_weight</th>\n    </tr>\n  </thead>\n  <tbody>\n    <tr>\n      <th>30</th>\n      <td>30</td>\n      <td>30</td>\n      <td>Bad Bunny Featuring Drake</td>\n      <td>Bad Bunny</td>\n      <td>MIA</td>\n      <td>27.0</td>\n      <td>5.0</td>\n      <td>Bless them\\nAy, there ain't no second guess, then you done know so right now we carry di guess fi di gyal dem\\nBad Bunny, Drake, SP\\nBad Bunny, ba...</td>\n      <td>https://genius.com/Bad-bunny-and-drake-mia-dom-da-bomb-remix-lyrics</td>\n      <td>3115</td>\n      <td>637</td>\n      <td>es</td>\n      <td>0.714282</td>\n      <td>{'en': 2}</td>\n      <td>en</td>\n      <td>1.000</td>\n    </tr>\n    <tr>\n      <th>91</th>\n      <td>91</td>\n      <td>91</td>\n      <td>Anuel AA &amp; Romeo Santos</td>\n      <td>Anuel AA</td>\n      <td>Ella Quiere Beber</td>\n      <td>20.0</td>\n      <td>61.0</td>\n      <td>Check, check (Remix)\\nI'mma show you why I'm the king of this shit\\nUah\\n(KOB, Real Hasta La Muerte, baby)\\n\\nCuando una mujer decide ser mala y n...</td>\n      <td>https://genius.com/Anuel-aa-and-romeo-santos-ella-quiere-beber-remix-lyrics</td>\n      <td>2609</td>\n      <td>511</td>\n      <td>es</td>\n      <td>0.999996</td>\n      <td>{}</td>\n      <td></td>\n      <td>0.000</td>\n    </tr>\n    <tr>\n      <th>100</th>\n      <td>131</td>\n      <td>100</td>\n      <td>Pinkfong</td>\n      <td>Pinkfong</td>\n      <td>Baby Shark</td>\n      <td>20.0</td>\n      <td>32.0</td>\n      <td>Baby shark, doo doo doo doo doo doo\\nBaby shark, doo doo doo doo doo doo\\nBaby shark, doo doo doo doo doo doo\\nBaby shark!\\n\\nMommy shark, doo doo...</td>\n      <td>https://genius.com/Pinkfong-baby-shark-lyrics</td>\n      <td>1138</td>\n      <td>246</td>\n      <td>so</td>\n      <td>0.857141</td>\n      <td>{'so': 1}</td>\n      <td>so</td>\n      <td>1.000</td>\n    </tr>\n    <tr>\n      <th>121</th>\n      <td>192</td>\n      <td>121</td>\n      <td>Bad Bunny</td>\n      <td>Bad Bunny</td>\n      <td>Solo de Mi</td>\n      <td>1.0</td>\n      <td>93.0</td>\n      <td>No me vuelvas a decir \"Bebé\" (¡No!)\\nYo no soy tuyo ni de nadie, yo soy sólo de mí\\nNo me vuelvas a decir \"Bebé\" (Yeh, eh)\\nYa tú lo sabe' que yo ...</td>\n      <td>https://genius.com/Bad-bunny-solo-de-mi-lyrics</td>\n      <td>1852</td>\n      <td>399</td>\n      <td>es</td>\n      <td>0.999994</td>\n      <td>{'pt': 1, 'es': 1}</td>\n      <td>pt</td>\n      <td>0.500</td>\n    </tr>\n    <tr>\n      <th>147</th>\n      <td>467</td>\n      <td>147</td>\n      <td>Anuel AA &amp; Karol G</td>\n      <td>Anuel AA</td>\n      <td>Secreto</td>\n      <td>11.0</td>\n      <td>68.0</td>\n      <td>Bebecita\\nBebe-bebecita, uah\\nBebecita\\n\\nLo de nosotro' e' un secreto, que nadie se entere (Uah)\\nBaby, yo siempre me vengo contigo cuando tú te ...</td>\n      <td>https://genius.com/Karol-g-and-anuel-aa-secreto-lyrics</td>\n      <td>2709</td>\n      <td>498</td>\n      <td>es</td>\n      <td>0.999996</td>\n      <td>{'es': 1}</td>\n      <td>es</td>\n      <td>1.000</td>\n    </tr>\n    <tr>\n      <th>...</th>\n      <td>...</td>\n      <td>...</td>\n      <td>...</td>\n      <td>...</td>\n      <td>...</td>\n      <td>...</td>\n      <td>...</td>\n      <td>...</td>\n      <td>...</td>\n      <td>...</td>\n      <td>...</td>\n      <td>...</td>\n      <td>...</td>\n      <td>...</td>\n      <td>...</td>\n      <td>...</td>\n    </tr>\n    <tr>\n      <th>1266</th>\n      <td>10180</td>\n      <td>1266</td>\n      <td>Bad Bunny</td>\n      <td>Bad Bunny</td>\n      <td>Hoy Cobre</td>\n      <td>1.0</td>\n      <td>81.0</td>\n      <td>Yeh-yeh-yeh, ey\\nBad Bunny, baby, be-bé\\nEy, ey\\n\\nHoy cobré y hoy mismo lo' vo'a explotar, ey\\nEl precio ni vo'a preguntar, ey\\nFumando en la Guc...</td>\n      <td>https://genius.com/Bad-bunny-hoy-cobre-lyrics</td>\n      <td>1814</td>\n      <td>360</td>\n      <td>es</td>\n      <td>0.999996</td>\n      <td>{'es': 7, 'so': 1}</td>\n      <td>es</td>\n      <td>0.875</td>\n    </tr>\n    <tr>\n      <th>1268</th>\n      <td>10186</td>\n      <td>1268</td>\n      <td>Bad Bunny</td>\n      <td>Bad Bunny</td>\n      <td>Maldita Pobreza</td>\n      <td>1.0</td>\n      <td>87.0</td>\n      <td>Yo quiero comprarle un Ferrari a mi novia\\nPero no puedo, pero no puedo\\nYo quiero comprarle un Ferrari a mi novia\\nPero no puedo, no tengo dinero...</td>\n      <td>https://genius.com/Bad-bunny-maldita-pobreza-lyrics</td>\n      <td>1783</td>\n      <td>334</td>\n      <td>es</td>\n      <td>0.999996</td>\n      <td>{'it': 1}</td>\n      <td>it</td>\n      <td>1.000</td>\n    </tr>\n    <tr>\n      <th>1269</th>\n      <td>10193</td>\n      <td>1269</td>\n      <td>Bad Bunny</td>\n      <td>Bad Bunny</td>\n      <td>La Droga</td>\n      <td>1.0</td>\n      <td>94.0</td>\n      <td>Uh, uh-uh\\nUh-uh, uh-uh\\n\\nTú ere' la droga de la que mami me hablaba (¡Ey!)\\nLa que moría si probaba (¡Oh!)\\nY yo de idiota pensando que me amaba...</td>\n      <td>https://genius.com/Bad-bunny-la-droga-lyrics</td>\n      <td>1929</td>\n      <td>380</td>\n      <td>es</td>\n      <td>0.999996</td>\n      <td>{}</td>\n      <td></td>\n      <td>0.000</td>\n    </tr>\n    <tr>\n      <th>1270</th>\n      <td>10194</td>\n      <td>1270</td>\n      <td>Carrie Underwood</td>\n      <td>Carrie Underwood</td>\n      <td>Favorite Time Of Year</td>\n      <td>4.0</td>\n      <td>62.0</td>\n      <td>!Error</td>\n      <td></td>\n      <td>6</td>\n      <td>1</td>\n      <td>de</td>\n      <td>0.999994</td>\n      <td>{}</td>\n      <td></td>\n      <td>0.000</td>\n    </tr>\n    <tr>\n      <th>1288</th>\n      <td>10346</td>\n      <td>1288</td>\n      <td>Nat King Cole</td>\n      <td>Nat King Cole</td>\n      <td>Deck The Halls</td>\n      <td>2.0</td>\n      <td>43.0</td>\n      <td>Deck the halls with boughs of holly\\nFa-la-la-la-la, la-la-la-la\\n'Tis the season to be jolly\\nFa-la-la-la-la, la-la-la-la\\nDon we now our gay app...</td>\n      <td>https://genius.com/Nat-king-cole-deck-the-halls-lyrics</td>\n      <td>622</td>\n      <td>79</td>\n      <td>es</td>\n      <td>0.999993</td>\n      <td>{'es': 3, 'en': 1}</td>\n      <td>es</td>\n      <td>0.750</td>\n    </tr>\n  </tbody>\n</table>\n<p>67 rows × 16 columns</p>\n</div>"
     },
     "execution_count": 17,
     "metadata": {},
     "output_type": "execute_result"
    }
   ],
   "source": [
    "pd.set_option('display.max_colwidth', 150)\n",
    "lyrics_non_english = lyrics.loc[lyrics['language'] != 'en']\n",
    "lyrics_non_english"
   ],
   "metadata": {
    "collapsed": false,
    "pycharm": {
     "name": "#%%\n"
    }
   }
  },
  {
   "cell_type": "code",
   "execution_count": 18,
   "outputs": [],
   "source": [
    "# lyrics_english = lyrics.loc[(lyrics['language'] == 'en') & (lyrics['language_sent'] == 'en')]\n",
    "lyrics_english = lyrics.loc[(lyrics['language'] == 'en')]\n"
   ],
   "metadata": {
    "collapsed": false,
    "pycharm": {
     "name": "#%%\n"
    }
   }
  },
  {
   "cell_type": "code",
   "execution_count": 19,
   "outputs": [],
   "source": [
    "lyrics.to_excel('../../data/output/bb-t100-lyrics.xlsx')\n",
    "lyrics.to_csv('../../data/lyrics/bb-t100-lyrics.csv')"
   ],
   "metadata": {
    "collapsed": false,
    "pycharm": {
     "name": "#%%\n"
    }
   }
  },
  {
   "cell_type": "code",
   "execution_count": 20,
   "outputs": [
    {
     "data": {
      "text/plain": "Index(['billboard_id', 'artist', 'first_artist', 'song', 'weeks_on_chart',\n       'peak_rank', 'lyrics', 'url', 'url_first_word', 'artist_first_word',\n       'lyrics_id'],\n      dtype='object')"
     },
     "execution_count": 20,
     "metadata": {},
     "output_type": "execute_result"
    }
   ],
   "source": [
    "invalid_lyrics = pd.read_excel('..\\..\\data\\output\\lyrics_invalid.xlsx', index_col=0)\n",
    "invalid_lyrics['lyrics_id'] = invalid_lyrics.index\n",
    "invalid_lyrics.rename(columns={'id' : 'billboard_id'}, inplace=True)\n",
    "invalid_lyrics.columns"
   ],
   "metadata": {
    "collapsed": false,
    "pycharm": {
     "name": "#%%\n"
    }
   }
  },
  {
   "cell_type": "code",
   "execution_count": 21,
   "outputs": [
    {
     "data": {
      "text/plain": "   billboard_id  lyrics_id  \\\n0          6822       1321   \n1          8299        506   \n2          9707         97   \n\n                                               artist              song  \\\n0                                   twenty one pilots  Level Of Concern   \n1                                             J. Cole    the.climb.back   \n2  Ariana Grande Feat. Doja Cat & Megan Thee Stallion             34+35   \n\n                                                                                                                                                  lyrics  \n0                                                                                                                                                !Error!  \n1                                                                                                                                               !NoSong!  \n2  Mmm\\n\\nPensarás que estoy loca\\nPor la forma en que he lo estado deseando\\nSi lo pongo bien claro\\nSolo dame bebés\\nEntonces, ¿qué harás esta noch...  ",
      "text/html": "<div>\n<style scoped>\n    .dataframe tbody tr th:only-of-type {\n        vertical-align: middle;\n    }\n\n    .dataframe tbody tr th {\n        vertical-align: top;\n    }\n\n    .dataframe thead th {\n        text-align: right;\n    }\n</style>\n<table border=\"1\" class=\"dataframe\">\n  <thead>\n    <tr style=\"text-align: right;\">\n      <th></th>\n      <th>billboard_id</th>\n      <th>lyrics_id</th>\n      <th>artist</th>\n      <th>song</th>\n      <th>lyrics</th>\n    </tr>\n  </thead>\n  <tbody>\n    <tr>\n      <th>0</th>\n      <td>6822</td>\n      <td>1321</td>\n      <td>twenty one pilots</td>\n      <td>Level Of Concern</td>\n      <td>!Error!</td>\n    </tr>\n    <tr>\n      <th>1</th>\n      <td>8299</td>\n      <td>506</td>\n      <td>J. Cole</td>\n      <td>the.climb.back</td>\n      <td>!NoSong!</td>\n    </tr>\n    <tr>\n      <th>2</th>\n      <td>9707</td>\n      <td>97</td>\n      <td>Ariana Grande Feat. Doja Cat &amp; Megan Thee Stallion</td>\n      <td>34+35</td>\n      <td>Mmm\\n\\nPensarás que estoy loca\\nPor la forma en que he lo estado deseando\\nSi lo pongo bien claro\\nSolo dame bebés\\nEntonces, ¿qué harás esta noch...</td>\n    </tr>\n  </tbody>\n</table>\n</div>"
     },
     "execution_count": 21,
     "metadata": {},
     "output_type": "execute_result"
    }
   ],
   "source": [
    "pd.set_option('display.max_colwidth', 150)\n",
    "invalid_lyrics_example = invalid_lyrics[['billboard_id', 'lyrics_id', 'artist', 'song', 'lyrics']].loc[[1321, 506, 97]]\n",
    "invalid_lyrics_example.reset_index(drop=True, inplace=True)\n",
    "print(invalid_lyrics_example.to_latex(index=False))"
   ],
   "metadata": {
    "collapsed": false,
    "pycharm": {
     "name": "#%%\n"
    }
   }
  },
  {
   "cell_type": "code",
   "execution_count": 22,
   "outputs": [
    {
     "name": "stdout",
     "output_type": "stream",
     "text": [
      "\\begin{tabular}{rrlllrrl}\n",
      "\\toprule\n",
      " billboard\\_id &  lyrics\\_id &                 artist &  first\\_artist &                                          song &  weeks\\_on\\_chart &  peak\\_rank &                                                                                                                                                 lyrics \\\\\n",
      "\\midrule\n",
      "            0 &          0 &          Ariana Grande & Ariana Grande &                                 Thank U, Next &            28.0 &        1.0 & Thought I'd end up with Sean\\textbackslash nBut he wasn't a match\\textbackslash nWrote some songs about Ricky\\textbackslash nNow I listen and laugh\\textbackslash nEven almost got married\\textbackslash nAnd for Pete, I... \\\\\n",
      "            1 &          1 &                 Halsey &        Halsey &                                    Without Me &            52.0 &        1.0 & Found you when your heart was broke\\textbackslash nI filled your cup until it overflowed\\textbackslash nTook it so far to keep you close (Keep you close)\\textbackslash nI was afraid to leav... \\\\\n",
      "            2 &          2 &           Mariah Carey &  Mariah Carey &               All I Want For Christmas Is You &            43.0 &        1.0 & I don't want a lot for Christmas\\textbackslash nThere is just one thing I need\\textbackslash nI don't care about the presents\\textbackslash nUnderneath the Christmas tree\\textbackslash nI just want you f... \\\\\n",
      "            3 &          3 &           Travis Scott &  Travis Scott &                                    Sicko Mode &            52.0 &        1.0 & Astro, yeah\\textbackslash nSun is down, freezin' cold\\textbackslash nThat's how we already know, winter's here\\textbackslash nMy dawg would probably do it for a Louis belt\\textbackslash nThat's just all ... \\\\\n",
      "            4 &          4 & Post Malone \\& Swae Lee &   Post Malone & Sunflower (Spider-Man: Into The Spider-Verse) &            53.0 &        1.0 & Ayy, ayy, ayy, ayy (Ooh)\\textbackslash nOoh, ooh, ooh, ooh (Ooh)\\textbackslash nAyy, ayy\\textbackslash nOoh, ooh, ooh, ooh\\textbackslash n\\textbackslash nNeedless to say, I keep in check\\textbackslash nShe was a bad-bad, neverthele... \\\\\n",
      "\\bottomrule\n",
      "\\end{tabular}\n",
      "\n"
     ]
    }
   ],
   "source": [
    "lyrics_lat = lyrics[['billboard_id','lyrics_id', 'artist', 'first_artist', 'song', 'weeks_on_chart', 'peak_rank',\n",
    "       'lyrics']].head()\n",
    "\n",
    "print(lyrics_lat.to_latex(index=False))"
   ],
   "metadata": {
    "collapsed": false,
    "pycharm": {
     "name": "#%%\n"
    }
   }
  },
  {
   "cell_type": "markdown",
   "source": [
    "## Preparing Corona Lyrics"
   ],
   "metadata": {
    "collapsed": false,
    "pycharm": {
     "name": "#%% md\n"
    }
   }
  },
  {
   "cell_type": "code",
   "execution_count": 31,
   "outputs": [
    {
     "data": {
      "text/plain": "          artist                                 song  \\\n0  Adam Hambrick  Between Me and the End of the World   \n1   Alexander 23                          IDK You Yet   \n2    Alicia Keys                             My House   \n3     ArtistsCAN                           Lean on Me   \n4  Avril Lavigne                      We Are Warriors   \n\n                                                                                                                                                  lyrics  \\\n0  Thank you's don't cut it\\nI mean what do you get\\nFor the one who sees a crowd running up\\nAnd then decides to run in\\nIts grace under fire\\nIts c...   \n1  How can you miss someone you've never met?\\n'Cause I need you now but I don't know you yet\\nBut can you find me soon because I'm in my head?\\nYeah...   \n2  This song is dedicated to the moment; I have a feelin’ that we’re all going through a similar thing, so, I figured, we could break it down like th...   \n3  Sometimes in our lives, we all have pain\\nWe all have sorrow\\nBut if we are wise\\nWe know that there's always tomorrow\\n\\nLean on me, when you're ...   \n4  We'll pick our battles 'cause we know we're gonna win the war (Win the war)\\nWe're not rattled 'cause we shattered all of this before (This before...   \n\n                                                                           url  \n0  https://genius.com/Adam-hambrick-between-me-and-the-end-of-the-world-lyrics  \n1                           https://genius.com/Alexander-23-idk-you-yet-lyrics  \n2                                                                          NaN  \n3                              https://genius.com/Artistscan-lean-on-me-lyrics  \n4                      https://genius.com/Avril-lavigne-we-are-warriors-lyrics  ",
      "text/html": "<div>\n<style scoped>\n    .dataframe tbody tr th:only-of-type {\n        vertical-align: middle;\n    }\n\n    .dataframe tbody tr th {\n        vertical-align: top;\n    }\n\n    .dataframe thead th {\n        text-align: right;\n    }\n</style>\n<table border=\"1\" class=\"dataframe\">\n  <thead>\n    <tr style=\"text-align: right;\">\n      <th></th>\n      <th>artist</th>\n      <th>song</th>\n      <th>lyrics</th>\n      <th>url</th>\n    </tr>\n  </thead>\n  <tbody>\n    <tr>\n      <th>0</th>\n      <td>Adam Hambrick</td>\n      <td>Between Me and the End of the World</td>\n      <td>Thank you's don't cut it\\nI mean what do you get\\nFor the one who sees a crowd running up\\nAnd then decides to run in\\nIts grace under fire\\nIts c...</td>\n      <td>https://genius.com/Adam-hambrick-between-me-and-the-end-of-the-world-lyrics</td>\n    </tr>\n    <tr>\n      <th>1</th>\n      <td>Alexander 23</td>\n      <td>IDK You Yet</td>\n      <td>How can you miss someone you've never met?\\n'Cause I need you now but I don't know you yet\\nBut can you find me soon because I'm in my head?\\nYeah...</td>\n      <td>https://genius.com/Alexander-23-idk-you-yet-lyrics</td>\n    </tr>\n    <tr>\n      <th>2</th>\n      <td>Alicia Keys</td>\n      <td>My House</td>\n      <td>This song is dedicated to the moment; I have a feelin’ that we’re all going through a similar thing, so, I figured, we could break it down like th...</td>\n      <td>NaN</td>\n    </tr>\n    <tr>\n      <th>3</th>\n      <td>ArtistsCAN</td>\n      <td>Lean on Me</td>\n      <td>Sometimes in our lives, we all have pain\\nWe all have sorrow\\nBut if we are wise\\nWe know that there's always tomorrow\\n\\nLean on me, when you're ...</td>\n      <td>https://genius.com/Artistscan-lean-on-me-lyrics</td>\n    </tr>\n    <tr>\n      <th>4</th>\n      <td>Avril Lavigne</td>\n      <td>We Are Warriors</td>\n      <td>We'll pick our battles 'cause we know we're gonna win the war (Win the war)\\nWe're not rattled 'cause we shattered all of this before (This before...</td>\n      <td>https://genius.com/Avril-lavigne-we-are-warriors-lyrics</td>\n    </tr>\n  </tbody>\n</table>\n</div>"
     },
     "execution_count": 31,
     "metadata": {},
     "output_type": "execute_result"
    }
   ],
   "source": [
    "corona_lyrics = pd.read_excel('../../data/input/corona-lyrics.xlsx')\n",
    "corona_lyrics.head()"
   ],
   "metadata": {
    "collapsed": false,
    "pycharm": {
     "name": "#%%\n"
    }
   }
  },
  {
   "cell_type": "code",
   "execution_count": 76,
   "outputs": [],
   "source": [
    "def get_lines(lyrics):\n",
    "    lines = []\n",
    "    list = lyrics.split('\\n')\n",
    "    for line in list:\n",
    "        if len(line) > 0:\n",
    "            line = line.replace('\\u2005', ' ').replace('\\u205f', '')\n",
    "            lines.append(line.lower())\n",
    "    return lines\n",
    "\n"
   ],
   "metadata": {
    "collapsed": false,
    "pycharm": {
     "name": "#%%\n"
    }
   }
  },
  {
   "cell_type": "code",
   "execution_count": 77,
   "outputs": [],
   "source": [
    "corona_lines = pd.DataFrame(columns=['line', 'artist', 'song'])\n",
    "\n",
    "for row in corona_lyrics.itertuples():\n",
    "    df = pd.DataFrame(columns=['line', 'artist', 'song'])\n",
    "    artist = row[1]\n",
    "    song = row[2]\n",
    "    lyrics = row[3]\n",
    "    lines = get_lines(lyrics)\n",
    "    df['line'] = lines\n",
    "    df['artist'] = artist\n",
    "    df['song'] = song\n",
    "    corona_lines = corona_lines.append(df, ignore_index=True)"
   ],
   "metadata": {
    "collapsed": false,
    "pycharm": {
     "name": "#%%\n"
    }
   }
  },
  {
   "cell_type": "code",
   "execution_count": 78,
   "outputs": [
    {
     "data": {
      "text/plain": "                                                                                                 line  \\\n0                                                                            thank you's don't cut it   \n1                                                                              i mean what do you get   \n2                                                             for the one who sees a crowd running up   \n3                                                                          and then decides to run in   \n4                                                                                its grace under fire   \n...                                                                                               ...   \n1828                       just like you wanna stick a dick up in me, i want some motherfuckin' money   \n1829  and don't get in your motherfuckin' feelings when you see me in the motherfuckin' club randomly   \n1830                                                      and one of your niggas wanna get down on me   \n1831                                  and i wanna give them some pussy 'cause they gave me some money   \n1832                                                                      know what i mean? it's easy   \n\n                                        artist  \\\n0                                Adam Hambrick   \n1                                Adam Hambrick   \n2                                Adam Hambrick   \n3                                Adam Hambrick   \n4                                Adam Hambrick   \n...                                        ...   \n1828  21 Savage & Metro Boomin Featuring Drake   \n1829  21 Savage & Metro Boomin Featuring Drake   \n1830  21 Savage & Metro Boomin Featuring Drake   \n1831  21 Savage & Metro Boomin Featuring Drake   \n1832  21 Savage & Metro Boomin Featuring Drake   \n\n                                     song  \n0     Between Me and the End of the World  \n1     Between Me and the End of the World  \n2     Between Me and the End of the World  \n3     Between Me and the End of the World  \n4     Between Me and the End of the World  \n...                                   ...  \n1828                        Mr. Right Now  \n1829                        Mr. Right Now  \n1830                        Mr. Right Now  \n1831                        Mr. Right Now  \n1832                        Mr. Right Now  \n\n[1833 rows x 3 columns]",
      "text/html": "<div>\n<style scoped>\n    .dataframe tbody tr th:only-of-type {\n        vertical-align: middle;\n    }\n\n    .dataframe tbody tr th {\n        vertical-align: top;\n    }\n\n    .dataframe thead th {\n        text-align: right;\n    }\n</style>\n<table border=\"1\" class=\"dataframe\">\n  <thead>\n    <tr style=\"text-align: right;\">\n      <th></th>\n      <th>line</th>\n      <th>artist</th>\n      <th>song</th>\n    </tr>\n  </thead>\n  <tbody>\n    <tr>\n      <th>0</th>\n      <td>thank you's don't cut it</td>\n      <td>Adam Hambrick</td>\n      <td>Between Me and the End of the World</td>\n    </tr>\n    <tr>\n      <th>1</th>\n      <td>i mean what do you get</td>\n      <td>Adam Hambrick</td>\n      <td>Between Me and the End of the World</td>\n    </tr>\n    <tr>\n      <th>2</th>\n      <td>for the one who sees a crowd running up</td>\n      <td>Adam Hambrick</td>\n      <td>Between Me and the End of the World</td>\n    </tr>\n    <tr>\n      <th>3</th>\n      <td>and then decides to run in</td>\n      <td>Adam Hambrick</td>\n      <td>Between Me and the End of the World</td>\n    </tr>\n    <tr>\n      <th>4</th>\n      <td>its grace under fire</td>\n      <td>Adam Hambrick</td>\n      <td>Between Me and the End of the World</td>\n    </tr>\n    <tr>\n      <th>...</th>\n      <td>...</td>\n      <td>...</td>\n      <td>...</td>\n    </tr>\n    <tr>\n      <th>1828</th>\n      <td>just like you wanna stick a dick up in me, i want some motherfuckin' money</td>\n      <td>21 Savage &amp; Metro Boomin Featuring Drake</td>\n      <td>Mr. Right Now</td>\n    </tr>\n    <tr>\n      <th>1829</th>\n      <td>and don't get in your motherfuckin' feelings when you see me in the motherfuckin' club randomly</td>\n      <td>21 Savage &amp; Metro Boomin Featuring Drake</td>\n      <td>Mr. Right Now</td>\n    </tr>\n    <tr>\n      <th>1830</th>\n      <td>and one of your niggas wanna get down on me</td>\n      <td>21 Savage &amp; Metro Boomin Featuring Drake</td>\n      <td>Mr. Right Now</td>\n    </tr>\n    <tr>\n      <th>1831</th>\n      <td>and i wanna give them some pussy 'cause they gave me some money</td>\n      <td>21 Savage &amp; Metro Boomin Featuring Drake</td>\n      <td>Mr. Right Now</td>\n    </tr>\n    <tr>\n      <th>1832</th>\n      <td>know what i mean? it's easy</td>\n      <td>21 Savage &amp; Metro Boomin Featuring Drake</td>\n      <td>Mr. Right Now</td>\n    </tr>\n  </tbody>\n</table>\n<p>1833 rows × 3 columns</p>\n</div>"
     },
     "execution_count": 78,
     "metadata": {},
     "output_type": "execute_result"
    }
   ],
   "source": [
    "corona_lines.drop_duplicates(inplace=True, ignore_index=True)\n",
    "corona_lines"
   ],
   "metadata": {
    "collapsed": false,
    "pycharm": {
     "name": "#%%\n"
    }
   }
  },
  {
   "cell_type": "code",
   "execution_count": 85,
   "outputs": [],
   "source": [
    "corona_keywords = ['corona', 'coronavirus', 'pandemic', 'quarantine', 'sars', 'disease', 'social', 'distance', 'distancing', 'flatten',\n",
    "                   'curve', 'home', 'sanitizing', 'covid', 'germs', 'vaccination', 'isolation', 'virus', 'inside']\n",
    "def is_corona_line(keywords):\n",
    "    for word in corona_keywords:\n",
    "        if word in keywords:\n",
    "            return True\n",
    "    return  False"
   ],
   "metadata": {
    "collapsed": false,
    "pycharm": {
     "name": "#%%\n"
    }
   }
  },
  {
   "cell_type": "code",
   "execution_count": 86,
   "outputs": [],
   "source": [
    "corona_lines['corona'] = corona_lines['line'].apply(lambda line: is_corona_line(line))"
   ],
   "metadata": {
    "collapsed": false,
    "pycharm": {
     "name": "#%%\n"
    }
   }
  },
  {
   "cell_type": "code",
   "execution_count": 87,
   "outputs": [
    {
     "data": {
      "text/plain": "                                                        line  \\\n1760              they sick, been hot way before coronavirus   \n323                           and call this isolation a date   \n539   i swear i got plenty niggas snagged, never comin' home   \n474                                     like dylan stay home   \n457                             i don’t want societies germs   \n...                                                      ...   \n634                              probably over-wash my hands   \n633                        watch a ball game from the stands   \n632                               catch a movie, catch a cab   \n631                                pay some extra on the tab   \n1832                             know what i mean? it's easy   \n\n                                        artist                           song  \\\n1760                                   6ix9ine                          Gooba   \n323                          Drive-by Truckers            Quarantine Together   \n539                                   Lil TJay                       Ice Cold   \n474                      Hillsong Young & Free  A Message for My Best Friends   \n457                      Hillsong Young & Free  A Message for My Best Friends   \n...                                        ...                            ...   \n634                                 Luke Combs                 Six Feet Apart   \n633                                 Luke Combs                 Six Feet Apart   \n632                                 Luke Combs                 Six Feet Apart   \n631                                 Luke Combs                 Six Feet Apart   \n1832  21 Savage & Metro Boomin Featuring Drake                  Mr. Right Now   \n\n      corona  \n1760    True  \n323     True  \n539     True  \n474     True  \n457     True  \n...      ...  \n634    False  \n633    False  \n632    False  \n631    False  \n1832   False  \n\n[1833 rows x 4 columns]",
      "text/html": "<div>\n<style scoped>\n    .dataframe tbody tr th:only-of-type {\n        vertical-align: middle;\n    }\n\n    .dataframe tbody tr th {\n        vertical-align: top;\n    }\n\n    .dataframe thead th {\n        text-align: right;\n    }\n</style>\n<table border=\"1\" class=\"dataframe\">\n  <thead>\n    <tr style=\"text-align: right;\">\n      <th></th>\n      <th>line</th>\n      <th>artist</th>\n      <th>song</th>\n      <th>corona</th>\n    </tr>\n  </thead>\n  <tbody>\n    <tr>\n      <th>1760</th>\n      <td>they sick, been hot way before coronavirus</td>\n      <td>6ix9ine</td>\n      <td>Gooba</td>\n      <td>True</td>\n    </tr>\n    <tr>\n      <th>323</th>\n      <td>and call this isolation a date</td>\n      <td>Drive-by Truckers</td>\n      <td>Quarantine Together</td>\n      <td>True</td>\n    </tr>\n    <tr>\n      <th>539</th>\n      <td>i swear i got plenty niggas snagged, never comin' home</td>\n      <td>Lil TJay</td>\n      <td>Ice Cold</td>\n      <td>True</td>\n    </tr>\n    <tr>\n      <th>474</th>\n      <td>like dylan stay home</td>\n      <td>Hillsong Young &amp; Free</td>\n      <td>A Message for My Best Friends</td>\n      <td>True</td>\n    </tr>\n    <tr>\n      <th>457</th>\n      <td>i don’t want societies germs</td>\n      <td>Hillsong Young &amp; Free</td>\n      <td>A Message for My Best Friends</td>\n      <td>True</td>\n    </tr>\n    <tr>\n      <th>...</th>\n      <td>...</td>\n      <td>...</td>\n      <td>...</td>\n      <td>...</td>\n    </tr>\n    <tr>\n      <th>634</th>\n      <td>probably over-wash my hands</td>\n      <td>Luke Combs</td>\n      <td>Six Feet Apart</td>\n      <td>False</td>\n    </tr>\n    <tr>\n      <th>633</th>\n      <td>watch a ball game from the stands</td>\n      <td>Luke Combs</td>\n      <td>Six Feet Apart</td>\n      <td>False</td>\n    </tr>\n    <tr>\n      <th>632</th>\n      <td>catch a movie, catch a cab</td>\n      <td>Luke Combs</td>\n      <td>Six Feet Apart</td>\n      <td>False</td>\n    </tr>\n    <tr>\n      <th>631</th>\n      <td>pay some extra on the tab</td>\n      <td>Luke Combs</td>\n      <td>Six Feet Apart</td>\n      <td>False</td>\n    </tr>\n    <tr>\n      <th>1832</th>\n      <td>know what i mean? it's easy</td>\n      <td>21 Savage &amp; Metro Boomin Featuring Drake</td>\n      <td>Mr. Right Now</td>\n      <td>False</td>\n    </tr>\n  </tbody>\n</table>\n<p>1833 rows × 4 columns</p>\n</div>"
     },
     "execution_count": 87,
     "metadata": {},
     "output_type": "execute_result"
    }
   ],
   "source": [
    "corona_lines.sort_values(by='corona', inplace=True, ascending=False)\n",
    "corona_lines"
   ],
   "metadata": {
    "collapsed": false,
    "pycharm": {
     "name": "#%%\n"
    }
   }
  },
  {
   "cell_type": "code",
   "execution_count": 88,
   "outputs": [],
   "source": [
    "corona_lines.to_excel('../../data/input/corona_lines_2.xlsx')"
   ],
   "metadata": {
    "collapsed": false,
    "pycharm": {
     "name": "#%%\n"
    }
   }
  }
 ],
 "metadata": {
  "kernelspec": {
   "display_name": "Python 3",
   "language": "python",
   "name": "python3"
  },
  "language_info": {
   "codemirror_mode": {
    "name": "ipython",
    "version": 2
   },
   "file_extension": ".py",
   "mimetype": "text/x-python",
   "name": "python",
   "nbconvert_exporter": "python",
   "pygments_lexer": "ipython2",
   "version": "2.7.6"
  }
 },
 "nbformat": 4,
 "nbformat_minor": 0
}