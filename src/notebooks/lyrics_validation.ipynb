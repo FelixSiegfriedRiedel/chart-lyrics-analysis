{
 "cells": [
  {
   "cell_type": "markdown",
   "metadata": {},
   "source": [
    "## Initial Setup"
   ]
  },
  {
   "cell_type": "code",
   "execution_count": 1,
   "metadata": {
    "pycharm": {
     "name": "#%%\n"
    }
   },
   "outputs": [
    {
     "data": {
      "text/plain": "     id                             artist first_artist                song  \\\n0  1093   2 Chainz Featuring Ariana Grande     2 Chainz      Rule The World   \n1  1099  2 Chainz Featuring Kendrick Lamar     2 Chainz  Momma I Hit A Lick   \n2  1074    2 Chainz Featuring Travis Scott     2 Chainz                Whip   \n3    85                          21 Savage    21 Savage                 1.5   \n4    36                          21 Savage    21 Savage               A Lot   \n\n   weeks_on_chart  peak_rank first_appearance  \\\n0               2         94       2019-03-16   \n1               1        100       2019-03-16   \n2               1         75       2019-03-16   \n3               1         86       2019-01-05   \n4              23         12       2019-01-05   \n\n                                              lyrics  \\\n0  Yeah\\nUh-huh\\n(Hitmaka)\\n2 Chainz\\n\\nTop down ...   \n1  I want it, I want it, I want it-it-it-it\\n\\nCh...   \n2  Yeah\\nDo it no hands, yeah, do it, no handstan...   \n3  My earrings cost a half a ticket, I don't hear...   \n4  I love you\\nTurn my headphone down a little bi...   \n\n                                                 url  genius_id  \\\n0  https://genius.com/2-chainz-rule-the-world-lyrics  4327593.0   \n1  https://genius.com/2-chainz-momma-i-hit-a-lick...  4346683.0   \n2            https://genius.com/2-chainz-whip-lyrics  4327641.0   \n3             https://genius.com/21-savage-15-lyrics  4155501.0   \n4          https://genius.com/21-savage-a-lot-lyrics  4155494.0   \n\n  genius_primary_artist                                 genius_description  \\\n0     2 Chainz, 0 songs  “Rule the World” sees 2 Chainz rapping about h...   \n1     2 Chainz, 0 songs  “Momma I Hit a Lick” is the first direct colla...   \n2     2 Chainz, 0 songs  In the sixth track off of 2 Chainz’s highly an...   \n3    21 Savage, 0 songs  “1.5” is a collaboration between Migos member,...   \n4    21 Savage, 0 songs  On the introspective introduction to his sopho...   \n\n                                  genius_annotations  \\\n0  [('That mean don’t call 12 on me, baby (Don’t ...   \n1  [('I don’t take pics on a jet, lil nigga\\n Thi...   \n2  [('Rap or Go to the League blimp, uh', [['To a...   \n3  [('Too much drip, I’m rainin’, bought a Gucci ...   \n4  [('[Verse 3: J. Cole]', [['Genius broke down t...   \n\n                                     genius_comments release_date  \\\n0  ['Who would have thought that these two artist...   2019-03-01   \n1  ['Damn. He changed his voice 3 or 4 times man....   2019-03-01   \n2  ['LA FLAME X 2CHAINZ BEEN A DEADLY COMBO SINCE...   2019-03-01   \n3  ['THE WORLD NEEDS “WITHOUT WARNING 2” 🙏🏽', 'if...   2018-12-21   \n4  ['J COLE CAME IN LIKE', 'J. COLE SNAPPED ON TH...   2018-12-21   \n\n  url_first_word artist_first_word  \n0              2                 2  \n1              2                 2  \n2              2                 2  \n3             21                21  \n4             21                21  ",
      "text/html": "<div>\n<style scoped>\n    .dataframe tbody tr th:only-of-type {\n        vertical-align: middle;\n    }\n\n    .dataframe tbody tr th {\n        vertical-align: top;\n    }\n\n    .dataframe thead th {\n        text-align: right;\n    }\n</style>\n<table border=\"1\" class=\"dataframe\">\n  <thead>\n    <tr style=\"text-align: right;\">\n      <th></th>\n      <th>id</th>\n      <th>artist</th>\n      <th>first_artist</th>\n      <th>song</th>\n      <th>weeks_on_chart</th>\n      <th>peak_rank</th>\n      <th>first_appearance</th>\n      <th>lyrics</th>\n      <th>url</th>\n      <th>genius_id</th>\n      <th>genius_primary_artist</th>\n      <th>genius_description</th>\n      <th>genius_annotations</th>\n      <th>genius_comments</th>\n      <th>release_date</th>\n      <th>url_first_word</th>\n      <th>artist_first_word</th>\n    </tr>\n  </thead>\n  <tbody>\n    <tr>\n      <th>0</th>\n      <td>1093</td>\n      <td>2 Chainz Featuring Ariana Grande</td>\n      <td>2 Chainz</td>\n      <td>Rule The World</td>\n      <td>2</td>\n      <td>94</td>\n      <td>2019-03-16</td>\n      <td>Yeah\\nUh-huh\\n(Hitmaka)\\n2 Chainz\\n\\nTop down ...</td>\n      <td>https://genius.com/2-chainz-rule-the-world-lyrics</td>\n      <td>4327593.0</td>\n      <td>2 Chainz, 0 songs</td>\n      <td>“Rule the World” sees 2 Chainz rapping about h...</td>\n      <td>[('That mean don’t call 12 on me, baby (Don’t ...</td>\n      <td>['Who would have thought that these two artist...</td>\n      <td>2019-03-01</td>\n      <td>2</td>\n      <td>2</td>\n    </tr>\n    <tr>\n      <th>1</th>\n      <td>1099</td>\n      <td>2 Chainz Featuring Kendrick Lamar</td>\n      <td>2 Chainz</td>\n      <td>Momma I Hit A Lick</td>\n      <td>1</td>\n      <td>100</td>\n      <td>2019-03-16</td>\n      <td>I want it, I want it, I want it-it-it-it\\n\\nCh...</td>\n      <td>https://genius.com/2-chainz-momma-i-hit-a-lick...</td>\n      <td>4346683.0</td>\n      <td>2 Chainz, 0 songs</td>\n      <td>“Momma I Hit a Lick” is the first direct colla...</td>\n      <td>[('I don’t take pics on a jet, lil nigga\\n Thi...</td>\n      <td>['Damn. He changed his voice 3 or 4 times man....</td>\n      <td>2019-03-01</td>\n      <td>2</td>\n      <td>2</td>\n    </tr>\n    <tr>\n      <th>2</th>\n      <td>1074</td>\n      <td>2 Chainz Featuring Travis Scott</td>\n      <td>2 Chainz</td>\n      <td>Whip</td>\n      <td>1</td>\n      <td>75</td>\n      <td>2019-03-16</td>\n      <td>Yeah\\nDo it no hands, yeah, do it, no handstan...</td>\n      <td>https://genius.com/2-chainz-whip-lyrics</td>\n      <td>4327641.0</td>\n      <td>2 Chainz, 0 songs</td>\n      <td>In the sixth track off of 2 Chainz’s highly an...</td>\n      <td>[('Rap or Go to the League blimp, uh', [['To a...</td>\n      <td>['LA FLAME X 2CHAINZ BEEN A DEADLY COMBO SINCE...</td>\n      <td>2019-03-01</td>\n      <td>2</td>\n      <td>2</td>\n    </tr>\n    <tr>\n      <th>3</th>\n      <td>85</td>\n      <td>21 Savage</td>\n      <td>21 Savage</td>\n      <td>1.5</td>\n      <td>1</td>\n      <td>86</td>\n      <td>2019-01-05</td>\n      <td>My earrings cost a half a ticket, I don't hear...</td>\n      <td>https://genius.com/21-savage-15-lyrics</td>\n      <td>4155501.0</td>\n      <td>21 Savage, 0 songs</td>\n      <td>“1.5” is a collaboration between Migos member,...</td>\n      <td>[('Too much drip, I’m rainin’, bought a Gucci ...</td>\n      <td>['THE WORLD NEEDS “WITHOUT WARNING 2” 🙏🏽', 'if...</td>\n      <td>2018-12-21</td>\n      <td>21</td>\n      <td>21</td>\n    </tr>\n    <tr>\n      <th>4</th>\n      <td>36</td>\n      <td>21 Savage</td>\n      <td>21 Savage</td>\n      <td>A Lot</td>\n      <td>23</td>\n      <td>12</td>\n      <td>2019-01-05</td>\n      <td>I love you\\nTurn my headphone down a little bi...</td>\n      <td>https://genius.com/21-savage-a-lot-lyrics</td>\n      <td>4155494.0</td>\n      <td>21 Savage, 0 songs</td>\n      <td>On the introspective introduction to his sopho...</td>\n      <td>[('[Verse 3: J. Cole]', [['Genius broke down t...</td>\n      <td>['J COLE CAME IN LIKE', 'J. COLE SNAPPED ON TH...</td>\n      <td>2018-12-21</td>\n      <td>21</td>\n      <td>21</td>\n    </tr>\n  </tbody>\n</table>\n</div>"
     },
     "execution_count": 1,
     "metadata": {},
     "output_type": "execute_result"
    }
   ],
   "source": [
    "import pandas as pd # data processing, CSV file I/O (e.g. pd.read_csv)\n",
    "import os\n",
    "for dirname, _, filenames in os.walk('data'):\n",
    "    for filename in filenames:\n",
    "        print(os.path.join(dirname, filename))\n",
    "\n",
    "\n",
    "bb_l = pd.read_csv('../../data/lyrics/N-BB-L_raw.csv.csv', encoding='utf-8', index_col=0)\n",
    "bb_l.head()"
   ]
  },
  {
   "cell_type": "code",
   "execution_count": 2,
   "outputs": [
    {
     "name": "stdout",
     "output_type": "stream",
     "text": [
      "<class 'pandas.core.frame.DataFrame'>\n",
      "Int64Index: 1322 entries, 0 to 1321\n",
      "Data columns (total 17 columns):\n",
      " #   Column                 Non-Null Count  Dtype  \n",
      "---  ------                 --------------  -----  \n",
      " 0   id                     1322 non-null   int64  \n",
      " 1   artist                 1322 non-null   object \n",
      " 2   first_artist           1322 non-null   object \n",
      " 3   song                   1322 non-null   object \n",
      " 4   weeks_on_chart         1322 non-null   int64  \n",
      " 5   peak_rank              1322 non-null   int64  \n",
      " 6   first_appearance       1322 non-null   object \n",
      " 7   lyrics                 1322 non-null   object \n",
      " 8   url                    1311 non-null   object \n",
      " 9   genius_id              1311 non-null   float64\n",
      " 10  genius_primary_artist  1311 non-null   object \n",
      " 11  genius_description     1310 non-null   object \n",
      " 12  genius_annotations     1322 non-null   object \n",
      " 13  genius_comments        1322 non-null   object \n",
      " 14  release_date           1263 non-null   object \n",
      " 15  url_first_word         1305 non-null   object \n",
      " 16  artist_first_word      1322 non-null   object \n",
      "dtypes: float64(1), int64(3), object(13)\n",
      "memory usage: 185.9+ KB\n"
     ]
    }
   ],
   "source": [
    "bb_l.info()"
   ],
   "metadata": {
    "collapsed": false,
    "pycharm": {
     "name": "#%%\n"
    }
   }
  },
  {
   "cell_type": "markdown",
   "source": [
    "### Quick Validation using the shape of the URL\n",
    "\n",
    "Links to valid lyrics often start with the artist name."
   ],
   "metadata": {
    "collapsed": false,
    "pycharm": {
     "name": "#%% md\n"
    }
   }
  },
  {
   "cell_type": "code",
   "execution_count": 3,
   "metadata": {
    "pycharm": {
     "name": "#%%\n"
    }
   },
   "outputs": [],
   "source": [
    "def get_first_url_artist(url):\n",
    "    url = str(url)\n",
    "    if len(url) > 0:\n",
    "        return url.replace('https://genius.com/', '').split('-')[0].lower()\n",
    "\n",
    "bb_l['url_first_word'] = bb_l['url'].apply(lambda url: get_first_url_artist(url))\n",
    "bb_l['artist_first_word'] = bb_l['artist'].apply(lambda artist: str(artist).split()[0].lower())"
   ]
  },
  {
   "cell_type": "code",
   "execution_count": 4,
   "outputs": [
    {
     "data": {
      "text/plain": "       id                                             artist  \\\n22   9373                           21 Savage & Metro Boomin   \n27   8583                       24kGoldn Featuring iann dior   \n49   8418       A$AP Ferg Featuring  Nicki Minaj & MadeinTYO   \n50   3668                                         A$AP Rocky   \n66    467                                 Anuel AA & Karol G   \n68   3051  Anuel AA, Daddy Yankee, Karol G, Ozuna & J Balvin   \n69   6877                                    Arcangel x Sech   \n97   9707  Ariana Grande Feat. Doja Cat & Megan Thee Stal...   \n100  9751              Ariana Grande Featuring Ty Dolla $ign   \n109  1667                        Avicii Featuring Aloe Blacc   \n\n                               first_artist               song  \\\n22                                21 Savage  Steppin On N*ggas   \n27                                 24kGoldn               Mood   \n49                                A$AP Ferg       Move Ya Hips   \n50                               A$AP Rocky       Babushka Boi   \n66                                 Anuel AA            Secreto   \n68   Anuel AA, Daddy Yankee, Karol G, Ozuna              China   \n69                                 Arcangel      Sigues Con El   \n97             Ariana Grande Feat. Doja Cat              34+35   \n100                           Ariana Grande         Safety Net   \n109                                  Avicii                SOS   \n\n     weeks_on_chart  peak_rank first_appearance  \\\n22                1         74       2020-10-17   \n27               20          1       2020-08-22   \n49                2         19       2020-08-15   \n50                1         69       2019-09-14   \n66               11         68       2019-02-02   \n68               18         43       2019-08-03   \n69                3         78       2020-04-25   \n97                8          8       2020-11-14   \n100               1         52       2020-11-14   \n109               4         68       2019-04-27   \n\n                                                lyrics  \\\n22   Last updated: 10/6/2018, 5:16PM MST\\nOctoberOc...   \n27   Why you always such a noob\\nWalking round, act...   \n49   It's that time again\\nFrankie motherfuckin' P\\...   \n50   Uh\\nThey call me F-L-A-C-K-O and don't play, n...   \n66   Bebecita\\nBebe-bebecita, uah\\nBebecita\\n\\nLo d...   \n68   Honey came in and she caught me red-handed\\nCr...   \n69   * = letra incompleta.\\n = Canción filtrada\\n02...   \n97   Mmm\\n\\nPensarás que estoy loca\\nPor la forma e...   \n100  Si\\n\\nSabes que realmente eres algo, si\\n¿Cómo...   \n109  InternationalRanking (100)100. Andrew Huang, \"...   \n\n                                                   url  genius_id  \\\n22   https://genius.com/Gerald-haywood-2018-haywood...  3406355.0   \n27   https://genius.com/Blue-blob-yt-noob-roblox-pa...  6182651.0   \n49    https://genius.com/A-ap-ferg-move-ya-hips-lyrics  5559925.0   \n50   https://genius.com/A-ap-rocky-babushka-boi-lyrics  4178087.0   \n66   https://genius.com/Karol-g-and-anuel-aa-secret...  4119949.0   \n68   https://genius.com/Genius-english-translations...  4725425.0   \n69   https://genius.com/Genius-en-espanol-sencillos...  4135434.0   \n97   https://genius.com/Genius-traducciones-al-espa...  6306581.0   \n100  https://genius.com/Genius-traducciones-al-espa...  6094676.0   \n109  https://genius.com/Pierfrancescocosta-i-miei-p...  5063059.0   \n\n                       genius_primary_artist  \\\n22                   Gerald Haywood, 0 songs   \n27                   Blue Blob (YT), 0 songs   \n49                        A$AP Ferg, 0 songs   \n50                       A$AP Rocky, 0 songs   \n66               KAROL G & Anuel AA, 0 songs   \n68      Genius English Translations, 0 songs   \n69                Genius en Español, 0 songs   \n97   Genius Traducciones al Español, 0 songs   \n100  Genius Traducciones al Español, 0 songs   \n109              PierFrancescoCosta, 0 songs   \n\n                                    genius_description  \\\n22   Pretty much the same thing as last year minus ...   \n27        a parody of the song mood but made in roblox   \n49   “Move Ya Hips” is a collaboration between A$AP...   \n50   “Babushka” is Russian for “grandmother” or “el...   \n66   “Secreto” es una confesión de amor entre Karol...   \n68   “China” is a super union between cultures and ...   \n69   BIENVENIDO AL CALENDARIO DE SENCILLOS DE GENIU...   \n97   Ariana se une a Doja Cat y Megan Thee Stallion...   \n100  Para la séptima pista de su sexto álbum de est...   \n109  Benvenuti/e!\\n\\nLungo tutto l'anno, grazie ad ...   \n\n                                    genius_annotations  \\\n22                                                  []   \n27   [('Why you always such a noob\\n Walking round,...   \n49   [('Pockets is fat like The Klumps (Klumps)', [...   \n50   [('Benjis in the safe (That’s right, ayy)', [[...   \n66   [('Y de tu cuerpo soy un tecato (-cato)', [['T...   \n68                                                  []   \n69                                                  []   \n97                                                  []   \n100  [('¿Es real esta vez o está en mi cabeza?\\n (¿...   \n109  [('The Unlikely Candidates, “Novocaine”', [['T...   \n\n                                       genius_comments release_date  \\\n22                                                  []   2018-01-01   \n27                                                  []   2020-11-01   \n49   ['she’s coming. 2020 is hers 😛😛', 'bruh Nicki ...   2020-07-30   \n50   ['', 'LORD PRETTY FLACKO', 'the hottest babush...   2019-08-28   \n66   ['QUE VIVA EL AMOOOR ❤️❤️❤️', 'Esta canción ti...   2019-01-15   \n68                                                  []   2019-07-19   \n69   ['', 'También harán una lista para los estreno...          NaN   \n97   ['best all it is the best song i ever hear esp...   2021-01-15   \n100                                                 []   2020-10-30   \n109  ['Finalmente, ho finito di completare queste m...   2019-11-29   \n\n         url_first_word artist_first_word  \n22               gerald                21  \n27                 blue          24kgoldn  \n49                    a              a$ap  \n50                    a              a$ap  \n66                karol             anuel  \n68               genius             anuel  \n69               genius          arcangel  \n97               genius            ariana  \n100              genius            ariana  \n109  pierfrancescocosta            avicii  ",
      "text/html": "<div>\n<style scoped>\n    .dataframe tbody tr th:only-of-type {\n        vertical-align: middle;\n    }\n\n    .dataframe tbody tr th {\n        vertical-align: top;\n    }\n\n    .dataframe thead th {\n        text-align: right;\n    }\n</style>\n<table border=\"1\" class=\"dataframe\">\n  <thead>\n    <tr style=\"text-align: right;\">\n      <th></th>\n      <th>id</th>\n      <th>artist</th>\n      <th>first_artist</th>\n      <th>song</th>\n      <th>weeks_on_chart</th>\n      <th>peak_rank</th>\n      <th>first_appearance</th>\n      <th>lyrics</th>\n      <th>url</th>\n      <th>genius_id</th>\n      <th>genius_primary_artist</th>\n      <th>genius_description</th>\n      <th>genius_annotations</th>\n      <th>genius_comments</th>\n      <th>release_date</th>\n      <th>url_first_word</th>\n      <th>artist_first_word</th>\n    </tr>\n  </thead>\n  <tbody>\n    <tr>\n      <th>22</th>\n      <td>9373</td>\n      <td>21 Savage &amp; Metro Boomin</td>\n      <td>21 Savage</td>\n      <td>Steppin On N*ggas</td>\n      <td>1</td>\n      <td>74</td>\n      <td>2020-10-17</td>\n      <td>Last updated: 10/6/2018, 5:16PM MST\\nOctoberOc...</td>\n      <td>https://genius.com/Gerald-haywood-2018-haywood...</td>\n      <td>3406355.0</td>\n      <td>Gerald Haywood, 0 songs</td>\n      <td>Pretty much the same thing as last year minus ...</td>\n      <td>[]</td>\n      <td>[]</td>\n      <td>2018-01-01</td>\n      <td>gerald</td>\n      <td>21</td>\n    </tr>\n    <tr>\n      <th>27</th>\n      <td>8583</td>\n      <td>24kGoldn Featuring iann dior</td>\n      <td>24kGoldn</td>\n      <td>Mood</td>\n      <td>20</td>\n      <td>1</td>\n      <td>2020-08-22</td>\n      <td>Why you always such a noob\\nWalking round, act...</td>\n      <td>https://genius.com/Blue-blob-yt-noob-roblox-pa...</td>\n      <td>6182651.0</td>\n      <td>Blue Blob (YT), 0 songs</td>\n      <td>a parody of the song mood but made in roblox</td>\n      <td>[('Why you always such a noob\\n Walking round,...</td>\n      <td>[]</td>\n      <td>2020-11-01</td>\n      <td>blue</td>\n      <td>24kgoldn</td>\n    </tr>\n    <tr>\n      <th>49</th>\n      <td>8418</td>\n      <td>A$AP Ferg Featuring  Nicki Minaj &amp; MadeinTYO</td>\n      <td>A$AP Ferg</td>\n      <td>Move Ya Hips</td>\n      <td>2</td>\n      <td>19</td>\n      <td>2020-08-15</td>\n      <td>It's that time again\\nFrankie motherfuckin' P\\...</td>\n      <td>https://genius.com/A-ap-ferg-move-ya-hips-lyrics</td>\n      <td>5559925.0</td>\n      <td>A$AP Ferg, 0 songs</td>\n      <td>“Move Ya Hips” is a collaboration between A$AP...</td>\n      <td>[('Pockets is fat like The Klumps (Klumps)', [...</td>\n      <td>['she’s coming. 2020 is hers 😛😛', 'bruh Nicki ...</td>\n      <td>2020-07-30</td>\n      <td>a</td>\n      <td>a$ap</td>\n    </tr>\n    <tr>\n      <th>50</th>\n      <td>3668</td>\n      <td>A$AP Rocky</td>\n      <td>A$AP Rocky</td>\n      <td>Babushka Boi</td>\n      <td>1</td>\n      <td>69</td>\n      <td>2019-09-14</td>\n      <td>Uh\\nThey call me F-L-A-C-K-O and don't play, n...</td>\n      <td>https://genius.com/A-ap-rocky-babushka-boi-lyrics</td>\n      <td>4178087.0</td>\n      <td>A$AP Rocky, 0 songs</td>\n      <td>“Babushka” is Russian for “grandmother” or “el...</td>\n      <td>[('Benjis in the safe (That’s right, ayy)', [[...</td>\n      <td>['', 'LORD PRETTY FLACKO', 'the hottest babush...</td>\n      <td>2019-08-28</td>\n      <td>a</td>\n      <td>a$ap</td>\n    </tr>\n    <tr>\n      <th>66</th>\n      <td>467</td>\n      <td>Anuel AA &amp; Karol G</td>\n      <td>Anuel AA</td>\n      <td>Secreto</td>\n      <td>11</td>\n      <td>68</td>\n      <td>2019-02-02</td>\n      <td>Bebecita\\nBebe-bebecita, uah\\nBebecita\\n\\nLo d...</td>\n      <td>https://genius.com/Karol-g-and-anuel-aa-secret...</td>\n      <td>4119949.0</td>\n      <td>KAROL G &amp; Anuel AA, 0 songs</td>\n      <td>“Secreto” es una confesión de amor entre Karol...</td>\n      <td>[('Y de tu cuerpo soy un tecato (-cato)', [['T...</td>\n      <td>['QUE VIVA EL AMOOOR ❤️❤️❤️', 'Esta canción ti...</td>\n      <td>2019-01-15</td>\n      <td>karol</td>\n      <td>anuel</td>\n    </tr>\n    <tr>\n      <th>68</th>\n      <td>3051</td>\n      <td>Anuel AA, Daddy Yankee, Karol G, Ozuna &amp; J Balvin</td>\n      <td>Anuel AA, Daddy Yankee, Karol G, Ozuna</td>\n      <td>China</td>\n      <td>18</td>\n      <td>43</td>\n      <td>2019-08-03</td>\n      <td>Honey came in and she caught me red-handed\\nCr...</td>\n      <td>https://genius.com/Genius-english-translations...</td>\n      <td>4725425.0</td>\n      <td>Genius English Translations, 0 songs</td>\n      <td>“China” is a super union between cultures and ...</td>\n      <td>[]</td>\n      <td>[]</td>\n      <td>2019-07-19</td>\n      <td>genius</td>\n      <td>anuel</td>\n    </tr>\n    <tr>\n      <th>69</th>\n      <td>6877</td>\n      <td>Arcangel x Sech</td>\n      <td>Arcangel</td>\n      <td>Sigues Con El</td>\n      <td>3</td>\n      <td>78</td>\n      <td>2020-04-25</td>\n      <td>* = letra incompleta.\\n = Canción filtrada\\n02...</td>\n      <td>https://genius.com/Genius-en-espanol-sencillos...</td>\n      <td>4135434.0</td>\n      <td>Genius en Español, 0 songs</td>\n      <td>BIENVENIDO AL CALENDARIO DE SENCILLOS DE GENIU...</td>\n      <td>[]</td>\n      <td>['', 'También harán una lista para los estreno...</td>\n      <td>NaN</td>\n      <td>genius</td>\n      <td>arcangel</td>\n    </tr>\n    <tr>\n      <th>97</th>\n      <td>9707</td>\n      <td>Ariana Grande Feat. Doja Cat &amp; Megan Thee Stal...</td>\n      <td>Ariana Grande Feat. Doja Cat</td>\n      <td>34+35</td>\n      <td>8</td>\n      <td>8</td>\n      <td>2020-11-14</td>\n      <td>Mmm\\n\\nPensarás que estoy loca\\nPor la forma e...</td>\n      <td>https://genius.com/Genius-traducciones-al-espa...</td>\n      <td>6306581.0</td>\n      <td>Genius Traducciones al Español, 0 songs</td>\n      <td>Ariana se une a Doja Cat y Megan Thee Stallion...</td>\n      <td>[]</td>\n      <td>['best all it is the best song i ever hear esp...</td>\n      <td>2021-01-15</td>\n      <td>genius</td>\n      <td>ariana</td>\n    </tr>\n    <tr>\n      <th>100</th>\n      <td>9751</td>\n      <td>Ariana Grande Featuring Ty Dolla $ign</td>\n      <td>Ariana Grande</td>\n      <td>Safety Net</td>\n      <td>1</td>\n      <td>52</td>\n      <td>2020-11-14</td>\n      <td>Si\\n\\nSabes que realmente eres algo, si\\n¿Cómo...</td>\n      <td>https://genius.com/Genius-traducciones-al-espa...</td>\n      <td>6094676.0</td>\n      <td>Genius Traducciones al Español, 0 songs</td>\n      <td>Para la séptima pista de su sexto álbum de est...</td>\n      <td>[('¿Es real esta vez o está en mi cabeza?\\n (¿...</td>\n      <td>[]</td>\n      <td>2020-10-30</td>\n      <td>genius</td>\n      <td>ariana</td>\n    </tr>\n    <tr>\n      <th>109</th>\n      <td>1667</td>\n      <td>Avicii Featuring Aloe Blacc</td>\n      <td>Avicii</td>\n      <td>SOS</td>\n      <td>4</td>\n      <td>68</td>\n      <td>2019-04-27</td>\n      <td>InternationalRanking (100)100. Andrew Huang, \"...</td>\n      <td>https://genius.com/Pierfrancescocosta-i-miei-p...</td>\n      <td>5063059.0</td>\n      <td>PierFrancescoCosta, 0 songs</td>\n      <td>Benvenuti/e!\\n\\nLungo tutto l'anno, grazie ad ...</td>\n      <td>[('The Unlikely Candidates, “Novocaine”', [['T...</td>\n      <td>['Finalmente, ho finito di completare queste m...</td>\n      <td>2019-11-29</td>\n      <td>pierfrancescocosta</td>\n      <td>avicii</td>\n    </tr>\n  </tbody>\n</table>\n</div>"
     },
     "execution_count": 4,
     "metadata": {},
     "output_type": "execute_result"
    }
   ],
   "source": [
    "bb_l_invalid = bb_l.loc[bb_l['url_first_word'] != bb_l['artist_first_word']]\n",
    "bb_l_valid = bb_l.loc[bb_l['url_first_word'] == bb_l['artist_first_word']]\n",
    "\n",
    "bb_l_invalid.head(10)"
   ],
   "metadata": {
    "collapsed": false,
    "pycharm": {
     "name": "#%%\n"
    }
   }
  },
  {
   "cell_type": "code",
   "execution_count": 5,
   "outputs": [],
   "source": [
    "bb_l_invalid.to_excel('../../data/output/N-BB-L_invalid.xlsx')\n",
    "bb_l_valid.to_excel('../../data/output/N-BB-L_valid.xlsx')"
   ],
   "metadata": {
    "collapsed": false,
    "pycharm": {
     "name": "#%%\n"
    }
   }
  },
  {
   "cell_type": "markdown",
   "source": [
    "### Manually add IDs and GeniusIDs of missing lyrics"
   ],
   "metadata": {
    "collapsed": false,
    "pycharm": {
     "name": "#%% md\n"
    }
   }
  },
  {
   "cell_type": "code",
   "execution_count": 6,
   "outputs": [],
   "source": [
    "missing_lyrics_ids = [\n",
    "    97, 153, 190, 192, 196, 244, 321, 339, 374, 379, 497, 506, 538, 607, 633, 654, 727, 887, 970, 999, 1003, 1019,\n",
    "    1178, 1247, 1249, 1254, 1320, 49, 50, 66, 332, 447, 449, 476, 477, 503, 504, 505, 507, 668, 693, 793, 958, 959,\n",
    "    1026, 1082, 1114, 1116, 1194, 1237, 1238, 1239, 1240, 1241, 1242, 1243, 1244, 1258, 1261, 27, 68, 69, 100, 109, 110,\n",
    "    114, 127, 128, 152, 162, 163, 193, 218, 227, 265, 266, 272, 303, 304, 311, 326, 330, 351, 352, 354, 369, 372, 388,\n",
    "    390, 392, 393, 394, 455, 457, 510, 511, 515, 516, 535, 536, 540, 552, 556, 584, 585, 586, 593, 594, 595, 596, 614,\n",
    "    615, 616, 617, 640, 651, 655, 656, 675, 677, 716, 732, 744, 782, 801, 821, 836, 847, 855, 892, 901, 910, 918, 931,\n",
    "    936, 937, 939, 956, 957, 961, 962, 963, 964, 968, 996, 1000, 1020, 1021, 1023, 1025, 1053, 1063, 1064, 1083, 1093,\n",
    "    1095, 1110, 1144, 1163, 1164, 1165, 1168, 1169, 1220, 1222, 1253, 1262, 1314, 1315, 1316, 1317, 1318, 1319, 1321\n",
    "]\n",
    "missing_lyrics_genius_ids = [\n",
    "    6071429, 5305004, 1390068, 303219, 5038140, 4533406, 4784379, 546639, 4575105, 4037296, 5670872, 5788892,\n",
    "    104680, 5745230, 5839154, 4430692, 5926814, 5077162, 2121786, 5720908, 5715225, 3993850, 5762248, 1439197, 5971975,\n",
    "    3720335, 4901852, 559925, 4178087, 4119949, 4731629, 5520765, 6047648, 6076844, 4900815, 5788895, 4248426, 5678154,\n",
    "    4870514, 5288212, 4588464, 3820122, 4291284, 4427604, 6528015, 5743232, 5952112, 4799747, 6722709, 4544029, 4535557, 4544031,\n",
    "    4521071, 4544030, 4544034, 4544032, 4525715, 4523445, 4170466, 5596421, 4462636, 4979092, 6094320, 4447612, 5022080,\n",
    "    5881818, 4453270, 4456369, 5305018, 4703948, 4704081, 4934707, 5846656, 5832126, 5522492, 5774099, 3920132, 5806056,\n",
    "    4254100, 4126230, 4989524, 4480026, 4825634, 5310327, 4613586, 4575094, 4575093, 5180447, 3930558, 5180465, 5180434,\n",
    "    5180464, 4212306, 3955579, 5128895, 5127280, 5189988, 1205924, 5710597, 104680, 4595963, 5550049, 4573439, 5741356,\n",
    "    4130757, 6226418, 5956102, 5209178, 5124654, 5168488, 4494445, 4904479, 4824667, 4969021, 5302361, 4027737, 5201526,\n",
    "    4430689, 3995573, 4661037, 4705999, 4817915, 4570978, 5324255, 4519154, 4247380, 5838882, 3754239, 4499218, 6131378,\n",
    "    4929384, 4249016, 5206975, 5591347, 3890633, 4389710, 5295678, 4504390, 5756476, 5043616, 3596005, 3596006, 4911362,\n",
    "    4001436, 5698859, 5657205, 4839342, 4839107, 4839109, 4387319, 5068161, 5258554, 4458959, 4623607, 3592379, 3843671,\n",
    "    4348897, 6260174, 6260141, 5793983, 4472545, 6260168, 434224, 5786497, 5667487, 4880026, 5043803, 4250245, 4135780,\n",
    "    3828011, 4325305, 4708753, 3789374, 5428841\n",
    "]"
   ],
   "metadata": {
    "collapsed": false,
    "pycharm": {
     "name": "#%%\n"
    }
   }
  },
  {
   "cell_type": "code",
   "execution_count": 7,
   "outputs": [],
   "source": [
    "valid_ids = []\n",
    "all_ids = list(bb_l.index)\n",
    "for i in all_ids:\n",
    "    if i not in missing_lyrics_ids:\n",
    "        valid_ids.append(i)"
   ],
   "metadata": {
    "collapsed": false,
    "pycharm": {
     "name": "#%%\n"
    }
   }
  },
  {
   "cell_type": "code",
   "execution_count": 8,
   "outputs": [
    {
     "data": {
      "text/plain": "     id                             artist first_artist                song  \\\n0  1093   2 Chainz Featuring Ariana Grande     2 Chainz      Rule The World   \n1  1099  2 Chainz Featuring Kendrick Lamar     2 Chainz  Momma I Hit A Lick   \n2  1074    2 Chainz Featuring Travis Scott     2 Chainz                Whip   \n3    85                          21 Savage    21 Savage                 1.5   \n4    36                          21 Savage    21 Savage               A Lot   \n\n   weeks_on_chart  peak_rank first_appearance  \\\n0               2         94       2019-03-16   \n1               1        100       2019-03-16   \n2               1         75       2019-03-16   \n3               1         86       2019-01-05   \n4              23         12       2019-01-05   \n\n                                              lyrics  \\\n0  Yeah\\nUh-huh\\n(Hitmaka)\\n2 Chainz\\n\\nTop down ...   \n1  I want it, I want it, I want it-it-it-it\\n\\nCh...   \n2  Yeah\\nDo it no hands, yeah, do it, no handstan...   \n3  My earrings cost a half a ticket, I don't hear...   \n4  I love you\\nTurn my headphone down a little bi...   \n\n                                                 url  genius_id  \\\n0  https://genius.com/2-chainz-rule-the-world-lyrics  4327593.0   \n1  https://genius.com/2-chainz-momma-i-hit-a-lick...  4346683.0   \n2            https://genius.com/2-chainz-whip-lyrics  4327641.0   \n3             https://genius.com/21-savage-15-lyrics  4155501.0   \n4          https://genius.com/21-savage-a-lot-lyrics  4155494.0   \n\n  genius_primary_artist                                 genius_description  \\\n0     2 Chainz, 0 songs  “Rule the World” sees 2 Chainz rapping about h...   \n1     2 Chainz, 0 songs  “Momma I Hit a Lick” is the first direct colla...   \n2     2 Chainz, 0 songs  In the sixth track off of 2 Chainz’s highly an...   \n3    21 Savage, 0 songs  “1.5” is a collaboration between Migos member,...   \n4    21 Savage, 0 songs  On the introspective introduction to his sopho...   \n\n                                  genius_annotations  \\\n0  [('That mean don’t call 12 on me, baby (Don’t ...   \n1  [('I don’t take pics on a jet, lil nigga\\n Thi...   \n2  [('Rap or Go to the League blimp, uh', [['To a...   \n3  [('Too much drip, I’m rainin’, bought a Gucci ...   \n4  [('[Verse 3: J. Cole]', [['Genius broke down t...   \n\n                                     genius_comments release_date  \\\n0  ['Who would have thought that these two artist...   2019-03-01   \n1  ['Damn. He changed his voice 3 or 4 times man....   2019-03-01   \n2  ['LA FLAME X 2CHAINZ BEEN A DEADLY COMBO SINCE...   2019-03-01   \n3  ['THE WORLD NEEDS “WITHOUT WARNING 2” 🙏🏽', 'if...   2018-12-21   \n4  ['J COLE CAME IN LIKE', 'J. COLE SNAPPED ON TH...   2018-12-21   \n\n  url_first_word artist_first_word  \n0              2                 2  \n1              2                 2  \n2              2                 2  \n3             21                21  \n4             21                21  ",
      "text/html": "<div>\n<style scoped>\n    .dataframe tbody tr th:only-of-type {\n        vertical-align: middle;\n    }\n\n    .dataframe tbody tr th {\n        vertical-align: top;\n    }\n\n    .dataframe thead th {\n        text-align: right;\n    }\n</style>\n<table border=\"1\" class=\"dataframe\">\n  <thead>\n    <tr style=\"text-align: right;\">\n      <th></th>\n      <th>id</th>\n      <th>artist</th>\n      <th>first_artist</th>\n      <th>song</th>\n      <th>weeks_on_chart</th>\n      <th>peak_rank</th>\n      <th>first_appearance</th>\n      <th>lyrics</th>\n      <th>url</th>\n      <th>genius_id</th>\n      <th>genius_primary_artist</th>\n      <th>genius_description</th>\n      <th>genius_annotations</th>\n      <th>genius_comments</th>\n      <th>release_date</th>\n      <th>url_first_word</th>\n      <th>artist_first_word</th>\n    </tr>\n  </thead>\n  <tbody>\n    <tr>\n      <th>0</th>\n      <td>1093</td>\n      <td>2 Chainz Featuring Ariana Grande</td>\n      <td>2 Chainz</td>\n      <td>Rule The World</td>\n      <td>2</td>\n      <td>94</td>\n      <td>2019-03-16</td>\n      <td>Yeah\\nUh-huh\\n(Hitmaka)\\n2 Chainz\\n\\nTop down ...</td>\n      <td>https://genius.com/2-chainz-rule-the-world-lyrics</td>\n      <td>4327593.0</td>\n      <td>2 Chainz, 0 songs</td>\n      <td>“Rule the World” sees 2 Chainz rapping about h...</td>\n      <td>[('That mean don’t call 12 on me, baby (Don’t ...</td>\n      <td>['Who would have thought that these two artist...</td>\n      <td>2019-03-01</td>\n      <td>2</td>\n      <td>2</td>\n    </tr>\n    <tr>\n      <th>1</th>\n      <td>1099</td>\n      <td>2 Chainz Featuring Kendrick Lamar</td>\n      <td>2 Chainz</td>\n      <td>Momma I Hit A Lick</td>\n      <td>1</td>\n      <td>100</td>\n      <td>2019-03-16</td>\n      <td>I want it, I want it, I want it-it-it-it\\n\\nCh...</td>\n      <td>https://genius.com/2-chainz-momma-i-hit-a-lick...</td>\n      <td>4346683.0</td>\n      <td>2 Chainz, 0 songs</td>\n      <td>“Momma I Hit a Lick” is the first direct colla...</td>\n      <td>[('I don’t take pics on a jet, lil nigga\\n Thi...</td>\n      <td>['Damn. He changed his voice 3 or 4 times man....</td>\n      <td>2019-03-01</td>\n      <td>2</td>\n      <td>2</td>\n    </tr>\n    <tr>\n      <th>2</th>\n      <td>1074</td>\n      <td>2 Chainz Featuring Travis Scott</td>\n      <td>2 Chainz</td>\n      <td>Whip</td>\n      <td>1</td>\n      <td>75</td>\n      <td>2019-03-16</td>\n      <td>Yeah\\nDo it no hands, yeah, do it, no handstan...</td>\n      <td>https://genius.com/2-chainz-whip-lyrics</td>\n      <td>4327641.0</td>\n      <td>2 Chainz, 0 songs</td>\n      <td>In the sixth track off of 2 Chainz’s highly an...</td>\n      <td>[('Rap or Go to the League blimp, uh', [['To a...</td>\n      <td>['LA FLAME X 2CHAINZ BEEN A DEADLY COMBO SINCE...</td>\n      <td>2019-03-01</td>\n      <td>2</td>\n      <td>2</td>\n    </tr>\n    <tr>\n      <th>3</th>\n      <td>85</td>\n      <td>21 Savage</td>\n      <td>21 Savage</td>\n      <td>1.5</td>\n      <td>1</td>\n      <td>86</td>\n      <td>2019-01-05</td>\n      <td>My earrings cost a half a ticket, I don't hear...</td>\n      <td>https://genius.com/21-savage-15-lyrics</td>\n      <td>4155501.0</td>\n      <td>21 Savage, 0 songs</td>\n      <td>“1.5” is a collaboration between Migos member,...</td>\n      <td>[('Too much drip, I’m rainin’, bought a Gucci ...</td>\n      <td>['THE WORLD NEEDS “WITHOUT WARNING 2” 🙏🏽', 'if...</td>\n      <td>2018-12-21</td>\n      <td>21</td>\n      <td>21</td>\n    </tr>\n    <tr>\n      <th>4</th>\n      <td>36</td>\n      <td>21 Savage</td>\n      <td>21 Savage</td>\n      <td>A Lot</td>\n      <td>23</td>\n      <td>12</td>\n      <td>2019-01-05</td>\n      <td>I love you\\nTurn my headphone down a little bi...</td>\n      <td>https://genius.com/21-savage-a-lot-lyrics</td>\n      <td>4155494.0</td>\n      <td>21 Savage, 0 songs</td>\n      <td>On the introspective introduction to his sopho...</td>\n      <td>[('[Verse 3: J. Cole]', [['Genius broke down t...</td>\n      <td>['J COLE CAME IN LIKE', 'J. COLE SNAPPED ON TH...</td>\n      <td>2018-12-21</td>\n      <td>21</td>\n      <td>21</td>\n    </tr>\n  </tbody>\n</table>\n</div>"
     },
     "execution_count": 8,
     "metadata": {},
     "output_type": "execute_result"
    }
   ],
   "source": [
    "bb_l_invalid = bb_l.loc[missing_lyrics_ids]\n",
    "bb_l_valid = bb_l.loc[valid_ids]\n",
    "bb_l_valid.head()"
   ],
   "metadata": {
    "collapsed": false,
    "pycharm": {
     "name": "#%%\n"
    }
   }
  },
  {
   "cell_type": "code",
   "execution_count": 9,
   "outputs": [
    {
     "data": {
      "text/plain": "        id                                             artist  \\\n97    9707  Ariana Grande Feat. Doja Cat & Megan Thee Stal...   \n153   6252                           Bad Bunny X Daddy Yankee   \n190  10449                                        Bing Crosby   \n192  10435                  Bing Crosby & The Andrews Sisters   \n196   5178               Blake Shelton Duet With Gwen Stefani   \n\n                             first_artist                               song  \\\n97           Ariana Grande Feat. Doja Cat                              34+35   \n153                             Bad Bunny                           La Santa   \n190                           Bing Crosby         I'll Be Home For Christmas   \n192                           Bing Crosby  Mele Kalikimaka (Merry Christmas)   \n196  Blake Shelton Duet With Gwen Stefani                     Nobody But You   \n\n     weeks_on_chart  peak_rank first_appearance  \\\n97                8          8       2020-11-14   \n153               2         53       2020-03-14   \n190               1         50       2021-01-02   \n192               1         36       2021-01-02   \n196              25         18       2019-12-28   \n\n                                                lyrics  \\\n97   Mmm\\n\\nPensarás que estoy loca\\nPor la forma e...   \n153  1,000,000+ views\\n🔸 Bad Bunny - Yonaguni // 1M...   \n190  \"I Robot,\" Alan Parson's Project\\n\\n\"I Walk Th...   \n192                                           !NoSong!   \n196  Harry Styles - Treat People With Kindness\\nAle...   \n\n                                                   url  genius_id  \\\n97   https://genius.com/Genius-traducciones-al-espa...    6071429   \n153  https://genius.com/Polka-delamusic-polkas-popu...    5305004   \n190  https://genius.com/Screen-genius-song-titles-t...    1390068   \n192                                                NaN     303219   \n196  https://genius.com/Spotify-new-music-friday-12...    5038140   \n\n                       genius_primary_artist  \\\n97   Genius Traducciones al Español, 0 songs   \n153               Polka_DeLaMusic ⚡, 0 songs   \n190                   Screen Genius, 0 songs   \n192                                      NaN   \n196                         Spotify, 0 songs   \n\n                                    genius_description  \\\n97   Ariana se une a Doja Cat y Megan Thee Stallion...   \n153  Una lista de algunas de mis transcripciones má...   \n190                                                  ?   \n192                                                NaN   \n196  Every Friday, Spotify compiles the hottest and...   \n\n                                    genius_annotations  \\\n97                                                  []   \n153  [('323.2K', [['Esta canción debería tener MUCH...   \n190                                                 []   \n192                                                 []   \n196                                                 []   \n\n                                       genius_comments release_date  \\\n97   ['best all it is the best song i ever hear esp...   2021-01-15   \n153  ['WOOWWW. Me impresionas, eres grande.', 'Safa...          NaN   \n190                                                 []          NaN   \n192                                                 []          NaN   \n196                                                 []   2019-12-13   \n\n    url_first_word artist_first_word  \n97          genius            ariana  \n153          polka               bad  \n190         screen              bing  \n192            nan              bing  \n196        spotify             blake  ",
      "text/html": "<div>\n<style scoped>\n    .dataframe tbody tr th:only-of-type {\n        vertical-align: middle;\n    }\n\n    .dataframe tbody tr th {\n        vertical-align: top;\n    }\n\n    .dataframe thead th {\n        text-align: right;\n    }\n</style>\n<table border=\"1\" class=\"dataframe\">\n  <thead>\n    <tr style=\"text-align: right;\">\n      <th></th>\n      <th>id</th>\n      <th>artist</th>\n      <th>first_artist</th>\n      <th>song</th>\n      <th>weeks_on_chart</th>\n      <th>peak_rank</th>\n      <th>first_appearance</th>\n      <th>lyrics</th>\n      <th>url</th>\n      <th>genius_id</th>\n      <th>genius_primary_artist</th>\n      <th>genius_description</th>\n      <th>genius_annotations</th>\n      <th>genius_comments</th>\n      <th>release_date</th>\n      <th>url_first_word</th>\n      <th>artist_first_word</th>\n    </tr>\n  </thead>\n  <tbody>\n    <tr>\n      <th>97</th>\n      <td>9707</td>\n      <td>Ariana Grande Feat. Doja Cat &amp; Megan Thee Stal...</td>\n      <td>Ariana Grande Feat. Doja Cat</td>\n      <td>34+35</td>\n      <td>8</td>\n      <td>8</td>\n      <td>2020-11-14</td>\n      <td>Mmm\\n\\nPensarás que estoy loca\\nPor la forma e...</td>\n      <td>https://genius.com/Genius-traducciones-al-espa...</td>\n      <td>6071429</td>\n      <td>Genius Traducciones al Español, 0 songs</td>\n      <td>Ariana se une a Doja Cat y Megan Thee Stallion...</td>\n      <td>[]</td>\n      <td>['best all it is the best song i ever hear esp...</td>\n      <td>2021-01-15</td>\n      <td>genius</td>\n      <td>ariana</td>\n    </tr>\n    <tr>\n      <th>153</th>\n      <td>6252</td>\n      <td>Bad Bunny X Daddy Yankee</td>\n      <td>Bad Bunny</td>\n      <td>La Santa</td>\n      <td>2</td>\n      <td>53</td>\n      <td>2020-03-14</td>\n      <td>1,000,000+ views\\n🔸 Bad Bunny - Yonaguni // 1M...</td>\n      <td>https://genius.com/Polka-delamusic-polkas-popu...</td>\n      <td>5305004</td>\n      <td>Polka_DeLaMusic ⚡, 0 songs</td>\n      <td>Una lista de algunas de mis transcripciones má...</td>\n      <td>[('323.2K', [['Esta canción debería tener MUCH...</td>\n      <td>['WOOWWW. Me impresionas, eres grande.', 'Safa...</td>\n      <td>NaN</td>\n      <td>polka</td>\n      <td>bad</td>\n    </tr>\n    <tr>\n      <th>190</th>\n      <td>10449</td>\n      <td>Bing Crosby</td>\n      <td>Bing Crosby</td>\n      <td>I'll Be Home For Christmas</td>\n      <td>1</td>\n      <td>50</td>\n      <td>2021-01-02</td>\n      <td>\"I Robot,\" Alan Parson's Project\\n\\n\"I Walk Th...</td>\n      <td>https://genius.com/Screen-genius-song-titles-t...</td>\n      <td>1390068</td>\n      <td>Screen Genius, 0 songs</td>\n      <td>?</td>\n      <td>[]</td>\n      <td>[]</td>\n      <td>NaN</td>\n      <td>screen</td>\n      <td>bing</td>\n    </tr>\n    <tr>\n      <th>192</th>\n      <td>10435</td>\n      <td>Bing Crosby &amp; The Andrews Sisters</td>\n      <td>Bing Crosby</td>\n      <td>Mele Kalikimaka (Merry Christmas)</td>\n      <td>1</td>\n      <td>36</td>\n      <td>2021-01-02</td>\n      <td>!NoSong!</td>\n      <td>NaN</td>\n      <td>303219</td>\n      <td>NaN</td>\n      <td>NaN</td>\n      <td>[]</td>\n      <td>[]</td>\n      <td>NaN</td>\n      <td>nan</td>\n      <td>bing</td>\n    </tr>\n    <tr>\n      <th>196</th>\n      <td>5178</td>\n      <td>Blake Shelton Duet With Gwen Stefani</td>\n      <td>Blake Shelton Duet With Gwen Stefani</td>\n      <td>Nobody But You</td>\n      <td>25</td>\n      <td>18</td>\n      <td>2019-12-28</td>\n      <td>Harry Styles - Treat People With Kindness\\nAle...</td>\n      <td>https://genius.com/Spotify-new-music-friday-12...</td>\n      <td>5038140</td>\n      <td>Spotify, 0 songs</td>\n      <td>Every Friday, Spotify compiles the hottest and...</td>\n      <td>[]</td>\n      <td>[]</td>\n      <td>2019-12-13</td>\n      <td>spotify</td>\n      <td>blake</td>\n    </tr>\n  </tbody>\n</table>\n</div>"
     },
     "execution_count": 9,
     "metadata": {},
     "output_type": "execute_result"
    }
   ],
   "source": [
    "bb_l_invalid['genius_id'] = missing_lyrics_genius_ids\n",
    "bb_l_invalid.head()"
   ],
   "metadata": {
    "collapsed": false,
    "pycharm": {
     "name": "#%%\n"
    }
   }
  },
  {
   "cell_type": "markdown",
   "source": [
    "### Export invalid lyrics with links for LyricsGenius"
   ],
   "metadata": {
    "collapsed": false,
    "pycharm": {
     "name": "#%% md\n"
    }
   }
  },
  {
   "cell_type": "code",
   "execution_count": 10,
   "outputs": [],
   "source": [
    "bb_l_invalid.to_json('../../data/lyrics/N-BB-L_invalid.json')"
   ],
   "metadata": {
    "collapsed": false,
    "pycharm": {
     "name": "#%%\n"
    }
   }
  }
 ],
 "metadata": {
  "kernelspec": {
   "display_name": "Python 3",
   "language": "python",
   "name": "python3"
  },
  "language_info": {
   "codemirror_mode": {
    "name": "ipython",
    "version": 3
   },
   "file_extension": ".py",
   "mimetype": "text/x-python",
   "name": "python",
   "nbconvert_exporter": "python",
   "pygments_lexer": "ipython3",
   "version": "3.7.9"
  }
 },
 "nbformat": 4,
 "nbformat_minor": 1
}