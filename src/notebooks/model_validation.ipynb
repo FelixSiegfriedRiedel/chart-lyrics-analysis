{
 "cells": [
  {
   "cell_type": "code",
   "execution_count": 1,
   "outputs": [
    {
     "name": "stdout",
     "output_type": "stream",
     "text": [
      "--------------------------------------------------\n"
     ]
    }
   ],
   "source": [
    "import numpy as np # linear algebra\n",
    "import pandas as pd # data processing, CSV file I/O (e.g. pd.read_csv)\n",
    "import seaborn as sns\n",
    "import matplotlib.pyplot as plt\n",
    "import datetime\n",
    "import os\n",
    "for dirname, _, filenames in os.walk('data/lyrics'):\n",
    "    for filename in filenames:\n",
    "        print(os.path.join(dirname, filename))\n",
    "\n",
    "print(50*'-')\n",
    "\n",
    "for dirname, _, filenames in os.walk('data/billboard'):\n",
    "    for filename in filenames:\n",
    "        print(os.path.join(dirname, filename))\n",
    "\n",
    "from src.progress_bar import printProgressBar"
   ],
   "metadata": {
    "collapsed": false,
    "pycharm": {
     "name": "#%%\n"
    }
   }
  },
  {
   "cell_type": "code",
   "execution_count": 2,
   "metadata": {
    "collapsed": true
   },
   "outputs": [],
   "source": [
    "train = pd.read_csv('../../spacy/train.csv', index_col=0)\n",
    "valid = pd.read_csv('../../spacy/valid.csv', index_col=0)"
   ]
  },
  {
   "cell_type": "code",
   "execution_count": 16,
   "outputs": [
    {
     "data": {
      "text/plain": "'coronavirus'"
     },
     "execution_count": 16,
     "metadata": {},
     "output_type": "execute_result"
    }
   ],
   "source": [
    "test = \"coronavirus\"\n",
    "test"
   ],
   "metadata": {
    "collapsed": false,
    "pycharm": {
     "name": "#%%\n"
    }
   }
  },
  {
   "cell_type": "code",
   "execution_count": 4,
   "outputs": [],
   "source": [
    "import spacy\n",
    "nlp = spacy.load(\"../../spacy/output/model-last\")"
   ],
   "metadata": {
    "collapsed": false,
    "pycharm": {
     "name": "#%%\n"
    }
   }
  },
  {
   "cell_type": "code",
   "execution_count": 17,
   "outputs": [
    {
     "data": {
      "text/plain": "{'is_corona_line': 0.9067853689193726,\n 'is_not_corona_line': 0.09321463853120804}"
     },
     "execution_count": 17,
     "metadata": {},
     "output_type": "execute_result"
    }
   ],
   "source": [
    "doc = nlp(test)\n",
    "doc.cats\n"
   ],
   "metadata": {
    "collapsed": false,
    "pycharm": {
     "name": "#%%\n"
    }
   }
  },
  {
   "cell_type": "code",
   "execution_count": 6,
   "outputs": [
    {
     "name": "stdout",
     "output_type": "stream",
     "text": [
      "Progress: |██████████████████████████████████████████████████| 100.0% Complete\r\n"
     ]
    }
   ],
   "source": [
    "lyrics = pd.read_csv('../../data/lyrics/bb_t100_lyrics_en.csv')\n",
    "i = 1\n",
    "l = len(lyrics)\n",
    "printProgressBar(0, l, prefix = 'Progress:', suffix = 'Complete', length = 50)\n",
    "corona_lines = []\n",
    "for row in lyrics.itertuples():\n",
    "    printProgressBar(i, l, prefix = 'Progress:', suffix = 'Complete', length = 50)\n",
    "    i +=1\n",
    "    lyrics = row[9]\n",
    "    for line in lyrics.split(\"\\n\"):\n",
    "        doc = nlp(line)\n",
    "        if doc.cats['is_corona_line'] > 0.8:\n",
    "            corona_lines.append(line)\n"
   ],
   "metadata": {
    "collapsed": false,
    "pycharm": {
     "name": "#%%\n"
    }
   }
  },
  {
   "cell_type": "code",
   "execution_count": 7,
   "outputs": [
    {
     "data": {
      "text/plain": "['Oh, the weather outside is frightful',\n 'Man, where these niggas at? Man, where these niggas at?',\n 'Like, where these niggas at? Ayy, where these niggas at?',\n 'So I guess I gotta stay now',\n \"I probably would, I probably wouldn't\",\n \"I probably would, I probably wouldn't\",\n \"Y'all gotta move, y'all gotta move, y'all gotta move\",\n 'I got spite inside my DNA',\n \"So y'all gotta move (Yeah), y'all gotta move (Yeah), y'all gotta move\",\n 'No fair (No fair)',\n 'Fuck a rich bitch, havin’ rich sex (Rich sex)',\n \"Fuck a rich bitch, havin' rich sex (Rich sex)\",\n \"Fuck a rich bitch, havin' rich sex (Rich sex)\",\n \"Fuck a rich bitch, havin' rich sex (Rich sex)\",\n 'Switch them bags, switch them bags, then move on, then move on',\n \"Where I'm from, police put you six feet\",\n 'Got my interior almond and outside candy (And outside candy)',\n 'Got my interior almond and outside candy (And outside candy)',\n 'Got my interior almond and outside candy (And outside candy)',\n \"But nobody knowin' what's goin' on inside\",\n 'They got my brother locked inside a cage (In a cage)',\n \"Won't you stay inside?\",\n 'How long should I stay dedicated?',\n \"You don't gotta stay the night\",\n \"You don't gotta stay the night\",\n \"You don't gotta stay the night\",\n \"You don't gotta stay the night\",\n \"Oh, I'm good at keeping my distance\",\n \"Oh, I'm good at keeping my distance\",\n \"Got nowhere to stay, bitch, I'm runnin' in your fuckin' house (Bitch)\",\n \"Got nowhere to stay, bitch, I'm runnin' in your fuckin' house (Bitch)\",\n 'Might catch a case in this bitch',\n 'You stay, you stay',\n 'You stay, you stay',\n 'You stay, you stay, oh',\n 'You stay, you stay, oh, you stay',\n 'You stay, you stay, oh',\n 'You stay, you stay, oh',\n \"Don't save, don't save, don't save\",\n \"Don't save, don't save, don't save\",\n 'What? What? What? What? What? What? What? What? What? What?',\n 'What? What? What? What? What? What? What? What? What? What?',\n 'What? What? What? What? What? What? What? What? What? What?',\n 'Got my, got my, got my, got my, got my, got my, got my, got my',\n \"Y'all said I wouldn't go nowhere, I took the detour\",\n \"I can't put my trust inside the system\",\n \"I ain't goin' nowhere\",\n \"I'm still hurting, yeah, I'm hurting inside\",\n 'Me nowhere',\n \"I got rap locked and I'm already paid\",\n \"I got rap locked and I'm already paid\",\n \"I got rap locked and I'm already paid\",\n \"I got rap locked and I'm already paid\",\n 'I keep a hundred racks inside my jeans',\n 'I keep a hundred racks inside my jeans',\n 'I keep a hundred racks inside my jeans',\n 'Leave them cell phones on the table where we see them',\n 'But this is where I belong, this is my home too',\n \"There's nowhere your hands haven't been\",\n \"There's nowhere your hands haven't been (Hands haven't been)\",\n \"There's nowhere your hands haven't been (Oh)\",\n 'They say home is where the heart is',\n 'They say home is where the heart is',\n 'Feels like home, stay in bed',\n 'On lockdown, like a penitentiary',\n 'And called the girls in your DMs and took all them home',\n 'I got straps inside that Bentley',\n \"And rot inside a corpse's shell\",\n 'I had a threesome, then I flushed the rubber down the toilet',\n 'I had a threesome, then I flushed the rubber down the toilet',\n 'And how them umbrellas coming out of locked doors?',\n 'If home is where the heart is',\n 'If home is where the heart is',\n 'If home is where the heart is',\n \"I don't got no opps, they stay inside 'cause they scared of my guns\",\n 'Put an Arabic bitch inside of the face',\n 'I said, stay, stay, babe',\n \"I'm sending condolences inside of a letter\",\n 'What a man gotta say? (What a man gotta say?)',\n \"Walkin', droppin' change inside your empty guitar case\",\n \"I guess it's like electrolytes, you help me go the distance\",\n 'Brody got locked, denied his bail',\n \"That's word to my dawgs, I'ma stay rich\",\n 'R.I.P. Dump, everyday dump a hundred some rounds on them',\n \"I ain't tryna find my way home (I ain't tryna find my way home)\",\n 'Somewhere in the hills, prolly where my bitch stay',\n \"Bow, bow, bow, bow, bow, bow, bow, bow, bow, bow, bah (I'm working on\\u2005dying)\",\n \"I'm working on dying\",\n \"Let's go, let's go (I'm working on dying)\",\n \"You can't go where I go, you can't stay where I stay (Stay)\",\n 'And we had them sticks outside (21)',\n 'Oh, inside you (Oh, inside you)',\n 'My brother got locked, another bond I gotta pay',\n 'My brother got locked, another bond I gotta pay',\n 'My brother got locked, another bond I gotta pay',\n 'My little quarantine? (Quarantine)',\n \"I'm a bitch (I'm a bitch), I'm a boss (I'm a boss)\",\n \"I'm a bitch (I'm a bitch), I'm a boss (I'm a boss)\",\n \"I'm a bitch (I'm a bitch), I'm a boss (I'm a boss)\",\n 'We put the mic outside (Yeah)',\n 'Call them Jassie (Call them Jassie)',\n 'I watched my grandpa save pennies',\n 'I watched my grandpa save pennies',\n 'I watched my grandpa save pennies',\n 'Six, six, six, six, six, six',\n \"Some day when we aren't six feet apart\",\n \"Some day when we aren't six feet apart\",\n \"Some day when we aren't six feet apart\",\n \"Some day when we aren't six feet apart\",\n \"I'm social distancing\",\n 'I got a hundred inside of a drum',\n \"I'm social distancing\",\n 'I got a hundred inside of a drum',\n \"I'm social distancing\",\n 'I got a hundred inside of a drum',\n \"I'm social distancing\",\n \"DSquared got 'em distressed, gotta hand wash\",\n 'They sick, been hot way before coronavirus',\n \"He say I'm hard and he say I'm garbage, I'm rich regardless\",\n \"He say I'm hard and he say I'm garbage, I'm rich regardless\",\n 'I gotta, I gotta, I gotta, I gotta get to the bag, ah (Bag)',\n \"I put baguettie inside the Cartier 'cause I'm feelin' bossy\",\n \"Know what I'm sayin'? You gotta relate\",\n \"It's hard to stay sober when I'm spinnin'\",\n \"Got the 'Rari outside, got the Maybach outside, no lie, no\\u2005lie\",\n \"(Got\\u2005the 'Rari outside,\\u2005got the Maybach outside, no lie,\\u2005no lie)\",\n \"Got the 'Rari outside, got the Maybach outside, no lie, no lie\",\n 'And, I gotta stay laced (I gotta stay laced)',\n 'And, I gotta stay laced (I gotta stay laced)',\n 'And, I gotta stay laced (I gotta stay laced)',\n \"I'm hard on the outside\",\n \"I'm hard on the outside\",\n 'But if you see inside, inside, inside',\n \"I'm hard on the outside\",\n \"I'm hard on the outside\",\n 'But if you see inside, inside, inside',\n 'Door locked in the bathroom',\n \"My flow's still sick, I ain't talkin' a pandemic\",\n \"We outside, we totin' them bangers, we not shootin' at strangers (We outside)\",\n 'Say the name, say the price, put them diamonds on your ear',\n 'Gotta stay high, gotta stay high',\n 'Yeah, I gotta stay high',\n 'Gotta stay high, gotta stay high',\n 'Yeah, I gotta stay high',\n 'Gotta stay high, gotta stay high',\n 'Yeah, I gotta stay high',\n \"I got rich, I got rich, I'm livin' that fast life\",\n 'WiFi on your phone make the long distance seem closer',\n \"And them choppers won't pry from they hands\",\n 'Mirrors inside me (Mirrors inside me)',\n 'This shit the antidote, this the cure cancer flow',\n 'Stop a pandemic and the globe',\n \"I'm inside this bitch with extendos\",\n \"I'm inside this bitch with extendos\",\n \"I'm inside this bitch with extendos\",\n 'Will you stay? Come on, please stay',\n 'Nigga, just keep your distance',\n 'Closed case, tell them all good riddance',\n 'Walked in the scene, took your bitch, probably (Took your bitch)',\n \"I've been quarantined, livin' with my kiddies\",\n \"I be cryin' on the inside and smilin' when the cameras on (Frown on the inside, laugh when the flash on)\",\n 'Fuck a quarantine, all my niggas outside',\n 'Me and cheap girls stay cheap, we do numbers, stay fly',\n 'Still got Rick my feet (My feet)',\n 'Niggas tried to go inside the safe, put the gun in they face',\n 'Yeah, got your bitch (Got your bitch)',\n 'Yeah, got your bitch (Got your bitch)',\n 'Yeah, got your bitch (Got your bitch)',\n \"All my pictures been gettin' these niggas through the quarantine (Yeah)\",\n 'Stay, stay, stay, stay (Always)',\n 'Stay, stay, stay, stay (Always)',\n 'Now I stay on top of them bitches',\n 'Wish your brother merry christmas',\n \"That's how the virus attacks (That's how the virus attacks)\",\n \"That's how the virus attacks (That's how the virus attacks)\",\n \"It's like pneumonia symptoms and contracting COVID instantly\",\n \"So vocalistically (What?), that's social distancing (Yeah)\",\n \"'Nother fourteen-day quarantine, they're cordoning off everything\",\n \"'Cause them stay-at-home orders seem\",\n \"That's how the virus attacks (That's how the virus attacks)\",\n 'I got a blicky it sit on my hippy cause L.A is trickey']"
     },
     "execution_count": 7,
     "metadata": {},
     "output_type": "execute_result"
    }
   ],
   "source": [
    "corona_lines"
   ],
   "metadata": {
    "collapsed": false,
    "pycharm": {
     "name": "#%%\n"
    }
   }
  }
 ],
 "metadata": {
  "kernelspec": {
   "display_name": "Python 3",
   "language": "python",
   "name": "python3"
  },
  "language_info": {
   "codemirror_mode": {
    "name": "ipython",
    "version": 2
   },
   "file_extension": ".py",
   "mimetype": "text/x-python",
   "name": "python",
   "nbconvert_exporter": "python",
   "pygments_lexer": "ipython2",
   "version": "2.7.6"
  }
 },
 "nbformat": 4,
 "nbformat_minor": 0
}