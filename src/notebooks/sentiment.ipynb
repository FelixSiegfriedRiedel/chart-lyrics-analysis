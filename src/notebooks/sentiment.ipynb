{
 "cells": [
  {
   "cell_type": "code",
   "execution_count": 1,
   "metadata": {
    "collapsed": true
   },
   "outputs": [
    {
     "name": "stdout",
     "output_type": "stream",
     "text": [
      "../../data/lyrics/artist_song_lyrics.csv\n",
      "../../data/lyrics/artist_song_lyrics_new.csv\n",
      "../../data/lyrics/bb-t100-lyrics.csv\n",
      "../../data/lyrics/bb_t100_lyrics_en.csv\n",
      "../../data/lyrics/bb_t100_lyrics_en_v2.csv\n",
      "../../data/lyrics/corona-lyrics.csv\n",
      "../../data/lyrics/covid_lyrics_bb.csv\n",
      "../../data/lyrics/lyrics_invalid.json\n",
      "../../data/lyrics/lyrics_invalid_updated.csv\n",
      "../../data/lyrics/backups/artist_song_lyrics_bak.csv\n",
      "../../data/lyrics/backups/bb-t100-lyrics.csv\n",
      "../../data/lyrics/backups/bb-t100-lyrics_new.csv\n",
      "../../data/lyrics/backups/bb-t100-lyrics_old.csv\n",
      "../../data/lyrics/backups/bb_t100_lyrics_en.csv\n",
      "../../data/lyrics/backups/bb_t100_lyrics_en_v1.csv\n",
      "../../data/lyrics/backups/bb_t100_lyrics_en_v2.csv\n",
      "../../data/lyrics/backups/bb_t100_lyrics_en_v3.csv\n",
      "../../data/lyrics/backups/corona-lyrics.csv\n",
      "../../data/lyrics/backups/lyrics_invalid_updated.csv\n",
      "--------------------------------------------------\n",
      "../../data/billboard/bb_t100_en.csv\n",
      "../../data/billboard/billboard.csv\n",
      "../../data/billboard/billboard_top_100_2020.csv\n",
      "../../data/billboard/backups/bb-t100_backup.csv\n"
     ]
    }
   ],
   "source": [
    "import numpy as np  # linear algebra\n",
    "import pandas as pd  # data processing, CSV file I/O (e.g. pd.read_csv)\n",
    "import matplotlib.pyplot as plt\n",
    "import seaborn as sns\n",
    "import os\n",
    "from src.progress_bar import printProgressBar\n",
    "from ast import literal_eval\n",
    "\n",
    "for dirname, _, filenames in os.walk('../../data/lyrics'):\n",
    "    for filename in filenames:\n",
    "        print(os.path.join(dirname, filename).replace(\"\\\\\", \"/\"))\n",
    "\n",
    "print(50 * '-')\n",
    "\n",
    "for dirname, _, filenames in os.walk('../../data/billboard'):\n",
    "    for filename in filenames:\n",
    "        print(os.path.join(dirname, filename).replace(\"\\\\\", \"/\"))\n"
   ]
  },
  {
   "cell_type": "code",
   "execution_count": 2,
   "metadata": {
    "pycharm": {
     "name": "#%%\n"
    }
   },
   "outputs": [],
   "source": [
    "pd.set_option('display.max_rows', 10)\n",
    "pd.set_option('display.max_colwidth', 30)"
   ]
  },
  {
   "cell_type": "code",
   "execution_count": 3,
   "outputs": [
    {
     "data": {
      "text/plain": "   billboard_id  lyrics_id                  artist   first_artist  \\\n0             0          0           Ariana Grande  Ariana Grande   \n1             1          1                  Halsey         Halsey   \n2             2          2            Mariah Carey   Mariah Carey   \n3             3          3            Travis Scott   Travis Scott   \n4             4          4  Post Malone & Swae Lee    Post Malone   \n\n                            song  weeks_on_chart  peak_rank  genius_id  \\\n0                  Thank U, Next            28.0        1.0    4063065   \n1                     Without Me            52.0        1.0    3977187   \n2  All I Want For Christmas I...            43.0        1.0     204233   \n3                     Sicko Mode            52.0        1.0    3876994   \n4  Sunflower (Spider-Man: Int...            53.0        1.0    3993850   \n\n                          lyrics                            url  ...  \\\n0  Thought I'd end up with Se...  https://genius.com/Ariana-...  ...   \n1  Found you when your heart ...  https://genius.com/Halsey-...  ...   \n2  I don't want a lot for Chr...  https://genius.com/Mariah-...  ...   \n3  Astro, yeah\\nSun is down, ...  https://genius.com/Travis-...  ...   \n4  Ayy, ayy, ayy, ayy (Ooh)\\n...  https://genius.com/Post-ma...  ...   \n\n   word_count  language language_score  first_appearance  \\\n0         460        en       0.999997        2019-01-05   \n1         435        en       0.999995        2019-01-05   \n2         388        en       0.999996        2019-01-05   \n3         771        en       0.999998        2019-01-05   \n4         305        en       0.999997        2019-01-05   \n\n    genius_primary_artist             genius_description  \\\n0           Ariana Grande  On the lead single and tit...   \n1                  Halsey  “Without Me” is the first ...   \n2            Mariah Carey  “All I Want For Christmas ...   \n3            Travis Scott  “SICKO MODE” refers to Tra...   \n4  Post Malone & Swae Lee  “Sunflower” marks the seco...   \n\n              genius_annotations                genius_comments release_date  \\\n0  [(One taught me love\\n One...  [The Mac shoutout has me f...   2018-11-03   \n1  [(Gave love ’bout a hundre...  [The queen is ready to sna...   2018-10-04   \n2  [(I don’t need to hang my ...  [i really like this song, ...   1994-11-01   \n3  [(She’s in love with who I...  [HAD ME OUT LIKE A LIGHT (...   2018-08-03   \n4  [(Then you’re left in the ...  [Me enjoying “Sunflower” a...   2018-10-18   \n\n                  annotation_ids  \n0  ['15720075', '15720076', '...  \n1  ['15517989', '15520369', '...  \n2  ['8393500', '8393500', '21...  \n3  ['15114078', '17948214', '...  \n4       ['16057378', '16057378']  \n\n[5 rows x 21 columns]",
      "text/html": "<div>\n<style scoped>\n    .dataframe tbody tr th:only-of-type {\n        vertical-align: middle;\n    }\n\n    .dataframe tbody tr th {\n        vertical-align: top;\n    }\n\n    .dataframe thead th {\n        text-align: right;\n    }\n</style>\n<table border=\"1\" class=\"dataframe\">\n  <thead>\n    <tr style=\"text-align: right;\">\n      <th></th>\n      <th>billboard_id</th>\n      <th>lyrics_id</th>\n      <th>artist</th>\n      <th>first_artist</th>\n      <th>song</th>\n      <th>weeks_on_chart</th>\n      <th>peak_rank</th>\n      <th>genius_id</th>\n      <th>lyrics</th>\n      <th>url</th>\n      <th>...</th>\n      <th>word_count</th>\n      <th>language</th>\n      <th>language_score</th>\n      <th>first_appearance</th>\n      <th>genius_primary_artist</th>\n      <th>genius_description</th>\n      <th>genius_annotations</th>\n      <th>genius_comments</th>\n      <th>release_date</th>\n      <th>annotation_ids</th>\n    </tr>\n  </thead>\n  <tbody>\n    <tr>\n      <th>0</th>\n      <td>0</td>\n      <td>0</td>\n      <td>Ariana Grande</td>\n      <td>Ariana Grande</td>\n      <td>Thank U, Next</td>\n      <td>28.0</td>\n      <td>1.0</td>\n      <td>4063065</td>\n      <td>Thought I'd end up with Se...</td>\n      <td>https://genius.com/Ariana-...</td>\n      <td>...</td>\n      <td>460</td>\n      <td>en</td>\n      <td>0.999997</td>\n      <td>2019-01-05</td>\n      <td>Ariana Grande</td>\n      <td>On the lead single and tit...</td>\n      <td>[(One taught me love\\n One...</td>\n      <td>[The Mac shoutout has me f...</td>\n      <td>2018-11-03</td>\n      <td>['15720075', '15720076', '...</td>\n    </tr>\n    <tr>\n      <th>1</th>\n      <td>1</td>\n      <td>1</td>\n      <td>Halsey</td>\n      <td>Halsey</td>\n      <td>Without Me</td>\n      <td>52.0</td>\n      <td>1.0</td>\n      <td>3977187</td>\n      <td>Found you when your heart ...</td>\n      <td>https://genius.com/Halsey-...</td>\n      <td>...</td>\n      <td>435</td>\n      <td>en</td>\n      <td>0.999995</td>\n      <td>2019-01-05</td>\n      <td>Halsey</td>\n      <td>“Without Me” is the first ...</td>\n      <td>[(Gave love ’bout a hundre...</td>\n      <td>[The queen is ready to sna...</td>\n      <td>2018-10-04</td>\n      <td>['15517989', '15520369', '...</td>\n    </tr>\n    <tr>\n      <th>2</th>\n      <td>2</td>\n      <td>2</td>\n      <td>Mariah Carey</td>\n      <td>Mariah Carey</td>\n      <td>All I Want For Christmas I...</td>\n      <td>43.0</td>\n      <td>1.0</td>\n      <td>204233</td>\n      <td>I don't want a lot for Chr...</td>\n      <td>https://genius.com/Mariah-...</td>\n      <td>...</td>\n      <td>388</td>\n      <td>en</td>\n      <td>0.999996</td>\n      <td>2019-01-05</td>\n      <td>Mariah Carey</td>\n      <td>“All I Want For Christmas ...</td>\n      <td>[(I don’t need to hang my ...</td>\n      <td>[i really like this song, ...</td>\n      <td>1994-11-01</td>\n      <td>['8393500', '8393500', '21...</td>\n    </tr>\n    <tr>\n      <th>3</th>\n      <td>3</td>\n      <td>3</td>\n      <td>Travis Scott</td>\n      <td>Travis Scott</td>\n      <td>Sicko Mode</td>\n      <td>52.0</td>\n      <td>1.0</td>\n      <td>3876994</td>\n      <td>Astro, yeah\\nSun is down, ...</td>\n      <td>https://genius.com/Travis-...</td>\n      <td>...</td>\n      <td>771</td>\n      <td>en</td>\n      <td>0.999998</td>\n      <td>2019-01-05</td>\n      <td>Travis Scott</td>\n      <td>“SICKO MODE” refers to Tra...</td>\n      <td>[(She’s in love with who I...</td>\n      <td>[HAD ME OUT LIKE A LIGHT (...</td>\n      <td>2018-08-03</td>\n      <td>['15114078', '17948214', '...</td>\n    </tr>\n    <tr>\n      <th>4</th>\n      <td>4</td>\n      <td>4</td>\n      <td>Post Malone &amp; Swae Lee</td>\n      <td>Post Malone</td>\n      <td>Sunflower (Spider-Man: Int...</td>\n      <td>53.0</td>\n      <td>1.0</td>\n      <td>3993850</td>\n      <td>Ayy, ayy, ayy, ayy (Ooh)\\n...</td>\n      <td>https://genius.com/Post-ma...</td>\n      <td>...</td>\n      <td>305</td>\n      <td>en</td>\n      <td>0.999997</td>\n      <td>2019-01-05</td>\n      <td>Post Malone &amp; Swae Lee</td>\n      <td>“Sunflower” marks the seco...</td>\n      <td>[(Then you’re left in the ...</td>\n      <td>[Me enjoying “Sunflower” a...</td>\n      <td>2018-10-18</td>\n      <td>['16057378', '16057378']</td>\n    </tr>\n  </tbody>\n</table>\n<p>5 rows × 21 columns</p>\n</div>"
     },
     "execution_count": 3,
     "metadata": {},
     "output_type": "execute_result"
    }
   ],
   "source": [
    "lyrics = pd.read_csv('../../data/lyrics/bb_t100_lyrics_en.csv', index_col=0, encoding='utf-8')\n",
    "lyrics['genius_annotations'] = lyrics['genius_annotations'].apply(literal_eval)\n",
    "lyrics['genius_comments'] = lyrics['genius_comments'].apply(literal_eval)\n",
    "lyrics.head()"
   ],
   "metadata": {
    "collapsed": false,
    "pycharm": {
     "name": "#%%\n"
    }
   }
  },
  {
   "cell_type": "code",
   "execution_count": 4,
   "outputs": [
    {
     "data": {
      "text/plain": "     billboard_id  lyrics_id                         artist  \\\n850          6822        850              twenty one pilots   \n862          6916        862  DaBaby Featuring YoungBoy ...   \n867          6952        867  DaBaby Featuring Future & ...   \n870          6963        870                         DaBaby   \n903          7150        903                          Drake   \n\n          first_artist              song  weeks_on_chart  peak_rank  \\\n850  twenty one pilots  Level Of Concern            11.0       23.0   \n862             DaBaby              Jump             4.0       17.0   \n867             DaBaby    LIGHTSKIN SHIT             1.0       53.0   \n870             DaBaby  BLAME IT ON BABY             1.0       64.0   \n903              Drake            Losses             1.0       51.0   \n\n     genius_id                         lyrics                            url  \\\n850    5428841  Need you, tell me\\nNeed yo...  https://genius.com/Twenty-...   \n862    5465136  (Cha-ching)\\nOkay, let's g...  https://genius.com/Dababy-...   \n867    5465365  Uh, uh, uh-huh\\nYeah (Oh L...  https://genius.com/Dababy-...   \n870    5462131  I'm like fuck it, let the ...  https://genius.com/Dababy-...   \n903    5520818  Hey, Instagram\\nThis song ...  https://genius.com/Drake-l...   \n\n     ...                   com_keywords  keyword_1 keyword_2  keyword_3  \\\n850  ...  {'quarantine': 2, 'm': 2, ...       tell      need       okay   \n862  ...  {'song': 7, 'good': 3, 'al...      bitch     nigga        let   \n867  ...  {'future': 3, 'baby': 2, '...      bitch      fuck       shit   \n870  ...  {'baby': 4, 'song': 2, 'ja...      nigga       let       know   \n903  ...  {'drake': 6, 'bar': 3, 'so...       know      game      nigga   \n\n    keyword_4 keyword_5 has_covid_keyword desc_has_covid_keyword  \\\n850   alright     level              True                   True   \n862       ass      baby             False                   True   \n867      sick       pop             False                  False   \n870      baby     bitch             False                  False   \n903      hold       day             False                   True   \n\n    ann_has_covid_keyword com_has_covid_keyword  \n850                  True                  True  \n862                 False                 False  \n867                  True                 False  \n870                  True                 False  \n903                  True                 False  \n\n[5 rows x 34 columns]",
      "text/html": "<div>\n<style scoped>\n    .dataframe tbody tr th:only-of-type {\n        vertical-align: middle;\n    }\n\n    .dataframe tbody tr th {\n        vertical-align: top;\n    }\n\n    .dataframe thead th {\n        text-align: right;\n    }\n</style>\n<table border=\"1\" class=\"dataframe\">\n  <thead>\n    <tr style=\"text-align: right;\">\n      <th></th>\n      <th>billboard_id</th>\n      <th>lyrics_id</th>\n      <th>artist</th>\n      <th>first_artist</th>\n      <th>song</th>\n      <th>weeks_on_chart</th>\n      <th>peak_rank</th>\n      <th>genius_id</th>\n      <th>lyrics</th>\n      <th>url</th>\n      <th>...</th>\n      <th>com_keywords</th>\n      <th>keyword_1</th>\n      <th>keyword_2</th>\n      <th>keyword_3</th>\n      <th>keyword_4</th>\n      <th>keyword_5</th>\n      <th>has_covid_keyword</th>\n      <th>desc_has_covid_keyword</th>\n      <th>ann_has_covid_keyword</th>\n      <th>com_has_covid_keyword</th>\n    </tr>\n  </thead>\n  <tbody>\n    <tr>\n      <th>850</th>\n      <td>6822</td>\n      <td>850</td>\n      <td>twenty one pilots</td>\n      <td>twenty one pilots</td>\n      <td>Level Of Concern</td>\n      <td>11.0</td>\n      <td>23.0</td>\n      <td>5428841</td>\n      <td>Need you, tell me\\nNeed yo...</td>\n      <td>https://genius.com/Twenty-...</td>\n      <td>...</td>\n      <td>{'quarantine': 2, 'm': 2, ...</td>\n      <td>tell</td>\n      <td>need</td>\n      <td>okay</td>\n      <td>alright</td>\n      <td>level</td>\n      <td>True</td>\n      <td>True</td>\n      <td>True</td>\n      <td>True</td>\n    </tr>\n    <tr>\n      <th>862</th>\n      <td>6916</td>\n      <td>862</td>\n      <td>DaBaby Featuring YoungBoy ...</td>\n      <td>DaBaby</td>\n      <td>Jump</td>\n      <td>4.0</td>\n      <td>17.0</td>\n      <td>5465136</td>\n      <td>(Cha-ching)\\nOkay, let's g...</td>\n      <td>https://genius.com/Dababy-...</td>\n      <td>...</td>\n      <td>{'song': 7, 'good': 3, 'al...</td>\n      <td>bitch</td>\n      <td>nigga</td>\n      <td>let</td>\n      <td>ass</td>\n      <td>baby</td>\n      <td>False</td>\n      <td>True</td>\n      <td>False</td>\n      <td>False</td>\n    </tr>\n    <tr>\n      <th>867</th>\n      <td>6952</td>\n      <td>867</td>\n      <td>DaBaby Featuring Future &amp; ...</td>\n      <td>DaBaby</td>\n      <td>LIGHTSKIN SHIT</td>\n      <td>1.0</td>\n      <td>53.0</td>\n      <td>5465365</td>\n      <td>Uh, uh, uh-huh\\nYeah (Oh L...</td>\n      <td>https://genius.com/Dababy-...</td>\n      <td>...</td>\n      <td>{'future': 3, 'baby': 2, '...</td>\n      <td>bitch</td>\n      <td>fuck</td>\n      <td>shit</td>\n      <td>sick</td>\n      <td>pop</td>\n      <td>False</td>\n      <td>False</td>\n      <td>True</td>\n      <td>False</td>\n    </tr>\n    <tr>\n      <th>870</th>\n      <td>6963</td>\n      <td>870</td>\n      <td>DaBaby</td>\n      <td>DaBaby</td>\n      <td>BLAME IT ON BABY</td>\n      <td>1.0</td>\n      <td>64.0</td>\n      <td>5462131</td>\n      <td>I'm like fuck it, let the ...</td>\n      <td>https://genius.com/Dababy-...</td>\n      <td>...</td>\n      <td>{'baby': 4, 'song': 2, 'ja...</td>\n      <td>nigga</td>\n      <td>let</td>\n      <td>know</td>\n      <td>baby</td>\n      <td>bitch</td>\n      <td>False</td>\n      <td>False</td>\n      <td>True</td>\n      <td>False</td>\n    </tr>\n    <tr>\n      <th>903</th>\n      <td>7150</td>\n      <td>903</td>\n      <td>Drake</td>\n      <td>Drake</td>\n      <td>Losses</td>\n      <td>1.0</td>\n      <td>51.0</td>\n      <td>5520818</td>\n      <td>Hey, Instagram\\nThis song ...</td>\n      <td>https://genius.com/Drake-l...</td>\n      <td>...</td>\n      <td>{'drake': 6, 'bar': 3, 'so...</td>\n      <td>know</td>\n      <td>game</td>\n      <td>nigga</td>\n      <td>hold</td>\n      <td>day</td>\n      <td>False</td>\n      <td>True</td>\n      <td>True</td>\n      <td>False</td>\n    </tr>\n  </tbody>\n</table>\n<p>5 rows × 34 columns</p>\n</div>"
     },
     "execution_count": 4,
     "metadata": {},
     "output_type": "execute_result"
    }
   ],
   "source": [
    "covid_lyrics = pd.read_csv('../../data/lyrics/covid_lyrics_bb.csv', index_col=0, encoding='utf-8')\n",
    "covid_lyrics['genius_annotations'] = covid_lyrics['genius_annotations'].apply(literal_eval)\n",
    "covid_lyrics['genius_comments'] = covid_lyrics['genius_comments'].apply(literal_eval)\n",
    "covid_lyrics['keywords'] = covid_lyrics['keywords'].apply(literal_eval)\n",
    "covid_lyrics['desc_keywords'] = covid_lyrics['desc_keywords'].apply(literal_eval)\n",
    "covid_lyrics['ann_keywords'] = covid_lyrics['ann_keywords'].apply(literal_eval)\n",
    "covid_lyrics['com_keywords'] = covid_lyrics['com_keywords'].apply(literal_eval)\n",
    "covid_lyrics.head()"
   ],
   "metadata": {
    "collapsed": false,
    "pycharm": {
     "name": "#%%\n"
    }
   }
  },
  {
   "cell_type": "code",
   "execution_count": 5,
   "outputs": [
    {
     "data": {
      "text/plain": "   billboard_id  lyrics_id                           song  \\\n0             0          0                  Thank U, Next   \n1             1          1                     Without Me   \n2             2          2  All I Want For Christmas I...   \n3             3          3                     Sicko Mode   \n4             4          4  Sunflower (Spider-Man: Int...   \n\n                   artist  peak_rank  rank_last_week  weeks_on_chart  rank  \\\n0           Ariana Grande          1               1               8     1   \n1                  Halsey          2               2              12     2   \n2            Mariah Carey          3               7              30     3   \n3            Travis Scott          1               3              21     4   \n4  Post Malone & Swae Lee          4               4              10     5   \n\n         date first_appearance language  language_score  \n0  2019-01-05       2019-01-05       en        0.999997  \n1  2019-01-05       2019-01-05       en        0.999995  \n2  2019-01-05       2019-01-05       en        0.999996  \n3  2019-01-05       2019-01-05       en        0.999998  \n4  2019-01-05       2019-01-05       en        0.999997  ",
      "text/html": "<div>\n<style scoped>\n    .dataframe tbody tr th:only-of-type {\n        vertical-align: middle;\n    }\n\n    .dataframe tbody tr th {\n        vertical-align: top;\n    }\n\n    .dataframe thead th {\n        text-align: right;\n    }\n</style>\n<table border=\"1\" class=\"dataframe\">\n  <thead>\n    <tr style=\"text-align: right;\">\n      <th></th>\n      <th>billboard_id</th>\n      <th>lyrics_id</th>\n      <th>song</th>\n      <th>artist</th>\n      <th>peak_rank</th>\n      <th>rank_last_week</th>\n      <th>weeks_on_chart</th>\n      <th>rank</th>\n      <th>date</th>\n      <th>first_appearance</th>\n      <th>language</th>\n      <th>language_score</th>\n    </tr>\n  </thead>\n  <tbody>\n    <tr>\n      <th>0</th>\n      <td>0</td>\n      <td>0</td>\n      <td>Thank U, Next</td>\n      <td>Ariana Grande</td>\n      <td>1</td>\n      <td>1</td>\n      <td>8</td>\n      <td>1</td>\n      <td>2019-01-05</td>\n      <td>2019-01-05</td>\n      <td>en</td>\n      <td>0.999997</td>\n    </tr>\n    <tr>\n      <th>1</th>\n      <td>1</td>\n      <td>1</td>\n      <td>Without Me</td>\n      <td>Halsey</td>\n      <td>2</td>\n      <td>2</td>\n      <td>12</td>\n      <td>2</td>\n      <td>2019-01-05</td>\n      <td>2019-01-05</td>\n      <td>en</td>\n      <td>0.999995</td>\n    </tr>\n    <tr>\n      <th>2</th>\n      <td>2</td>\n      <td>2</td>\n      <td>All I Want For Christmas I...</td>\n      <td>Mariah Carey</td>\n      <td>3</td>\n      <td>7</td>\n      <td>30</td>\n      <td>3</td>\n      <td>2019-01-05</td>\n      <td>2019-01-05</td>\n      <td>en</td>\n      <td>0.999996</td>\n    </tr>\n    <tr>\n      <th>3</th>\n      <td>3</td>\n      <td>3</td>\n      <td>Sicko Mode</td>\n      <td>Travis Scott</td>\n      <td>1</td>\n      <td>3</td>\n      <td>21</td>\n      <td>4</td>\n      <td>2019-01-05</td>\n      <td>2019-01-05</td>\n      <td>en</td>\n      <td>0.999998</td>\n    </tr>\n    <tr>\n      <th>4</th>\n      <td>4</td>\n      <td>4</td>\n      <td>Sunflower (Spider-Man: Int...</td>\n      <td>Post Malone &amp; Swae Lee</td>\n      <td>4</td>\n      <td>4</td>\n      <td>10</td>\n      <td>5</td>\n      <td>2019-01-05</td>\n      <td>2019-01-05</td>\n      <td>en</td>\n      <td>0.999997</td>\n    </tr>\n  </tbody>\n</table>\n</div>"
     },
     "execution_count": 5,
     "metadata": {},
     "output_type": "execute_result"
    }
   ],
   "source": [
    "bb_t100 = pd.read_csv('../../data/billboard/bb_t100_en.csv', index_col=0)\n",
    "bb_t100.head()"
   ],
   "metadata": {
    "collapsed": false,
    "pycharm": {
     "name": "#%%\n"
    }
   }
  },
  {
   "cell_type": "code",
   "execution_count": 6,
   "outputs": [
    {
     "data": {
      "text/plain": "<spacytextblob.spacytextblob.SpacyTextBlob at 0x256d3af8ac0>"
     },
     "execution_count": 6,
     "metadata": {},
     "output_type": "execute_result"
    }
   ],
   "source": [
    "import spacy\n",
    "from spacytextblob.spacytextblob import SpacyTextBlob\n",
    "\n",
    "nlp = spacy.load(\"en_core_web_lg\", exclude=['senter', 'sentencizer', 'parser'])\n",
    "nlp.add_pipe(\"sentencizer\", config={\"punct_chars\": ['\\n', '\\n\\n']})\n",
    "nlp.add_pipe('spacytextblob')"
   ],
   "metadata": {
    "collapsed": false,
    "pycharm": {
     "name": "#%%\n"
    }
   }
  },
  {
   "cell_type": "code",
   "execution_count": 7,
   "outputs": [],
   "source": [
    "def get_sentiment(text, nlp):\n",
    "    doc = nlp(text)\n",
    "    return doc._.polarity, doc._.subjectivity\n"
   ],
   "metadata": {
    "collapsed": false,
    "pycharm": {
     "name": "#%%\n"
    }
   }
  },
  {
   "cell_type": "code",
   "execution_count": 8,
   "outputs": [
    {
     "name": "stdout",
     "output_type": "stream",
     "text": [
      "Progress: |██████████████████████████████████████████████████| 100.0% Complete\r\n"
     ]
    }
   ],
   "source": [
    "try:\n",
    "    polarity = pd.read_csv('../../data/cache/sentiment_polarity.csv', index_col=0)\n",
    "    subjectivity = pd.read_csv('../../data/cache/sentiment_subjectivity.csv', index_col=0)\n",
    "except:\n",
    "    lyrics_series = lyrics['lyrics']\n",
    "    polarity = []\n",
    "    subjectivity = []\n",
    "    i = 0\n",
    "    l = len(lyrics_series)\n",
    "    printProgressBar(0, l, prefix='Progress:', suffix='Complete', length=50)\n",
    "    for i in range(0, l):\n",
    "        polarity.append(get_sentiment(lyrics_series.iloc[i], nlp)[0])\n",
    "        subjectivity.append(get_sentiment(lyrics_series.iloc[i], nlp)[1])\n",
    "        printProgressBar(i + 1, l, prefix='Progress:', suffix='Complete', length=50)\n",
    "\n",
    "    lyrics['sentiment_polarity'] = polarity\n",
    "    lyrics['sentiment_polarity'].to_csv('../../data/cache/sentiment_polarity.csv')\n",
    "    lyrics['sentiment_subjectivity'] = subjectivity\n",
    "    lyrics['sentiment_subjectivity'].to_csv('../../data/cache/sentiment_subjectivity.csv')\n"
   ],
   "metadata": {
    "collapsed": false,
    "pycharm": {
     "name": "#%%\n"
    }
   }
  },
  {
   "cell_type": "code",
   "execution_count": 9,
   "outputs": [],
   "source": [
    "lyrics.to_excel('../../data/output/bb_t100_lyrics_en.xlsx')"
   ],
   "metadata": {
    "collapsed": false,
    "pycharm": {
     "name": "#%%\n"
    }
   }
  },
  {
   "cell_type": "code",
   "execution_count": 17,
   "outputs": [],
   "source": [
    "sentiment = lyrics[\n",
    "    ['billboard_id', 'lyrics_id', 'artist', 'song', 'genius_id', 'lyrics', 'url', 'first_appearance', 'release_date',\n",
    "     'sentiment_polarity', 'sentiment_subjectivity']]\n",
    "sentiment.to_csv('../../data/sentiment/sentiment.csv')\n"
   ],
   "metadata": {
    "collapsed": false,
    "pycharm": {
     "name": "#%%\n"
    }
   }
  },
  {
   "cell_type": "code",
   "execution_count": 21,
   "outputs": [
    {
     "data": {
      "text/plain": "['genius_id',\n 'lyrics',\n 'release_date',\n 'sentiment_polarity',\n 'sentiment_subjectivity',\n 'url',\n 'lyrics_id']"
     },
     "execution_count": 21,
     "metadata": {},
     "output_type": "execute_result"
    }
   ],
   "source": [
    "merge_cols = ['genius_id', 'lyrics', 'release_date', 'sentiment_polarity', 'sentiment_subjectivity', 'url', 'lyrics_id']\n",
    "bb_t100_sentiment = bb_t100.merge(sentiment[merge_cols], how='left', left_on='lyrics_id', right_on='lyrics_id',\n",
    "                                  copy=False)\n",
    "bb_t100_sentiment = bb_t100_sentiment[\n",
    "    ['billboard_id', 'lyrics_id', 'song', 'artist', 'lyrics', 'rank', 'peak_rank', 'rank_last_week', 'weeks_on_chart',\n",
    "     'date', 'release_date', 'sentiment_polarity', 'sentiment_subjectivity', 'genius_id', 'url']]\n",
    "bb_t100_sentiment.to_csv('../../data/sentiment/bb_t100_sentiment.csv')\n",
    "# bb_t100_sentiment.to_excel('../../data/sentiment/bb_t100_sentiment.xlsx')"
   ],
   "metadata": {
    "collapsed": false,
    "pycharm": {
     "name": "#%%\n"
    }
   }
  },
  {
   "cell_type": "code",
   "execution_count": 37,
   "outputs": [],
   "source": [
    "merge_cols = ['sentiment_polarity', 'sentiment_subjectivity', 'lyrics_id']\n",
    "covid_sentiment = covid_lyrics.merge(sentiment[merge_cols], how='left', left_on='lyrics_id', right_on='lyrics_id',\n",
    "                                     copy=False)\n",
    "covid_sentiment = covid_sentiment[\n",
    "    ['billboard_id', 'lyrics_id', 'artist', 'song', 'genius_id', 'lyrics', 'url', 'first_appearance', 'release_date',\n",
    "     'sentiment_polarity', 'sentiment_subjectivity']]\n",
    "\n",
    "covid_sentiment.to_csv('../../data/sentiment/covid_sentiment.csv')\n",
    "covid_sentiment.to_excel('../../data/sentiment/covid_sentiment.xlsx')"
   ],
   "metadata": {
    "collapsed": false,
    "pycharm": {
     "name": "#%%\n"
    }
   }
  },
  {
   "cell_type": "code",
   "execution_count": 41,
   "outputs": [
    {
     "data": {
      "text/plain": "count    46.000000\nmean      0.009186\nstd       0.155718\nmin      -0.284815\n25%      -0.075111\n50%      -0.011068\n75%       0.093151\nmax       0.410467\nName: sentiment_polarity, dtype: float64"
     },
     "execution_count": 41,
     "metadata": {},
     "output_type": "execute_result"
    }
   ],
   "source": [
    "covid_sentiment['sentiment_polarity'].describe()"
   ],
   "metadata": {
    "collapsed": false,
    "pycharm": {
     "name": "#%%\n"
    }
   }
  },
  {
   "cell_type": "code",
   "execution_count": 42,
   "outputs": [
    {
     "data": {
      "text/plain": "count    1255.000000\nmean        0.057289\nstd         0.153661\nmin        -0.500000\n25%        -0.041706\n50%         0.035980\n75%         0.148791\nmax         0.670270\nName: sentiment_polarity, dtype: float64"
     },
     "execution_count": 42,
     "metadata": {},
     "output_type": "execute_result"
    }
   ],
   "source": [
    "sentiment['sentiment_polarity'].describe()"
   ],
   "metadata": {
    "collapsed": false,
    "pycharm": {
     "name": "#%%\n"
    }
   }
  }
 ],
 "metadata": {
  "jupytext": {
   "formats": "ipynb,auto:light"
  },
  "kernelspec": {
   "display_name": "Python 3",
   "language": "python",
   "name": "python3"
  },
  "language_info": {
   "codemirror_mode": {
    "name": "ipython",
    "version": 3
   },
   "file_extension": ".py",
   "mimetype": "text/x-python",
   "name": "python",
   "nbconvert_exporter": "python",
   "pygments_lexer": "ipython3",
   "version": "3.8.6"
  }
 },
 "nbformat": 4,
 "nbformat_minor": 1
}