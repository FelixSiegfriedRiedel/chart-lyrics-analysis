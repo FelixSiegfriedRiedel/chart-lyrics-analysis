{
 "cells": [
  {
   "cell_type": "markdown",
   "source": [
    "# Sentiment Analysis"
   ],
   "metadata": {
    "collapsed": false
   }
  },
  {
   "cell_type": "markdown",
   "source": [
    "## Import & Setup"
   ],
   "metadata": {
    "collapsed": false
   }
  },
  {
   "cell_type": "code",
   "execution_count": 1,
   "metadata": {
    "collapsed": true
   },
   "outputs": [
    {
     "name": "stdout",
     "output_type": "stream",
     "text": [
      "../../data/lyrics/artist_song_lyrics.csv\n",
      "../../data/lyrics/artist_song_lyrics_new.csv\n",
      "../../data/lyrics/bb-t100-lyrics.csv\n",
      "../../data/lyrics/bb-t100-lyrics_new.csv\n",
      "../../data/lyrics/bb_t100_lyrics_en.csv\n",
      "../../data/lyrics/bb_t100_lyrics_en_new.csv\n",
      "../../data/lyrics/covid_lyrics_bb.csv\n",
      "../../data/lyrics/lyrics_invalid.json\n",
      "../../data/lyrics/lyrics_invalid_new.json\n",
      "../../data/lyrics/lyrics_invalid_updated.csv\n",
      "../../data/lyrics/lyrics_invalid_updated_new.csv\n",
      "../../data/lyrics/backups/artist_song_lyrics_bak.csv\n",
      "../../data/lyrics/backups/bb-t100-lyrics.csv\n",
      "../../data/lyrics/backups/bb-t100-lyrics_new.csv\n",
      "../../data/lyrics/backups/bb-t100-lyrics_old.csv\n",
      "../../data/lyrics/backups/bb_t100_lyrics_en.csv\n",
      "../../data/lyrics/backups/bb_t100_lyrics_en_v1.csv\n",
      "../../data/lyrics/backups/bb_t100_lyrics_en_v2.csv\n",
      "../../data/lyrics/backups/bb_t100_lyrics_en_v3.csv\n",
      "../../data/lyrics/backups/corona-lyrics.csv\n",
      "../../data/lyrics/backups/lyrics_invalid_updated.csv\n",
      "--------------------------------------------------\n",
      "../../data/billboard/bb_t100_en.csv\n",
      "../../data/billboard/bb_t100_en_new.csv\n",
      "../../data/billboard/billboard.csv\n",
      "../../data/billboard/billboard_top_100_2020.csv\n",
      "../../data/billboard/backups/bb-t100_backup.csv\n"
     ]
    }
   ],
   "source": [
    "import pandas as pd  # data processing, CSV file I/O (e.g. pd.read_csv)\n",
    "import matplotlib.pyplot as plt\n",
    "import matplotlib.dates\n",
    "import seaborn as sns\n",
    "import os\n",
    "from src.progress_bar import printProgressBar\n",
    "from ast import literal_eval\n",
    "\n",
    "for dirname, _, filenames in os.walk('../../data/lyrics'):\n",
    "    for filename in filenames:\n",
    "        print(os.path.join(dirname, filename).replace(\"\\\\\", \"/\"))\n",
    "\n",
    "print(50 * '-')\n",
    "\n",
    "for dirname, _, filenames in os.walk('../../data/billboard'):\n",
    "    for filename in filenames:\n",
    "        print(os.path.join(dirname, filename).replace(\"\\\\\", \"/\"))\n"
   ]
  },
  {
   "cell_type": "markdown",
   "source": [
    "### Pandas Display Settings"
   ],
   "metadata": {
    "collapsed": false
   }
  },
  {
   "cell_type": "code",
   "execution_count": 2,
   "metadata": {
    "pycharm": {
     "name": "#%%\n"
    }
   },
   "outputs": [],
   "source": [
    "pd.set_option('display.max_rows', None)\n",
    "pd.set_option('display.max_colwidth', 30)"
   ]
  },
  {
   "cell_type": "markdown",
   "source": [
    "## Loading Data"
   ],
   "metadata": {
    "collapsed": false
   }
  },
  {
   "cell_type": "markdown",
   "source": [
    "### Lyrics"
   ],
   "metadata": {
    "collapsed": false
   }
  },
  {
   "cell_type": "code",
   "execution_count": 3,
   "outputs": [
    {
     "data": {
      "text/plain": "   billboard_id  lyrics_id                  artist   first_artist  \\\n0             0          0           Ariana Grande  Ariana Grande   \n1             1          1                  Halsey         Halsey   \n2             2          2            Mariah Carey   Mariah Carey   \n3             3          3            Travis Scott   Travis Scott   \n4             4          4  Post Malone & Swae Lee    Post Malone   \n\n                            song  weeks_on_chart  peak_rank  genius_id  \\\n0                  Thank U, Next            28.0        1.0    4063065   \n1                     Without Me            52.0        1.0    3977187   \n2  All I Want For Christmas I...            43.0        1.0     204233   \n3                     Sicko Mode            52.0        1.0    3876994   \n4  Sunflower (Spider-Man: Int...            53.0        1.0    3993850   \n\n                          lyrics                            url  ...  \\\n0  Thought I'd end up with Se...  https://genius.com/Ariana-...  ...   \n1  Found you when your heart ...  https://genius.com/Halsey-...  ...   \n2  I don't want a lot for Chr...  https://genius.com/Mariah-...  ...   \n3  Astro, yeah\\r\\nSun is down...  https://genius.com/Travis-...  ...   \n4  Ayy, ayy, ayy, ayy (Ooh)\\r...  https://genius.com/Post-ma...  ...   \n\n   word_count  language language_score  first_appearance  \\\n0         460        en       0.999997        2019-01-05   \n1         435        en       0.999995        2019-01-05   \n2         388        en       0.999996        2019-01-05   \n3         771        en       0.999998        2019-01-05   \n4         305        en       0.999997        2019-01-05   \n\n    genius_primary_artist             genius_description  \\\n0           Ariana Grande  On the lead single and tit...   \n1                  Halsey  “Without Me” is the first ...   \n2            Mariah Carey  “All I Want For Christmas ...   \n3            Travis Scott  “SICKO MODE” refers to Tra...   \n4  Post Malone & Swae Lee  “Sunflower” marks the seco...   \n\n              genius_annotations                genius_comments release_date  \\\n0  [(One taught me love\\n One...  [The Mac shoutout has me f...   2018-11-03   \n1  [(Gave love ’bout a hundre...  [The queen is ready to sna...   2018-10-04   \n2  [(I don’t need to hang my ...  [i really like this song, ...   1994-11-01   \n3  [(She’s in love with who I...  [HAD ME OUT LIKE A LIGHT (...   2018-08-03   \n4  [(Then you’re left in the ...  [Me enjoying “Sunflower” a...   2018-10-18   \n\n                  annotation_ids  \n0  ['15720075', '15720076', '...  \n1  ['15517989', '15520369', '...  \n2  ['8393500', '8393500', '21...  \n3  ['15114078', '17948214', '...  \n4       ['16057378', '16057378']  \n\n[5 rows x 21 columns]",
      "text/html": "<div>\n<style scoped>\n    .dataframe tbody tr th:only-of-type {\n        vertical-align: middle;\n    }\n\n    .dataframe tbody tr th {\n        vertical-align: top;\n    }\n\n    .dataframe thead th {\n        text-align: right;\n    }\n</style>\n<table border=\"1\" class=\"dataframe\">\n  <thead>\n    <tr style=\"text-align: right;\">\n      <th></th>\n      <th>billboard_id</th>\n      <th>lyrics_id</th>\n      <th>artist</th>\n      <th>first_artist</th>\n      <th>song</th>\n      <th>weeks_on_chart</th>\n      <th>peak_rank</th>\n      <th>genius_id</th>\n      <th>lyrics</th>\n      <th>url</th>\n      <th>...</th>\n      <th>word_count</th>\n      <th>language</th>\n      <th>language_score</th>\n      <th>first_appearance</th>\n      <th>genius_primary_artist</th>\n      <th>genius_description</th>\n      <th>genius_annotations</th>\n      <th>genius_comments</th>\n      <th>release_date</th>\n      <th>annotation_ids</th>\n    </tr>\n  </thead>\n  <tbody>\n    <tr>\n      <th>0</th>\n      <td>0</td>\n      <td>0</td>\n      <td>Ariana Grande</td>\n      <td>Ariana Grande</td>\n      <td>Thank U, Next</td>\n      <td>28.0</td>\n      <td>1.0</td>\n      <td>4063065</td>\n      <td>Thought I'd end up with Se...</td>\n      <td>https://genius.com/Ariana-...</td>\n      <td>...</td>\n      <td>460</td>\n      <td>en</td>\n      <td>0.999997</td>\n      <td>2019-01-05</td>\n      <td>Ariana Grande</td>\n      <td>On the lead single and tit...</td>\n      <td>[(One taught me love\\n One...</td>\n      <td>[The Mac shoutout has me f...</td>\n      <td>2018-11-03</td>\n      <td>['15720075', '15720076', '...</td>\n    </tr>\n    <tr>\n      <th>1</th>\n      <td>1</td>\n      <td>1</td>\n      <td>Halsey</td>\n      <td>Halsey</td>\n      <td>Without Me</td>\n      <td>52.0</td>\n      <td>1.0</td>\n      <td>3977187</td>\n      <td>Found you when your heart ...</td>\n      <td>https://genius.com/Halsey-...</td>\n      <td>...</td>\n      <td>435</td>\n      <td>en</td>\n      <td>0.999995</td>\n      <td>2019-01-05</td>\n      <td>Halsey</td>\n      <td>“Without Me” is the first ...</td>\n      <td>[(Gave love ’bout a hundre...</td>\n      <td>[The queen is ready to sna...</td>\n      <td>2018-10-04</td>\n      <td>['15517989', '15520369', '...</td>\n    </tr>\n    <tr>\n      <th>2</th>\n      <td>2</td>\n      <td>2</td>\n      <td>Mariah Carey</td>\n      <td>Mariah Carey</td>\n      <td>All I Want For Christmas I...</td>\n      <td>43.0</td>\n      <td>1.0</td>\n      <td>204233</td>\n      <td>I don't want a lot for Chr...</td>\n      <td>https://genius.com/Mariah-...</td>\n      <td>...</td>\n      <td>388</td>\n      <td>en</td>\n      <td>0.999996</td>\n      <td>2019-01-05</td>\n      <td>Mariah Carey</td>\n      <td>“All I Want For Christmas ...</td>\n      <td>[(I don’t need to hang my ...</td>\n      <td>[i really like this song, ...</td>\n      <td>1994-11-01</td>\n      <td>['8393500', '8393500', '21...</td>\n    </tr>\n    <tr>\n      <th>3</th>\n      <td>3</td>\n      <td>3</td>\n      <td>Travis Scott</td>\n      <td>Travis Scott</td>\n      <td>Sicko Mode</td>\n      <td>52.0</td>\n      <td>1.0</td>\n      <td>3876994</td>\n      <td>Astro, yeah\\r\\nSun is down...</td>\n      <td>https://genius.com/Travis-...</td>\n      <td>...</td>\n      <td>771</td>\n      <td>en</td>\n      <td>0.999998</td>\n      <td>2019-01-05</td>\n      <td>Travis Scott</td>\n      <td>“SICKO MODE” refers to Tra...</td>\n      <td>[(She’s in love with who I...</td>\n      <td>[HAD ME OUT LIKE A LIGHT (...</td>\n      <td>2018-08-03</td>\n      <td>['15114078', '17948214', '...</td>\n    </tr>\n    <tr>\n      <th>4</th>\n      <td>4</td>\n      <td>4</td>\n      <td>Post Malone &amp; Swae Lee</td>\n      <td>Post Malone</td>\n      <td>Sunflower (Spider-Man: Int...</td>\n      <td>53.0</td>\n      <td>1.0</td>\n      <td>3993850</td>\n      <td>Ayy, ayy, ayy, ayy (Ooh)\\r...</td>\n      <td>https://genius.com/Post-ma...</td>\n      <td>...</td>\n      <td>305</td>\n      <td>en</td>\n      <td>0.999997</td>\n      <td>2019-01-05</td>\n      <td>Post Malone &amp; Swae Lee</td>\n      <td>“Sunflower” marks the seco...</td>\n      <td>[(Then you’re left in the ...</td>\n      <td>[Me enjoying “Sunflower” a...</td>\n      <td>2018-10-18</td>\n      <td>['16057378', '16057378']</td>\n    </tr>\n  </tbody>\n</table>\n<p>5 rows × 21 columns</p>\n</div>"
     },
     "execution_count": 3,
     "metadata": {},
     "output_type": "execute_result"
    }
   ],
   "source": [
    "lyrics = pd.read_csv('../../data/lyrics/bb_t100_lyrics_en.csv', index_col=0, encoding='utf-8')\n",
    "lyrics['first_appearance'] = pd.to_datetime(lyrics['first_appearance'], format='%Y-%m-%d')\n",
    "lyrics['release_date'] = pd.to_datetime(lyrics['release_date'], format='%Y-%m-%d')\n",
    "lyrics['genius_annotations'] = lyrics['genius_annotations'].apply(literal_eval)\n",
    "lyrics['genius_comments'] = lyrics['genius_comments'].apply(literal_eval)\n",
    "lyrics.head()"
   ],
   "metadata": {
    "collapsed": false,
    "pycharm": {
     "name": "#%%\n"
    }
   }
  },
  {
   "cell_type": "markdown",
   "source": [
    "### Lyrics Adressing COVID-19\n",
    "This is the resulting data set of the keyword analysis."
   ],
   "metadata": {
    "collapsed": false
   }
  },
  {
   "cell_type": "code",
   "execution_count": 4,
   "outputs": [
    {
     "data": {
      "text/plain": "     billboard_id  lyrics_id                         artist  \\\n850          6822        850              twenty one pilots   \n862          6916        862  DaBaby Featuring YoungBoy ...   \n867          6952        867  DaBaby Featuring Future & ...   \n870          6963        870                         DaBaby   \n903          7150        903                          Drake   \n\n          first_artist              song  weeks_on_chart  peak_rank  \\\n850  twenty one pilots  Level Of Concern            11.0       23.0   \n862             DaBaby              Jump             4.0       17.0   \n867             DaBaby    LIGHTSKIN SHIT             1.0       53.0   \n870             DaBaby  BLAME IT ON BABY             1.0       64.0   \n903              Drake            Losses             1.0       51.0   \n\n     genius_id                         lyrics                            url  \\\n850    5428841  Need you, tell me\\r\\nNeed ...  https://genius.com/Twenty-...   \n862    5465136  (Cha-ching)\\r\\nOkay, let's...  https://genius.com/Dababy-...   \n867    5465365  Uh, uh, uh-huh\\r\\nYeah (Oh...  https://genius.com/Dababy-...   \n870    5462131  I'm like fuck it, let the ...  https://genius.com/Dababy-...   \n903    5520818  Hey, Instagram\\r\\nThis son...  https://genius.com/Drake-l...   \n\n     ...                   com_keywords  keyword_1 keyword_2  keyword_3  \\\n850  ...  {'quarantine': 2, 'm': 2, ...       tell      need       okay   \n862  ...  {'song': 7, 'good': 3, 'al...      bitch     nigga        let   \n867  ...  {'future': 3, 'baby': 2, '...      bitch      fuck       shit   \n870  ...  {'baby': 4, 'song': 2, 'ja...      nigga       let       know   \n903  ...  {'drake': 6, 'bar': 3, 'so...       know      lose       game   \n\n    keyword_4 keyword_5 has_covid_keyword desc_has_covid_keyword  \\\n850   alright     level              True                   True   \n862       ass      baby             False                   True   \n867      sick       pop             False                  False   \n870      baby     bitch             False                  False   \n903     nigga      hold             False                   True   \n\n    ann_has_covid_keyword com_has_covid_keyword  \n850                  True                  True  \n862                 False                 False  \n867                  True                 False  \n870                  True                 False  \n903                  True                 False  \n\n[5 rows x 34 columns]",
      "text/html": "<div>\n<style scoped>\n    .dataframe tbody tr th:only-of-type {\n        vertical-align: middle;\n    }\n\n    .dataframe tbody tr th {\n        vertical-align: top;\n    }\n\n    .dataframe thead th {\n        text-align: right;\n    }\n</style>\n<table border=\"1\" class=\"dataframe\">\n  <thead>\n    <tr style=\"text-align: right;\">\n      <th></th>\n      <th>billboard_id</th>\n      <th>lyrics_id</th>\n      <th>artist</th>\n      <th>first_artist</th>\n      <th>song</th>\n      <th>weeks_on_chart</th>\n      <th>peak_rank</th>\n      <th>genius_id</th>\n      <th>lyrics</th>\n      <th>url</th>\n      <th>...</th>\n      <th>com_keywords</th>\n      <th>keyword_1</th>\n      <th>keyword_2</th>\n      <th>keyword_3</th>\n      <th>keyword_4</th>\n      <th>keyword_5</th>\n      <th>has_covid_keyword</th>\n      <th>desc_has_covid_keyword</th>\n      <th>ann_has_covid_keyword</th>\n      <th>com_has_covid_keyword</th>\n    </tr>\n  </thead>\n  <tbody>\n    <tr>\n      <th>850</th>\n      <td>6822</td>\n      <td>850</td>\n      <td>twenty one pilots</td>\n      <td>twenty one pilots</td>\n      <td>Level Of Concern</td>\n      <td>11.0</td>\n      <td>23.0</td>\n      <td>5428841</td>\n      <td>Need you, tell me\\r\\nNeed ...</td>\n      <td>https://genius.com/Twenty-...</td>\n      <td>...</td>\n      <td>{'quarantine': 2, 'm': 2, ...</td>\n      <td>tell</td>\n      <td>need</td>\n      <td>okay</td>\n      <td>alright</td>\n      <td>level</td>\n      <td>True</td>\n      <td>True</td>\n      <td>True</td>\n      <td>True</td>\n    </tr>\n    <tr>\n      <th>862</th>\n      <td>6916</td>\n      <td>862</td>\n      <td>DaBaby Featuring YoungBoy ...</td>\n      <td>DaBaby</td>\n      <td>Jump</td>\n      <td>4.0</td>\n      <td>17.0</td>\n      <td>5465136</td>\n      <td>(Cha-ching)\\r\\nOkay, let's...</td>\n      <td>https://genius.com/Dababy-...</td>\n      <td>...</td>\n      <td>{'song': 7, 'good': 3, 'al...</td>\n      <td>bitch</td>\n      <td>nigga</td>\n      <td>let</td>\n      <td>ass</td>\n      <td>baby</td>\n      <td>False</td>\n      <td>True</td>\n      <td>False</td>\n      <td>False</td>\n    </tr>\n    <tr>\n      <th>867</th>\n      <td>6952</td>\n      <td>867</td>\n      <td>DaBaby Featuring Future &amp; ...</td>\n      <td>DaBaby</td>\n      <td>LIGHTSKIN SHIT</td>\n      <td>1.0</td>\n      <td>53.0</td>\n      <td>5465365</td>\n      <td>Uh, uh, uh-huh\\r\\nYeah (Oh...</td>\n      <td>https://genius.com/Dababy-...</td>\n      <td>...</td>\n      <td>{'future': 3, 'baby': 2, '...</td>\n      <td>bitch</td>\n      <td>fuck</td>\n      <td>shit</td>\n      <td>sick</td>\n      <td>pop</td>\n      <td>False</td>\n      <td>False</td>\n      <td>True</td>\n      <td>False</td>\n    </tr>\n    <tr>\n      <th>870</th>\n      <td>6963</td>\n      <td>870</td>\n      <td>DaBaby</td>\n      <td>DaBaby</td>\n      <td>BLAME IT ON BABY</td>\n      <td>1.0</td>\n      <td>64.0</td>\n      <td>5462131</td>\n      <td>I'm like fuck it, let the ...</td>\n      <td>https://genius.com/Dababy-...</td>\n      <td>...</td>\n      <td>{'baby': 4, 'song': 2, 'ja...</td>\n      <td>nigga</td>\n      <td>let</td>\n      <td>know</td>\n      <td>baby</td>\n      <td>bitch</td>\n      <td>False</td>\n      <td>False</td>\n      <td>True</td>\n      <td>False</td>\n    </tr>\n    <tr>\n      <th>903</th>\n      <td>7150</td>\n      <td>903</td>\n      <td>Drake</td>\n      <td>Drake</td>\n      <td>Losses</td>\n      <td>1.0</td>\n      <td>51.0</td>\n      <td>5520818</td>\n      <td>Hey, Instagram\\r\\nThis son...</td>\n      <td>https://genius.com/Drake-l...</td>\n      <td>...</td>\n      <td>{'drake': 6, 'bar': 3, 'so...</td>\n      <td>know</td>\n      <td>lose</td>\n      <td>game</td>\n      <td>nigga</td>\n      <td>hold</td>\n      <td>False</td>\n      <td>True</td>\n      <td>True</td>\n      <td>False</td>\n    </tr>\n  </tbody>\n</table>\n<p>5 rows × 34 columns</p>\n</div>"
     },
     "execution_count": 4,
     "metadata": {},
     "output_type": "execute_result"
    }
   ],
   "source": [
    "covid_lyrics = pd.read_csv('../../data/lyrics/covid_lyrics_bb.csv', index_col=0, encoding='utf-8')\n",
    "covid_lyrics['first_appearance'] = pd.to_datetime(lyrics['first_appearance'], format='%Y-%m-%d')\n",
    "covid_lyrics['release_date'] = pd.to_datetime(covid_lyrics['release_date'], format='%Y-%m-%d')\n",
    "covid_lyrics['genius_annotations'] = covid_lyrics['genius_annotations'].apply(literal_eval)\n",
    "covid_lyrics['genius_comments'] = covid_lyrics['genius_comments'].apply(literal_eval)\n",
    "covid_lyrics['keywords'] = covid_lyrics['keywords'].apply(literal_eval)\n",
    "covid_lyrics['desc_keywords'] = covid_lyrics['desc_keywords'].apply(literal_eval)\n",
    "covid_lyrics['ann_keywords'] = covid_lyrics['ann_keywords'].apply(literal_eval)\n",
    "covid_lyrics['com_keywords'] = covid_lyrics['com_keywords'].apply(literal_eval)\n",
    "covid_lyrics.head()"
   ],
   "metadata": {
    "collapsed": false,
    "pycharm": {
     "name": "#%%\n"
    }
   }
  },
  {
   "cell_type": "markdown",
   "source": [
    "### Billboard Top 100 Chart"
   ],
   "metadata": {
    "collapsed": false
   }
  },
  {
   "cell_type": "code",
   "execution_count": 5,
   "outputs": [
    {
     "data": {
      "text/plain": "   billboard_id  lyrics_id                           song  \\\n0             0          0                  Thank U, Next   \n1             1          1                     Without Me   \n2             2          2  All I Want For Christmas I...   \n3             3          3                     Sicko Mode   \n4             4          4  Sunflower (Spider-Man: Int...   \n\n                   artist  peak_rank  rank_last_week  weeks_on_chart  rank  \\\n0           Ariana Grande          1               1               8     1   \n1                  Halsey          2               2              12     2   \n2            Mariah Carey          3               7              30     3   \n3            Travis Scott          1               3              21     4   \n4  Post Malone & Swae Lee          4               4              10     5   \n\n        date first_appearance language  language_score  \n0 2019-01-05       2019-01-05       en        0.999997  \n1 2019-01-05       2019-01-05       en        0.999995  \n2 2019-01-05       2019-01-05       en        0.999996  \n3 2019-01-05       2019-01-05       en        0.999998  \n4 2019-01-05       2019-01-05       en        0.999997  ",
      "text/html": "<div>\n<style scoped>\n    .dataframe tbody tr th:only-of-type {\n        vertical-align: middle;\n    }\n\n    .dataframe tbody tr th {\n        vertical-align: top;\n    }\n\n    .dataframe thead th {\n        text-align: right;\n    }\n</style>\n<table border=\"1\" class=\"dataframe\">\n  <thead>\n    <tr style=\"text-align: right;\">\n      <th></th>\n      <th>billboard_id</th>\n      <th>lyrics_id</th>\n      <th>song</th>\n      <th>artist</th>\n      <th>peak_rank</th>\n      <th>rank_last_week</th>\n      <th>weeks_on_chart</th>\n      <th>rank</th>\n      <th>date</th>\n      <th>first_appearance</th>\n      <th>language</th>\n      <th>language_score</th>\n    </tr>\n  </thead>\n  <tbody>\n    <tr>\n      <th>0</th>\n      <td>0</td>\n      <td>0</td>\n      <td>Thank U, Next</td>\n      <td>Ariana Grande</td>\n      <td>1</td>\n      <td>1</td>\n      <td>8</td>\n      <td>1</td>\n      <td>2019-01-05</td>\n      <td>2019-01-05</td>\n      <td>en</td>\n      <td>0.999997</td>\n    </tr>\n    <tr>\n      <th>1</th>\n      <td>1</td>\n      <td>1</td>\n      <td>Without Me</td>\n      <td>Halsey</td>\n      <td>2</td>\n      <td>2</td>\n      <td>12</td>\n      <td>2</td>\n      <td>2019-01-05</td>\n      <td>2019-01-05</td>\n      <td>en</td>\n      <td>0.999995</td>\n    </tr>\n    <tr>\n      <th>2</th>\n      <td>2</td>\n      <td>2</td>\n      <td>All I Want For Christmas I...</td>\n      <td>Mariah Carey</td>\n      <td>3</td>\n      <td>7</td>\n      <td>30</td>\n      <td>3</td>\n      <td>2019-01-05</td>\n      <td>2019-01-05</td>\n      <td>en</td>\n      <td>0.999996</td>\n    </tr>\n    <tr>\n      <th>3</th>\n      <td>3</td>\n      <td>3</td>\n      <td>Sicko Mode</td>\n      <td>Travis Scott</td>\n      <td>1</td>\n      <td>3</td>\n      <td>21</td>\n      <td>4</td>\n      <td>2019-01-05</td>\n      <td>2019-01-05</td>\n      <td>en</td>\n      <td>0.999998</td>\n    </tr>\n    <tr>\n      <th>4</th>\n      <td>4</td>\n      <td>4</td>\n      <td>Sunflower (Spider-Man: Int...</td>\n      <td>Post Malone &amp; Swae Lee</td>\n      <td>4</td>\n      <td>4</td>\n      <td>10</td>\n      <td>5</td>\n      <td>2019-01-05</td>\n      <td>2019-01-05</td>\n      <td>en</td>\n      <td>0.999997</td>\n    </tr>\n  </tbody>\n</table>\n</div>"
     },
     "execution_count": 5,
     "metadata": {},
     "output_type": "execute_result"
    }
   ],
   "source": [
    "bb_t100 = pd.read_csv('../../data/billboard/bb_t100_en.csv', index_col=0)\n",
    "bb_t100['date'] = pd.to_datetime(bb_t100['date'], format='%Y-%m-%d')\n",
    "bb_t100.head()"
   ],
   "metadata": {
    "collapsed": false,
    "pycharm": {
     "name": "#%%\n"
    }
   }
  },
  {
   "cell_type": "markdown",
   "source": [
    "### COVID-19 Data"
   ],
   "metadata": {
    "collapsed": false
   }
  },
  {
   "cell_type": "code",
   "execution_count": 6,
   "outputs": [
    {
     "data": {
      "text/plain": "       iso_code       date  total_cases  new_cases  new_cases_smoothed  \\\n120234      USA 2020-01-22          1.0        NaN                 NaN   \n120235      USA 2020-01-23          1.0        0.0                 NaN   \n120236      USA 2020-01-24          2.0        1.0                 NaN   \n120237      USA 2020-01-25          2.0        0.0                 NaN   \n120238      USA 2020-01-26          5.0        3.0                 NaN   \n\n        total_deaths  new_deaths  new_deaths_smoothed  \\\n120234           NaN         NaN                  NaN   \n120235           NaN         NaN                  NaN   \n120236           NaN         NaN                  NaN   \n120237           NaN         NaN                  NaN   \n120238           NaN         NaN                  NaN   \n\n        total_cases_per_million  new_cases_per_million  \\\n120234                    0.003                    NaN   \n120235                    0.003                  0.000   \n120236                    0.006                  0.003   \n120237                    0.006                  0.000   \n120238                    0.015                  0.009   \n\n        new_cases_smoothed_per_million  total_deaths_per_million  \\\n120234                            NaN                        NaN   \n120235                            NaN                        NaN   \n120236                            NaN                        NaN   \n120237                            NaN                        NaN   \n120238                            NaN                        NaN   \n\n        new_deaths_per_million  new_deaths_smoothed_per_million  \\\n120234                     NaN                            NaN     \n120235                     NaN                            NaN     \n120236                     NaN                            NaN     \n120237                     NaN                            NaN     \n120238                     NaN                            NaN     \n\n        reproduction_rate   population  population_density  \\\n120234                NaN  332915074.0              35.608   \n120235                NaN  332915074.0              35.608   \n120236                NaN  332915074.0              35.608   \n120237                NaN  332915074.0              35.608   \n120238                NaN  332915074.0              35.608   \n\n        hospital_beds_per_thousand  \n120234                        2.77  \n120235                        2.77  \n120236                        2.77  \n120237                        2.77  \n120238                        2.77  ",
      "text/html": "<div>\n<style scoped>\n    .dataframe tbody tr th:only-of-type {\n        vertical-align: middle;\n    }\n\n    .dataframe tbody tr th {\n        vertical-align: top;\n    }\n\n    .dataframe thead th {\n        text-align: right;\n    }\n</style>\n<table border=\"1\" class=\"dataframe\">\n  <thead>\n    <tr style=\"text-align: right;\">\n      <th></th>\n      <th>iso_code</th>\n      <th>date</th>\n      <th>total_cases</th>\n      <th>new_cases</th>\n      <th>new_cases_smoothed</th>\n      <th>total_deaths</th>\n      <th>new_deaths</th>\n      <th>new_deaths_smoothed</th>\n      <th>total_cases_per_million</th>\n      <th>new_cases_per_million</th>\n      <th>new_cases_smoothed_per_million</th>\n      <th>total_deaths_per_million</th>\n      <th>new_deaths_per_million</th>\n      <th>new_deaths_smoothed_per_million</th>\n      <th>reproduction_rate</th>\n      <th>population</th>\n      <th>population_density</th>\n      <th>hospital_beds_per_thousand</th>\n    </tr>\n  </thead>\n  <tbody>\n    <tr>\n      <th>120234</th>\n      <td>USA</td>\n      <td>2020-01-22</td>\n      <td>1.0</td>\n      <td>NaN</td>\n      <td>NaN</td>\n      <td>NaN</td>\n      <td>NaN</td>\n      <td>NaN</td>\n      <td>0.003</td>\n      <td>NaN</td>\n      <td>NaN</td>\n      <td>NaN</td>\n      <td>NaN</td>\n      <td>NaN</td>\n      <td>NaN</td>\n      <td>332915074.0</td>\n      <td>35.608</td>\n      <td>2.77</td>\n    </tr>\n    <tr>\n      <th>120235</th>\n      <td>USA</td>\n      <td>2020-01-23</td>\n      <td>1.0</td>\n      <td>0.0</td>\n      <td>NaN</td>\n      <td>NaN</td>\n      <td>NaN</td>\n      <td>NaN</td>\n      <td>0.003</td>\n      <td>0.000</td>\n      <td>NaN</td>\n      <td>NaN</td>\n      <td>NaN</td>\n      <td>NaN</td>\n      <td>NaN</td>\n      <td>332915074.0</td>\n      <td>35.608</td>\n      <td>2.77</td>\n    </tr>\n    <tr>\n      <th>120236</th>\n      <td>USA</td>\n      <td>2020-01-24</td>\n      <td>2.0</td>\n      <td>1.0</td>\n      <td>NaN</td>\n      <td>NaN</td>\n      <td>NaN</td>\n      <td>NaN</td>\n      <td>0.006</td>\n      <td>0.003</td>\n      <td>NaN</td>\n      <td>NaN</td>\n      <td>NaN</td>\n      <td>NaN</td>\n      <td>NaN</td>\n      <td>332915074.0</td>\n      <td>35.608</td>\n      <td>2.77</td>\n    </tr>\n    <tr>\n      <th>120237</th>\n      <td>USA</td>\n      <td>2020-01-25</td>\n      <td>2.0</td>\n      <td>0.0</td>\n      <td>NaN</td>\n      <td>NaN</td>\n      <td>NaN</td>\n      <td>NaN</td>\n      <td>0.006</td>\n      <td>0.000</td>\n      <td>NaN</td>\n      <td>NaN</td>\n      <td>NaN</td>\n      <td>NaN</td>\n      <td>NaN</td>\n      <td>332915074.0</td>\n      <td>35.608</td>\n      <td>2.77</td>\n    </tr>\n    <tr>\n      <th>120238</th>\n      <td>USA</td>\n      <td>2020-01-26</td>\n      <td>5.0</td>\n      <td>3.0</td>\n      <td>NaN</td>\n      <td>NaN</td>\n      <td>NaN</td>\n      <td>NaN</td>\n      <td>0.015</td>\n      <td>0.009</td>\n      <td>NaN</td>\n      <td>NaN</td>\n      <td>NaN</td>\n      <td>NaN</td>\n      <td>NaN</td>\n      <td>332915074.0</td>\n      <td>35.608</td>\n      <td>2.77</td>\n    </tr>\n  </tbody>\n</table>\n</div>"
     },
     "execution_count": 6,
     "metadata": {},
     "output_type": "execute_result"
    }
   ],
   "source": [
    "covid = pd.read_csv('../../data/input/owid-covid-data.csv')\n",
    "covid['date'] = pd.to_datetime(covid['date'], format='%Y-%m-%d')\n",
    "covid_usa = covid[['iso_code', 'date', 'total_cases', 'new_cases', 'new_cases_smoothed', 'total_deaths', 'new_deaths', 'new_deaths_smoothed', 'total_cases_per_million', 'new_cases_per_million', 'new_cases_smoothed_per_million', 'total_deaths_per_million', 'new_deaths_per_million', 'new_deaths_smoothed_per_million', 'reproduction_rate', 'population', 'population_density', 'hospital_beds_per_thousand']].loc[covid['iso_code'] == 'USA']\n",
    "covid_usa = covid_usa.loc[covid_usa['date'] < '2021-01-01']\n",
    "covid_usa.head()"
   ],
   "metadata": {
    "collapsed": false,
    "pycharm": {
     "name": "#%%\n"
    }
   }
  },
  {
   "cell_type": "markdown",
   "source": [
    "## Calculate Sentiment"
   ],
   "metadata": {
    "collapsed": false
   }
  },
  {
   "cell_type": "markdown",
   "source": [
    "### SpaCy and TextBlob Import"
   ],
   "metadata": {
    "collapsed": false
   }
  },
  {
   "cell_type": "code",
   "execution_count": 7,
   "outputs": [
    {
     "data": {
      "text/plain": "<spacytextblob.spacytextblob.SpacyTextBlob at 0x2df498b15b0>"
     },
     "execution_count": 7,
     "metadata": {},
     "output_type": "execute_result"
    }
   ],
   "source": [
    "import spacy\n",
    "from spacytextblob.spacytextblob import SpacyTextBlob\n",
    "\n",
    "nlp = spacy.load(\"en_core_web_lg\")\n",
    "nlp.add_pipe('spacytextblob')"
   ],
   "metadata": {
    "collapsed": false,
    "pycharm": {
     "name": "#%%\n"
    }
   }
  },
  {
   "cell_type": "markdown",
   "source": [
    "### Document-level Sentiment Analyis"
   ],
   "metadata": {
    "collapsed": false
   }
  },
  {
   "cell_type": "code",
   "execution_count": 8,
   "outputs": [],
   "source": [
    "def get_sentiment(text, nlp):\n",
    "    doc = nlp(text)\n",
    "    return doc._.polarity, doc._.subjectivity, doc._.assessments\n"
   ],
   "metadata": {
    "collapsed": false,
    "pycharm": {
     "name": "#%%\n"
    }
   }
  },
  {
   "cell_type": "markdown",
   "source": [
    "### Sentence-level Sentiment Analysis\n",
    "I defined sentences as single lines and therefore determined them by looking for line breaks (\\n). Empty lines and sentences with no sentiment are skipped. The average polarity and subjectivity gets calculated."
   ],
   "metadata": {
    "collapsed": false
   }
  },
  {
   "cell_type": "code",
   "execution_count": 9,
   "outputs": [],
   "source": [
    "def get_sentiment_v2(text, nlp):\n",
    "    pol_sum = 0\n",
    "    subj_sum = 0\n",
    "    count = 0\n",
    "    for sentence in text.split('\\n'):\n",
    "        if len(sentence) == 0:\n",
    "            continue\n",
    "        doc = nlp(sentence)\n",
    "        if not doc._.assessments:\n",
    "            continue\n",
    "        pol_sum += doc._.polarity\n",
    "        subj_sum += doc._.subjectivity\n",
    "        count += 1\n",
    "    if count > 0:\n",
    "        pol = pol_sum / count\n",
    "        subj = subj_sum / count\n",
    "    else:\n",
    "        pol = 0\n",
    "        subj = 0\n",
    "    return pol, subj"
   ],
   "metadata": {
    "collapsed": false,
    "pycharm": {
     "name": "#%%\n"
    }
   }
  },
  {
   "cell_type": "markdown",
   "source": [
    "Both functions are applied on the lyrics and the results are cached."
   ],
   "metadata": {
    "collapsed": false
   }
  },
  {
   "cell_type": "code",
   "execution_count": 10,
   "outputs": [],
   "source": [
    "try:\n",
    "    polarity = pd.read_csv('../../data/cache/sentiment_polarity.csv', index_col=0)\n",
    "    subjectivity = pd.read_csv('../../data/cache/sentiment_subjectivity.csv', index_col=0)\n",
    "except FileNotFoundError:\n",
    "    lyrics_series = lyrics['lyrics']\n",
    "    polarity = []\n",
    "    subjectivity = []\n",
    "    i = 0\n",
    "    l = len(lyrics_series)\n",
    "    printProgressBar(0, l, prefix='Progress:', suffix='Complete', length=50)\n",
    "    for i in range(0, l):\n",
    "        polarity.append(get_sentiment(lyrics_series.iloc[i], nlp)[0])\n",
    "        subjectivity.append(get_sentiment(lyrics_series.iloc[i], nlp)[1])\n",
    "        printProgressBar(i + 1, l, prefix='Progress:', suffix='Complete', length=50)\n",
    "\n",
    "lyrics['sentiment_polarity'] = polarity\n",
    "lyrics['sentiment_polarity'].to_csv('../../data/cache/sentiment_polarity.csv')\n",
    "lyrics['sentiment_subjectivity'] = subjectivity\n",
    "lyrics['sentiment_subjectivity'].to_csv('../../data/cache/sentiment_subjectivity.csv')\n"
   ],
   "metadata": {
    "collapsed": false,
    "pycharm": {
     "name": "#%%\n"
    }
   }
  },
  {
   "cell_type": "code",
   "execution_count": 11,
   "outputs": [],
   "source": [
    "try:\n",
    "    polarity_v2 = pd.read_csv('../../data/cache/sentiment_polarity_v2.csv', index_col=0)\n",
    "    subjectivity_v2 = pd.read_csv('../../data/cache/sentiment_subjectivity_v2.csv', index_col=0)\n",
    "except FileNotFoundError:\n",
    "    lyrics_series = lyrics['lyrics']\n",
    "    polarity_v2 = []\n",
    "    subjectivity_v2 = []\n",
    "    i = 0\n",
    "    l = len(lyrics_series)\n",
    "    printProgressBar(0, l, prefix='Progress:', suffix='Complete', length=50)\n",
    "    for i in range(0, l):\n",
    "        polarity_v2.append(get_sentiment_v2(lyrics_series.iloc[i], nlp)[0])\n",
    "        subjectivity_v2.append(get_sentiment_v2(lyrics_series.iloc[i], nlp)[1])\n",
    "        printProgressBar(i + 1, l, prefix='Progress:', suffix='Complete', length=50)\n",
    "\n",
    "lyrics['sentiment_polarity_v2'] = polarity_v2\n",
    "lyrics['sentiment_polarity_v2'].to_csv('../../data/cache/sentiment_polarity_v2.csv')\n",
    "lyrics['sentiment_subjectivity_v2'] = subjectivity_v2\n",
    "lyrics['sentiment_subjectivity_v2'].to_csv('../../data/cache/sentiment_subjectivity_v2.csv')\n"
   ],
   "metadata": {
    "collapsed": false,
    "pycharm": {
     "name": "#%%\n"
    }
   }
  },
  {
   "cell_type": "markdown",
   "source": [
    "### Filter and Export Results"
   ],
   "metadata": {
    "collapsed": false
   }
  },
  {
   "cell_type": "code",
   "execution_count": 12,
   "outputs": [],
   "source": [
    "lyrics.to_excel('../../data/output/bb_t100_lyrics_en.xlsx')\n"
   ],
   "metadata": {
    "collapsed": false,
    "pycharm": {
     "name": "#%%\n"
    }
   }
  },
  {
   "cell_type": "markdown",
   "source": [
    "sentiment data for all Songs"
   ],
   "metadata": {
    "collapsed": false
   }
  },
  {
   "cell_type": "code",
   "execution_count": 13,
   "outputs": [],
   "source": [
    "sentiment = lyrics[\n",
    "    ['billboard_id', 'lyrics_id', 'artist', 'song', 'genius_id', 'lyrics', 'url', 'first_appearance', 'release_date',\n",
    "     'sentiment_polarity', 'sentiment_subjectivity', 'sentiment_polarity_v2', 'sentiment_subjectivity_v2']]\n",
    "sentiment.to_csv('../../data/sentiment/sentiment.csv')\n"
   ],
   "metadata": {
    "collapsed": false,
    "pycharm": {
     "name": "#%%\n"
    }
   }
  },
  {
   "cell_type": "markdown",
   "source": [
    "sentiment data for each week of the charts"
   ],
   "metadata": {
    "collapsed": false
   }
  },
  {
   "cell_type": "code",
   "execution_count": 14,
   "outputs": [],
   "source": [
    "merge_cols = ['genius_id', 'lyrics', 'release_date', 'sentiment_polarity', 'sentiment_subjectivity', 'sentiment_polarity_v2', 'sentiment_subjectivity_v2', 'url', 'lyrics_id']\n",
    "bb_t100_sentiment = bb_t100.merge(sentiment[merge_cols], how='left', left_on='lyrics_id', right_on='lyrics_id',\n",
    "                                  copy=False)\n",
    "bb_t100_sentiment = bb_t100_sentiment[\n",
    "    ['billboard_id', 'lyrics_id', 'song', 'artist', 'lyrics', 'rank', 'peak_rank', 'rank_last_week', 'weeks_on_chart',\n",
    "     'date', 'release_date', 'sentiment_polarity', 'sentiment_subjectivity', 'sentiment_polarity_v2', 'sentiment_subjectivity_v2', 'genius_id', 'url']]\n",
    "bb_t100_sentiment.to_csv('../../data/sentiment/bb_t100_sentiment.csv')\n",
    "bb_t100_sentiment.to_excel('../../data/sentiment/bb_t100_sentiment.xlsx')"
   ],
   "metadata": {
    "collapsed": false,
    "pycharm": {
     "name": "#%%\n"
    }
   }
  },
  {
   "cell_type": "markdown",
   "source": [
    "sentiment data for covid-19-specific songs"
   ],
   "metadata": {
    "collapsed": false
   }
  },
  {
   "cell_type": "code",
   "execution_count": 15,
   "outputs": [],
   "source": [
    "merge_cols = ['sentiment_polarity', 'sentiment_subjectivity', 'sentiment_polarity_v2', 'sentiment_subjectivity_v2', 'lyrics_id']\n",
    "covid_sentiment = covid_lyrics.merge(sentiment[merge_cols], how='left', left_on='lyrics_id', right_on='lyrics_id',\n",
    "                                     copy=False)\n",
    "covid_sentiment = covid_sentiment[\n",
    "    ['billboard_id', 'lyrics_id', 'artist', 'song', 'genius_id', 'lyrics', 'url', 'first_appearance', 'release_date',\n",
    "     'sentiment_polarity', 'sentiment_subjectivity', 'sentiment_polarity_v2', 'sentiment_subjectivity_v2']]\n",
    "\n",
    "covid_sentiment.to_csv('../../data/sentiment/covid_sentiment.csv')\n",
    "covid_sentiment.to_excel('../../data/sentiment/covid_sentiment.xlsx')"
   ],
   "metadata": {
    "collapsed": false,
    "pycharm": {
     "name": "#%%\n"
    }
   }
  },
  {
   "cell_type": "markdown",
   "source": [
    "comparison of both calculations"
   ],
   "metadata": {
    "collapsed": false
   }
  },
  {
   "cell_type": "code",
   "execution_count": 16,
   "outputs": [
    {
     "data": {
      "text/plain": "count    1252.000000\nmean        0.056900\nstd         0.153457\nmin        -0.500000\n25%        -0.041859\n50%         0.035854\n75%         0.146127\nmax         0.670270\nName: sentiment_polarity, dtype: float64"
     },
     "execution_count": 16,
     "metadata": {},
     "output_type": "execute_result"
    }
   ],
   "source": [
    "sentiment['sentiment_polarity'].describe()"
   ],
   "metadata": {
    "collapsed": false,
    "pycharm": {
     "name": "#%%\n"
    }
   }
  },
  {
   "cell_type": "code",
   "execution_count": 17,
   "outputs": [
    {
     "data": {
      "text/plain": "count    1252.000000\nmean        0.059430\nstd         0.154709\nmin        -0.500000\n25%        -0.040085\n50%         0.041269\n75%         0.153633\nmax         0.606667\nName: sentiment_polarity_v2, dtype: float64"
     },
     "execution_count": 17,
     "metadata": {},
     "output_type": "execute_result"
    }
   ],
   "source": [
    "sentiment['sentiment_polarity_v2'].describe()"
   ],
   "metadata": {
    "collapsed": false,
    "pycharm": {
     "name": "#%%\n"
    }
   }
  },
  {
   "cell_type": "markdown",
   "source": [
    "As both calculations yielded similar results, I decided to use the document-level score for future analysis.\n"
   ],
   "metadata": {
    "collapsed": false
   }
  },
  {
   "cell_type": "markdown",
   "source": [
    "## Visualization\n",
    "\n",
    "### Polarity Trend in Billboard Top 100 Charts in Comparison to Reported COVID-19Deaths in the USA"
   ],
   "metadata": {
    "collapsed": false
   }
  },
  {
   "cell_type": "code",
   "execution_count": 18,
   "outputs": [
    {
     "name": "stderr",
     "output_type": "stream",
     "text": [
      "The PostScript backend does not support transparency; partially transparent artists will be rendered opaque.\n",
      "The PostScript backend does not support transparency; partially transparent artists will be rendered opaque.\n",
      "The PostScript backend does not support transparency; partially transparent artists will be rendered opaque.\n",
      "The PostScript backend does not support transparency; partially transparent artists will be rendered opaque.\n"
     ]
    },
    {
     "data": {
      "text/plain": "<Figure size 792x216 with 4 Axes>",
      "image/png": "[encoded data removed]"
     },
     "metadata": {},
     "output_type": "display_data"
    }
   ],
   "source": [
    "sent_lineplot_dt = bb_t100_sentiment.groupby('date')['sentiment_polarity'].mean().to_frame()\n",
    "sent_lineplot_dt['rolling_avg'] = sent_lineplot_dt['sentiment_polarity'].rolling(12).mean().shift(-5)\n",
    "\n",
    "sns.set_theme(context='paper', font='serif', style='whitegrid')\n",
    "sns.set_style({'axes.grid' : False})\n",
    "\n",
    "fig = plt.figure(figsize=(11, 3))\n",
    "ax1a = fig.subplots()  # ax1a for the histogram grid\n",
    "ax2a = ax1a.twinx()         # ax2a for the cumulative step grid\n",
    "ax1b = ax1a.twinx()         # ax1b for the histogram plot\n",
    "ax2b = ax1a.twinx()         # ax2a for the cumulative step plot\n",
    "# Link the respective y-axes for grid and plot\n",
    "ax1a.get_shared_y_axes().join(ax1a, ax1b)\n",
    "ax2a.get_shared_y_axes().join(ax2a, ax2b)\n",
    "# Remove ticks and labels and set which side to label\n",
    "ax1a.tick_params(axis=\"y\", labelleft=False, labelright=False, left=False, right=False)\n",
    "ax2a.tick_params(axis=\"y\", labelleft=False, labelright=False, left=False, right=False)\n",
    "ax1b.tick_params(axis=\"y\", labelleft=True, labelright=False, left=True, right=False)\n",
    "ax2b.tick_params(axis=\"y\", labelleft=False, labelright=True, left=False, right=True)\n",
    "# Spines off\n",
    "for ax in [ax1a, ax2a, ax1b]:\n",
    "    for k,v in ax.spines.items():\n",
    "        v.set_visible(False)\n",
    "\n",
    "sns.lineplot(data=covid_usa, x='date', y='new_deaths_smoothed', ax=ax2b, color='black', linestyle='dotted', label='New COVID-19 Deaths in the USA (Smoothed)')\n",
    "sns.lineplot(data=sent_lineplot_dt, x='date', y='sentiment_polarity' ,label='Polarity', ax=ax1b)\n",
    "sns.lineplot(data=sent_lineplot_dt, x='date', y='rolling_avg', label='3-Month Rolling Average', ax=ax1b)\n",
    "\n",
    "ax1a.grid()\n",
    "ax2a.grid()\n",
    "\n",
    "loc = matplotlib.dates.MonthLocator(interval=1)\n",
    "ax1a.xaxis.set_major_locator(loc)\n",
    "ax1a.xaxis.set_major_formatter(matplotlib.dates.AutoDateFormatter(loc))\n",
    "plt.gcf().autofmt_xdate()\n",
    "\n",
    "ax1b.set_ylabel(ylabel=None)\n",
    "ax2b.set_ylabel(ylabel=None)\n",
    "ax2a.set_ylabel(ylabel='# of COVID-19 Deaths', labelpad=35)\n",
    "ax1a.set_ylabel(ylabel='Polarity Score', labelpad=35)\n",
    "\n",
    "ax1a.set_ylim(0, 0.2)\n",
    "ax1b.set_ylim(0, 0.2)\n",
    "plt.xticks(rotation=45, ha='right')\n",
    "\n",
    "plt.margins(x=0.01,tight=True)\n",
    "ax1b.legend(loc='upper left')\n",
    "ax2b.legend(loc='lower right')\n",
    "\n",
    "plt.tight_layout()\n",
    "plt.savefig('../../data/output/figures/bb_t100_sentiment.eps')\n",
    "plt.show()\n",
    "plt.close()\n"
   ],
   "metadata": {
    "collapsed": false,
    "pycharm": {
     "name": "#%%\n"
    }
   }
  },
  {
   "cell_type": "code",
   "execution_count": 19,
   "outputs": [
    {
     "data": {
      "text/plain": "            sentiment_polarity  rolling_avg\ndate                                       \n2019-01-05            0.091157          NaN\n2019-01-12            0.061303          NaN\n2019-01-19            0.059379          NaN\n2019-01-26            0.054468          NaN\n2019-02-02            0.053882          NaN\n2019-02-09            0.046636          NaN\n2019-02-16            0.044796     0.061460\n2019-02-23            0.056031     0.059567\n2019-03-02            0.064982     0.060760\n2019-03-09            0.051327     0.061860\n2019-03-16            0.075392     0.062453\n2019-03-23            0.078173     0.064189\n2019-03-30            0.068430     0.067169\n2019-04-06            0.075622     0.070534\n2019-04-13            0.072579     0.071602\n2019-04-20            0.061592     0.072898\n2019-04-27            0.074703     0.074936\n2019-05-04            0.082405     0.074558\n2019-05-11            0.085170     0.072685\n2019-05-18            0.068850     0.072164\n2019-05-25            0.080530     0.071273\n2019-06-01            0.075789     0.070277\n2019-06-08            0.070850     0.069708\n2019-06-15            0.055705     0.067687\n2019-06-22            0.062174     0.065308\n2019-06-29            0.064930     0.062170\n2019-07-06            0.060620     0.060224\n2019-07-13            0.054768     0.056349\n2019-07-20            0.050448     0.052391\n2019-07-27            0.053865     0.048952\n2019-08-03            0.047507     0.047922\n2019-08-10            0.045501     0.046362\n2019-08-17            0.034026     0.042753\n2019-08-24            0.028294     0.039025\n2019-08-31            0.029590     0.037133\n2019-09-07            0.043343     0.035549\n2019-09-14            0.043446     0.035158\n2019-09-21            0.021624     0.035212\n2019-09-28            0.015887     0.036479\n2019-10-05            0.032059     0.039720\n2019-10-12            0.031441     0.043469\n2019-10-19            0.049174     0.047913\n2019-10-26            0.048164     0.050848\n2019-11-02            0.060704     0.054320\n2019-11-09            0.072918     0.059705\n2019-11-16            0.073276     0.065527\n2019-11-23            0.082922     0.070647\n2019-11-30            0.078564     0.076975\n2019-12-07            0.085103     0.079424\n2019-12-14            0.086251     0.082202\n2019-12-21            0.085748     0.084364\n2019-12-28            0.093500     0.084299\n2020-01-04            0.107371     0.084069\n2020-01-11            0.078571     0.083081\n2020-01-18            0.081499     0.083254\n2020-01-25            0.086652     0.081907\n2020-02-01            0.072134     0.080048\n2020-02-08            0.070514     0.078149\n2020-02-15            0.071066     0.076364\n2020-02-22            0.080641     0.072866\n2020-02-29            0.068941     0.070767\n2020-03-07            0.063945     0.069001\n2020-03-14            0.062959     0.066887\n2020-03-21            0.072075     0.066020\n2020-03-28            0.065398     0.065707\n2020-04-04            0.053378     0.065626\n2020-04-11            0.060308     0.064676\n2020-04-18            0.061280     0.064227\n2020-04-25            0.061739     0.062960\n2020-05-02            0.066752     0.062075\n2020-05-09            0.070090     0.061220\n2020-05-16            0.069249     0.061060\n2020-05-23            0.063548     0.061711\n2020-05-30            0.048745     0.062414\n2020-06-06            0.052339     0.063148\n2020-06-13            0.061820     0.063697\n2020-06-20            0.063471     0.063187\n2020-06-27            0.061194     0.064015\n2020-07-04            0.068739     0.064034\n2020-07-11            0.070090     0.066009\n2020-07-18            0.068332     0.069798\n2020-07-25            0.060626     0.073324\n2020-08-01            0.080029     0.076014\n2020-08-08            0.069479     0.078803\n2020-08-15            0.087239     0.081360\n2020-08-22            0.094216     0.082709\n2020-08-29            0.094658     0.084249\n2020-09-05            0.094093     0.086574\n2020-09-12            0.096942     0.089535\n2020-09-19            0.091873     0.091968\n2020-09-26            0.084934     0.094984\n2020-10-03            0.088564     0.096729\n2020-10-10            0.096235     0.097518\n2020-10-17            0.096153     0.098701\n2020-10-24            0.109231     0.099217\n2020-10-31            0.105673     0.101797\n2020-11-07            0.108174     0.106030\n2020-11-14            0.103680     0.110596\n2020-11-21            0.108858     0.113144\n2020-11-28            0.100285     0.116623\n2020-12-05            0.127906          NaN\n2020-12-12            0.142670          NaN\n2020-12-19            0.139721          NaN\n2020-12-26            0.119138          NaN\n2021-01-02            0.137983          NaN",
      "text/html": "<div>\n<style scoped>\n    .dataframe tbody tr th:only-of-type {\n        vertical-align: middle;\n    }\n\n    .dataframe tbody tr th {\n        vertical-align: top;\n    }\n\n    .dataframe thead th {\n        text-align: right;\n    }\n</style>\n<table border=\"1\" class=\"dataframe\">\n  <thead>\n    <tr style=\"text-align: right;\">\n      <th></th>\n      <th>sentiment_polarity</th>\n      <th>rolling_avg</th>\n    </tr>\n    <tr>\n      <th>date</th>\n      <th></th>\n      <th></th>\n    </tr>\n  </thead>\n  <tbody>\n    <tr>\n      <th>2019-01-05</th>\n      <td>0.091157</td>\n      <td>NaN</td>\n    </tr>\n    <tr>\n      <th>2019-01-12</th>\n      <td>0.061303</td>\n      <td>NaN</td>\n    </tr>\n    <tr>\n      <th>2019-01-19</th>\n      <td>0.059379</td>\n      <td>NaN</td>\n    </tr>\n    <tr>\n      <th>2019-01-26</th>\n      <td>0.054468</td>\n      <td>NaN</td>\n    </tr>\n    <tr>\n      <th>2019-02-02</th>\n      <td>0.053882</td>\n      <td>NaN</td>\n    </tr>\n    <tr>\n      <th>2019-02-09</th>\n      <td>0.046636</td>\n      <td>NaN</td>\n    </tr>\n    <tr>\n      <th>2019-02-16</th>\n      <td>0.044796</td>\n      <td>0.061460</td>\n    </tr>\n    <tr>\n      <th>2019-02-23</th>\n      <td>0.056031</td>\n      <td>0.059567</td>\n    </tr>\n    <tr>\n      <th>2019-03-02</th>\n      <td>0.064982</td>\n      <td>0.060760</td>\n    </tr>\n    <tr>\n      <th>2019-03-09</th>\n      <td>0.051327</td>\n      <td>0.061860</td>\n    </tr>\n    <tr>\n      <th>2019-03-16</th>\n      <td>0.075392</td>\n      <td>0.062453</td>\n    </tr>\n    <tr>\n      <th>2019-03-23</th>\n      <td>0.078173</td>\n      <td>0.064189</td>\n    </tr>\n    <tr>\n      <th>2019-03-30</th>\n      <td>0.068430</td>\n      <td>0.067169</td>\n    </tr>\n    <tr>\n      <th>2019-04-06</th>\n      <td>0.075622</td>\n      <td>0.070534</td>\n    </tr>\n    <tr>\n      <th>2019-04-13</th>\n      <td>0.072579</td>\n      <td>0.071602</td>\n    </tr>\n    <tr>\n      <th>2019-04-20</th>\n      <td>0.061592</td>\n      <td>0.072898</td>\n    </tr>\n    <tr>\n      <th>2019-04-27</th>\n      <td>0.074703</td>\n      <td>0.074936</td>\n    </tr>\n    <tr>\n      <th>2019-05-04</th>\n      <td>0.082405</td>\n      <td>0.074558</td>\n    </tr>\n    <tr>\n      <th>2019-05-11</th>\n      <td>0.085170</td>\n      <td>0.072685</td>\n    </tr>\n    <tr>\n      <th>2019-05-18</th>\n      <td>0.068850</td>\n      <td>0.072164</td>\n    </tr>\n    <tr>\n      <th>2019-05-25</th>\n      <td>0.080530</td>\n      <td>0.071273</td>\n    </tr>\n    <tr>\n      <th>2019-06-01</th>\n      <td>0.075789</td>\n      <td>0.070277</td>\n    </tr>\n    <tr>\n      <th>2019-06-08</th>\n      <td>0.070850</td>\n      <td>0.069708</td>\n    </tr>\n    <tr>\n      <th>2019-06-15</th>\n      <td>0.055705</td>\n      <td>0.067687</td>\n    </tr>\n    <tr>\n      <th>2019-06-22</th>\n      <td>0.062174</td>\n      <td>0.065308</td>\n    </tr>\n    <tr>\n      <th>2019-06-29</th>\n      <td>0.064930</td>\n      <td>0.062170</td>\n    </tr>\n    <tr>\n      <th>2019-07-06</th>\n      <td>0.060620</td>\n      <td>0.060224</td>\n    </tr>\n    <tr>\n      <th>2019-07-13</th>\n      <td>0.054768</td>\n      <td>0.056349</td>\n    </tr>\n    <tr>\n      <th>2019-07-20</th>\n      <td>0.050448</td>\n      <td>0.052391</td>\n    </tr>\n    <tr>\n      <th>2019-07-27</th>\n      <td>0.053865</td>\n      <td>0.048952</td>\n    </tr>\n    <tr>\n      <th>2019-08-03</th>\n      <td>0.047507</td>\n      <td>0.047922</td>\n    </tr>\n    <tr>\n      <th>2019-08-10</th>\n      <td>0.045501</td>\n      <td>0.046362</td>\n    </tr>\n    <tr>\n      <th>2019-08-17</th>\n      <td>0.034026</td>\n      <td>0.042753</td>\n    </tr>\n    <tr>\n      <th>2019-08-24</th>\n      <td>0.028294</td>\n      <td>0.039025</td>\n    </tr>\n    <tr>\n      <th>2019-08-31</th>\n      <td>0.029590</td>\n      <td>0.037133</td>\n    </tr>\n    <tr>\n      <th>2019-09-07</th>\n      <td>0.043343</td>\n      <td>0.035549</td>\n    </tr>\n    <tr>\n      <th>2019-09-14</th>\n      <td>0.043446</td>\n      <td>0.035158</td>\n    </tr>\n    <tr>\n      <th>2019-09-21</th>\n      <td>0.021624</td>\n      <td>0.035212</td>\n    </tr>\n    <tr>\n      <th>2019-09-28</th>\n      <td>0.015887</td>\n      <td>0.036479</td>\n    </tr>\n    <tr>\n      <th>2019-10-05</th>\n      <td>0.032059</td>\n      <td>0.039720</td>\n    </tr>\n    <tr>\n      <th>2019-10-12</th>\n      <td>0.031441</td>\n      <td>0.043469</td>\n    </tr>\n    <tr>\n      <th>2019-10-19</th>\n      <td>0.049174</td>\n      <td>0.047913</td>\n    </tr>\n    <tr>\n      <th>2019-10-26</th>\n      <td>0.048164</td>\n      <td>0.050848</td>\n    </tr>\n    <tr>\n      <th>2019-11-02</th>\n      <td>0.060704</td>\n      <td>0.054320</td>\n    </tr>\n    <tr>\n      <th>2019-11-09</th>\n      <td>0.072918</td>\n      <td>0.059705</td>\n    </tr>\n    <tr>\n      <th>2019-11-16</th>\n      <td>0.073276</td>\n      <td>0.065527</td>\n    </tr>\n    <tr>\n      <th>2019-11-23</th>\n      <td>0.082922</td>\n      <td>0.070647</td>\n    </tr>\n    <tr>\n      <th>2019-11-30</th>\n      <td>0.078564</td>\n      <td>0.076975</td>\n    </tr>\n    <tr>\n      <th>2019-12-07</th>\n      <td>0.085103</td>\n      <td>0.079424</td>\n    </tr>\n    <tr>\n      <th>2019-12-14</th>\n      <td>0.086251</td>\n      <td>0.082202</td>\n    </tr>\n    <tr>\n      <th>2019-12-21</th>\n      <td>0.085748</td>\n      <td>0.084364</td>\n    </tr>\n    <tr>\n      <th>2019-12-28</th>\n      <td>0.093500</td>\n      <td>0.084299</td>\n    </tr>\n    <tr>\n      <th>2020-01-04</th>\n      <td>0.107371</td>\n      <td>0.084069</td>\n    </tr>\n    <tr>\n      <th>2020-01-11</th>\n      <td>0.078571</td>\n      <td>0.083081</td>\n    </tr>\n    <tr>\n      <th>2020-01-18</th>\n      <td>0.081499</td>\n      <td>0.083254</td>\n    </tr>\n    <tr>\n      <th>2020-01-25</th>\n      <td>0.086652</td>\n      <td>0.081907</td>\n    </tr>\n    <tr>\n      <th>2020-02-01</th>\n      <td>0.072134</td>\n      <td>0.080048</td>\n    </tr>\n    <tr>\n      <th>2020-02-08</th>\n      <td>0.070514</td>\n      <td>0.078149</td>\n    </tr>\n    <tr>\n      <th>2020-02-15</th>\n      <td>0.071066</td>\n      <td>0.076364</td>\n    </tr>\n    <tr>\n      <th>2020-02-22</th>\n      <td>0.080641</td>\n      <td>0.072866</td>\n    </tr>\n    <tr>\n      <th>2020-02-29</th>\n      <td>0.068941</td>\n      <td>0.070767</td>\n    </tr>\n    <tr>\n      <th>2020-03-07</th>\n      <td>0.063945</td>\n      <td>0.069001</td>\n    </tr>\n    <tr>\n      <th>2020-03-14</th>\n      <td>0.062959</td>\n      <td>0.066887</td>\n    </tr>\n    <tr>\n      <th>2020-03-21</th>\n      <td>0.072075</td>\n      <td>0.066020</td>\n    </tr>\n    <tr>\n      <th>2020-03-28</th>\n      <td>0.065398</td>\n      <td>0.065707</td>\n    </tr>\n    <tr>\n      <th>2020-04-04</th>\n      <td>0.053378</td>\n      <td>0.065626</td>\n    </tr>\n    <tr>\n      <th>2020-04-11</th>\n      <td>0.060308</td>\n      <td>0.064676</td>\n    </tr>\n    <tr>\n      <th>2020-04-18</th>\n      <td>0.061280</td>\n      <td>0.064227</td>\n    </tr>\n    <tr>\n      <th>2020-04-25</th>\n      <td>0.061739</td>\n      <td>0.062960</td>\n    </tr>\n    <tr>\n      <th>2020-05-02</th>\n      <td>0.066752</td>\n      <td>0.062075</td>\n    </tr>\n    <tr>\n      <th>2020-05-09</th>\n      <td>0.070090</td>\n      <td>0.061220</td>\n    </tr>\n    <tr>\n      <th>2020-05-16</th>\n      <td>0.069249</td>\n      <td>0.061060</td>\n    </tr>\n    <tr>\n      <th>2020-05-23</th>\n      <td>0.063548</td>\n      <td>0.061711</td>\n    </tr>\n    <tr>\n      <th>2020-05-30</th>\n      <td>0.048745</td>\n      <td>0.062414</td>\n    </tr>\n    <tr>\n      <th>2020-06-06</th>\n      <td>0.052339</td>\n      <td>0.063148</td>\n    </tr>\n    <tr>\n      <th>2020-06-13</th>\n      <td>0.061820</td>\n      <td>0.063697</td>\n    </tr>\n    <tr>\n      <th>2020-06-20</th>\n      <td>0.063471</td>\n      <td>0.063187</td>\n    </tr>\n    <tr>\n      <th>2020-06-27</th>\n      <td>0.061194</td>\n      <td>0.064015</td>\n    </tr>\n    <tr>\n      <th>2020-07-04</th>\n      <td>0.068739</td>\n      <td>0.064034</td>\n    </tr>\n    <tr>\n      <th>2020-07-11</th>\n      <td>0.070090</td>\n      <td>0.066009</td>\n    </tr>\n    <tr>\n      <th>2020-07-18</th>\n      <td>0.068332</td>\n      <td>0.069798</td>\n    </tr>\n    <tr>\n      <th>2020-07-25</th>\n      <td>0.060626</td>\n      <td>0.073324</td>\n    </tr>\n    <tr>\n      <th>2020-08-01</th>\n      <td>0.080029</td>\n      <td>0.076014</td>\n    </tr>\n    <tr>\n      <th>2020-08-08</th>\n      <td>0.069479</td>\n      <td>0.078803</td>\n    </tr>\n    <tr>\n      <th>2020-08-15</th>\n      <td>0.087239</td>\n      <td>0.081360</td>\n    </tr>\n    <tr>\n      <th>2020-08-22</th>\n      <td>0.094216</td>\n      <td>0.082709</td>\n    </tr>\n    <tr>\n      <th>2020-08-29</th>\n      <td>0.094658</td>\n      <td>0.084249</td>\n    </tr>\n    <tr>\n      <th>2020-09-05</th>\n      <td>0.094093</td>\n      <td>0.086574</td>\n    </tr>\n    <tr>\n      <th>2020-09-12</th>\n      <td>0.096942</td>\n      <td>0.089535</td>\n    </tr>\n    <tr>\n      <th>2020-09-19</th>\n      <td>0.091873</td>\n      <td>0.091968</td>\n    </tr>\n    <tr>\n      <th>2020-09-26</th>\n      <td>0.084934</td>\n      <td>0.094984</td>\n    </tr>\n    <tr>\n      <th>2020-10-03</th>\n      <td>0.088564</td>\n      <td>0.096729</td>\n    </tr>\n    <tr>\n      <th>2020-10-10</th>\n      <td>0.096235</td>\n      <td>0.097518</td>\n    </tr>\n    <tr>\n      <th>2020-10-17</th>\n      <td>0.096153</td>\n      <td>0.098701</td>\n    </tr>\n    <tr>\n      <th>2020-10-24</th>\n      <td>0.109231</td>\n      <td>0.099217</td>\n    </tr>\n    <tr>\n      <th>2020-10-31</th>\n      <td>0.105673</td>\n      <td>0.101797</td>\n    </tr>\n    <tr>\n      <th>2020-11-07</th>\n      <td>0.108174</td>\n      <td>0.106030</td>\n    </tr>\n    <tr>\n      <th>2020-11-14</th>\n      <td>0.103680</td>\n      <td>0.110596</td>\n    </tr>\n    <tr>\n      <th>2020-11-21</th>\n      <td>0.108858</td>\n      <td>0.113144</td>\n    </tr>\n    <tr>\n      <th>2020-11-28</th>\n      <td>0.100285</td>\n      <td>0.116623</td>\n    </tr>\n    <tr>\n      <th>2020-12-05</th>\n      <td>0.127906</td>\n      <td>NaN</td>\n    </tr>\n    <tr>\n      <th>2020-12-12</th>\n      <td>0.142670</td>\n      <td>NaN</td>\n    </tr>\n    <tr>\n      <th>2020-12-19</th>\n      <td>0.139721</td>\n      <td>NaN</td>\n    </tr>\n    <tr>\n      <th>2020-12-26</th>\n      <td>0.119138</td>\n      <td>NaN</td>\n    </tr>\n    <tr>\n      <th>2021-01-02</th>\n      <td>0.137983</td>\n      <td>NaN</td>\n    </tr>\n  </tbody>\n</table>\n</div>"
     },
     "execution_count": 19,
     "metadata": {},
     "output_type": "execute_result"
    }
   ],
   "source": [
    "sent_lineplot_dt"
   ],
   "metadata": {
    "collapsed": false,
    "pycharm": {
     "name": "#%%\n"
    }
   }
  },
  {
   "cell_type": "markdown",
   "source": [
    "### Comparison of Songs Released after the Outbreak to Songs that Charted after the Outbreak"
   ],
   "metadata": {
    "collapsed": false
   }
  },
  {
   "cell_type": "code",
   "execution_count": 20,
   "outputs": [],
   "source": [
    "covid_ids = covid_sentiment['lyrics_id'].to_list()\n",
    "\n"
   ],
   "metadata": {
    "collapsed": false,
    "pycharm": {
     "name": "#%%\n"
    }
   }
  },
  {
   "cell_type": "code",
   "execution_count": 21,
   "outputs": [],
   "source": [
    "release_outbreak = sentiment.loc[sentiment['release_date'] >= '2020-03-01']\n",
    "release_outbreak_non_cov = pd.concat([release_outbreak, covid_sentiment]).drop_duplicates(keep=False)\n",
    "chart_outbreak = sentiment.loc[sentiment['first_appearance'] >= '2020-03-01']\n",
    "chart_outbreak_non_cov = pd.concat([chart_outbreak, covid_sentiment]).drop_duplicates(keep=False)\n",
    "all_non_cov = pd.concat([sentiment, covid_sentiment]).drop_duplicates(keep=False)"
   ],
   "metadata": {
    "collapsed": false,
    "pycharm": {
     "name": "#%%\n"
    }
   }
  },
  {
   "cell_type": "code",
   "execution_count": 22,
   "outputs": [
    {
     "name": "stderr",
     "output_type": "stream",
     "text": [
      "The PostScript backend does not support transparency; partially transparent artists will be rendered opaque.\n",
      "The PostScript backend does not support transparency; partially transparent artists will be rendered opaque.\n"
     ]
    },
    {
     "data": {
      "text/plain": "<Figure size 360x216 with 1 Axes>",
      "image/png": "[encoded data removed]"
     },
     "metadata": {},
     "output_type": "display_data"
    }
   ],
   "source": [
    "import matplotlib.patches as mpatches\n",
    "\n",
    "sent_barplot_dt = pd.DataFrame(\n",
    "    {\n",
    "        'covid_sentiment' : [covid_sentiment['sentiment_polarity'].mean()],\n",
    "        'release_outbreak' : [release_outbreak['sentiment_polarity'].mean()],\n",
    "        'release_outbreak_non_cov' : [release_outbreak_non_cov['sentiment_polarity'].mean()],\n",
    "        'chart_outbreak' : [chart_outbreak['sentiment_polarity'].mean()],\n",
    "        'chart_outbreak_non_cov' : [chart_outbreak_non_cov['sentiment_polarity'].mean()],\n",
    "        'all_non_cov' : [all_non_cov['sentiment_polarity'].mean()]\n",
    "    }\n",
    ")\n",
    "\n",
    "col = ['yellow', 'cornflowerblue', 'royalblue', 'forestgreen', 'green', 'hotpink']\n",
    "\n",
    "plt.figure(figsize=(5, 3))\n",
    "sns.barplot(data=sent_barplot_dt, palette=col)\n",
    "\n",
    "\n",
    "plt.tick_params(\n",
    "    axis='x',          # changes apply to the x-axis\n",
    "    which='both',      # both major and minor ticks are affected\n",
    "    bottom=False,      # ticks along the bottom edge are off\n",
    "    top=False,         # ticks along the top edge are off\n",
    "    labelbottom=False)\n",
    "\n",
    "line = plt.axhline(sentiment['sentiment_polarity'].mean(), linestyle='dotted', color='black', label='All Songs')\n",
    "covid_sentiment_patch = mpatches.Patch(color='yellow', label='Songs Addressing COVID-19')\n",
    "release_outbreak_patch = mpatches.Patch(color='cornflowerblue', label='Songs Released after Outbreak')\n",
    "release_outbreak_non_cov_patch = mpatches.Patch(color='royalblue', label='Songs Released after Outbreak not Addressing COVID-19')\n",
    "chart_outbreak_patch = mpatches.Patch(color='forestgreen', label='Songs Charting after Outbreak')\n",
    "chart_outbreak_non_cov_patch = mpatches.Patch(color='green', label='Songs Charting after Outbreak not Addressing COVID-19')\n",
    "all_non_cov_patch = mpatches.Patch(color='hotpink', label='All Songs not Addressing COVID-19')\n",
    "\n",
    "\n",
    "plt.ylim(0, 0.2)\n",
    "plt.legend(handles=[line, covid_sentiment_patch, release_outbreak_patch, release_outbreak_non_cov_patch, chart_outbreak_patch, chart_outbreak_non_cov_patch, all_non_cov_patch])\n",
    "plt.margins(x=0.01,tight=True)\n",
    "plt.tight_layout()\n",
    "\n",
    "plt.savefig('../../data/output/figures/sentiment_bars.eps')\n",
    "plt.show()\n",
    "plt.close()"
   ],
   "metadata": {
    "collapsed": false,
    "pycharm": {
     "name": "#%%\n"
    }
   }
  },
  {
   "cell_type": "code",
   "execution_count": 23,
   "outputs": [
    {
     "data": {
      "text/plain": "   covid_sentiment  release_outbreak  release_outbreak_non_cov  \\\n0            0.009             0.046                      0.05   \n\n   chart_outbreak  chart_outbreak_non_cov  all_non_cov    all  \n0           0.054                   0.058        0.059  0.057  ",
      "text/html": "<div>\n<style scoped>\n    .dataframe tbody tr th:only-of-type {\n        vertical-align: middle;\n    }\n\n    .dataframe tbody tr th {\n        vertical-align: top;\n    }\n\n    .dataframe thead th {\n        text-align: right;\n    }\n</style>\n<table border=\"1\" class=\"dataframe\">\n  <thead>\n    <tr style=\"text-align: right;\">\n      <th></th>\n      <th>covid_sentiment</th>\n      <th>release_outbreak</th>\n      <th>release_outbreak_non_cov</th>\n      <th>chart_outbreak</th>\n      <th>chart_outbreak_non_cov</th>\n      <th>all_non_cov</th>\n      <th>all</th>\n    </tr>\n  </thead>\n  <tbody>\n    <tr>\n      <th>0</th>\n      <td>0.009</td>\n      <td>0.046</td>\n      <td>0.05</td>\n      <td>0.054</td>\n      <td>0.058</td>\n      <td>0.059</td>\n      <td>0.057</td>\n    </tr>\n  </tbody>\n</table>\n</div>"
     },
     "execution_count": 23,
     "metadata": {},
     "output_type": "execute_result"
    }
   ],
   "source": [
    "sent_barplot_dt['all'] = sentiment['sentiment_polarity'].mean()\n",
    "sent_barplot_dt.round(3)"
   ],
   "metadata": {
    "collapsed": false,
    "pycharm": {
     "name": "#%%\n"
    }
   }
  }
 ],
 "metadata": {
  "jupytext": {
   "formats": "ipynb,auto:light"
  },
  "kernelspec": {
   "display_name": "Python 3",
   "language": "python",
   "name": "python3"
  },
  "language_info": {
   "codemirror_mode": {
    "name": "ipython",
    "version": 3
   },
   "file_extension": ".py",
   "mimetype": "text/x-python",
   "name": "python",
   "nbconvert_exporter": "python",
   "pygments_lexer": "ipython3",
   "version": "3.8.6"
  }
 },
 "nbformat": 4,
 "nbformat_minor": 1
}