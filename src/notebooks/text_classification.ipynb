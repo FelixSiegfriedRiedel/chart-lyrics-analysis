{
 "cells": [
  {
   "cell_type": "code",
   "execution_count": 1,
   "outputs": [
    {
     "name": "stdout",
     "output_type": "stream",
     "text": [
      "../../data/lyrics/artist_song_lyrics.csv\n",
      "../../data/lyrics/bb-t100-lyrics.csv\n",
      "../../data/lyrics/bb_t100_lyrics_en.csv\n",
      "../../data/lyrics/corona-lyrics.csv\n",
      "../../data/lyrics/lyrics_invalid.json\n",
      "../../data/lyrics/lyrics_invalid_updated.csv\n",
      "../../data/lyrics/backups/artist_song_lyrics_bak.csv\n",
      "--------------------------------------------------\n",
      "../../data/billboard/bb_t100_en.csv\n",
      "../../data/billboard/billboard.csv\n",
      "../../data/billboard/billboard_top_100_2020.csv\n",
      "../../data/billboard/backups/bb-t100_backup.csv\n"
     ]
    }
   ],
   "source": [
    "import numpy as np # linear algebra\n",
    "import pandas as pd # data processing, CSV file I/O (e.g. pd.read_csv)\n",
    "import seaborn as sns\n",
    "import matplotlib.pyplot as plt\n",
    "import datetime\n",
    "import os\n",
    "for dirname, _, filenames in os.walk('../../data/lyrics'):\n",
    "    for filename in filenames:\n",
    "        print(os.path.join(dirname, filename).replace(\"\\\\\",\"/\"))\n",
    "\n",
    "print(50*'-')\n",
    "\n",
    "for dirname, _, filenames in os.walk('../../data/billboard'):\n",
    "    for filename in filenames:\n",
    "        print(os.path.join(dirname, filename).replace(\"\\\\\",\"/\"))\n",
    "\n",
    "from src.progress_bar import printProgressBar"
   ],
   "metadata": {
    "collapsed": false,
    "pycharm": {
     "name": "#%%\n"
    }
   }
  },
  {
   "cell_type": "code",
   "execution_count": 2,
   "outputs": [
    {
     "data": {
      "text/plain": "      Unnamed: 0                                               line  \\\n0              0                           thank you's don't cut it   \n1              1                             i mean what do you get   \n2              2            for the one who sees a crowd running up   \n3              3                         and then decides to run in   \n4              4                               its grace under fire   \n...          ...                                                ...   \n1814        1814  just like you wanna stick a dick up in me, i w...   \n1815        1815  and don't get in your motherfuckin' feelings w...   \n1816        1816        and one of your niggas wanna get down on me   \n1817        1817  and i wanna give them some pussy 'cause they g...   \n1818        1818                        know what i mean? it's easy   \n\n                                        artist  \\\n0                                Adam Hambrick   \n1                                Adam Hambrick   \n2                                Adam Hambrick   \n3                                Adam Hambrick   \n4                                Adam Hambrick   \n...                                        ...   \n1814  21 Savage & Metro Boomin Featuring Drake   \n1815  21 Savage & Metro Boomin Featuring Drake   \n1816  21 Savage & Metro Boomin Featuring Drake   \n1817  21 Savage & Metro Boomin Featuring Drake   \n1818  21 Savage & Metro Boomin Featuring Drake   \n\n                                     song  corona  \n0     Between Me and the End of the World   False  \n1     Between Me and the End of the World   False  \n2     Between Me and the End of the World   False  \n3     Between Me and the End of the World   False  \n4     Between Me and the End of the World   False  \n...                                   ...     ...  \n1814                        Mr. Right Now   False  \n1815                        Mr. Right Now   False  \n1816                        Mr. Right Now   False  \n1817                        Mr. Right Now   False  \n1818                        Mr. Right Now   False  \n\n[1819 rows x 5 columns]",
      "text/html": "<div>\n<style scoped>\n    .dataframe tbody tr th:only-of-type {\n        vertical-align: middle;\n    }\n\n    .dataframe tbody tr th {\n        vertical-align: top;\n    }\n\n    .dataframe thead th {\n        text-align: right;\n    }\n</style>\n<table border=\"1\" class=\"dataframe\">\n  <thead>\n    <tr style=\"text-align: right;\">\n      <th></th>\n      <th>Unnamed: 0</th>\n      <th>line</th>\n      <th>artist</th>\n      <th>song</th>\n      <th>corona</th>\n    </tr>\n  </thead>\n  <tbody>\n    <tr>\n      <th>0</th>\n      <td>0</td>\n      <td>thank you's don't cut it</td>\n      <td>Adam Hambrick</td>\n      <td>Between Me and the End of the World</td>\n      <td>False</td>\n    </tr>\n    <tr>\n      <th>1</th>\n      <td>1</td>\n      <td>i mean what do you get</td>\n      <td>Adam Hambrick</td>\n      <td>Between Me and the End of the World</td>\n      <td>False</td>\n    </tr>\n    <tr>\n      <th>2</th>\n      <td>2</td>\n      <td>for the one who sees a crowd running up</td>\n      <td>Adam Hambrick</td>\n      <td>Between Me and the End of the World</td>\n      <td>False</td>\n    </tr>\n    <tr>\n      <th>3</th>\n      <td>3</td>\n      <td>and then decides to run in</td>\n      <td>Adam Hambrick</td>\n      <td>Between Me and the End of the World</td>\n      <td>False</td>\n    </tr>\n    <tr>\n      <th>4</th>\n      <td>4</td>\n      <td>its grace under fire</td>\n      <td>Adam Hambrick</td>\n      <td>Between Me and the End of the World</td>\n      <td>False</td>\n    </tr>\n    <tr>\n      <th>...</th>\n      <td>...</td>\n      <td>...</td>\n      <td>...</td>\n      <td>...</td>\n      <td>...</td>\n    </tr>\n    <tr>\n      <th>1814</th>\n      <td>1814</td>\n      <td>just like you wanna stick a dick up in me, i w...</td>\n      <td>21 Savage &amp; Metro Boomin Featuring Drake</td>\n      <td>Mr. Right Now</td>\n      <td>False</td>\n    </tr>\n    <tr>\n      <th>1815</th>\n      <td>1815</td>\n      <td>and don't get in your motherfuckin' feelings w...</td>\n      <td>21 Savage &amp; Metro Boomin Featuring Drake</td>\n      <td>Mr. Right Now</td>\n      <td>False</td>\n    </tr>\n    <tr>\n      <th>1816</th>\n      <td>1816</td>\n      <td>and one of your niggas wanna get down on me</td>\n      <td>21 Savage &amp; Metro Boomin Featuring Drake</td>\n      <td>Mr. Right Now</td>\n      <td>False</td>\n    </tr>\n    <tr>\n      <th>1817</th>\n      <td>1817</td>\n      <td>and i wanna give them some pussy 'cause they g...</td>\n      <td>21 Savage &amp; Metro Boomin Featuring Drake</td>\n      <td>Mr. Right Now</td>\n      <td>False</td>\n    </tr>\n    <tr>\n      <th>1818</th>\n      <td>1818</td>\n      <td>know what i mean? it's easy</td>\n      <td>21 Savage &amp; Metro Boomin Featuring Drake</td>\n      <td>Mr. Right Now</td>\n      <td>False</td>\n    </tr>\n  </tbody>\n</table>\n<p>1819 rows × 5 columns</p>\n</div>"
     },
     "execution_count": 2,
     "metadata": {},
     "output_type": "execute_result"
    }
   ],
   "source": [
    "corona_lines = pd.read_excel('../../data/input/corona_lines.xlsx')\n",
    "corona_lines"
   ],
   "metadata": {
    "collapsed": false,
    "pycharm": {
     "name": "#%%\n"
    }
   }
  },
  {
   "cell_type": "code",
   "execution_count": 3,
   "outputs": [],
   "source": [
    "import spacy\n",
    "from spacy.tokens import DocBin"
   ],
   "metadata": {
    "collapsed": false,
    "pycharm": {
     "name": "#%%\n"
    }
   }
  },
  {
   "cell_type": "code",
   "execution_count": 4,
   "outputs": [
    {
     "data": {
      "text/plain": "Index(['Unnamed: 0', 'line', 'artist', 'song', 'corona'], dtype='object')"
     },
     "execution_count": 4,
     "metadata": {},
     "output_type": "execute_result"
    }
   ],
   "source": [
    "corona_lines.columns"
   ],
   "metadata": {
    "collapsed": false,
    "pycharm": {
     "name": "#%%\n"
    }
   }
  },
  {
   "cell_type": "code",
   "execution_count": 5,
   "outputs": [],
   "source": [
    "columns = ['line', 'corona']\n",
    "data = corona_lines[columns]\n",
    "data = data.sample(frac=1).reset_index(drop=True)\n",
    "train = valid = data"
   ],
   "metadata": {
    "collapsed": false,
    "pycharm": {
     "name": "#%%\n"
    }
   }
  },
  {
   "cell_type": "code",
   "execution_count": 6,
   "outputs": [],
   "source": [
    "nlp = spacy.load(\"en_core_web_lg\")"
   ],
   "metadata": {
    "collapsed": false,
    "pycharm": {
     "name": "#%%\n"
    }
   }
  },
  {
   "cell_type": "code",
   "execution_count": 7,
   "outputs": [],
   "source": [
    "def make_docs(df):\n",
    "    docs = []\n",
    "    for row in df[['line', 'corona']].itertuples():\n",
    "        line = row[1]\n",
    "        corona = row[2]\n",
    "        doc = nlp(line)\n",
    "        if corona:\n",
    "            doc.cats['is_corona_line'] = 1\n",
    "            doc.cats['is_not_corona_line'] = 0\n",
    "        if not corona:\n",
    "            doc.cats['is_corona_line'] = 0\n",
    "            doc.cats['is_not_corona_line'] = 1\n",
    "        docs.append(doc)\n",
    "    return docs"
   ],
   "metadata": {
    "collapsed": false,
    "pycharm": {
     "name": "#%%\n"
    }
   }
  },
  {
   "cell_type": "code",
   "execution_count": 8,
   "outputs": [],
   "source": [
    "train_docs = make_docs(train)\n",
    "DocBin(docs=train_docs).to_disk('../../spacy/train.spacy')\n",
    "\n",
    "valid_docs = make_docs(train)\n",
    "DocBin(docs=valid_docs).to_disk('../../spacy/valid.spacy')\n"
   ],
   "metadata": {
    "collapsed": false,
    "pycharm": {
     "name": "#%%\n"
    }
   }
  },
  {
   "cell_type": "code",
   "execution_count": 9,
   "outputs": [],
   "source": [
    "train.to_csv('../../spacy/train.csv', encoding='utf-8')\n",
    "valid.to_csv('../../spacy/valid.csv', encoding='utf-8')"
   ],
   "metadata": {
    "collapsed": false,
    "pycharm": {
     "name": "#%%\n"
    }
   }
  }
 ],
 "metadata": {
  "kernelspec": {
   "display_name": "Python 3",
   "language": "python",
   "name": "python3"
  },
  "language_info": {
   "codemirror_mode": {
    "name": "ipython",
    "version": 2
   },
   "file_extension": ".py",
   "mimetype": "text/x-python",
   "name": "python",
   "nbconvert_exporter": "python",
   "pygments_lexer": "ipython2",
   "version": "2.7.6"
  }
 },
 "nbformat": 4,
 "nbformat_minor": 0
}