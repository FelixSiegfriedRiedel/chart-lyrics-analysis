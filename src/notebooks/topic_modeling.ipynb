{
 "cells": [
  {
   "cell_type": "markdown",
   "metadata": {},
   "source": [
    "# Topic Modeling"
   ]
  },
  {
   "cell_type": "markdown",
   "metadata": {},
   "source": [
    "## Import"
   ]
  },
  {
   "cell_type": "code",
   "execution_count": 1,
   "metadata": {
    "collapsed": true
   },
   "outputs": [
    {
     "name": "stdout",
     "output_type": "stream",
     "text": [
      "../../data/lyrics/artist_song_lyrics.csv\n",
      "../../data/lyrics/artist_song_lyrics_new.csv\n",
      "../../data/lyrics/bb-t100-lyrics.csv\n",
      "../../data/lyrics/bb_t100_lyrics_en.csv\n",
      "../../data/lyrics/bb_t100_lyrics_en_v2.csv\n",
      "../../data/lyrics/corona-lyrics.csv\n",
      "../../data/lyrics/covid_lyrics_bb.csv\n",
      "../../data/lyrics/lyrics_invalid.json\n",
      "../../data/lyrics/lyrics_invalid_updated.csv\n",
      "../../data/lyrics/backups/artist_song_lyrics_bak.csv\n",
      "../../data/lyrics/backups/bb-t100-lyrics.csv\n",
      "../../data/lyrics/backups/bb-t100-lyrics_new.csv\n",
      "../../data/lyrics/backups/bb-t100-lyrics_old.csv\n",
      "../../data/lyrics/backups/bb_t100_lyrics_en.csv\n",
      "../../data/lyrics/backups/bb_t100_lyrics_en_v1.csv\n",
      "../../data/lyrics/backups/bb_t100_lyrics_en_v2.csv\n",
      "../../data/lyrics/backups/bb_t100_lyrics_en_v3.csv\n",
      "../../data/lyrics/backups/corona-lyrics.csv\n",
      "../../data/lyrics/backups/lyrics_invalid_updated.csv\n",
      "--------------------------------------------------\n",
      "../../data/billboard/bb_t100_en.csv\n",
      "../../data/billboard/billboard.csv\n",
      "../../data/billboard/billboard_top_100_2020.csv\n",
      "../../data/billboard/backups/bb-t100_backup.csv\n"
     ]
    }
   ],
   "source": [
    "import numpy as np  # linear algebra\n",
    "import pandas as pd  # data processing, CSV file I/O (e.g. pd.read_csv)\n",
    "\n",
    "import matplotlib.pyplot as plt\n",
    "import matplotlib.dates\n",
    "\n",
    "import seaborn as sns\n",
    "\n",
    "from src.progress_bar import printProgressBar\n",
    "\n",
    "from ast import literal_eval\n",
    "\n",
    "import gensim\n",
    "import gensim.corpora as corpora\n",
    "from gensim.models import TfidfModel\n",
    "\n",
    "import pyLDAvis\n",
    "import pyLDAvis.gensim_models\n",
    "\n",
    "import spacy\n",
    "\n",
    "import json\n",
    "\n",
    "import os\n",
    "for dirname, _, filenames in os.walk('../../data/lyrics'):\n",
    "    for filename in filenames:\n",
    "        print(os.path.join(dirname, filename).replace(\"\\\\\", \"/\"))\n",
    "\n",
    "print(50 * '-')\n",
    "\n",
    "for dirname, _, filenames in os.walk('../../data/billboard'):\n",
    "    for filename in filenames:\n",
    "        print(os.path.join(dirname, filename).replace(\"\\\\\", \"/\"))"
   ]
  },
  {
   "cell_type": "markdown",
   "metadata": {},
   "source": [
    "## Loading Data"
   ]
  },
  {
   "cell_type": "markdown",
   "metadata": {},
   "source": [
    "### Lyrics"
   ]
  },
  {
   "cell_type": "code",
   "execution_count": 2,
   "metadata": {
    "pycharm": {
     "name": "#%%\n"
    }
   },
   "outputs": [
    {
     "data": {
      "text/plain": "   index  billboard_id  lyrics_id                  artist   first_artist  \\\n0      0             0          0           Ariana Grande  Ariana Grande   \n1      1             1          1                  Halsey         Halsey   \n2      2             2          2            Mariah Carey   Mariah Carey   \n3      3             3          3            Travis Scott   Travis Scott   \n4      4             4          4  Post Malone & Swae Lee    Post Malone   \n\n                                            song  weeks_on_chart  peak_rank  \\\n0                                  Thank U, Next            28.0        1.0   \n1                                     Without Me            52.0        1.0   \n2                All I Want For Christmas Is You            43.0        1.0   \n3                                     Sicko Mode            52.0        1.0   \n4  Sunflower (Spider-Man: Into The Spider-Verse)            53.0        1.0   \n\n   genius_id                                             lyrics  ...  \\\n0    4063065  Thought I'd end up with Sean\\nBut he wasn't a ...  ...   \n1    3977187  Found you when your heart was broke\\nI filled ...  ...   \n2     204233  I don't want a lot for Christmas\\nThere is jus...  ...   \n3    3876994  Astro, yeah\\nSun is down, freezin' cold\\nThat'...  ...   \n4    3993850  Ayy, ayy, ayy, ayy (Ooh)\\nOoh, ooh, ooh, ooh (...  ...   \n\n  word_count  language  language_score first_appearance  \\\n0        460        en        0.999997       2019-01-05   \n1        435        en        0.999995       2019-01-05   \n2        388        en        0.999996       2019-01-05   \n3        771        en        0.999998       2019-01-05   \n4        305        en        0.999997       2019-01-05   \n\n    genius_primary_artist                                 genius_description  \\\n0           Ariana Grande  On the lead single and titular track to her fi...   \n1                  Halsey  “Without Me” is the first new song released by...   \n2            Mariah Carey  “All I Want For Christmas Is You” is an uptemp...   \n3            Travis Scott  “SICKO MODE” refers to Travis and Drake’s work...   \n4  Post Malone & Swae Lee  “Sunflower” marks the second collaboration by ...   \n\n                                  genius_annotations  \\\n0  [(One taught me love\\n One taught me patience\\...   \n1  [(Gave love ’bout a hundred tries (Hundred tri...   \n2  [(I don’t need to hang my stocking\\n There upo...   \n3  [(She’s in love with who I am, [['Since Drake ...   \n4  [(Then you’re left in the dust, unless I stuck...   \n\n                                     genius_comments release_date  \\\n0  [The Mac shoutout has me fully in tears, this ...   2018-11-03   \n1  [The queen is ready to snatch our wigs once ag...   2018-10-04   \n2  [i really like this song, it’s about that time...   1994-11-01   \n3  [HAD ME OUT LIKE A LIGHT (ayy) LIKE A LIGHT (y...   2018-08-03   \n4  [Me enjoying “Sunflower” and someone then inte...   2018-10-18   \n\n                                      annotation_ids  \n0  ['15720075', '15720076', '15720054', '15720247...  \n1  ['15517989', '15520369', '15518283', '15518820...  \n2  ['8393500', '8393500', '21611023', '8393500', ...  \n3  ['15114078', '17948214', '15113868', '15113778...  \n4                           ['16057378', '16057378']  \n\n[5 rows x 22 columns]",
      "text/html": "<div>\n<style scoped>\n    .dataframe tbody tr th:only-of-type {\n        vertical-align: middle;\n    }\n\n    .dataframe tbody tr th {\n        vertical-align: top;\n    }\n\n    .dataframe thead th {\n        text-align: right;\n    }\n</style>\n<table border=\"1\" class=\"dataframe\">\n  <thead>\n    <tr style=\"text-align: right;\">\n      <th></th>\n      <th>index</th>\n      <th>billboard_id</th>\n      <th>lyrics_id</th>\n      <th>artist</th>\n      <th>first_artist</th>\n      <th>song</th>\n      <th>weeks_on_chart</th>\n      <th>peak_rank</th>\n      <th>genius_id</th>\n      <th>lyrics</th>\n      <th>...</th>\n      <th>word_count</th>\n      <th>language</th>\n      <th>language_score</th>\n      <th>first_appearance</th>\n      <th>genius_primary_artist</th>\n      <th>genius_description</th>\n      <th>genius_annotations</th>\n      <th>genius_comments</th>\n      <th>release_date</th>\n      <th>annotation_ids</th>\n    </tr>\n  </thead>\n  <tbody>\n    <tr>\n      <th>0</th>\n      <td>0</td>\n      <td>0</td>\n      <td>0</td>\n      <td>Ariana Grande</td>\n      <td>Ariana Grande</td>\n      <td>Thank U, Next</td>\n      <td>28.0</td>\n      <td>1.0</td>\n      <td>4063065</td>\n      <td>Thought I'd end up with Sean\\nBut he wasn't a ...</td>\n      <td>...</td>\n      <td>460</td>\n      <td>en</td>\n      <td>0.999997</td>\n      <td>2019-01-05</td>\n      <td>Ariana Grande</td>\n      <td>On the lead single and titular track to her fi...</td>\n      <td>[(One taught me love\\n One taught me patience\\...</td>\n      <td>[The Mac shoutout has me fully in tears, this ...</td>\n      <td>2018-11-03</td>\n      <td>['15720075', '15720076', '15720054', '15720247...</td>\n    </tr>\n    <tr>\n      <th>1</th>\n      <td>1</td>\n      <td>1</td>\n      <td>1</td>\n      <td>Halsey</td>\n      <td>Halsey</td>\n      <td>Without Me</td>\n      <td>52.0</td>\n      <td>1.0</td>\n      <td>3977187</td>\n      <td>Found you when your heart was broke\\nI filled ...</td>\n      <td>...</td>\n      <td>435</td>\n      <td>en</td>\n      <td>0.999995</td>\n      <td>2019-01-05</td>\n      <td>Halsey</td>\n      <td>“Without Me” is the first new song released by...</td>\n      <td>[(Gave love ’bout a hundred tries (Hundred tri...</td>\n      <td>[The queen is ready to snatch our wigs once ag...</td>\n      <td>2018-10-04</td>\n      <td>['15517989', '15520369', '15518283', '15518820...</td>\n    </tr>\n    <tr>\n      <th>2</th>\n      <td>2</td>\n      <td>2</td>\n      <td>2</td>\n      <td>Mariah Carey</td>\n      <td>Mariah Carey</td>\n      <td>All I Want For Christmas Is You</td>\n      <td>43.0</td>\n      <td>1.0</td>\n      <td>204233</td>\n      <td>I don't want a lot for Christmas\\nThere is jus...</td>\n      <td>...</td>\n      <td>388</td>\n      <td>en</td>\n      <td>0.999996</td>\n      <td>2019-01-05</td>\n      <td>Mariah Carey</td>\n      <td>“All I Want For Christmas Is You” is an uptemp...</td>\n      <td>[(I don’t need to hang my stocking\\n There upo...</td>\n      <td>[i really like this song, it’s about that time...</td>\n      <td>1994-11-01</td>\n      <td>['8393500', '8393500', '21611023', '8393500', ...</td>\n    </tr>\n    <tr>\n      <th>3</th>\n      <td>3</td>\n      <td>3</td>\n      <td>3</td>\n      <td>Travis Scott</td>\n      <td>Travis Scott</td>\n      <td>Sicko Mode</td>\n      <td>52.0</td>\n      <td>1.0</td>\n      <td>3876994</td>\n      <td>Astro, yeah\\nSun is down, freezin' cold\\nThat'...</td>\n      <td>...</td>\n      <td>771</td>\n      <td>en</td>\n      <td>0.999998</td>\n      <td>2019-01-05</td>\n      <td>Travis Scott</td>\n      <td>“SICKO MODE” refers to Travis and Drake’s work...</td>\n      <td>[(She’s in love with who I am, [['Since Drake ...</td>\n      <td>[HAD ME OUT LIKE A LIGHT (ayy) LIKE A LIGHT (y...</td>\n      <td>2018-08-03</td>\n      <td>['15114078', '17948214', '15113868', '15113778...</td>\n    </tr>\n    <tr>\n      <th>4</th>\n      <td>4</td>\n      <td>4</td>\n      <td>4</td>\n      <td>Post Malone &amp; Swae Lee</td>\n      <td>Post Malone</td>\n      <td>Sunflower (Spider-Man: Into The Spider-Verse)</td>\n      <td>53.0</td>\n      <td>1.0</td>\n      <td>3993850</td>\n      <td>Ayy, ayy, ayy, ayy (Ooh)\\nOoh, ooh, ooh, ooh (...</td>\n      <td>...</td>\n      <td>305</td>\n      <td>en</td>\n      <td>0.999997</td>\n      <td>2019-01-05</td>\n      <td>Post Malone &amp; Swae Lee</td>\n      <td>“Sunflower” marks the second collaboration by ...</td>\n      <td>[(Then you’re left in the dust, unless I stuck...</td>\n      <td>[Me enjoying “Sunflower” and someone then inte...</td>\n      <td>2018-10-18</td>\n      <td>['16057378', '16057378']</td>\n    </tr>\n  </tbody>\n</table>\n<p>5 rows × 22 columns</p>\n</div>"
     },
     "execution_count": 2,
     "metadata": {},
     "output_type": "execute_result"
    }
   ],
   "source": [
    "lyrics = pd.read_csv('../../data/lyrics/bb_t100_lyrics_en.csv', index_col=0, encoding='utf-8')\n",
    "lyrics['first_appearance'] = pd.to_datetime(lyrics['first_appearance'], format='%Y-%m-%d')\n",
    "lyrics['release_date'] = pd.to_datetime(lyrics['release_date'], format='%Y-%m-%d')\n",
    "lyrics['genius_annotations'] = lyrics['genius_annotations'].apply(literal_eval)\n",
    "lyrics['genius_comments'] = lyrics['genius_comments'].apply(literal_eval)\n",
    "lyrics.reset_index(inplace=True)\n",
    "lyrics.head()"
   ]
  },
  {
   "cell_type": "markdown",
   "source": [
    "### Music Match - Million Songs Data Set (MXM)"
   ],
   "metadata": {
    "collapsed": false
   }
  },
  {
   "cell_type": "code",
   "execution_count": 3,
   "outputs": [
    {
     "name": "stdout",
     "output_type": "stream",
     "text": [
      "Progress: |██████████████████████████████████████████████████| 100.0% Complete\r\n"
     ]
    }
   ],
   "source": [
    "with open('../../data/input/mxm_dataset_train.txt','r') as f:\n",
    "    mxm_lines = [next(f) for i in range(2018)]\n",
    "f.close()\n",
    "\n",
    "track_ids = []\n",
    "mxm_track_ids = []\n",
    "mxm_corpus = []\n",
    "i = 0\n",
    "l = len(mxm_lines[18:])\n",
    "printProgressBar(i, l, prefix='Progress:', suffix='Complete', length=50)\n",
    "for line in mxm_lines[18:]:\n",
    "    line = line[:-1].split(\",\")\n",
    "    track_ids.append(line[0])\n",
    "    mxm_track_ids.append(line[1])\n",
    "    bow = []\n",
    "    for item in line[2:]:\n",
    "        bow.append(tuple((int(item.split(\":\")[0])-1, int(item.split(\":\")[1]))))\n",
    "    mxm_corpus.append(bow)\n",
    "    i+=1\n",
    "    printProgressBar(i, l, prefix='Progress:', suffix='Complete', length=50)"
   ],
   "metadata": {
    "collapsed": false,
    "pycharm": {
     "name": "#%%\n"
    }
   }
  },
  {
   "cell_type": "code",
   "execution_count": 4,
   "outputs": [
    {
     "data": {
      "text/plain": "             track_id mxm_track_id  \\\n0  TRAAAAV128F421A322      4623710   \n1  TRAAABD128F429CF47      6477168   \n2  TRAAAED128E0783FAB      2516445   \n3  TRAAAEF128F4273421      3759847   \n4  TRAAAEW128F42930C0      3783760   \n\n                                              corpus  \n0  [(0, 6), (1, 4), (2, 2), (3, 2), (4, 5), (5, 3...  \n1  [(0, 10), (2, 17), (3, 8), (4, 2), (5, 2), (6,...  \n2  [(0, 28), (1, 15), (2, 2), (3, 12), (4, 22), (...  \n3  [(0, 5), (1, 4), (2, 3), (3, 2), (4, 1), (5, 1...  \n4  [(0, 4), (3, 5), (4, 7), (5, 2), (6, 4), (8, 1...  ",
      "text/html": "<div>\n<style scoped>\n    .dataframe tbody tr th:only-of-type {\n        vertical-align: middle;\n    }\n\n    .dataframe tbody tr th {\n        vertical-align: top;\n    }\n\n    .dataframe thead th {\n        text-align: right;\n    }\n</style>\n<table border=\"1\" class=\"dataframe\">\n  <thead>\n    <tr style=\"text-align: right;\">\n      <th></th>\n      <th>track_id</th>\n      <th>mxm_track_id</th>\n      <th>corpus</th>\n    </tr>\n  </thead>\n  <tbody>\n    <tr>\n      <th>0</th>\n      <td>TRAAAAV128F421A322</td>\n      <td>4623710</td>\n      <td>[(0, 6), (1, 4), (2, 2), (3, 2), (4, 5), (5, 3...</td>\n    </tr>\n    <tr>\n      <th>1</th>\n      <td>TRAAABD128F429CF47</td>\n      <td>6477168</td>\n      <td>[(0, 10), (2, 17), (3, 8), (4, 2), (5, 2), (6,...</td>\n    </tr>\n    <tr>\n      <th>2</th>\n      <td>TRAAAED128E0783FAB</td>\n      <td>2516445</td>\n      <td>[(0, 28), (1, 15), (2, 2), (3, 12), (4, 22), (...</td>\n    </tr>\n    <tr>\n      <th>3</th>\n      <td>TRAAAEF128F4273421</td>\n      <td>3759847</td>\n      <td>[(0, 5), (1, 4), (2, 3), (3, 2), (4, 1), (5, 1...</td>\n    </tr>\n    <tr>\n      <th>4</th>\n      <td>TRAAAEW128F42930C0</td>\n      <td>3783760</td>\n      <td>[(0, 4), (3, 5), (4, 7), (5, 2), (6, 4), (8, 1...</td>\n    </tr>\n  </tbody>\n</table>\n</div>"
     },
     "execution_count": 4,
     "metadata": {},
     "output_type": "execute_result"
    }
   ],
   "source": [
    "mxm_df = pd.DataFrame()\n",
    "mxm_df['track_id'] = track_ids\n",
    "mxm_df['mxm_track_id'] = mxm_track_ids\n",
    "mxm_df['corpus'] = mxm_corpus\n",
    "mxm_df.head()"
   ],
   "metadata": {
    "collapsed": false,
    "pycharm": {
     "name": "#%%\n"
    }
   }
  },
  {
   "cell_type": "markdown",
   "source": [
    "## Tokenization"
   ],
   "metadata": {
    "collapsed": false
   }
  },
  {
   "cell_type": "markdown",
   "source": [
    "### Lyrics"
   ],
   "metadata": {
    "collapsed": false
   }
  },
  {
   "cell_type": "code",
   "execution_count": 5,
   "metadata": {
    "pycharm": {
     "name": "#%%\n"
    }
   },
   "outputs": [],
   "source": [
    "nlp = spacy.load(\"en_core_web_lg\")\n",
    "nlp.Defaults.stop_words |= {'ai', 'gon', '\\u2005', 'ooh', 'let', 've', 'gonna', 'woah', 'gotta', 'll', 'mmm', 'maybe',\n",
    "                            'got', 'oh', 'uh', 'want', 'huh', 'ah', 'ma', 'hey', 'woo', 'ain', 'come', 'goin', 'ya',\n",
    "                            'la', 'bah', 'yeah', 'ayy', 'em', 'tryna', 'goes', 'damn', 'ooo', 'comin', 'ran', 'wanna',\n",
    "                            'okay', 'til', 'didn'}"
   ]
  },
  {
   "cell_type": "code",
   "execution_count": 6,
   "metadata": {
    "pycharm": {
     "name": "#%%\n"
    }
   },
   "outputs": [],
   "source": [
    "def create_doc(text, pos_tags=[\"NOUN\", 'PROPN', \"VERB\", \"ADJ\"]):\n",
    "    lines = text.split('\\n')\n",
    "    lines_unique_list = []\n",
    "    for line in lines:\n",
    "        if len(line) == 0:\n",
    "            continue\n",
    "        if line not in lines_unique_list:\n",
    "            lines_unique_list.append(line)\n",
    "    unique_lines = \" \".join(lines_unique_list)\n",
    "\n",
    "    lemmas = []\n",
    "    doc = nlp(unique_lines)\n",
    "    for token in doc:\n",
    "        if token.is_stop or token.is_punct:\n",
    "            continue\n",
    "\n",
    "        if token.pos_ in pos_tags:\n",
    "            if token.lemma_ not in nlp.Defaults.stop_words:\n",
    "                lemmas.append(token.lemma_.lower())\n",
    "            else:\n",
    "                continue\n",
    "\n",
    "    return lemmas\n",
    "\n",
    "def make_bigrams(docs):\n",
    "    return [bigram_model[doc] for doc in docs]\n",
    "\n",
    "def make_trigrams(docs):\n",
    "    return [trigram_model[bigram_model[doc]] for doc in docs]\n"
   ]
  },
  {
   "cell_type": "code",
   "execution_count": 7,
   "metadata": {
    "pycharm": {
     "name": "#%%\n"
    }
   },
   "outputs": [],
   "source": [
    "try:\n",
    "    with open(\"../../data/cache/topic_docs.txt\", \"r\") as f:\n",
    "        docs = json.load(f)\n",
    "    f.close()\n",
    "    with open(\"../../data/cache/topic_docs_bigrams.txt\", \"r\") as f:\n",
    "        docs_bigrams = json.load(f)\n",
    "    f.close()\n",
    "    with open(\"../../data/cache/topic_docs_bigrams_trigrams.txt\", \"r\") as f:\n",
    "        docs_bigrams_trigrams = json.load(f)\n",
    "    f.close()\n",
    "except FileNotFoundError:\n",
    "    docs = []\n",
    "    i = 0\n",
    "    l = len(lyrics['lyrics'])\n",
    "    printProgressBar(i, l, prefix='Progress:', suffix='Complete', length=50)\n",
    "    for text in lyrics['lyrics']:\n",
    "        docs.append(create_doc(text))\n",
    "        i+=1\n",
    "        printProgressBar(i, l, prefix='Progress:', suffix='Complete', length=50)\n",
    "\n",
    "    bigram = gensim.models.Phrases(docs, min_count=5, threshold=100) # higher threshold fewer phrases.\n",
    "    bigram_model = gensim.models.phrases.Phraser(bigram)\n",
    "    trigram = gensim.models.Phrases(bigram[docs], threshold=100)\n",
    "    trigram_model = gensim.models.phrases.Phraser(trigram)\n",
    "\n",
    "    docs_bigrams = make_bigrams(docs)\n",
    "    docs_bigrams_trigrams = make_trigrams(docs_bigrams)\n",
    "    with open(\"../../data/cache/topic_docs.txt\", \"w\") as f:\n",
    "        json.dump(docs, f)\n",
    "    f.close()\n",
    "    with open(\"../../data/cache/topic_docs_bigrams.txt\", \"w\") as f:\n",
    "        json.dump(docs_bigrams, f)\n",
    "    f.close()\n",
    "    with open(\"../../data/cache/topic_docs_bigrams_trigrams.txt\", \"w\") as f:\n",
    "        json.dump(docs_bigrams_trigrams, f)\n",
    "    f.close()\n"
   ]
  },
  {
   "cell_type": "markdown",
   "source": [
    "The MXM data is already in BOW-format and therefore does not need to be tokenized."
   ],
   "metadata": {
    "collapsed": false
   }
  },
  {
   "cell_type": "markdown",
   "source": [
    "## Generate Corpus and Id2Word-Dictionary"
   ],
   "metadata": {
    "collapsed": false
   }
  },
  {
   "cell_type": "markdown",
   "source": [
    "### Lyrics"
   ],
   "metadata": {
    "collapsed": false
   }
  },
  {
   "cell_type": "code",
   "execution_count": 8,
   "metadata": {
    "pycharm": {
     "name": "#%%\n"
    }
   },
   "outputs": [
    {
     "name": "stdout",
     "output_type": "stream",
     "text": [
      "Progress: |██████████████████████████████████████████████████| 100.0% Complete\r\n"
     ]
    }
   ],
   "source": [
    "def optimize_corpus(corpus, id2word, words_missing_in_tfidf = [], low_value= 0.03):\n",
    "    tfidf = TfidfModel(corpus, id2word=id2word)\n",
    "    dropped_words = []\n",
    "    l = len(corpus)\n",
    "    for i in range(0, l):\n",
    "        bow = corpus[i]\n",
    "        tfidf_ids = [tfidf_id for tfidf_id, tfidf_value in tfidf[bow]]\n",
    "        bow_ids = [bow_id for bow_id, bow_value in bow]\n",
    "        low_value_words = [tfidf_id for tfidf_id, tfidf_value in tfidf[bow] if tfidf_value < low_value]\n",
    "        drops = low_value_words+words_missing_in_tfidf\n",
    "        for word_id in drops:\n",
    "            dropped_words.append(id2word[word_id])\n",
    "        words_missing_in_tfidf = [bow_id for bow_id in bow_ids if bow_id not in tfidf_ids]\n",
    "        new_bow = [b for b in bow if b[0] not in low_value_words and b[0] not in words_missing_in_tfidf]\n",
    "        corpus[i] = new_bow\n",
    "        printProgressBar(i+1, l, prefix='Progress:', suffix='Complete', length=50)\n",
    "    return corpus, dropped_words, words_missing_in_tfidf\n",
    "\n",
    "texts = docs\n",
    "id2word = corpora.Dictionary(texts)\n",
    "corpus = [id2word.doc2bow(text) for text in texts]\n",
    "\n",
    "corpus = optimize_corpus(corpus, id2word)[0]"
   ]
  },
  {
   "cell_type": "markdown",
   "source": [
    "### MXM"
   ],
   "metadata": {
    "collapsed": false
   }
  },
  {
   "cell_type": "markdown",
   "source": [
    "The 17th line of the MXM-file includes the 5000 most used words. This is used to create the Id2Word-dictionary."
   ],
   "metadata": {
    "collapsed": false
   }
  },
  {
   "cell_type": "code",
   "execution_count": 9,
   "outputs": [],
   "source": [
    "mxm_words = mxm_lines[17][:-1].split(',') #ignore last 2 characters that indicate linebreak\n",
    "mxm_words[0] = 'i' #remove % from first word\n",
    "mxm_words_dct = {mxm_words.index(word) : word for word in mxm_words}\n",
    "mxm_id2word = gensim.corpora.Dictionary.from_corpus(mxm_corpus, id2word=mxm_words_dct)"
   ],
   "metadata": {
    "collapsed": false,
    "pycharm": {
     "name": "#%%\n"
    }
   }
  },
  {
   "cell_type": "code",
   "execution_count": 10,
   "outputs": [],
   "source": [
    "with open('../../data/input/stemmed_words.txt', 'r') as f:\n",
    "    word2stem = {line.split('\\t')[0] : line.split('\\t')[1][:-1] for line in f.readlines()}\n",
    "    # stem2word = {line.split('\\t')[1][:-1] : line.split('\\t')[0] for line in f.readlines()}\n",
    "\n"
   ],
   "metadata": {
    "collapsed": false,
    "pycharm": {
     "name": "#%%\n"
    }
   }
  },
  {
   "cell_type": "code",
   "execution_count": 11,
   "outputs": [
    {
     "data": {
      "text/plain": "[1,\n 2,\n 3,\n 4,\n 5,\n 6,\n 7,\n 8,\n 9,\n 10,\n 11,\n 12,\n 13,\n 14,\n 15,\n 16,\n 17,\n 18,\n 19,\n 20,\n 21,\n 22,\n 23,\n 24,\n 25,\n 513,\n 27,\n 533,\n 29,\n 30,\n 31,\n 32,\n 33,\n 34,\n 543,\n 36,\n 545,\n 1568,\n 39,\n 40,\n 553,\n 42,\n 43,\n 44,\n 45,\n 46,\n 47,\n 48,\n 49,\n 50,\n 51,\n 52,\n 53,\n 54,\n 55,\n 56,\n 57,\n 58,\n 59,\n 61,\n 62,\n 63,\n 575,\n 65,\n 66,\n 67,\n 68,\n 69,\n 576,\n 71,\n 1031,\n 2117,\n 75,\n 77,\n 78,\n 79,\n 81,\n 82,\n 83,\n 2132,\n 1109,\n 86,\n 88,\n 3674,\n 3164,\n 93,\n 528,\n 98,\n 612,\n 613,\n 102,\n 104,\n 616,\n 617,\n 107,\n 108,\n 109,\n 110,\n 2155,\n 114,\n 115,\n 117,\n 1141,\n 119,\n 1550,\n 121,\n 1145,\n 123,\n 124,\n 125,\n 2172,\n 641,\n 132,\n 644,\n 134,\n 135,\n 136,\n 140,\n 141,\n 2189,\n 144,\n 145,\n 146,\n 147,\n 148,\n 149,\n 657,\n 4759,\n 154,\n 2203,\n 1694,\n 159,\n 160,\n 673,\n 675,\n 677,\n 1189,\n 168,\n 170,\n 172,\n 1708,\n 174,\n 175,\n 686,\n 177,\n 3246,\n 181,\n 1717,\n 1207,\n 2229,\n 4793,\n 186,\n 698,\n 191,\n 2752,\n 193,\n 706,\n 2241,\n 196,\n 3269,\n 2246,\n 3780,\n 200,\n 201,\n 1738,\n 206,\n 722,\n 212,\n 215,\n 219,\n 220,\n 226,\n 228,\n 231,\n 236,\n 238,\n 241,\n 2083,\n 243,\n 248,\n 249,\n 250,\n 763,\n 1275,\n 1790,\n 257,\n 1282,\n 261,\n 263,\n 264,\n 269,\n 270,\n 1295,\n 785,\n 278,\n 283,\n 290,\n 807,\n 298,\n 299,\n 812,\n 1323,\n 307,\n 1331,\n 3379,\n 311,\n 823,\n 315,\n 318,\n 319,\n 1858,\n 323,\n 325,\n 2609,\n 328,\n 329,\n 842,\n 3913,\n 332,\n 1357,\n 1868,\n 847,\n 1870,\n 855,\n 344,\n 1890,\n 867,\n 356,\n 358,\n 361,\n 365,\n 3951,\n 369,\n 1394,\n 373,\n 3958,\n 375,\n 389,\n 392,\n 393,\n 910,\n 2448,\n 913,\n 2449,\n 3479,\n 2456,\n 412,\n 415,\n 1953,\n 1958,\n 426,\n 433,\n 3648,\n 438,\n 445,\n 966,\n 455,\n 461,\n 978,\n 470,\n 2007,\n 987,\n 476,\n 480,\n 995,\n 1510,\n 1521,\n 499,\n 1014,\n 505,\n 511]"
     },
     "execution_count": 11,
     "metadata": {},
     "output_type": "execute_result"
    }
   ],
   "source": [
    "stop_word_stems = []\n",
    "for stop_word in nlp.Defaults.stop_words:\n",
    "    if stop_word in word2stem.keys():\n",
    "        stop_word_stems.append(word2stem[stop_word])\n",
    "\n",
    "stop_word_ids = []\n",
    "for stop_word_stem in stop_word_stems:\n",
    "    if stop_word_stem in mxm_id2word.token2id.keys():\n",
    "        stop_word_ids.append(mxm_id2word.token2id[stop_word_stem])\n",
    "\n",
    "stop_word_ids.sort()\n",
    "stop_word_ids = list(set(stop_word_ids))\n",
    "stop_word_ids"
   ],
   "metadata": {
    "collapsed": false,
    "pycharm": {
     "name": "#%%\n"
    }
   }
  },
  {
   "cell_type": "markdown",
   "source": [
    "The already imported corpus is optimized using the TFID method. (very time consuming!)"
   ],
   "metadata": {
    "collapsed": false
   }
  },
  {
   "cell_type": "code",
   "execution_count": 12,
   "outputs": [
    {
     "name": "stdout",
     "output_type": "stream",
     "text": [
      "Progress: |██████████████████████████████████████████████████| 100.0% Complete\r\n"
     ]
    }
   ],
   "source": [
    "mxm_corpus = optimize_corpus(mxm_corpus, mxm_id2word, words_missing_in_tfidf=stop_word_ids)[0]"
   ],
   "metadata": {
    "collapsed": false,
    "pycharm": {
     "name": "#%%\n"
    }
   }
  },
  {
   "cell_type": "code",
   "execution_count": 13,
   "outputs": [],
   "source": [
    "mxm_id2word = gensim.corpora.Dictionary.from_corpus(mxm_corpus, id2word=mxm_words_dct)"
   ],
   "metadata": {
    "collapsed": false,
    "pycharm": {
     "name": "#%%\n"
    }
   }
  },
  {
   "cell_type": "code",
   "execution_count": 14,
   "outputs": [],
   "source": [
    "mxm_df['corpus'] = mxm_corpus\n",
    "mxm_df.to_csv('../../data/topic_modeling/mxm.csv')"
   ],
   "metadata": {
    "collapsed": false,
    "pycharm": {
     "name": "#%%\n"
    }
   }
  },
  {
   "cell_type": "markdown",
   "source": [
    "## Modeling"
   ],
   "metadata": {
    "collapsed": false
   }
  },
  {
   "cell_type": "markdown",
   "source": [
    "### LDA Model for Billboard Lyrics (don't use!)"
   ],
   "metadata": {
    "collapsed": false
   }
  },
  {
   "cell_type": "code",
   "execution_count": 15,
   "outputs": [],
   "source": [
    "# lda_model = gensim.models.ldamodel.LdaModel(corpus=corpus,\n",
    "#                                             id2word=id2word,\n",
    "#                                             num_topics=10,\n",
    "#                                             update_every=1,\n",
    "#                                             chunksize=100,\n",
    "#                                             passes=10,\n",
    "#                                             alpha='auto',\n",
    "#                                             random_state=1)"
   ],
   "metadata": {
    "collapsed": false,
    "pycharm": {
     "name": "#%%\n"
    }
   }
  },
  {
   "cell_type": "markdown",
   "source": [
    "Topic Visualization"
   ],
   "metadata": {
    "collapsed": false
   }
  },
  {
   "cell_type": "code",
   "execution_count": 16,
   "outputs": [],
   "source": [
    "# import pyLDAvis\n",
    "# import pyLDAvis.gensim_models\n",
    "#\n",
    "# pyLDAvis.enable_notebook()\n",
    "# pyLDAvis.gensim_models.prepare(lda_model, corpus, id2word, mds=\"mmds\")"
   ],
   "metadata": {
    "collapsed": false,
    "pycharm": {
     "name": "#%%\n"
    }
   }
  },
  {
   "cell_type": "markdown",
   "source": [
    "### LDA Model for MXM"
   ],
   "metadata": {
    "collapsed": false
   }
  },
  {
   "cell_type": "code",
   "execution_count": 17,
   "outputs": [],
   "source": [
    "from gensim.models.callbacks import PerplexityMetric\n",
    "\n",
    "perplexity_logger = PerplexityMetric(corpus=mxm_corpus, logger='shell')"
   ],
   "metadata": {
    "collapsed": false,
    "pycharm": {
     "name": "#%%\n"
    }
   }
  },
  {
   "cell_type": "code",
   "execution_count": null,
   "outputs": [],
   "source": [
    "try:\n",
    "    mxm_lda_model = gensim.models.ldamodel.LdaModel.load('../../gensim/models/mxm_lda')\n",
    "except FileNotFoundError:\n",
    "    mxm_lda_model = gensim.models.ldamodel.LdaModel(corpus=mxm_corpus,\n",
    "                                            id2word=mxm_id2word,\n",
    "                                            num_topics=20,\n",
    "                                            update_every=1,\n",
    "                                            chunksize=10,\n",
    "                                            passes=10,\n",
    "                                            alpha='auto',\n",
    "                                            random_state=1)\n"
   ],
   "metadata": {
    "collapsed": false,
    "pycharm": {
     "name": "#%%\n"
    }
   }
  },
  {
   "cell_type": "markdown",
   "source": [
    "Topic Visualization"
   ],
   "metadata": {
    "collapsed": false
   }
  },
  {
   "cell_type": "code",
   "execution_count": 19,
   "outputs": [
    {
     "name": "stderr",
     "output_type": "stream",
     "text": [
      "c:\\users\\fried\\documents\\1_bildung\\2_programmierung\\python\\datascience\\chart-lyrics-analysis\\venv\\lib\\site-packages\\pyLDAvis\\_prepare.py:246: FutureWarning: In a future version of pandas all arguments of DataFrame.drop except for the argument 'labels' will be keyword-only\n",
      "  default_term_info = default_term_info.sort_values(\n"
     ]
    },
    {
     "data": {
      "text/plain": "PreparedData(topic_coordinates=              x         y  topics  cluster       Freq\ntopic                                                \n2     -0.150615  0.180130       1        1  12.886428\n4     -0.153855  0.249533       2        1  11.835710\n15    -0.202097 -0.043828       3        1  10.330137\n19    -0.148808  0.059861       4        1   9.923705\n5     -0.174422 -0.254860       5        1   8.901597\n7     -0.096939  0.066989       6        1   7.555417\n16    -0.011198 -0.016834       7        1   5.000374\n0     -0.038775 -0.047821       8        1   4.152134\n17    -0.034186 -0.034877       9        1   3.825193\n11     0.016708 -0.083564      10        1   3.709496\n18     0.122020 -0.014492      11        1   3.619673\n14    -0.034173 -0.243978      12        1   3.177882\n13    -0.005353  0.148426      13        1   3.081263\n1      0.012389 -0.042673      14        1   2.814206\n8      0.068011 -0.017826      15        1   2.742581\n10     0.014283  0.010222      16        1   2.732261\n12     0.096672  0.035404      17        1   2.161888\n9      0.116159 -0.016197      18        1   1.544764\n3      0.302090  0.033192      19        1   0.002651\n6      0.302090  0.033192      20        1   0.002640, topic_info=    Term          Freq         Total Category  logprob  loglift\n0      i  23065.000000  23065.000000  Default  30.0000  30.0000\n2    you  19646.000000  19646.000000  Default  29.0000  29.0000\n1    the  18403.000000  18403.000000  Default  28.0000  28.0000\n7     it   7583.000000   7583.000000  Default  27.0000  27.0000\n6     me   7277.000000   7277.000000  Default  26.0000  26.0000\n..   ...           ...           ...      ...      ...      ...\n25  have      0.001865   2935.867884  Topic20  -8.5172  -3.7270\n26  love      0.001865   4240.903782  Topic20  -8.5172  -4.0948\n27    so      0.001865   2709.406209  Topic20  -8.5172  -3.6467\n28  know      0.001865   3570.267934  Topic20  -8.5172  -3.9226\n29  this      0.001865   3026.810287  Topic20  -8.5172  -3.7575\n\n[852 rows x 6 columns], token_table=      Topic      Freq      Term\nterm                           \n5        13  0.999723         a\n134       2  0.998315     about\n570      10  0.988808    afraid\n392       8  0.985638     after\n107       2  0.997166     again\n...     ...       ...       ...\n75       17  0.245008      yeah\n2         3  0.999927       you\n447       6  0.989740     young\n13       14  0.999719      your\n329      10  0.997427  yourself\n\n[349 rows x 3 columns], R=30, lambda_step=0.01, plot_opts={'xlab': 'PC1', 'ylab': 'PC2'}, topic_order=[3, 5, 16, 20, 6, 8, 17, 1, 18, 12, 19, 15, 14, 2, 9, 11, 13, 10, 4, 7])",
      "text/html": "\n<link rel=\"stylesheet\" type=\"text/css\" href=\"https://cdn.jsdelivr.net/gh/bmabey/pyLDAvis@3.3.1/pyLDAvis/js/ldavis.v1.0.0.css\">\n\n\n<div id=\"ldavis_el872431262203426568833616059\"></div>\n<script type=\"text/javascript\">\n\nvar ldavis_el872431262203426568833616059_data = {\"mdsDat\": {\"x\": [-0.15061543983789089, -0.1538552105388532, -0.2020968092982902, -0.1488077752823742, -0.17442171722518868, -0.09693860163013242, -0.011198079509700103, -0.038775281726301465, -0.034186085836010946, 0.01670788407153354, 0.12202001744979202, -0.03417305836757622, -0.005353416421630179, 0.01238872663903347, 0.06801075263441168, 0.014283179612538383, 0.09667237955787919, 0.11615879279877281, 0.30208987145499344, 0.3020898714549934], \"y\": [0.18013030074485, 0.24953316128849437, -0.04382750833967815, 0.05986077289129289, -0.2548599045663737, 0.06698874044455565, -0.016834065468110455, -0.04782059193019979, -0.034876902607601734, -0.08356372302310612, -0.014492075168333955, -0.24397785329141797, 0.14842592300290294, -0.042673035037249396, -0.017825614527234565, 0.010221825847181985, 0.03540439005680795, -0.016197428728744995, 0.03319179420598311, 0.03319179420598285], \"topics\": [1, 2, 3, 4, 5, 6, 7, 8, 9, 10, 11, 12, 13, 14, 15, 16, 17, 18, 19, 20], \"cluster\": [1, 1, 1, 1, 1, 1, 1, 1, 1, 1, 1, 1, 1, 1, 1, 1, 1, 1, 1, 1], \"Freq\": [12.88642834786179, 11.835710352988093, 10.330136527485404, 9.923704812159906, 8.90159691963692, 7.555417440426327, 5.000374297697025, 4.152133807564297, 3.825193135722147, 3.7094960109728423, 3.6196727753184033, 3.177882192995607, 3.081262938493786, 2.8142056143631864, 2.742580806712128, 2.7322609090349363, 2.1618883520551653, 1.544763925137031, 0.0026512981866902343, 0.0026395351883139284]}, \"tinfo\": {\"Term\": [\"i\", \"you\", \"the\", \"it\", \"me\", \"we\", \"not\", \"of\", \"and\", \"a\", \"are\", \"do\", \"que\", \"your\", \"that\", \"is\", \"my\", \"to\", \"love\", \"in\", \"on\", \"am\", \"come\", \"like\", \"got\", \"know\", \"can\", \"she\", \"la\", \"with\", \"and\", \"be\", \"will\", \"way\", \"tri\", \"away\", \"heart\", \"day\", \"could\", \"all\", \"find\", \"everyth\", \"put\", \"gone\", \"soul\", \"these\", \"forgiv\", \"fade\", \"two\", \"cri\", \"hard\", \"close\", \"may\", \"wish\", \"nigga\", \"lone\", \"sometim\", \"smile\", \"top\", \"differ\", \"good\", \"would\", \"when\", \"through\", \"turn\", \"realli\", \"was\", \"if\", \"but\", \"as\", \"see\", \"this\", \"so\", \"what\", \"take\", \"get\", \"up\", \"how\", \"about\", \"better\", \"where\", \"live\", \"much\", \"again\", \"care\", \"insid\", \"chang\", \"game\", \"place\", \"made\", \"start\", \"new\", \"lay\", \"kill\", \"fine\", \"doe\", \"fool\", \"chanc\", \"done\", \"happen\", \"work\", \"make\", \"keep\", \"thing\", \"feel\", \"look\", \"have\", \"then\", \"think\", \"caus\", \"end\", \"see\", \"but\", \"now\", \"when\", \"you\", \"know\", \"want\", \"wanna\", \"style\", \"alreadi\", \"asleep\", \"to\", \"need\", \"true\", \"if\", \"walk\", \"got\", \"think\", \"hear\", \"mine\", \"have\", \"would\", \"feel\", \"thing\", \"whatev\", \"oh\", \"invit\", \"somebodi\", \"taint\", \"call\", \"tell\", \"yet\", \"rather\", \"rock\", \"let\", \"make\", \"just\", \"gonna\", \"babi\", \"whi\", \"go\", \"down\", \"they\", \"but\", \"i\", \"my\", \"am\", \"man\", \"caus\", \"but\", \"somebodi\", \"rather\", \"taint\", \"gonna\", \"bar\", \"lose\", \"guess\", \"head\", \"mean\", \"name\", \"tell\", \"sweet\", \"alway\", \"hell\", \"yes\", \"shall\", \"into\", \"track\", \"life\", \"show\", \"lord\", \"slowli\", \"noth\", \"grave\", \"mind\", \"well\", \"friend\", \"first\", \"just\", \"run\", \"oh\", \"said\", \"they\", \"go\", \"still\", \"babi\", \"let\", \"fall\", \"down\", \"by\", \"wait\", \"whi\", \"he\", \"no\", \"the\", \"in\", \"war\", \"wave\", \"speak\", \"clock\", \"busi\", \"lock\", \"wing\", \"rose\", \"loud\", \"nake\", \"torn\", \"price\", \"handl\", \"sigh\", \"shit\", \"walk\", \"with\", \"burn\", \"hand\", \"thank\", \"man\", \"memori\", \"stay\", \"as\", \"who\", \"at\", \"world\", \"befor\", \"to\", \"end\", \"an\", \"water\", \"is\", \"for\", \"time\", \"there\", \"from\", \"here\", \"everi\", \"more\", \"too\", \"wo\", \"someth\", \"bad\", \"someon\", \"face\", \"mani\", \"pain\", \"rain\", \"clear\", \"without\", \"old\", \"myself\", \"ask\", \"shine\", \"win\", \"young\", \"bless\", \"somehow\", \"understand\", \"send\", \"damn\", \"or\", \"world\", \"now\", \"who\", \"door\", \"need\", \"burn\", \"we\", \"like\", \"la\", \"de\", \"pass\", \"passion\", \"soil\", \"poor\", \"flesh\", \"wit\", \"met\", \"seed\", \"our\", \"em\", \"te\", \"el\", \"les\", \"un\", \"y\", \"le\", \"quiero\", \"mi\", \"con\", \"por\", \"se\", \"il\", \"no\", \"\\u00c3\\u00a0\", \"je\", \"tu\", \"si\", \"pas\", \"love\", \"can\", \"one\", \"give\", \"onli\", \"die\", \"stand\", \"cold\", \"goe\", \"after\", \"faith\", \"somewher\", \"air\", \"an\", \"water\", \"believ\", \"as\", \"realli\", \"und\", \"wie\", \"ich\", \"first\", \"taint\", \"zu\", \"money\", \"der\", \"von\", \"dein\", \"ein\", \"auf\", \"dich\", \"babi\", \"let\", \"oh\", \"he\", \"go\", \"just\", \"no\", \"not\", \"do\", \"ca\", \"kid\", \"paid\", \"coat\", \"stop\", \"oh\", \"just\", \"talk\", \"break\", \"they\", \"invit\", \"he\", \"around\", \"hey\", \"money\", \"tell\", \"might\", \"forget\", \"us\", \"must\", \"let\", \"danc\", \"did\", \"hide\", \"whi\", \"move\", \"peopl\", \"enough\", \"night\", \"well\", \"go\", \"down\", \"gonna\", \"life\", \"babi\", \"no\", \"back\", \"out\", \"never\", \"say\", \"been\", \"long\", \"has\", \"yourself\", \"boy\", \"pleas\", \"star\", \"til\", \"sail\", \"step\", \"afraid\", \"apart\", \"angel\", \"beat\", \"dare\", \"bridg\", \"bone\", \"at\", \"had\", \"last\", \"breath\", \"go\", \"let\", \"well\", \"alright\", \"ever\", \"walk\", \"down\", \"just\", \"que\", \"en\", \"du\", \"e\", \"et\", \"og\", \"n\", \"som\", \"s\\u00c3\\u00a5\", \"no\", \"tu\", \"te\", \"un\", \"le\", \"se\", \"si\", \"mi\", \"y\", \"el\", \"lo\", \"por\", \"es\", \"und\", \"che\", \"di\", \"ich\", \"les\", \"pas\", \"amor\", \"ti\", \"me\", \"use\", \"grey\", \"touch\", \"bodi\", \"mess\", \"tight\", \"stone\", \"color\", \"space\", \"sad\", \"paint\", \"bend\", \"tie\", \"fix\", \"mix\", \"melt\", \"stay\", \"with\", \"aaah\", \"rather\", \"talk\", \"fiddl\", \"hey\", \"brand\", \"teacher\", \"money\", \"tell\", \"gris\", \"play\", \"oh\", \"breath\", \"well\", \"no\", \"he\", \"just\", \"let\", \"babi\", \"down\", \"tu\", \"a\", \"that\", \"direct\", \"big\", \"was\", \"then\", \"some\", \"but\", \"oh\", \"money\", \"spoon\", \"just\", \"he\", \"well\", \"fiddl\", \"break\", \"goodby\", \"rememb\", \"play\", \"today\", \"heard\", \"peopl\", \"hair\", \"everybodi\", \"hang\", \"said\", \"noth\", \"kiss\", \"modern\", \"dollar\", \"gotta\", \"life\", \"they\", \"or\", \"let\", \"down\", \"babi\", \"go\", \"gonna\", \"around\", \"by\", \"no\", \"are\", \"your\", \"tonight\", \"readi\", \"pretti\", \"whatev\", \"boom\", \"us\", \"rock\", \"ever\", \"minut\", \"just\", \"3\", \"express\", \"well\", \"fall\", \"goodby\", \"let\", \"death\", \"rememb\", \"gonna\", \"god\", \"against\", \"name\", \"into\", \"life\", \"desir\", \"hair\", \"lose\", \"eye\", \"mind\", \"light\", \"head\", \"they\", \"oh\", \"down\", \"he\", \"go\", \"no\", \"babi\", \"on\", \"come\", \"his\", \"over\", \"littl\", \"him\", \"fire\", \"matter\", \"ash\", \"swear\", \"mouth\", \"mayb\", \"he\", \"ever\", \"christma\", \"merri\", \"mother\", \"did\", \"noi\", \"fall\", \"mmm\", \"billi\", \"late\", \"around\", \"admit\", \"said\", \"boom\", \"just\", \"lot\", \"goodby\", \"wait\", \"oh\", \"gonna\", \"they\", \"che\", \"whi\", \"by\", \"let\", \"go\", \"no\", \"son\", \"life\", \"down\", \"it\", \"west\", \"uh\", \"check\", \"yeah\", \"shit\", \"caus\", \"down\", \"goin\", \"babi\", \"oh\", \"go\", \"niggaz\", \"mc\", \"just\", \"rapper\", \"break\", \"im\", \"alright\", \"wait\", \"fuck\", \"danc\", \"ay\", \"bitch\", \"tell\", \"around\", \"bust\", \"ya\", \"regga\", \"next\", \"play\", \"they\", \"gonna\", \"let\", \"whi\", \"no\", \"he\", \"she\", \"her\", \"girl\", \"ai\", \"white\", \"treat\", \"got\", \"had\", \"was\", \"yeah\", \"talk\", \"by\", \"ay\", \"money\", \"right\", \"straight\", \"fresh\", \"box\", \"minut\", \"boom\", \"3\", \"gal\", \"fascin\", \"mere\", \"stronger\", \"idl\", \"superstar\", \"fi\", \"danc\", \"town\", \"well\", \"oh\", \"said\", \"he\", \"just\", \"hey\", \"gonna\", \"babi\", \"let\", \"no\", \"go\", \"of\", \"pop\", \"just\", \"us\", \"express\", \"goodby\", \"they\", \"god\", \"by\", \"rememb\", \"their\", \"minut\", \"eye\", \"life\", \"3\", \"noth\", \"death\", \"light\", \"yet\", \"lie\", \"annihil\", \"pray\", \"silenc\", \"upon\", \"full\", \"glori\", \"around\", \"lip\", \"violent\", \"kiss\", \"night\", \"he\", \"still\", \"rock\", \"let\", \"call\", \"hey\", \"down\", \"oh\", \"go\", \"babi\", \"no\", \"doo\", \"lieb\", \"forward\", \"boogi\", \"boca\", \"hung\", \"dum\", \"disco\", \"noit\", \"yuh\", \"cuenta\", \"awaken\", \"sag\", \"sucker\", \"meer\", \"bum\", \"mij\", \"terribl\", \"eve\", \"mun\", \"deje\", \"suffoc\", \"jou\", \"g\\u00c3\\u00a5r\", \"taim\", \"aha\", \"funer\", \"yeh\", \"risk\", \"llevo\", \"i\", \"the\", \"you\", \"to\", \"and\", \"a\", \"me\", \"it\", \"not\", \"in\", \"my\", \"is\", \"of\", \"your\", \"that\", \"do\", \"on\", \"are\", \"we\", \"am\", \"will\", \"all\", \"for\", \"no\", \"be\", \"have\", \"love\", \"so\", \"know\", \"this\", \"doo\", \"lieb\", \"forward\", \"boogi\", \"boca\", \"hung\", \"dum\", \"disco\", \"noit\", \"yuh\", \"cuenta\", \"awaken\", \"sag\", \"sucker\", \"meer\", \"bum\", \"mij\", \"terribl\", \"eve\", \"mun\", \"deje\", \"suffoc\", \"jou\", \"g\\u00c3\\u00a5r\", \"taim\", \"aha\", \"funer\", \"yeh\", \"risk\", \"llevo\", \"i\", \"the\", \"you\", \"to\", \"and\", \"a\", \"me\", \"it\", \"not\", \"in\", \"my\", \"is\", \"of\", \"your\", \"that\", \"do\", \"on\", \"are\", \"we\", \"am\", \"will\", \"all\", \"for\", \"no\", \"be\", \"have\", \"love\", \"so\", \"know\", \"this\"], \"Freq\": [23065.0, 19646.0, 18403.0, 7583.0, 7277.0, 7379.0, 6595.0, 5066.0, 9671.0, 5513.0, 4475.0, 4875.0, 4748.0, 4258.0, 4210.0, 5610.0, 6140.0, 7777.0, 4240.0, 5262.0, 3117.0, 4400.0, 2563.0, 2946.0, 2443.0, 3570.0, 2405.0, 1940.0, 2447.0, 2742.0, 9669.8182527669, 2893.9896070478912, 2725.809626406445, 1301.9799952470523, 1151.4376210698276, 1069.669600170551, 1014.7127625601909, 865.7929009771591, 793.6378538329726, 2700.335627523613, 675.8845216660807, 644.760558297617, 637.9434192178353, 618.7092467940603, 609.4584236159129, 566.7473376437572, 527.58988070564, 518.6036962422287, 498.6433148237861, 454.7287204896927, 369.13942169285167, 365.57650783367257, 265.943296263077, 241.24689088664906, 240.143607760475, 233.32570554438036, 202.93204242915078, 156.8368496755795, 142.21715055372638, 125.39419210354778, 749.9303238184516, 1343.6153557932228, 1536.5312129170595, 601.1556701171838, 544.5447769450301, 377.79016535027245, 683.1205377887321, 741.1046523595247, 768.1127248171747, 589.8035934978714, 495.5449813933284, 3025.325189697294, 2707.921111557179, 2459.7605034595977, 2022.8590774288375, 1828.4618945872335, 1754.3539351476181, 1367.2035989731098, 918.0647057315491, 749.916778689883, 716.0461104891704, 662.2964698482116, 654.1762412938026, 521.9984883510148, 437.79228598102156, 431.7996387694909, 391.0321071274628, 359.29599045631863, 318.2337639937828, 297.89510968830234, 281.95820615681885, 256.4868270854583, 250.96186382499903, 247.73910650078062, 247.62316387022278, 238.2216475619292, 237.88053674960784, 237.64444601272376, 237.44813206748196, 210.70753651527565, 196.99182510210667, 1573.8022688439405, 784.0041067718464, 675.3949692829902, 1581.4808445634924, 799.5700522949304, 2276.09553902045, 487.39345841405003, 769.3812002502234, 809.2087691184358, 356.72048700452103, 581.5037898560398, 790.3096725322143, 646.2902733155265, 426.98970373862653, 19644.9381781201, 3568.776456480637, 1273.0031294655528, 690.0236383360689, 57.46720477060887, 51.33980442591235, 33.85403718735067, 6163.923283030249, 697.4301915182934, 190.93831254199583, 997.4337959314896, 244.41491255695718, 783.7275748217713, 325.8524165628284, 104.19137625671723, 50.97751111379773, 658.3549205910854, 293.2463923211461, 262.0547734050055, 41.23502846925881, 0.06777556440823297, 0.06781072473281828, 0.06770141035022258, 0.06770008276274561, 0.06769931939994636, 0.06771276537186152, 0.06771326736587625, 0.06770013669598686, 0.06769784245887824, 0.06770465879083029, 0.06775326923604164, 22.313990478297455, 0.06776438363245038, 0.06772222858134579, 0.06776123890961432, 0.06772919841559986, 0.06775902349801212, 0.06774533275215588, 0.06772827740178772, 0.06779470241145563, 23064.43320752546, 6138.60656711119, 4398.8726305937125, 318.6128270867701, 427.9940537245908, 336.33311282347404, 0.07448319843479985, 0.07448524697298535, 0.07448059989998089, 0.07451583156838518, 0.07447425501128184, 0.07448236148340111, 0.07447680572030659, 0.07448892955913983, 0.07447918106808588, 0.07448558972451055, 0.07448949549770469, 0.07447249342786164, 0.07448245713498954, 0.07447097097341249, 0.07447449414025291, 0.07446869127722162, 0.07447708470410618, 0.07446572607798035, 0.07450386714886599, 0.07448187525449326, 0.07446763113878321, 0.07446649129068778, 0.07448243322209243, 0.07446445869443369, 0.07448111801275155, 0.07449890920819914, 0.07447859121662391, 0.07448056801611809, 0.07454805818271969, 0.0744823056866412, 0.07455932912822277, 0.07448464117959197, 0.07451611055218475, 0.07455196395591382, 0.07448245713498954, 0.07453239523511461, 0.07450499105503001, 0.07448223394794987, 0.07451835039354711, 0.07449062737483442, 0.07448595638893286, 0.0744922614228034, 0.07449409474491493, 0.0745062903224395, 18401.572121465695, 5260.659702634189, 200.36615715667983, 135.7545644730187, 115.90570196506339, 100.24318877399428, 93.67309313789345, 74.01355212070918, 59.19158593352581, 51.74917860610362, 49.284850945430804, 47.02403034240847, 38.18679923802931, 36.31886575609174, 25.41289211542521, 12.278456522585168, 196.48737289448889, 460.2220497459642, 1447.4868977748033, 148.25997450731143, 238.0685604696797, 39.02500699617674, 432.9413925450083, 56.025345441283335, 88.37601576474187, 445.5927070834423, 301.7896436677078, 325.8087992612375, 216.34473576019752, 123.20247202612035, 1612.2923317636755, 69.25507967241953, 58.69470670964244, 40.40258844539121, 5608.706000617089, 2698.129222279227, 1971.1518023073959, 1582.378553565978, 1385.6465350780431, 1033.606243772906, 905.3672702684361, 835.4545700629027, 690.7117814558278, 543.4582473773944, 506.2760672003022, 434.81176874989035, 312.001872801743, 306.670957076068, 287.0700852588821, 280.2597322896885, 275.9811790006552, 247.42682467440568, 214.8632965877955, 212.1692527271751, 207.3839815557027, 184.21071759558455, 182.03266342364063, 158.34951226393792, 155.12668958780682, 127.10286652301903, 126.55366736213558, 123.89598986217291, 93.5931791958781, 91.94650143663469, 531.127093085079, 569.4714059302993, 1107.5788516705175, 671.0120020863129, 248.07259479301666, 197.59591219832453, 161.83026764093384, 7378.489544128806, 2945.386022079595, 2445.5620653340866, 2247.35683948868, 667.7477811164049, 202.38306006424276, 156.340004473139, 130.6542749285577, 71.29746560463407, 57.184476024018046, 47.89426411351937, 38.815076821781616, 682.500758201672, 69.42790979764281, 0.10557515839243613, 0.10541908013289114, 0.10527709149080586, 0.10539747176860005, 0.10531258865132719, 0.10534387659887878, 0.10517690579584729, 0.10526574107491615, 0.10518853736145825, 0.10521655593939407, 0.10529480392324521, 0.10512319013338835, 0.10548686934711143, 0.10511818566834992, 0.1051418504420308, 0.10530245922851265, 0.10518946113911383, 0.10514434865812543, 4239.425408667902, 2403.798511505805, 1639.2155251433128, 1197.0027658823828, 983.8444258747982, 634.7155182127785, 440.40519442534475, 295.65116215494396, 215.96469643139392, 133.45964808597034, 115.74279424649245, 99.81906603438323, 87.07430641535358, 414.8524131501513, 209.15291457675949, 664.1999169320478, 396.57368696142566, 94.57197115110876, 0.08105733992103402, 0.08091615860326065, 0.08093074631666754, 0.08087672441868746, 0.08085625359452386, 0.08088445517307181, 0.08087523029532068, 0.08087070123386512, 0.0808492565614357, 0.08083881770844906, 0.08085147773590506, 0.08083618965216999, 0.08086172315327725, 0.08091413753459933, 0.08087818519108622, 0.08090563303775718, 0.08088458857694385, 0.08089371340179095, 0.08087961928271059, 0.08090583981375883, 6593.882114747258, 4874.041202543756, 1316.01654018209, 113.84038188451689, 48.3171907697218, 32.909232386422396, 184.33216187800397, 0.07022508835753492, 0.07017823288581666, 0.07010909571699013, 0.07008881728332846, 0.07011686911656044, 0.07005684495292187, 0.07013102100526433, 0.07008242035925519, 0.07009836043710924, 0.07007410005647399, 0.07006750034806411, 0.07005454673044022, 0.07005462047019899, 0.0700745670749462, 0.07004684092564878, 0.07011050906236656, 0.07005143737061209, 0.07005546233244495, 0.07004968605134132, 0.0700933584234727, 0.07004359023128302, 0.07004845705536182, 0.07004483766220221, 0.07006132464326714, 0.07006651715128051, 0.07011824559205748, 0.0701057589929058, 0.07006415133401998, 0.07006211734567391, 0.07008234047451652, 0.0701164881278068, 1692.2028840885046, 1591.1160518460279, 1498.7276452360557, 1497.4437555819068, 1084.1237465278987, 770.6477840579896, 464.4012431341727, 391.54001709025147, 376.098925186998, 319.44094797505267, 300.650588264321, 219.301777630339, 189.15185028057087, 177.95041342336714, 160.3399385413789, 157.86271494823114, 116.22220707504165, 94.97022083369077, 35.00980056360725, 27.379404535010753, 18.404414792001702, 818.6623280973315, 433.2206892300931, 113.70861474454253, 79.1950186156387, 0.08837375418880544, 0.08822640307059432, 0.08818347358235908, 0.08814886302327102, 0.08816006616567555, 38.2768054603079, 0.08822951373034707, 0.08820598117217925, 4747.471882628507, 1966.8362650173246, 1534.1928136755755, 1218.7450403623357, 869.9558015530138, 854.2230023526369, 313.76199376600465, 233.42824740118107, 175.7978161033369, 0.17899629884111595, 0.17788562135849326, 0.17780808652459473, 0.17772966783778238, 0.17737170740769437, 0.1773199671233064, 0.17682989394189283, 0.17664730853733202, 0.17660418581885357, 0.176509474001354, 0.1764526980812861, 0.17621582550038836, 0.17620239326202736, 0.17610983292859425, 0.17606155827799985, 0.1760389502508364, 0.17603905491762883, 0.17599517627231623, 0.17594743658532755, 0.1757915644721219, 0.1757548380576249, 7276.080198721196, 491.0175767765726, 410.79072702994796, 321.05987850087814, 208.26610612202498, 180.85348038199916, 118.67439619535249, 70.43058462127196, 57.98849044573408, 56.169505191159644, 54.154834059536135, 41.787210088403526, 30.823385148885603, 24.565389171661295, 19.202780368841786, 16.497715735232564, 12.323918369789713, 191.2909875243515, 1293.1558435220904, 0.0692257325685409, 0.06921782986212022, 0.06923653497602549, 0.06921583887019252, 0.06924262026417372, 0.06919685297537437, 0.06919493345495177, 0.06921685478658639, 0.0692133067368691, 0.069189185103899, 0.06920232565062176, 0.06929276773521398, 6.685314876162376, 0.06921895298577173, 0.06938954015311474, 0.06924853708377421, 0.06925419864799935, 0.0692388373795111, 0.06924192596955277, 0.06923176680561405, 0.06922805028734902, 5512.053690687574, 4208.646209069782, 10.419576285092736, 171.05607500293095, 315.9717346268079, 42.7599080423387, 61.398118404157564, 139.40311349972222, 0.08341365578430651, 0.0832587439158813, 0.08323116310904127, 0.08331132168513017, 0.08329347236900218, 0.08323445973814311, 0.0832047207777169, 0.08321485815969974, 0.08320192903775678, 0.08319558327423042, 0.08319620696081725, 0.08318311944228082, 0.08318192156804262, 0.08318652496904068, 0.08317948622041783, 0.08317641728641911, 0.0831767043802448, 0.08319538527848856, 0.08318899001602674, 0.08317245737158208, 0.08316997252502183, 0.08316928943971244, 0.08318107018635265, 0.08320815600383803, 0.08322705469739784, 8.220999254659997, 0.08323290547156957, 0.08326092186904167, 0.08323785536511588, 0.08322886635843578, 0.08319579116975936, 0.083191049171742, 0.08319230644470277, 0.08321507595501577, 4473.82978576905, 4256.7102095185455, 471.83564798598326, 203.35964999307095, 178.3620506469223, 0.07162842926741031, 0.07161115950802309, 0.07162850612236046, 0.07160483479771348, 0.07160979872331745, 0.07159989347650661, 0.07167838046413003, 0.07160066202600814, 0.0715898842494691, 0.07161854210411715, 0.07160192335136652, 0.07159581112238969, 0.07164891789294509, 0.07158548995467215, 0.07159020071102855, 0.07161416589283788, 0.07158814371089212, 0.07157622215185963, 0.07159080650887092, 0.07158384887544242, 0.07160831135398803, 0.07157164702188584, 0.07157785871020994, 0.07158064809281253, 0.07158972149780995, 0.0715869411569662, 0.07158235246435415, 0.07158741132842596, 0.07161877718984704, 0.07164832565774097, 0.07163131810936016, 0.07160915675843971, 0.07161842456125221, 0.0716282981619071, 0.07159556699490097, 3115.806568464236, 2561.6339983113735, 887.808953481344, 759.7008627595766, 642.3970497123171, 479.5804290043907, 243.6672484278904, 135.84498758567253, 113.2889600659435, 110.64950047524496, 71.84008661960607, 88.86338827298108, 0.09601231239991853, 0.09579854212129436, 0.09576144513559742, 0.09575942727105476, 0.09575791166973888, 0.09576798336918106, 0.09575079186820845, 0.0957649081083715, 0.09574104619928188, 0.09573842033188576, 0.09574547845196729, 0.09577987907718365, 0.09573366204868473, 0.09576269638784658, 0.09574619219444745, 0.09585544766372449, 0.09573435816789377, 0.09575058920059062, 0.09576755159903874, 0.09586470869269538, 0.09577939443722798, 0.09579926467541007, 0.09579468262492019, 0.09578775667937202, 0.09577239799859535, 0.09579235635313302, 0.09580797938297642, 0.09582858098690977, 0.0957636480444868, 0.095764062191358, 0.09576742823614094, 7582.325283952031, 337.90242947029236, 83.04937789466074, 78.63209457223994, 1024.888188209806, 75.22995284895981, 125.6437681614527, 0.06960587052561826, 0.06950830212336315, 0.06943164405753087, 0.0691978556110098, 0.06915691278604082, 0.06902776380642163, 0.06902462550026245, 0.06911017616508563, 0.06902401100674876, 0.06903572588666325, 0.06903086260942637, 0.06902187344716902, 0.06903959280656008, 0.06902460794330492, 0.0690120810541045, 0.0690182435461989, 0.06900059002539859, 0.069016356173264, 0.06902509953811586, 0.06899264111287512, 0.06903454079202971, 0.06899080641081283, 0.06899319415703743, 0.06900788933049329, 0.06904644440923768, 0.06902634608210077, 0.06904724764004486, 0.0690167555940479, 0.06903885541434367, 0.06901818209684753, 1939.2399905938, 1248.7082776031757, 770.927323871211, 183.55992186466096, 132.75240307610758, 92.36193778467783, 1658.0954180522479, 263.02073380423707, 466.13293842819513, 332.8683689785272, 0.1102933479980847, 0.11029583464075991, 0.11024941499551293, 0.11025506203600159, 0.11023624551363528, 0.11020027254599588, 0.11018052526910867, 0.11016737662501881, 0.11017967091980964, 0.11017328066489011, 0.11018231037292858, 0.11015613116554629, 0.11014884488575216, 0.11014877542645957, 0.1101489282369033, 0.11014877542645957, 0.11013873855867834, 0.11013694650892916, 0.1101543946832312, 0.11014886572353995, 0.11018153242885143, 0.11026946789328758, 0.11016482746898025, 0.1102256043500084, 0.11022634061851, 0.11018576249977098, 0.11017844843625982, 0.11020660028755207, 0.11017696895332736, 0.11023751661868993, 0.11018472755631119, 5064.7809721319645, 12.292414020163124, 0.07621021088028644, 0.07613326188159324, 0.07610308580367434, 0.07610494202952, 0.07615232542029168, 0.07609429602834632, 0.07611124525632215, 0.07608487593033808, 0.07608865786641936, 0.07608157045864498, 0.07608782405374002, 0.0761064260175624, 0.07607969934328719, 0.07608056293499078, 0.07606896896821141, 0.07607006582893841, 0.0760652217743251, 0.07606587194968817, 0.07605138445438467, 0.07605762315996757, 0.07605382137120345, 0.07605710699021369, 0.07605507705339316, 0.07604969697634315, 0.07608297999912672, 0.07605114622219057, 0.07604615823562667, 0.07605242175706313, 0.07607530197403782, 0.07611392536850574, 0.07606470064140053, 0.07606095841068493, 0.07609786454808705, 0.07606394127628184, 0.07607650802452044, 0.07609705058809056, 0.07609346221566698, 0.07608894573032056, 0.07608233975010509, 0.07607151507478582, 0.0018732056059499636, 0.0018732056059499636, 0.0018732056059499636, 0.0018732056059499636, 0.0018732056059499636, 0.0018732056059499636, 0.0018732056059499636, 0.0018732056059499636, 0.0018732056059499636, 0.0018732056059499636, 0.0018732056059499636, 0.0018732056059499636, 0.0018732056059499636, 0.0018732056059499636, 0.0018732056059499636, 0.0018732056059499636, 0.0018732056059499636, 0.0018732056059499636, 0.0018732056059499636, 0.0018732056059499636, 0.0018732056059499636, 0.0018732056059499636, 0.0018732056059499636, 0.0018732056059499636, 0.0018732056059499636, 0.0018732056059499636, 0.0018732056059499636, 0.0018732056059499636, 0.0018732056059499636, 0.0018732056059499636, 0.0018732056059499636, 0.0018732056059499636, 0.0018732056059499636, 0.0018732056059499636, 0.0018732056059499636, 0.0018732056059499636, 0.0018732056059499636, 0.0018732056059499636, 0.0018732056059499636, 0.0018732056059499636, 0.0018732056059499636, 0.0018732056059499636, 0.0018732056059499636, 0.0018732056059499636, 0.0018732056059499636, 0.0018732056059499636, 0.0018732056059499636, 0.0018732056059499636, 0.0018732056059499636, 0.0018732056059499636, 0.0018732056059499636, 0.0018732056059499636, 0.0018732056059499636, 0.0018732056059499636, 0.0018732056059499636, 0.0018732056059499636, 0.0018732056059499636, 0.0018732056059499636, 0.0018732056059499636, 0.0018732056059499636, 0.0018648947661463189, 0.0018648947661463189, 0.0018648947661463189, 0.0018648947661463189, 0.0018648947661463189, 0.0018648947661463189, 0.0018648947661463189, 0.0018648947661463189, 0.0018648947661463189, 0.0018648947661463189, 0.0018648947661463189, 0.0018648947661463189, 0.0018648947661463189, 0.0018648947661463189, 0.0018648947661463189, 0.0018648947661463189, 0.0018648947661463189, 0.0018648947661463189, 0.0018648947661463189, 0.0018648947661463189, 0.0018648947661463189, 0.0018648947661463189, 0.0018648947661463189, 0.0018648947661463189, 0.0018648947661463189, 0.0018648947661463189, 0.0018648947661463189, 0.0018648947661463189, 0.0018648947661463189, 0.0018648947661463189, 0.0018648947661463189, 0.0018648947661463189, 0.0018648947661463189, 0.0018648947661463189, 0.0018648947661463189, 0.0018648947661463189, 0.0018648947661463189, 0.0018648947661463189, 0.0018648947661463189, 0.0018648947661463189, 0.0018648947661463189, 0.0018648947661463189, 0.0018648947661463189, 0.0018648947661463189, 0.0018648947661463189, 0.0018648947661463189, 0.0018648947661463189, 0.0018648947661463189, 0.0018648947661463189, 0.0018648947661463189, 0.0018648947661463189, 0.0018648947661463189, 0.0018648947661463189, 0.0018648947661463189, 0.0018648947661463189, 0.0018648947661463189, 0.0018648947661463189, 0.0018648947661463189, 0.0018648947661463189, 0.0018648947661463189], \"Total\": [23065.0, 19646.0, 18403.0, 7583.0, 7277.0, 7379.0, 6595.0, 5066.0, 9671.0, 5513.0, 4475.0, 4875.0, 4748.0, 4258.0, 4210.0, 5610.0, 6140.0, 7777.0, 4240.0, 5262.0, 3117.0, 4400.0, 2563.0, 2946.0, 2443.0, 3570.0, 2405.0, 1940.0, 2447.0, 2742.0, 9671.297274293207, 2895.468628574198, 2727.288647932752, 1303.4590167733597, 1152.9166426173817, 1071.1486216968583, 1016.1917841173386, 867.2719225034663, 795.1168753592798, 2705.416301186368, 677.3635432144773, 646.2395798351153, 639.422440788883, 620.1882683465852, 610.9374451620637, 568.226359193076, 529.0689023084233, 520.0827178051447, 500.1223363659063, 456.2077420413071, 370.6184432235483, 367.0555293995271, 267.4223177893844, 242.72591243533975, 241.6226292955608, 234.8047270767564, 204.4110639653166, 158.31587122184737, 143.696172130211, 126.87321364601962, 805.9421248283071, 1638.273096727821, 1964.925885286079, 714.6089140940668, 650.3264318902615, 473.76038141592903, 1466.5109731299947, 1739.9497969044667, 2040.9508479262124, 1433.2814590604023, 1078.453739882042, 3026.8102871910737, 2709.4062090509588, 2461.2456009533776, 2024.3441749353046, 1829.9469920890467, 1755.8390326413985, 1368.6886964813327, 919.5498032444888, 751.401876183663, 717.5312079889095, 663.7815673469548, 655.6613388217713, 523.4835858447948, 439.2773835072835, 433.2847362632712, 392.5172046292759, 360.781087986286, 319.7188614875631, 299.3802072070485, 283.4433036555623, 257.9719245843437, 252.44696142602996, 249.22420404890363, 249.10826140071785, 239.70674506009863, 239.36563429387502, 239.1295435246237, 238.93322960815868, 212.1926340185502, 198.4769226089015, 1597.5336839075524, 817.0745422946069, 718.0474223580401, 1844.9530425494231, 884.1158663901042, 2935.8678841924598, 531.5553157274763, 1096.651041404325, 1364.188270753979, 427.37389081186967, 1078.453739882042, 2040.9508479262124, 1755.2752180558944, 1964.925885286079, 19646.429655601332, 3570.2679339662545, 1274.4946069467817, 691.5151158242433, 58.958682566720896, 52.83128191210417, 35.34551525045123, 7777.620318898002, 896.4385767739166, 287.92224379497424, 1739.9497969044667, 744.2303775184163, 2443.2043593378926, 1096.651041404325, 374.0195579269207, 188.75766219074865, 2935.8678841924598, 1638.273096727821, 1844.9530425494231, 718.0474223580401, 1.5595706951369177, 1.5616433300462633, 1.5592956872325798, 1.559306698058497, 1.5593441859844461, 1.559673703982396, 1.5597084673326826, 1.5594178304795117, 1.5593743179394175, 1.5595511064682923, 1.5607250804608994, 1597.5336839075524, 1.5612349577299616, 1.560102635250264, 1.5614281845340403, 1.560445292792919, 1.5616952673977775, 1.561461696231584, 1.5605610012851001, 2040.9508479262124, 23065.917904747737, 6140.091264333467, 4400.357327815989, 990.7678679794539, 1364.188270753979, 2040.9508479262124, 1.559306698058497, 1.5593743179394175, 1.5593441859844461, 1.560102635250264, 1.5592618032692662, 1.5594501625551553, 1.559381137892521, 1.559642714334114, 1.5594757953217089, 1.5596145450203416, 1.5597084673326826, 1.5593566845131044, 1.5595691850535947, 1.5593337437536265, 1.5594098123881712, 1.559293312873382, 1.5594761444475613, 1.5592388522198626, 1.5600405423313735, 1.559586901447386, 1.5592920412874955, 1.5592724274083791, 1.5596099272307027, 1.5592414956418994, 1.5595975923138388, 1.559994260849391, 1.5595435324957607, 1.5595906615222443, 1.5612349577299616, 1.5596346776264922, 1.5616433300462633, 1.5596975943444664, 1.5605610012851001, 1.5616952673977775, 1.5596480602198846, 1.5614281845340403, 1.5607250804608994, 1.5596428982936457, 1.561461696231584, 1.560067383371799, 1.5598539237549283, 1.560445292792919, 1.56095936182155, 1.5653618912108669, 18403.044498482628, 5262.132079651122, 201.83853420056005, 137.22694148995166, 117.37807904526991, 101.71556599446077, 95.14547033830944, 75.4859292543894, 60.66396300444984, 53.22155571114052, 50.75722817295677, 48.49640740489639, 39.6591762865944, 37.79124283933081, 26.885269264672438, 13.750833554485727, 273.1207340701001, 744.2303775184163, 2742.0459565127303, 311.4836147412483, 529.0859629800652, 88.94710715439375, 990.7678679794539, 133.28853464403738, 281.0702185740787, 1433.2814590604023, 974.195018361466, 1145.8554100097122, 787.2095142834997, 465.19608709422715, 7777.620318898002, 427.37389081186967, 474.9387202452332, 250.94710342588584, 5610.186146591632, 2699.609368249381, 1972.63194827755, 1583.8586995412375, 1387.1266810481973, 1035.0863897560562, 906.8474162500568, 836.9347160330566, 692.191927436516, 544.9383933602727, 507.75621317045625, 436.29191473926545, 313.48201877641793, 308.15110306367706, 288.5502312831697, 281.73987825984256, 277.4613249757724, 248.90697065711348, 216.34344256305468, 213.64939869732916, 208.86412752585676, 185.69086359290537, 183.5128093937947, 159.8296582960011, 156.6068355759514, 128.58301252311574, 128.03381353468873, 125.37613583232697, 95.07332517217712, 93.42664744460131, 540.7450900872001, 787.2095142834997, 1755.2752180558944, 974.195018361466, 381.4591676804972, 896.4385767739166, 311.4836147412483, 7379.943729620049, 2946.840207570838, 2447.0162508369594, 2248.811024991553, 669.2019666769136, 203.8372456575422, 157.79419048997988, 132.10846053147603, 72.75165127517953, 58.63866152762186, 49.348449604762976, 40.26926238076139, 966.3679091348309, 118.82057006453527, 1.5629138303032781, 1.5614363188754663, 1.560707269720526, 1.5626460997867617, 1.5614298053939168, 1.562188592857513, 1.5599356426042421, 1.561434980941585, 1.5604067377953779, 1.5608963084640775, 1.5621674574066846, 1.5599361881287528, 1.5653618912108669, 1.559941943094459, 1.5603272492705687, 1.5627192687986202, 1.5614974412973388, 1.5605132450235746, 4240.903782430492, 2405.2768852683953, 1640.6938989059033, 1198.4811396449734, 985.3227996373886, 636.1938919869986, 441.8835682187937, 297.12953596321137, 217.4430702133302, 134.9380218546295, 117.22116802878661, 101.29743979697366, 88.5526801976065, 474.9387202452332, 250.94710342588584, 913.2783554749791, 1433.2814590604023, 473.76038141592903, 1.560816175420485, 1.5602041494279482, 1.560583859243063, 1.5595906615222443, 1.5593441859844461, 1.5599026862816576, 1.5597495322653707, 1.5600168269792378, 1.5596960851712667, 1.5595635047300944, 1.5598598974659654, 1.5596199478498327, 1.5601518677950095, 1.5614281845340403, 1.5607250804608994, 1.5616433300462633, 1.56095936182155, 1.5616952673977775, 1.5612349577299616, 1.5653618912108669, 6595.371245196992, 4875.53033299349, 1317.5056706318255, 115.32951246909809, 49.80632134500761, 34.39836302924009, 343.5454322055927, 1.5616433300462633, 1.5612349577299616, 1.5598539593783471, 1.5596938460656362, 1.5605610012851001, 1.5592956872325798, 1.56095936182155, 1.5599120838446532, 1.5602766379889725, 1.5597495322653707, 1.5597084673326826, 1.559446747756538, 1.5594710009780504, 1.5599221719824607, 1.5593064111443804, 1.5607250804608994, 1.5594425721541958, 1.5595731346130584, 1.5594457692138193, 1.560445292792919, 1.5593503519289063, 1.5594616343731735, 1.5593849015890948, 1.559789320773378, 1.559994260849391, 1.5616952673977775, 1.561461696231584, 1.560102635250264, 1.5600405423313735, 1.5614281845340403, 1.5653618912108669, 1693.673940103784, 1592.5871078613072, 1500.198701251335, 1498.9148115971861, 1085.594802543178, 772.1188400943815, 465.872299149452, 393.0110731481975, 377.56998123549624, 320.9120040209151, 302.12164429171344, 220.7728337069617, 190.62290633120747, 179.42146946649856, 161.8109946259753, 159.3337710056921, 117.69326309032093, 96.44127692284606, 36.480856680219055, 28.850460564206777, 19.875470807280983, 1145.8554100097122, 697.6023680466969, 283.0655793879871, 230.1332800103501, 1.5616952673977775, 1.5607250804608994, 1.559994260849391, 1.559392689923811, 1.5596652568899414, 744.2303775184163, 1.561461696231584, 1.5612349577299616, 4748.8562431891, 1968.2206255779179, 1535.5771742361687, 1220.1294009229289, 871.340162113607, 855.6073629132301, 315.1463547791995, 234.81260796177426, 177.1821766639301, 1.5653618912108669, 1.5627192687986202, 1.5629138303032781, 1.5626460997867617, 1.562188592857513, 1.5621674574066846, 1.5614974412973388, 1.561434980941585, 1.5614298053939168, 1.5614363188754663, 1.5610464102060029, 1.5608963084640775, 1.5608483288508788, 1.560816175420485, 1.5605908725504805, 1.5605361584299193, 1.560583859243063, 1.560707269720526, 1.5605132450235746, 1.5603900316426902, 1.560242601243299, 7277.570187298657, 492.50756535403394, 412.2807156987807, 322.54986708953055, 209.7560946994864, 182.34346907591984, 120.16438486770802, 71.92057326925183, 59.478479196953664, 57.65949379235691, 55.64482271072251, 43.27719892109163, 32.313374138033964, 26.05537782385857, 20.692768954274133, 17.98770443331636, 13.813906967397099, 281.0702185740787, 2742.0459565127303, 1.559306102842695, 1.5593743179394175, 1.5598539593783471, 1.5594486145849966, 1.5602766379889725, 1.5592694720267026, 1.5592531573722053, 1.5597495322653707, 1.5597084673326826, 1.559215888797618, 1.5595935961647618, 1.5616433300462633, 230.1332800103501, 1.559994260849391, 1.5653618912108669, 1.56095936182155, 1.5612349577299616, 1.5607250804608994, 1.5614281845340403, 1.561461696231584, 1.5627192687986202, 5513.529692858964, 4210.122211241172, 11.895578470475861, 374.0077868523706, 1466.5109731299947, 531.5553157274763, 772.5757277924783, 2040.9508479262124, 1.5616433300462633, 1.5597495322653707, 1.5592490317525454, 1.5612349577299616, 1.56095936182155, 1.559994260849391, 1.5594486145849966, 1.5596938460656362, 1.5595441444832054, 1.5595328338924652, 1.5595935961647618, 1.559361910305465, 1.559346537248172, 1.5594616343731735, 1.5593878859614017, 1.5593305512919833, 1.559335970568887, 1.5596975943444664, 1.5596099272307027, 1.5593100089601069, 1.5592681359454665, 1.5592621809468221, 1.5594916012855609, 1.5600405423313735, 1.5605610012851001, 540.7450900872001, 1.5607250804608994, 1.561461696231584, 1.5614281845340403, 1.5616952673977775, 1.560102635250264, 1.5599120838446532, 1.560067383371799, 1.5653618912108669, 4475.317381930539, 4258.197805680034, 473.323244154143, 204.84724615456054, 179.8496469100401, 1.5595706951369177, 1.559431347296452, 1.5599221719824607, 1.5595511064682923, 1.5596652568899414, 1.5595170724560692, 1.5612349577299616, 1.5595618868821013, 1.559332210246368, 1.559994260849391, 1.5596428982936457, 1.5595441444832054, 1.5607250804608994, 1.5594103747987975, 1.5595328338924652, 1.560102635250264, 1.5595404462547269, 1.5592824726241934, 1.5596145450203416, 1.5594761444475613, 1.5600405423313735, 1.559246289489883, 1.5593878859614017, 1.5594501625551553, 1.5596514915305124, 1.5595975923138388, 1.559493230584417, 1.559642714334114, 1.5605610012851001, 1.5616433300462633, 1.561461696231584, 1.56095936182155, 1.5616952673977775, 1.5653618912108669, 1.5614281845340403, 3117.2700086704685, 2563.097438517606, 889.2723936875765, 761.1643029752931, 643.8604899185495, 481.0438692172932, 245.1306886341228, 137.30842779190493, 114.75240031742575, 112.11294068147733, 73.30352685690816, 269.38957856118515, 1.56095936182155, 1.5596652568899414, 1.5592624236779025, 1.559252452544041, 1.5593732478484306, 1.5595731346130584, 1.559332953031861, 1.5596428982936457, 1.5592636780021456, 1.5592261567110655, 1.5593467083153485, 1.5599120838446532, 1.5592180316571531, 1.5596975943444664, 1.559431347296452, 1.5612349577299616, 1.5592766687592994, 1.5595441444832054, 1.5598539237549283, 1.5616433300462633, 1.560102635250264, 1.5605610012851001, 1.5605908725504805, 1.560445292792919, 1.560067383371799, 1.5607250804608994, 1.5616952673977775, 1.5653618912108669, 1.559847346774446, 1.5600405423313735, 1.561461696231584, 7583.815465586853, 339.39261114685104, 84.53955963951856, 80.12227620706247, 1359.1366278192036, 273.1207340701001, 1364.188270753979, 1.561461696231584, 1.560128335422697, 1.5614281845340403, 1.5616433300462633, 1.5616952673977775, 1.5592760555975513, 1.5592510858165092, 1.5612349577299616, 1.5593248302193465, 1.5596938460656362, 1.5595883281263585, 1.559392689923811, 1.5598539237549283, 1.5596064619215018, 1.5594425721541958, 1.55966483957493, 1.5592972525881803, 1.5597084673326826, 1.5599120838446532, 1.5592097520566888, 1.5601608817151007, 1.559187433609595, 1.5592440544632142, 1.5595935961647618, 1.5605610012851001, 1.560102635250264, 1.5607250804608994, 1.560445292792919, 1.5653618912108669, 1.56095936182155, 1940.6890299705292, 1250.1573169799049, 772.37636324794, 185.0089612475349, 134.20144245283655, 93.81097716755174, 2443.2043593378926, 697.6023680466969, 1466.5109731299947, 1359.1366278192036, 1.5598539593783471, 1.560067383371799, 1.55966483957493, 1.5597495322653707, 1.5597095850987077, 1.5593212567551769, 1.5594080598649234, 1.5592526806393188, 1.5595170724560692, 1.559431347296452, 1.5595618868821013, 1.559234011680974, 1.5592182648135953, 1.5592231534085104, 1.5592446387614483, 1.5592440553827907, 1.5592019614044712, 1.559192883125153, 1.5594425721541958, 1.5593753754812085, 1.559994260849391, 1.5616433300462633, 1.5596975943444664, 1.56095936182155, 1.5612349577299616, 1.5602766379889725, 1.560102635250264, 1.5614281845340403, 1.5607250804608994, 1.5653618912108669, 1.5616952673977775, 5066.264095813516, 13.775537737328516, 1.5612349577299616, 1.5599221719824607, 1.559332210246368, 1.5595441444832054, 1.5605610012851001, 1.5595404462547269, 1.560067383371799, 1.5595328338924652, 1.5596130734393368, 1.5595170724560692, 1.5596514915305124, 1.5600405423313735, 1.5595618868821013, 1.5596099272307027, 1.5594103747987975, 1.559493230584417, 1.5594178304795117, 1.5594697588402704, 1.5592084779911988, 1.5593550060612407, 1.5592776448778143, 1.5593507487507983, 1.5593299492357047, 1.5592270024140316, 1.5599120838446532, 1.5592756399116383, 1.5591771744998282, 1.5593100089601069, 1.559789320773378, 1.56095936182155, 1.5596480602198846, 1.5595511064682923, 1.5607250804608994, 1.559673703982396, 1.5602766379889725, 1.561461696231584, 1.5616433300462633, 1.5616952673977775, 1.5614281845340403, 1.5653618912108669, 1.5591503940839349, 1.5591503940839349, 1.5591503940839349, 1.5591503940839349, 1.5591503940839349, 1.5591503940839349, 1.5591503940839349, 1.5591503940839349, 1.5591503940839349, 1.5591503940839349, 1.5591503940839349, 1.5591503940839349, 1.5591503940839349, 1.5591503940839349, 1.5591503940839349, 1.5591503940839349, 1.5591503940839349, 1.5591503940839349, 1.5591503940839349, 1.5591503940839349, 1.5591503940839349, 1.5591503940839349, 1.5591503940839349, 1.5591503940839349, 1.5591503940839349, 1.5591503940839349, 1.5591503940839349, 1.5591503940839349, 1.5591503940839349, 1.5591503940839349, 23065.917904747737, 18403.044498482628, 19646.429655601332, 7777.620318898002, 9671.297274293207, 5513.529692858964, 7277.570187298657, 7583.815465586853, 6595.371245196992, 5262.132079651122, 6140.091264333467, 5610.186146591632, 5066.264095813516, 4258.197805680034, 4210.122211241172, 4875.53033299349, 3117.2700086704685, 4475.317381930539, 7379.943729620049, 4400.357327815989, 2727.288647932752, 2705.416301186368, 2699.609368249381, 1.5653618912108669, 2895.468628574198, 2935.8678841924598, 4240.903782430492, 2709.4062090509588, 3570.2679339662545, 3026.8102871910737, 1.5591503940839349, 1.5591503940839349, 1.5591503940839349, 1.5591503940839349, 1.5591503940839349, 1.5591503940839349, 1.5591503940839349, 1.5591503940839349, 1.5591503940839349, 1.5591503940839349, 1.5591503940839349, 1.5591503940839349, 1.5591503940839349, 1.5591503940839349, 1.5591503940839349, 1.5591503940839349, 1.5591503940839349, 1.5591503940839349, 1.5591503940839349, 1.5591503940839349, 1.5591503940839349, 1.5591503940839349, 1.5591503940839349, 1.5591503940839349, 1.5591503940839349, 1.5591503940839349, 1.5591503940839349, 1.5591503940839349, 1.5591503940839349, 1.5591503940839349, 23065.917904747737, 18403.044498482628, 19646.429655601332, 7777.620318898002, 9671.297274293207, 5513.529692858964, 7277.570187298657, 7583.815465586853, 6595.371245196992, 5262.132079651122, 6140.091264333467, 5610.186146591632, 5066.264095813516, 4258.197805680034, 4210.122211241172, 4875.53033299349, 3117.2700086704685, 4475.317381930539, 7379.943729620049, 4400.357327815989, 2727.288647932752, 2705.416301186368, 2699.609368249381, 1.5653618912108669, 2895.468628574198, 2935.8678841924598, 4240.903782430492, 2709.4062090509588, 3570.2679339662545, 3026.8102871910737], \"Category\": [\"Default\", \"Default\", \"Default\", \"Default\", \"Default\", \"Default\", \"Default\", \"Default\", \"Default\", \"Default\", \"Default\", \"Default\", \"Default\", \"Default\", \"Default\", \"Default\", \"Default\", \"Default\", \"Default\", \"Default\", \"Default\", \"Default\", \"Default\", \"Default\", \"Default\", \"Default\", \"Default\", \"Default\", \"Default\", \"Default\", \"Topic1\", \"Topic1\", \"Topic1\", \"Topic1\", \"Topic1\", \"Topic1\", \"Topic1\", \"Topic1\", \"Topic1\", \"Topic1\", \"Topic1\", \"Topic1\", \"Topic1\", \"Topic1\", \"Topic1\", \"Topic1\", \"Topic1\", \"Topic1\", \"Topic1\", \"Topic1\", \"Topic1\", \"Topic1\", \"Topic1\", \"Topic1\", \"Topic1\", \"Topic1\", \"Topic1\", \"Topic1\", \"Topic1\", \"Topic1\", \"Topic1\", \"Topic1\", \"Topic1\", \"Topic1\", \"Topic1\", \"Topic1\", \"Topic1\", \"Topic1\", \"Topic1\", \"Topic1\", \"Topic1\", \"Topic2\", \"Topic2\", \"Topic2\", \"Topic2\", \"Topic2\", \"Topic2\", \"Topic2\", \"Topic2\", \"Topic2\", \"Topic2\", \"Topic2\", \"Topic2\", \"Topic2\", \"Topic2\", \"Topic2\", \"Topic2\", \"Topic2\", \"Topic2\", \"Topic2\", \"Topic2\", \"Topic2\", \"Topic2\", \"Topic2\", \"Topic2\", \"Topic2\", \"Topic2\", \"Topic2\", \"Topic2\", \"Topic2\", \"Topic2\", \"Topic2\", \"Topic2\", \"Topic2\", \"Topic2\", \"Topic2\", \"Topic2\", \"Topic2\", \"Topic2\", \"Topic2\", \"Topic2\", \"Topic2\", \"Topic2\", \"Topic2\", \"Topic2\", \"Topic3\", \"Topic3\", \"Topic3\", \"Topic3\", \"Topic3\", \"Topic3\", \"Topic3\", \"Topic3\", \"Topic3\", \"Topic3\", \"Topic3\", \"Topic3\", \"Topic3\", \"Topic3\", \"Topic3\", \"Topic3\", \"Topic3\", \"Topic3\", \"Topic3\", \"Topic3\", \"Topic3\", \"Topic3\", \"Topic3\", \"Topic3\", \"Topic3\", \"Topic3\", \"Topic3\", \"Topic3\", \"Topic3\", \"Topic3\", \"Topic3\", \"Topic3\", \"Topic3\", \"Topic3\", \"Topic3\", \"Topic3\", \"Topic3\", \"Topic3\", \"Topic3\", \"Topic3\", \"Topic4\", \"Topic4\", \"Topic4\", \"Topic4\", \"Topic4\", \"Topic4\", \"Topic4\", \"Topic4\", \"Topic4\", \"Topic4\", \"Topic4\", \"Topic4\", \"Topic4\", \"Topic4\", \"Topic4\", \"Topic4\", \"Topic4\", \"Topic4\", \"Topic4\", \"Topic4\", \"Topic4\", \"Topic4\", \"Topic4\", \"Topic4\", \"Topic4\", \"Topic4\", \"Topic4\", \"Topic4\", \"Topic4\", \"Topic4\", \"Topic4\", \"Topic4\", \"Topic4\", \"Topic4\", \"Topic4\", \"Topic4\", \"Topic4\", \"Topic4\", \"Topic4\", \"Topic4\", \"Topic4\", \"Topic4\", \"Topic4\", \"Topic4\", \"Topic4\", \"Topic4\", \"Topic4\", \"Topic4\", \"Topic4\", \"Topic4\", \"Topic5\", \"Topic5\", \"Topic5\", \"Topic5\", \"Topic5\", \"Topic5\", \"Topic5\", \"Topic5\", \"Topic5\", \"Topic5\", \"Topic5\", \"Topic5\", \"Topic5\", \"Topic5\", \"Topic5\", \"Topic5\", \"Topic5\", \"Topic5\", \"Topic5\", \"Topic5\", \"Topic5\", \"Topic5\", \"Topic5\", \"Topic5\", \"Topic5\", \"Topic5\", \"Topic5\", \"Topic5\", \"Topic5\", \"Topic5\", \"Topic5\", \"Topic5\", \"Topic5\", \"Topic5\", \"Topic6\", \"Topic6\", \"Topic6\", \"Topic6\", \"Topic6\", \"Topic6\", \"Topic6\", \"Topic6\", \"Topic6\", \"Topic6\", \"Topic6\", \"Topic6\", \"Topic6\", \"Topic6\", \"Topic6\", \"Topic6\", \"Topic6\", \"Topic6\", \"Topic6\", \"Topic6\", \"Topic6\", \"Topic6\", \"Topic6\", \"Topic6\", \"Topic6\", \"Topic6\", \"Topic6\", \"Topic6\", \"Topic6\", \"Topic6\", \"Topic6\", \"Topic6\", \"Topic6\", \"Topic6\", \"Topic6\", \"Topic6\", \"Topic6\", \"Topic7\", \"Topic7\", \"Topic7\", \"Topic7\", \"Topic7\", \"Topic7\", \"Topic7\", \"Topic7\", \"Topic7\", \"Topic7\", \"Topic7\", \"Topic7\", \"Topic7\", \"Topic7\", \"Topic7\", \"Topic7\", \"Topic7\", \"Topic7\", \"Topic7\", \"Topic7\", \"Topic7\", \"Topic7\", \"Topic7\", \"Topic7\", \"Topic7\", \"Topic7\", \"Topic7\", \"Topic7\", \"Topic7\", \"Topic7\", \"Topic7\", \"Topic7\", \"Topic8\", \"Topic8\", \"Topic8\", \"Topic8\", \"Topic8\", \"Topic8\", \"Topic8\", \"Topic8\", \"Topic8\", \"Topic8\", \"Topic8\", \"Topic8\", \"Topic8\", \"Topic8\", \"Topic8\", \"Topic8\", \"Topic8\", \"Topic8\", \"Topic8\", \"Topic8\", \"Topic8\", \"Topic8\", \"Topic8\", \"Topic8\", \"Topic8\", \"Topic8\", \"Topic8\", \"Topic8\", \"Topic8\", \"Topic8\", \"Topic8\", \"Topic8\", \"Topic8\", \"Topic8\", \"Topic8\", \"Topic8\", \"Topic8\", \"Topic8\", \"Topic9\", \"Topic9\", \"Topic9\", \"Topic9\", \"Topic9\", \"Topic9\", \"Topic9\", \"Topic9\", \"Topic9\", \"Topic9\", \"Topic9\", \"Topic9\", \"Topic9\", \"Topic9\", \"Topic9\", \"Topic9\", \"Topic9\", \"Topic9\", \"Topic9\", \"Topic9\", \"Topic9\", \"Topic9\", \"Topic9\", \"Topic9\", \"Topic9\", \"Topic9\", \"Topic9\", \"Topic9\", \"Topic9\", \"Topic9\", \"Topic9\", \"Topic9\", \"Topic9\", \"Topic9\", \"Topic9\", \"Topic9\", \"Topic9\", \"Topic9\", \"Topic10\", \"Topic10\", \"Topic10\", \"Topic10\", \"Topic10\", \"Topic10\", \"Topic10\", \"Topic10\", \"Topic10\", \"Topic10\", \"Topic10\", \"Topic10\", \"Topic10\", \"Topic10\", \"Topic10\", \"Topic10\", \"Topic10\", \"Topic10\", \"Topic10\", \"Topic10\", \"Topic10\", \"Topic10\", \"Topic10\", \"Topic10\", \"Topic10\", \"Topic10\", \"Topic10\", \"Topic10\", \"Topic10\", \"Topic10\", \"Topic10\", \"Topic10\", \"Topic10\", \"Topic11\", \"Topic11\", \"Topic11\", \"Topic11\", \"Topic11\", \"Topic11\", \"Topic11\", \"Topic11\", \"Topic11\", \"Topic11\", \"Topic11\", \"Topic11\", \"Topic11\", \"Topic11\", \"Topic11\", \"Topic11\", \"Topic11\", \"Topic11\", \"Topic11\", \"Topic11\", \"Topic11\", \"Topic11\", \"Topic11\", \"Topic11\", \"Topic11\", \"Topic11\", \"Topic11\", \"Topic11\", \"Topic11\", \"Topic11\", \"Topic12\", \"Topic12\", \"Topic12\", \"Topic12\", \"Topic12\", \"Topic12\", \"Topic12\", \"Topic12\", \"Topic12\", \"Topic12\", \"Topic12\", \"Topic12\", \"Topic12\", \"Topic12\", \"Topic12\", \"Topic12\", \"Topic12\", \"Topic12\", \"Topic12\", \"Topic12\", \"Topic12\", \"Topic12\", \"Topic12\", \"Topic12\", \"Topic12\", \"Topic12\", \"Topic12\", \"Topic12\", \"Topic12\", \"Topic12\", \"Topic12\", \"Topic12\", \"Topic12\", \"Topic12\", \"Topic12\", \"Topic12\", \"Topic12\", \"Topic12\", \"Topic12\", \"Topic12\", \"Topic13\", \"Topic13\", \"Topic13\", \"Topic13\", \"Topic13\", \"Topic13\", \"Topic13\", \"Topic13\", \"Topic13\", \"Topic13\", \"Topic13\", \"Topic13\", \"Topic13\", \"Topic13\", \"Topic13\", \"Topic13\", \"Topic13\", \"Topic13\", \"Topic13\", \"Topic13\", \"Topic13\", \"Topic13\", \"Topic13\", \"Topic13\", \"Topic13\", \"Topic13\", \"Topic13\", \"Topic13\", \"Topic13\", \"Topic13\", \"Topic13\", \"Topic13\", \"Topic13\", \"Topic13\", \"Topic13\", \"Topic13\", \"Topic13\", \"Topic13\", \"Topic13\", \"Topic13\", \"Topic13\", \"Topic13\", \"Topic14\", \"Topic14\", \"Topic14\", \"Topic14\", \"Topic14\", \"Topic14\", \"Topic14\", \"Topic14\", \"Topic14\", \"Topic14\", \"Topic14\", \"Topic14\", \"Topic14\", \"Topic14\", \"Topic14\", \"Topic14\", \"Topic14\", \"Topic14\", \"Topic14\", \"Topic14\", \"Topic14\", \"Topic14\", \"Topic14\", \"Topic14\", \"Topic14\", \"Topic14\", \"Topic14\", \"Topic14\", \"Topic14\", \"Topic14\", \"Topic14\", \"Topic14\", \"Topic14\", \"Topic14\", \"Topic14\", \"Topic14\", \"Topic14\", \"Topic14\", \"Topic14\", \"Topic14\", \"Topic15\", \"Topic15\", \"Topic15\", \"Topic15\", \"Topic15\", \"Topic15\", \"Topic15\", \"Topic15\", \"Topic15\", \"Topic15\", \"Topic15\", \"Topic15\", \"Topic15\", \"Topic15\", \"Topic15\", \"Topic15\", \"Topic15\", \"Topic15\", \"Topic15\", \"Topic15\", \"Topic15\", \"Topic15\", \"Topic15\", \"Topic15\", \"Topic15\", \"Topic15\", \"Topic15\", \"Topic15\", \"Topic15\", \"Topic15\", \"Topic15\", \"Topic15\", \"Topic15\", \"Topic15\", \"Topic15\", \"Topic15\", \"Topic15\", \"Topic15\", \"Topic15\", \"Topic15\", \"Topic15\", \"Topic15\", \"Topic15\", \"Topic16\", \"Topic16\", \"Topic16\", \"Topic16\", \"Topic16\", \"Topic16\", \"Topic16\", \"Topic16\", \"Topic16\", \"Topic16\", \"Topic16\", \"Topic16\", \"Topic16\", \"Topic16\", \"Topic16\", \"Topic16\", \"Topic16\", \"Topic16\", \"Topic16\", \"Topic16\", \"Topic16\", \"Topic16\", \"Topic16\", \"Topic16\", \"Topic16\", \"Topic16\", \"Topic16\", \"Topic16\", \"Topic16\", \"Topic16\", \"Topic16\", \"Topic16\", \"Topic16\", \"Topic16\", \"Topic16\", \"Topic16\", \"Topic16\", \"Topic17\", \"Topic17\", \"Topic17\", \"Topic17\", \"Topic17\", \"Topic17\", \"Topic17\", \"Topic17\", \"Topic17\", \"Topic17\", \"Topic17\", \"Topic17\", \"Topic17\", \"Topic17\", \"Topic17\", \"Topic17\", \"Topic17\", \"Topic17\", \"Topic17\", \"Topic17\", \"Topic17\", \"Topic17\", \"Topic17\", \"Topic17\", \"Topic17\", \"Topic17\", \"Topic17\", \"Topic17\", \"Topic17\", \"Topic17\", \"Topic17\", \"Topic17\", \"Topic17\", \"Topic17\", \"Topic17\", \"Topic17\", \"Topic17\", \"Topic17\", \"Topic17\", \"Topic17\", \"Topic17\", \"Topic18\", \"Topic18\", \"Topic18\", \"Topic18\", \"Topic18\", \"Topic18\", \"Topic18\", \"Topic18\", \"Topic18\", \"Topic18\", \"Topic18\", \"Topic18\", \"Topic18\", \"Topic18\", \"Topic18\", \"Topic18\", \"Topic18\", \"Topic18\", \"Topic18\", \"Topic18\", \"Topic18\", \"Topic18\", \"Topic18\", \"Topic18\", \"Topic18\", \"Topic18\", \"Topic18\", \"Topic18\", \"Topic18\", \"Topic18\", \"Topic18\", \"Topic18\", \"Topic18\", \"Topic18\", \"Topic18\", \"Topic18\", \"Topic18\", \"Topic18\", \"Topic18\", \"Topic18\", \"Topic18\", \"Topic18\", \"Topic19\", \"Topic19\", \"Topic19\", \"Topic19\", \"Topic19\", \"Topic19\", \"Topic19\", \"Topic19\", \"Topic19\", \"Topic19\", \"Topic19\", \"Topic19\", \"Topic19\", \"Topic19\", \"Topic19\", \"Topic19\", \"Topic19\", \"Topic19\", \"Topic19\", \"Topic19\", \"Topic19\", \"Topic19\", \"Topic19\", \"Topic19\", \"Topic19\", \"Topic19\", \"Topic19\", \"Topic19\", \"Topic19\", \"Topic19\", \"Topic19\", \"Topic19\", \"Topic19\", \"Topic19\", \"Topic19\", \"Topic19\", \"Topic19\", \"Topic19\", \"Topic19\", \"Topic19\", \"Topic19\", \"Topic19\", \"Topic19\", \"Topic19\", \"Topic19\", \"Topic19\", \"Topic19\", \"Topic19\", \"Topic19\", \"Topic19\", \"Topic19\", \"Topic19\", \"Topic19\", \"Topic19\", \"Topic19\", \"Topic19\", \"Topic19\", \"Topic19\", \"Topic19\", \"Topic19\", \"Topic20\", \"Topic20\", \"Topic20\", \"Topic20\", \"Topic20\", \"Topic20\", \"Topic20\", \"Topic20\", \"Topic20\", \"Topic20\", \"Topic20\", \"Topic20\", \"Topic20\", \"Topic20\", \"Topic20\", \"Topic20\", \"Topic20\", \"Topic20\", \"Topic20\", \"Topic20\", \"Topic20\", \"Topic20\", \"Topic20\", \"Topic20\", \"Topic20\", \"Topic20\", \"Topic20\", \"Topic20\", \"Topic20\", \"Topic20\", \"Topic20\", \"Topic20\", \"Topic20\", \"Topic20\", \"Topic20\", \"Topic20\", \"Topic20\", \"Topic20\", \"Topic20\", \"Topic20\", \"Topic20\", \"Topic20\", \"Topic20\", \"Topic20\", \"Topic20\", \"Topic20\", \"Topic20\", \"Topic20\", \"Topic20\", \"Topic20\", \"Topic20\", \"Topic20\", \"Topic20\", \"Topic20\", \"Topic20\", \"Topic20\", \"Topic20\", \"Topic20\", \"Topic20\", \"Topic20\"], \"logprob\": [30.0, 29.0, 28.0, 27.0, 26.0, 25.0, 24.0, 23.0, 22.0, 21.0, 20.0, 19.0, 18.0, 17.0, 16.0, 15.0, 14.0, 13.0, 12.0, 11.0, 10.0, 9.0, 8.0, 7.0, 6.0, 5.0, 4.0, 3.0, 2.0, 1.0, -1.5492, -2.7556, -2.8154, -3.5543, -3.6772, -3.7509, -3.8036, -3.9623, -4.0493, -2.8248, -4.2099, -4.2571, -4.2677, -4.2983, -4.3134, -4.3861, -4.4577, -4.4748, -4.5141, -4.6063, -4.8148, -4.8245, -5.1427, -5.2401, -5.2447, -5.2735, -5.4131, -5.6708, -5.7686, -5.8945, -4.106, -3.5229, -3.3887, -4.3271, -4.426, -4.7916, -4.1993, -4.1178, -4.082, -4.3462, -4.5203, -2.6261, -2.737, -2.8331, -3.0286, -3.1297, -3.1711, -3.4204, -3.8186, -4.021, -4.0672, -4.1452, -4.1575, -4.3833, -4.5592, -4.573, -4.6721, -4.7568, -4.8781, -4.9442, -4.9992, -5.0938, -5.1156, -5.1285, -5.129, -5.1677, -5.1691, -5.1701, -5.171, -5.2904, -5.3578, -3.2797, -3.9765, -4.1256, -3.2748, -3.9568, -2.9107, -4.4518, -3.9953, -3.9449, -4.764, -4.2753, -3.9685, -4.1697, -4.5842, -0.6193, -2.3249, -3.3557, -3.9681, -6.4536, -6.5664, -6.9828, -1.7784, -3.9575, -5.2529, -3.5997, -5.006, -3.8408, -4.7184, -5.8586, -6.5735, -4.0151, -4.8238, -4.9363, -6.7856, -13.1964, -13.1959, -13.1975, -13.1975, -13.1975, -13.1973, -13.1973, -13.1975, -13.1976, -13.1975, -13.1967, -7.3996, -13.1966, -13.1972, -13.1966, -13.1971, -13.1967, -13.1969, -13.1971, -13.1961, -0.4187, -1.7424, -2.0756, -4.7007, -4.4056, -4.6466, -13.0619, -13.0619, -13.0619, -13.0615, -13.062, -13.0619, -13.062, -13.0618, -13.062, -13.0619, -13.0618, -13.062, -13.0619, -13.0621, -13.062, -13.0621, -13.062, -13.0621, -13.0616, -13.0619, -13.0621, -13.0621, -13.0619, -13.0622, -13.0619, -13.0617, -13.062, -13.0619, -13.061, -13.0619, -13.0609, -13.0619, -13.0615, -13.061, -13.0619, -13.0612, -13.0616, -13.0619, -13.0614, -13.0618, -13.0619, -13.0618, -13.0618, -13.0616, -0.5358, -1.788, -5.0559, -5.4452, -5.6032, -5.7484, -5.8162, -6.0518, -6.2752, -6.4096, -6.4584, -6.5054, -6.7135, -6.7637, -7.1208, -7.8482, -5.0754, -4.2243, -3.0784, -5.3571, -4.8835, -6.6918, -4.2854, -6.3302, -5.8744, -4.2566, -4.6463, -4.5697, -4.9792, -5.5422, -2.9706, -6.1182, -6.2837, -6.6571, -1.56, -2.2917, -2.6057, -2.8254, -2.9581, -3.2513, -3.3837, -3.4641, -3.6543, -3.8941, -3.965, -4.1171, -4.4491, -4.4663, -4.5323, -4.5563, -4.5717, -4.6809, -4.8221, -4.8347, -4.8575, -4.976, -4.9879, -5.1273, -5.1478, -5.3471, -5.3514, -5.3726, -5.6531, -5.6709, -3.9171, -3.8474, -3.1821, -3.6833, -4.6783, -4.9058, -5.1055, -0.873, -1.7913, -1.9773, -2.0618, -3.2754, -4.4691, -4.7273, -4.9068, -5.5124, -5.733, -5.9103, -6.1205, -3.2535, -5.539, -12.0276, -12.0291, -12.0305, -12.0293, -12.0301, -12.0298, -12.0314, -12.0306, -12.0313, -12.031, -12.0303, -12.0319, -12.0285, -12.032, -12.0318, -12.0302, -12.0313, -12.0317, -1.2412, -1.8086, -2.1914, -2.5058, -2.7019, -3.1402, -3.5057, -3.9042, -4.2183, -4.6996, -4.842, -4.9901, -5.1267, -3.5655, -4.2504, -3.0948, -3.6106, -5.0441, -12.106, -12.1078, -12.1076, -12.1082, -12.1085, -12.1082, -12.1083, -12.1083, -12.1086, -12.1087, -12.1086, -12.1087, -12.1084, -12.1078, -12.1082, -12.1079, -12.1081, -12.108, -12.1082, -12.1079, -0.7175, -1.0197, -2.329, -4.7766, -5.6336, -6.0177, -4.2947, -12.1675, -12.1681, -12.1691, -12.1694, -12.169, -12.1699, -12.1688, -12.1695, -12.1693, -12.1696, -12.1697, -12.1699, -12.1699, -12.1696, -12.17, -12.1691, -12.1699, -12.1699, -12.17, -12.1693, -12.17, -12.17, -12.17, -12.1698, -12.1697, -12.169, -12.1692, -12.1697, -12.1698, -12.1695, -12.169, -2.0469, -2.1085, -2.1683, -2.1692, -2.4922, -2.8335, -3.3399, -3.5106, -3.5508, -3.7141, -3.7747, -4.0902, -4.2381, -4.2992, -4.4034, -4.419, -4.7252, -4.9271, -5.9251, -6.1709, -6.5681, -2.773, -3.4094, -4.7471, -5.1088, -11.9069, -11.9085, -11.909, -11.9094, -11.9093, -5.8358, -11.9085, -11.9088, -0.9908, -1.872, -2.1204, -2.3506, -2.6877, -2.706, -3.7075, -4.0033, -4.2868, -11.1766, -11.1828, -11.1832, -11.1837, -11.1857, -11.186, -11.1887, -11.1898, -11.19, -11.1906, -11.1909, -11.1922, -11.1923, -11.1928, -11.1931, -11.1932, -11.1932, -11.1935, -11.1937, -11.1946, -11.1948, -0.4337, -3.1295, -3.3079, -3.5544, -3.9872, -4.1283, -4.5496, -5.0714, -5.2658, -5.2976, -5.3342, -5.5934, -5.8977, -6.1247, -6.371, -6.5228, -6.8145, -4.0722, -2.1612, -11.9964, -11.9965, -11.9962, -11.9965, -11.9961, -11.9968, -11.9968, -11.9965, -11.9966, -11.9969, -11.9967, -11.9954, -7.4261, -11.9965, -11.994, -11.9961, -11.996, -11.9962, -11.9962, -11.9963, -11.9964, -0.6804, -0.9502, -6.9514, -4.1531, -3.5395, -5.5395, -5.1778, -4.3578, -11.7791, -11.7809, -11.7813, -11.7803, -11.7805, -11.7812, -11.7816, -11.7815, -11.7816, -11.7817, -11.7817, -11.7818, -11.7819, -11.7818, -11.7819, -11.7819, -11.7819, -11.7817, -11.7818, -11.782, -11.782, -11.782, -11.7819, -11.7815, -11.7813, -7.1884, -11.7812, -11.7809, -11.7812, -11.7813, -11.7817, -11.7818, -11.7817, -11.7815, -0.7985, -0.8482, -3.0478, -3.8895, -4.0207, -11.8407, -11.841, -11.8407, -11.8411, -11.841, -11.8411, -11.84, -11.8411, -11.8413, -11.8409, -11.8411, -11.8412, -11.8405, -11.8413, -11.8413, -11.8409, -11.8413, -11.8415, -11.8413, -11.8414, -11.841, -11.8415, -11.8414, -11.8414, -11.8413, -11.8413, -11.8414, -11.8413, -11.8409, -11.8405, -11.8407, -11.841, -11.8409, -11.8407, -11.8412, -1.1345, -1.3303, -2.3899, -2.5458, -2.7135, -3.0058, -3.6829, -4.2672, -4.4488, -4.4723, -4.9043, -4.6916, -11.522, -11.5242, -11.5246, -11.5246, -11.5246, -11.5245, -11.5247, -11.5246, -11.5248, -11.5248, -11.5248, -11.5244, -11.5249, -11.5246, -11.5247, -11.5236, -11.5249, -11.5247, -11.5245, -11.5235, -11.5244, -11.5242, -11.5242, -11.5243, -11.5245, -11.5243, -11.5241, -11.5239, -11.5246, -11.5246, -11.5245, -0.2413, -3.3522, -4.7555, -4.8101, -2.2426, -4.8544, -4.3415, -11.8398, -11.8412, -11.8423, -11.8457, -11.8463, -11.8482, -11.8482, -11.847, -11.8482, -11.8481, -11.8481, -11.8483, -11.848, -11.8482, -11.8484, -11.8483, -11.8486, -11.8483, -11.8482, -11.8487, -11.8481, -11.8487, -11.8487, -11.8485, -11.8479, -11.8482, -11.8479, -11.8483, -11.848, -11.8483, -1.3707, -1.8109, -2.2932, -3.7282, -4.0523, -4.4151, -1.5274, -3.3685, -2.7963, -3.133, -11.1454, -11.1454, -11.1458, -11.1457, -11.1459, -11.1462, -11.1464, -11.1465, -11.1464, -11.1465, -11.1464, -11.1466, -11.1467, -11.1467, -11.1467, -11.1467, -11.1468, -11.1468, -11.1466, -11.1467, -11.1464, -11.1456, -11.1466, -11.146, -11.146, -11.1464, -11.1464, -11.1462, -11.1464, -11.1459, -11.1464, -0.0746, -6.0957, -11.1789, -11.1799, -11.1803, -11.1803, -11.1797, -11.1804, -11.1802, -11.1806, -11.1805, -11.1806, -11.1805, -11.1803, -11.1806, -11.1806, -11.1808, -11.1808, -11.1808, -11.1808, -11.181, -11.1809, -11.181, -11.1809, -11.181, -11.181, -11.1806, -11.181, -11.1811, -11.181, -11.1807, -11.1802, -11.1808, -11.1809, -11.1804, -11.1808, -11.1807, -11.1804, -11.1805, -11.1805, -11.1806, -11.1807, -8.5172, -8.5172, -8.5172, -8.5172, -8.5172, -8.5172, -8.5172, -8.5172, -8.5172, -8.5172, -8.5172, -8.5172, -8.5172, -8.5172, -8.5172, -8.5172, -8.5172, -8.5172, -8.5172, -8.5172, -8.5172, -8.5172, -8.5172, -8.5172, -8.5172, -8.5172, -8.5172, -8.5172, -8.5172, -8.5172, -8.5172, -8.5172, -8.5172, -8.5172, -8.5172, -8.5172, -8.5172, -8.5172, -8.5172, -8.5172, -8.5172, -8.5172, -8.5172, -8.5172, -8.5172, -8.5172, -8.5172, -8.5172, -8.5172, -8.5172, -8.5172, -8.5172, -8.5172, -8.5172, -8.5172, -8.5172, -8.5172, -8.5172, -8.5172, -8.5172, -8.5172, -8.5172, -8.5172, -8.5172, -8.5172, -8.5172, -8.5172, -8.5172, -8.5172, -8.5172, -8.5172, -8.5172, -8.5172, -8.5172, -8.5172, -8.5172, -8.5172, -8.5172, -8.5172, -8.5172, -8.5172, -8.5172, -8.5172, -8.5172, -8.5172, -8.5172, -8.5172, -8.5172, -8.5172, -8.5172, -8.5172, -8.5172, -8.5172, -8.5172, -8.5172, -8.5172, -8.5172, -8.5172, -8.5172, -8.5172, -8.5172, -8.5172, -8.5172, -8.5172, -8.5172, -8.5172, -8.5172, -8.5172, -8.5172, -8.5172, -8.5172, -8.5172, -8.5172, -8.5172, -8.5172, -8.5172, -8.5172, -8.5172, -8.5172, -8.5172], \"loglift\": [30.0, 29.0, 28.0, 27.0, 26.0, 25.0, 24.0, 23.0, 22.0, 21.0, 20.0, 19.0, 18.0, 17.0, 16.0, 15.0, 14.0, 13.0, 12.0, 11.0, 10.0, 9.0, 8.0, 7.0, 6.0, 5.0, 4.0, 3.0, 2.0, 1.0, 2.0488, 2.0485, 2.0485, 2.0479, 2.0477, 2.0476, 2.0475, 2.0473, 2.0471, 2.0471, 2.0468, 2.0467, 2.0467, 2.0466, 2.0466, 2.0464, 2.0462, 2.0461, 2.046, 2.0457, 2.045, 2.045, 2.0434, 2.0429, 2.0429, 2.0427, 2.0417, 2.0396, 2.0386, 2.0373, 1.977, 1.8507, 1.8031, 1.8761, 1.8715, 1.8226, 1.285, 1.1955, 1.0718, 1.1611, 1.2714, 2.1336, 2.1335, 2.1334, 2.1333, 2.1332, 2.1332, 2.133, 2.1324, 2.1321, 2.132, 2.1318, 2.1318, 2.1312, 2.1307, 2.1306, 2.1303, 2.1299, 2.1294, 2.1291, 2.1288, 2.1283, 2.1281, 2.1281, 2.1281, 2.1278, 2.1278, 2.1278, 2.1278, 2.127, 2.1265, 2.1191, 2.0927, 2.0728, 1.98, 2.0335, 1.8795, 2.0473, 1.7796, 1.6118, 1.9533, 1.5164, 1.1853, 1.1349, 0.6076, 2.27, 2.2697, 2.2689, 2.2679, 2.2445, 2.2415, 2.227, 2.0376, 2.0191, 1.8594, 1.7137, 1.1566, 1.1331, 1.0565, 0.992, 0.961, 0.7751, 0.5497, 0.3184, -0.5871, -0.8659, -0.8667, -0.8668, -0.8668, -0.8668, -0.8669, -0.8669, -0.8669, -0.8669, -0.8669, -0.8669, -2.0009, -0.8671, -0.867, -0.8673, -0.8671, -0.8675, -0.8675, -0.8672, -8.0423, 2.3102, 2.31, 2.3099, 1.1757, 1.151, 0.5072, -0.7312, -0.7312, -0.7312, -0.7313, -0.7313, -0.7313, -0.7313, -0.7313, -0.7313, -0.7313, -0.7314, -0.7314, -0.7314, -0.7314, -0.7314, -0.7314, -0.7314, -0.7314, -0.7314, -0.7314, -0.7314, -0.7314, -0.7314, -0.7314, -0.7314, -0.7314, -0.7314, -0.7314, -0.7315, -0.7314, -0.7317, -0.7314, -0.7315, -0.7318, -0.7314, -0.7319, -0.7318, -0.7314, -0.7321, -0.7316, -0.7315, -0.7318, -0.7321, -0.7347, 2.4189, 2.4187, 2.4116, 2.4082, 2.4063, 2.4044, 2.4033, 2.3992, 2.3944, 2.3909, 2.3895, 2.3881, 2.3811, 2.3792, 2.3626, 2.3057, 2.0896, 1.9383, 1.7801, 1.6766, 1.6203, 1.5951, 1.5911, 1.5522, 1.2619, 1.2506, 1.2471, 1.1613, 1.1273, 1.0903, 0.8453, 0.5991, 0.3281, 0.5926, 2.5826, 2.5824, 2.5822, 2.582, 2.5818, 2.5815, 2.5813, 2.5811, 2.5808, 2.5802, 2.58, 2.5795, 2.5782, 2.5781, 2.5778, 2.5776, 2.5776, 2.5769, 2.576, 2.576, 2.5758, 2.5749, 2.5748, 2.5736, 2.5734, 2.5713, 2.5713, 2.571, 2.5672, 2.5669, 2.565, 2.2591, 2.1225, 2.2101, 2.1526, 1.0707, 1.9281, 2.9955, 2.9952, 2.9951, 2.995, 2.9935, 2.9885, 2.9864, 2.9846, 2.9755, 2.9705, 2.9657, 2.9589, 2.6479, 2.4583, 0.3008, 0.3002, 0.2994, 0.2993, 0.2992, 0.299, 0.2989, 0.2988, 0.2987, 0.2987, 0.2986, 0.2984, 0.2984, 0.2983, 0.2983, 0.2983, 0.298, 0.2982, 3.1812, 3.1809, 3.1806, 3.1803, 3.18, 3.1792, 3.1782, 3.1766, 3.1747, 3.1705, 3.1689, 3.1668, 3.1647, 3.0463, 2.9994, 2.8631, 1.8967, 1.5702, 0.2237, 0.2224, 0.2223, 0.2223, 0.2222, 0.2222, 0.2222, 0.2219, 0.2219, 0.2218, 0.2218, 0.2218, 0.2217, 0.2216, 0.2216, 0.2213, 0.2215, 0.2212, 0.2213, 0.219, 3.2633, 3.2633, 3.2624, 3.2506, 3.2332, 3.2193, 2.641, 0.1618, 0.1614, 0.1613, 0.1611, 0.1609, 0.1609, 0.1609, 0.1608, 0.1608, 0.1608, 0.1608, 0.1607, 0.1607, 0.1607, 0.1607, 0.1607, 0.1607, 0.1607, 0.1607, 0.1607, 0.1607, 0.1607, 0.1607, 0.1606, 0.1606, 0.1602, 0.1602, 0.1605, 0.1605, 0.1599, 0.1578, 3.2934, 3.2934, 3.2933, 3.2933, 3.2929, 3.2924, 3.2911, 3.2905, 3.2904, 3.2897, 3.2894, 3.2876, 3.2865, 3.286, 3.2851, 3.285, 3.2817, 3.2789, 3.2531, 3.2419, 3.2174, 2.958, 2.8179, 2.3822, 2.2275, 0.4223, 0.4213, 0.4213, 0.4212, 0.4212, 0.3268, 0.4208, 0.4207, 3.3185, 3.3181, 3.3179, 3.3177, 3.3172, 3.3172, 3.3144, 3.3129, 3.3109, 1.1503, 1.1457, 1.1452, 1.1449, 1.1432, 1.1429, 1.1406, 1.1396, 1.1393, 1.1388, 1.1387, 1.1375, 1.1374, 1.1369, 1.1368, 1.1367, 1.1367, 1.1363, 1.1362, 1.1354, 1.1353, 3.4488, 3.4459, 3.4453, 3.4443, 3.4418, 3.4408, 3.4365, 3.428, 3.4236, 3.4228, 3.4218, 3.4139, 3.4017, 3.3901, 3.3742, 3.3625, 3.3348, 3.0641, 2.6973, 0.3343, 0.3342, 0.3341, 0.3341, 0.334, 0.3339, 0.3339, 0.3339, 0.3339, 0.3339, 0.3338, 0.3338, -0.0898, 0.3338, 0.3328, 0.3336, 0.3335, 0.3336, 0.3332, 0.333, 0.3322, 3.4796, 3.4795, 3.3474, 2.6975, 1.9448, 0.9596, 0.9475, 0.796, 0.5501, 0.5495, 0.5495, 0.5492, 0.5491, 0.5491, 0.549, 0.549, 0.549, 0.5489, 0.5489, 0.5488, 0.5488, 0.5488, 0.5488, 0.5488, 0.5488, 0.5488, 0.5488, 0.5487, 0.5487, 0.5487, 0.5487, 0.5487, 0.5486, -0.7064, 0.5486, 0.5484, 0.5482, 0.5479, 0.5485, 0.5486, 0.5485, 0.5454, 3.5702, 3.5701, 3.5673, 3.5632, 3.5622, 0.4898, 0.4897, 0.4896, 0.4895, 0.4895, 0.4895, 0.4894, 0.4894, 0.4894, 0.4894, 0.4894, 0.4894, 0.4894, 0.4893, 0.4893, 0.4893, 0.4893, 0.4893, 0.4893, 0.4893, 0.4892, 0.4892, 0.4892, 0.4892, 0.4892, 0.4892, 0.4892, 0.4892, 0.489, 0.4888, 0.4886, 0.4887, 0.4883, 0.4861, 0.4882, 3.5958, 3.5957, 3.5946, 3.5943, 3.594, 3.5932, 3.5903, 3.5856, 3.5834, 3.5831, 3.5761, 2.4872, 0.8077, 0.8063, 0.8062, 0.8061, 0.8061, 0.806, 0.806, 0.806, 0.8059, 0.8059, 0.8059, 0.8059, 0.8059, 0.8059, 0.8059, 0.8059, 0.8059, 0.8059, 0.8058, 0.8057, 0.8058, 0.8057, 0.8057, 0.8057, 0.8058, 0.8055, 0.8051, 0.803, 0.8058, 0.8057, 0.8048, 3.5998, 3.5956, 3.5823, 3.5813, 3.3178, 2.3107, 1.2152, 0.4895, 0.489, 0.487, 0.4835, 0.4829, 0.4826, 0.4825, 0.4825, 0.4825, 0.4824, 0.4824, 0.4824, 0.4824, 0.4823, 0.4822, 0.4822, 0.4822, 0.4821, 0.4821, 0.4821, 0.4821, 0.4821, 0.4821, 0.4821, 0.482, 0.482, 0.4819, 0.4817, 0.4788, 0.4814, 3.8334, 3.833, 3.8323, 3.8263, 3.8233, 3.8186, 3.4465, 2.8588, 2.688, 2.4273, 1.185, 1.1849, 1.1847, 1.1847, 1.1846, 1.1845, 1.1842, 1.1842, 1.1842, 1.1842, 1.1842, 1.1841, 1.1841, 1.1841, 1.1841, 1.1841, 1.184, 1.184, 1.184, 1.184, 1.1839, 1.1836, 1.1839, 1.1837, 1.1835, 1.1837, 1.1838, 1.1832, 1.1834, 1.181, 1.1828, 4.17, 4.0564, 1.1506, 1.1504, 1.1504, 1.1503, 1.1502, 1.1501, 1.15, 1.15, 1.15, 1.15, 1.15, 1.15, 1.1499, 1.1499, 1.1499, 1.1498, 1.1498, 1.1498, 1.1498, 1.1498, 1.1498, 1.1498, 1.1497, 1.1497, 1.1497, 1.1497, 1.1497, 1.1497, 1.1497, 1.1495, 1.1497, 1.1497, 1.1494, 1.1496, 1.1494, 1.1489, 1.1488, 1.1487, 1.1488, 1.1461, 3.8136, 3.8136, 3.8136, 3.8136, 3.8136, 3.8136, 3.8136, 3.8136, 3.8136, 3.8136, 3.8136, 3.8136, 3.8136, 3.8136, 3.8136, 3.8136, 3.8136, 3.8136, 3.8136, 3.8136, 3.8136, 3.8136, 3.8136, 3.8136, 3.8136, 3.8136, 3.8136, 3.8136, 3.8136, 3.8136, -5.7883, -5.5625, -5.6279, -4.7012, -4.9191, -4.3572, -4.6348, -4.676, -4.5364, -4.3105, -4.4648, -4.3746, -4.2726, -4.0988, -4.0875, -4.2342, -3.7869, -4.1486, -4.6487, -4.1317, -3.6533, -3.6452, -3.6431, 3.8097, -3.7131, -3.727, -4.0948, -3.6467, -3.9226, -3.7575, 3.8136, 3.8136, 3.8136, 3.8136, 3.8136, 3.8136, 3.8136, 3.8136, 3.8136, 3.8136, 3.8136, 3.8136, 3.8136, 3.8136, 3.8136, 3.8136, 3.8136, 3.8136, 3.8136, 3.8136, 3.8136, 3.8136, 3.8136, 3.8136, 3.8136, 3.8136, 3.8136, 3.8136, 3.8136, 3.8136, -5.7883, -5.5625, -5.6279, -4.7012, -4.9191, -4.3572, -4.6348, -4.676, -4.5364, -4.3105, -4.4648, -4.3746, -4.2726, -4.0988, -4.0875, -4.2342, -3.7869, -4.1486, -4.6487, -4.1317, -3.6533, -3.6452, -3.6431, 3.8097, -3.7131, -3.727, -4.0948, -3.6467, -3.9226, -3.7575]}, \"token.table\": {\"Topic\": [13, 2, 10, 8, 2, 17, 8, 1, 6, 3, 4, 5, 8, 1, 10, 10, 14, 1, 5, 8, 15, 6, 3, 5, 10, 1, 10, 6, 1, 10, 10, 1, 5, 1, 8, 12, 2, 2, 13, 6, 12, 10, 10, 1, 10, 12, 10, 5, 6, 5, 1, 2, 4, 6, 13, 9, 8, 2, 2, 4, 16, 2, 2, 16, 6, 5, 1, 9, 8, 12, 15, 1, 1, 6, 10, 1, 7, 8, 1, 13, 9, 2, 2, 1, 6, 11, 11, 1, 7, 11, 2, 5, 11, 6, 1, 6, 1, 8, 2, 3, 1, 2, 15, 12, 7, 2, 6, 1, 6, 2, 2, 17, 8, 8, 1, 1, 6, 3, 17, 12, 10, 17, 1, 5, 5, 2, 1, 10, 2, 3, 1, 3, 1, 17, 6, 15, 15, 2, 4, 1, 3, 5, 2, 6, 16, 1, 2, 9, 2, 3, 7, 1, 10, 2, 7, 15, 2, 5, 1, 10, 2, 6, 5, 8, 2, 2, 3, 1, 4, 5, 6, 15, 1, 1, 15, 12, 12, 2, 5, 12, 7, 1, 3, 12, 6, 15, 2, 4, 6, 11, 5, 3, 6, 10, 2, 1, 9, 2, 6, 18, 11, 6, 15, 8, 8, 6, 13, 1, 7, 10, 15, 9, 6, 12, 7, 7, 2, 10, 7, 18, 14, 5, 1, 11, 6, 14, 1, 8, 5, 12, 10, 10, 1, 2, 7, 6, 17, 6, 5, 16, 5, 1, 2, 7, 11, 1, 2, 13, 6, 6, 6, 1, 8, 1, 12, 5, 8, 10, 2, 5, 12, 10, 12, 2, 9, 3, 15, 11, 2, 1, 5, 13, 5, 2, 13, 6, 1, 2, 3, 2, 3, 2, 1, 2, 6, 12, 12, 10, 6, 3, 5, 14, 6, 1, 5, 12, 17, 1, 2, 3, 1, 2, 1, 16, 6, 2, 12, 3, 5, 10, 3, 3, 5, 1, 13, 17, 5, 8, 5, 1, 7, 16, 2, 1, 2, 2, 17, 5, 6, 1, 6, 5, 1, 7, 5, 12, 6, 6, 2, 5, 6, 1, 3, 16, 17, 3, 6, 14, 10], \"Freq\": [0.9997225565211074, 0.9983146065182978, 0.9888079630796325, 0.9856376888589832, 0.9971659362682774, 0.994546419585671, 0.9824660281976595, 0.9979979786534173, 0.0014785155239309886, 0.9653371668105483, 0.9996915414556429, 0.12422655278461088, 0.8737969390781952, 0.9998658634662534, 0.9856129140627066, 0.9916290752596042, 0.999705633853845, 0.41164280488689126, 0.3111740525077178, 0.2769867687120268, 0.9847288569774724, 0.9908942014691025, 0.9619325042818819, 0.28450360940150105, 0.7147498653368999, 0.9989276728984268, 0.9990116514966976, 0.9970388753593165, 0.9994927838071859, 0.9850553936153387, 0.9985309412504169, 0.7330242223875998, 0.26440463153570315, 0.27154919254712856, 0.7270510639165054, 0.9593550914112656, 0.9981343190267462, 0.5400957068301201, 0.4572097320195571, 0.9876887895838405, 0.9916279205045159, 0.9056389242063165, 0.9958418801453471, 0.6213790547528314, 0.34327933794037535, 0.030417156526362375, 0.9358602764732794, 0.47514537842687066, 0.5200915628726557, 0.987960852637162, 0.37629519632006636, 0.3870744857979849, 0.16462914839002904, 0.0029398062212505184, 0.06810551079230368, 0.9988571809098147, 0.9994691316928143, 0.9970920799584886, 0.5930266498720667, 0.31373968621167436, 0.09236261790343685, 0.9952764367464809, 0.9961346799289756, 0.9859929565135901, 0.9923386209229935, 0.9831336926881555, 0.9971243332003367, 0.9593479774589442, 0.9961985066225418, 0.9751426193656043, 0.9995718311363767, 0.9985953318387626, 0.9973526489579001, 0.9847297587613077, 0.9594072942639524, 0.9985334213290398, 0.9991946744428826, 0.9981233834495491, 0.985235546635983, 0.840648483368793, 0.9996861196856608, 0.9928798621846426, 0.9919089127480128, 0.3460396581962886, 0.6501351153990876, 0.998972911122521, 0.9990743597178507, 0.403970457084406, 0.5807075320588336, 0.9993798329506076, 0.8353341363970961, 0.16145113560616142, 0.9984619530099976, 0.9979628146731717, 0.99808185714123, 0.9962644850132528, 0.9979181815352104, 0.9895823591479082, 0.8569323790568224, 0.1420090343535025, 0.9979869846434213, 0.9955510853213532, 0.9953874048148641, 0.9181951454629039, 0.975922865742882, 0.9942947771182625, 0.9994038514355783, 0.9979796538716235, 0.9991877590824323, 0.99506324459459, 0.9989360390779276, 0.9982180148002558, 0.998764152729669, 0.9933634573320068, 0.9980840199545323, 0.9305879130710227, 0.06824311362520834, 0.3208900626767315, 0.6786169947933939, 0.9968935833037692, 0.6206974342882611, 0.3770056009649253, 0.5481150895906995, 0.4498323838709879, 0.92987724072566, 0.9943794749329238, 0.9956331282127476, 0.9959810893395674, 0.775239244332017, 0.22412452670055674, 0.7165400694162744, 0.2780603254451214, 0.9988272055177323, 0.999074262923405, 0.9989504356671985, 0.9978299916409045, 0.9985691744210116, 0.9987661938864009, 0.9999168511413394, 0.42587435644310445, 0.5730050382911945, 0.999784862935026, 0.9970348914795591, 0.9997885726853551, 0.9997606131642982, 0.039164113362452534, 0.959520777380087, 0.9884720533310646, 0.9950879407817733, 0.9996448630775882, 0.9995846979616045, 0.5935020441666942, 0.4027335299702568, 0.9942682557244645, 0.9993755319456717, 0.9971104145266237, 0.997316033715616, 0.9803151492063933, 0.9923139235771585, 0.9985509483303829, 0.9048587752038043, 0.0938790979273947, 0.9653797451868537, 0.9995510903976697, 0.9953897847158147, 0.9852687400931733, 0.01377122762519048, 0.24021772172059938, 0.32197249255828236, 0.4370347626261325, 0.994627516754099, 0.9904708850509315, 0.9946813796202881, 0.6644651992702999, 0.33037655159249546, 0.9997842429192373, 0.8686897941561216, 0.570191578765322, 0.4201411633007636, 0.9926322062274658, 0.9726749347636481, 0.7205005530454467, 0.2701877073920425, 0.8894964924131851, 0.9976883310059991, 0.9822174059994042, 0.9974661632104819, 0.9998222722942564, 0.9910749272843611, 0.9963624685425835, 0.9691439534396252, 0.7775212022984869, 0.22087402877345824, 0.9992009716777283, 0.9923560496456312, 0.9932844481483729, 0.9997920897632577, 0.36803345330397585, 0.6312400406514013, 0.9997504875802742, 0.9981213778855792, 0.9922798813973457, 0.9995925894558585, 0.998967571643295, 0.9986574961648351, 0.981978403011244, 0.014794401551958478, 0.29181432592527695, 0.706770158180724, 0.9990034404689873, 0.9984703657663109, 0.9637330905750848, 0.9938245225681616, 0.9704879485518372, 0.9982038805371685, 0.990986702888299, 0.9946238345790244, 0.9940419679009873, 0.9916094659871392, 0.8711093700162992, 0.9897155933202066, 0.9526016424771667, 0.9977754287335802, 0.9996091178393194, 0.9947332300244006, 0.9909823237107773, 0.7978716980729167, 0.20052331036224097, 0.9770477263428656, 0.9704406873704432, 0.9914862995091068, 0.9987225347415536, 0.45991773374929457, 0.5396615343590513, 0.9684806150964469, 0.9887105539831142, 0.999129675107941, 0.9917563825719196, 0.717631345958868, 0.2746038313618117, 0.8726743693356263, 0.991688317717663, 0.9994809899503954, 0.9886295529359567, 0.9922806190966145, 0.48409493923482433, 0.4349088224141737, 0.07895666121209702, 0.991925464795996, 0.9952723962216317, 0.9965412276110018, 0.9930969295988987, 0.9871917809613543, 0.99682873397693, 0.9712190710807648, 0.9882594854466955, 0.9957374105889788, 0.9962874414564273, 0.9949079634729483, 0.31308902254547033, 0.6795454921157368, 0.992077483978226, 0.9732959126721403, 0.4599100590149772, 0.5355914611313659, 0.9667787256863424, 0.9900730399656603, 0.9933279030307185, 0.9993359948609788, 0.5508891921009432, 0.4384628263660569, 0.9997334492480584, 0.9999432431692096, 0.9161793431291364, 0.08089468532762395, 0.9988264738882479, 0.9978417770079911, 0.940049332373238, 0.05709929278118927, 0.7012257965079312, 0.29726867316200983, 0.9994019158720536, 0.8410194557423167, 0.13293984741351095, 0.023789235852944065, 0.9594948178839235, 0.9903100667557203, 0.9919698738418385, 0.9991727051369238, 0.7925303302634561, 0.20726133880348657, 0.9972043541691942, 0.9982780390968582, 0.9881961216846193, 0.9581641263902085, 0.9951949535632568, 0.9806954663278133, 0.9983375705176477, 0.33342335324519207, 0.6633735465607467, 0.838040671998959, 0.15991968786769128, 0.9977558763440528, 0.9817888850369776, 0.989023941253323, 0.9989526188863498, 0.9969390006162642, 0.32785546971839663, 0.6180881806166494, 0.05105945839876668, 0.9978089910262665, 0.9988272944125184, 0.9908910644449431, 0.46573125773635615, 0.21547741939193052, 0.3177610045463279, 0.15939614147335043, 0.8328448391982559, 0.9910590334767353, 0.9988806577310183, 0.9997366199945065, 0.9958967546696281, 0.9994939144013523, 0.7822177983961079, 0.2173109953904607, 0.9978660050296612, 0.9910474699013851, 0.3099995322373386, 0.6887737951366034, 0.9995274985162539, 0.9885524481782185, 0.972570815982995, 0.992889459481177, 0.9720549295476335, 0.527708150391564, 0.4715457072952953, 0.9937902321090082, 0.9964429128431933, 0.9925587187190937, 0.27438692759779243, 0.7228063046441847, 0.8203760427271969, 0.17884686050525944, 0.7541552328294316, 0.24500848051922022, 0.999927230767809, 0.989739684286181, 0.999718705956206, 0.9974273672746715], \"Term\": [\"a\", \"about\", \"afraid\", \"after\", \"again\", \"ai\", \"air\", \"all\", \"all\", \"alreadi\", \"am\", \"an\", \"an\", \"and\", \"angel\", \"apart\", \"are\", \"as\", \"as\", \"as\", \"ash\", \"ask\", \"asleep\", \"at\", \"at\", \"away\", \"back\", \"bad\", \"be\", \"beat\", \"been\", \"befor\", \"befor\", \"believ\", \"believ\", \"bend\", \"better\", \"big\", \"big\", \"bless\", \"bodi\", \"bone\", \"boy\", \"breath\", \"breath\", \"breath\", \"bridg\", \"burn\", \"burn\", \"busi\", \"but\", \"but\", \"but\", \"but\", \"but\", \"ca\", \"can\", \"care\", \"caus\", \"caus\", \"caus\", \"chanc\", \"chang\", \"check\", \"clear\", \"clock\", \"close\", \"coat\", \"cold\", \"color\", \"come\", \"could\", \"cri\", \"damn\", \"dare\", \"day\", \"de\", \"die\", \"differ\", \"direct\", \"do\", \"doe\", \"done\", \"door\", \"door\", \"du\", \"e\", \"em\", \"em\", \"en\", \"end\", \"end\", \"et\", \"everi\", \"everyth\", \"face\", \"fade\", \"faith\", \"feel\", \"feel\", \"find\", \"fine\", \"fire\", \"fix\", \"flesh\", \"fool\", \"for\", \"forgiv\", \"from\", \"game\", \"get\", \"girl\", \"give\", \"goe\", \"gone\", \"good\", \"good\", \"got\", \"got\", \"grey\", \"had\", \"had\", \"hand\", \"hand\", \"handl\", \"happen\", \"hard\", \"has\", \"have\", \"have\", \"hear\", \"hear\", \"heart\", \"her\", \"here\", \"him\", \"his\", \"how\", \"i\", \"if\", \"if\", \"in\", \"insid\", \"is\", \"it\", \"keep\", \"keep\", \"kid\", \"kill\", \"know\", \"la\", \"last\", \"last\", \"lay\", \"like\", \"littl\", \"live\", \"lock\", \"lone\", \"long\", \"look\", \"look\", \"loud\", \"love\", \"made\", \"make\", \"make\", \"man\", \"man\", \"man\", \"mani\", \"matter\", \"may\", \"mayb\", \"mayb\", \"me\", \"melt\", \"memori\", \"memori\", \"mess\", \"met\", \"mine\", \"mine\", \"mix\", \"more\", \"mouth\", \"much\", \"my\", \"myself\", \"n\", \"nake\", \"need\", \"need\", \"never\", \"new\", \"nigga\", \"not\", \"now\", \"now\", \"of\", \"og\", \"old\", \"on\", \"one\", \"onli\", \"or\", \"or\", \"our\", \"our\", \"out\", \"over\", \"paid\", \"pain\", \"paint\", \"pass\", \"passion\", \"place\", \"pleas\", \"poor\", \"pop\", \"pretti\", \"price\", \"put\", \"que\", \"rain\", \"readi\", \"realli\", \"realli\", \"rose\", \"sad\", \"sail\", \"say\", \"see\", \"see\", \"seed\", \"send\", \"she\", \"shine\", \"shit\", \"shit\", \"sigh\", \"smile\", \"so\", \"soil\", \"som\", \"some\", \"some\", \"some\", \"somehow\", \"someon\", \"someth\", \"sometim\", \"somewher\", \"soul\", \"space\", \"speak\", \"stand\", \"star\", \"start\", \"stay\", \"stay\", \"step\", \"stone\", \"stop\", \"stop\", \"style\", \"swear\", \"s\\u00c3\\u00a5\", \"take\", \"thank\", \"thank\", \"that\", \"the\", \"then\", \"then\", \"there\", \"these\", \"thing\", \"thing\", \"think\", \"think\", \"this\", \"through\", \"through\", \"through\", \"tie\", \"tight\", \"til\", \"time\", \"to\", \"to\", \"tonight\", \"too\", \"top\", \"torn\", \"touch\", \"treat\", \"tri\", \"true\", \"true\", \"turn\", \"turn\", \"two\", \"uh\", \"understand\", \"up\", \"use\", \"walk\", \"walk\", \"walk\", \"wanna\", \"want\", \"war\", \"was\", \"was\", \"was\", \"water\", \"water\", \"wave\", \"way\", \"we\", \"west\", \"what\", \"when\", \"when\", \"where\", \"white\", \"who\", \"who\", \"will\", \"win\", \"wing\", \"wish\", \"wit\", \"with\", \"with\", \"without\", \"wo\", \"work\", \"world\", \"world\", \"would\", \"would\", \"yeah\", \"yeah\", \"you\", \"young\", \"your\", \"yourself\"]}, \"R\": 30, \"lambda.step\": 0.01, \"plot.opts\": {\"xlab\": \"PC1\", \"ylab\": \"PC2\"}, \"topic.order\": [3, 5, 16, 20, 6, 8, 17, 1, 18, 12, 19, 15, 14, 2, 9, 11, 13, 10, 4, 7]};\n\nfunction LDAvis_load_lib(url, callback){\n  var s = document.createElement('script');\n  s.src = url;\n  s.async = true;\n  s.onreadystatechange = s.onload = callback;\n  s.onerror = function(){console.warn(\"failed to load library \" + url);};\n  document.getElementsByTagName(\"head\")[0].appendChild(s);\n}\n\nif(typeof(LDAvis) !== \"undefined\"){\n   // already loaded: just create the visualization\n   !function(LDAvis){\n       new LDAvis(\"#\" + \"ldavis_el872431262203426568833616059\", ldavis_el872431262203426568833616059_data);\n   }(LDAvis);\n}else if(typeof define === \"function\" && define.amd){\n   // require.js is available: use it to load d3/LDAvis\n   require.config({paths: {d3: \"https://d3js.org/d3.v5\"}});\n   require([\"d3\"], function(d3){\n      window.d3 = d3;\n      LDAvis_load_lib(\"https://cdn.jsdelivr.net/gh/bmabey/pyLDAvis@3.3.1/pyLDAvis/js/ldavis.v3.0.0.js\", function(){\n        new LDAvis(\"#\" + \"ldavis_el872431262203426568833616059\", ldavis_el872431262203426568833616059_data);\n      });\n    });\n}else{\n    // require.js not available: dynamically load d3 & LDAvis\n    LDAvis_load_lib(\"https://d3js.org/d3.v5.js\", function(){\n         LDAvis_load_lib(\"https://cdn.jsdelivr.net/gh/bmabey/pyLDAvis@3.3.1/pyLDAvis/js/ldavis.v3.0.0.js\", function(){\n                 new LDAvis(\"#\" + \"ldavis_el872431262203426568833616059\", ldavis_el872431262203426568833616059_data);\n            })\n         });\n}\n</script>"
     },
     "execution_count": 19,
     "metadata": {},
     "output_type": "execute_result"
    }
   ],
   "source": [
    "pyLDAvis.enable_notebook()\n",
    "pyLDAvis.gensim_models.prepare(mxm_lda_model, mxm_corpus, mxm_lda_model.id2word)"
   ],
   "metadata": {
    "collapsed": false,
    "pycharm": {
     "name": "#%%\n"
    }
   }
  },
  {
   "cell_type": "markdown",
   "source": [
    "## Calculate Topics for Lyrics"
   ],
   "metadata": {
    "collapsed": false
   }
  },
  {
   "cell_type": "markdown",
   "source": [
    "Topic interpreatation based on LDA visualisation."
   ],
   "metadata": {
    "collapsed": false
   }
  },
  {
   "cell_type": "code",
   "execution_count": 20,
   "outputs": [],
   "source": [
    "topic_names = {\n",
    "    0 : 'Love',\n",
    "    1 : 'Crime',\n",
    "    2 : 'Crime / Party',\n",
    "    3 : 'Christmas',\n",
    "    4 : '',\n",
    "    5 : '',\n",
    "    6 : '',\n",
    "    7 : '',\n",
    "    8 : '',\n",
    "    9 : '',\n",
    "}"
   ],
   "metadata": {
    "collapsed": false,
    "pycharm": {
     "name": "#%%\n"
    }
   }
  },
  {
   "cell_type": "code",
   "execution_count": 21,
   "outputs": [
    {
     "ename": "NameError",
     "evalue": "name 'lda_model' is not defined",
     "output_type": "error",
     "traceback": [
      "\u001B[1;31m---------------------------------------------------------------------------\u001B[0m",
      "\u001B[1;31mNameError\u001B[0m                                 Traceback (most recent call last)",
      "\u001B[1;32m~\\AppData\\Local\\Temp/ipykernel_8724/4180610817.py\u001B[0m in \u001B[0;36m<module>\u001B[1;34m\u001B[0m\n\u001B[1;32m----> 1\u001B[1;33m \u001B[1;32mdef\u001B[0m \u001B[0mget_topics\u001B[0m\u001B[1;33m(\u001B[0m\u001B[0mindex\u001B[0m\u001B[1;33m,\u001B[0m \u001B[0mlda_corpus\u001B[0m \u001B[1;33m=\u001B[0m \u001B[0mlda_model\u001B[0m\u001B[1;33m[\u001B[0m\u001B[0mcorpus\u001B[0m\u001B[1;33m]\u001B[0m\u001B[1;33m)\u001B[0m\u001B[1;33m:\u001B[0m\u001B[1;33m\u001B[0m\u001B[1;33m\u001B[0m\u001B[0m\n\u001B[0m\u001B[0;32m      2\u001B[0m     \u001B[0mtopics\u001B[0m \u001B[1;33m=\u001B[0m \u001B[1;33m{\u001B[0m\u001B[1;33m}\u001B[0m\u001B[1;33m\u001B[0m\u001B[1;33m\u001B[0m\u001B[0m\n\u001B[0;32m      3\u001B[0m     \u001B[1;32mfor\u001B[0m \u001B[0mlda_tuple\u001B[0m \u001B[1;32min\u001B[0m \u001B[0mlda_corpus\u001B[0m\u001B[1;33m[\u001B[0m\u001B[0mindex\u001B[0m\u001B[1;33m]\u001B[0m\u001B[1;33m:\u001B[0m\u001B[1;33m\u001B[0m\u001B[1;33m\u001B[0m\u001B[0m\n\u001B[0;32m      4\u001B[0m         \u001B[0mtopics\u001B[0m\u001B[1;33m[\u001B[0m\u001B[0mlda_tuple\u001B[0m\u001B[1;33m[\u001B[0m\u001B[1;36m0\u001B[0m\u001B[1;33m]\u001B[0m\u001B[1;33m]\u001B[0m \u001B[1;33m=\u001B[0m \u001B[0mlda_tuple\u001B[0m\u001B[1;33m[\u001B[0m\u001B[1;36m1\u001B[0m\u001B[1;33m]\u001B[0m\u001B[1;33m\u001B[0m\u001B[1;33m\u001B[0m\u001B[0m\n\u001B[0;32m      5\u001B[0m     \u001B[1;32mreturn\u001B[0m \u001B[0mdict\u001B[0m\u001B[1;33m(\u001B[0m\u001B[0msorted\u001B[0m\u001B[1;33m(\u001B[0m\u001B[0mtopics\u001B[0m\u001B[1;33m.\u001B[0m\u001B[0mitems\u001B[0m\u001B[1;33m(\u001B[0m\u001B[1;33m)\u001B[0m\u001B[1;33m,\u001B[0m \u001B[0mkey\u001B[0m\u001B[1;33m=\u001B[0m\u001B[1;32mlambda\u001B[0m \u001B[0mitem\u001B[0m\u001B[1;33m:\u001B[0m \u001B[0mitem\u001B[0m\u001B[1;33m[\u001B[0m\u001B[1;36m1\u001B[0m\u001B[1;33m]\u001B[0m\u001B[1;33m,\u001B[0m \u001B[0mreverse\u001B[0m\u001B[1;33m=\u001B[0m\u001B[1;32mTrue\u001B[0m\u001B[1;33m)\u001B[0m\u001B[1;33m)\u001B[0m\u001B[1;33m\u001B[0m\u001B[1;33m\u001B[0m\u001B[0m\n",
      "\u001B[1;31mNameError\u001B[0m: name 'lda_model' is not defined"
     ]
    }
   ],
   "source": [
    "def get_topics(index, lda_corpus = lda_model[corpus]):\n",
    "    topics = {}\n",
    "    for lda_tuple in lda_corpus[index]:\n",
    "        topics[lda_tuple[0]] = lda_tuple[1]\n",
    "    return dict(sorted(topics.items(), key=lambda item: item[1], reverse=True))"
   ],
   "metadata": {
    "collapsed": false,
    "pycharm": {
     "name": "#%%\n"
    }
   }
  },
  {
   "cell_type": "code",
   "execution_count": null,
   "outputs": [],
   "source": [
    "def get_topics_str(topics):\n",
    "    return [topic_names[topic] for topic in topics.keys()]"
   ],
   "metadata": {
    "collapsed": false,
    "pycharm": {
     "name": "#%%\n"
    }
   }
  },
  {
   "cell_type": "code",
   "execution_count": null,
   "outputs": [],
   "source": [
    "lyrics['topics'] = [get_topics(i) for i in range(0, len(lyrics))]\n",
    "lyrics['top_topic'] = lyrics['topics'].apply(lambda topic: list(topic.keys())[0])\n",
    "# lyrics['topics_str'] = lyrics['topics'].apply(lambda topics: [topic_names[topic] for topic in topics.keys()])\n",
    "# lyrics['top_topic_str'] = lyrics['top_topic'].apply(lambda topic: topic_names[topic])\n",
    "# lyrics[['topics', 'topics_str', 'top_topic', 'top_topic_str']]\n",
    "lyrics[['topics', 'top_topic']]"
   ],
   "metadata": {
    "collapsed": false,
    "pycharm": {
     "name": "#%%\n"
    }
   }
  },
  {
   "cell_type": "code",
   "execution_count": null,
   "outputs": [],
   "source": [
    "# lyrics_topics = lyrics[\n",
    "#     ['billboard_id', 'lyrics_id', 'artist', 'song', 'weeks_on_chart', 'peak_rank', 'lyrics', 'url', 'first_appearance',\n",
    "#      'release_date', 'topics', 'top_topic', 'top_topic_str', 'topics_str']]\n",
    "lyrics_topics = lyrics[\n",
    "    ['billboard_id', 'lyrics_id', 'artist', 'song', 'weeks_on_chart', 'peak_rank', 'lyrics', 'url', 'first_appearance',\n",
    "     'release_date', 'topics', 'top_topic']]\n",
    "lyrics_topics.to_excel('../../data/topic_modeling/bb_t100_sentiment.xlsx')"
   ],
   "metadata": {
    "collapsed": false,
    "pycharm": {
     "name": "#%%\n"
    }
   }
  }
 ],
 "metadata": {
  "kernelspec": {
   "name": "python3",
   "language": "python",
   "display_name": "Python 3"
  },
  "language_info": {
   "codemirror_mode": {
    "name": "ipython",
    "version": 3
   },
   "file_extension": ".py",
   "mimetype": "text/x-python",
   "name": "python",
   "nbconvert_exporter": "python",
   "pygments_lexer": "ipython3",
   "version": "3.8.6"
  }
 },
 "nbformat": 4,
 "nbformat_minor": 1
}