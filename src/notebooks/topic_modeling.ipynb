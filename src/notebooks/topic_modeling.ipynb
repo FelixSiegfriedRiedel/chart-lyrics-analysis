{
 "cells": [
  {
   "cell_type": "markdown",
   "metadata": {},
   "source": [
    "# Topic Modeling"
   ]
  },
  {
   "cell_type": "markdown",
   "metadata": {},
   "source": [
    "## Import"
   ]
  },
  {
   "cell_type": "code",
   "execution_count": 1,
   "metadata": {
    "collapsed": true
   },
   "outputs": [
    {
     "name": "stdout",
     "output_type": "stream",
     "text": [
      "../../data/lyrics/artist_song_lyrics.csv\n",
      "../../data/lyrics/artist_song_lyrics_new.csv\n",
      "../../data/lyrics/bb-t100-lyrics.csv\n",
      "../../data/lyrics/bb_t100_lyrics_en.csv\n",
      "../../data/lyrics/bb_t100_lyrics_en_v2.csv\n",
      "../../data/lyrics/corona-lyrics.csv\n",
      "../../data/lyrics/covid_lyrics_bb.csv\n",
      "../../data/lyrics/lyrics_invalid.json\n",
      "../../data/lyrics/lyrics_invalid_updated.csv\n",
      "../../data/lyrics/backups/artist_song_lyrics_bak.csv\n",
      "../../data/lyrics/backups/bb-t100-lyrics.csv\n",
      "../../data/lyrics/backups/bb-t100-lyrics_new.csv\n",
      "../../data/lyrics/backups/bb-t100-lyrics_old.csv\n",
      "../../data/lyrics/backups/bb_t100_lyrics_en.csv\n",
      "../../data/lyrics/backups/bb_t100_lyrics_en_v1.csv\n",
      "../../data/lyrics/backups/bb_t100_lyrics_en_v2.csv\n",
      "../../data/lyrics/backups/bb_t100_lyrics_en_v3.csv\n",
      "../../data/lyrics/backups/corona-lyrics.csv\n",
      "../../data/lyrics/backups/lyrics_invalid_updated.csv\n",
      "--------------------------------------------------\n",
      "../../data/billboard/bb_t100_en.csv\n",
      "../../data/billboard/billboard.csv\n",
      "../../data/billboard/billboard_top_100_2020.csv\n",
      "../../data/billboard/backups/bb-t100_backup.csv\n"
     ]
    }
   ],
   "source": [
    "import numpy as np  # linear algebra\n",
    "import pandas as pd  # data processing, CSV file I/O (e.g. pd.read_csv)\n",
    "import matplotlib.pyplot as plt\n",
    "import matplotlib.dates\n",
    "import seaborn as sns\n",
    "import os\n",
    "from src.progress_bar import printProgressBar\n",
    "from ast import literal_eval\n",
    "import gensim\n",
    "\n",
    "for dirname, _, filenames in os.walk('../../data/lyrics'):\n",
    "    for filename in filenames:\n",
    "        print(os.path.join(dirname, filename).replace(\"\\\\\", \"/\"))\n",
    "\n",
    "print(50 * '-')\n",
    "\n",
    "for dirname, _, filenames in os.walk('../../data/billboard'):\n",
    "    for filename in filenames:\n",
    "        print(os.path.join(dirname, filename).replace(\"\\\\\", \"/\"))"
   ]
  },
  {
   "cell_type": "markdown",
   "metadata": {},
   "source": [
    "## Loading Data"
   ]
  },
  {
   "cell_type": "markdown",
   "metadata": {},
   "source": [
    "## Lyrics"
   ]
  },
  {
   "cell_type": "code",
   "execution_count": 6,
   "metadata": {
    "pycharm": {
     "name": "#%%\n"
    }
   },
   "outputs": [
    {
     "data": {
      "text/html": [
       "<div>\n",
       "<style scoped>\n",
       "    .dataframe tbody tr th:only-of-type {\n",
       "        vertical-align: middle;\n",
       "    }\n",
       "\n",
       "    .dataframe tbody tr th {\n",
       "        vertical-align: top;\n",
       "    }\n",
       "\n",
       "    .dataframe thead th {\n",
       "        text-align: right;\n",
       "    }\n",
       "</style>\n",
       "<table border=\"1\" class=\"dataframe\">\n",
       "  <thead>\n",
       "    <tr style=\"text-align: right;\">\n",
       "      <th></th>\n",
       "      <th>billboard_id</th>\n",
       "      <th>lyrics_id</th>\n",
       "      <th>artist</th>\n",
       "      <th>first_artist</th>\n",
       "      <th>song</th>\n",
       "      <th>weeks_on_chart</th>\n",
       "      <th>peak_rank</th>\n",
       "      <th>genius_id</th>\n",
       "      <th>lyrics</th>\n",
       "      <th>url</th>\n",
       "      <th>...</th>\n",
       "      <th>word_count</th>\n",
       "      <th>language</th>\n",
       "      <th>language_score</th>\n",
       "      <th>first_appearance</th>\n",
       "      <th>genius_primary_artist</th>\n",
       "      <th>genius_description</th>\n",
       "      <th>genius_annotations</th>\n",
       "      <th>genius_comments</th>\n",
       "      <th>release_date</th>\n",
       "      <th>annotation_ids</th>\n",
       "    </tr>\n",
       "  </thead>\n",
       "  <tbody>\n",
       "    <tr>\n",
       "      <th>0</th>\n",
       "      <td>0</td>\n",
       "      <td>0</td>\n",
       "      <td>Ariana Grande</td>\n",
       "      <td>Ariana Grande</td>\n",
       "      <td>Thank U, Next</td>\n",
       "      <td>28.0</td>\n",
       "      <td>1.0</td>\n",
       "      <td>4063065</td>\n",
       "      <td>Thought I'd end up with Sean\\nBut he wasn't a ...</td>\n",
       "      <td>https://genius.com/Ariana-grande-thank-u-next-...</td>\n",
       "      <td>...</td>\n",
       "      <td>460</td>\n",
       "      <td>en</td>\n",
       "      <td>0.999997</td>\n",
       "      <td>2019-01-05</td>\n",
       "      <td>Ariana Grande</td>\n",
       "      <td>On the lead single and titular track to her fi...</td>\n",
       "      <td>[(One taught me love\\n One taught me patience\\...</td>\n",
       "      <td>[The Mac shoutout has me fully in tears, this ...</td>\n",
       "      <td>2018-11-03</td>\n",
       "      <td>['15720075', '15720076', '15720054', '15720247...</td>\n",
       "    </tr>\n",
       "    <tr>\n",
       "      <th>1</th>\n",
       "      <td>1</td>\n",
       "      <td>1</td>\n",
       "      <td>Halsey</td>\n",
       "      <td>Halsey</td>\n",
       "      <td>Without Me</td>\n",
       "      <td>52.0</td>\n",
       "      <td>1.0</td>\n",
       "      <td>3977187</td>\n",
       "      <td>Found you when your heart was broke\\nI filled ...</td>\n",
       "      <td>https://genius.com/Halsey-without-me-lyrics</td>\n",
       "      <td>...</td>\n",
       "      <td>435</td>\n",
       "      <td>en</td>\n",
       "      <td>0.999995</td>\n",
       "      <td>2019-01-05</td>\n",
       "      <td>Halsey</td>\n",
       "      <td>“Without Me” is the first new song released by...</td>\n",
       "      <td>[(Gave love ’bout a hundred tries (Hundred tri...</td>\n",
       "      <td>[The queen is ready to snatch our wigs once ag...</td>\n",
       "      <td>2018-10-04</td>\n",
       "      <td>['15517989', '15520369', '15518283', '15518820...</td>\n",
       "    </tr>\n",
       "    <tr>\n",
       "      <th>2</th>\n",
       "      <td>2</td>\n",
       "      <td>2</td>\n",
       "      <td>Mariah Carey</td>\n",
       "      <td>Mariah Carey</td>\n",
       "      <td>All I Want For Christmas Is You</td>\n",
       "      <td>43.0</td>\n",
       "      <td>1.0</td>\n",
       "      <td>204233</td>\n",
       "      <td>I don't want a lot for Christmas\\nThere is jus...</td>\n",
       "      <td>https://genius.com/Mariah-carey-all-i-want-for...</td>\n",
       "      <td>...</td>\n",
       "      <td>388</td>\n",
       "      <td>en</td>\n",
       "      <td>0.999996</td>\n",
       "      <td>2019-01-05</td>\n",
       "      <td>Mariah Carey</td>\n",
       "      <td>“All I Want For Christmas Is You” is an uptemp...</td>\n",
       "      <td>[(I don’t need to hang my stocking\\n There upo...</td>\n",
       "      <td>[i really like this song, it’s about that time...</td>\n",
       "      <td>1994-11-01</td>\n",
       "      <td>['8393500', '8393500', '21611023', '8393500', ...</td>\n",
       "    </tr>\n",
       "    <tr>\n",
       "      <th>3</th>\n",
       "      <td>3</td>\n",
       "      <td>3</td>\n",
       "      <td>Travis Scott</td>\n",
       "      <td>Travis Scott</td>\n",
       "      <td>Sicko Mode</td>\n",
       "      <td>52.0</td>\n",
       "      <td>1.0</td>\n",
       "      <td>3876994</td>\n",
       "      <td>Astro, yeah\\nSun is down, freezin' cold\\nThat'...</td>\n",
       "      <td>https://genius.com/Travis-scott-sicko-mode-lyrics</td>\n",
       "      <td>...</td>\n",
       "      <td>771</td>\n",
       "      <td>en</td>\n",
       "      <td>0.999998</td>\n",
       "      <td>2019-01-05</td>\n",
       "      <td>Travis Scott</td>\n",
       "      <td>“SICKO MODE” refers to Travis and Drake’s work...</td>\n",
       "      <td>[(She’s in love with who I am, [['Since Drake ...</td>\n",
       "      <td>[HAD ME OUT LIKE A LIGHT (ayy) LIKE A LIGHT (y...</td>\n",
       "      <td>2018-08-03</td>\n",
       "      <td>['15114078', '17948214', '15113868', '15113778...</td>\n",
       "    </tr>\n",
       "    <tr>\n",
       "      <th>4</th>\n",
       "      <td>4</td>\n",
       "      <td>4</td>\n",
       "      <td>Post Malone &amp; Swae Lee</td>\n",
       "      <td>Post Malone</td>\n",
       "      <td>Sunflower (Spider-Man: Into The Spider-Verse)</td>\n",
       "      <td>53.0</td>\n",
       "      <td>1.0</td>\n",
       "      <td>3993850</td>\n",
       "      <td>Ayy, ayy, ayy, ayy (Ooh)\\nOoh, ooh, ooh, ooh (...</td>\n",
       "      <td>https://genius.com/Post-malone-and-swae-lee-su...</td>\n",
       "      <td>...</td>\n",
       "      <td>305</td>\n",
       "      <td>en</td>\n",
       "      <td>0.999997</td>\n",
       "      <td>2019-01-05</td>\n",
       "      <td>Post Malone &amp; Swae Lee</td>\n",
       "      <td>“Sunflower” marks the second collaboration by ...</td>\n",
       "      <td>[(Then you’re left in the dust, unless I stuck...</td>\n",
       "      <td>[Me enjoying “Sunflower” and someone then inte...</td>\n",
       "      <td>2018-10-18</td>\n",
       "      <td>['16057378', '16057378']</td>\n",
       "    </tr>\n",
       "  </tbody>\n",
       "</table>\n",
       "<p>5 rows × 21 columns</p>\n",
       "</div>"
      ],
      "text/plain": [
       "   billboard_id  lyrics_id                  artist   first_artist  \\\n",
       "0             0          0           Ariana Grande  Ariana Grande   \n",
       "1             1          1                  Halsey         Halsey   \n",
       "2             2          2            Mariah Carey   Mariah Carey   \n",
       "3             3          3            Travis Scott   Travis Scott   \n",
       "4             4          4  Post Malone & Swae Lee    Post Malone   \n",
       "\n",
       "                                            song  weeks_on_chart  peak_rank  \\\n",
       "0                                  Thank U, Next            28.0        1.0   \n",
       "1                                     Without Me            52.0        1.0   \n",
       "2                All I Want For Christmas Is You            43.0        1.0   \n",
       "3                                     Sicko Mode            52.0        1.0   \n",
       "4  Sunflower (Spider-Man: Into The Spider-Verse)            53.0        1.0   \n",
       "\n",
       "   genius_id                                             lyrics  \\\n",
       "0    4063065  Thought I'd end up with Sean\\nBut he wasn't a ...   \n",
       "1    3977187  Found you when your heart was broke\\nI filled ...   \n",
       "2     204233  I don't want a lot for Christmas\\nThere is jus...   \n",
       "3    3876994  Astro, yeah\\nSun is down, freezin' cold\\nThat'...   \n",
       "4    3993850  Ayy, ayy, ayy, ayy (Ooh)\\nOoh, ooh, ooh, ooh (...   \n",
       "\n",
       "                                                 url  ...  word_count  \\\n",
       "0  https://genius.com/Ariana-grande-thank-u-next-...  ...         460   \n",
       "1        https://genius.com/Halsey-without-me-lyrics  ...         435   \n",
       "2  https://genius.com/Mariah-carey-all-i-want-for...  ...         388   \n",
       "3  https://genius.com/Travis-scott-sicko-mode-lyrics  ...         771   \n",
       "4  https://genius.com/Post-malone-and-swae-lee-su...  ...         305   \n",
       "\n",
       "   language language_score  first_appearance   genius_primary_artist  \\\n",
       "0        en       0.999997        2019-01-05           Ariana Grande   \n",
       "1        en       0.999995        2019-01-05                  Halsey   \n",
       "2        en       0.999996        2019-01-05            Mariah Carey   \n",
       "3        en       0.999998        2019-01-05            Travis Scott   \n",
       "4        en       0.999997        2019-01-05  Post Malone & Swae Lee   \n",
       "\n",
       "                                  genius_description  \\\n",
       "0  On the lead single and titular track to her fi...   \n",
       "1  “Without Me” is the first new song released by...   \n",
       "2  “All I Want For Christmas Is You” is an uptemp...   \n",
       "3  “SICKO MODE” refers to Travis and Drake’s work...   \n",
       "4  “Sunflower” marks the second collaboration by ...   \n",
       "\n",
       "                                  genius_annotations  \\\n",
       "0  [(One taught me love\\n One taught me patience\\...   \n",
       "1  [(Gave love ’bout a hundred tries (Hundred tri...   \n",
       "2  [(I don’t need to hang my stocking\\n There upo...   \n",
       "3  [(She’s in love with who I am, [['Since Drake ...   \n",
       "4  [(Then you’re left in the dust, unless I stuck...   \n",
       "\n",
       "                                     genius_comments release_date  \\\n",
       "0  [The Mac shoutout has me fully in tears, this ...   2018-11-03   \n",
       "1  [The queen is ready to snatch our wigs once ag...   2018-10-04   \n",
       "2  [i really like this song, it’s about that time...   1994-11-01   \n",
       "3  [HAD ME OUT LIKE A LIGHT (ayy) LIKE A LIGHT (y...   2018-08-03   \n",
       "4  [Me enjoying “Sunflower” and someone then inte...   2018-10-18   \n",
       "\n",
       "                                      annotation_ids  \n",
       "0  ['15720075', '15720076', '15720054', '15720247...  \n",
       "1  ['15517989', '15520369', '15518283', '15518820...  \n",
       "2  ['8393500', '8393500', '21611023', '8393500', ...  \n",
       "3  ['15114078', '17948214', '15113868', '15113778...  \n",
       "4                           ['16057378', '16057378']  \n",
       "\n",
       "[5 rows x 21 columns]"
      ]
     },
     "execution_count": 6,
     "metadata": {},
     "output_type": "execute_result"
    }
   ],
   "source": [
    "lyrics = pd.read_csv('../../data/lyrics/bb_t100_lyrics_en.csv', index_col=0, encoding='utf-8')\n",
    "lyrics['first_appearance'] = pd.to_datetime(lyrics['first_appearance'], format='%Y-%m-%d')\n",
    "lyrics['release_date'] = pd.to_datetime(lyrics['release_date'], format='%Y-%m-%d')\n",
    "lyrics['genius_annotations'] = lyrics['genius_annotations'].apply(literal_eval)\n",
    "lyrics['genius_comments'] = lyrics['genius_comments'].apply(literal_eval)\n",
    "lyrics.head()"
   ]
  },
  {
   "cell_type": "code",
   "execution_count": 7,
   "metadata": {
    "pycharm": {
     "name": "#%%\n"
    }
   },
   "outputs": [],
   "source": [
    "import spacy\n",
    "nlp = spacy.load(\"en_core_web_lg\")\n",
    "nlp.Defaults.stop_words |= {'ai', 'gon', '\\u2005'}"
   ]
  },
  {
   "cell_type": "code",
   "execution_count": 103,
   "metadata": {
    "pycharm": {
     "name": "#%%\n"
    }
   },
   "outputs": [],
   "source": [
    "def preprocessing(text):\n",
    "    lines = text.split('\\n')\n",
    "    lines_unique_list = []\n",
    "    for line in lines:\n",
    "        if len(line) == 0:\n",
    "            continue\n",
    "        if line not in lines_unique_list:\n",
    "            lines_unique_list.append(line)\n",
    "    lines_unique = \" \".join(lines_unique_list)\n",
    "    return gensim.utils.simple_preprocess(lines_unique, deacc=True)\n",
    "\n",
    "def remove_stop_words(docs):\n",
    "    docs_new = []\n",
    "    for doc in docs:\n",
    "        doc_new = []\n",
    "        for token in doc:\n",
    "            if token not in nlp.Defaults.stop_words:\n",
    "                doc_new.append(token)\n",
    "        docs_new.append(doc_new)\n",
    "    return docs_new\n",
    "\n",
    "bigram = gensim.models.Phrases(docs, min_count=5, threshold=100) # higher threshold fewer phrases.\n",
    "trigram = gensim.models.Phrases(bigram[docs], threshold=100)\n",
    "\n",
    "bigram_model = gensim.models.phrases.Phraser(bigram)\n",
    "trigram_model = gensim.models.phrases.Phraser(trigram)\n",
    "\n",
    "def make_bigrams(docs):\n",
    "    return [bigram_model[doc] for doc in docs]\n",
    "\n",
    "def make_trigrams(docs):\n",
    "    return [trigram_model[bigram_model[doc]] for doc in docs]\n",
    "\n",
    "def lemmatize(docs, pos_tags=[\"NOUN\", \"ADJ\", \"VERB\", \"ADV\"]):\n",
    "    i = 0\n",
    "    l = len(docs)\n",
    "    printProgressBar(i, l, prefix='Progress:', suffix='Complete', length=50)\n",
    "    new_docs = []\n",
    "    for doc in docs:\n",
    "        new_doc = []\n",
    "        text = \" \".join(doc)\n",
    "        doc = nlp(text)\n",
    "        for token in doc:\n",
    "            if token.pos_ in pos_tags:\n",
    "                new_doc.append(token.lemma_)\n",
    "        new_docs.append(new_doc)\n",
    "        i+=1\n",
    "        printProgressBar(i, l, prefix='Progress:', suffix='Complete', length=50)\n",
    "    return new_docs\n"
   ]
  },
  {
   "cell_type": "code",
   "execution_count": 110,
   "metadata": {
    "pycharm": {
     "name": "#%%\n"
    }
   },
   "outputs": [
    {
     "name": "stdout",
     "output_type": "stream",
     "text": [
      "Progress: |██████████████████████████████████████████████████| 100.0% Complete\r\n"
     ]
    }
   ],
   "source": [
    "docs = [preprocessing(text) for text in lyrics['lyrics']]\n",
    "docs = remove_stop_words(docs)\n",
    "docs_bigrams = make_bigrams(docs)\n",
    "docs_bigrams_trigrams = make_trigrams(docs_bigrams)\n",
    "docs_lemma = lemmatize(docs_bigrams)"
   ]
  },
  {
   "cell_type": "code",
   "execution_count": 111,
   "metadata": {
    "pycharm": {
     "name": "#%%\n"
    }
   },
   "outputs": [],
   "source": [
    "import pyperclip\n",
    "pyperclip.copy(str(docs_lemma))"
   ]
  },
  {
   "cell_type": "code",
   "execution_count": 163,
   "metadata": {
    "pycharm": {
     "name": "#%%\n"
    }
   },
   "outputs": [],
   "source": [
    "import gensim.corpora as corpora\n",
    "\n",
    "id2word_old = corpora.Dictionary(docs_bigrams_trigrams)\n",
    "corpus_old = []\n",
    "for doc in docs_bigrams_trigrams:\n",
    "    corpus_old.append((id2word_old.doc2bow(doc)))"
   ]
  },
  {
   "cell_type": "code",
   "execution_count": 208,
   "metadata": {
    "pycharm": {
     "name": "#%%\n"
    }
   },
   "outputs": [
    {
     "name": "stdout",
     "output_type": "stream",
     "text": [
      "ain, cause, good, got, know, said, wish, yeah, don, feel, feelin, live, oh, right, come, lot, send, stay, want, big, bitches, like, ma, niggas, think, way, gotta, left, couldn, hate, okay, kiss, hard, help, car, nigga, ass, bet, blow, money, whip, drop, black, neck, low, hand, pretty, game, miss, racks, sit\n"
     ]
    }
   ],
   "source": [
    "from gensim.models import TfidfModel\n",
    "\n",
    "texts = docs_bigrams_trigrams\n",
    "id2word = corpora.Dictionary(texts)\n",
    "corpus = [id2word.doc2bow(text) for text in texts]\n",
    "\n",
    "tfidf = TfidfModel(corpus, id2word=id2word)\n",
    "\n",
    "low_value= 0.05\n",
    "words = []\n",
    "words_missing_in_tfidf = []\n",
    "\n",
    "for i in range(0, len(corpus)):\n",
    "    bow = corpus[i]\n",
    "    low_value_words = []\n",
    "    tfidf_ids = [tfidf_id for tfidf_id, tfidf_value in tfidf[bow]]\n",
    "    bow_ids = [bow_id for bow_id, bow_value in bow]\n",
    "    low_value_words = [tfidf_id for tfidf_id, tfidf_value in tfidf[bow] if tfidf_value < low_value]\n",
    "    drops = low_value_words+words_missing_in_tfidf\n",
    "    for item in drops:\n",
    "        words.append(id2word[item])\n",
    "    words_missing_in_tfidf = [bow_id for bow_id in bow_ids if bow_id not in tfidf_ids]\n",
    "    new_bow = [b for b in bow if b[0] not in low_value_words and b[0] not in words_missing_in_tfidf]\n",
    "    corpus[i] = new_bow\n",
    "\n",
    "output = []\n",
    "for word_id in drops:\n",
    "    output.append(id2word[word_id])\n",
    "print(\", \".join(output))"
   ]
  },
  {
   "cell_type": "code",
   "execution_count": 211,
   "metadata": {
    "pycharm": {
     "name": "#%%\n"
    }
   },
   "outputs": [
    {
     "ename": "AttributeError",
     "evalue": "'list' object has no attribute 'num_terms'",
     "output_type": "error",
     "traceback": [
      "\u001B[1;31m---------------------------------------------------------------------------\u001B[0m",
      "\u001B[1;31mAttributeError\u001B[0m                            Traceback (most recent call last)",
      "\u001B[1;32m~\\AppData\\Local\\Temp/ipykernel_3900/1269145401.py\u001B[0m in \u001B[0;36m<module>\u001B[1;34m\u001B[0m\n\u001B[0;32m      2\u001B[0m \u001B[1;33m\u001B[0m\u001B[0m\n\u001B[0;32m      3\u001B[0m \u001B[1;31m# convert corpus to a dense array, transpose because by default documents would be columns\u001B[0m\u001B[1;33m\u001B[0m\u001B[1;33m\u001B[0m\u001B[1;33m\u001B[0m\u001B[0m\n\u001B[1;32m----> 4\u001B[1;33m \u001B[0mnp_corpus\u001B[0m \u001B[1;33m=\u001B[0m \u001B[0mgensim\u001B[0m\u001B[1;33m.\u001B[0m\u001B[0mmatutils\u001B[0m\u001B[1;33m.\u001B[0m\u001B[0mcorpus2dense\u001B[0m\u001B[1;33m(\u001B[0m\u001B[0mcorpus\u001B[0m\u001B[1;33m,\u001B[0m \u001B[0mcorpus\u001B[0m\u001B[1;33m.\u001B[0m\u001B[0mnum_terms\u001B[0m\u001B[1;33m,\u001B[0m \u001B[0mnum_docs\u001B[0m\u001B[1;33m=\u001B[0m\u001B[0mcorpus\u001B[0m\u001B[1;33m.\u001B[0m\u001B[0mnum_docs\u001B[0m\u001B[1;33m)\u001B[0m\u001B[1;33m.\u001B[0m\u001B[0mT\u001B[0m\u001B[1;33m\u001B[0m\u001B[1;33m\u001B[0m\u001B[0m\n\u001B[0m\u001B[0;32m      5\u001B[0m \u001B[1;31m# delete columns for specified tokens, transpose back afterwards\u001B[0m\u001B[1;33m\u001B[0m\u001B[1;33m\u001B[0m\u001B[1;33m\u001B[0m\u001B[0m\n\u001B[0;32m      6\u001B[0m \u001B[0mnp_corpus\u001B[0m \u001B[1;33m=\u001B[0m \u001B[0mnp\u001B[0m\u001B[1;33m.\u001B[0m\u001B[0mdelete\u001B[0m\u001B[1;33m(\u001B[0m\u001B[0mnp_corpus\u001B[0m\u001B[1;33m,\u001B[0m \u001B[0mdrops\u001B[0m\u001B[1;33m,\u001B[0m \u001B[1;36m1\u001B[0m\u001B[1;33m)\u001B[0m\u001B[1;33m.\u001B[0m\u001B[0mT\u001B[0m\u001B[1;33m\u001B[0m\u001B[1;33m\u001B[0m\u001B[0m\n",
      "\u001B[1;31mAttributeError\u001B[0m: 'list' object has no attribute 'num_terms'"
     ]
    }
   ],
   "source": [
    "id2word.filter_tokens(bad_ids=drops)\n"
   ]
  },
  {
   "cell_type": "code",
   "execution_count": 210,
   "metadata": {
    "pycharm": {
     "name": "#%%\n"
    }
   },
   "outputs": [
    {
     "ename": "IndexError",
     "evalue": "index 16140 is out of bounds for axis 1 with size 16140",
     "output_type": "error",
     "traceback": [
      "\u001B[1;31m---------------------------------------------------------------------------\u001B[0m",
      "\u001B[1;31mIndexError\u001B[0m                                Traceback (most recent call last)",
      "\u001B[1;32m~\\AppData\\Local\\Temp/ipykernel_3900/37159413.py\u001B[0m in \u001B[0;36m<module>\u001B[1;34m\u001B[0m\n\u001B[1;32m----> 1\u001B[1;33m lda_model_new = gensim.models.ldamodel.LdaModel(corpus=corpus,\n\u001B[0m\u001B[0;32m      2\u001B[0m                                             \u001B[0mid2word\u001B[0m\u001B[1;33m=\u001B[0m\u001B[0mid2word\u001B[0m\u001B[1;33m,\u001B[0m\u001B[1;33m\u001B[0m\u001B[1;33m\u001B[0m\u001B[0m\n\u001B[0;32m      3\u001B[0m                                             \u001B[0mnum_topics\u001B[0m\u001B[1;33m=\u001B[0m\u001B[1;36m10\u001B[0m\u001B[1;33m,\u001B[0m\u001B[1;33m\u001B[0m\u001B[1;33m\u001B[0m\u001B[0m\n\u001B[0;32m      4\u001B[0m                                             \u001B[0mupdate_every\u001B[0m\u001B[1;33m=\u001B[0m\u001B[1;36m1\u001B[0m\u001B[1;33m,\u001B[0m\u001B[1;33m\u001B[0m\u001B[1;33m\u001B[0m\u001B[0m\n\u001B[0;32m      5\u001B[0m                                             \u001B[0mchunksize\u001B[0m\u001B[1;33m=\u001B[0m\u001B[1;36m100\u001B[0m\u001B[1;33m,\u001B[0m\u001B[1;33m\u001B[0m\u001B[1;33m\u001B[0m\u001B[0m\n",
      "\u001B[1;32mc:\\users\\fried\\documents\\1_bildung\\2_programmierung\\python\\datascience\\chart-lyrics-analysis\\venv\\lib\\site-packages\\gensim\\models\\ldamodel.py\u001B[0m in \u001B[0;36m__init__\u001B[1;34m(self, corpus, num_topics, id2word, distributed, chunksize, passes, update_every, alpha, eta, decay, offset, eval_every, iterations, gamma_threshold, minimum_probability, random_state, ns_conf, minimum_phi_value, per_word_topics, callbacks, dtype)\u001B[0m\n\u001B[0;32m    518\u001B[0m             \u001B[0muse_numpy\u001B[0m \u001B[1;33m=\u001B[0m \u001B[0mself\u001B[0m\u001B[1;33m.\u001B[0m\u001B[0mdispatcher\u001B[0m \u001B[1;32mis\u001B[0m \u001B[1;32mnot\u001B[0m \u001B[1;32mNone\u001B[0m\u001B[1;33m\u001B[0m\u001B[1;33m\u001B[0m\u001B[0m\n\u001B[0;32m    519\u001B[0m             \u001B[0mstart\u001B[0m \u001B[1;33m=\u001B[0m \u001B[0mtime\u001B[0m\u001B[1;33m.\u001B[0m\u001B[0mtime\u001B[0m\u001B[1;33m(\u001B[0m\u001B[1;33m)\u001B[0m\u001B[1;33m\u001B[0m\u001B[1;33m\u001B[0m\u001B[0m\n\u001B[1;32m--> 520\u001B[1;33m             \u001B[0mself\u001B[0m\u001B[1;33m.\u001B[0m\u001B[0mupdate\u001B[0m\u001B[1;33m(\u001B[0m\u001B[0mcorpus\u001B[0m\u001B[1;33m,\u001B[0m \u001B[0mchunks_as_numpy\u001B[0m\u001B[1;33m=\u001B[0m\u001B[0muse_numpy\u001B[0m\u001B[1;33m)\u001B[0m\u001B[1;33m\u001B[0m\u001B[1;33m\u001B[0m\u001B[0m\n\u001B[0m\u001B[0;32m    521\u001B[0m             self.add_lifecycle_event(\n\u001B[0;32m    522\u001B[0m                 \u001B[1;34m\"created\"\u001B[0m\u001B[1;33m,\u001B[0m\u001B[1;33m\u001B[0m\u001B[1;33m\u001B[0m\u001B[0m\n",
      "\u001B[1;32mc:\\users\\fried\\documents\\1_bildung\\2_programmierung\\python\\datascience\\chart-lyrics-analysis\\venv\\lib\\site-packages\\gensim\\models\\ldamodel.py\u001B[0m in \u001B[0;36mupdate\u001B[1;34m(self, corpus, chunksize, decay, offset, passes, update_every, eval_every, iterations, gamma_threshold, chunks_as_numpy)\u001B[0m\n\u001B[0;32m    988\u001B[0m \u001B[1;33m\u001B[0m\u001B[0m\n\u001B[0;32m    989\u001B[0m                 \u001B[1;32mif\u001B[0m \u001B[0meval_every\u001B[0m \u001B[1;32mand\u001B[0m \u001B[1;33m(\u001B[0m\u001B[1;33m(\u001B[0m\u001B[0mreallen\u001B[0m \u001B[1;33m==\u001B[0m \u001B[0mlencorpus\u001B[0m\u001B[1;33m)\u001B[0m \u001B[1;32mor\u001B[0m \u001B[1;33m(\u001B[0m\u001B[1;33m(\u001B[0m\u001B[0mchunk_no\u001B[0m \u001B[1;33m+\u001B[0m \u001B[1;36m1\u001B[0m\u001B[1;33m)\u001B[0m \u001B[1;33m%\u001B[0m \u001B[1;33m(\u001B[0m\u001B[0meval_every\u001B[0m \u001B[1;33m*\u001B[0m \u001B[0mself\u001B[0m\u001B[1;33m.\u001B[0m\u001B[0mnumworkers\u001B[0m\u001B[1;33m)\u001B[0m \u001B[1;33m==\u001B[0m \u001B[1;36m0\u001B[0m\u001B[1;33m)\u001B[0m\u001B[1;33m)\u001B[0m\u001B[1;33m:\u001B[0m\u001B[1;33m\u001B[0m\u001B[1;33m\u001B[0m\u001B[0m\n\u001B[1;32m--> 990\u001B[1;33m                     \u001B[0mself\u001B[0m\u001B[1;33m.\u001B[0m\u001B[0mlog_perplexity\u001B[0m\u001B[1;33m(\u001B[0m\u001B[0mchunk\u001B[0m\u001B[1;33m,\u001B[0m \u001B[0mtotal_docs\u001B[0m\u001B[1;33m=\u001B[0m\u001B[0mlencorpus\u001B[0m\u001B[1;33m)\u001B[0m\u001B[1;33m\u001B[0m\u001B[1;33m\u001B[0m\u001B[0m\n\u001B[0m\u001B[0;32m    991\u001B[0m \u001B[1;33m\u001B[0m\u001B[0m\n\u001B[0;32m    992\u001B[0m                 \u001B[1;32mif\u001B[0m \u001B[0mself\u001B[0m\u001B[1;33m.\u001B[0m\u001B[0mdispatcher\u001B[0m\u001B[1;33m:\u001B[0m\u001B[1;33m\u001B[0m\u001B[1;33m\u001B[0m\u001B[0m\n",
      "\u001B[1;32mc:\\users\\fried\\documents\\1_bildung\\2_programmierung\\python\\datascience\\chart-lyrics-analysis\\venv\\lib\\site-packages\\gensim\\models\\ldamodel.py\u001B[0m in \u001B[0;36mlog_perplexity\u001B[1;34m(self, chunk, total_docs)\u001B[0m\n\u001B[0;32m    844\u001B[0m         \u001B[0mcorpus_words\u001B[0m \u001B[1;33m=\u001B[0m \u001B[0msum\u001B[0m\u001B[1;33m(\u001B[0m\u001B[0mcnt\u001B[0m \u001B[1;32mfor\u001B[0m \u001B[0mdocument\u001B[0m \u001B[1;32min\u001B[0m \u001B[0mchunk\u001B[0m \u001B[1;32mfor\u001B[0m \u001B[0m_\u001B[0m\u001B[1;33m,\u001B[0m \u001B[0mcnt\u001B[0m \u001B[1;32min\u001B[0m \u001B[0mdocument\u001B[0m\u001B[1;33m)\u001B[0m\u001B[1;33m\u001B[0m\u001B[1;33m\u001B[0m\u001B[0m\n\u001B[0;32m    845\u001B[0m         \u001B[0msubsample_ratio\u001B[0m \u001B[1;33m=\u001B[0m \u001B[1;36m1.0\u001B[0m \u001B[1;33m*\u001B[0m \u001B[0mtotal_docs\u001B[0m \u001B[1;33m/\u001B[0m \u001B[0mlen\u001B[0m\u001B[1;33m(\u001B[0m\u001B[0mchunk\u001B[0m\u001B[1;33m)\u001B[0m\u001B[1;33m\u001B[0m\u001B[1;33m\u001B[0m\u001B[0m\n\u001B[1;32m--> 846\u001B[1;33m         \u001B[0mperwordbound\u001B[0m \u001B[1;33m=\u001B[0m \u001B[0mself\u001B[0m\u001B[1;33m.\u001B[0m\u001B[0mbound\u001B[0m\u001B[1;33m(\u001B[0m\u001B[0mchunk\u001B[0m\u001B[1;33m,\u001B[0m \u001B[0msubsample_ratio\u001B[0m\u001B[1;33m=\u001B[0m\u001B[0msubsample_ratio\u001B[0m\u001B[1;33m)\u001B[0m \u001B[1;33m/\u001B[0m \u001B[1;33m(\u001B[0m\u001B[0msubsample_ratio\u001B[0m \u001B[1;33m*\u001B[0m \u001B[0mcorpus_words\u001B[0m\u001B[1;33m)\u001B[0m\u001B[1;33m\u001B[0m\u001B[1;33m\u001B[0m\u001B[0m\n\u001B[0m\u001B[0;32m    847\u001B[0m         logger.info(\n\u001B[0;32m    848\u001B[0m             \u001B[1;34m\"%.3f per-word bound, %.1f perplexity estimate based on a held-out corpus of %i documents with %i words\"\u001B[0m\u001B[1;33m,\u001B[0m\u001B[1;33m\u001B[0m\u001B[1;33m\u001B[0m\u001B[0m\n",
      "\u001B[1;32mc:\\users\\fried\\documents\\1_bildung\\2_programmierung\\python\\datascience\\chart-lyrics-analysis\\venv\\lib\\site-packages\\gensim\\models\\ldamodel.py\u001B[0m in \u001B[0;36mbound\u001B[1;34m(self, corpus, gamma, subsample_ratio)\u001B[0m\n\u001B[0;32m   1110\u001B[0m                 \u001B[0mlogger\u001B[0m\u001B[1;33m.\u001B[0m\u001B[0mdebug\u001B[0m\u001B[1;33m(\u001B[0m\u001B[1;34m\"bound: at document #%i\"\u001B[0m\u001B[1;33m,\u001B[0m \u001B[0md\u001B[0m\u001B[1;33m)\u001B[0m\u001B[1;33m\u001B[0m\u001B[1;33m\u001B[0m\u001B[0m\n\u001B[0;32m   1111\u001B[0m             \u001B[1;32mif\u001B[0m \u001B[0mgamma\u001B[0m \u001B[1;32mis\u001B[0m \u001B[1;32mNone\u001B[0m\u001B[1;33m:\u001B[0m\u001B[1;33m\u001B[0m\u001B[1;33m\u001B[0m\u001B[0m\n\u001B[1;32m-> 1112\u001B[1;33m                 \u001B[0mgammad\u001B[0m\u001B[1;33m,\u001B[0m \u001B[0m_\u001B[0m \u001B[1;33m=\u001B[0m \u001B[0mself\u001B[0m\u001B[1;33m.\u001B[0m\u001B[0minference\u001B[0m\u001B[1;33m(\u001B[0m\u001B[1;33m[\u001B[0m\u001B[0mdoc\u001B[0m\u001B[1;33m]\u001B[0m\u001B[1;33m)\u001B[0m\u001B[1;33m\u001B[0m\u001B[1;33m\u001B[0m\u001B[0m\n\u001B[0m\u001B[0;32m   1113\u001B[0m             \u001B[1;32melse\u001B[0m\u001B[1;33m:\u001B[0m\u001B[1;33m\u001B[0m\u001B[1;33m\u001B[0m\u001B[0m\n\u001B[0;32m   1114\u001B[0m                 \u001B[0mgammad\u001B[0m \u001B[1;33m=\u001B[0m \u001B[0mgamma\u001B[0m\u001B[1;33m[\u001B[0m\u001B[0md\u001B[0m\u001B[1;33m]\u001B[0m\u001B[1;33m\u001B[0m\u001B[1;33m\u001B[0m\u001B[0m\n",
      "\u001B[1;32mc:\\users\\fried\\documents\\1_bildung\\2_programmierung\\python\\datascience\\chart-lyrics-analysis\\venv\\lib\\site-packages\\gensim\\models\\ldamodel.py\u001B[0m in \u001B[0;36minference\u001B[1;34m(self, chunk, collect_sstats)\u001B[0m\n\u001B[0;32m    703\u001B[0m             \u001B[0mElogthetad\u001B[0m \u001B[1;33m=\u001B[0m \u001B[0mElogtheta\u001B[0m\u001B[1;33m[\u001B[0m\u001B[0md\u001B[0m\u001B[1;33m,\u001B[0m \u001B[1;33m:\u001B[0m\u001B[1;33m]\u001B[0m\u001B[1;33m\u001B[0m\u001B[1;33m\u001B[0m\u001B[0m\n\u001B[0;32m    704\u001B[0m             \u001B[0mexpElogthetad\u001B[0m \u001B[1;33m=\u001B[0m \u001B[0mexpElogtheta\u001B[0m\u001B[1;33m[\u001B[0m\u001B[0md\u001B[0m\u001B[1;33m,\u001B[0m \u001B[1;33m:\u001B[0m\u001B[1;33m]\u001B[0m\u001B[1;33m\u001B[0m\u001B[1;33m\u001B[0m\u001B[0m\n\u001B[1;32m--> 705\u001B[1;33m             \u001B[0mexpElogbetad\u001B[0m \u001B[1;33m=\u001B[0m \u001B[0mself\u001B[0m\u001B[1;33m.\u001B[0m\u001B[0mexpElogbeta\u001B[0m\u001B[1;33m[\u001B[0m\u001B[1;33m:\u001B[0m\u001B[1;33m,\u001B[0m \u001B[0mids\u001B[0m\u001B[1;33m]\u001B[0m\u001B[1;33m\u001B[0m\u001B[1;33m\u001B[0m\u001B[0m\n\u001B[0m\u001B[0;32m    706\u001B[0m \u001B[1;33m\u001B[0m\u001B[0m\n\u001B[0;32m    707\u001B[0m             \u001B[1;31m# The optimal phi_{dwk} is proportional to expElogthetad_k * expElogbetad_kw.\u001B[0m\u001B[1;33m\u001B[0m\u001B[1;33m\u001B[0m\u001B[1;33m\u001B[0m\u001B[0m\n",
      "\u001B[1;31mIndexError\u001B[0m: index 16140 is out of bounds for axis 1 with size 16140"
     ]
    }
   ],
   "source": [
    "lda_model_new = gensim.models.ldamodel.LdaModel(corpus=new_corpus,\n",
    "                                            id2word=id2word,\n",
    "                                            num_topics=10,\n",
    "                                            update_every=1,\n",
    "                                            chunksize=100,\n",
    "                                            passes=10,\n",
    "                                            alpha='auto')"
   ]
  },
  {
   "cell_type": "code",
   "execution_count": 204,
   "metadata": {
    "pycharm": {
     "name": "#%%\n"
    }
   },
   "outputs": [
    {
     "name": "stderr",
     "output_type": "stream",
     "text": [
      "c:\\users\\fried\\documents\\1_bildung\\2_programmierung\\python\\datascience\\chart-lyrics-analysis\\venv\\lib\\site-packages\\pyLDAvis\\_prepare.py:246: FutureWarning: In a future version of pandas all arguments of DataFrame.drop except for the argument 'labels' will be keyword-only\n",
      "  default_term_info = default_term_info.sort_values(\n"
     ]
    },
    {
     "data": {
      "text/html": [
       "\n",
       "<link rel=\"stylesheet\" type=\"text/css\" href=\"https://cdn.jsdelivr.net/gh/bmabey/pyLDAvis@3.3.1/pyLDAvis/js/ldavis.v1.0.0.css\">\n",
       "\n",
       "\n",
       "<div id=\"ldavis_el390022218526115204165139368\"></div>\n",
       "<script type=\"text/javascript\">\n",
       "\n",
       "var ldavis_el390022218526115204165139368_data = {\"mdsDat\": {\"x\": [-0.33426891288659605, -0.3782632610981185, -0.1692110484884007, 0.13079096045014002, 0.28059907232181164, 0.1992816228190918, 0.08512960882074588, 0.04259554487096972, 0.06057081512283982, 0.0827755980675163], \"y\": [-0.20759155279624616, 0.1428152657395973, 0.35769806687314276, -0.26724596053733635, -0.046887199744310444, 0.15192977221120893, 0.057761638563731, -0.10433952182585048, -0.0441567372940021, -0.03998377118993435], \"topics\": [1, 2, 3, 4, 5, 6, 7, 8, 9, 10], \"cluster\": [1, 1, 1, 1, 1, 1, 1, 1, 1, 1], \"Freq\": [59.52397206249289, 19.965880243231247, 13.801836733071045, 2.2403909583836783, 1.457415501965798, 1.4023457288723027, 0.8762608217296748, 0.4960815334057945, 0.22805657306465826, 0.007759843782907214]}, \"tinfo\": {\"Term\": [\"love\", \"ooh\", \"tell\", \"ll\", \"time\", \"ve\", \"shit\", \"christmas\", \"ah\", \"fuck\", \"night\", \"uh\", \"life\", \"wanna\", \"ayy\", \"need\", \"em\", \"home\", \"gonna\", \"bad\", \"eyes\", \"hey\", \"little\", \"find\", \"light\", \"santa\", \"hit\", \"mind\", \"won\", \"let\", \"shit\", \"fuck\", \"uh\", \"ayy\", \"em\", \"hit\", \"huh\", \"lil\", \"pussy\", \"real\", \"play\", \"talk\", \"ho\", \"fuckin\", \"pull\", \"straight\", \"talkin\", \"shoot\", \"took\", \"nothin\", \"pop\", \"hoes\", \"rich\", \"diamonds\", \"smoke\", \"nah\", \"beat\", \"dick\", \"block\", \"doin\", \"woo\", \"bout\", \"tryna\", \"man\", \"goin\", \"boy\", \"gettin\", \"face\", \"let\", \"god\", \"need\", \"tell\", \"told\", \"wanna\", \"bad\", \"girl\", \"santa\", \"tonight\", \"year\", \"sing\", \"happy\", \"little\", \"trying\", \"smile\", \"knows\", \"snow\", \"lights\", \"perfect\", \"tears\", \"hm\", \"mm\", \"asked\", \"clear\", \"bright\", \"mistletoe\", \"waiting\", \"merry_christmas\", \"words\", \"chance\", \"teeth\", \"beer\", \"holy\", \"country\", \"closure\", \"scream\", \"covered\", \"ooh\", \"eyes\", \"light\", \"town\", \"dreams\", \"days\", \"home\", \"find\", \"night\", \"kinda\", \"gonna\", \"somebody\", \"gone\", \"forget\", \"hear\", \"long\", \"heaven\", \"ya\", \"time\", \"hope\", \"ll\", \"open\", \"hey\", \"won\", \"wanna\", \"world\", \"let\", \"ve\", \"til\", \"thing\", \"girl\", \"need\", \"run\", \"ah\", \"love\", \"city\", \"goes\", \"maybe\", \"wonder\", \"set\", \"save\", \"promise\", \"brain\", \"sold\", \"broken\", \"fallin\", \"changed\", \"makes\", \"plans\", \"lyin\", \"beautiful\", \"mil\", \"hmm_hmm\", \"learn\", \"shootin\", \"bigger\", \"key\", \"ahh\", \"afraid\", \"grew\", \"isn\", \"dude\", \"takes\", \"happened\", \"sorry\", \"guy\", \"arms\", \"week\", \"guess\", \"babe\", \"fall\", \"mmm\", \"pain\", \"things\", \"ve\", \"ah\", \"tell\", \"looking\", \"fight\", \"lose\", \"mind\", \"ll\", \"best\", \"life\", \"wrong\", \"time\", \"need\", \"thought\", \"away\", \"believe\", \"crazy\", \"better\", \"wanna\", \"girl\", \"gas\", \"lick\", \"merry\", \"que\", \"draco\", \"um\", \"player\", \"yup\", \"dj\", \"duh_duh\", \"paint\", \"da\", \"lil_uzi\", \"foot\", \"de\", \"el\", \"rent\", \"tint\", \"da_dee\", \"yah\", \"en\", \"notice\", \"attached\", \"rid\", \"stackin\", \"tossed\", \"tu\", \"shape\", \"un\", \"pause\", \"single\", \"eh\", \"la\", \"brick\", \"boom\", \"yo\", \"ooo\", \"christmas\", \"later\", \"push_button\", \"saint_nick\", \"candy\", \"north\", \"shining\", \"realize\", \"post\", \"shooters\", \"kitchen\", \"children\", \"shinin\", \"fair\", \"ha_ha\", \"prison\", \"holly\", \"regular\", \"skies\", \"halls\", \"surf\", \"caroling\", \"lackin\", \"gangsters\", \"strip\", \"toy\", \"million_dollar\", \"presents\", \"dame\", \"magic\", \"pluto\", \"walked\", \"havin\", \"waist\", \"pills\", \"codeine\", \"warm\", \"ol\", \"boom_boom\", \"energy\", \"river\", \"silent\", \"swish_swish\", \"taught\", \"learned\", \"mmm_mmm\", \"rubber\", \"phony\", \"bricks\", \"seats\", \"ody_ody_ody_ody\", \"swipe\", \"match\", \"dying\", \"slowly\", \"shits\", \"staring\", \"cares\", \"clouds\", \"advice\", \"tune\", \"stopping\", \"pockets\", \"walked\", \"hunnid\", \"sleepin\", \"pocket\", \"mmm\", \"na_na_na_na\", \"haven\", \"short\", \"held\", \"belong\", \"sour_candy\", \"eh_eh\", \"tied\", \"\\uc5c6\\uc5b4\", \"lovesick_girls\", \"\\uc9c0\\uae08\", \"killing\", \"shooting\", \"\\uc5c6\\ub294\", \"ay\", \"\\uc6b0\\ub9b0\", \"filter\", \"sum\", \"\\ub098\\uc758\", \"\\ub098\\uc640\", \"na\", \"\\ub098\\ub97c\", \"laying\", \"\\uac70\\uc57c\", \"\\ub0b4\\uac00\", \"killin_killin\", \"afford\", \"invite\", \"wildest\", \"\\ub5a0\\ub098\\ubcfc\\uae4c\", \"switchin\", \"earth\", \"creep\", \"trophy\", \"noel\", \"built\", \"thriller\", \"mm_mm\", \"la_la\", \"letting\", \"tuesday\", \"loves\", \"makeup\", \"ohh\", \"trunk\", \"bun\", \"recognize\", \"exactly\", \"completely\", \"strangers\", \"infinite\", \"waking\", \"chicks\", \"naw\", \"grey\", \"celebrate\", \"cheddar\", \"loft\", \"checking\", \"creature\", \"santa_claus\", \"tired\", \"eatin\", \"write\", \"cat\", \"hater\", \"president\", \"smilin\", \"sha\", \"mines\", \"string\", \"thanks\", \"reply\", \"stops\", \"homemade\", \"magazine\", \"trips\", \"tops\", \"cuddle\", \"ching_ching\", \"china\", \"kite\", \"pages\", \"duval\", \"mouse\", \"stages\", \"evident\", \"jupiter\", \"grin\", \"brrah\", \"gee\", \"dogg\", \"la_la_la\", \"mase\", \"paused\", \"statin\", \"synonyms\", \"abide\", \"gofundme\", \"jabbin\", \"lacura\", \"morehouse\", \"odor\", \"robot\", \"superstars\", \"tomahawk\", \"trestletree\", \"vasectomy\", \"brotha\", \"capris\", \"dickriding\", \"redder\", \"shiggy\", \"biker\", \"disfigured\", \"bono\", \"console\", \"cornrow\", \"dreadlock\", \"gross\", \"haaa\", \"huff\", \"hundos\", \"amazing\", \"angel\", \"ari\", \"bad\", \"better\", \"dad\", \"discussions\", \"drama\", \"end\", \"ex\", \"fast\", \"forbid\", \"found\", \"friends\", \"fuckin\", \"god\", \"grateful\", \"grew\", \"happens\", \"havin\", \"holding\", \"laugh\", \"learned\", \"listen\", \"ll\", \"lost\", \"love\", \"loved\", \"malcolm\", \"mama\"], \"Freq\": [1465.0, 1367.0, 987.0, 1031.0, 1042.0, 674.0, 1663.0, 190.0, 607.0, 1364.0, 542.0, 1243.0, 660.0, 1024.0, 1033.0, 885.0, 915.0, 326.0, 350.0, 425.0, 290.0, 488.0, 268.0, 248.0, 234.0, 223.0, 702.0, 307.0, 514.0, 1503.0, 1663.0936333686222, 1364.4437175661064, 1243.2168912816912, 1032.5923242265374, 915.3013182542138, 701.7058048518862, 562.0850410847675, 554.8776617105563, 453.3030189877536, 599.1073837458079, 422.70274863969235, 363.60624139757067, 341.98097277981816, 332.7184978957082, 324.43418560885704, 308.5865971149681, 297.8144782276124, 294.9319523956312, 291.8101672938554, 290.17994598882274, 249.85910497093272, 236.06629254866507, 235.1724616566476, 222.5300103590583, 219.57552573111482, 215.59283317578195, 205.1332739949483, 198.27580730983308, 186.8660896207286, 185.09499603534965, 629.946423558305, 533.7652193033888, 726.8614414241317, 559.8672450122315, 383.4904223321374, 345.195203319082, 329.058714847086, 323.488861266518, 988.9634442952452, 360.7892217083476, 438.7394871855898, 449.366772757959, 327.74047825967597, 441.376769604046, 320.26790122754295, 328.7993948534689, 222.72609088610804, 161.3143504640188, 151.1879202412185, 99.06522092133238, 95.41762908695164, 266.76783411374487, 78.1715662538122, 77.96872820632841, 77.36662150607287, 74.82443845631379, 73.78692570075725, 71.10395750246111, 70.17862141607227, 61.0069072236424, 57.936838798193925, 57.09813175888423, 56.4681844722761, 55.97120054022014, 52.92302956633391, 50.48875155761195, 49.93073620290133, 48.8420424848775, 48.03524765070705, 46.33850409763734, 44.876407220923284, 43.71582800174249, 43.0947989889153, 41.34118849345869, 41.19373874785507, 41.071000871010085, 1348.855472090476, 282.55317156281416, 228.17257390276748, 146.09929679995147, 99.5619084109679, 161.7452277363185, 305.98855211587875, 232.55223565179733, 482.06657801391486, 79.12697517369546, 314.0123841108704, 159.83638141722764, 203.9574426361048, 117.28599357604195, 186.38966477329305, 234.55238623638112, 87.43040594508557, 208.74359480385957, 552.7975395195645, 159.87154020260994, 524.1142566555753, 115.89655723669249, 279.0086916884076, 284.14024570670585, 439.4048992592273, 163.17396591174543, 409.76757182480804, 262.4002014981127, 171.67140574672408, 149.58528822764728, 205.18940018989193, 180.8006750991008, 158.5571216536068, 159.28897012933948, 1462.4433261059903, 164.42603754757909, 118.11934375595153, 139.3122676879983, 101.73809910630087, 93.15709773304815, 83.20641686865117, 72.76271320972069, 65.94893524233105, 62.9127009387651, 56.37300996878316, 53.17941525241543, 50.311854048538706, 49.47928769728718, 47.620767797377034, 47.59144171818694, 47.55695555266015, 47.37478228450726, 46.492891433334904, 45.16058183060799, 43.883339484174705, 43.66333710460991, 41.30073602418439, 40.67137584802466, 40.333891387959675, 40.304301132100676, 41.32288736131972, 37.3666368222698, 37.15724595039645, 37.100260327077166, 111.13142151599126, 48.17302048244518, 49.01963510702485, 58.97689816767715, 113.07704564841752, 110.96319776353327, 129.50101285020705, 124.56246951215313, 154.6982230341108, 173.37495060769749, 411.4740344145422, 375.1015585898508, 527.0911757686634, 69.20306838787381, 112.09221477823931, 112.9665161052973, 174.61503045674323, 400.7902361355646, 113.7356405529566, 272.6752372890394, 126.68115652106606, 298.43912864822744, 265.55299479211186, 123.42902815547802, 131.58863070770323, 115.29812457147185, 118.07092288837482, 151.12462869656903, 143.5248337883547, 123.00769846479379, 49.502627659926596, 43.55966301194463, 38.551969266552206, 37.11887514614944, 36.9467547003126, 35.51830633145625, 25.882496620315244, 25.45055394271987, 22.53994250622675, 22.441708426426533, 21.83616084270034, 21.11785038474152, 19.810196365358482, 19.40502847807649, 18.978983564435307, 18.8519772455892, 18.70576912825347, 18.014804160245887, 17.902334651276544, 17.522067543418434, 17.4540468795586, 17.29530100416749, 16.822413833733297, 16.547448824504986, 16.085028221305617, 15.582022217174396, 15.537414666266717, 15.39283208104557, 14.91955536001587, 14.682779133858165, 32.78087818872103, 24.22818906050859, 69.46311681306258, 21.47983586712162, 19.335486482878647, 16.821448774233318, 30.711562403457684, 186.47302207204848, 22.456771825984248, 18.91488045519982, 18.541262605971806, 17.857237537245048, 17.11716092700447, 16.94330823137645, 15.426427271949912, 14.772270148682557, 14.058893339691831, 15.340984362298535, 12.78640894791408, 12.487583495891059, 11.774374583943697, 11.703495960674987, 11.24527468701241, 10.071323960074466, 10.002854294384445, 9.956985030705393, 9.61859114690394, 9.552785934293377, 9.43087078119739, 9.368968914135325, 8.742839647302437, 8.510603101232135, 8.256946125228913, 8.204893349011837, 8.033533038064794, 7.75753376264832, 26.58994861290982, 14.730085234408484, 10.386319670199281, 41.158413037899834, 30.81518826352025, 27.715730643228405, 27.072854456188537, 24.946563412659362, 21.87168190193457, 20.996203654862853, 20.469655590561363, 19.15881936922713, 18.913469681564226, 18.49700436575869, 17.939791353377455, 17.197932406573898, 16.925142808237283, 16.22323759957807, 15.690385961852595, 14.960764898124319, 14.195306183196172, 13.918779796029417, 11.94446487738132, 11.780668298037565, 11.548664284768005, 11.203743824920775, 10.507193944399704, 10.508328828440222, 10.368059769961183, 10.310957341938474, 10.223262213095893, 9.853325136083214, 9.70937046391645, 25.132553948862665, 15.487589910255327, 11.941605090011317, 11.58031360176353, 12.772368303826175, 11.672906492765051, 15.900358257423699, 13.566455512769458, 13.144891156898906, 9.497821387662988, 8.475535097870893, 7.8011695667645125, 7.3150706621868355, 7.202714235971199, 6.717642983544884, 6.273650856195271, 5.88118115729824, 5.627465189817851, 4.9000840309919775, 4.776164166825472, 4.7705634939505295, 4.602617607140881, 4.447570040179752, 4.368233914695826, 4.289031340101612, 4.194273221853227, 4.185806847844791, 4.133053619408607, 4.111207389949307, 3.896791436514816, 3.471831878448035, 3.4553395975674235, 3.3980490873781446, 3.369048793826697, 3.2032842382156974, 3.154254446204686, 12.706680831366947, 12.453760403592176, 10.196568758930374, 9.637108857884439, 8.725065414111917, 7.776492411558866, 6.865249061319444, 6.247339736428214, 5.318305841474757, 4.89915622063142, 4.515611116977103, 4.373507193197417, 4.053012583652833, 3.8427420397241208, 3.7430498175541542, 3.6620795710790803, 3.593858286154501, 3.556807637175841, 3.4596033722257045, 3.3036085610321773, 3.3180308326603263, 2.9681890478972117, 2.7459174559380766, 2.721940030019444, 2.6867076947600843, 2.5804468253718333, 2.3568039994648875, 2.292330091394317, 2.260200869562801, 2.19274915108887, 7.263355583303319, 4.523799119429639, 10.941931688690657, 8.505569275732185, 4.5164177832450285, 4.434059370998108, 2.266924035575673, 2.2181009855168887, 2.1526838000714195, 1.9012094611401367, 1.7914598737989886, 1.6983891141079313, 1.6790502313792846, 1.005958467965295, 0.9196443232382036, 0.8538306017617612, 0.7093637137664947, 0.6395194809472498, 0.631995087371873, 0.5485839780320284, 0.41887622638299815, 0.34005520518316196, 0.3236843864871707, 0.2803164197808148, 0.2769033949981777, 0.26491956211398504, 0.264724945330471, 0.2642223195928575, 0.26084892801537374, 0.14432421457609768, 0.12399802036395462, 0.09632743423308718, 0.6302796610790352, 0.0007411183386964664, 0.0007411183386964664, 0.0007411183386964664, 0.0007411183386964664, 0.0007411183386964664, 0.0007411183386964664, 0.0007411183386964664, 0.0007411183386964664, 0.0007411183386964664, 0.0007411183386964664, 0.0007411183386964664, 0.0007411183386964664, 0.0007411183386964664, 0.0007411183386964664, 0.0007411183386964664, 0.0007411183386964664, 0.0007411183386964664, 0.0007411183386964664, 0.0007411183386964664, 0.0007411183386964664, 0.0007411183386964664, 0.0007411183386964664, 0.0007411183386964664, 0.0007411183386964664, 0.0007411183386964664, 0.0007411183386964664, 0.0007411183386964664, 0.0007411183386964664, 0.0007411183386964664, 0.0007411183386964664, 0.0007411183386964664, 0.0007411183386964664, 0.0007411183386964664, 0.0007411183386964664, 0.0007411183386964664, 0.0007411183386964664, 0.0007411183386964664, 0.0007411183386964664, 0.0007411183386964664, 0.0007411183386964664, 0.0007411183386964664, 0.0007411183386964664, 0.0007411183386964664, 0.0007411183386964664, 0.0007411183386964664, 0.0007411183386964664, 0.0007411183386964664, 0.0007411183386964664, 0.0007411183386964664, 0.0007411183386964664, 0.0007411183386964664, 0.0007411183386964664, 0.0007411183386964664, 0.0007411183386964664, 0.0007411183386964664, 0.0007411183386964664, 0.0007411183386964664, 0.0007411183386964664, 0.0007411183386964664, 0.0007411183386964664], \"Total\": [1465.0, 1367.0, 987.0, 1031.0, 1042.0, 674.0, 1663.0, 190.0, 607.0, 1364.0, 542.0, 1243.0, 660.0, 1024.0, 1033.0, 885.0, 915.0, 326.0, 350.0, 425.0, 290.0, 488.0, 268.0, 248.0, 234.0, 223.0, 702.0, 307.0, 514.0, 1503.0, 1663.6077525652122, 1364.9578259007092, 1243.7310425447718, 1033.106449134909, 915.8154408014638, 702.2199354156326, 562.5991804163381, 555.391764555922, 453.81713631793394, 599.8203207000473, 423.2168950479211, 364.1218651329436, 342.4952405690494, 333.2326052131572, 324.94830685204806, 309.10246506179317, 298.3285904885424, 295.4460578432348, 292.3242954932131, 290.6940934814237, 250.37320730002492, 236.58039508510348, 235.68657764209274, 223.04412570496552, 220.0896374270599, 216.10700786660226, 205.6473878709501, 198.78991049345294, 187.3801979785278, 185.60917150997383, 632.96758013751, 538.1058484881149, 753.9675481287087, 580.9594401723782, 393.3795669837422, 366.5095985572893, 347.2446114283946, 351.8075674696188, 1503.7965238817078, 462.79051303737765, 885.4007845353291, 987.0624330461468, 404.8864834496882, 1024.6141344390314, 425.0634394570974, 657.3041212949702, 223.2494010661985, 161.8372414016132, 151.7111120207789, 99.58812081740942, 95.94054088807368, 268.5034238352255, 78.6945055011124, 78.49161332801269, 77.88952131655759, 75.3474754672622, 74.31002526506167, 71.63346703614334, 70.70152851590781, 61.53022184096858, 58.45983735855477, 57.621261359803526, 56.99116920800603, 56.49419283911557, 53.446441118093674, 51.01163921080437, 50.45410597405453, 49.36495826861655, 48.55831983463758, 46.861493577038495, 45.39927501194409, 44.23879087703624, 43.61768425563132, 41.864466038923716, 41.71673584331931, 41.59396464280114, 1367.7010640176898, 290.576560808396, 234.21678979739374, 150.53763549216308, 102.36933048607449, 169.13590945227054, 326.38644955682713, 248.72558127798627, 542.2268751767614, 81.7424250433107, 350.5019608743961, 172.1744667148499, 234.9540856824699, 128.30020751276138, 224.26059894635242, 306.0075573614672, 95.55186453232253, 292.17625489950274, 1042.21908147604, 207.23730223436058, 1031.6741394979692, 137.17972955570903, 488.4212266270146, 514.4725033619698, 1024.6141344390314, 243.07662809449766, 1503.7965238817078, 674.3264297748862, 357.6297229974689, 268.7021356888958, 657.3041212949702, 885.4007845353291, 429.91796844745915, 607.4573636846528, 1465.248171588906, 164.94421956548874, 118.63750546327415, 139.9528321468356, 102.25624204600699, 93.6752668275944, 83.72466146007919, 73.28084572580892, 66.46707005685587, 63.43087643099615, 56.891157203426765, 53.69757279619213, 50.8299769399029, 49.997439039176356, 48.1389327073679, 48.109592096581565, 48.07513017874279, 47.893055503381525, 47.01123457918607, 45.67870754411037, 44.40157494609672, 44.18146687785478, 41.818890003974744, 41.189618774586954, 40.851994004456564, 40.82246011125063, 41.88754344111533, 37.88493708901445, 37.675405699055865, 37.61843958262094, 113.0147128348972, 49.31142530535449, 50.286907036090085, 61.59612733424161, 125.98235705454539, 124.63610138042634, 154.29354837201706, 147.96966642672416, 190.27725726387712, 232.76668424463315, 674.3264297748862, 607.4573636846528, 987.0624330461468, 77.65932692798894, 146.03496344971728, 149.32299994347912, 307.6007769246806, 1031.6741394979692, 169.8230732763588, 660.854817955205, 226.2435341713366, 1042.21908147604, 885.4007845353291, 231.38922498390943, 280.06935597065814, 215.57555635838142, 230.2764102451802, 458.6997539442258, 1024.6141344390314, 657.3041212949702, 50.04495728412053, 44.101875155758805, 39.09521695140207, 37.66094931290805, 37.48903481716191, 36.06056403986575, 26.424833094578844, 25.992728379226577, 23.082320568456165, 22.98400098964108, 22.378481078884022, 21.660114120257653, 20.352581428729987, 19.947244518313898, 19.521110878026906, 19.394084653242604, 19.248099647931785, 18.55704193926499, 18.444587980736753, 18.064399602113216, 17.996118497270697, 17.837619030493688, 17.36469859871812, 17.089973944923194, 16.627399681008978, 16.124369601064547, 16.079489394159268, 15.935309049361972, 15.461681722917403, 15.225084349985138, 35.08410299508329, 26.429050028014743, 88.74643761173175, 27.371244200850974, 36.57215190549553, 126.55441314401833, 31.27457070500395, 190.32840230756923, 23.019861142430106, 19.477793262084994, 19.10428653828905, 18.420376018287516, 17.68009615744102, 17.50644323798284, 15.98954621982657, 15.335342600976444, 14.621898084481494, 16.011089717522868, 13.349394069410117, 13.050733080623585, 12.337331458342199, 12.266617821444619, 11.808422575701611, 10.634190225843716, 10.565871264113532, 10.520185502374563, 10.181955736857999, 10.115824729034218, 9.994077422327166, 9.931919607989645, 9.306003601105528, 9.073842845561277, 8.820077724075935, 8.767845322239483, 8.596540920466815, 8.320739205194362, 38.69991207633341, 24.635275517961027, 26.373633603677543, 41.71884195710633, 31.37555616489693, 28.2761727578348, 27.63327360087405, 25.507087186959943, 22.43210307141431, 21.55671152744228, 21.030111678268845, 19.719282888546417, 19.474633878848266, 19.057472586772207, 18.50019621358538, 17.75847931155614, 17.485521331125877, 16.783741326346608, 16.25093191180752, 15.521228637726741, 14.755658805865584, 14.47920148989135, 12.505085490290904, 12.34107521204148, 12.109046681471634, 11.764377270538446, 11.06754720348947, 11.068967616240712, 10.929430522043356, 10.871417299590368, 10.783734097789358, 10.41372693322076, 10.269832261110142, 30.45062231909322, 26.373633603677543, 28.55615774234488, 24.702867496138722, 52.45273222866456, 147.96966642672416, 16.476795532890808, 14.142939546039113, 13.72146048908733, 10.074480770120083, 9.052037807523403, 8.37745436811103, 7.891698563584493, 7.779327940410606, 7.293866618677034, 6.849888237335372, 6.457465953386268, 6.203963218712744, 5.476561205626466, 5.3523821558186695, 5.347408971059726, 5.17883776547254, 5.0239230750579, 4.944878967628378, 4.865257129470127, 4.770552429619492, 4.762697413115049, 4.709274695603259, 4.687701041716797, 4.4730074864359155, 4.048055433517359, 4.031859865362517, 3.974599983499391, 3.9454971948449704, 3.7809942718427685, 3.730548953030986, 13.29561416418588, 13.042641030110072, 10.785505070480742, 10.22630033749436, 9.3304347278873, 8.365446498813766, 7.454027583040615, 6.836217323424718, 5.9074273374204145, 5.4883642792425755, 5.104584958685422, 4.9623150534781875, 4.64186224103455, 4.431986785682748, 4.331903423186715, 4.251113287248582, 4.182689679526242, 4.145728513300754, 4.048760453892665, 3.892381223780824, 3.911552613816976, 3.5572153816784247, 3.3352532508705943, 3.3107534712870117, 3.276017854886619, 3.1692699113321607, 2.9457083012599994, 2.881439006635222, 2.8490053607708354, 2.7815287688283457, 11.723689845773475, 58.055826545885665, 11.547282725726445, 9.110933844130498, 5.12181757680767, 5.039584566562932, 2.8722970346866403, 2.8235815813780722, 2.758231737019503, 2.506711193301213, 2.396725840346941, 2.303639478366815, 2.284278318115492, 1.6112953878900587, 1.5247539596591266, 1.4593275337041667, 1.3147829713132524, 1.2449024704086604, 1.2371996008242403, 1.153762688738176, 1.0243067240933346, 0.9453406318572812, 0.9288632487549006, 0.8855458763912099, 0.8822554089220369, 0.8700899176266484, 0.8698937922338168, 0.8694253164188588, 0.8659317838187354, 0.7494889599530894, 0.7291171880986725, 0.7014100216869361, 6.171066083996572, 0.624258959801744, 0.624258959801744, 0.624258959801744, 0.624258959801744, 0.6242963725458857, 0.6242963725458857, 0.6242963725458857, 0.6242963725458857, 0.6242963725458857, 0.6242963725458857, 0.6242963725458857, 0.6242963725458857, 0.6242963725458857, 0.6242963725458857, 0.6242963725458857, 0.6243182249658128, 0.6243182249658128, 0.6243182249658128, 0.6243182249658128, 0.6243182249658128, 0.6243291969694502, 0.6243291969694502, 0.6243636845272048, 0.6243636845272048, 0.6243636845272048, 0.6243636845272048, 0.6243636845272048, 0.6243636845272048, 0.6243636845272048, 0.6243636845272048, 27.96242735845804, 27.685130292897405, 1.1154786736593385, 425.0634394570974, 458.6997539442258, 37.71580606755767, 2.4287392644029837, 23.487331943496613, 151.7051724723861, 53.659045917678725, 123.84589732958706, 1.145375782284462, 106.12527495438931, 232.8009746937784, 333.2326052131572, 462.79051303737765, 13.452805871986484, 40.82246011125063, 17.540113300910964, 41.71884195710633, 28.130877994794567, 32.03642438192855, 17.75847931155614, 78.85120448266431, 1031.6741394979692, 217.8781341365531, 1465.248171588906, 81.58154704731284, 2.00511030344268, 242.2865484576757], \"Category\": [\"Default\", \"Default\", \"Default\", \"Default\", \"Default\", \"Default\", \"Default\", \"Default\", \"Default\", \"Default\", \"Default\", \"Default\", \"Default\", \"Default\", \"Default\", \"Default\", \"Default\", \"Default\", \"Default\", \"Default\", \"Default\", \"Default\", \"Default\", \"Default\", \"Default\", \"Default\", \"Default\", \"Default\", \"Default\", \"Default\", \"Topic1\", \"Topic1\", \"Topic1\", \"Topic1\", \"Topic1\", \"Topic1\", \"Topic1\", \"Topic1\", \"Topic1\", \"Topic1\", \"Topic1\", \"Topic1\", \"Topic1\", \"Topic1\", \"Topic1\", \"Topic1\", \"Topic1\", \"Topic1\", \"Topic1\", \"Topic1\", \"Topic1\", \"Topic1\", \"Topic1\", \"Topic1\", \"Topic1\", \"Topic1\", \"Topic1\", \"Topic1\", \"Topic1\", \"Topic1\", \"Topic1\", \"Topic1\", \"Topic1\", \"Topic1\", \"Topic1\", \"Topic1\", \"Topic1\", \"Topic1\", \"Topic1\", \"Topic1\", \"Topic1\", \"Topic1\", \"Topic1\", \"Topic1\", \"Topic1\", \"Topic1\", \"Topic2\", \"Topic2\", \"Topic2\", \"Topic2\", \"Topic2\", \"Topic2\", \"Topic2\", \"Topic2\", \"Topic2\", \"Topic2\", \"Topic2\", \"Topic2\", \"Topic2\", \"Topic2\", \"Topic2\", \"Topic2\", \"Topic2\", \"Topic2\", \"Topic2\", \"Topic2\", \"Topic2\", \"Topic2\", \"Topic2\", \"Topic2\", \"Topic2\", \"Topic2\", \"Topic2\", \"Topic2\", \"Topic2\", \"Topic2\", \"Topic2\", \"Topic2\", \"Topic2\", \"Topic2\", \"Topic2\", \"Topic2\", \"Topic2\", \"Topic2\", \"Topic2\", \"Topic2\", \"Topic2\", \"Topic2\", \"Topic2\", \"Topic2\", \"Topic2\", \"Topic2\", \"Topic2\", \"Topic2\", \"Topic2\", \"Topic2\", \"Topic2\", \"Topic2\", \"Topic2\", \"Topic2\", \"Topic2\", \"Topic2\", \"Topic2\", \"Topic2\", \"Topic2\", \"Topic2\", \"Topic2\", \"Topic2\", \"Topic2\", \"Topic2\", \"Topic3\", \"Topic3\", \"Topic3\", \"Topic3\", \"Topic3\", \"Topic3\", \"Topic3\", \"Topic3\", \"Topic3\", \"Topic3\", \"Topic3\", \"Topic3\", \"Topic3\", \"Topic3\", \"Topic3\", \"Topic3\", \"Topic3\", \"Topic3\", \"Topic3\", \"Topic3\", \"Topic3\", \"Topic3\", \"Topic3\", \"Topic3\", \"Topic3\", \"Topic3\", \"Topic3\", \"Topic3\", \"Topic3\", \"Topic3\", \"Topic3\", \"Topic3\", \"Topic3\", \"Topic3\", \"Topic3\", \"Topic3\", \"Topic3\", \"Topic3\", \"Topic3\", \"Topic3\", \"Topic3\", \"Topic3\", \"Topic3\", \"Topic3\", \"Topic3\", \"Topic3\", \"Topic3\", \"Topic3\", \"Topic3\", \"Topic3\", \"Topic3\", \"Topic3\", \"Topic3\", \"Topic3\", \"Topic3\", \"Topic3\", \"Topic3\", \"Topic3\", \"Topic3\", \"Topic3\", \"Topic4\", \"Topic4\", \"Topic4\", \"Topic4\", \"Topic4\", \"Topic4\", \"Topic4\", \"Topic4\", \"Topic4\", \"Topic4\", \"Topic4\", \"Topic4\", \"Topic4\", \"Topic4\", \"Topic4\", \"Topic4\", \"Topic4\", \"Topic4\", \"Topic4\", \"Topic4\", \"Topic4\", \"Topic4\", \"Topic4\", \"Topic4\", \"Topic4\", \"Topic4\", \"Topic4\", \"Topic4\", \"Topic4\", \"Topic4\", \"Topic4\", \"Topic4\", \"Topic4\", \"Topic4\", \"Topic4\", \"Topic4\", \"Topic5\", \"Topic5\", \"Topic5\", \"Topic5\", \"Topic5\", \"Topic5\", \"Topic5\", \"Topic5\", \"Topic5\", \"Topic5\", \"Topic5\", \"Topic5\", \"Topic5\", \"Topic5\", \"Topic5\", \"Topic5\", \"Topic5\", \"Topic5\", \"Topic5\", \"Topic5\", \"Topic5\", \"Topic5\", \"Topic5\", \"Topic5\", \"Topic5\", \"Topic5\", \"Topic5\", \"Topic5\", \"Topic5\", \"Topic5\", \"Topic5\", \"Topic5\", \"Topic5\", \"Topic6\", \"Topic6\", \"Topic6\", \"Topic6\", \"Topic6\", \"Topic6\", \"Topic6\", \"Topic6\", \"Topic6\", \"Topic6\", \"Topic6\", \"Topic6\", \"Topic6\", \"Topic6\", \"Topic6\", \"Topic6\", \"Topic6\", \"Topic6\", \"Topic6\", \"Topic6\", \"Topic6\", \"Topic6\", \"Topic6\", \"Topic6\", \"Topic6\", \"Topic6\", \"Topic6\", \"Topic6\", \"Topic6\", \"Topic6\", \"Topic6\", \"Topic6\", \"Topic6\", \"Topic6\", \"Topic6\", \"Topic6\", \"Topic7\", \"Topic7\", \"Topic7\", \"Topic7\", \"Topic7\", \"Topic7\", \"Topic7\", \"Topic7\", \"Topic7\", \"Topic7\", \"Topic7\", \"Topic7\", \"Topic7\", \"Topic7\", \"Topic7\", \"Topic7\", \"Topic7\", \"Topic7\", \"Topic7\", \"Topic7\", \"Topic7\", \"Topic7\", \"Topic7\", \"Topic7\", \"Topic7\", \"Topic7\", \"Topic7\", \"Topic7\", \"Topic7\", \"Topic7\", \"Topic8\", \"Topic8\", \"Topic8\", \"Topic8\", \"Topic8\", \"Topic8\", \"Topic8\", \"Topic8\", \"Topic8\", \"Topic8\", \"Topic8\", \"Topic8\", \"Topic8\", \"Topic8\", \"Topic8\", \"Topic8\", \"Topic8\", \"Topic8\", \"Topic8\", \"Topic8\", \"Topic8\", \"Topic8\", \"Topic8\", \"Topic8\", \"Topic8\", \"Topic8\", \"Topic8\", \"Topic8\", \"Topic8\", \"Topic8\", \"Topic8\", \"Topic8\", \"Topic9\", \"Topic9\", \"Topic9\", \"Topic9\", \"Topic9\", \"Topic9\", \"Topic9\", \"Topic9\", \"Topic9\", \"Topic9\", \"Topic9\", \"Topic9\", \"Topic9\", \"Topic9\", \"Topic9\", \"Topic9\", \"Topic9\", \"Topic9\", \"Topic9\", \"Topic9\", \"Topic9\", \"Topic9\", \"Topic9\", \"Topic9\", \"Topic9\", \"Topic9\", \"Topic9\", \"Topic9\", \"Topic9\", \"Topic9\", \"Topic9\", \"Topic10\", \"Topic10\", \"Topic10\", \"Topic10\", \"Topic10\", \"Topic10\", \"Topic10\", \"Topic10\", \"Topic10\", \"Topic10\", \"Topic10\", \"Topic10\", \"Topic10\", \"Topic10\", \"Topic10\", \"Topic10\", \"Topic10\", \"Topic10\", \"Topic10\", \"Topic10\", \"Topic10\", \"Topic10\", \"Topic10\", \"Topic10\", \"Topic10\", \"Topic10\", \"Topic10\", \"Topic10\", \"Topic10\", \"Topic10\", \"Topic10\", \"Topic10\", \"Topic10\", \"Topic10\", \"Topic10\", \"Topic10\", \"Topic10\", \"Topic10\", \"Topic10\", \"Topic10\", \"Topic10\", \"Topic10\", \"Topic10\", \"Topic10\", \"Topic10\", \"Topic10\", \"Topic10\", \"Topic10\", \"Topic10\", \"Topic10\", \"Topic10\", \"Topic10\", \"Topic10\", \"Topic10\", \"Topic10\", \"Topic10\", \"Topic10\", \"Topic10\", \"Topic10\", \"Topic10\"], \"logprob\": [30.0, 29.0, 28.0, 27.0, 26.0, 25.0, 24.0, 23.0, 22.0, 21.0, 20.0, 19.0, 18.0, 17.0, 16.0, 15.0, 14.0, 13.0, 12.0, 11.0, 10.0, 9.0, 8.0, 7.0, 6.0, 5.0, 4.0, 3.0, 2.0, 1.0, -4.0073, -4.2052, -4.2983, -4.4839, -4.6045, -4.8702, -5.0921, -5.105, -5.3072, -5.0283, -5.377, -5.5276, -5.589, -5.6164, -5.6416, -5.6917, -5.7272, -5.737, -5.7476, -5.7532, -5.9028, -5.9596, -5.9634, -6.0187, -6.032, -6.0503, -6.1001, -6.1341, -6.1933, -6.2028, -4.9781, -5.1438, -4.835, -5.096, -5.4744, -5.5796, -5.6275, -5.6445, -4.5271, -5.5354, -5.3398, -5.3159, -5.6315, -5.3338, -5.6546, -5.6283, -4.9254, -5.248, -5.3128, -5.7356, -5.7731, -4.745, -5.9725, -5.9751, -5.9828, -6.0162, -6.0302, -6.0672, -6.0803, -6.2204, -6.272, -6.2866, -6.2977, -6.3065, -6.3625, -6.4096, -6.4207, -6.4428, -6.4594, -6.4954, -6.5274, -6.5536, -6.568, -6.6095, -6.6131, -6.6161, -3.1243, -4.6875, -4.9013, -5.3471, -5.7306, -5.2453, -4.6078, -4.8822, -4.1533, -5.9603, -4.5819, -5.2572, -5.0134, -5.5667, -5.1035, -4.8737, -5.8605, -4.9903, -4.0164, -5.257, -4.0696, -5.5787, -4.7001, -4.6819, -4.2459, -5.2365, -4.3158, -4.7615, -5.1858, -5.3235, -5.0074, -5.134, -5.2652, -5.2606, -2.6743, -4.8597, -5.1904, -5.0254, -5.3397, -5.4278, -5.5408, -5.6749, -5.7733, -5.8204, -5.9301, -5.9885, -6.0439, -6.0606, -6.0989, -6.0995, -6.1002, -6.104, -6.1228, -6.1519, -6.1806, -6.1856, -6.2413, -6.2566, -6.2649, -6.2657, -6.2407, -6.3414, -6.347, -6.3485, -5.2514, -6.0873, -6.0699, -5.885, -5.2341, -5.2529, -5.0984, -5.1373, -4.9207, -4.8067, -3.9424, -4.0349, -3.6948, -5.7251, -5.2428, -5.235, -4.7996, -3.9687, -5.2283, -4.3539, -5.1205, -4.2636, -4.3803, -5.1465, -5.0825, -5.2146, -5.1909, -4.944, -4.9956, -5.1499, -4.242, -4.3699, -4.492, -4.5299, -4.5345, -4.5739, -4.8904, -4.9072, -5.0287, -5.0331, -5.0604, -5.0939, -5.1578, -5.1785, -5.2007, -5.2074, -5.2152, -5.2528, -5.2591, -5.2805, -5.2844, -5.2935, -5.3213, -5.3378, -5.3661, -5.3979, -5.4007, -5.4101, -5.4413, -5.4573, -4.6541, -4.9565, -3.9032, -5.0769, -5.182, -5.3213, -4.2894, -2.4857, -4.6024, -4.774, -4.794, -4.8316, -4.8739, -4.8841, -4.9779, -5.0212, -5.0707, -4.9835, -5.1656, -5.1893, -5.2481, -5.2541, -5.2941, -5.4043, -5.4111, -5.4157, -5.4503, -5.4572, -5.47, -5.4766, -5.5458, -5.5727, -5.6029, -5.6093, -5.6304, -5.6653, -4.4335, -5.0241, -5.3735, -3.9581, -4.2475, -4.3535, -4.3769, -4.4587, -4.5903, -4.6311, -4.6565, -4.7227, -4.7356, -4.7579, -4.7885, -4.8307, -4.8467, -4.889, -4.9224, -4.97, -5.0226, -5.0422, -5.1952, -5.209, -5.2289, -5.2592, -5.3234, -5.3233, -5.3368, -5.3423, -5.3508, -5.3877, -5.4024, -4.4513, -4.9354, -5.1955, -5.2262, -5.1282, -5.2182, -4.4389, -4.5976, -4.6292, -4.9542, -5.0681, -5.151, -5.2153, -5.2308, -5.3005, -5.3689, -5.4335, -5.4776, -5.616, -5.6416, -5.6428, -5.6786, -5.7129, -5.7309, -5.7492, -5.7715, -5.7735, -5.7862, -5.7915, -5.8451, -5.9606, -5.9653, -5.982, -5.9906, -6.0411, -6.0565, -4.0942, -4.1143, -4.3143, -4.3707, -4.4701, -4.5852, -4.7098, -4.8042, -4.9652, -5.0473, -5.1288, -5.1608, -5.2369, -5.2901, -5.3164, -5.3383, -5.3571, -5.3675, -5.3952, -5.4413, -5.4369, -5.5484, -5.6262, -5.635, -5.648, -5.6884, -5.779, -5.8068, -5.8209, -5.8512, -4.6535, -5.127, -3.4666, -3.7185, -4.3515, -4.3699, -5.0407, -5.0625, -5.0925, -5.2167, -5.2761, -5.3295, -5.3409, -5.8532, -5.9429, -6.0172, -6.2026, -6.3062, -6.318, -6.4596, -6.7294, -6.9378, -6.9872, -7.131, -7.1433, -7.1875, -7.1882, -7.1901, -7.203, -7.7949, -7.9467, -8.1992, -6.3208, -9.6859, -9.6859, -9.6859, -9.6859, -9.6859, -9.6859, -9.6859, -9.6859, -9.6859, -9.6859, -9.6859, -9.6859, -9.6859, -9.6859, -9.6859, -9.6859, -9.6859, -9.6859, -9.6859, -9.6859, -9.6859, -9.6859, -9.6859, -9.6859, -9.6859, -9.6859, -9.6859, -9.6859, -9.6859, -9.6859, -9.6859, -9.6859, -9.6859, -9.6859, -9.6859, -9.6859, -9.6859, -9.6859, -9.6859, -9.6859, -9.6859, -9.6859, -9.6859, -9.6859, -9.6859, -9.6859, -9.6859, -9.6859, -9.6859, -9.6859, -9.6859, -9.6859, -9.6859, -9.6859, -9.6859, -9.6859, -9.6859, -9.6859, -9.6859, -9.6859], \"loglift\": [30.0, 29.0, 28.0, 27.0, 26.0, 25.0, 24.0, 23.0, 22.0, 21.0, 20.0, 19.0, 18.0, 17.0, 16.0, 15.0, 14.0, 13.0, 12.0, 11.0, 10.0, 9.0, 8.0, 7.0, 6.0, 5.0, 4.0, 3.0, 2.0, 1.0, 0.5185, 0.5184, 0.5184, 0.5183, 0.5182, 0.5181, 0.5179, 0.5179, 0.5177, 0.5176, 0.5176, 0.5174, 0.5173, 0.5172, 0.5172, 0.5171, 0.5171, 0.517, 0.517, 0.517, 0.5167, 0.5166, 0.5166, 0.5165, 0.5165, 0.5164, 0.5163, 0.5162, 0.516, 0.516, 0.514, 0.5107, 0.4822, 0.4818, 0.4933, 0.4589, 0.465, 0.4349, 0.0997, 0.2698, -0.1833, -0.2681, 0.3074, -0.3234, 0.2357, -0.1739, 1.6088, 1.6079, 1.6077, 1.6059, 1.6057, 1.6047, 1.6045, 1.6045, 1.6044, 1.6042, 1.6041, 1.6037, 1.6037, 1.6026, 1.6022, 1.602, 1.6019, 1.6018, 1.6013, 1.6008, 1.6007, 1.6005, 1.6003, 1.5999, 1.5996, 1.5993, 1.5991, 1.5986, 1.5985, 1.5985, 1.5973, 1.5831, 1.585, 1.5812, 1.5833, 1.5665, 1.5466, 1.5439, 1.4935, 1.5786, 1.5012, 1.5368, 1.4697, 1.5214, 1.4262, 1.3452, 1.5223, 1.2749, 0.977, 1.3517, 0.9339, 1.4426, 1.0512, 1.0175, 0.7645, 1.2126, 0.311, 0.6673, 0.8772, 1.0254, 0.4469, 0.0225, 0.6137, 0.2726, 1.9785, 1.9772, 1.976, 1.9758, 1.9753, 1.9748, 1.9742, 1.9733, 1.9725, 1.9722, 1.9712, 1.9707, 1.9701, 1.97, 1.9695, 1.9695, 1.9695, 1.9695, 1.9693, 1.969, 1.9686, 1.9686, 1.9679, 1.9677, 1.9676, 1.9676, 1.9668, 1.9666, 1.9665, 1.9665, 1.9636, 1.957, 1.9548, 1.9369, 1.8723, 1.8642, 1.8052, 1.8082, 1.7734, 1.6858, 1.4864, 1.4983, 1.353, 1.8651, 1.7158, 1.7013, 1.4141, 1.0349, 1.5795, 1.0951, 1.4004, 0.7298, 0.7761, 1.3519, 1.225, 1.3546, 1.3124, 0.8701, 0.0148, 0.3045, 3.7876, 3.7861, 3.7845, 3.784, 3.7839, 3.7834, 3.7778, 3.7774, 3.7747, 3.7746, 3.774, 3.7732, 3.7715, 3.771, 3.7704, 3.7702, 3.7699, 3.7689, 3.7687, 3.768, 3.7679, 3.7676, 3.7668, 3.7663, 3.7654, 3.7643, 3.7642, 3.7639, 3.7628, 3.7623, 3.7306, 3.7116, 3.5535, 3.5561, 3.1612, 1.7805, 4.2103, 4.208, 4.2037, 4.1992, 4.1986, 4.1975, 4.1961, 4.1958, 4.1927, 4.1911, 4.1892, 4.1858, 4.1854, 4.1844, 4.1818, 4.1815, 4.1796, 4.1741, 4.1737, 4.1735, 4.1716, 4.1712, 4.1705, 4.1702, 4.1661, 4.1644, 4.1625, 4.1621, 4.1608, 4.1584, 3.8532, 3.7142, 3.2966, 4.2535, 4.249, 4.247, 4.2465, 4.2448, 4.2417, 4.2407, 4.24, 4.2382, 4.2378, 4.2372, 4.2363, 4.2349, 4.2345, 4.2331, 4.2319, 4.2302, 4.2283, 4.2275, 4.2212, 4.2206, 4.2196, 4.2182, 4.2151, 4.215, 4.2143, 4.2141, 4.2137, 4.2117, 4.2109, 4.0751, 3.7347, 3.3952, 3.5094, 2.8544, 1.7273, 4.7017, 4.6956, 4.6943, 4.6783, 4.6715, 4.666, 4.6614, 4.6602, 4.655, 4.6494, 4.6438, 4.6397, 4.626, 4.6234, 4.6231, 4.6193, 4.6154, 4.6133, 4.6112, 4.6085, 4.6081, 4.6067, 4.606, 4.5994, 4.5837, 4.583, 4.5805, 4.5793, 4.5715, 4.5695, 5.2609, 5.26, 5.25, 5.2468, 5.2391, 5.2332, 5.2239, 5.2161, 5.2011, 5.1926, 5.1836, 5.1799, 5.1705, 5.1635, 5.1601, 5.157, 5.1545, 5.153, 5.1489, 5.1422, 5.1416, 5.1252, 5.1118, 5.1104, 5.1079, 5.1006, 5.0831, 5.0775, 5.0747, 5.0683, 4.8274, 2.7541, 6.0295, 6.0146, 5.9575, 5.9553, 5.8466, 5.842, 5.8355, 5.8069, 5.7923, 5.7785, 5.7755, 5.6122, 5.5777, 5.5473, 5.4663, 5.4172, 5.4116, 5.3399, 5.1891, 5.0609, 5.0291, 4.933, 4.9245, 4.8942, 4.8937, 4.8923, 4.8835, 4.436, 4.3118, 4.098, 3.8019, 2.7278, 2.7278, 2.7278, 2.7278, 2.7277, 2.7277, 2.7277, 2.7277, 2.7277, 2.7277, 2.7277, 2.7277, 2.7277, 2.7277, 2.7277, 2.7277, 2.7277, 2.7277, 2.7277, 2.7277, 2.7277, 2.7277, 2.7276, 2.7276, 2.7276, 2.7276, 2.7276, 2.7276, 2.7276, 2.7276, -1.0742, -1.0643, 2.1473, -3.7956, -3.8718, -1.3735, 1.3692, -0.8998, -2.7653, -1.726, -2.5624, 2.1209, -2.408, -3.1936, -3.5522, -3.8807, -0.3426, -1.4526, -0.6079, -1.4743, -1.0803, -1.2103, -0.6203, -2.1109, -4.6823, -3.1273, -5.0332, -2.145, 1.5609, -3.2335]}, \"token.table\": {\"Topic\": [6, 7, 3, 1, 2, 3, 3, 3, 2, 3, 6, 1, 3, 2, 4, 2, 3, 7, 1, 2, 3, 1, 2, 3, 6, 1, 3, 2, 1, 2, 3, 7, 1, 3, 1, 2, 3, 3, 1, 2, 4, 6, 1, 2, 1, 3, 3, 3, 4, 6, 6, 2, 3, 8, 8, 5, 6, 5, 9, 8, 2, 3, 8, 8, 8, 5, 9, 2, 5, 3, 2, 2, 6, 6, 8, 2, 2, 1, 3, 8, 8, 9, 4, 4, 3, 5, 1, 2, 4, 1, 1, 6, 4, 1, 4, 3, 1, 2, 3, 4, 6, 8, 9, 4, 7, 7, 4, 1, 4, 1, 2, 3, 6, 1, 2, 8, 1, 2, 3, 1, 2, 5, 1, 3, 3, 1, 1, 3, 7, 1, 2, 4, 6, 2, 3, 1, 2, 3, 1, 2, 3, 1, 1, 5, 4, 1, 2, 1, 2, 3, 1, 2, 3, 3, 1, 2, 1, 2, 2, 3, 2, 3, 8, 2, 3, 1, 3, 5, 5, 3, 1, 2, 9, 7, 6, 1, 2, 2, 3, 7, 1, 2, 1, 2, 3, 1, 1, 2, 5, 2, 1, 2, 3, 9, 1, 2, 3, 1, 3, 6, 8, 7, 3, 3, 7, 7, 2, 3, 5, 2, 2, 4, 8, 1, 9, 5, 5, 1, 2, 3, 7, 3, 6, 1, 2, 3, 8, 4, 1, 2, 3, 1, 2, 2, 1, 4, 1, 2, 3, 1, 2, 1, 2, 3, 8, 1, 2, 3, 1, 2, 3, 1, 3, 1, 2, 3, 1, 2, 3, 2, 3, 8, 7, 3, 9, 2, 5, 3, 8, 6, 1, 2, 3, 1, 2, 6, 3, 4, 2, 3, 5, 1, 2, 3, 9, 2, 2, 8, 1, 3, 6, 6, 7, 7, 1, 8, 1, 2, 3, 1, 2, 3, 8, 5, 1, 4, 6, 8, 6, 1, 2, 5, 1, 2, 3, 1, 3, 4, 4, 2, 6, 6, 3, 1, 4, 3, 5, 3, 6, 5, 6, 1, 5, 5, 9, 5, 3, 1, 5, 1, 4, 1, 5, 8, 5, 4, 9, 1, 4, 6, 6, 1, 2, 3, 5, 2, 5, 8, 3, 2, 6, 3, 9, 4, 5, 5, 1, 6, 1, 5, 3, 7, 7, 6, 2, 4, 7, 5, 3, 6, 6, 2, 9, 1, 2, 3, 1, 2, 2, 3, 7, 4, 6, 6, 9, 1, 8, 9, 5, 7, 5, 6, 6, 8, 3, 1, 1, 6, 2, 2, 1, 2, 3, 9, 1, 2, 3, 2, 3, 1, 2, 3, 8, 7, 1, 2, 1, 2, 3, 4, 1, 8, 1, 3, 2, 1, 9, 4, 1, 2, 5, 9, 8, 8, 2, 1, 3, 4, 8, 6, 1, 4, 4, 2, 3, 6, 2, 8, 5, 6, 1, 2, 3, 6, 3, 6, 7, 1, 2, 3, 3, 1, 2, 2, 1, 2, 3, 9, 1, 2, 3, 1, 2, 3, 4, 2, 1, 4, 4, 7, 7, 7, 7, 7, 7, 7, 7, 7, 7], \"Freq\": [0.9273225683531995, 0.7547929382716608, 0.9791443716464949, 0.12017304318644531, 0.2617467652965042, 0.6173272766426985, 0.9953964425933473, 0.9655814087196215, 0.1083614188649727, 0.8668913509197816, 0.8964761260020242, 0.019885891953591747, 0.9744087057259956, 0.9892181922932198, 0.9789977006139892, 0.5284405339065564, 0.4713118275382801, 0.9350322795694308, 0.9998969620845962, 0.10430364762710401, 0.8905926835852727, 0.7528288022341153, 0.007057770020944831, 0.22114346065627136, 0.016468130048871273, 0.9968519518888499, 0.9984372340030395, 0.9912052557702948, 0.16235606945072475, 0.3015184146942031, 0.5334556567666671, 0.8837788982002456, 0.32975495567006563, 0.6712868740426335, 0.425114681931376, 0.24416843269904676, 0.329191369085322, 0.9958926923282907, 0.997970981018115, 0.4648345561926174, 0.5195209745682194, 0.9741745615172532, 0.9923698125570445, 0.007433481742000333, 0.9413123185805812, 0.05729727156577451, 0.9929729103982416, 0.14613877142916432, 0.7672285500031127, 0.03653469285729108, 0.9664183390443837, 0.9912523249863409, 0.984335751859639, 0.9563147646852339, 0.9409299940319613, 0.9771787493441951, 0.9149607548015602, 0.9005333478699737, 0.9762159477605611, 0.9465902507303298, 0.988502076749383, 0.9836715066606425, 0.7019993810958902, 0.6789538526759484, 0.8994819206658193, 0.9738269716517886, 0.8667293627718712, 0.015762229723086853, 0.9772582428313848, 0.9942755219432601, 0.9826083721078179, 0.9793508404449737, 0.9198432664687425, 0.9770829323365431, 0.740967521828974, 0.9858386737816882, 0.9857199320165326, 0.48637200780032663, 0.5124276510753442, 0.7190290542428772, 0.9271703026100632, 0.8082770147466791, 0.9695239777319419, 0.9758960199489913, 0.9810210587498648, 0.9614530395335386, 0.041386835135535614, 0.9578096131366813, 0.9733052651930033, 0.9998021660295869, 0.9960264055077436, 0.8234725025090853, 0.9964336095146056, 0.9967179880982276, 0.9869552571959512, 0.9792512855581474, 0.019537101498109964, 0.9768550749054983, 0.9766414528567066, 0.9571875675569033, 0.9909946105304483, 0.9200590564669345, 0.9526050640028808, 0.9080916633235037, 0.07567430527695865, 0.887008030476588, 0.9796801622613979, 0.9991096013834948, 0.9446481474645897, 0.42846264857469857, 0.039550398329972175, 0.527338644399629, 0.9510172987177573, 0.4845408552341393, 0.5031770419739139, 0.9648485150840889, 0.017207169036930554, 0.9739257674902694, 0.010324301422158334, 0.9181155548278349, 0.07958896450519931, 0.972657664302753, 0.15554765739221718, 0.8425498108745098, 0.9870092304015351, 0.9931697589679866, 0.23282095737098513, 0.7669396242808922, 0.796190534815046, 0.06432792283684613, 0.9367753763115717, 0.9525125128212963, 0.8730759070228387, 0.9119237004224066, 0.08573641627902967, 0.16018804198440276, 0.46171847395504323, 0.36749021396421805, 0.2663219090107055, 0.6013720526048189, 0.12886543984388976, 0.9992982743623766, 0.999301973427815, 0.9671176141529565, 0.9991016620542746, 0.9474589069839121, 0.05183665752495568, 0.5005293430259184, 0.31187998577602816, 0.1871279914656169, 0.7800505624687332, 0.11668346363798224, 0.1037186343448731, 0.9946264424493357, 0.9736143718309315, 0.022878666700987944, 0.1319406721953971, 0.8682547460600324, 0.8958580408984452, 0.10270983908389818, 0.9663411576517739, 0.9798527548558016, 0.9157459247436942, 0.0952514326653253, 0.8969509909318133, 0.02027927592454755, 0.9734052443782822, 0.9782647649641032, 0.9821295886998083, 0.9835602010747239, 0.9692069662467395, 0.9901966272092322, 0.79371621751117, 0.9898932222983909, 0.982769369345261, 0.1649866279401632, 0.8293922377532528, 0.9105002861620803, 0.083724164244789, 0.8933462880482251, 0.4279093303199206, 0.571228244781138, 0.9996867998122235, 0.9913827412756776, 0.9784895123849014, 0.9985540220406376, 0.9975467321166037, 0.9953475325292448, 0.9403630918410246, 0.9946022286707616, 0.021446968798811087, 0.9375389217765989, 0.042893937597622174, 0.6558435173525042, 0.11098388056600811, 0.7720617778504911, 0.11580926667757367, 0.9989349781563943, 0.5602994683095683, 0.42022460123217625, 0.7669588769950193, 0.7603604442856228, 0.978811279721786, 0.9804181793467758, 0.7440734797786086, 0.9671237221237001, 0.9664504075838508, 0.024467098926173436, 0.9368506619248839, 0.9885797049266434, 0.21409310065070503, 0.7774959970999288, 0.8463921288252935, 0.8102327753330177, 0.16204655506660354, 0.9061692356792769, 0.9556964685355854, 0.4682170463586867, 0.40578810684419514, 0.12485787902898313, 0.8532967363752921, 0.9851417086734566, 0.9572891744698788, 0.657668763222781, 0.2726432688790093, 0.06982327617633165, 0.9110182461667846, 0.9976900039873814, 0.47816856503786515, 0.10894979962888067, 0.4131013235928392, 0.025617292445986574, 0.9734571129474898, 0.9958279483292353, 0.999294615835301, 0.982676328800617, 0.6087414937403137, 0.10145691562338563, 0.2790065179643105, 0.003724347294035541, 0.9944007275074894, 0.10274562087170418, 0.5079123144978585, 0.38868862235427715, 0.6940976350339216, 0.1568588711137636, 0.7679548898278009, 0.07516154240867838, 0.03863026012035626, 0.06438376686726043, 0.8884959827681939, 0.24108811109893663, 0.7567487931716622, 0.19735803306012412, 0.5369974387915005, 0.26161413684714124, 0.001364956489132631, 0.0006824782445663155, 0.9977831935559532, 0.36773021701343367, 0.6251413689228372, 0.8060753815290947, 0.8759267001316826, 0.9977220323057083, 0.6852471271214423, 0.31007822385566847, 0.6976760036752541, 0.9800501974032151, 0.8617231172092052, 0.49872568021971014, 0.9534165287775053, 0.012382032841266303, 0.03301875424337681, 0.9639227134924269, 0.036147101755966006, 0.9723626016225325, 0.9931917623086334, 0.9975644859185605, 0.9909996230180345, 0.9813531315971588, 0.9124248553641957, 0.0715212757911432, 0.36085734603713165, 0.56891923924773, 0.7978581678434604, 0.9916469439544678, 0.9921341320925265, 0.8776783586795335, 0.07433956070616199, 0.8447677352972953, 0.08109770258854035, 0.9722329507978922, 0.8398601995972266, 0.9710626054720997, 0.9995048385165357, 0.9061381422742387, 0.4958206584720765, 0.2044271963176443, 0.3004289183452673, 0.04241766878947524, 0.8889267981098725, 0.06823711935698192, 0.9645852805872294, 0.9615332319810496, 0.9976122890110664, 0.9530419934935395, 0.9669041493603149, 0.9025297667677498, 0.9807372911029039, 0.013160770634428044, 0.9863266436579683, 0.9912206403216905, 0.1312147214336806, 0.8456059825726082, 0.021869120238946764, 0.18394210902179384, 0.814600768525087, 0.9830872757829328, 0.9852162165534828, 0.9911568284720363, 0.9845589217178863, 0.9902330219793173, 0.9971139221508616, 0.999487508531774, 0.9839229601542497, 0.36532978871855126, 0.6088829811975854, 0.7435265684537047, 0.24784218948456824, 0.16420025665172985, 0.8210012832586493, 0.9985093960170519, 0.9781326958450154, 0.9306068654839346, 0.6963068150151102, 0.9315384785292902, 0.9961675425136366, 0.9970816685852749, 0.9754698463190358, 0.9981994150230558, 0.9824500092279533, 0.9986323892810268, 0.9381129266445623, 0.9563224399791154, 0.9464434829870125, 0.9871104341483165, 0.8755500519087275, 0.9970869039341927, 0.9947352789879518, 0.9635238820492708, 0.9533035387576956, 0.6280267860751139, 0.36983799624423375, 0.002326025133611533, 0.9945411969151511, 0.9988828589684569, 0.34118951052275115, 0.5970816434148145, 0.9913447071932955, 0.9828189855023354, 0.948788541683737, 0.9927914074817934, 0.7251022360293646, 0.9413058732363009, 0.9194885778344813, 0.9710710376117957, 0.9996346779676428, 0.9938968226430357, 0.998490222389525, 0.9574680331590105, 0.9909558400443175, 0.9129816708454093, 0.9474210132615908, 0.9756280974625267, 0.9940944681696754, 0.9405969422853604, 0.057005875290021844, 0.9505535808035752, 0.5262546950078575, 0.4857735646226377, 0.9350261171534614, 0.9937367406889923, 0.7083202458856823, 0.999592723091792, 0.9953883595288714, 0.9932071499679673, 0.06969674556840089, 0.9292899409120118, 0.00884840544134193, 0.9821730039889542, 0.9549440257713825, 0.9622671197514087, 0.9937692819572874, 0.9737257382350883, 0.6206186696217563, 0.999668507781804, 0.7707364277864801, 0.8344717473862123, 0.9918620096448553, 0.8089176754751687, 0.988550144734934, 0.9596095931784666, 0.9445113940499016, 0.9777660391964315, 0.9820730344763668, 0.9996653177284504, 0.998898561857567, 0.9729626535950971, 0.9900776046765387, 0.9816161732954108, 0.4548851065219382, 0.0101310714147425, 0.5339074635569298, 0.8681914070242958, 0.18235805932235818, 0.5582389571092597, 0.2567899202702595, 0.2534727003199142, 0.7432335111075451, 0.17286889656500454, 0.2938771241605077, 0.531571856937389, 0.9390896293335944, 0.8998206597818948, 0.5200909992632698, 0.48094436491012055, 0.18326281239209014, 0.5305986138891405, 0.28592836697823487, 0.9699821802910117, 0.9129143990071404, 0.086123999906334, 0.8101036053498134, 0.19017676101199887, 0.9948266456202407, 0.9988906310621019, 0.8032757776372096, 0.9922868549815221, 0.026571428380169012, 0.969857135876169, 0.9070214855547826, 0.7605818008132279, 0.9778707518823169, 0.9233816198647952, 0.9911746633810085, 0.9642324816291628, 0.03581055984042283, 0.9950564727392313, 0.9795115646948983, 0.9602710023151335, 0.999412218140607, 0.9983204910550263, 0.9701402647402129, 0.38853586101832727, 0.609497094956231, 0.988030294573165, 0.9801684629928517, 0.8433562992703832, 0.37916656272215743, 0.5687498440832361, 0.43040593056179555, 0.42845397622818193, 0.14054071202017812, 0.9801197532574718, 0.9578524260112307, 0.03246957376309256, 0.79344209070644, 0.3090544177987519, 0.5520217273889657, 0.13800543184724143, 0.9974941182965467, 0.9953116395995111, 0.004739579236188148, 0.9926069365514167, 0.1275318003339611, 0.6705704340140536, 0.1974685940654882, 0.9878240972848283, 0.15028053784843834, 0.2873010282396615, 0.5613420090221078, 0.2772299207814162, 0.7153216474483454, 0.0068451832291707695, 0.9964349990294898, 0.9953127229027132, 0.8612896009873516, 0.13432957079619245, 0.9618074576572744, 0.894252918674901, 0.8493876994974486, 0.8384773166236948, 0.8221559300064452, 0.7410965707535525, 0.8041711924360538, 0.9341634910288331, 0.9597104479639723, 0.965467586827134, 0.9291570475650167], \"Term\": [\"advice\", \"afford\", \"afraid\", \"ah\", \"ah\", \"ah\", \"ahh\", \"amazing\", \"angel\", \"angel\", \"ari\", \"arms\", \"arms\", \"asked\", \"attached\", \"away\", \"away\", \"ay\", \"ayy\", \"babe\", \"babe\", \"bad\", \"bad\", \"bad\", \"bad\", \"beat\", \"beautiful\", \"beer\", \"believe\", \"believe\", \"believe\", \"belong\", \"best\", \"best\", \"better\", \"better\", \"better\", \"bigger\", \"block\", \"boom\", \"boom\", \"boom_boom\", \"bout\", \"bout\", \"boy\", \"boy\", \"brain\", \"brick\", \"brick\", \"brick\", \"bricks\", \"bright\", \"broken\", \"built\", \"bun\", \"candy\", \"cares\", \"caroling\", \"cat\", \"celebrate\", \"chance\", \"changed\", \"checking\", \"cheddar\", \"chicks\", \"children\", \"ching_ching\", \"christmas\", \"christmas\", \"city\", \"clear\", \"closure\", \"clouds\", \"codeine\", \"completely\", \"country\", \"covered\", \"crazy\", \"crazy\", \"creature\", \"creep\", \"cuddle\", \"da\", \"da_dee\", \"dad\", \"dame\", \"days\", \"days\", \"de\", \"diamonds\", \"dick\", \"discussions\", \"dj\", \"doin\", \"draco\", \"drama\", \"dreams\", \"dreams\", \"dude\", \"duh_duh\", \"dying\", \"earth\", \"eatin\", \"eh\", \"eh\", \"eh_eh\", \"el\", \"em\", \"en\", \"end\", \"end\", \"end\", \"energy\", \"ex\", \"ex\", \"exactly\", \"eyes\", \"eyes\", \"eyes\", \"face\", \"face\", \"fair\", \"fall\", \"fall\", \"fallin\", \"fast\", \"fight\", \"fight\", \"filter\", \"find\", \"find\", \"foot\", \"forbid\", \"forget\", \"forget\", \"found\", \"found\", \"found\", \"friends\", \"friends\", \"friends\", \"fuck\", \"fuckin\", \"gangsters\", \"gas\", \"gettin\", \"gettin\", \"girl\", \"girl\", \"girl\", \"god\", \"god\", \"god\", \"goes\", \"goin\", \"goin\", \"gone\", \"gone\", \"gonna\", \"gonna\", \"grateful\", \"grew\", \"grey\", \"guess\", \"guess\", \"guy\", \"guy\", \"ha_ha\", \"halls\", \"happened\", \"happens\", \"happy\", \"hater\", \"haven\", \"havin\", \"hear\", \"hear\", \"heaven\", \"heaven\", \"held\", \"hey\", \"hey\", \"hit\", \"hm\", \"hmm_hmm\", \"ho\", \"hoes\", \"holding\", \"holly\", \"holy\", \"home\", \"home\", \"home\", \"homemade\", \"hope\", \"hope\", \"hope\", \"huh\", \"hunnid\", \"hunnid\", \"infinite\", \"invite\", \"isn\", \"key\", \"killin_killin\", \"killing\", \"kinda\", \"kinda\", \"kitchen\", \"knows\", \"la\", \"la\", \"la_la\", \"la_la_la\", \"la_la_la\", \"lackin\", \"later\", \"laugh\", \"laugh\", \"laugh\", \"laying\", \"learn\", \"learned\", \"let\", \"let\", \"let\", \"letting\", \"lick\", \"life\", \"life\", \"life\", \"light\", \"light\", \"lights\", \"lil\", \"lil_uzi\", \"listen\", \"listen\", \"listen\", \"little\", \"little\", \"ll\", \"ll\", \"ll\", \"loft\", \"long\", \"long\", \"long\", \"looking\", \"looking\", \"looking\", \"lose\", \"lose\", \"lost\", \"lost\", \"lost\", \"love\", \"love\", \"love\", \"loved\", \"loved\", \"loves\", \"lovesick_girls\", \"lyin\", \"magazine\", \"magic\", \"magic\", \"makes\", \"makeup\", \"malcolm\", \"mama\", \"mama\", \"mama\", \"man\", \"man\", \"match\", \"maybe\", \"merry\", \"merry_christmas\", \"mil\", \"million_dollar\", \"mind\", \"mind\", \"mind\", \"mines\", \"mistletoe\", \"mm\", \"mm_mm\", \"mmm\", \"mmm\", \"mmm\", \"mmm_mmm\", \"na\", \"na_na_na_na\", \"nah\", \"naw\", \"need\", \"need\", \"need\", \"night\", \"night\", \"night\", \"noel\", \"north\", \"nothin\", \"notice\", \"ody_ody_ody_ody\", \"ohh\", \"ol\", \"ooh\", \"ooh\", \"ooo\", \"open\", \"open\", \"open\", \"pain\", \"pain\", \"paint\", \"pause\", \"perfect\", \"phony\", \"pills\", \"plans\", \"play\", \"player\", \"pluto\", \"pluto\", \"pocket\", \"pocket\", \"pockets\", \"pockets\", \"pop\", \"post\", \"presents\", \"president\", \"prison\", \"promise\", \"pull\", \"push_button\", \"pussy\", \"que\", \"real\", \"realize\", \"recognize\", \"regular\", \"rent\", \"reply\", \"rich\", \"rid\", \"river\", \"rubber\", \"run\", \"run\", \"run\", \"saint_nick\", \"santa\", \"santa_claus\", \"santa_claus\", \"save\", \"scream\", \"seats\", \"set\", \"sha\", \"shape\", \"shinin\", \"shining\", \"shit\", \"shits\", \"shoot\", \"shooters\", \"shootin\", \"shooting\", \"short\", \"silent\", \"sing\", \"single\", \"single\", \"skies\", \"sleepin\", \"sleepin\", \"slowly\", \"smile\", \"smilin\", \"smoke\", \"snow\", \"sold\", \"somebody\", \"somebody\", \"sorry\", \"sorry\", \"sour_candy\", \"stackin\", \"staring\", \"stopping\", \"stops\", \"straight\", \"strangers\", \"string\", \"strip\", \"sum\", \"surf\", \"swipe\", \"swish_swish\", \"switchin\", \"takes\", \"talk\", \"talkin\", \"taught\", \"tears\", \"teeth\", \"tell\", \"tell\", \"tell\", \"thanks\", \"thing\", \"thing\", \"thing\", \"things\", \"things\", \"thought\", \"thought\", \"thought\", \"thriller\", \"tied\", \"til\", \"til\", \"time\", \"time\", \"time\", \"tint\", \"tired\", \"tired\", \"told\", \"told\", \"tonight\", \"took\", \"tops\", \"tossed\", \"town\", \"town\", \"toy\", \"trips\", \"trophy\", \"trunk\", \"trying\", \"tryna\", \"tryna\", \"tu\", \"tuesday\", \"tune\", \"uh\", \"um\", \"un\", \"ve\", \"ve\", \"waist\", \"waiting\", \"waking\", \"walked\", \"walked\", \"wanna\", \"wanna\", \"wanna\", \"warm\", \"week\", \"week\", \"wildest\", \"won\", \"won\", \"won\", \"wonder\", \"woo\", \"woo\", \"words\", \"world\", \"world\", \"world\", \"write\", \"wrong\", \"wrong\", \"wrong\", \"ya\", \"ya\", \"ya\", \"yah\", \"year\", \"yo\", \"yo\", \"yup\", \"\\uac70\\uc57c\", \"\\ub098\\ub97c\", \"\\ub098\\uc640\", \"\\ub098\\uc758\", \"\\ub0b4\\uac00\", \"\\ub5a0\\ub098\\ubcfc\\uae4c\", \"\\uc5c6\\ub294\", \"\\uc5c6\\uc5b4\", \"\\uc6b0\\ub9b0\", \"\\uc9c0\\uae08\"]}, \"R\": 30, \"lambda.step\": 0.01, \"plot.opts\": {\"xlab\": \"PC1\", \"ylab\": \"PC2\"}, \"topic.order\": [6, 9, 5, 3, 2, 1, 7, 8, 4, 10]};\n",
       "\n",
       "function LDAvis_load_lib(url, callback){\n",
       "  var s = document.createElement('script');\n",
       "  s.src = url;\n",
       "  s.async = true;\n",
       "  s.onreadystatechange = s.onload = callback;\n",
       "  s.onerror = function(){console.warn(\"failed to load library \" + url);};\n",
       "  document.getElementsByTagName(\"head\")[0].appendChild(s);\n",
       "}\n",
       "\n",
       "if(typeof(LDAvis) !== \"undefined\"){\n",
       "   // already loaded: just create the visualization\n",
       "   !function(LDAvis){\n",
       "       new LDAvis(\"#\" + \"ldavis_el390022218526115204165139368\", ldavis_el390022218526115204165139368_data);\n",
       "   }(LDAvis);\n",
       "}else if(typeof define === \"function\" && define.amd){\n",
       "   // require.js is available: use it to load d3/LDAvis\n",
       "   require.config({paths: {d3: \"https://d3js.org/d3.v5\"}});\n",
       "   require([\"d3\"], function(d3){\n",
       "      window.d3 = d3;\n",
       "      LDAvis_load_lib(\"https://cdn.jsdelivr.net/gh/bmabey/pyLDAvis@3.3.1/pyLDAvis/js/ldavis.v3.0.0.js\", function(){\n",
       "        new LDAvis(\"#\" + \"ldavis_el390022218526115204165139368\", ldavis_el390022218526115204165139368_data);\n",
       "      });\n",
       "    });\n",
       "}else{\n",
       "    // require.js not available: dynamically load d3 & LDAvis\n",
       "    LDAvis_load_lib(\"https://d3js.org/d3.v5.js\", function(){\n",
       "         LDAvis_load_lib(\"https://cdn.jsdelivr.net/gh/bmabey/pyLDAvis@3.3.1/pyLDAvis/js/ldavis.v3.0.0.js\", function(){\n",
       "                 new LDAvis(\"#\" + \"ldavis_el390022218526115204165139368\", ldavis_el390022218526115204165139368_data);\n",
       "            })\n",
       "         });\n",
       "}\n",
       "</script>"
      ],
      "text/plain": [
       "PreparedData(topic_coordinates=              x         y  topics  cluster       Freq\n",
       "topic                                                \n",
       "5     -0.334269 -0.207592       1        1  59.523972\n",
       "8     -0.378263  0.142815       2        1  19.965880\n",
       "4     -0.169211  0.357698       3        1  13.801837\n",
       "2      0.130791 -0.267246       4        1   2.240391\n",
       "1      0.280599 -0.046887       5        1   1.457416\n",
       "0      0.199282  0.151930       6        1   1.402346\n",
       "6      0.085130  0.057762       7        1   0.876261\n",
       "7      0.042596 -0.104340       8        1   0.496082\n",
       "3      0.060571 -0.044157       9        1   0.228057\n",
       "9      0.082776 -0.039984      10        1   0.007760, topic_info=       Term         Freq        Total Category  logprob  loglift\n",
       "26     love  1465.000000  1465.000000  Default  30.0000  30.0000\n",
       "84      ooh  1367.000000  1367.000000  Default  29.0000  29.0000\n",
       "89     tell   987.000000   987.000000  Default  28.0000  28.0000\n",
       "24       ll  1031.000000  1031.000000  Default  27.0000  27.0000\n",
       "53     time  1042.000000  1042.000000  Default  26.0000  26.0000\n",
       "..      ...          ...          ...      ...      ...      ...\n",
       "25     lost     0.000741   217.878134  Topic10  -9.6859  -3.1273\n",
       "26     love     0.000741  1465.248172  Topic10  -9.6859  -5.0332\n",
       "27    loved     0.000741    81.581547  Topic10  -9.6859  -2.1450\n",
       "28  malcolm     0.000741     2.005110  Topic10  -9.6859   1.5609\n",
       "29     mama     0.000741   242.286548  Topic10  -9.6859  -3.2335\n",
       "\n",
       "[458 rows x 6 columns], token_table=       Topic      Freq    Term\n",
       "term                          \n",
       "2788       6  0.927323  advice\n",
       "2754       7  0.754793  afford\n",
       "63         3  0.979144  afraid\n",
       "93         1  0.120173      ah\n",
       "93         2  0.261747      ah\n",
       "...      ...       ...     ...\n",
       "15645      7  0.804171    떠나볼까\n",
       "6002       7  0.934163      없는\n",
       "6003       7  0.959710      없어\n",
       "11729      7  0.965468      우린\n",
       "13784      7  0.929157      지금\n",
       "\n",
       "[499 rows x 3 columns], R=30, lambda_step=0.01, plot_opts={'xlab': 'PC1', 'ylab': 'PC2'}, topic_order=[6, 9, 5, 3, 2, 1, 7, 8, 4, 10])"
      ]
     },
     "execution_count": 204,
     "metadata": {},
     "output_type": "execute_result"
    }
   ],
   "source": [
    "import pyLDAvis\n",
    "import pyLDAvis.gensim_models\n",
    "\n",
    "pyLDAvis.enable_notebook()\n",
    "vis = pyLDAvis.gensim_models.prepare(lda_model_new, corpus, id2word, mds=\"mmds\")\n",
    "\n",
    "vis"
   ]
  }
 ],
 "metadata": {
  "kernelspec": {
   "display_name": "Python 3 (ipykernel)",
   "language": "python",
   "name": "python3"
  },
  "language_info": {
   "codemirror_mode": {
    "name": "ipython",
    "version": 3
   },
   "file_extension": ".py",
   "mimetype": "text/x-python",
   "name": "python",
   "nbconvert_exporter": "python",
   "pygments_lexer": "ipython3",
   "version": "3.8.6"
  }
 },
 "nbformat": 4,
 "nbformat_minor": 1
}