{
 "cells": [
  {
   "cell_type": "markdown",
   "metadata": {},
   "source": [
    "# Topic Modeling"
   ]
  },
  {
   "cell_type": "markdown",
   "metadata": {},
   "source": [
    "## Import"
   ]
  },
  {
   "cell_type": "code",
   "execution_count": 1,
   "metadata": {
    "collapsed": true
   },
   "outputs": [
    {
     "name": "stdout",
     "output_type": "stream",
     "text": [
      "../../data/lyrics/artist_song_lyrics.csv\n",
      "../../data/lyrics/artist_song_lyrics_new.csv\n",
      "../../data/lyrics/bb-t100-lyrics.csv\n",
      "../../data/lyrics/bb-t100-lyrics_new.csv\n",
      "../../data/lyrics/bb_t100_lyrics_en.csv\n",
      "../../data/lyrics/bb_t100_lyrics_en_new.csv\n",
      "../../data/lyrics/covid_lyrics_bb.csv\n",
      "../../data/lyrics/lyrics_invalid.json\n",
      "../../data/lyrics/lyrics_invalid_new.json\n",
      "../../data/lyrics/lyrics_invalid_updated.csv\n",
      "../../data/lyrics/lyrics_invalid_updated_new.csv\n",
      "../../data/lyrics/backups/artist_song_lyrics_bak.csv\n",
      "../../data/lyrics/backups/bb-t100-lyrics.csv\n",
      "../../data/lyrics/backups/bb-t100-lyrics_new.csv\n",
      "../../data/lyrics/backups/bb-t100-lyrics_old.csv\n",
      "../../data/lyrics/backups/bb_t100_lyrics_en.csv\n",
      "../../data/lyrics/backups/bb_t100_lyrics_en_v1.csv\n",
      "../../data/lyrics/backups/bb_t100_lyrics_en_v2.csv\n",
      "../../data/lyrics/backups/bb_t100_lyrics_en_v3.csv\n",
      "../../data/lyrics/backups/corona-lyrics.csv\n",
      "../../data/lyrics/backups/lyrics_invalid_updated.csv\n",
      "--------------------------------------------------\n",
      "../../data/billboard/bb_t100_en.csv\n",
      "../../data/billboard/bb_t100_en_new.csv\n",
      "../../data/billboard/billboard.csv\n",
      "../../data/billboard/billboard_top_100_2020.csv\n",
      "../../data/billboard/backups/bb-t100_backup.csv\n"
     ]
    }
   ],
   "source": [
    "import numpy as np  # linear algebra\n",
    "import pandas as pd  # data processing, CSV file I/O (e.g. pd.read_csv)\n",
    "\n",
    "import matplotlib.pyplot as plt\n",
    "import matplotlib.dates\n",
    "\n",
    "import seaborn as sns\n",
    "\n",
    "from src.progress_bar import printProgressBar\n",
    "\n",
    "from ast import literal_eval\n",
    "\n",
    "import gensim\n",
    "import gensim.corpora as corpora\n",
    "from gensim.models import TfidfModel\n",
    "\n",
    "import pyLDAvis\n",
    "import pyLDAvis.gensim_models\n",
    "\n",
    "import spacy\n",
    "\n",
    "import json\n",
    "\n",
    "import os\n",
    "for dirname, _, filenames in os.walk('../../data/lyrics'):\n",
    "    for filename in filenames:\n",
    "        print(os.path.join(dirname, filename).replace(\"\\\\\", \"/\"))\n",
    "\n",
    "print(50 * '-')\n",
    "\n",
    "for dirname, _, filenames in os.walk('../../data/billboard'):\n",
    "    for filename in filenames:\n",
    "        print(os.path.join(dirname, filename).replace(\"\\\\\", \"/\"))"
   ]
  },
  {
   "cell_type": "markdown",
   "metadata": {},
   "source": [
    "## Loading Data"
   ]
  },
  {
   "cell_type": "markdown",
   "metadata": {},
   "source": [
    "### Lyrics"
   ]
  },
  {
   "cell_type": "code",
   "execution_count": 2,
   "metadata": {
    "pycharm": {
     "name": "#%%\n"
    }
   },
   "outputs": [
    {
     "data": {
      "text/plain": "   index  billboard_id  lyrics_id                  artist   first_artist  \\\n0      0             0          0           Ariana Grande  Ariana Grande   \n1      1             1          1                  Halsey         Halsey   \n2      2             2          2            Mariah Carey   Mariah Carey   \n3      3             3          3            Travis Scott   Travis Scott   \n4      4             4          4  Post Malone & Swae Lee    Post Malone   \n\n                                            song  weeks_on_chart  peak_rank  \\\n0                                  Thank U, Next            28.0        1.0   \n1                                     Without Me            52.0        1.0   \n2                All I Want For Christmas Is You            43.0        1.0   \n3                                     Sicko Mode            52.0        1.0   \n4  Sunflower (Spider-Man: Into The Spider-Verse)            53.0        1.0   \n\n   genius_id                                             lyrics  ...  \\\n0    4063065  Thought I'd end up with Sean\\nBut he wasn't a ...  ...   \n1    3977187  Found you when your heart was broke\\nI filled ...  ...   \n2     204233  I don't want a lot for Christmas\\nThere is jus...  ...   \n3    3876994  Astro, yeah\\nSun is down, freezin' cold\\nThat'...  ...   \n4    3993850  Ayy, ayy, ayy, ayy (Ooh)\\nOoh, ooh, ooh, ooh (...  ...   \n\n  word_count  language  language_score first_appearance  \\\n0        460        en        0.999997       2019-01-05   \n1        435        en        0.999995       2019-01-05   \n2        388        en        0.999996       2019-01-05   \n3        771        en        0.999998       2019-01-05   \n4        305        en        0.999997       2019-01-05   \n\n    genius_primary_artist                                 genius_description  \\\n0           Ariana Grande  On the lead single and titular track to her fi...   \n1                  Halsey  “Without Me” is the first new song released by...   \n2            Mariah Carey  “All I Want For Christmas Is You” is an uptemp...   \n3            Travis Scott  “SICKO MODE” refers to Travis and Drake’s work...   \n4  Post Malone & Swae Lee  “Sunflower” marks the second collaboration by ...   \n\n                                  genius_annotations  \\\n0  [(One taught me love\\n One taught me patience\\...   \n1  [(Gave love ’bout a hundred tries (Hundred tri...   \n2  [(I don’t need to hang my stocking\\n There upo...   \n3  [(She’s in love with who I am, [['Since Drake ...   \n4  [(Then you’re left in the dust, unless I stuck...   \n\n                                     genius_comments release_date  \\\n0  [The Mac shoutout has me fully in tears, this ...   2018-11-03   \n1  [The queen is ready to snatch our wigs once ag...   2018-10-04   \n2  [i really like this song, it’s about that time...   1994-11-01   \n3  [HAD ME OUT LIKE A LIGHT (ayy) LIKE A LIGHT (y...   2018-08-03   \n4  [Me enjoying “Sunflower” and someone then inte...   2018-10-18   \n\n                                      annotation_ids  \n0  ['15720075', '15720076', '15720054', '15720247...  \n1  ['15517989', '15520369', '15518283', '15518820...  \n2  ['8393500', '8393500', '21611023', '8393500', ...  \n3  ['15114078', '17948214', '15113868', '15113778...  \n4                           ['16057378', '16057378']  \n\n[5 rows x 22 columns]",
      "text/html": "<div>\n<style scoped>\n    .dataframe tbody tr th:only-of-type {\n        vertical-align: middle;\n    }\n\n    .dataframe tbody tr th {\n        vertical-align: top;\n    }\n\n    .dataframe thead th {\n        text-align: right;\n    }\n</style>\n<table border=\"1\" class=\"dataframe\">\n  <thead>\n    <tr style=\"text-align: right;\">\n      <th></th>\n      <th>index</th>\n      <th>billboard_id</th>\n      <th>lyrics_id</th>\n      <th>artist</th>\n      <th>first_artist</th>\n      <th>song</th>\n      <th>weeks_on_chart</th>\n      <th>peak_rank</th>\n      <th>genius_id</th>\n      <th>lyrics</th>\n      <th>...</th>\n      <th>word_count</th>\n      <th>language</th>\n      <th>language_score</th>\n      <th>first_appearance</th>\n      <th>genius_primary_artist</th>\n      <th>genius_description</th>\n      <th>genius_annotations</th>\n      <th>genius_comments</th>\n      <th>release_date</th>\n      <th>annotation_ids</th>\n    </tr>\n  </thead>\n  <tbody>\n    <tr>\n      <th>0</th>\n      <td>0</td>\n      <td>0</td>\n      <td>0</td>\n      <td>Ariana Grande</td>\n      <td>Ariana Grande</td>\n      <td>Thank U, Next</td>\n      <td>28.0</td>\n      <td>1.0</td>\n      <td>4063065</td>\n      <td>Thought I'd end up with Sean\\nBut he wasn't a ...</td>\n      <td>...</td>\n      <td>460</td>\n      <td>en</td>\n      <td>0.999997</td>\n      <td>2019-01-05</td>\n      <td>Ariana Grande</td>\n      <td>On the lead single and titular track to her fi...</td>\n      <td>[(One taught me love\\n One taught me patience\\...</td>\n      <td>[The Mac shoutout has me fully in tears, this ...</td>\n      <td>2018-11-03</td>\n      <td>['15720075', '15720076', '15720054', '15720247...</td>\n    </tr>\n    <tr>\n      <th>1</th>\n      <td>1</td>\n      <td>1</td>\n      <td>1</td>\n      <td>Halsey</td>\n      <td>Halsey</td>\n      <td>Without Me</td>\n      <td>52.0</td>\n      <td>1.0</td>\n      <td>3977187</td>\n      <td>Found you when your heart was broke\\nI filled ...</td>\n      <td>...</td>\n      <td>435</td>\n      <td>en</td>\n      <td>0.999995</td>\n      <td>2019-01-05</td>\n      <td>Halsey</td>\n      <td>“Without Me” is the first new song released by...</td>\n      <td>[(Gave love ’bout a hundred tries (Hundred tri...</td>\n      <td>[The queen is ready to snatch our wigs once ag...</td>\n      <td>2018-10-04</td>\n      <td>['15517989', '15520369', '15518283', '15518820...</td>\n    </tr>\n    <tr>\n      <th>2</th>\n      <td>2</td>\n      <td>2</td>\n      <td>2</td>\n      <td>Mariah Carey</td>\n      <td>Mariah Carey</td>\n      <td>All I Want For Christmas Is You</td>\n      <td>43.0</td>\n      <td>1.0</td>\n      <td>204233</td>\n      <td>I don't want a lot for Christmas\\nThere is jus...</td>\n      <td>...</td>\n      <td>388</td>\n      <td>en</td>\n      <td>0.999996</td>\n      <td>2019-01-05</td>\n      <td>Mariah Carey</td>\n      <td>“All I Want For Christmas Is You” is an uptemp...</td>\n      <td>[(I don’t need to hang my stocking\\n There upo...</td>\n      <td>[i really like this song, it’s about that time...</td>\n      <td>1994-11-01</td>\n      <td>['8393500', '8393500', '21611023', '8393500', ...</td>\n    </tr>\n    <tr>\n      <th>3</th>\n      <td>3</td>\n      <td>3</td>\n      <td>3</td>\n      <td>Travis Scott</td>\n      <td>Travis Scott</td>\n      <td>Sicko Mode</td>\n      <td>52.0</td>\n      <td>1.0</td>\n      <td>3876994</td>\n      <td>Astro, yeah\\nSun is down, freezin' cold\\nThat'...</td>\n      <td>...</td>\n      <td>771</td>\n      <td>en</td>\n      <td>0.999998</td>\n      <td>2019-01-05</td>\n      <td>Travis Scott</td>\n      <td>“SICKO MODE” refers to Travis and Drake’s work...</td>\n      <td>[(She’s in love with who I am, [['Since Drake ...</td>\n      <td>[HAD ME OUT LIKE A LIGHT (ayy) LIKE A LIGHT (y...</td>\n      <td>2018-08-03</td>\n      <td>['15114078', '17948214', '15113868', '15113778...</td>\n    </tr>\n    <tr>\n      <th>4</th>\n      <td>4</td>\n      <td>4</td>\n      <td>4</td>\n      <td>Post Malone &amp; Swae Lee</td>\n      <td>Post Malone</td>\n      <td>Sunflower (Spider-Man: Into The Spider-Verse)</td>\n      <td>53.0</td>\n      <td>1.0</td>\n      <td>3993850</td>\n      <td>Ayy, ayy, ayy, ayy (Ooh)\\nOoh, ooh, ooh, ooh (...</td>\n      <td>...</td>\n      <td>305</td>\n      <td>en</td>\n      <td>0.999997</td>\n      <td>2019-01-05</td>\n      <td>Post Malone &amp; Swae Lee</td>\n      <td>“Sunflower” marks the second collaboration by ...</td>\n      <td>[(Then you’re left in the dust, unless I stuck...</td>\n      <td>[Me enjoying “Sunflower” and someone then inte...</td>\n      <td>2018-10-18</td>\n      <td>['16057378', '16057378']</td>\n    </tr>\n  </tbody>\n</table>\n<p>5 rows × 22 columns</p>\n</div>"
     },
     "execution_count": 2,
     "metadata": {},
     "output_type": "execute_result"
    }
   ],
   "source": [
    "lyrics = pd.read_csv('../../data/lyrics/bb_t100_lyrics_en.csv', index_col=0, encoding='utf-8')\n",
    "lyrics['first_appearance'] = pd.to_datetime(lyrics['first_appearance'], format='%Y-%m-%d')\n",
    "lyrics['release_date'] = pd.to_datetime(lyrics['release_date'], format='%Y-%m-%d')\n",
    "lyrics['genius_annotations'] = lyrics['genius_annotations'].apply(literal_eval)\n",
    "lyrics['genius_comments'] = lyrics['genius_comments'].apply(literal_eval)\n",
    "lyrics.reset_index(inplace=True)\n",
    "lyrics.head()"
   ]
  },
  {
   "cell_type": "markdown",
   "source": [
    "### AZLyrics"
   ],
   "metadata": {
    "collapsed": false
   }
  },
  {
   "cell_type": "code",
   "execution_count": 3,
   "outputs": [
    {
     "name": "stdout",
     "output_type": "stream",
     "text": [
      "27 CSV files extracted.\n",
      "../../data/input\\azlyrics-scraper\\azlyrics_lyrics_19.csv: 868 songs.\n",
      "../../data/input\\azlyrics-scraper\\azlyrics_lyrics_a.csv: 13046 songs.\n",
      "../../data/input\\azlyrics-scraper\\azlyrics_lyrics_b.csv: 22672 songs.\n",
      "../../data/input\\azlyrics-scraper\\azlyrics_lyrics_c.csv: 10296 songs.\n",
      "../../data/input\\azlyrics-scraper\\azlyrics_lyrics_d.csv: 6349 songs.\n",
      "../../data/input\\azlyrics-scraper\\azlyrics_lyrics_e.csv: 5414 songs.\n",
      "../../data/input\\azlyrics-scraper\\azlyrics_lyrics_f.csv: 2450 songs.\n",
      "../../data/input\\azlyrics-scraper\\azlyrics_lyrics_g.csv: 4542 songs.\n",
      "../../data/input\\azlyrics-scraper\\azlyrics_lyrics_h.csv: 4258 songs.\n",
      "../../data/input\\azlyrics-scraper\\azlyrics_lyrics_i.csv: 2161 songs.\n",
      "../../data/input\\azlyrics-scraper\\azlyrics_lyrics_j.csv: 11975 songs.\n",
      "../../data/input\\azlyrics-scraper\\azlyrics_lyrics_k.csv: 4610 songs.\n",
      "../../data/input\\azlyrics-scraper\\azlyrics_lyrics_l.csv: 6151 songs.\n",
      "../../data/input\\azlyrics-scraper\\azlyrics_lyrics_m.csv: 12239 songs.\n",
      "../../data/input\\azlyrics-scraper\\azlyrics_lyrics_n.csv: 3052 songs.\n",
      "../../data/input\\azlyrics-scraper\\azlyrics_lyrics_o.csv: 869 songs.\n",
      "../../data/input\\azlyrics-scraper\\azlyrics_lyrics_p.csv: 5578 songs.\n",
      "../../data/input\\azlyrics-scraper\\azlyrics_lyrics_q.csv: 386 songs.\n",
      "../../data/input\\azlyrics-scraper\\azlyrics_lyrics_r.csv: 3757 songs.\n",
      "../../data/input\\azlyrics-scraper\\azlyrics_lyrics_s.csv: 12703 songs.\n",
      "../../data/input\\azlyrics-scraper\\azlyrics_lyrics_t.csv: 5157 songs.\n",
      "../../data/input\\azlyrics-scraper\\azlyrics_lyrics_u.csv: 877 songs.\n",
      "../../data/input\\azlyrics-scraper\\azlyrics_lyrics_v.csv: 1432 songs.\n",
      "../../data/input\\azlyrics-scraper\\azlyrics_lyrics_w.csv: 4697 songs.\n",
      "../../data/input\\azlyrics-scraper\\azlyrics_lyrics_x.csv: 317 songs.\n",
      "../../data/input\\azlyrics-scraper\\azlyrics_lyrics_y.csv: 1183 songs.\n",
      "../../data/input\\azlyrics-scraper\\azlyrics_lyrics_z.csv: 833 songs.\n",
      "Total: 147872\n"
     ]
    }
   ],
   "source": [
    "import csv\n",
    "import glob\n",
    "\n",
    "\n",
    "def _get_csv_file_list(unzipping_output_folder):\n",
    "    \"\"\"\n",
    "    Extract all the csv file paths given the folder path.\n",
    "    :param unzipping_output_folder: Folder path.\n",
    "    :return: List of CSV file paths.\n",
    "    \"\"\"\n",
    "    csv_file_list = [i for i in glob.glob(f'{unzipping_output_folder}/**/*.csv')]\n",
    "    print(f'{len(csv_file_list)} CSV files extracted.')\n",
    "    return csv_file_list\n",
    "\n",
    "azlyrics = []\n",
    "def _read(csv_file_list):\n",
    "    \"\"\"\n",
    "    Read the list of data CSVs.\n",
    "    :param csv_file_list: List of CSV file paths where the data is.\n",
    "    :return: CSVs read.\n",
    "    \"\"\"\n",
    "    total = 0\n",
    "    for csv_file_name in csv_file_list:\n",
    "        with open(csv_file_name, 'r') as csv_file:\n",
    "            rows = [row for row in csv.reader(csv_file) if row][1:]\n",
    "            total += len(rows)\n",
    "            print(f'{csv_file_name}: {len(rows)} songs.')\n",
    "        azlyrics.append(rows)\n",
    "    print(f'Total: {total}')\n",
    "\n",
    "\n",
    "data_folder = '../../data/input/'\n",
    "csv_file_list = _get_csv_file_list(data_folder)\n",
    "_read(csv_file_list)"
   ],
   "metadata": {
    "collapsed": false,
    "pycharm": {
     "name": "#%%\n"
    }
   }
  },
  {
   "cell_type": "code",
   "execution_count": 4,
   "outputs": [
    {
     "data": {
      "text/plain": "     artists                               artist_links               songs  \\\n0  03 greedo  https://www.azlyrics.com/19/03greedo.html          sweet lady   \n1  03 greedo  https://www.azlyrics.com/19/03greedo.html      mafia business   \n2  03 greedo  https://www.azlyrics.com/19/03greedo.html            paranoid   \n3  03 greedo  https://www.azlyrics.com/19/03greedo.html          never bend   \n4  03 greedo  https://www.azlyrics.com/19/03greedo.html  prayer for my lost   \n\n                                          song_links  \\\n0  https://www.azlyrics.com/lyrics/03greedo/sweet...   \n1  https://www.azlyrics.com/lyrics/03greedo/mafia...   \n2  https://www.azlyrics.com/lyrics/03greedo/paran...   \n3  https://www.azlyrics.com/lyrics/03greedo/never...   \n4  https://www.azlyrics.com/lyrics/03greedo/praye...   \n\n                                              lyrics  \n0  its only one, 03, i'm from grape street, where...  \n1  you gonna make me put you in a suit and tie, s...  \n2  we could kill it, yeah, we could, we could, we...  \n3  yeah, you lil bitch ass niggas steady speaking...  \n4  x loaded up bro, never see me in the church, p...  ",
      "text/html": "<div>\n<style scoped>\n    .dataframe tbody tr th:only-of-type {\n        vertical-align: middle;\n    }\n\n    .dataframe tbody tr th {\n        vertical-align: top;\n    }\n\n    .dataframe thead th {\n        text-align: right;\n    }\n</style>\n<table border=\"1\" class=\"dataframe\">\n  <thead>\n    <tr style=\"text-align: right;\">\n      <th></th>\n      <th>artists</th>\n      <th>artist_links</th>\n      <th>songs</th>\n      <th>song_links</th>\n      <th>lyrics</th>\n    </tr>\n  </thead>\n  <tbody>\n    <tr>\n      <th>0</th>\n      <td>03 greedo</td>\n      <td>https://www.azlyrics.com/19/03greedo.html</td>\n      <td>sweet lady</td>\n      <td>https://www.azlyrics.com/lyrics/03greedo/sweet...</td>\n      <td>its only one, 03, i'm from grape street, where...</td>\n    </tr>\n    <tr>\n      <th>1</th>\n      <td>03 greedo</td>\n      <td>https://www.azlyrics.com/19/03greedo.html</td>\n      <td>mafia business</td>\n      <td>https://www.azlyrics.com/lyrics/03greedo/mafia...</td>\n      <td>you gonna make me put you in a suit and tie, s...</td>\n    </tr>\n    <tr>\n      <th>2</th>\n      <td>03 greedo</td>\n      <td>https://www.azlyrics.com/19/03greedo.html</td>\n      <td>paranoid</td>\n      <td>https://www.azlyrics.com/lyrics/03greedo/paran...</td>\n      <td>we could kill it, yeah, we could, we could, we...</td>\n    </tr>\n    <tr>\n      <th>3</th>\n      <td>03 greedo</td>\n      <td>https://www.azlyrics.com/19/03greedo.html</td>\n      <td>never bend</td>\n      <td>https://www.azlyrics.com/lyrics/03greedo/never...</td>\n      <td>yeah, you lil bitch ass niggas steady speaking...</td>\n    </tr>\n    <tr>\n      <th>4</th>\n      <td>03 greedo</td>\n      <td>https://www.azlyrics.com/19/03greedo.html</td>\n      <td>prayer for my lost</td>\n      <td>https://www.azlyrics.com/lyrics/03greedo/praye...</td>\n      <td>x loaded up bro, never see me in the church, p...</td>\n    </tr>\n  </tbody>\n</table>\n</div>"
     },
     "execution_count": 4,
     "metadata": {},
     "output_type": "execute_result"
    }
   ],
   "source": [
    "azlyrics_data = {\n",
    "    'artists' : list(),\n",
    "    'artist_links' : list(),\n",
    "    'songs' : list(),\n",
    "    'song_links' : list(),\n",
    "    'lyrics' : list()\n",
    "}\n",
    "for doc in azlyrics:\n",
    "    for row in doc:\n",
    "        if len(row) == 5:\n",
    "            azlyrics_data['artists'].append(row[0])\n",
    "            azlyrics_data['artist_links'].append(row[1])\n",
    "            azlyrics_data['songs'].append(row[2])\n",
    "            azlyrics_data['song_links'].append(row[3])\n",
    "            azlyrics_data['lyrics'].append(row[4])\n",
    "\n",
    "azlyrics_df = pd.DataFrame(data=azlyrics_data)\n",
    "azlyrics_df.head()"
   ],
   "metadata": {
    "collapsed": false,
    "pycharm": {
     "name": "#%%\n"
    }
   }
  },
  {
   "cell_type": "markdown",
   "source": [
    "## Tokenization"
   ],
   "metadata": {
    "collapsed": false
   }
  },
  {
   "cell_type": "markdown",
   "source": [
    "### Lyrics"
   ],
   "metadata": {
    "collapsed": false
   }
  },
  {
   "cell_type": "code",
   "execution_count": 5,
   "metadata": {
    "pycharm": {
     "name": "#%%\n"
    }
   },
   "outputs": [],
   "source": [
    "nlp = spacy.load(\"en_core_web_lg\")\n",
    "nlp.Defaults.stop_words |= {'ai', 'gon', '\\u2005', 'ooh', 'let', 've', 'gonna', 'woah', 'gotta', 'll', 'mmm', 'maybe',\n",
    "                            'got', 'oh', 'uh', 'want', 'huh', 'ah', 'ma', 'hey', 'woo', 'ain', 'come', 'goin', 'ya',\n",
    "                            'la', 'bah', 'yeah', 'ayy', 'em', 'tryna', 'goes', 'damn', 'ooo', 'comin', 'ran', 'wanna',\n",
    "                            'okay', 'til', 'didn', \"i\\'mma\", \"mi\", \"da\", \"dem\", \"gyal\", \"yuh\", \"fi\", \"di\", \"nuh\", \"ni\", \"yo\", \"dum\", \"gal\" \"wi\", \"w\", \"inna\"}"
   ]
  },
  {
   "cell_type": "code",
   "execution_count": 6,
   "metadata": {
    "pycharm": {
     "name": "#%%\n"
    }
   },
   "outputs": [],
   "source": [
    "def create_doc(text, pos_tags=[\"NOUN\", 'PROPN', \"VERB\", \"ADJ\"]):\n",
    "    lines = text.split('\\n')\n",
    "    lines_unique_list = []\n",
    "    for line in lines:\n",
    "        if len(line) == 0:\n",
    "            continue\n",
    "        if line not in lines_unique_list:\n",
    "            lines_unique_list.append(line)\n",
    "    unique_lines = \" \".join(lines_unique_list)\n",
    "\n",
    "    lemmas = []\n",
    "    doc = nlp(unique_lines)\n",
    "    for token in doc:\n",
    "        if token.is_stop or token.is_punct:\n",
    "            continue\n",
    "\n",
    "        if token.pos_ in pos_tags:\n",
    "            if token.lemma_ not in nlp.Defaults.stop_words:\n",
    "                lemmas.append(token.lemma_.lower())\n",
    "            else:\n",
    "                continue\n",
    "\n",
    "    return lemmas\n"
   ]
  },
  {
   "cell_type": "code",
   "execution_count": 7,
   "metadata": {
    "pycharm": {
     "name": "#%%\n"
    }
   },
   "outputs": [],
   "source": [
    "try:\n",
    "    with open(\"../../data/cache/topic_docs.txt\", \"r\") as f:\n",
    "        docs = json.load(f)\n",
    "    f.close()\n",
    "except FileNotFoundError:\n",
    "    docs = []\n",
    "    i = 0\n",
    "    l = len(lyrics['lyrics'])\n",
    "    printProgressBar(i, l, prefix='Progress:', suffix='Complete', length=50)\n",
    "    for text in lyrics['lyrics']:\n",
    "        docs.append(create_doc(text))\n",
    "        i+=1\n",
    "        printProgressBar(i, l, prefix='Progress:', suffix='Complete', length=50)\n",
    "\n",
    "    with open(\"../../data/cache/topic_docs.txt\", \"w\") as f:\n",
    "        json.dump(docs, f)\n",
    "    f.close()\n"
   ]
  },
  {
   "cell_type": "markdown",
   "source": [
    "### AZLyrics"
   ],
   "metadata": {
    "collapsed": false
   }
  },
  {
   "cell_type": "code",
   "execution_count": 8,
   "outputs": [
    {
     "data": {
      "text/plain": "<spacy_langdetect.spacy_langdetect.LanguageDetector at 0x20afdd7fc10>"
     },
     "execution_count": 8,
     "metadata": {},
     "output_type": "execute_result"
    }
   ],
   "source": [
    "from spacy.language import Language\n",
    "from langdetect import DetectorFactory\n",
    "from spacy_langdetect import LanguageDetector\n",
    "\n",
    "@Language.factory(\"language_detector\")\n",
    "def create_language_detector(nlp, name):\n",
    "    return LanguageDetector(language_detection_function=None)\n",
    "\n",
    "nlp.add_pipe('language_detector')"
   ],
   "metadata": {
    "collapsed": false,
    "pycharm": {
     "name": "#%%\n"
    }
   }
  },
  {
   "cell_type": "code",
   "execution_count": 9,
   "outputs": [],
   "source": [
    "def create_doc(text, pos_tags=[\"NOUN\", 'PROPN', \"VERB\", \"ADJ\"]):\n",
    "    lemmas = []\n",
    "    doc = nlp(text)\n",
    "    if doc._.language['language'] == 'en' and doc._.language['score'] > 0.95:\n",
    "        for token in doc:\n",
    "            if token.is_stop or token.is_punct:\n",
    "                continue\n",
    "\n",
    "            if token.pos_ in pos_tags:\n",
    "                if token.lemma_ not in nlp.Defaults.stop_words:\n",
    "                    lemmas.append(token.lemma_.lower())\n",
    "                else:\n",
    "                    continue\n",
    "    return lemmas"
   ],
   "metadata": {
    "collapsed": false,
    "pycharm": {
     "name": "#%%\n"
    }
   }
  },
  {
   "cell_type": "code",
   "execution_count": 10,
   "outputs": [
    {
     "name": "stdout",
     "output_type": "stream",
     "text": [
      "Progress: |██████████████████████████████████████████████████| 100.0% Complete\r\n"
     ]
    }
   ],
   "source": [
    "import random\n",
    "\n",
    "try:\n",
    "    with open(\"../../data/cache/azlyrics_docs_test.txt\", \"r\") as f:\n",
    "        azlyrics_docs = json.load(f)\n",
    "    f.close()\n",
    "except FileNotFoundError:\n",
    "    random_lyrics = azlyrics_data['lyrics']\n",
    "    random.shuffle(random_lyrics)\n",
    "    texts = random_lyrics[:500]\n",
    "    # texts = azlyrics_data['lyrics'] #very time consuming\n",
    "    azlyrics_docs = []\n",
    "    i = 0\n",
    "    l = len(texts)\n",
    "    printProgressBar(0, l, prefix='Progress:', suffix='Complete', length=50)\n",
    "    for text in texts:\n",
    "        azlyrics_docs.append(create_doc(text))\n",
    "        i+=1\n",
    "        printProgressBar(i, l, prefix='Progress:', suffix='Complete', length=50)\n",
    "    with open(\"../../data/cache/azlyrics_docs_test.txt\", \"w\") as f:\n",
    "        json.dump(azlyrics_docs, f)\n",
    "    f.close()"
   ],
   "metadata": {
    "collapsed": false,
    "pycharm": {
     "name": "#%%\n"
    }
   }
  },
  {
   "cell_type": "markdown",
   "source": [
    "## Generate Corpus and Id2Word-Dictionary"
   ],
   "metadata": {
    "collapsed": false
   }
  },
  {
   "cell_type": "markdown",
   "source": [
    "### Lyrics"
   ],
   "metadata": {
    "collapsed": false
   }
  },
  {
   "cell_type": "code",
   "execution_count": 11,
   "outputs": [],
   "source": [
    "def optimize_corpus(corpus, id2word, words_missing_in_tfidf = [], low_value= 0.03):\n",
    "    tfidf = TfidfModel(corpus, id2word=id2word)\n",
    "    dropped_words = []\n",
    "    l = len(corpus)\n",
    "    for i in range(0, l):\n",
    "        bow = corpus[i]\n",
    "        tfidf_ids = [tfidf_id for tfidf_id, tfidf_value in tfidf[bow]]\n",
    "        bow_ids = [bow_id for bow_id, bow_value in bow]\n",
    "        low_value_words = [tfidf_id for tfidf_id, tfidf_value in tfidf[bow] if tfidf_value < low_value]\n",
    "        drops = low_value_words+words_missing_in_tfidf\n",
    "        for word_id in drops:\n",
    "            dropped_words.append(id2word[word_id])\n",
    "        words_missing_in_tfidf = [bow_id for bow_id in bow_ids if bow_id not in tfidf_ids]\n",
    "        new_bow = [b for b in bow if b[0] not in low_value_words and b[0] not in words_missing_in_tfidf]\n",
    "        corpus[i] = new_bow\n",
    "        printProgressBar(i+1, l, prefix='Progress:', suffix='Complete', length=50)\n",
    "    return corpus, dropped_words, words_missing_in_tfidf"
   ],
   "metadata": {
    "collapsed": false,
    "pycharm": {
     "name": "#%%\n"
    }
   }
  },
  {
   "cell_type": "code",
   "execution_count": 12,
   "metadata": {
    "pycharm": {
     "name": "#%%\n"
    }
   },
   "outputs": [
    {
     "name": "stdout",
     "output_type": "stream",
     "text": [
      "Progress: |██████████████████████████████████████████████████| 100.0% Complete\r\n"
     ]
    }
   ],
   "source": [
    "texts = docs\n",
    "id2word = corpora.Dictionary(texts)\n",
    "corpus = [id2word.doc2bow(text) for text in texts]\n",
    "\n",
    "corpus = optimize_corpus(corpus, id2word)[0]"
   ]
  },
  {
   "cell_type": "markdown",
   "source": [
    "### AZLyrics"
   ],
   "metadata": {
    "collapsed": false
   }
  },
  {
   "cell_type": "code",
   "execution_count": 13,
   "outputs": [
    {
     "name": "stdout",
     "output_type": "stream",
     "text": [
      "Progress: |██████████████████████████████████████████████████| 100.0% Complete\r\n"
     ]
    }
   ],
   "source": [
    "azlyrics_texts = azlyrics_docs\n",
    "azlyrics_id2word = corpora.Dictionary(texts)\n",
    "azlyrics_corpus = [azlyrics_id2word.doc2bow(text) for text in azlyrics_texts]\n",
    "\n",
    "azlyrics_corpus = optimize_corpus(azlyrics_corpus, azlyrics_id2word)[0]"
   ],
   "metadata": {
    "collapsed": false,
    "pycharm": {
     "name": "#%%\n"
    }
   }
  },
  {
   "cell_type": "markdown",
   "source": [
    "## Modeling"
   ],
   "metadata": {
    "collapsed": false
   }
  },
  {
   "cell_type": "markdown",
   "source": [
    "### LDA Model for Billboard Lyrics (don't use!)"
   ],
   "metadata": {
    "collapsed": false
   }
  },
  {
   "cell_type": "code",
   "execution_count": 15,
   "outputs": [],
   "source": [
    "# lda_model = gensim.models.ldamodel.LdaModel(corpus=corpus,\n",
    "#                                             id2word=id2word,\n",
    "#                                             num_topics=10,\n",
    "#                                             update_every=1,\n",
    "#                                             chunksize=100,\n",
    "#                                             passes=10,\n",
    "#                                             alpha='auto',\n",
    "#                                             random_state=1)"
   ],
   "metadata": {
    "collapsed": false,
    "pycharm": {
     "name": "#%%\n"
    }
   }
  },
  {
   "cell_type": "markdown",
   "source": [
    "Topic Visualization"
   ],
   "metadata": {
    "collapsed": false
   }
  },
  {
   "cell_type": "code",
   "execution_count": 16,
   "outputs": [],
   "source": [
    "# import pyLDAvis\n",
    "# import pyLDAvis.gensim_models\n",
    "#\n",
    "# pyLDAvis.enable_notebook()\n",
    "# pyLDAvis.gensim_models.prepare(lda_model, corpus, id2word, mds=\"mmds\")"
   ],
   "metadata": {
    "collapsed": false,
    "pycharm": {
     "name": "#%%\n"
    }
   }
  },
  {
   "cell_type": "markdown",
   "source": [
    "### LDA Model for AZLyrics"
   ],
   "metadata": {
    "collapsed": false
   }
  },
  {
   "cell_type": "code",
   "execution_count": 14,
   "outputs": [],
   "source": [
    "try:\n",
    "    azlyrics_lda_model = gensim.models.ldamodel.LdaModel.load('../../gensim/models/azlyrics_lda_test')\n",
    "except FileNotFoundError:\n",
    "    azlyrics_lda_model = gensim.models.ldamodel.LdaModel(corpus=azlyrics_corpus,\n",
    "                                                id2word=azlyrics_id2word,\n",
    "                                                num_topics=7,\n",
    "                                                chunksize=2000,\n",
    "                                                passes=20,\n",
    "                                                alpha='auto',\n",
    "                                                iterations=200,\n",
    "                                                random_state=1)\n",
    "    azlyrics_lda_model.save('../../gensim/models/azlyrics_lda_test')\n"
   ],
   "metadata": {
    "collapsed": false,
    "pycharm": {
     "name": "#%%\n"
    }
   }
  },
  {
   "cell_type": "markdown",
   "source": [
    "Topic Visualization"
   ],
   "metadata": {
    "collapsed": false
   }
  },
  {
   "cell_type": "code",
   "execution_count": 15,
   "outputs": [
    {
     "name": "stderr",
     "output_type": "stream",
     "text": [
      "c:\\users\\fried\\documents\\1_bildung\\2_programmierung\\python\\datascience\\chart-lyrics-analysis\\venv\\lib\\site-packages\\pyLDAvis\\_prepare.py:246: FutureWarning: In a future version of pandas all arguments of DataFrame.drop except for the argument 'labels' will be keyword-only\n",
      "  default_term_info = default_term_info.sort_values(\n"
     ]
    },
    {
     "data": {
      "text/plain": "PreparedData(topic_coordinates=              x         y  topics  cluster       Freq\ntopic                                                \n5     -0.242586  0.054555       1        1  57.319146\n0     -0.066592 -0.125254       2        1  17.528362\n6      0.029278 -0.058757       3        1   7.070536\n3      0.005180  0.061292       4        1   5.351900\n1      0.113667  0.029402       5        1   4.931480\n2      0.083825 -0.005996       6        1   4.020843\n4      0.077229  0.044759       7        1   3.777733, topic_info=          Term        Freq       Total Category  logprob  loglift\n30        love  508.000000  508.000000  Default  30.0000  30.0000\n69        feel  266.000000  266.000000  Default  29.0000  29.0000\n991  beautiful   49.000000   49.000000  Default  28.0000  28.0000\n53        time  273.000000  273.000000  Default  27.0000  27.0000\n498      nigga  113.000000  113.000000  Default  26.0000  26.0000\n..         ...         ...         ...      ...      ...      ...\n151        boy    2.732283   30.835797   Topic7  -6.0535   0.8525\n53        time    3.335185  273.451613   Topic7  -5.8541  -1.1306\n69        feel    3.305828  266.138756   Topic7  -5.8630  -1.1123\n16        good    2.859867  116.340047   Topic7  -6.0079  -0.4297\n246       play    2.659686   64.604077   Topic7  -6.0805   0.0860\n\n[456 rows x 6 columns], token_table=       Topic      Freq       Term\nterm                             \n3789       2  0.135607       able\n3789       5  0.881448       able\n3220       3  0.819898      adams\n3287       1  0.968514  addiction\n60         1  0.985663     afraid\n...      ...       ...        ...\n1473       2  0.193558     yellow\n1473       5  0.709713     yellow\n1473       6  0.064519     yellow\n13032      4  0.527445       yore\n1508       2  0.809972      youth\n\n[842 rows x 3 columns], R=30, lambda_step=0.01, plot_opts={'xlab': 'PC1', 'ylab': 'PC2'}, topic_order=[6, 1, 7, 4, 2, 3, 5])",
      "text/html": "\n<link rel=\"stylesheet\" type=\"text/css\" href=\"https://cdn.jsdelivr.net/gh/bmabey/pyLDAvis@3.3.1/pyLDAvis/js/ldavis.v1.0.0.css\">\n\n\n<div id=\"ldavis_el1502022463932773441648313364\"></div>\n<script type=\"text/javascript\">\n\nvar ldavis_el1502022463932773441648313364_data = {\"mdsDat\": {\"x\": [-0.24258623434178472, -0.06659208838228645, 0.02927765839147075, 0.005179936153714971, 0.1136673553685376, 0.08382461030047156, 0.07722876250987624], \"y\": [0.05455455029573873, -0.1252535840552385, -0.058757367809041096, 0.06129182241026524, 0.029401827549883366, -0.0059964573673184605, 0.044759208975710695], \"topics\": [1, 2, 3, 4, 5, 6, 7], \"cluster\": [1, 1, 1, 1, 1, 1, 1], \"Freq\": [57.31914637276711, 17.5283619402762, 7.0705358164117, 5.351899867821035, 4.931480120874437, 4.020843244952619, 3.7777326368969084]}, \"tinfo\": {\"Term\": [\"love\", \"feel\", \"beautiful\", \"time\", \"nigga\", \"house\", \"way\", \"little\", \"hold\", \"people\", \"break\", \"try\", \"shoot\", \"work\", \"holy\", \"night\", \"fuck\", \"live\", \"man\", \"know\", \"need\", \"wrong\", \"good\", \"grow\", \"dey\", \"bitch\", \"girl\", \"shit\", \"miss\", \"new\", \"addiction\", \"moon\", \"follow\", \"afraid\", \"guess\", \"right\", \"eyed\", \"sight\", \"thing\", \"thought\", \"flower\", \"dawn\", \"promise\", \"forget\", \"baby\", \"crawl\", \"tick\", \"moment\", \"wine\", \"future\", \"tock\", \"sway\", \"mirror\", \"belong\", \"worth\", \"mexican\", \"memory\", \"asleep\", \"road\", \"remind\", \"know\", \"touch\", \"sun\", \"dream\", \"find\", \"truth\", \"day\", \"leave\", \"think\", \"look\", \"hurt\", \"life\", \"run\", \"lie\", \"word\", \"love\", \"way\", \"time\", \"night\", \"sleep\", \"heart\", \"eye\", \"song\", \"break\", \"feel\", \"world\", \"need\", \"fall\", \"lose\", \"hand\", \"tell\", \"believe\", \"hold\", \"good\", \"girl\", \"hater\", \"hoe\", \"pussy\", \"turnin\", \"bitch\", \"constant\", \"hallelujah\", \"power\", \"nigga\", \"dee\", \"jail\", \"molly\", \"joan\", \"wi\", \"dam\", \"youth\", \"temperature\", \"cop\", \"jeezy\", \"force\", \"lounge\", \"ceiling\", \"shop\", \"honor\", \"baller\", \"limit\", \"nature\", \"cash\", \"ass\", \"gunshot\", \"dough\", \"thank\", \"king\", \"fuckin\", \"u\", \"niggas\", \"money\", \"doo\", \"dirty\", \"lick\", \"drop\", \"bottle\", \"praise\", \"fuck\", \"child\", \"fear\", \"shit\", \"goin'\", \"man\", \"fine\", \"son\", \"tell\", \"enemy\", \"big\", \"fucking\", \"cause\", \"remember\", \"start\", \"people\", \"love\", \"hit\", \"try\", \"turn\", \"girl\", \"shoot\", \"think\", \"jingle\", \"potato\", \"riding\", \"cute\", \"project\", \"reindeer\", \"motherfucking\", \"horse\", \"holy\", \"christmas\", \"rudolph\", \"sleigh\", \"ceilin\", \"buildin\", \"du\", \"adams\", \"yeh\", \"favourite\", \"fox\", \"milky\", \"boil\", \"roller\", \"bell\", \"fry\", \"swell\", \"aight\", \"spaceship\", \"spinning\", \"bike\", \"crank\", \"case\", \"gangsta\", \"rock\", \"european\", \"feelin\", \"hot\", \"fail\", \"quarter\", \"high\", \"kick\", \"feel\", \"like\", \"black\", \"way\", \"girl\", \"star\", \"gettin\", \"fuck\", \"lord\", \"hit\", \"shit\", \"people\", \"drive\", \"hear\", \"heart\", \"fine\", \"tell\", \"maiden\", \"headache\", \"warrior\", \"wire\", \"steer\", \"distance\", \"ecstasy\", \"awful\", \"yore\", \"georgia\", \"magnificent\", \"raincoat\", \"bloodstain\", \"dose\", \"morphine\", \"fingerprint\", \"list\", \"comeback\", \"double\", \"m\", \"welfare\", \"torch\", \"relative\", \"e.\", \"plaid\", \"raisin\", \"treatin\", \"trey\", \"versace\", \"oprah\", \"flyer\", \"work\", \"weekend\", \"pressure\", \"bit\", \"beer\", \"waste\", \"freedom\", \"guilty\", \"answer\", \"little\", \"s\", \"hold\", \"bet\", \"babe\", \"club\", \"miss\", \"wonderful\", \"time\", \"wash\", \"cause\", \"fuck\", \"fear\", \"live\", \"love\", \"walk\", \"sing\", \"kid\", \"good\", \"rain\", \"wish\", \"tonight\", \"end\", \"man\", \"day\", \"runaway\", \"algo\", \"neon\", \"cindy\", \"ju\", \"rum\", \"glad\", \"able\", \"sigel\", \"confess\", \"dey\", \"silent\", \"house\", \"trinidad\", \"jigga\", \"roc\", \"salgo\", \"aye\", \"bubble\", \"ordinary\", \"coca\", \"yellow\", \"fantasy\", \"gentleman\", \"hunger\", \"fulfill\", \"fairy\", \"knight\", \"magazine\", \"slave\", \"cola\", \"shoot\", \"roof\", \"nan\", \"hustle\", \"lo\", \"people\", \"alive\", \"darling\", \"tide\", \"lead\", \"need\", \"love\", \"live\", \"hope\", \"place\", \"close\", \"know\", \"girl\", \"whine\", \"sos\", \"gal\", \"ven\", \"issue\", \"mis\", \"tengo\", \"cuerpo\", \"dial\", \"going\", \"grind\", \"cena\", \"de\", \"friday\", \"mueve\", \"bajo\", \"quiero\", \"toca\", \"junto\", \"dejo\", \"baila\", \"quilt\", \"brake\", \"grillin\", \"rot\", \"corpse\", \"frost\", \"underground\", \"hiding\", \"rebuild\", \"te\", \"mic\", \"prove\", \"mate\", \"unwind\", \"woman\", \"ti\", \"tu\", \"monster\", \"flow\", \"undo\", \"dat\", \"bind\", \"heel\", \"rescue\", \"knock\", \"body\", \"lo\", \"hot\", \"wrong\", \"dey\", \"flame\", \"y\", \"new\", \"night\", \"charge\", \"man\", \"good\", \"eye\", \"high\", \"turn\", \"girl\", \"work\", \"wait\", \"time\", \"dive\", \"beautiful\", \"ivy\", \"boat\", \"teenager\", \"glory\", \"weigh\", \"tame\", \"difficult\", \"business\", \"team\", \"dangerous\", \"itch\", \"shawty\", \"heartbreak\", \"pennsylvania\", \"reminisce\", \"blade\", \"swerve\", \"simba\", \"linen\", \"consume\", \"fiery\", \"woh\", \"rid\", \"defend\", \"jubilee\", \"uncle\", \"annie\", \"fountain\", \"broke\", \"vine\", \"sail\", \"poison\", \"branch\", \"doin'\", \"plant\", \"ay\", \"e\", \"tide\", \"r\", \"people\", \"crime\", \"try\", \"grow\", \"happy\", \"break\", \"love\", \"breathe\", \"home\", \"praise\", \"hard\", \"like\", \"hope\", \"boy\", \"time\", \"feel\", \"good\", \"play\"], \"Freq\": [508.0, 266.0, 49.0, 273.0, 113.0, 53.0, 209.0, 87.0, 100.0, 86.0, 123.0, 95.0, 48.0, 53.0, 42.0, 175.0, 98.0, 87.0, 106.0, 574.0, 178.0, 48.0, 116.0, 43.0, 26.0, 46.0, 121.0, 72.0, 43.0, 66.0, 25.398559795362964, 24.454515621788886, 44.39235283237783, 37.81816831922591, 20.50885749570339, 64.74717775458005, 16.040753326807135, 15.998821004896259, 128.00312267576845, 17.75751874483128, 15.971184166199782, 15.989158535891224, 22.881192883780475, 65.83089842259999, 160.1851506401181, 12.297376442262603, 12.295480511375773, 26.565982833596777, 13.125868455410732, 12.229990786024374, 11.360929343861807, 11.35853426757357, 12.219230402545872, 27.846245598089634, 11.318867613883901, 11.305137007152576, 19.159780450994198, 10.422944754378896, 19.192586423034886, 10.41438122689548, 550.5376091302049, 46.851948285464026, 61.712636638346126, 108.5496146699605, 126.95458046101811, 26.544195034120506, 195.98471333316104, 135.12230823617622, 184.06048710628065, 156.24023404279768, 50.16053871393766, 153.26762803826438, 102.03927146987756, 66.27682218882082, 72.90902259792897, 440.59205526249934, 187.64958492576775, 241.92615467537522, 157.50941906593334, 48.63584054359234, 167.5038957644666, 143.01982375098692, 72.14998471599527, 111.04302465637171, 230.34264551031518, 93.25589816744211, 156.62477730331943, 104.80348529637118, 91.95671512191069, 74.7018707159344, 151.07339307006004, 79.99095506780203, 83.62496364883806, 89.95586099597037, 84.074933984774, 22.821119745262838, 21.320535475703895, 18.417562899800487, 10.363318637496768, 44.329594779389005, 8.164919026262917, 7.430954358903028, 17.24701545984408, 105.95653354340152, 5.965916392341309, 5.964480444566093, 5.233482209125914, 5.233093385122039, 4.500849530942468, 4.49919153262546, 4.491158139757031, 8.16447680962523, 8.163422776218924, 3.7678409058021245, 3.7675968700581737, 3.767521806296521, 3.7658644361281457, 3.7650085836155776, 3.763607812163815, 3.7627205522195926, 3.7616040180242973, 3.7526635785297047, 7.4316176838595585, 11.345846744154505, 3.0352085416929944, 4.160827650668529, 16.992215760917038, 11.430404344247606, 11.143865551188421, 16.225454825275538, 10.53433210285213, 38.49279747931995, 8.896729771959981, 5.216327469956567, 6.2614226352863085, 14.359314433508052, 12.53826003802834, 11.51680995761922, 54.84940597029028, 24.926829744199768, 19.886542499034768, 37.99065546203776, 18.901533833425006, 42.78906779454992, 22.91272140412727, 12.296442915049743, 45.79836708957437, 10.497821591703131, 16.39277226407387, 12.479961563392413, 21.298846759700993, 15.450437504000867, 18.57226460145209, 17.696484701648185, 24.702362086466774, 14.149309269903036, 14.755223953964167, 14.01509149517609, 13.748627076132799, 12.83563188241358, 12.974295693165448, 14.586664812457022, 6.29361253886088, 4.738647532590015, 4.737915262566527, 7.848139703401438, 4.2203255259922186, 3.682988316563045, 8.885199260831813, 36.77210934120293, 8.366753604486105, 3.1836794857515778, 3.183672644474542, 3.183556342764929, 3.1834762744855443, 3.1834681663053535, 3.1808917920497044, 2.6653557054893646, 2.664916850236534, 2.6644539238237614, 2.6647703962318365, 2.6629156500131748, 14.586750961871548, 10.958416340646329, 2.147027617756425, 2.146878376564787, 2.1457480455700537, 2.1464081021137167, 2.1428184587148396, 2.1388076967072993, 1.628699276642855, 4.121697115389209, 8.239464297192155, 18.597968041025005, 3.1834950246522355, 5.082347209745868, 9.020231880208044, 9.611035443338341, 3.701836288177985, 12.771584824811676, 6.62382679207553, 27.834429884085704, 11.73606683514009, 8.327810015029355, 19.283133591694128, 14.94569199074119, 8.52952278801152, 5.272007172874304, 11.280731706071284, 7.405404686349245, 7.568740428965496, 8.26749326258947, 7.902397111432433, 5.855975540103697, 6.541007812560932, 6.5849343855062346, 5.5351941410186, 5.777921129973759, 2.7613999001487053, 1.8622616180861549, 1.8622610427120387, 1.8619419018689451, 1.8600454687821006, 4.55940949068391, 3.6604495745973673, 2.761313594031282, 1.4126876822705785, 1.4124769994483801, 1.4121436660437547, 1.4120870875889995, 1.4120863204235112, 1.4121700373574118, 1.4121067462046348, 1.4108837885207488, 1.4107511647869753, 2.311816566555898, 6.347083444179263, 7.056422682963252, 0.9631078968181547, 0.9630634971155247, 0.9629793007031942, 0.962963573810686, 0.9629588749220707, 0.9628830214344243, 0.9628822542689361, 0.9627908656801536, 0.9627555760676961, 0.9627553842763241, 1.8619714377402412, 25.47303498393887, 4.110054197032472, 6.356815321979897, 6.7493470515026806, 3.5968350615671163, 11.44018963512246, 2.7604033521795257, 1.4108790896321335, 6.990315265679076, 20.405916140325896, 3.5349029424525003, 14.568446537400167, 4.414532973315467, 5.4777084979798865, 4.034649117613987, 7.825688670275686, 3.4801629997898127, 18.348524062400895, 4.559854446667069, 8.879493268501673, 9.116957070727944, 5.424076725864912, 7.818449696728977, 15.443391105043919, 7.077646316194463, 6.740669642665585, 4.720480487925632, 7.802761929660658, 5.8986844223088735, 5.245044466630573, 6.133880866934753, 5.743695513057647, 5.985758088802968, 5.139103132119548, 10.162908093262073, 9.72249062528485, 7.96742603280375, 5.771835463099688, 5.3327865547299345, 3.5760377715128837, 14.55563805193671, 12.798786414678911, 2.6970467858353415, 2.252623135298492, 21.143512172571544, 3.575440440485863, 41.96748547001619, 1.8192828029153754, 1.8189572751781644, 1.8188475288563362, 1.8187664120097673, 6.650346463253742, 4.454408098442823, 4.448178183246213, 3.576037418062572, 11.48142267107818, 8.843941099046805, 1.380089863543545, 1.3793096219801433, 1.378891136810917, 1.3751036516317454, 1.3748756761806042, 3.4918384847744472, 1.7998133459376109, 3.576037418062572, 27.731247740684136, 2.594599743122039, 5.331245864820595, 5.332762873559041, 5.771972601820684, 16.47785495209511, 8.341659929887674, 4.015185292519642, 3.275213030047338, 3.8945760288069398, 8.768440577933228, 11.97991273219244, 6.841080268836833, 5.629519048484919, 5.291603584744491, 4.839108366161153, 5.122509774504216, 3.6408375844353014, 14.773778797600123, 4.702925518902621, 2.378148497048273, 1.9918257597005888, 1.9917028496888707, 1.2171546473208887, 1.2171543591379774, 1.2171537827721546, 1.217081737044301, 1.2157961530764818, 1.2157462974328073, 1.2118261452888386, 1.211842715806245, 1.6044906357851059, 0.8298121747411649, 0.8298119586039813, 0.8298118865582534, 0.8298117424667977, 0.8298117424667977, 0.8298116704210698, 0.8298115263296142, 0.8298115263296142, 0.8298115263296142, 0.8298115263296142, 0.8297930826232837, 0.8297926503489166, 0.8297858060047705, 0.8297656332009714, 0.8297496390493879, 0.8297099418533407, 4.31582094131627, 1.963148822277209, 6.990817721742143, 2.2169664978711627, 1.6044907798765615, 7.304110010227954, 1.6042795418024949, 1.9918254715176773, 2.3334863417116547, 7.358614044263738, 1.6044804052917507, 1.530995347887121, 4.550503559775226, 2.365990492290072, 1.6043791089983885, 3.3474857251737653, 4.428898152097006, 3.5411115006093516, 4.104377104650849, 6.567419964658099, 4.7029540490108515, 2.7335633289638643, 2.3791541113176535, 5.303003031682357, 7.070757932270998, 2.00470912084682, 4.243197983091136, 4.1608468343253895, 4.2255381342796685, 2.753748524628055, 2.9890337335547787, 2.9906879034662968, 2.5011368945183703, 2.435550498441239, 2.5087351251607193, 7.806018281518948, 45.25755116304761, 2.2679561506126484, 1.8951031118868076, 3.3754373130123274, 7.43316795037936, 1.5294935432862713, 1.5291190841073796, 1.5285059512002215, 3.375302745975517, 6.32955850094321, 4.6428979691450065, 1.1602803127613264, 1.1600236335844722, 1.1600031913082565, 1.1594725044025245, 2.2669146775601496, 4.114085796135024, 0.7910375695462156, 0.7909238509235588, 0.7909180296131132, 0.7908626594742243, 0.7908305745771176, 0.790822181059731, 0.7908141259906262, 0.7906757683330603, 0.7905994144007049, 0.7906503847119315, 0.7899317913201902, 0.7897142367647026, 3.744905598162374, 1.8984889484971033, 5.698867438446689, 2.63645823360805, 1.8987132720182252, 3.0064585594569557, 1.5294836605964452, 1.1602811250372025, 2.267955609095398, 3.312925373861969, 1.529484608251634, 13.536302384784975, 2.9964247863178644, 9.859015774964755, 5.67793346456731, 3.12210714959549, 7.819283288093247, 13.847676970033508, 3.4384043974119387, 3.8337555825959404, 2.6812067823821546, 3.6025125540439467, 3.339703131152783, 3.182302477947153, 2.732283230989863, 3.3351849819711754, 3.3058282487736785, 2.8598668613348615, 2.659685803802967], \"Total\": [508.0, 266.0, 49.0, 273.0, 113.0, 53.0, 209.0, 87.0, 100.0, 86.0, 123.0, 95.0, 48.0, 53.0, 42.0, 175.0, 98.0, 87.0, 106.0, 574.0, 178.0, 48.0, 116.0, 43.0, 26.0, 46.0, 121.0, 72.0, 43.0, 66.0, 25.81273967911718, 24.87301550799932, 45.23966920211644, 38.55273289603365, 21.01624589152537, 66.41562958027454, 16.45453237692191, 16.43689010062477, 131.54302732006565, 18.24915476954765, 16.418458337996682, 16.44298682096746, 23.593172868689184, 67.95876094917944, 165.48805226987741, 12.711184285917636, 12.71023597277109, 27.48983903261832, 13.591531774677842, 12.672112131034252, 11.775063216519698, 11.773494650144828, 12.672139480065706, 28.90355861260113, 11.753733981220552, 11.750140179490625, 19.92025335998081, 10.838041209440572, 19.962805001288846, 10.834920879412893, 574.3710751233154, 48.77981820403967, 64.48074594745799, 114.57190770424714, 134.2934609257652, 27.70341565199406, 209.54283791666532, 143.59628740781574, 198.08303686878907, 168.55383356538707, 52.903501201226135, 166.53060562766126, 110.5337868211409, 70.99937968480464, 78.33978488690505, 508.2602624615257, 209.2944111599145, 273.4516130615964, 175.75093327893237, 51.74874477066141, 188.09882722861454, 159.95655557356292, 78.14057370730418, 123.31961949030979, 266.1387559185166, 102.8057411519547, 178.7454004733223, 116.64351511835314, 104.6984489813012, 82.8604226061923, 206.14778786506204, 93.03634688142489, 100.2160516535509, 116.34004680382054, 121.15670482807059, 23.263906910641733, 21.784184152508722, 18.864358443308703, 10.80611007612557, 46.36762325921093, 8.60770107025548, 7.874234046187259, 18.282335801409584, 113.02129964933212, 6.409043167620396, 6.408588669357343, 5.676362824814664, 5.676038105914857, 4.94363146517282, 4.943010428426113, 4.938440496905561, 8.994424360388996, 8.99451551271433, 4.210724089495608, 4.21062578540308, 4.21056989164911, 4.210060160294162, 4.209433494462815, 4.208660580192624, 4.208110432705298, 4.207472959590851, 4.201999138252033, 8.392661345848152, 12.857019828719581, 3.4779904257144914, 4.783116105686845, 20.192510870381398, 13.67648427282918, 13.35911802477881, 20.432806795860667, 12.839250204316604, 54.85905384574395, 10.889172907230916, 6.038689109540115, 7.449366519692837, 19.299878500820736, 16.747787967608918, 15.264634920974512, 98.25330761707194, 38.63242941900664, 31.123785790426084, 72.73552809283059, 30.399731365616045, 106.06403261340994, 44.74738797029362, 18.715704609221635, 206.14778786506204, 14.704423922878824, 38.21059510963732, 21.869706316776863, 79.7777201462931, 37.854188837279324, 68.58814905057436, 86.53537905231143, 508.2602624615257, 51.655987533189425, 95.47297900589123, 88.88750765440554, 121.15670482807059, 48.94023254380438, 198.08303686878907, 15.060160722675931, 6.767035909899082, 5.212070855513963, 5.211947940616687, 8.690973004072113, 4.693748880710539, 4.173425914969659, 10.09023926757952, 42.01137567446701, 9.571303611184728, 3.6571028247231543, 3.6571013780492763, 3.657087620062878, 3.657075955375032, 3.6570756327258502, 3.6589898871402387, 3.138778998348888, 3.138516484789891, 3.1387385671801464, 3.139249029209441, 3.1378097266401053, 17.257828558705334, 12.98111567118455, 2.620450921112287, 2.6203655569809143, 2.6200210981271024, 2.6209498183144735, 2.6198094775869745, 2.6190839686975487, 2.1021225444490352, 5.4662686808246965, 11.240369175415722, 33.08249215172314, 4.388943063856136, 8.1505284745426, 18.006272047366323, 19.724703067270077, 5.681357168690487, 48.75053277749829, 16.992704373583532, 266.1387559185166, 55.76523316538863, 29.12699726781642, 209.2944111599145, 121.15670482807059, 34.925347158949364, 12.356413471696174, 98.25330761707194, 33.072894938481824, 51.655987533189425, 72.73552809283059, 86.53537905231143, 37.04848256155583, 78.58246364266012, 188.09882722861454, 44.74738797029362, 206.14778786506204, 3.2446454101978985, 2.3455070314732938, 2.3455064756677606, 2.345813923168899, 2.344690728398648, 5.774555053098234, 4.661679107576333, 3.6315082061170134, 1.8959330859485641, 1.8958216273978377, 1.8956465989487514, 1.895616792824801, 1.8956160256593126, 1.8958058347323878, 1.8958451584074962, 1.8953728921384407, 1.895467967271615, 3.2339964765164835, 9.208433597607339, 10.322792459761336, 1.4463532300733217, 1.446328063452083, 1.4462843792750228, 1.4462764082000392, 1.4462739641918636, 1.4462339311537602, 1.4462331809121325, 1.4462791008275921, 1.4462408417179364, 1.4462406499265645, 2.864645881102382, 53.69180279933263, 7.371402518633773, 13.690975352200562, 14.828791405301411, 6.959416639150089, 28.121428836127308, 5.0792876415958705, 2.281682152421675, 18.980518302399446, 87.02319101748208, 8.616275263394378, 100.2160516535509, 13.950699828528869, 21.644564667156143, 12.791392505956251, 43.86902470519118, 9.943569689032069, 273.4516130615964, 19.80532229701284, 79.7777201462931, 98.25330761707194, 31.123785790426084, 87.79741550273347, 508.2602624615257, 70.74075022379078, 62.970839369197755, 24.882675751603443, 116.34004680382054, 50.61957826009829, 38.532708564882576, 74.49714755470639, 67.24409405755729, 106.06403261340994, 209.54283791666532, 10.648186306466146, 10.209770231717426, 8.452724641810146, 6.256629494943502, 5.817514733464921, 4.060765970286776, 16.757514059390168, 14.748452459838159, 3.182489456963405, 2.7414225803788566, 26.275970416776953, 4.510349137478466, 53.00873726326605, 2.304010969229359, 2.304057917552865, 2.3040778218450724, 2.304102994003499, 8.477494774368058, 5.872007351566313, 5.905727519466963, 4.790321353677091, 15.499225230163008, 11.939479235900105, 1.864818007379028, 1.8644580112295523, 1.8642006444736472, 1.8691932655567427, 1.869450056832895, 5.089276448205145, 2.6699126317987023, 5.426007686211764, 48.94023254380438, 3.9816096099421774, 9.5587697548489, 10.801874838374605, 12.409142864876927, 86.53537905231143, 28.73669463440265, 9.86001931265744, 9.637425941678309, 15.059043481135859, 178.7454004733223, 508.2602624615257, 87.79741550273347, 50.14023438929663, 58.364935671168155, 42.69244531183556, 574.3710751233154, 121.15670482807059, 16.164658521789036, 5.195317399625078, 2.87209282069187, 2.4839617903323905, 2.483973081472425, 1.7092906347197139, 1.7092903648128317, 1.7092898214277699, 1.7092574133394958, 1.708688458383672, 1.7088090326957404, 1.7155405547759184, 1.7155879056443493, 2.5451045240145365, 1.3219481621399898, 1.3219479460028063, 1.3219478739570785, 1.3219477298656228, 1.3219477298656228, 1.3219476676347173, 1.3219475276400643, 1.3219475454787004, 1.3219475479464269, 1.321947558991749, 1.3219376425690272, 1.3219372335502884, 1.3219449406013866, 1.3219539975178831, 1.3219468806149268, 1.3219007911802043, 7.005565530248982, 3.2410556048969674, 12.529320975487853, 4.033892105083698, 2.8270504286893887, 18.988207869495593, 2.9746806781835464, 3.9487268794813257, 4.829215495249496, 20.675970318119536, 3.0295799115838116, 2.8929114709707147, 12.668716459991662, 5.4476792519486175, 3.267091589717146, 9.66815143107952, 15.74938786414895, 12.409142864876927, 18.006272047366323, 48.74042041959616, 26.275970416776953, 10.362647381475725, 8.73175093750784, 66.87983449663585, 175.75093327893237, 6.747824420948109, 106.06403261340994, 116.34004680382054, 159.95655557356292, 48.75053277749829, 88.88750765440554, 121.15670482807059, 53.69180279933263, 76.19203581951714, 273.4516130615964, 8.301152988503647, 49.8182086730756, 2.7627653168748814, 2.3977687854544234, 4.307399246074649, 9.62270133606971, 2.024280462830135, 2.02406905225207, 2.023815953042403, 4.64523365141997, 8.863644565337067, 6.601291462692963, 1.655001921438736, 1.6550670721245087, 1.6550573748949944, 1.654851897126378, 3.4949555061950965, 6.622562134404882, 1.28575913181069, 1.2856991199599168, 1.2857675337016357, 1.2856796666591346, 1.2856691882355564, 1.2857397845864966, 1.2857518291706604, 1.2856063931989703, 1.28557147244945, 1.2856612764443458, 1.2852784753167799, 1.2853414554619529, 6.106145513050214, 3.120638522159699, 10.020876829949616, 4.698335631901706, 3.3264835908279604, 6.547162421806616, 2.9228883577735236, 2.0930478799007606, 5.341014530920092, 9.637425941678309, 3.3619614133083884, 86.53537905231143, 11.37079883899203, 95.47297900589123, 43.370638742296755, 14.246500245308848, 123.31961949030979, 508.2602624615257, 21.681784542748144, 36.35382474736674, 15.264634920974512, 48.16211500412539, 55.76523316538863, 50.14023438929663, 30.835797408322495, 273.4516130615964, 266.1387559185166, 116.34004680382054, 64.6040769930599], \"Category\": [\"Default\", \"Default\", \"Default\", \"Default\", \"Default\", \"Default\", \"Default\", \"Default\", \"Default\", \"Default\", \"Default\", \"Default\", \"Default\", \"Default\", \"Default\", \"Default\", \"Default\", \"Default\", \"Default\", \"Default\", \"Default\", \"Default\", \"Default\", \"Default\", \"Default\", \"Default\", \"Default\", \"Default\", \"Default\", \"Default\", \"Topic1\", \"Topic1\", \"Topic1\", \"Topic1\", \"Topic1\", \"Topic1\", \"Topic1\", \"Topic1\", \"Topic1\", \"Topic1\", \"Topic1\", \"Topic1\", \"Topic1\", \"Topic1\", \"Topic1\", \"Topic1\", \"Topic1\", \"Topic1\", \"Topic1\", \"Topic1\", \"Topic1\", \"Topic1\", \"Topic1\", \"Topic1\", \"Topic1\", \"Topic1\", \"Topic1\", \"Topic1\", \"Topic1\", \"Topic1\", \"Topic1\", \"Topic1\", \"Topic1\", \"Topic1\", \"Topic1\", \"Topic1\", \"Topic1\", \"Topic1\", \"Topic1\", \"Topic1\", \"Topic1\", \"Topic1\", \"Topic1\", \"Topic1\", \"Topic1\", \"Topic1\", \"Topic1\", \"Topic1\", \"Topic1\", \"Topic1\", \"Topic1\", \"Topic1\", \"Topic1\", \"Topic1\", \"Topic1\", \"Topic1\", \"Topic1\", \"Topic1\", \"Topic1\", \"Topic1\", \"Topic1\", \"Topic1\", \"Topic1\", \"Topic1\", \"Topic1\", \"Topic2\", \"Topic2\", \"Topic2\", \"Topic2\", \"Topic2\", \"Topic2\", \"Topic2\", \"Topic2\", \"Topic2\", \"Topic2\", \"Topic2\", \"Topic2\", \"Topic2\", \"Topic2\", \"Topic2\", \"Topic2\", \"Topic2\", \"Topic2\", \"Topic2\", \"Topic2\", \"Topic2\", \"Topic2\", \"Topic2\", \"Topic2\", \"Topic2\", \"Topic2\", \"Topic2\", \"Topic2\", \"Topic2\", \"Topic2\", \"Topic2\", \"Topic2\", \"Topic2\", \"Topic2\", \"Topic2\", \"Topic2\", \"Topic2\", \"Topic2\", \"Topic2\", \"Topic2\", \"Topic2\", \"Topic2\", \"Topic2\", \"Topic2\", \"Topic2\", \"Topic2\", \"Topic2\", \"Topic2\", \"Topic2\", \"Topic2\", \"Topic2\", \"Topic2\", \"Topic2\", \"Topic2\", \"Topic2\", \"Topic2\", \"Topic2\", \"Topic2\", \"Topic2\", \"Topic2\", \"Topic2\", \"Topic2\", \"Topic2\", \"Topic2\", \"Topic2\", \"Topic2\", \"Topic3\", \"Topic3\", \"Topic3\", \"Topic3\", \"Topic3\", \"Topic3\", \"Topic3\", \"Topic3\", \"Topic3\", \"Topic3\", \"Topic3\", \"Topic3\", \"Topic3\", \"Topic3\", \"Topic3\", \"Topic3\", \"Topic3\", \"Topic3\", \"Topic3\", \"Topic3\", \"Topic3\", \"Topic3\", \"Topic3\", \"Topic3\", \"Topic3\", \"Topic3\", \"Topic3\", \"Topic3\", \"Topic3\", \"Topic3\", \"Topic3\", \"Topic3\", \"Topic3\", \"Topic3\", \"Topic3\", \"Topic3\", \"Topic3\", \"Topic3\", \"Topic3\", \"Topic3\", \"Topic3\", \"Topic3\", \"Topic3\", \"Topic3\", \"Topic3\", \"Topic3\", \"Topic3\", \"Topic3\", \"Topic3\", \"Topic3\", \"Topic3\", \"Topic3\", \"Topic3\", \"Topic3\", \"Topic3\", \"Topic3\", \"Topic3\", \"Topic4\", \"Topic4\", \"Topic4\", \"Topic4\", \"Topic4\", \"Topic4\", \"Topic4\", \"Topic4\", \"Topic4\", \"Topic4\", \"Topic4\", \"Topic4\", \"Topic4\", \"Topic4\", \"Topic4\", \"Topic4\", \"Topic4\", \"Topic4\", \"Topic4\", \"Topic4\", \"Topic4\", \"Topic4\", \"Topic4\", \"Topic4\", \"Topic4\", \"Topic4\", \"Topic4\", \"Topic4\", \"Topic4\", \"Topic4\", \"Topic4\", \"Topic4\", \"Topic4\", \"Topic4\", \"Topic4\", \"Topic4\", \"Topic4\", \"Topic4\", \"Topic4\", \"Topic4\", \"Topic4\", \"Topic4\", \"Topic4\", \"Topic4\", \"Topic4\", \"Topic4\", \"Topic4\", \"Topic4\", \"Topic4\", \"Topic4\", \"Topic4\", \"Topic4\", \"Topic4\", \"Topic4\", \"Topic4\", \"Topic4\", \"Topic4\", \"Topic4\", \"Topic4\", \"Topic4\", \"Topic4\", \"Topic4\", \"Topic4\", \"Topic4\", \"Topic4\", \"Topic5\", \"Topic5\", \"Topic5\", \"Topic5\", \"Topic5\", \"Topic5\", \"Topic5\", \"Topic5\", \"Topic5\", \"Topic5\", \"Topic5\", \"Topic5\", \"Topic5\", \"Topic5\", \"Topic5\", \"Topic5\", \"Topic5\", \"Topic5\", \"Topic5\", \"Topic5\", \"Topic5\", \"Topic5\", \"Topic5\", \"Topic5\", \"Topic5\", \"Topic5\", \"Topic5\", \"Topic5\", \"Topic5\", \"Topic5\", \"Topic5\", \"Topic5\", \"Topic5\", \"Topic5\", \"Topic5\", \"Topic5\", \"Topic5\", \"Topic5\", \"Topic5\", \"Topic5\", \"Topic5\", \"Topic5\", \"Topic5\", \"Topic5\", \"Topic5\", \"Topic5\", \"Topic5\", \"Topic5\", \"Topic5\", \"Topic6\", \"Topic6\", \"Topic6\", \"Topic6\", \"Topic6\", \"Topic6\", \"Topic6\", \"Topic6\", \"Topic6\", \"Topic6\", \"Topic6\", \"Topic6\", \"Topic6\", \"Topic6\", \"Topic6\", \"Topic6\", \"Topic6\", \"Topic6\", \"Topic6\", \"Topic6\", \"Topic6\", \"Topic6\", \"Topic6\", \"Topic6\", \"Topic6\", \"Topic6\", \"Topic6\", \"Topic6\", \"Topic6\", \"Topic6\", \"Topic6\", \"Topic6\", \"Topic6\", \"Topic6\", \"Topic6\", \"Topic6\", \"Topic6\", \"Topic6\", \"Topic6\", \"Topic6\", \"Topic6\", \"Topic6\", \"Topic6\", \"Topic6\", \"Topic6\", \"Topic6\", \"Topic6\", \"Topic6\", \"Topic6\", \"Topic6\", \"Topic6\", \"Topic6\", \"Topic6\", \"Topic6\", \"Topic6\", \"Topic6\", \"Topic6\", \"Topic6\", \"Topic6\", \"Topic6\", \"Topic6\", \"Topic6\", \"Topic6\", \"Topic6\", \"Topic6\", \"Topic7\", \"Topic7\", \"Topic7\", \"Topic7\", \"Topic7\", \"Topic7\", \"Topic7\", \"Topic7\", \"Topic7\", \"Topic7\", \"Topic7\", \"Topic7\", \"Topic7\", \"Topic7\", \"Topic7\", \"Topic7\", \"Topic7\", \"Topic7\", \"Topic7\", \"Topic7\", \"Topic7\", \"Topic7\", \"Topic7\", \"Topic7\", \"Topic7\", \"Topic7\", \"Topic7\", \"Topic7\", \"Topic7\", \"Topic7\", \"Topic7\", \"Topic7\", \"Topic7\", \"Topic7\", \"Topic7\", \"Topic7\", \"Topic7\", \"Topic7\", \"Topic7\", \"Topic7\", \"Topic7\", \"Topic7\", \"Topic7\", \"Topic7\", \"Topic7\", \"Topic7\", \"Topic7\", \"Topic7\", \"Topic7\", \"Topic7\", \"Topic7\", \"Topic7\", \"Topic7\", \"Topic7\", \"Topic7\", \"Topic7\", \"Topic7\", \"Topic7\", \"Topic7\"], \"logprob\": [30.0, 29.0, 28.0, 27.0, 26.0, 25.0, 24.0, 23.0, 22.0, 21.0, 20.0, 19.0, 18.0, 17.0, 16.0, 15.0, 14.0, 13.0, 12.0, 11.0, 10.0, 9.0, 8.0, 7.0, 6.0, 5.0, 4.0, 3.0, 2.0, 1.0, -6.5435, -6.5814, -5.9851, -6.1454, -6.7573, -5.6077, -7.003, -7.0057, -4.9261, -6.9014, -7.0074, -7.0063, -6.6479, -5.5911, -4.7019, -7.2688, -7.269, -6.4986, -7.2036, -7.2743, -7.348, -7.3482, -7.2752, -6.4515, -7.3517, -7.3529, -6.8254, -7.4342, -6.8237, -7.435, -3.4673, -5.9312, -5.6557, -5.091, -4.9344, -6.4994, -4.5001, -4.872, -4.5629, -4.7268, -5.863, -4.746, -5.1528, -5.5843, -5.489, -3.6901, -4.5436, -4.2895, -4.7187, -5.8938, -4.6572, -4.8152, -5.4994, -5.0683, -4.3386, -5.2428, -4.7243, -5.1261, -5.2569, -5.4647, -4.7604, -5.3963, -5.3518, -5.2789, -5.3465, -5.4657, -5.5337, -5.6801, -6.2551, -4.8017, -6.4935, -6.5877, -5.7457, -3.9303, -6.8073, -6.8075, -6.9383, -6.9384, -7.0891, -7.0895, -7.0913, -6.4936, -6.4937, -7.2669, -7.2669, -7.267, -7.2674, -7.2676, -7.268, -7.2682, -7.2685, -7.2709, -6.5876, -6.1645, -7.4831, -7.1677, -5.7606, -6.1571, -6.1825, -5.8068, -6.2387, -4.9429, -6.4077, -6.9416, -6.759, -5.929, -6.0646, -6.1496, -4.5888, -5.3774, -5.6033, -4.956, -5.6541, -4.8371, -5.4617, -6.0841, -4.7691, -6.2422, -5.7965, -6.0692, -5.5347, -5.8557, -5.6717, -5.72, -5.3865, -5.9437, -5.9018, -5.9532, -5.9724, -6.0411, -6.0304, -5.0054, -5.8459, -6.1297, -6.1299, -5.6252, -6.2456, -6.3818, -5.5011, -4.0807, -5.5612, -6.5274, -6.5274, -6.5275, -6.5275, -6.5275, -6.5283, -6.7051, -6.7053, -6.7055, -6.7054, -6.7061, -5.0054, -5.2914, -6.9214, -6.9215, -6.922, -6.9217, -6.9234, -6.9252, -7.1977, -6.2692, -5.5765, -4.7624, -6.5275, -6.0597, -5.486, -5.4226, -6.3767, -5.1383, -5.7948, -4.3592, -5.2228, -5.5659, -4.7263, -4.9811, -5.542, -6.0231, -5.2624, -5.6833, -5.6615, -5.5732, -5.6183, -5.918, -5.8074, -5.8007, -5.9744, -5.9314, -6.3913, -6.7852, -6.7852, -6.7854, -6.7864, -5.8898, -6.1094, -6.3913, -7.0615, -7.0617, -7.0619, -7.0619, -7.0619, -7.0619, -7.0619, -7.0628, -7.0629, -6.569, -5.559, -5.4531, -7.4446, -7.4446, -7.4447, -7.4447, -7.4447, -7.4448, -7.4448, -7.4449, -7.445, -7.445, -6.7854, -4.1694, -5.9936, -5.5575, -5.4976, -6.1269, -4.9699, -6.3916, -7.0628, -5.4625, -4.3912, -6.1443, -4.7281, -5.9221, -5.7063, -6.0121, -5.3496, -6.1599, -4.4975, -5.8897, -5.2233, -5.1969, -5.7162, -5.3505, -4.6698, -5.4501, -5.4988, -5.8551, -5.3525, -5.6323, -5.7497, -5.5932, -5.6589, -5.6176, -5.7701, -5.0064, -5.0507, -5.2498, -5.5722, -5.6513, -6.0509, -4.6472, -4.7758, -6.333, -6.5131, -4.2739, -6.0511, -3.5883, -6.7267, -6.7269, -6.727, -6.727, -5.4305, -5.8313, -5.8327, -6.0509, -4.8845, -5.1455, -7.003, -7.0036, -7.0039, -7.0067, -7.0068, -6.0748, -6.7375, -6.0509, -4.0026, -6.3718, -5.6516, -5.6513, -5.5722, -4.5232, -5.2039, -5.9351, -6.1388, -5.9656, -5.154, -4.842, -5.4022, -5.5972, -5.6591, -5.7485, -5.6915, -6.033, -4.4282, -5.5729, -6.2547, -6.432, -6.432, -6.9245, -6.9245, -6.9245, -6.9246, -6.9256, -6.9257, -6.9289, -6.9289, -6.6482, -7.3076, -7.3076, -7.3076, -7.3076, -7.3076, -7.3076, -7.3076, -7.3076, -7.3076, -7.3076, -7.3076, -7.3076, -7.3076, -7.3077, -7.3077, -7.3077, -5.6588, -6.4465, -5.1764, -6.3249, -6.6482, -5.1326, -6.6484, -6.432, -6.2737, -5.1252, -6.6482, -6.6951, -5.6058, -6.2598, -6.6483, -5.9128, -5.6329, -5.8566, -5.709, -5.2389, -5.5728, -6.1154, -6.2543, -5.4528, -5.1651, -6.4255, -5.6757, -5.6953, -5.6799, -6.1081, -6.0261, -6.0255, -6.2043, -6.2309, -6.2013, -5.0038, -3.2463, -6.2398, -6.4194, -5.8421, -5.0527, -6.6337, -6.634, -6.6344, -5.8422, -5.2134, -5.5233, -6.91, -6.9102, -6.9102, -6.9107, -6.2403, -5.6443, -7.2931, -7.2932, -7.2932, -7.2933, -7.2933, -7.2934, -7.2934, -7.2935, -7.2936, -7.2936, -7.2945, -7.2948, -5.7383, -6.4176, -5.3184, -6.0892, -6.4175, -5.9579, -6.6337, -6.91, -6.2398, -5.8608, -6.6337, -4.4533, -5.9613, -4.7703, -5.3221, -5.9202, -5.0021, -4.4306, -5.8237, -5.7148, -6.0724, -5.777, -5.8528, -5.9011, -6.0535, -5.8541, -5.863, -6.0079, -6.0805], \"loglift\": [30.0, 29.0, 28.0, 27.0, 26.0, 25.0, 24.0, 23.0, 22.0, 21.0, 20.0, 19.0, 18.0, 17.0, 16.0, 15.0, 14.0, 13.0, 12.0, 11.0, 10.0, 9.0, 8.0, 7.0, 6.0, 5.0, 4.0, 3.0, 2.0, 1.0, 0.5404, 0.5396, 0.5376, 0.5373, 0.5321, 0.5311, 0.5311, 0.5295, 0.5293, 0.5292, 0.5289, 0.5285, 0.5259, 0.5247, 0.524, 0.5234, 0.5234, 0.5224, 0.5217, 0.521, 0.5207, 0.5207, 0.5201, 0.5193, 0.5188, 0.5179, 0.5176, 0.5175, 0.5172, 0.5169, 0.5142, 0.5162, 0.5127, 0.5025, 0.5003, 0.5138, 0.4896, 0.4957, 0.4831, 0.4807, 0.5033, 0.4735, 0.4766, 0.4877, 0.4847, 0.4137, 0.4474, 0.434, 0.447, 0.4945, 0.4406, 0.4446, 0.4768, 0.4517, 0.4121, 0.459, 0.4244, 0.4495, 0.4268, 0.4529, 0.2457, 0.4055, 0.3755, 0.2993, 0.1912, 1.7221, 1.7198, 1.7174, 1.6995, 1.6964, 1.6885, 1.6834, 1.6831, 1.6768, 1.6697, 1.6695, 1.6601, 1.6601, 1.6475, 1.6473, 1.6464, 1.6445, 1.6444, 1.6302, 1.6302, 1.6302, 1.6299, 1.6298, 1.6296, 1.6295, 1.6293, 1.6283, 1.6197, 1.6163, 1.6052, 1.602, 1.5688, 1.5619, 1.56, 1.5108, 1.5435, 1.3871, 1.5393, 1.595, 1.5676, 1.4456, 1.4519, 1.4596, 1.1584, 1.3032, 1.2934, 1.0919, 1.2662, 0.8336, 1.072, 1.3213, 0.237, 1.4044, 0.8951, 1.1804, 0.4208, 0.8452, 0.4349, 0.1542, -1.2827, 0.4464, -0.1259, -0.1059, -0.4348, 0.403, -0.9844, 2.6173, 2.5767, 2.554, 2.5539, 2.5472, 2.5429, 2.5242, 2.5221, 2.516, 2.5147, 2.5106, 2.5106, 2.5106, 2.5105, 2.5105, 2.5092, 2.4857, 2.4857, 2.4854, 2.4854, 2.4851, 2.4811, 2.4798, 2.45, 2.4499, 2.4495, 2.4495, 2.4483, 2.4467, 2.3941, 2.3669, 2.3387, 2.0733, 2.3281, 2.1769, 1.958, 1.9303, 2.2209, 1.3097, 1.7071, 0.3915, 1.0908, 1.3972, 0.2647, 0.5566, 1.2396, 1.7975, 0.4848, 1.1527, 0.7287, 0.4747, 0.2558, 0.8045, 0.1632, -0.7029, 0.5593, -0.9253, 2.7665, 2.697, 2.697, 2.6967, 2.6962, 2.6915, 2.6859, 2.6538, 2.6335, 2.6334, 2.6333, 2.6332, 2.6332, 2.6332, 2.6331, 2.6325, 2.6324, 2.592, 2.5556, 2.5473, 2.5211, 2.5211, 2.521, 2.521, 2.521, 2.5209, 2.5209, 2.5208, 2.5208, 2.5208, 2.4969, 2.1821, 2.3435, 2.1605, 2.1406, 2.2677, 2.0283, 2.3179, 2.447, 1.9288, 1.4774, 2.0368, 0.9992, 1.7771, 1.5537, 1.7739, 1.2039, 1.8779, 0.2261, 1.4591, 0.7322, 0.5503, 1.1806, 0.5092, -0.5661, 0.6256, 0.6932, 1.2655, 0.2257, 0.7781, 0.9335, 0.4308, 0.4675, 0.0531, -0.7803, 2.9629, 2.9606, 2.9504, 2.9289, 2.9225, 2.8824, 2.8687, 2.8677, 2.844, 2.8131, 2.7922, 2.7772, 2.776, 2.7733, 2.7731, 2.7731, 2.773, 2.7668, 2.7332, 2.7261, 2.7172, 2.7095, 2.7094, 2.7085, 2.7081, 2.708, 2.7026, 2.7023, 2.6328, 2.6152, 2.5926, 2.4415, 2.5813, 2.4257, 2.3037, 2.2441, 1.351, 1.7726, 2.1111, 1.9303, 1.6571, -0.0053, -0.7382, 0.4574, 0.8227, 0.6089, 0.8322, -1.7101, -0.4953, 3.1237, 3.1141, 3.025, 2.9929, 2.9928, 2.8741, 2.8741, 2.8741, 2.8741, 2.8734, 2.8732, 2.8661, 2.8661, 2.7523, 2.748, 2.748, 2.748, 2.748, 2.748, 2.748, 2.748, 2.748, 2.748, 2.748, 2.748, 2.748, 2.748, 2.748, 2.7479, 2.7479, 2.7293, 2.7123, 2.6302, 2.6151, 2.6473, 2.2583, 2.5962, 2.5293, 2.4864, 2.1806, 2.5781, 2.5773, 2.1898, 2.3797, 2.5025, 2.1531, 1.945, 1.9597, 1.735, 1.2093, 1.4932, 1.8811, 1.9135, 0.6791, 0.0006, 2.0, -0.005, -0.1171, -0.4201, 0.3399, -0.1787, -0.4879, 0.1472, -0.2294, -1.4777, 3.2145, 3.18, 3.0787, 3.0408, 3.0322, 3.0179, 2.9958, 2.9956, 2.9954, 2.9567, 2.9393, 2.9241, 2.9209, 2.9206, 2.9206, 2.9203, 2.8431, 2.8, 2.7903, 2.7902, 2.7901, 2.7901, 2.7901, 2.79, 2.79, 2.7899, 2.7899, 2.7899, 2.7893, 2.7889, 2.7871, 2.7791, 2.7116, 2.6983, 2.7153, 2.4978, 2.6284, 2.6861, 2.4195, 2.2082, 2.4885, 1.4209, 1.9424, 1.0056, 1.2429, 1.758, 0.5179, -0.3268, 1.4346, 1.0266, 1.5368, 0.6831, 0.4608, 0.5188, 0.8525, -1.1306, -1.1123, -0.4297, 0.086]}, \"token.table\": {\"Topic\": [2, 5, 3, 1, 1, 3, 5, 1, 2, 5, 7, 7, 1, 2, 4, 1, 1, 2, 4, 7, 2, 5, 1, 4, 5, 1, 3, 6, 7, 6, 6, 2, 1, 2, 7, 1, 4, 1, 2, 6, 2, 3, 4, 1, 3, 1, 2, 3, 4, 7, 1, 2, 4, 3, 1, 2, 4, 5, 6, 7, 1, 4, 2, 5, 6, 1, 2, 3, 6, 2, 4, 7, 4, 7, 1, 2, 3, 6, 3, 1, 2, 1, 2, 3, 4, 5, 7, 6, 1, 7, 1, 2, 3, 7, 1, 2, 7, 1, 7, 1, 5, 3, 6, 7, 2, 3, 2, 3, 1, 2, 3, 4, 6, 3, 2, 6, 2, 4, 6, 1, 2, 3, 2, 3, 5, 1, 3, 5, 2, 3, 4, 5, 2, 5, 2, 5, 6, 4, 5, 5, 2, 7, 2, 6, 3, 1, 1, 2, 7, 6, 3, 2, 1, 7, 1, 5, 2, 6, 1, 1, 2, 3, 4, 6, 7, 6, 2, 7, 6, 5, 6, 6, 7, 2, 2, 4, 7, 2, 3, 4, 7, 2, 6, 4, 2, 4, 2, 1, 2, 3, 5, 7, 1, 2, 3, 1, 2, 3, 4, 3, 3, 4, 6, 7, 4, 3, 4, 1, 2, 4, 7, 1, 2, 2, 3, 1, 2, 3, 4, 6, 1, 1, 2, 3, 5, 5, 1, 2, 4, 2, 5, 6, 3, 1, 2, 4, 5, 6, 1, 2, 3, 4, 7, 1, 3, 4, 7, 1, 2, 5, 7, 1, 2, 3, 5, 7, 4, 1, 2, 6, 7, 1, 2, 6, 1, 3, 4, 1, 2, 1, 2, 6, 7, 3, 2, 4, 4, 6, 6, 3, 1, 2, 3, 4, 5, 6, 1, 2, 1, 2, 4, 5, 1, 6, 2, 3, 6, 5, 4, 2, 3, 4, 6, 1, 2, 3, 5, 6, 7, 4, 5, 2, 3, 5, 7, 1, 2, 5, 6, 1, 2, 3, 4, 6, 7, 6, 6, 1, 2, 4, 7, 1, 4, 2, 2, 1, 2, 3, 4, 5, 7, 1, 2, 7, 1, 2, 4, 6, 7, 2, 4, 1, 2, 3, 4, 1, 2, 3, 4, 5, 7, 1, 2, 6, 6, 1, 2, 3, 5, 6, 1, 2, 3, 4, 6, 2, 1, 2, 4, 2, 3, 1, 2, 7, 2, 1, 2, 4, 5, 7, 2, 3, 2, 3, 4, 5, 6, 7, 1, 2, 5, 5, 1, 2, 4, 1, 5, 6, 6, 7, 7, 2, 2, 5, 3, 2, 5, 7, 6, 1, 2, 3, 1, 2, 3, 4, 6, 1, 2, 4, 5, 1, 3, 4, 6, 1, 2, 3, 4, 5, 6, 7, 2, 3, 4, 5, 1, 2, 3, 2, 3, 1, 2, 3, 6, 7, 1, 2, 6, 1, 2, 3, 4, 7, 2, 7, 4, 1, 2, 4, 6, 1, 2, 4, 5, 2, 3, 4, 5, 6, 1, 2, 4, 1, 2, 3, 4, 7, 1, 2, 2, 1, 2, 3, 4, 5, 7, 2, 4, 7, 1, 5, 4, 4, 1, 2, 3, 4, 6, 1, 6, 1, 1, 2, 6, 3, 1, 6, 1, 2, 4, 2, 1, 2, 1, 2, 3, 4, 1, 6, 7, 1, 4, 3, 6, 1, 5, 2, 1, 2, 3, 4, 5, 5, 1, 2, 4, 6, 1, 2, 3, 4, 5, 2, 5, 7, 1, 2, 3, 6, 4, 3, 4, 5, 7, 1, 2, 3, 5, 7, 1, 2, 3, 4, 5, 4, 4, 7, 1, 2, 3, 4, 5, 7, 2, 4, 7, 3, 2, 7, 2, 3, 7, 1, 2, 4, 7, 3, 1, 1, 2, 6, 2, 2, 3, 6, 6, 6, 4, 5, 7, 1, 2, 4, 4, 4, 6, 3, 4, 1, 2, 3, 4, 1, 2, 7, 2, 6, 7, 3, 1, 6, 1, 5, 1, 2, 3, 6, 2, 3, 2, 5, 6, 3, 5, 1, 2, 4, 5, 5, 2, 4, 7, 1, 3, 5, 7, 5, 7, 1, 2, 3, 5, 1, 2, 3, 4, 5, 2, 5, 1, 4, 5, 7, 1, 2, 4, 7, 5, 1, 2, 3, 3, 1, 2, 3, 1, 2, 7, 6, 3, 3, 1, 2, 3, 6, 1, 2, 3, 4, 1, 2, 1, 3, 7, 7, 2, 6, 2, 7, 7, 1, 2, 3, 4, 2, 6, 1, 2, 1, 2, 4, 5, 1, 2, 7, 1, 5, 6, 1, 1, 5, 7, 1, 2, 3, 4, 6, 7, 6, 1, 1, 3, 4, 4, 1, 2, 7, 4, 4, 5, 1, 7, 1, 2, 3, 7, 2, 6, 1, 2, 6, 2, 2, 6, 7, 7, 6, 1, 6, 2, 6, 6, 4, 2, 7, 1, 2, 3, 4, 6, 1, 2, 3, 4, 4, 1, 4, 1, 2, 4, 5, 7, 1, 3, 4, 5, 1, 4, 7, 4, 4, 6, 2, 1, 4, 1, 2, 4, 7, 1, 2, 6, 1, 4, 1, 2, 4, 7, 1, 2, 3, 4, 6, 1, 2, 3, 1, 1, 2, 6, 1, 2, 3, 6, 7, 3, 2, 5, 6, 4, 2], \"Freq\": [0.13560744799810318, 0.8814484119876707, 0.8198984125492388, 0.9685140093914675, 0.9856629386683371, 0.7633526315607463, 0.9794539713473904, 0.5567794140403787, 0.06959742675504733, 0.27838970702018934, 0.06959742675504733, 0.7780415055605223, 0.5795416028554616, 0.05268560025958742, 0.36879920181711195, 0.9226759528547844, 0.0777785220309168, 0.8555637423400847, 0.8261030485754421, 0.47777215686409136, 0.11795937675167055, 0.8257156372616938, 0.6930146311864278, 0.2310048770621426, 0.04620097541242852, 0.9668371692421184, 0.018128196923289718, 0.00604273230776324, 0.00604273230776324, 0.7564596771743249, 0.7564594377741687, 0.9505453965542657, 0.06021894564068015, 0.020072981880226715, 0.9032841846102022, 0.4310706134654372, 0.5747608179539162, 0.8598789901108246, 0.11823336114023839, 0.010748487376385308, 0.07703498107021707, 0.8473847917723878, 0.07703498107021707, 0.9687388454580397, 0.03459781590921571, 0.14336198359813065, 0.430085950794392, 0.07168099179906533, 0.2867239671962613, 0.07168099179906533, 0.5234150356102588, 0.4187320284882071, 0.05234150356102589, 0.7636257653070151, 0.3157383790719579, 0.07893459476798947, 0.07893459476798947, 0.07893459476798947, 0.39467297383994737, 0.07893459476798947, 0.5394910334459176, 0.47205465426517795, 0.9489380068938383, 0.021566772883950872, 0.021566772883950872, 0.4806537341035548, 0.20599445747295203, 0.27465927663060274, 0.03433240957882534, 0.1509989607805865, 0.1509989607805865, 0.603995843122346, 0.5275329953238768, 0.8341087815191328, 0.12698906251160982, 0.38096718753482944, 0.19048359376741472, 0.25397812502321965, 0.9560809167394388, 0.2388375114215803, 0.7762219121201359, 0.4215879300235426, 0.2594387261683339, 0.06485968154208348, 0.03242984077104174, 0.09728952231312521, 0.09728952231312521, 0.75645966555439, 0.30061774624629983, 0.6012354924925997, 0.9001000851184281, 0.024327029327525083, 0.008109009775841693, 0.06487207820673355, 0.6918249727288714, 0.13836499454577428, 0.13836499454577428, 0.3275388697707167, 0.6550777395414334, 0.1702995143105973, 0.6811980572423892, 0.8203275066219813, 0.21527442428957622, 0.6458232728687286, 0.1829401477296447, 0.7317605909185788, 0.8340620110285873, 0.11915171586122676, 0.5640672598500038, 0.2632313879300018, 0.037604483990000256, 0.11281345197000077, 0.025069655993333505, 0.8203248900961305, 0.9501051879791939, 0.582906651326945, 0.4445877386327255, 0.14819591287757516, 0.29639182575515033, 0.31061986472163616, 0.6471247181700753, 0.025884988726803015, 0.1044789759705701, 0.8358318077645608, 0.9589827885523818, 0.8432405250401475, 0.023423347917781872, 0.11711673958890936, 0.31271028530610867, 0.23453271397958153, 0.31271028530610867, 0.07817757132652717, 0.20875426222342924, 0.835017048893717, 0.18429756421855764, 0.7371902568742306, 0.18429756421855764, 0.6184298636448456, 0.3092149318224228, 0.7295482332109506, 0.9294003049948569, 0.7777987207330741, 0.8894308969384157, 0.7564655678199858, 0.951419319145449, 0.9440505093844374, 0.6156119811033891, 0.08794456872905558, 0.2638337061871667, 0.5850382933683533, 0.9593342176415506, 0.8092234596546514, 0.30297101882305166, 0.7574275470576292, 0.5070983982335037, 0.40567871858680293, 0.3456725205851013, 0.6913450411702026, 0.9730592242278892, 0.9353695976855516, 0.009544587731485222, 0.019089175462970443, 0.023861469328713053, 0.004772293865742611, 0.004772293865742611, 0.5828905628851556, 0.9361771863720697, 0.7778430515670532, 0.7564595970650191, 0.7992093029071041, 0.19028792926359622, 0.5850493858887118, 0.9882321547042849, 0.8279942731446199, 0.173173515674332, 0.86586757837166, 0.9637215470042876, 0.15273792455023, 0.15273792455023, 0.30547584910046, 0.45821377365069, 0.8265090541471319, 0.18366867869936265, 0.5274801784440969, 0.21719220525406918, 0.6515766157622076, 0.8362749119228434, 0.9513675924937, 0.008728143050400917, 0.03491257220160367, 0.008728143050400917, 0.008728143050400917, 0.701783128547874, 0.1349582939515142, 0.16194995274181706, 0.15544139305708188, 0.7253931675997154, 0.051813797685693955, 0.051813797685693955, 0.8203275789962019, 0.18723034625927723, 0.18723034625927723, 0.18723034625927723, 0.37446069251855446, 0.6914307627022336, 0.21451497988670284, 0.8580599195468114, 0.8625292795283278, 0.04461358342387903, 0.08922716684775805, 0.014871194474626342, 0.20402023334843175, 0.6800674444947725, 0.227845288820265, 0.683535866460795, 0.893992743762448, 0.05001358007062646, 0.012503395017656614, 0.018755092526484923, 0.02500679003531323, 0.9723764634260036, 0.1520935443118538, 0.3041870886237076, 0.5069784810395127, 0.05069784810395127, 0.5349901577470899, 0.9001786331067015, 0.0600119088737801, 0.03429251935644577, 0.16751149363251286, 0.7538017213463079, 0.08375574681625643, 0.9558656182112856, 0.16064883731265234, 0.6425953492506093, 0.16064883731265234, 0.03212976746253046, 0.03212976746253046, 0.8642108482329377, 0.00375743847057799, 0.10520827717618372, 0.01127231541173397, 0.01127231541173397, 0.24538286152202396, 0.6134571538050598, 0.12269143076101198, 0.7778050599255576, 0.9456901261201625, 0.03723189472914026, 0.0074463789458280505, 0.0074463789458280505, 0.3352150970232726, 0.5139964821023514, 0.13408603880930905, 0.02234767313488484, 0.02234767313488484, 0.5276006658888939, 0.4825021846191547, 0.09650043692383094, 0.2895013107714928, 0.09650043692383094, 0.3869225906650264, 0.24182661916564147, 0.3385572668318981, 0.9745129335908318, 0.3490832869070633, 0.6981665738141266, 0.9725977394622849, 0.9499775576986078, 0.9711772121530552, 0.01471480624474326, 0.01471480624474326, 0.7780033824868732, 0.9557979856523094, 0.3937560030310897, 0.5906340045466345, 0.39291117145265364, 0.7858223429053073, 0.7564611575615807, 0.7632274216191282, 0.21373326261793102, 0.5597775925707718, 0.11195551851415435, 0.09159996969339901, 0.010177774410377668, 0.010177774410377668, 0.14971048210595583, 0.823407651582757, 0.36580280887736366, 0.5487042133160455, 0.04572535110967046, 0.5364229451183071, 0.9469613175700808, 0.6963563244164971, 0.1779300989841404, 0.7117203959365616, 0.0889650494920702, 0.5362453580151149, 0.527475784403081, 0.24278889718864255, 0.4046481619810709, 0.16185926479242838, 0.16185926479242838, 0.6933169742376336, 0.1155528290396056, 0.12380660254243459, 0.03301509401131589, 0.024761320508486916, 0.008253773502828972, 0.05967472242338023, 0.8951208363507035, 0.10392092252220304, 0.10392092252220304, 0.10392092252220304, 0.7274464576554213, 0.36184530276611826, 0.6250055229596588, 0.03289502752419257, 0.585244194220137, 0.7735943251919377, 0.06876394001706113, 0.03438197000853056, 0.06876394001706113, 0.03438197000853056, 0.025786477506397922, 0.7564596592339118, 0.5852028991340507, 0.830054641664555, 0.023057073379570973, 0.023057073379570973, 0.13834244027742584, 0.999226984133645, 0.43827313937598406, 0.8625670668382313, 0.8889753541665977, 0.9051365856103554, 0.03620546342441421, 0.012068487808138071, 0.024136975616276143, 0.024136975616276143, 0.012068487808138071, 0.5615414215596055, 0.14038535538990138, 0.2105780330848521, 0.7059490638458814, 0.1245792465610379, 0.08305283104069193, 0.020763207760172982, 0.08305283104069193, 0.9886559505393734, 0.852694096910778, 0.8017055851860458, 0.11452936931229227, 0.08907839835400509, 0.012725485479143584, 0.8931475143957889, 0.0372144797664912, 0.0372144797664912, 0.01594906275706766, 0.01594906275706766, 0.6042086607803825, 0.36712880981100465, 0.18356440490550233, 0.36712880981100465, 0.7564600474225049, 0.5743526973909077, 0.06153778900616867, 0.26666375236006423, 0.041025192670779115, 0.06153778900616867, 0.5420475212483307, 0.27102376062416533, 0.1548707203566659, 0.01935884004458324, 0.01935884004458324, 0.9640021335194959, 0.8381890786357244, 0.019956882824660106, 0.1496766211849508, 0.095212307042615, 0.8807138401441887, 0.8252226611224182, 0.05501484407482788, 0.11002968814965576, 0.9504211432077343, 0.7379303358003118, 0.05983218938921447, 0.019944063129738156, 0.11966437877842893, 0.05983218938921447, 0.0991056776238254, 0.8919510986144286, 0.11107240825524065, 0.49982583714858286, 0.05553620412762032, 0.05553620412762032, 0.2221448165104813, 0.05553620412762032, 0.11318888752624325, 0.07545925835082883, 0.7923222126837027, 0.5363488981661384, 0.9451170312871685, 0.01890234062574337, 0.01890234062574337, 0.37030608666096093, 0.4628826083262012, 0.09257652166524023, 0.8051617044152748, 0.6042289057469337, 0.723912374237531, 0.9362435802267964, 0.9499553794034389, 0.8680337350738977, 0.9960053067305352, 0.8808961297827839, 0.8594735430987026, 0.777864180584733, 0.7564595614545598, 0.2942439231611, 0.2942439231611, 0.41194149242553996, 0.6028290586487025, 0.1205658117297405, 0.0401886039099135, 0.2009430195495675, 0.0401886039099135, 0.07311820640825666, 0.8043002704908233, 0.07311820640825666, 0.5349166704641135, 0.4137295561115731, 0.10343238902789327, 0.10343238902789327, 0.3102971670836798, 0.9593101461136465, 0.01915138222731418, 0.00696413899175061, 0.003482069495875305, 0.008705173739688262, 0.0017410347479376526, 0.0017410347479376526, 0.5312422405859595, 0.06640528007324493, 0.13281056014648987, 0.26562112029297974, 0.9401357266055066, 0.04178381007135585, 0.01392793669045195, 0.805437614613088, 0.13423960243551467, 0.9295855864234458, 0.014084630097324935, 0.014084630097324935, 0.014084630097324935, 0.014084630097324935, 0.9187500365073207, 0.07205882639273103, 0.006004902199394252, 0.5200372768816683, 0.12552623924729925, 0.21518783870965585, 0.07172927956988528, 0.053796959677413964, 0.9506894134357011, 0.7777455673663413, 0.5275742018681674, 0.6894713845639906, 0.05745594871366588, 0.22982379485466353, 0.011491189742733178, 0.7631204132417091, 0.056949284570276794, 0.09111885531244288, 0.07972899839838751, 0.08058574318057204, 0.08058574318057204, 0.08058574318057204, 0.48351445908343227, 0.3223429727222882, 0.9255203319922293, 0.05932822640975829, 0.011865645281951658, 0.5442523260658436, 0.1814174420219479, 0.2116536823589392, 0.030236240336991314, 0.06047248067398263, 0.8787140678314241, 0.11461487841279445, 0.9499901682984205, 0.8676657070616116, 0.04918739835950179, 0.003934991868760143, 0.029512439015701074, 0.02360995121256086, 0.027544943081321004, 0.09687301221041114, 0.678111085472878, 0.19374602442082228, 0.1964915858231034, 0.5894747574693101, 0.5275244871879387, 0.9246002631199761, 0.49026987489277785, 0.40541547346902784, 0.009428266824861113, 0.056569600949166673, 0.03771306729944445, 0.2478995406792744, 0.4957990813585488, 0.953803129741835, 0.9361590442299605, 0.3085414512756531, 0.6170829025513062, 0.9556425667687446, 0.9469592738366686, 0.585038015003211, 0.7522391988827367, 0.06838538171661243, 0.18236101791096648, 0.8808457377217167, 0.9821810876361591, 0.036377077319857745, 0.1640567849621824, 0.692684203173659, 0.07291412664985884, 0.05468559498739413, 0.4141459419169432, 0.4141459419169432, 0.2070729709584716, 0.9649010990356778, 0.5274692374349795, 0.9584451914319126, 0.7564593140938181, 0.4184638925915033, 0.523079865739379, 0.9519278487201067, 0.8783442795409564, 0.050350945960946546, 0.0055945495512162826, 0.011189099102432565, 0.050350945960946546, 0.9464403892242259, 0.7775138857829511, 0.11961752088968479, 0.029904380222421197, 0.07476095055605299, 0.017695779523022134, 0.9378763147201731, 0.017695779523022134, 0.0265436692845332, 0.008847889761511067, 0.8567478493644246, 0.0778861681240386, 0.0778861681240386, 0.8989994935004979, 0.05689870212028468, 0.005689870212028468, 0.039829091484199275, 0.6914478583151268, 0.16932714838327956, 0.16932714838327956, 0.6773085935331182, 0.6042836834743236, 0.35823498249496566, 0.20800740919062521, 0.09244773741805565, 0.1848954748361113, 0.16178354048159738, 0.7367437230165865, 0.08566787476937052, 0.03426714990774821, 0.06853429981549641, 0.08566787476937052, 0.6914319311270817, 0.3421273335125733, 0.6842546670251466, 0.8358605604070615, 0.06191559706718974, 0.015478899266797436, 0.015478899266797436, 0.015478899266797436, 0.04643669780039231, 0.21284132900382818, 0.21284132900382818, 0.6385239870114845, 0.8866511246412876, 0.9298593016046278, 0.054697605976742815, 0.7861308221339306, 0.06551090184449422, 0.19653270553348265, 0.1460816303112063, 0.2921632606224126, 0.4382448909336189, 0.07304081515560315, 0.9204953227045625, 0.9748582832842974, 0.23943835470965652, 0.1596255698064377, 0.5586894943225319, 0.9541803424746048, 0.17601428150142037, 0.7040571260056815, 0.17601428150142037, 0.7564594790009612, 0.7564596669665001, 0.29744541268126423, 0.29744541268126423, 0.5948908253625285, 0.7704528828669122, 0.0987760106239631, 0.11853121274875572, 0.5275327818286654, 0.6914510705762734, 0.7564864221824026, 0.85219727379077, 0.69142695193961, 0.5547602694716552, 0.39625733533689655, 0.026417155689126438, 0.026417155689126438, 0.9229416726983857, 0.2861266754977045, 0.572253350995409, 0.3060826342142972, 0.6121652684285944, 0.7777550669673347, 0.9593115939148047, 0.9786852945726652, 0.015056696839579463, 0.9517700542971449, 0.8680262363701018, 0.21159228173913122, 0.18136481291925535, 0.5743219075776419, 0.03022746881987589, 0.11588943494233193, 0.8691707620674896, 0.2511547082624513, 0.7534641247873538, 0.7564653337631115, 0.8203214795381375, 0.9850358354233143, 0.9227947665002217, 0.045235037573540283, 0.02714102254412417, 0.009047007514708057, 0.9391270693608608, 0.46423772195320995, 0.46423772195320995, 0.11605943048830249, 0.19958333326905645, 0.09979166663452822, 0.09979166663452822, 0.5987499998071694, 0.8680167532463017, 0.6042051206519147, 0.3024656667360954, 0.5224406970896193, 0.10998751517676195, 0.05499375758838097, 0.1430316047994784, 0.26563012319903134, 0.020433086399925488, 0.020433086399925488, 0.5721264191979136, 0.9502466318239001, 0.9426582681792988, 0.9734201483400949, 0.22171232636750052, 0.8868493054700021, 0.7777869522312314, 0.7622575859053777, 0.11116256461120091, 0.11116256461120091, 0.0158803663730287, 0.7490881822049036, 0.9468828706311, 0.03864828043392245, 0.019324140216961223, 0.8203218040403959, 0.2671553171199545, 0.6411727610878908, 0.0534310634239909, 0.9214163216883293, 0.03839234673701372, 0.03839234673701372, 0.9624051074070714, 0.7630821414529009, 0.763414292951615, 0.7158124981899838, 0.028632499927599354, 0.25769249934839417, 0.028632499927599354, 0.6852495751903721, 0.2770157857152568, 0.043739334586619494, 0.8529909619960577, 0.9615273379517132, 0.03101701090166817, 0.9343020340918647, 0.7632522854194146, 0.7777506496039694, 0.9881085814610476, 0.28548730168382547, 0.5709746033676509, 0.2256408168510471, 0.6769224505531413, 0.6964759541929885, 0.7324842122431113, 0.22314088584889485, 0.029105332936812372, 0.014552666468406186, 0.889439910710863, 0.5850381073841135, 0.14856993363814075, 0.8418962906161309, 0.973065639492659, 0.0076020753085363985, 0.0076020753085363985, 0.0076020753085363985, 0.9289033675401609, 0.06562904227185919, 0.005048387867066091, 0.9863470515377832, 0.3361705366676998, 0.6723410733353996, 0.944120945174219, 0.311286438739426, 0.311286438739426, 0.311286438739426, 0.8849828943795195, 0.007313908218012558, 0.018284770545031394, 0.06582517396211303, 0.010970862327018837, 0.010970862327018837, 0.7564595614545598, 0.9341775749082747, 0.8590932955252026, 0.040269998227743874, 0.08053999645548775, 0.6914060684221316, 0.9635132259699098, 0.020500281403615105, 0.020500281403615105, 0.69145142927042, 0.691429475422675, 0.8680514228059236, 0.974609064065231, 0.03609663200241596, 0.7227175764122988, 0.15711251661136932, 0.010474167774091287, 0.10474167774091288, 0.5064923609664046, 0.5064923609664046, 0.7987624118796071, 0.15750244741288025, 0.0337505244456172, 0.9254023815742405, 0.783054435930032, 0.097881804491254, 0.097881804491254, 0.7778098464360869, 0.7564559749262169, 0.33007876642449, 0.66015753284898, 0.3537255614020287, 0.7074511228040574, 0.8051653643723604, 0.691447766619657, 0.32044723953094395, 0.6408944790618879, 0.8924817307819107, 0.039374194005084295, 0.0131247313350281, 0.0131247313350281, 0.0262494626700562, 0.8198951780482256, 0.0424083712783565, 0.028272247518904333, 0.09895286631616516, 0.8526942989703766, 0.7573721737546474, 0.25245739125154915, 0.4622809202105348, 0.03556007078542575, 0.3911607786396833, 0.03556007078542575, 0.0711201415708515, 0.8982561882952327, 0.09078121051919905, 0.004777958448378897, 0.004777958448378897, 0.40697818256654156, 0.5426375767553887, 0.9880053859749311, 0.6913940379206716, 0.06186335446876636, 0.9279503170314954, 1.0114022526202222, 0.9564779169497353, 0.8525825429914118, 0.7526073582698941, 0.10380791148550264, 0.1297598893568783, 0.777762352840009, 0.3686498509027513, 0.21065705765871506, 0.3686498509027513, 0.6034050333672529, 0.30170251668362646, 0.9318381471864671, 0.012764906125842015, 0.038294718377526044, 0.012764906125842015, 0.3166218885131438, 0.13037371879952983, 0.018624816971361403, 0.46562042428403505, 0.05587445091408421, 0.9046187397505254, 0.07781666578499144, 0.00972708322312393, 0.9358728058313361, 0.7591235299464937, 0.10258426080358023, 0.14361796512501232, 0.11452456754170928, 0.3435737026251279, 0.11452456754170928, 0.22904913508341856, 0.22904913508341856, 0.955785673849006, 0.19355806212569301, 0.7097128944608744, 0.06451935404189767, 0.5274447750352353, 0.8099722984424759], \"Term\": [\"able\", \"able\", \"adams\", \"addiction\", \"afraid\", \"aight\", \"algo\", \"alive\", \"alive\", \"alive\", \"alive\", \"annie\", \"answer\", \"answer\", \"answer\", \"asleep\", \"ass\", \"ass\", \"awful\", \"ay\", \"aye\", \"aye\", \"babe\", \"babe\", \"babe\", \"baby\", \"baby\", \"baby\", \"baby\", \"baila\", \"bajo\", \"baller\", \"beautiful\", \"beautiful\", \"beautiful\", \"beer\", \"beer\", \"believe\", \"believe\", \"believe\", \"bell\", \"bell\", \"bell\", \"belong\", \"belong\", \"bet\", \"bet\", \"bet\", \"bet\", \"bet\", \"big\", \"big\", \"big\", \"bike\", \"bind\", \"bind\", \"bind\", \"bind\", \"bind\", \"bind\", \"bit\", \"bit\", \"bitch\", \"bitch\", \"bitch\", \"black\", \"black\", \"black\", \"black\", \"blade\", \"blade\", \"blade\", \"bloodstain\", \"boat\", \"body\", \"body\", \"body\", \"body\", \"boil\", \"bottle\", \"bottle\", \"boy\", \"boy\", \"boy\", \"boy\", \"boy\", \"boy\", \"brake\", \"branch\", \"branch\", \"break\", \"break\", \"break\", \"break\", \"breathe\", \"breathe\", \"breathe\", \"broke\", \"broke\", \"bubble\", \"bubble\", \"buildin\", \"business\", \"business\", \"case\", \"case\", \"cash\", \"cash\", \"cause\", \"cause\", \"cause\", \"cause\", \"cause\", \"ceilin\", \"ceiling\", \"cena\", \"charge\", \"charge\", \"charge\", \"child\", \"child\", \"child\", \"christmas\", \"christmas\", \"cindy\", \"close\", \"close\", \"close\", \"club\", \"club\", \"club\", \"club\", \"coca\", \"coca\", \"cola\", \"cola\", \"cola\", \"comeback\", \"comeback\", \"confess\", \"constant\", \"consume\", \"cop\", \"corpse\", \"crank\", \"crawl\", \"crime\", \"crime\", \"crime\", \"cuerpo\", \"cute\", \"dam\", \"dangerous\", \"dangerous\", \"darling\", \"darling\", \"dat\", \"dat\", \"dawn\", \"day\", \"day\", \"day\", \"day\", \"day\", \"day\", \"de\", \"dee\", \"defend\", \"dejo\", \"dey\", \"dey\", \"dial\", \"difficult\", \"dirty\", \"distance\", \"distance\", \"dive\", \"doin'\", \"doin'\", \"doin'\", \"doin'\", \"doo\", \"doo\", \"dose\", \"double\", \"double\", \"dough\", \"dream\", \"dream\", \"dream\", \"dream\", \"dream\", \"drive\", \"drive\", \"drive\", \"drop\", \"drop\", \"drop\", \"drop\", \"du\", \"e\", \"e\", \"e\", \"e\", \"e.\", \"ecstasy\", \"ecstasy\", \"end\", \"end\", \"end\", \"end\", \"enemy\", \"enemy\", \"european\", \"european\", \"eye\", \"eye\", \"eye\", \"eye\", \"eye\", \"eyed\", \"fail\", \"fail\", \"fail\", \"fail\", \"fairy\", \"fall\", \"fall\", \"fall\", \"fantasy\", \"fantasy\", \"fantasy\", \"favourite\", \"fear\", \"fear\", \"fear\", \"fear\", \"fear\", \"feel\", \"feel\", \"feel\", \"feel\", \"feel\", \"feelin\", \"feelin\", \"feelin\", \"fiery\", \"find\", \"find\", \"find\", \"find\", \"fine\", \"fine\", \"fine\", \"fine\", \"fine\", \"fingerprint\", \"flame\", \"flame\", \"flame\", \"flame\", \"flow\", \"flow\", \"flow\", \"flower\", \"flyer\", \"flyer\", \"follow\", \"force\", \"forget\", \"forget\", \"forget\", \"fountain\", \"fox\", \"freedom\", \"freedom\", \"friday\", \"friday\", \"frost\", \"fry\", \"fuck\", \"fuck\", \"fuck\", \"fuck\", \"fuck\", \"fuck\", \"fuckin\", \"fuckin\", \"fucking\", \"fucking\", \"fucking\", \"fulfill\", \"future\", \"gal\", \"gangsta\", \"gangsta\", \"gangsta\", \"gentleman\", \"georgia\", \"gettin\", \"gettin\", \"gettin\", \"gettin\", \"girl\", \"girl\", \"girl\", \"girl\", \"girl\", \"girl\", \"glad\", \"glad\", \"glory\", \"glory\", \"glory\", \"glory\", \"goin'\", \"goin'\", \"goin'\", \"going\", \"good\", \"good\", \"good\", \"good\", \"good\", \"good\", \"grillin\", \"grind\", \"grow\", \"grow\", \"grow\", \"grow\", \"guess\", \"guilty\", \"gunshot\", \"hallelujah\", \"hand\", \"hand\", \"hand\", \"hand\", \"hand\", \"hand\", \"happy\", \"happy\", \"happy\", \"hard\", \"hard\", \"hard\", \"hard\", \"hard\", \"hater\", \"headache\", \"hear\", \"hear\", \"hear\", \"hear\", \"heart\", \"heart\", \"heart\", \"heart\", \"heart\", \"heartbreak\", \"heel\", \"heel\", \"heel\", \"hiding\", \"high\", \"high\", \"high\", \"high\", \"high\", \"hit\", \"hit\", \"hit\", \"hit\", \"hit\", \"hoe\", \"hold\", \"hold\", \"hold\", \"holy\", \"holy\", \"home\", \"home\", \"home\", \"honor\", \"hope\", \"hope\", \"hope\", \"hope\", \"hope\", \"horse\", \"horse\", \"hot\", \"hot\", \"hot\", \"hot\", \"hot\", \"hot\", \"house\", \"house\", \"house\", \"hunger\", \"hurt\", \"hurt\", \"hurt\", \"hustle\", \"hustle\", \"hustle\", \"issue\", \"itch\", \"ivy\", \"jail\", \"jeezy\", \"jigga\", \"jingle\", \"joan\", \"ju\", \"jubilee\", \"junto\", \"kick\", \"kick\", \"kick\", \"kid\", \"kid\", \"kid\", \"kid\", \"kid\", \"king\", \"king\", \"king\", \"knight\", \"knock\", \"knock\", \"knock\", \"knock\", \"know\", \"know\", \"know\", \"know\", \"know\", \"know\", \"know\", \"lead\", \"lead\", \"lead\", \"lead\", \"leave\", \"leave\", \"leave\", \"lick\", \"lick\", \"lie\", \"lie\", \"lie\", \"lie\", \"lie\", \"life\", \"life\", \"life\", \"like\", \"like\", \"like\", \"like\", \"like\", \"limit\", \"linen\", \"list\", \"little\", \"little\", \"little\", \"little\", \"live\", \"live\", \"live\", \"live\", \"lo\", \"lo\", \"lo\", \"lo\", \"lo\", \"look\", \"look\", \"look\", \"lord\", \"lord\", \"lord\", \"lord\", \"lord\", \"lose\", \"lose\", \"lounge\", \"love\", \"love\", \"love\", \"love\", \"love\", \"love\", \"m\", \"m\", \"m\", \"magazine\", \"magazine\", \"magnificent\", \"maiden\", \"man\", \"man\", \"man\", \"man\", \"man\", \"mate\", \"mate\", \"memory\", \"mexican\", \"mic\", \"mic\", \"milky\", \"mirror\", \"mis\", \"miss\", \"miss\", \"miss\", \"molly\", \"moment\", \"moment\", \"money\", \"money\", \"money\", \"money\", \"monster\", \"monster\", \"monster\", \"moon\", \"morphine\", \"motherfucking\", \"mueve\", \"nan\", \"nan\", \"nature\", \"need\", \"need\", \"need\", \"need\", \"need\", \"neon\", \"new\", \"new\", \"new\", \"new\", \"nigga\", \"nigga\", \"nigga\", \"nigga\", \"nigga\", \"niggas\", \"niggas\", \"niggas\", \"night\", \"night\", \"night\", \"night\", \"oprah\", \"ordinary\", \"ordinary\", \"ordinary\", \"pennsylvania\", \"people\", \"people\", \"people\", \"people\", \"people\", \"place\", \"place\", \"place\", \"place\", \"place\", \"plaid\", \"plant\", \"plant\", \"play\", \"play\", \"play\", \"play\", \"play\", \"play\", \"poison\", \"poison\", \"poison\", \"potato\", \"power\", \"power\", \"praise\", \"praise\", \"praise\", \"pressure\", \"pressure\", \"pressure\", \"pressure\", \"project\", \"promise\", \"prove\", \"prove\", \"prove\", \"pussy\", \"quarter\", \"quarter\", \"quarter\", \"quiero\", \"quilt\", \"r\", \"r\", \"r\", \"rain\", \"rain\", \"rain\", \"raincoat\", \"raisin\", \"rebuild\", \"reindeer\", \"relative\", \"remember\", \"remember\", \"remember\", \"remember\", \"remind\", \"reminisce\", \"reminisce\", \"rescue\", \"rescue\", \"rid\", \"riding\", \"right\", \"right\", \"road\", \"roc\", \"rock\", \"rock\", \"rock\", \"rock\", \"roller\", \"roller\", \"roof\", \"roof\", \"rot\", \"rudolph\", \"rum\", \"run\", \"run\", \"run\", \"run\", \"runaway\", \"s\", \"s\", \"s\", \"sail\", \"sail\", \"sail\", \"sail\", \"salgo\", \"shawty\", \"shit\", \"shit\", \"shit\", \"shit\", \"shoot\", \"shoot\", \"shoot\", \"shoot\", \"shoot\", \"shop\", \"sigel\", \"sight\", \"silent\", \"silent\", \"simba\", \"sing\", \"sing\", \"sing\", \"sing\", \"slave\", \"sleep\", \"sleep\", \"sleep\", \"sleigh\", \"son\", \"son\", \"son\", \"song\", \"song\", \"song\", \"sos\", \"spaceship\", \"spinning\", \"star\", \"star\", \"star\", \"star\", \"start\", \"start\", \"start\", \"steer\", \"sun\", \"sun\", \"sway\", \"swell\", \"swerve\", \"tame\", \"te\", \"te\", \"team\", \"team\", \"teenager\", \"tell\", \"tell\", \"tell\", \"tell\", \"temperature\", \"tengo\", \"thank\", \"thank\", \"thing\", \"thing\", \"thing\", \"thing\", \"think\", \"think\", \"think\", \"thought\", \"ti\", \"ti\", \"tick\", \"tide\", \"tide\", \"tide\", \"time\", \"time\", \"time\", \"time\", \"time\", \"time\", \"toca\", \"tock\", \"tonight\", \"tonight\", \"tonight\", \"torch\", \"touch\", \"touch\", \"touch\", \"treatin\", \"trey\", \"trinidad\", \"truth\", \"truth\", \"try\", \"try\", \"try\", \"try\", \"tu\", \"tu\", \"turn\", \"turn\", \"turn\", \"turnin\", \"u\", \"u\", \"u\", \"uncle\", \"underground\", \"undo\", \"undo\", \"unwind\", \"unwind\", \"ven\", \"versace\", \"vine\", \"vine\", \"wait\", \"wait\", \"wait\", \"wait\", \"wait\", \"walk\", \"walk\", \"walk\", \"walk\", \"warrior\", \"wash\", \"wash\", \"waste\", \"waste\", \"waste\", \"waste\", \"waste\", \"way\", \"way\", \"way\", \"way\", \"weekend\", \"weekend\", \"weigh\", \"welfare\", \"whine\", \"whine\", \"wi\", \"wine\", \"wire\", \"wish\", \"wish\", \"wish\", \"woh\", \"woman\", \"woman\", \"woman\", \"wonderful\", \"wonderful\", \"word\", \"word\", \"word\", \"word\", \"work\", \"work\", \"work\", \"work\", \"work\", \"world\", \"world\", \"world\", \"worth\", \"wrong\", \"wrong\", \"wrong\", \"y\", \"y\", \"y\", \"y\", \"y\", \"yeh\", \"yellow\", \"yellow\", \"yellow\", \"yore\", \"youth\"]}, \"R\": 30, \"lambda.step\": 0.01, \"plot.opts\": {\"xlab\": \"PC1\", \"ylab\": \"PC2\"}, \"topic.order\": [6, 1, 7, 4, 2, 3, 5]};\n\nfunction LDAvis_load_lib(url, callback){\n  var s = document.createElement('script');\n  s.src = url;\n  s.async = true;\n  s.onreadystatechange = s.onload = callback;\n  s.onerror = function(){console.warn(\"failed to load library \" + url);};\n  document.getElementsByTagName(\"head\")[0].appendChild(s);\n}\n\nif(typeof(LDAvis) !== \"undefined\"){\n   // already loaded: just create the visualization\n   !function(LDAvis){\n       new LDAvis(\"#\" + \"ldavis_el1502022463932773441648313364\", ldavis_el1502022463932773441648313364_data);\n   }(LDAvis);\n}else if(typeof define === \"function\" && define.amd){\n   // require.js is available: use it to load d3/LDAvis\n   require.config({paths: {d3: \"https://d3js.org/d3.v5\"}});\n   require([\"d3\"], function(d3){\n      window.d3 = d3;\n      LDAvis_load_lib(\"https://cdn.jsdelivr.net/gh/bmabey/pyLDAvis@3.3.1/pyLDAvis/js/ldavis.v3.0.0.js\", function(){\n        new LDAvis(\"#\" + \"ldavis_el1502022463932773441648313364\", ldavis_el1502022463932773441648313364_data);\n      });\n    });\n}else{\n    // require.js not available: dynamically load d3 & LDAvis\n    LDAvis_load_lib(\"https://d3js.org/d3.v5.js\", function(){\n         LDAvis_load_lib(\"https://cdn.jsdelivr.net/gh/bmabey/pyLDAvis@3.3.1/pyLDAvis/js/ldavis.v3.0.0.js\", function(){\n                 new LDAvis(\"#\" + \"ldavis_el1502022463932773441648313364\", ldavis_el1502022463932773441648313364_data);\n            })\n         });\n}\n</script>"
     },
     "execution_count": 15,
     "metadata": {},
     "output_type": "execute_result"
    }
   ],
   "source": [
    "pyLDAvis.enable_notebook()\n",
    "pyLDAvis.gensim_models.prepare(azlyrics_lda_model, azlyrics_corpus, azlyrics_id2word)"
   ],
   "metadata": {
    "collapsed": false,
    "pycharm": {
     "name": "#%%\n"
    }
   }
  },
  {
   "cell_type": "markdown",
   "source": [
    "## Calculate Topics for Lyrics"
   ],
   "metadata": {
    "collapsed": false
   }
  },
  {
   "cell_type": "markdown",
   "source": [
    "Topic interpreatation based on LDA visualisation."
   ],
   "metadata": {
    "collapsed": false
   }
  },
  {
   "cell_type": "code",
   "execution_count": 20,
   "outputs": [],
   "source": [
    "topic_names = {\n",
    "    0 : 'Love',\n",
    "    1 : 'Crime',\n",
    "    2 : 'Crime / Party',\n",
    "    3 : 'Christmas',\n",
    "    4 : '',\n",
    "    5 : '',\n",
    "    6 : '',\n",
    "    7 : '',\n",
    "    8 : '',\n",
    "    9 : '',\n",
    "}"
   ],
   "metadata": {
    "collapsed": false,
    "pycharm": {
     "name": "#%%\n"
    }
   }
  },
  {
   "cell_type": "code",
   "execution_count": 21,
   "outputs": [
    {
     "ename": "NameError",
     "evalue": "name 'lda_model' is not defined",
     "output_type": "error",
     "traceback": [
      "\u001B[1;31m---------------------------------------------------------------------------\u001B[0m",
      "\u001B[1;31mNameError\u001B[0m                                 Traceback (most recent call last)",
      "\u001B[1;32m~\\AppData\\Local\\Temp/ipykernel_8724/4180610817.py\u001B[0m in \u001B[0;36m<module>\u001B[1;34m\u001B[0m\n\u001B[1;32m----> 1\u001B[1;33m \u001B[1;32mdef\u001B[0m \u001B[0mget_topics\u001B[0m\u001B[1;33m(\u001B[0m\u001B[0mindex\u001B[0m\u001B[1;33m,\u001B[0m \u001B[0mlda_corpus\u001B[0m \u001B[1;33m=\u001B[0m \u001B[0mlda_model\u001B[0m\u001B[1;33m[\u001B[0m\u001B[0mcorpus\u001B[0m\u001B[1;33m]\u001B[0m\u001B[1;33m)\u001B[0m\u001B[1;33m:\u001B[0m\u001B[1;33m\u001B[0m\u001B[1;33m\u001B[0m\u001B[0m\n\u001B[0m\u001B[0;32m      2\u001B[0m     \u001B[0mtopics\u001B[0m \u001B[1;33m=\u001B[0m \u001B[1;33m{\u001B[0m\u001B[1;33m}\u001B[0m\u001B[1;33m\u001B[0m\u001B[1;33m\u001B[0m\u001B[0m\n\u001B[0;32m      3\u001B[0m     \u001B[1;32mfor\u001B[0m \u001B[0mlda_tuple\u001B[0m \u001B[1;32min\u001B[0m \u001B[0mlda_corpus\u001B[0m\u001B[1;33m[\u001B[0m\u001B[0mindex\u001B[0m\u001B[1;33m]\u001B[0m\u001B[1;33m:\u001B[0m\u001B[1;33m\u001B[0m\u001B[1;33m\u001B[0m\u001B[0m\n\u001B[0;32m      4\u001B[0m         \u001B[0mtopics\u001B[0m\u001B[1;33m[\u001B[0m\u001B[0mlda_tuple\u001B[0m\u001B[1;33m[\u001B[0m\u001B[1;36m0\u001B[0m\u001B[1;33m]\u001B[0m\u001B[1;33m]\u001B[0m \u001B[1;33m=\u001B[0m \u001B[0mlda_tuple\u001B[0m\u001B[1;33m[\u001B[0m\u001B[1;36m1\u001B[0m\u001B[1;33m]\u001B[0m\u001B[1;33m\u001B[0m\u001B[1;33m\u001B[0m\u001B[0m\n\u001B[0;32m      5\u001B[0m     \u001B[1;32mreturn\u001B[0m \u001B[0mdict\u001B[0m\u001B[1;33m(\u001B[0m\u001B[0msorted\u001B[0m\u001B[1;33m(\u001B[0m\u001B[0mtopics\u001B[0m\u001B[1;33m.\u001B[0m\u001B[0mitems\u001B[0m\u001B[1;33m(\u001B[0m\u001B[1;33m)\u001B[0m\u001B[1;33m,\u001B[0m \u001B[0mkey\u001B[0m\u001B[1;33m=\u001B[0m\u001B[1;32mlambda\u001B[0m \u001B[0mitem\u001B[0m\u001B[1;33m:\u001B[0m \u001B[0mitem\u001B[0m\u001B[1;33m[\u001B[0m\u001B[1;36m1\u001B[0m\u001B[1;33m]\u001B[0m\u001B[1;33m,\u001B[0m \u001B[0mreverse\u001B[0m\u001B[1;33m=\u001B[0m\u001B[1;32mTrue\u001B[0m\u001B[1;33m)\u001B[0m\u001B[1;33m)\u001B[0m\u001B[1;33m\u001B[0m\u001B[1;33m\u001B[0m\u001B[0m\n",
      "\u001B[1;31mNameError\u001B[0m: name 'lda_model' is not defined"
     ]
    }
   ],
   "source": [
    "def get_topics(index, lda_corpus = lda_model[corpus]):\n",
    "    topics = {}\n",
    "    for lda_tuple in lda_corpus[index]:\n",
    "        topics[lda_tuple[0]] = lda_tuple[1]\n",
    "    return dict(sorted(topics.items(), key=lambda item: item[1], reverse=True))"
   ],
   "metadata": {
    "collapsed": false,
    "pycharm": {
     "name": "#%%\n"
    }
   }
  },
  {
   "cell_type": "code",
   "execution_count": null,
   "outputs": [],
   "source": [
    "def get_topics_str(topics):\n",
    "    return [topic_names[topic] for topic in topics.keys()]"
   ],
   "metadata": {
    "collapsed": false,
    "pycharm": {
     "name": "#%%\n"
    }
   }
  },
  {
   "cell_type": "code",
   "execution_count": null,
   "outputs": [],
   "source": [
    "lyrics['topics'] = [get_topics(i) for i in range(0, len(lyrics))]\n",
    "lyrics['top_topic'] = lyrics['topics'].apply(lambda topic: list(topic.keys())[0])\n",
    "# lyrics['topics_str'] = lyrics['topics'].apply(lambda topics: [topic_names[topic] for topic in topics.keys()])\n",
    "# lyrics['top_topic_str'] = lyrics['top_topic'].apply(lambda topic: topic_names[topic])\n",
    "# lyrics[['topics', 'topics_str', 'top_topic', 'top_topic_str']]\n",
    "lyrics[['topics', 'top_topic']]"
   ],
   "metadata": {
    "collapsed": false,
    "pycharm": {
     "name": "#%%\n"
    }
   }
  },
  {
   "cell_type": "code",
   "execution_count": null,
   "outputs": [],
   "source": [
    "# lyrics_topics = lyrics[\n",
    "#     ['billboard_id', 'lyrics_id', 'artist', 'song', 'weeks_on_chart', 'peak_rank', 'lyrics', 'url', 'first_appearance',\n",
    "#      'release_date', 'topics', 'top_topic', 'top_topic_str', 'topics_str']]\n",
    "lyrics_topics = lyrics[\n",
    "    ['billboard_id', 'lyrics_id', 'artist', 'song', 'weeks_on_chart', 'peak_rank', 'lyrics', 'url', 'first_appearance',\n",
    "     'release_date', 'topics', 'top_topic']]\n",
    "lyrics_topics.to_excel('../../data/topic_modeling/bb_t100_sentiment.xlsx')"
   ],
   "metadata": {
    "collapsed": false,
    "pycharm": {
     "name": "#%%\n"
    }
   }
  }
 ],
 "metadata": {
  "kernelspec": {
   "name": "python3",
   "language": "python",
   "display_name": "Python 3"
  },
  "language_info": {
   "codemirror_mode": {
    "name": "ipython",
    "version": 3
   },
   "file_extension": ".py",
   "mimetype": "text/x-python",
   "name": "python",
   "nbconvert_exporter": "python",
   "pygments_lexer": "ipython3",
   "version": "3.8.6"
  }
 },
 "nbformat": 4,
 "nbformat_minor": 1
}